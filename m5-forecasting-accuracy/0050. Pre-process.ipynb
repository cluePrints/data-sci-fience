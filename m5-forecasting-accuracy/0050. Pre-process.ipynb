{
 "cells": [
  {
   "cell_type": "code",
   "execution_count": 1,
   "metadata": {},
   "outputs": [],
   "source": [
    "%load_ext autoreload\n",
    "%autoreload 2\n",
    "%matplotlib inline"
   ]
  },
  {
   "cell_type": "code",
   "execution_count": 2,
   "metadata": {},
   "outputs": [],
   "source": [
    "raw = 'raw'\n",
    "processed = 'processed'\n",
    "cache = 'cache'"
   ]
  },
  {
   "cell_type": "code",
   "execution_count": 3,
   "metadata": {},
   "outputs": [],
   "source": [
    "!mkdir -p {processed}"
   ]
  },
  {
   "cell_type": "code",
   "execution_count": null,
   "metadata": {},
   "outputs": [],
   "source": [
    "!mkdir -p {cache}"
   ]
  },
  {
   "cell_type": "code",
   "execution_count": 17,
   "metadata": {},
   "outputs": [],
   "source": [
    "import pandas as pd\n",
    "from IPython.display import display\n",
    "def no_display(val):\n",
    "    pass"
   ]
  },
  {
   "cell_type": "code",
   "execution_count": 26,
   "metadata": {},
   "outputs": [
    {
     "data": {
      "text/plain": [
       "['id', 'item_id', 'dept_id', 'cat_id', 'store_id', 'state_id']"
      ]
     },
     "metadata": {},
     "output_type": "display_data"
    },
    {
     "data": {
      "text/plain": [
       "['d_1', 'd_1913']"
      ]
     },
     "metadata": {},
     "output_type": "display_data"
    },
    {
     "data": {
      "text/plain": [
       "['item_id', 'dept_id', 'cat_id', 'store_id', 'state_id']"
      ]
     },
     "metadata": {},
     "output_type": "display_data"
    },
    {
     "name": "stdout",
     "output_type": "stream",
     "text": [
      "<class 'pandas.core.frame.DataFrame'>\n",
      "RangeIndex: 30490 entries, 0 to 30489\n",
      "Columns: 1919 entries, id to d_1913\n",
      "dtypes: int64(1913), object(6)\n",
      "memory usage: 446.4+ MB\n"
     ]
    },
    {
     "data": {
      "text/plain": [
       "None"
      ]
     },
     "metadata": {},
     "output_type": "display_data"
    },
    {
     "name": "stdout",
     "output_type": "stream",
     "text": [
      "<class 'pandas.core.frame.DataFrame'>\n",
      "RangeIndex: 58327370 entries, 0 to 58327369\n",
      "Data columns (total 8 columns):\n",
      "id          category\n",
      "item_id     category\n",
      "dept_id     category\n",
      "cat_id      category\n",
      "store_id    category\n",
      "state_id    category\n",
      "day_id      object\n",
      "sales       int64\n",
      "dtypes: category(6), int64(1), object(1)\n",
      "memory usage: 1.3+ GB\n"
     ]
    },
    {
     "data": {
      "text/plain": [
       "None"
      ]
     },
     "metadata": {},
     "output_type": "display_data"
    },
    {
     "name": "stdout",
     "output_type": "stream",
     "text": [
      "CPU times: user 46.4 s, sys: 10.3 s, total: 56.7 s\n",
      "Wall time: 58.2 s\n"
     ]
    }
   ],
   "source": [
    "%%time\n",
    "def sales_train_melt(display = no_display):\n",
    "    df_sales_train = pd.read_csv(f\"{raw}/sales_train_validation.csv\", nrows=1)\n",
    "\n",
    "    id_columns = [col for col in df_sales_train.columns if 'id' in col]\n",
    "    display(id_columns)\n",
    "\n",
    "    sales_columns = [col for col in df_sales_train.columns if 'd_' in col]\n",
    "    display([sales_columns[0], sales_columns[-1]])\n",
    "\n",
    "    cat_columns = [col for col in id_columns if col != 'id']\n",
    "    display(cat_columns)\n",
    "\n",
    "    \"\"\"\n",
    "    # No dtype: <class 'pandas.core.frame.DataFrame'>\n",
    "    RangeIndex: 30490 entries, 0 to 30489\n",
    "    Columns: 1919 entries, id to d_1913\n",
    "    dtypes: int64(1913), object(6)\n",
    "    memory usage: 446.4+ MB\n",
    "    CPU times: user 5.77 s, sys: 677 ms, total: 6.44 s\n",
    "    Wall time: 6.61 s\n",
    "\n",
    "    # With dtype:\n",
    "    <class 'pandas.core.frame.DataFrame'>\n",
    "    RangeIndex: 30490 entries, 0 to 30489\n",
    "    Columns: 1919 entries, id to d_1913\n",
    "    dtypes: category(6), int64(1913)\n",
    "    memory usage: 446.8 MB\n",
    "    CPU times: user 5.42 s, sys: 507 ms, total: 5.93 s\n",
    "    Wall time: 5.96 s\"\"\"\n",
    "    df_sales_train = pd.read_csv(f\"{raw}/sales_train_validation.csv\")\n",
    "    display(df_sales_train.info())\n",
    "\n",
    "    \"\"\"\n",
    "    # No dtype on input:\n",
    "    CPU times: user 9.88 s, sys: 2.07 s, total: 11.9 s\n",
    "    Wall time: 12 s\n",
    "\n",
    "    # dtype on input (even after restarting the kernel :/)\n",
    "    CPU times: user 2min 32s, sys: 8.3 s, total: 2min 40s\n",
    "    Wall time: 2min 42s\n",
    "\n",
    "    Note to self: applying categories on top of un-dtyped is mucho fastor overalle\n",
    "\n",
    "    \"\"\"\n",
    "    df_sales_train_melt = df_sales_train.melt(\n",
    "        id_vars=id_columns,\n",
    "        var_name='day_id',\n",
    "        value_name='sales'\n",
    "    )\n",
    "\n",
    "    \"\"\"\n",
    "    for col in id_columns:\n",
    "        df_sales_train_melt[col] = df_sales_train_melt[col].astype('category')\n",
    "    CPU times: user 28.7 s, sys: 6.33 s, total: 35 s\n",
    "    Wall time: 35.3 s\n",
    "    \"\"\"\n",
    "    for col in id_columns:\n",
    "        df_sales_train_melt[col] = df_sales_train_melt[col].astype('category')\n",
    "\n",
    "    \"\"\"\n",
    "    # No dtype on input: \n",
    "    <class 'pandas.core.frame.DataFrame'>\n",
    "    RangeIndex: 58327370 entries, 0 to 58327369\n",
    "    Data columns (total 8 columns):\n",
    "    id          object\n",
    "    item_id     object\n",
    "    dept_id     object\n",
    "    cat_id      object\n",
    "    store_id    object\n",
    "    state_id    object\n",
    "    day_id      object\n",
    "    sales       int64\n",
    "    dtypes: int64(1), object(7)\n",
    "    memory usage: 3.5+ GB\n",
    "    \"\"\"\n",
    "    display(df_sales_train_melt.info())\n",
    "\n",
    "    # Note to self: dropping derivable id strings doesn't seem to buy much mem\n",
    "    \"\"\"<class 'pandas.core.frame.DataFrame'>\n",
    "    RangeIndex: 58327370 entries, 0 to 58327369\n",
    "    Data columns (total 7 columns):\n",
    "    item_id     category\n",
    "    dept_id     category\n",
    "    cat_id      category\n",
    "    store_id    category\n",
    "    state_id    category\n",
    "    day_id      object\n",
    "    sales       int64\n",
    "    dtypes: category(5), int64(1), object(1)\n",
    "    memory usage: 1.2+ GB                    (vs 1.3G)\n",
    "    display(df_sales_train_melt.drop('id', axis=1).info())\n",
    "    \"\"\"\n",
    "    return df_sales_train_melt\n",
    "\n",
    "df_sales_train_melt = sales_train_melt(display=display)"
   ]
  },
  {
   "cell_type": "code",
   "execution_count": 28,
   "metadata": {},
   "outputs": [
    {
     "name": "stdout",
     "output_type": "stream",
     "text": [
      "CPU times: user 3min 55s, sys: 11.1 s, total: 4min 6s\n",
      "Wall time: 4min 18s\n"
     ]
    }
   ],
   "source": [
    "%%time\n",
    "\"\"\"\n",
    "CPU times: user 3min 55s, sys: 11.1 s, total: 4min 6s\n",
    "Wall time: 4min 18s\n",
    "\n",
    "Note to self: saving melt stuff back is more expensive than reading / processing it from scratch o_O \"\"\"\n",
    "df_sales_train_melt.to_csv(f'{processed}/sales_train_melt.csv', index=False)"
   ]
  },
  {
   "cell_type": "code",
   "execution_count": 29,
   "metadata": {},
   "outputs": [
    {
     "name": "stdout",
     "output_type": "stream",
     "text": [
      "sales_train_melt.csv\r\n"
     ]
    }
   ],
   "source": [
    "!ls processed"
   ]
  },
  {
   "cell_type": "code",
   "execution_count": null,
   "metadata": {},
   "outputs": [],
   "source": []
  }
 ],
 "metadata": {
  "kernelspec": {
   "display_name": "Python 3",
   "language": "python",
   "name": "python3"
  },
  "language_info": {
   "codemirror_mode": {
    "name": "ipython",
    "version": 3
   },
   "file_extension": ".py",
   "mimetype": "text/x-python",
   "name": "python",
   "nbconvert_exporter": "python",
   "pygments_lexer": "ipython3",
   "version": "3.7.6"
  }
 },
 "nbformat": 4,
 "nbformat_minor": 2
}
