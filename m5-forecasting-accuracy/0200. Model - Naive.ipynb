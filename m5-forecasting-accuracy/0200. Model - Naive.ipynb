{
 "cells": [
  {
   "cell_type": "code",
   "execution_count": 1,
   "metadata": {
    "ExecuteTime": {
     "end_time": "2020-03-26T14:14:33.836175Z",
     "start_time": "2020-03-26T14:14:26.525808Z"
    }
   },
   "outputs": [
    {
     "data": {
      "application/javascript": [
       "IPython.notebook.set_autosave_interval(60000)"
      ]
     },
     "metadata": {},
     "output_type": "display_data"
    },
    {
     "name": "stdout",
     "output_type": "stream",
     "text": [
      "Autosaving every 60 seconds\n"
     ]
    }
   ],
   "source": [
    "%load_ext autoreload\n",
    "%autoreload 2\n",
    "%autosave 60\n",
    "%matplotlib inline\n",
    "from ivanocode.ivanocommon import *\n",
    "import pandas as pd"
   ]
  },
  {
   "cell_type": "code",
   "execution_count": 2,
   "metadata": {
    "ExecuteTime": {
     "end_time": "2020-03-26T14:14:33.852659Z",
     "start_time": "2020-03-26T14:14:33.838302Z"
    }
   },
   "outputs": [],
   "source": [
    "raw = 'raw'\n",
    "submissions = 'submissions'"
   ]
  },
  {
   "cell_type": "code",
   "execution_count": 3,
   "metadata": {
    "ExecuteTime": {
     "end_time": "2020-03-26T14:14:34.112704Z",
     "start_time": "2020-03-26T14:14:33.855728Z"
    }
   },
   "outputs": [
    {
     "data": {
      "text/plain": [
       "Index(['id', 'F1', 'F2', 'F3', 'F4', 'F5', 'F6', 'F7', 'F8', 'F9', 'F10',\n",
       "       'F11', 'F12', 'F13', 'F14', 'F15', 'F16', 'F17', 'F18', 'F19', 'F20',\n",
       "       'F21', 'F22', 'F23', 'F24', 'F25', 'F26', 'F27', 'F28'],\n",
       "      dtype='object')"
      ]
     },
     "execution_count": 3,
     "metadata": {},
     "output_type": "execute_result"
    }
   ],
   "source": [
    "df_sample_submission = pd.read_csv(f'{raw}/sample_submission.csv')\n",
    "df_sample_submission.columns"
   ]
  },
  {
   "cell_type": "code",
   "execution_count": 4,
   "metadata": {
    "ExecuteTime": {
     "end_time": "2020-03-26T14:15:12.444219Z",
     "start_time": "2020-03-26T14:14:34.116487Z"
    }
   },
   "outputs": [],
   "source": [
    "df_sales_train_melt = pd.read_feather('df_sales_train_melt.feather')"
   ]
  },
  {
   "cell_type": "code",
   "execution_count": 5,
   "metadata": {
    "ExecuteTime": {
     "end_time": "2020-03-26T14:15:12.595709Z",
     "start_time": "2020-03-26T14:15:12.451584Z"
    }
   },
   "outputs": [
    {
     "data": {
      "text/html": [
       "<div>\n",
       "<style scoped>\n",
       "    .dataframe tbody tr th:only-of-type {\n",
       "        vertical-align: middle;\n",
       "    }\n",
       "\n",
       "    .dataframe tbody tr th {\n",
       "        vertical-align: top;\n",
       "    }\n",
       "\n",
       "    .dataframe thead th {\n",
       "        text-align: right;\n",
       "    }\n",
       "</style>\n",
       "<table border=\"1\" class=\"dataframe\">\n",
       "  <thead>\n",
       "    <tr style=\"text-align: right;\">\n",
       "      <th></th>\n",
       "      <th>id</th>\n",
       "      <th>item_id</th>\n",
       "      <th>dept_id</th>\n",
       "      <th>cat_id</th>\n",
       "      <th>store_id</th>\n",
       "      <th>state_id</th>\n",
       "      <th>day_id</th>\n",
       "      <th>sales</th>\n",
       "      <th>daily_avg_count</th>\n",
       "      <th>monthly_avg_count</th>\n",
       "      <th>day_date</th>\n",
       "      <th>day_date_str</th>\n",
       "      <th>month_id</th>\n",
       "      <th>month</th>\n",
       "      <th>year</th>\n",
       "      <th>date</th>\n",
       "      <th>wm_yr_wk</th>\n",
       "      <th>sell_price</th>\n",
       "      <th>sell_price_flip_count</th>\n",
       "    </tr>\n",
       "  </thead>\n",
       "  <tbody>\n",
       "    <tr>\n",
       "      <th>0</th>\n",
       "      <td>HOBBIES_1_001_CA_1_validation</td>\n",
       "      <td>HOBBIES_1_001</td>\n",
       "      <td>HOBBIES_1</td>\n",
       "      <td>HOBBIES</td>\n",
       "      <td>CA_1</td>\n",
       "      <td>CA</td>\n",
       "      <td>1</td>\n",
       "      <td>0</td>\n",
       "      <td>0.313643</td>\n",
       "      <td>9.409305</td>\n",
       "      <td>2011-01-29</td>\n",
       "      <td>2011-01-29</td>\n",
       "      <td>1</td>\n",
       "      <td>1</td>\n",
       "      <td>2011</td>\n",
       "      <td>2011-01-29</td>\n",
       "      <td>11101</td>\n",
       "      <td>NaN</td>\n",
       "      <td>1</td>\n",
       "    </tr>\n",
       "  </tbody>\n",
       "</table>\n",
       "</div>"
      ],
      "text/plain": [
       "                              id        item_id    dept_id   cat_id store_id  \\\n",
       "0  HOBBIES_1_001_CA_1_validation  HOBBIES_1_001  HOBBIES_1  HOBBIES     CA_1   \n",
       "\n",
       "  state_id  day_id  sales  daily_avg_count  monthly_avg_count   day_date  \\\n",
       "0       CA       1      0         0.313643           9.409305 2011-01-29   \n",
       "\n",
       "  day_date_str  month_id  month  year        date  wm_yr_wk  sell_price  \\\n",
       "0   2011-01-29         1      1  2011  2011-01-29     11101         NaN   \n",
       "\n",
       "   sell_price_flip_count  \n",
       "0                      1  "
      ]
     },
     "execution_count": 5,
     "metadata": {},
     "output_type": "execute_result"
    }
   ],
   "source": [
    "df_sales_train_melt.head(1)"
   ]
  },
  {
   "cell_type": "code",
   "execution_count": 6,
   "metadata": {
    "ExecuteTime": {
     "end_time": "2020-03-26T14:15:13.482782Z",
     "start_time": "2020-03-26T14:15:12.599139Z"
    }
   },
   "outputs": [
    {
     "data": {
      "text/plain": [
       "(1, 1913)"
      ]
     },
     "execution_count": 6,
     "metadata": {},
     "output_type": "execute_result"
    }
   ],
   "source": [
    "days = df_sales_train_melt['day_id'].unique()\n",
    "days[0], days[-1]"
   ]
  },
  {
   "cell_type": "code",
   "execution_count": 7,
   "metadata": {
    "ExecuteTime": {
     "end_time": "2020-03-26T14:15:13.514488Z",
     "start_time": "2020-03-26T14:15:13.485684Z"
    }
   },
   "outputs": [],
   "source": [
    "# F1 = d_1914, ... F28 = d_1941"
   ]
  },
  {
   "cell_type": "code",
   "execution_count": 8,
   "metadata": {
    "ExecuteTime": {
     "end_time": "2020-03-26T14:15:16.451130Z",
     "start_time": "2020-03-26T14:15:13.516985Z"
    }
   },
   "outputs": [],
   "source": [
    "query = (\"id == 'HOBBIES_1_001_CA_1_validation' or \"+\n",
    "         \"id == 'HOBBIES_1_002_CA_1_validation' or \"+\n",
    "         \"id == 'HOBBIES_1_004_CA_1_validation'\")\n",
    "subset = df_sales_train_melt.query(query).copy()"
   ]
  },
  {
   "cell_type": "code",
   "execution_count": 9,
   "metadata": {
    "ExecuteTime": {
     "end_time": "2020-03-26T14:15:24.002756Z",
     "start_time": "2020-03-26T14:15:16.452870Z"
    }
   },
   "outputs": [
    {
     "name": "stdout",
     "output_type": "stream",
     "text": [
      "CPU times: user 5.2 s, sys: 2.25 s, total: 7.44 s\n",
      "Wall time: 7.53 s\n"
     ]
    }
   ],
   "source": [
    "%%time\n",
    "min_day = 1885\n",
    "df_submission_melt = (df_sales_train_melt\n",
    "    .groupby('id', as_index=False)\n",
    "    .tail(28)\n",
    ")\n",
    "\n",
    "df_submission = (df_submission_melt\n",
    "    .pivot(index='id', columns='day_id', values='sales')\n",
    "    .rename(lambda x: f'F{x-min_day}', axis=1)\n",
    "    .reset_index()\n",
    "    .sort_values('id')\n",
    ")"
   ]
  },
  {
   "cell_type": "code",
   "execution_count": 10,
   "metadata": {
    "ExecuteTime": {
     "end_time": "2020-03-26T14:16:01.574700Z",
     "start_time": "2020-03-26T14:15:24.005492Z"
    }
   },
   "outputs": [],
   "source": [
    "df_train = df_sales_train_melt.query('day_id < 1886').copy()"
   ]
  },
  {
   "cell_type": "code",
   "execution_count": 11,
   "metadata": {
    "ExecuteTime": {
     "end_time": "2020-03-26T14:16:03.725532Z",
     "start_time": "2020-03-26T14:16:01.587279Z"
    }
   },
   "outputs": [],
   "source": [
    "df_pred = df_train.query(f'day_id >= {1886-28} & day_id <= {1913-28}').copy()"
   ]
  },
  {
   "cell_type": "code",
   "execution_count": 12,
   "metadata": {
    "ExecuteTime": {
     "end_time": "2020-03-26T14:16:05.859108Z",
     "start_time": "2020-03-26T14:16:03.729833Z"
    }
   },
   "outputs": [],
   "source": [
    "df_valid = df_sales_train_melt.query('day_id >= 1886 & day_id <= 1913').copy()"
   ]
  },
  {
   "cell_type": "code",
   "execution_count": 13,
   "metadata": {
    "ExecuteTime": {
     "end_time": "2020-03-26T14:16:05.886284Z",
     "start_time": "2020-03-26T14:16:05.862261Z"
    }
   },
   "outputs": [],
   "source": [
    "aggregation_levels = {\n",
    "    11: ['item_id', 'state_id'],\n",
    "    10: ['item_id'],\n",
    "    9:  ['store_id', 'dept_id'],\n",
    "    8:  ['store_id', 'cat_id'],\n",
    "    7:  ['state_id', 'dept_id'],\n",
    "    6:  ['state_id', 'cat_id'],\n",
    "    5:  ['dept_id'],\n",
    "    4:  ['cat_id'],\n",
    "    3:  ['store_id'],\n",
    "    2:  ['state_id'],\n",
    "    1:  [],\n",
    "}\n",
    "agg_level_expected_counts = {\n",
    "    11: 9147,\n",
    "    10: 3049,\n",
    "    9:  70,\n",
    "    8:  30,\n",
    "    7:  21,\n",
    "    6:  9,\n",
    "    5:  7,\n",
    "    4:  3,\n",
    "    3:  10,\n",
    "    2:  3\n",
    "}"
   ]
  },
  {
   "cell_type": "code",
   "execution_count": 137,
   "metadata": {
    "ExecuteTime": {
     "end_time": "2020-03-26T15:36:37.655858Z",
     "start_time": "2020-03-26T15:36:37.625482Z"
    }
   },
   "outputs": [],
   "source": [
    "def add_group_id_col(df, grp_id, grp_fields):\n",
    "    df['id'] = str(grp_id)\n",
    "    if len(grp_fields) > 0:\n",
    "        # Note to self: categoricals require cast\n",
    "        for col in grp_fields:\n",
    "            df['id'] = df['id'].str.cat(df[col], sep=':')\n",
    "\n",
    "def with_aggregates(df, agg_levels=aggregation_levels):\n",
    "    result = [df]\n",
    "    df['agg_level'] = 12\n",
    "    df['sales_$'] = df['sales']*df['sell_price']\n",
    "    for grp_id, grp_fields in agg_levels.items():\n",
    "        grp_11 = (df\n",
    "                  .groupby(grp_fields + ['day_id'], as_index=False)\n",
    "                  .agg({'sales': 'sum', 'sales_$': 'sum'})\n",
    "        )\n",
    "        grp_11['agg_level'] = grp_id\n",
    "        add_group_id_col(grp_11, grp_id, grp_fields)\n",
    "\n",
    "        result.append(grp_11)\n",
    "\n",
    "    df = pd.concat(result, sort=False)\n",
    "    df['sales_delta_sum'] = (df\n",
    "              .groupby(['id'], as_index=False)\n",
    "              ['sales']\n",
    "              .transform(lambda x: x.diff().abs().sum())\n",
    "    )\n",
    "    # Note to self: ordering dependencies are a beast! Wouldn't it be fun to prevent cell & statement reordering unless it's safe & consistent?\n",
    "    df['day_id_rel'] = df['day_id'] - df['day_id'].min()\n",
    "\n",
    "    return df"
   ]
  },
  {
   "cell_type": "code",
   "execution_count": 15,
   "metadata": {
    "ExecuteTime": {
     "end_time": "2020-03-26T14:17:00.045615Z",
     "start_time": "2020-03-26T14:16:05.918554Z"
    }
   },
   "outputs": [],
   "source": [
    "df_valid_w_aggs = with_aggregates(df_valid)"
   ]
  },
  {
   "cell_type": "code",
   "execution_count": 16,
   "metadata": {
    "ExecuteTime": {
     "end_time": "2020-03-26T14:17:00.095880Z",
     "start_time": "2020-03-26T14:17:00.047553Z"
    }
   },
   "outputs": [
    {
     "data": {
      "text/html": [
       "<div>\n",
       "<style scoped>\n",
       "    .dataframe tbody tr th:only-of-type {\n",
       "        vertical-align: middle;\n",
       "    }\n",
       "\n",
       "    .dataframe tbody tr th {\n",
       "        vertical-align: top;\n",
       "    }\n",
       "\n",
       "    .dataframe thead th {\n",
       "        text-align: right;\n",
       "    }\n",
       "</style>\n",
       "<table border=\"1\" class=\"dataframe\">\n",
       "  <thead>\n",
       "    <tr style=\"text-align: right;\">\n",
       "      <th></th>\n",
       "      <th>id</th>\n",
       "      <th>item_id</th>\n",
       "      <th>dept_id</th>\n",
       "      <th>cat_id</th>\n",
       "      <th>store_id</th>\n",
       "      <th>state_id</th>\n",
       "      <th>day_id</th>\n",
       "      <th>sales</th>\n",
       "      <th>daily_avg_count</th>\n",
       "      <th>monthly_avg_count</th>\n",
       "      <th>...</th>\n",
       "      <th>month</th>\n",
       "      <th>year</th>\n",
       "      <th>date</th>\n",
       "      <th>wm_yr_wk</th>\n",
       "      <th>sell_price</th>\n",
       "      <th>sell_price_flip_count</th>\n",
       "      <th>agg_level</th>\n",
       "      <th>sales_$</th>\n",
       "      <th>sales_delta_sum</th>\n",
       "      <th>day_id_rel</th>\n",
       "    </tr>\n",
       "  </thead>\n",
       "  <tbody>\n",
       "    <tr>\n",
       "      <th>27</th>\n",
       "      <td>1</td>\n",
       "      <td>NaN</td>\n",
       "      <td>NaN</td>\n",
       "      <td>NaN</td>\n",
       "      <td>NaN</td>\n",
       "      <td>NaN</td>\n",
       "      <td>1913</td>\n",
       "      <td>49795</td>\n",
       "      <td>NaN</td>\n",
       "      <td>NaN</td>\n",
       "      <td>...</td>\n",
       "      <td>NaN</td>\n",
       "      <td>NaN</td>\n",
       "      <td>NaN</td>\n",
       "      <td>NaN</td>\n",
       "      <td>NaN</td>\n",
       "      <td>NaN</td>\n",
       "      <td>1</td>\n",
       "      <td>162924.07</td>\n",
       "      <td>133244.0</td>\n",
       "      <td>27</td>\n",
       "    </tr>\n",
       "  </tbody>\n",
       "</table>\n",
       "<p>1 rows × 23 columns</p>\n",
       "</div>"
      ],
      "text/plain": [
       "   id item_id dept_id cat_id store_id state_id  day_id  sales  \\\n",
       "27  1     NaN     NaN    NaN      NaN      NaN    1913  49795   \n",
       "\n",
       "    daily_avg_count  monthly_avg_count  ... month year  date  wm_yr_wk  \\\n",
       "27              NaN                NaN  ...   NaN  NaN   NaN       NaN   \n",
       "\n",
       "    sell_price sell_price_flip_count  agg_level    sales_$  sales_delta_sum  \\\n",
       "27         NaN                   NaN          1  162924.07         133244.0   \n",
       "\n",
       "    day_id_rel  \n",
       "27          27  \n",
       "\n",
       "[1 rows x 23 columns]"
      ]
     },
     "execution_count": 16,
     "metadata": {},
     "output_type": "execute_result"
    }
   ],
   "source": [
    "df_valid_w_aggs.tail(1)"
   ]
  },
  {
   "cell_type": "code",
   "execution_count": 17,
   "metadata": {
    "ExecuteTime": {
     "end_time": "2020-03-26T14:17:54.742507Z",
     "start_time": "2020-03-26T14:17:00.097946Z"
    }
   },
   "outputs": [],
   "source": [
    "df_pred_w_aggs = with_aggregates(df_pred)"
   ]
  },
  {
   "cell_type": "code",
   "execution_count": 18,
   "metadata": {
    "ExecuteTime": {
     "end_time": "2020-03-26T14:17:54.810318Z",
     "start_time": "2020-03-26T14:17:54.751354Z"
    }
   },
   "outputs": [
    {
     "data": {
      "text/html": [
       "<div>\n",
       "<style scoped>\n",
       "    .dataframe tbody tr th:only-of-type {\n",
       "        vertical-align: middle;\n",
       "    }\n",
       "\n",
       "    .dataframe tbody tr th {\n",
       "        vertical-align: top;\n",
       "    }\n",
       "\n",
       "    .dataframe thead th {\n",
       "        text-align: right;\n",
       "    }\n",
       "</style>\n",
       "<table border=\"1\" class=\"dataframe\">\n",
       "  <thead>\n",
       "    <tr style=\"text-align: right;\">\n",
       "      <th></th>\n",
       "      <th>id</th>\n",
       "      <th>item_id</th>\n",
       "      <th>dept_id</th>\n",
       "      <th>cat_id</th>\n",
       "      <th>store_id</th>\n",
       "      <th>state_id</th>\n",
       "      <th>day_id</th>\n",
       "      <th>sales</th>\n",
       "      <th>daily_avg_count</th>\n",
       "      <th>monthly_avg_count</th>\n",
       "      <th>...</th>\n",
       "      <th>month</th>\n",
       "      <th>year</th>\n",
       "      <th>date</th>\n",
       "      <th>wm_yr_wk</th>\n",
       "      <th>sell_price</th>\n",
       "      <th>sell_price_flip_count</th>\n",
       "      <th>agg_level</th>\n",
       "      <th>sales_$</th>\n",
       "      <th>sales_delta_sum</th>\n",
       "      <th>day_id_rel</th>\n",
       "    </tr>\n",
       "  </thead>\n",
       "  <tbody>\n",
       "    <tr>\n",
       "      <th>56619930</th>\n",
       "      <td>HOBBIES_1_001_CA_1_validation</td>\n",
       "      <td>HOBBIES_1_001</td>\n",
       "      <td>HOBBIES_1</td>\n",
       "      <td>HOBBIES</td>\n",
       "      <td>CA_1</td>\n",
       "      <td>CA</td>\n",
       "      <td>1858</td>\n",
       "      <td>0</td>\n",
       "      <td>0.313643</td>\n",
       "      <td>9.409305</td>\n",
       "      <td>...</td>\n",
       "      <td>2.0</td>\n",
       "      <td>2016.0</td>\n",
       "      <td>2016-02-29</td>\n",
       "      <td>11605.0</td>\n",
       "      <td>8.26</td>\n",
       "      <td>1.0</td>\n",
       "      <td>12</td>\n",
       "      <td>0.0</td>\n",
       "      <td>27.0</td>\n",
       "      <td>0</td>\n",
       "    </tr>\n",
       "    <tr>\n",
       "      <th>56619931</th>\n",
       "      <td>HOBBIES_1_002_CA_1_validation</td>\n",
       "      <td>HOBBIES_1_002</td>\n",
       "      <td>HOBBIES_1</td>\n",
       "      <td>HOBBIES</td>\n",
       "      <td>CA_1</td>\n",
       "      <td>CA</td>\n",
       "      <td>1858</td>\n",
       "      <td>0</td>\n",
       "      <td>0.257710</td>\n",
       "      <td>7.731312</td>\n",
       "      <td>...</td>\n",
       "      <td>2.0</td>\n",
       "      <td>2016.0</td>\n",
       "      <td>2016-02-29</td>\n",
       "      <td>11605.0</td>\n",
       "      <td>3.97</td>\n",
       "      <td>1.0</td>\n",
       "      <td>12</td>\n",
       "      <td>0.0</td>\n",
       "      <td>9.0</td>\n",
       "      <td>0</td>\n",
       "    </tr>\n",
       "    <tr>\n",
       "      <th>56619932</th>\n",
       "      <td>HOBBIES_1_003_CA_1_validation</td>\n",
       "      <td>HOBBIES_1_003</td>\n",
       "      <td>HOBBIES_1</td>\n",
       "      <td>HOBBIES</td>\n",
       "      <td>CA_1</td>\n",
       "      <td>CA</td>\n",
       "      <td>1858</td>\n",
       "      <td>0</td>\n",
       "      <td>0.150549</td>\n",
       "      <td>4.516466</td>\n",
       "      <td>...</td>\n",
       "      <td>2.0</td>\n",
       "      <td>2016.0</td>\n",
       "      <td>2016-02-29</td>\n",
       "      <td>11605.0</td>\n",
       "      <td>2.97</td>\n",
       "      <td>1.0</td>\n",
       "      <td>12</td>\n",
       "      <td>0.0</td>\n",
       "      <td>20.0</td>\n",
       "      <td>0</td>\n",
       "    </tr>\n",
       "  </tbody>\n",
       "</table>\n",
       "<p>3 rows × 23 columns</p>\n",
       "</div>"
      ],
      "text/plain": [
       "                                     id        item_id    dept_id   cat_id  \\\n",
       "56619930  HOBBIES_1_001_CA_1_validation  HOBBIES_1_001  HOBBIES_1  HOBBIES   \n",
       "56619931  HOBBIES_1_002_CA_1_validation  HOBBIES_1_002  HOBBIES_1  HOBBIES   \n",
       "56619932  HOBBIES_1_003_CA_1_validation  HOBBIES_1_003  HOBBIES_1  HOBBIES   \n",
       "\n",
       "         store_id state_id  day_id  sales  daily_avg_count  monthly_avg_count  \\\n",
       "56619930     CA_1       CA    1858      0         0.313643           9.409305   \n",
       "56619931     CA_1       CA    1858      0         0.257710           7.731312   \n",
       "56619932     CA_1       CA    1858      0         0.150549           4.516466   \n",
       "\n",
       "          ... month    year        date  wm_yr_wk  sell_price  \\\n",
       "56619930  ...   2.0  2016.0  2016-02-29   11605.0        8.26   \n",
       "56619931  ...   2.0  2016.0  2016-02-29   11605.0        3.97   \n",
       "56619932  ...   2.0  2016.0  2016-02-29   11605.0        2.97   \n",
       "\n",
       "         sell_price_flip_count  agg_level  sales_$  sales_delta_sum  \\\n",
       "56619930                   1.0         12      0.0             27.0   \n",
       "56619931                   1.0         12      0.0              9.0   \n",
       "56619932                   1.0         12      0.0             20.0   \n",
       "\n",
       "          day_id_rel  \n",
       "56619930           0  \n",
       "56619931           0  \n",
       "56619932           0  \n",
       "\n",
       "[3 rows x 23 columns]"
      ]
     },
     "execution_count": 18,
     "metadata": {},
     "output_type": "execute_result"
    }
   ],
   "source": [
    "df_pred_w_aggs.head(3)"
   ]
  },
  {
   "cell_type": "code",
   "execution_count": 123,
   "metadata": {
    "ExecuteTime": {
     "end_time": "2020-03-26T15:04:25.935211Z",
     "start_time": "2020-03-26T15:04:05.680295Z"
    }
   },
   "outputs": [],
   "source": [
    "cols = ['id', 'day_id_rel', 'sales', 'sales_$', 'agg_level']\n",
    "t = (df_valid_w_aggs[cols]\n",
    "        .merge(df_pred_w_aggs[cols], \n",
    "               on=['id', 'day_id_rel'], \n",
    "               suffixes=('_valid', '_pred')))\n",
    "t['daily_sales_err^2'] = (t['sales_valid'] - t['sales_pred']).pow(2)\n",
    "def agg_as_is(x):\n",
    "    vals = x.unique()\n",
    "    if (len(vals) == 1):\n",
    "        return vals[0]\n",
    "    raise ValueError(f\"Expected single unique val, got: {vals}\" )\n",
    "\n",
    "t = t.groupby(['id', 'agg_level_valid'], as_index=False).agg({\n",
    "    'sales_valid': lambda x: x.diff().pow(2).sum(),\n",
    "    'daily_sales_err^2': lambda x: x.sum(),\n",
    "    'sales_$_valid': 'sum'\n",
    "}).rename({\n",
    "    'sales_valid': 'sales_diff^2_sum',\n",
    "    'daily_sales_err^2': 'sales_err^2_sum'\n",
    "}, axis=1)\n",
    "t['agg_weight'] = t.groupby('agg_level_valid')['sales_$_valid'].transform(lambda x: x.sum())\n",
    "t['series_weight'] = t['sales_$_valid']/t['agg_weight']"
   ]
  },
  {
   "cell_type": "code",
   "execution_count": 124,
   "metadata": {
    "ExecuteTime": {
     "end_time": "2020-03-26T15:04:44.707171Z",
     "start_time": "2020-03-26T15:04:27.584170Z"
    }
   },
   "outputs": [],
   "source": [
    "diff_sum_squared = lambda x: x.diff().pow(2).sum()\n",
    "diff_sum_squared.__name__ = 'diff_sum_squared'\n",
    "sales_diff_summs = (df_train\n",
    "    .groupby(['id'], as_index=False)\n",
    "    .agg({\n",
    "        'sales': [\n",
    "            diff_sum_squared,\n",
    "            'count'],\n",
    "    })\n",
    "    .pipe(\n",
    "        lambda df: drop_level(df, level=1, axis=1)\n",
    "    ).rename({\n",
    "        'sales_count': 'trn_sales_count'\n",
    "    }, axis=1)\n",
    ")"
   ]
  },
  {
   "cell_type": "code",
   "execution_count": 125,
   "metadata": {
    "ExecuteTime": {
     "end_time": "2020-03-26T15:04:46.296936Z",
     "start_time": "2020-03-26T15:04:46.271345Z"
    }
   },
   "outputs": [
    {
     "data": {
      "text/html": [
       "<div>\n",
       "<style scoped>\n",
       "    .dataframe tbody tr th:only-of-type {\n",
       "        vertical-align: middle;\n",
       "    }\n",
       "\n",
       "    .dataframe tbody tr th {\n",
       "        vertical-align: top;\n",
       "    }\n",
       "\n",
       "    .dataframe thead th {\n",
       "        text-align: right;\n",
       "    }\n",
       "</style>\n",
       "<table border=\"1\" class=\"dataframe\">\n",
       "  <thead>\n",
       "    <tr style=\"text-align: right;\">\n",
       "      <th></th>\n",
       "      <th>id</th>\n",
       "      <th>sales_diff_sum_squared</th>\n",
       "      <th>trn_sales_count</th>\n",
       "    </tr>\n",
       "  </thead>\n",
       "  <tbody>\n",
       "    <tr>\n",
       "      <th>0</th>\n",
       "      <td>FOODS_1_001_CA_1_validation</td>\n",
       "      <td>5463</td>\n",
       "      <td>1885</td>\n",
       "    </tr>\n",
       "  </tbody>\n",
       "</table>\n",
       "</div>"
      ],
      "text/plain": [
       "                            id  sales_diff_sum_squared  trn_sales_count\n",
       "0  FOODS_1_001_CA_1_validation                    5463             1885"
      ]
     },
     "execution_count": 125,
     "metadata": {},
     "output_type": "execute_result"
    }
   ],
   "source": [
    "sales_diff_summs.head(1)"
   ]
  },
  {
   "cell_type": "code",
   "execution_count": 126,
   "metadata": {
    "ExecuteTime": {
     "end_time": "2020-03-26T15:04:47.879747Z",
     "start_time": "2020-03-26T15:04:47.853550Z"
    }
   },
   "outputs": [],
   "source": [
    "trn_days_denom = sales_diff_summs['trn_sales_count'].unique()\n",
    "assert [1885] == trn_days_denom, f\"Expected {trn_days_denom} days of sales to be used in denom sum, got {trn_days_denom}\""
   ]
  },
  {
   "cell_type": "code",
   "execution_count": 127,
   "metadata": {
    "ExecuteTime": {
     "end_time": "2020-03-26T15:04:49.560607Z",
     "start_time": "2020-03-26T15:04:49.448234Z"
    }
   },
   "outputs": [],
   "source": [
    "t = t.merge(sales_diff_summs, on='id', validate='one_to_one')"
   ]
  },
  {
   "cell_type": "code",
   "execution_count": 128,
   "metadata": {
    "ExecuteTime": {
     "end_time": "2020-03-26T15:04:51.169061Z",
     "start_time": "2020-03-26T15:04:51.131146Z"
    }
   },
   "outputs": [],
   "source": [
    "h = 28\n",
    "t['rmsse'] = ((\n",
    "                (t['trn_sales_count']-1.0) * t['sales_err^2_sum'])/\n",
    "                (h * t['sales_diff^2_sum'])\n",
    "             ).pow(0.5)\n",
    "# TODO: rmsse est for series with no sales - will not be a problem when coming from trn\n",
    "t.loc[t['sales_$_valid'] ==0, 'rmsse'] = 0\n",
    "t['wrmsse'] = t['rmsse']*t['series_weight']"
   ]
  },
  {
   "cell_type": "code",
   "execution_count": 129,
   "metadata": {
    "ExecuteTime": {
     "end_time": "2020-03-26T15:04:52.767757Z",
     "start_time": "2020-03-26T15:04:52.746860Z"
    }
   },
   "outputs": [
    {
     "data": {
      "text/plain": [
       "0.7472960893819334"
      ]
     },
     "execution_count": 129,
     "metadata": {},
     "output_type": "execute_result"
    }
   ],
   "source": [
    "# that's underestimation of 0.83770 from the submission, plus I've got a bunch of todos above to address\n",
    "# 0.7456401780934122 - when calculated using validation set days in the denom :/\n",
    "# 0.7472960893819334 - latest \n",
    "wrmsse_total = t['wrmsse'].sum()/12\n",
    "wrmsse_total"
   ]
  },
  {
   "cell_type": "code",
   "execution_count": 130,
   "metadata": {
    "ExecuteTime": {
     "end_time": "2020-03-26T15:16:47.888275Z",
     "start_time": "2020-03-26T15:16:08.538470Z"
    }
   },
   "outputs": [
    {
     "data": {
      "text/plain": [
       "0.7472960893819334"
      ]
     },
     "execution_count": 130,
     "metadata": {},
     "output_type": "execute_result"
    }
   ],
   "source": [
    "def no_op(x):\n",
    "    pass\n",
    "\n",
    "from IPython.display import display\n",
    "\n",
    "def wrmsse_total(df_train, df_valid_w_aggs, df_pred_w_aggs, display=no_op):\n",
    "    cols = ['id', 'day_id_rel', 'sales', 'sales_$', 'agg_level']\n",
    "    t = (df_valid_w_aggs[cols]\n",
    "            .merge(df_pred_w_aggs[cols], \n",
    "                   on=['id', 'day_id_rel'], \n",
    "                   suffixes=('_valid', '_pred')))\n",
    "    t['daily_sales_err^2'] = (t['sales_valid'] - t['sales_pred']).pow(2)\n",
    "\n",
    "    t = t.groupby(['id', 'agg_level_valid'], as_index=False).agg({\n",
    "        'sales_valid': lambda x: x.diff().pow(2).sum(),\n",
    "        'daily_sales_err^2': lambda x: x.sum(),\n",
    "        'sales_$_valid': 'sum'\n",
    "    }).rename({\n",
    "        'sales_valid': 'sales_diff^2_sum',\n",
    "        'daily_sales_err^2': 'sales_err^2_sum'\n",
    "    }, axis=1)\n",
    "    t['agg_weight'] = (t.groupby('agg_level_valid')\n",
    "        ['sales_$_valid']\n",
    "       .transform(lambda x: x.sum())\n",
    "    )\n",
    "    t['series_weight'] = t['sales_$_valid']/t['agg_weight']\n",
    "\n",
    "    diff_sum_squared = lambda x: x.diff().pow(2).sum()\n",
    "    diff_sum_squared.__name__ = 'diff_sum_squared'\n",
    "    sales_diff_summs = (df_train\n",
    "        .groupby(['id'], as_index=False)\n",
    "        .agg({\n",
    "            'sales': [\n",
    "                diff_sum_squared,\n",
    "                'count'],\n",
    "        })\n",
    "        .pipe(\n",
    "            lambda df: drop_level(df, level=1, axis=1)\n",
    "        ).rename({\n",
    "            'sales_count': 'trn_sales_count'\n",
    "        }, axis=1)\n",
    "    )\n",
    "    display(sales_diff_summs.head(1))\n",
    "\n",
    "    t = t.merge(sales_diff_summs, on='id', validate='one_to_one')\n",
    "    \n",
    "    h = 28\n",
    "    n_series = 12\n",
    "    t['rmsse'] = ((\n",
    "                    (t['trn_sales_count']-1.0) * t['sales_err^2_sum'])/\n",
    "                    (h * t['sales_diff^2_sum'])\n",
    "                 ).pow(0.5)\n",
    "\n",
    "    # TODO: rmsse est for series with no sales - will not be a problem when coming from trn\n",
    "    t.loc[t['sales_$_valid'] ==0, 'rmsse'] = 0\n",
    "    t['wrmsse'] = t['rmsse']*t['series_weight']\n",
    "\n",
    "    wrmsse_total = t['wrmsse'].sum()/n_series\n",
    "    return wrmsse_total\n",
    "\n",
    "wrmsse_total(df_train, df_valid_w_aggs, df_pred_w_aggs)"
   ]
  },
  {
   "cell_type": "code",
   "execution_count": 208,
   "metadata": {
    "ExecuteTime": {
     "end_time": "2020-03-26T16:01:17.080367Z",
     "start_time": "2020-03-26T16:01:17.057656Z"
    }
   },
   "outputs": [],
   "source": [
    "import numpy as np\n",
    "series_len = 100\n",
    "h = pred_len = 28\n",
    "example_agg_levels = {\n",
    "    1: []\n",
    "}\n",
    "example_a = pd.DataFrame({\n",
    "    'id':         np.tile(['A'],              reps=series_len),\n",
    "    'sales':      np.tile([1, 0],             reps=series_len//2),\n",
    "    'sell_price': np.tile([10.0*2/28.0],      reps=series_len),\n",
    "    'day_id':     np.arange(0,                     series_len, step=1)\n",
    "})\n",
    "example_b = pd.DataFrame({\n",
    "    'id':         np.tile(['B'],              reps=series_len),\n",
    "    'sales':      np.tile([0, 2],             reps=series_len//2),\n",
    "    'sell_price': np.tile([12.0*2/(28*2)],      reps=series_len),\n",
    "    'day_id':     np.arange(0,                     series_len, step=1)\n",
    "})\n",
    "example = pd.concat([example_a, example_b])"
   ]
  },
  {
   "cell_type": "code",
   "execution_count": 209,
   "metadata": {
    "ExecuteTime": {
     "end_time": "2020-03-26T16:01:18.765659Z",
     "start_time": "2020-03-26T16:01:18.733407Z"
    }
   },
   "outputs": [
    {
     "data": {
      "text/html": [
       "<div>\n",
       "<style scoped>\n",
       "    .dataframe tbody tr th:only-of-type {\n",
       "        vertical-align: middle;\n",
       "    }\n",
       "\n",
       "    .dataframe tbody tr th {\n",
       "        vertical-align: top;\n",
       "    }\n",
       "\n",
       "    .dataframe thead th {\n",
       "        text-align: right;\n",
       "    }\n",
       "</style>\n",
       "<table border=\"1\" class=\"dataframe\">\n",
       "  <thead>\n",
       "    <tr style=\"text-align: right;\">\n",
       "      <th></th>\n",
       "      <th>sales_d</th>\n",
       "    </tr>\n",
       "    <tr>\n",
       "      <th>id</th>\n",
       "      <th></th>\n",
       "    </tr>\n",
       "  </thead>\n",
       "  <tbody>\n",
       "    <tr>\n",
       "      <th>A</th>\n",
       "      <td>10.0</td>\n",
       "    </tr>\n",
       "    <tr>\n",
       "      <th>B</th>\n",
       "      <td>12.0</td>\n",
       "    </tr>\n",
       "  </tbody>\n",
       "</table>\n",
       "</div>"
      ],
      "text/plain": [
       "    sales_d\n",
       "id         \n",
       "A      10.0\n",
       "B      12.0"
      ]
     },
     "execution_count": 209,
     "metadata": {},
     "output_type": "execute_result"
    }
   ],
   "source": [
    "(example\n",
    "    .eval('sales_d = sell_price*sales')\n",
    "    .groupby('id')\n",
    "    .tail(28)\n",
    "    .groupby('id')\n",
    "    .agg({'sales_d': 'sum'})\n",
    ")"
   ]
  },
  {
   "cell_type": "code",
   "execution_count": 155,
   "metadata": {
    "ExecuteTime": {
     "end_time": "2020-03-26T15:48:06.968646Z",
     "start_time": "2020-03-26T15:48:06.948587Z"
    }
   },
   "outputs": [
    {
     "data": {
      "text/plain": [
       "(72, 28)"
      ]
     },
     "execution_count": 155,
     "metadata": {},
     "output_type": "execute_result"
    }
   ],
   "source": [
    "example_trn = example[:100-h].copy()\n",
    "example_val = example[-h:].copy()\n",
    "len(example_trn), len(example_val)"
   ]
  },
  {
   "cell_type": "code",
   "execution_count": 210,
   "metadata": {
    "ExecuteTime": {
     "end_time": "2020-03-26T16:01:28.782436Z",
     "start_time": "2020-03-26T16:01:28.747248Z"
    }
   },
   "outputs": [],
   "source": [
    "example_val_w_aggs = with_aggregates(example_val, agg_levels = example_agg_levels)"
   ]
  },
  {
   "cell_type": "code",
   "execution_count": 211,
   "metadata": {
    "ExecuteTime": {
     "end_time": "2020-03-26T16:01:30.600299Z",
     "start_time": "2020-03-26T16:01:30.536748Z"
    }
   },
   "outputs": [],
   "source": [
    "perfect_score = wrmsse_total(example_trn, \n",
    "                             example_val_w_aggs,\n",
    "                             example_val_w_aggs)\n",
    "assert 0.0 == perfect_score"
   ]
  },
  {
   "cell_type": "code",
   "execution_count": 24,
   "metadata": {
    "ExecuteTime": {
     "end_time": "2020-03-26T14:18:15.180388Z",
     "start_time": "2020-03-26T14:18:15.147834Z"
    }
   },
   "outputs": [
    {
     "data": {
      "text/html": [
       "<div>\n",
       "<style scoped>\n",
       "    .dataframe tbody tr th:only-of-type {\n",
       "        vertical-align: middle;\n",
       "    }\n",
       "\n",
       "    .dataframe tbody tr th {\n",
       "        vertical-align: top;\n",
       "    }\n",
       "\n",
       "    .dataframe thead th {\n",
       "        text-align: right;\n",
       "    }\n",
       "</style>\n",
       "<table border=\"1\" class=\"dataframe\">\n",
       "  <thead>\n",
       "    <tr style=\"text-align: right;\">\n",
       "      <th></th>\n",
       "      <th>id</th>\n",
       "      <th>agg_level_valid</th>\n",
       "      <th>sales_diff^2_sum</th>\n",
       "      <th>sales_err^2_sum</th>\n",
       "      <th>sales_$_valid</th>\n",
       "      <th>agg_weight</th>\n",
       "      <th>series_weight</th>\n",
       "      <th>rmsse</th>\n",
       "      <th>wrmsse</th>\n",
       "    </tr>\n",
       "  </thead>\n",
       "  <tbody>\n",
       "    <tr>\n",
       "      <th>0</th>\n",
       "      <td>1</td>\n",
       "      <td>1</td>\n",
       "      <td>1184001716</td>\n",
       "      <td>265450481</td>\n",
       "      <td>3748180.05</td>\n",
       "      <td>3748180.05</td>\n",
       "      <td>1.0</td>\n",
       "      <td>0.464963</td>\n",
       "      <td>0.464963</td>\n",
       "    </tr>\n",
       "  </tbody>\n",
       "</table>\n",
       "</div>"
      ],
      "text/plain": [
       "  id  agg_level_valid  sales_diff^2_sum  sales_err^2_sum  sales_$_valid  \\\n",
       "0  1                1        1184001716        265450481     3748180.05   \n",
       "\n",
       "   agg_weight  series_weight     rmsse    wrmsse  \n",
       "0  3748180.05            1.0  0.464963  0.464963  "
      ]
     },
     "execution_count": 24,
     "metadata": {},
     "output_type": "execute_result"
    }
   ],
   "source": [
    "t.head(1)"
   ]
  },
  {
   "cell_type": "code",
   "execution_count": 25,
   "metadata": {
    "ExecuteTime": {
     "end_time": "2020-03-26T14:18:15.280976Z",
     "start_time": "2020-03-26T14:18:15.184741Z"
    }
   },
   "outputs": [],
   "source": [
    "agg_series_counts = (df_valid_w_aggs.query('day_id == 1886')\n",
    "    [['id', 'item_id', 'dept_id', 'cat_id', 'store_id', 'agg_level', 'state_id']]\n",
    "    .groupby(['agg_level'], as_index=False)\n",
    "    .count()\n",
    ")"
   ]
  },
  {
   "cell_type": "code",
   "execution_count": 26,
   "metadata": {
    "ExecuteTime": {
     "end_time": "2020-03-26T14:18:15.329569Z",
     "start_time": "2020-03-26T14:18:15.282796Z"
    }
   },
   "outputs": [
    {
     "data": {
      "text/plain": [
       "42840"
      ]
     },
     "execution_count": 26,
     "metadata": {},
     "output_type": "execute_result"
    }
   ],
   "source": [
    "df_valid_w_aggs.query('day_id==1909')['id'].count()"
   ]
  },
  {
   "cell_type": "code",
   "execution_count": 27,
   "metadata": {
    "ExecuteTime": {
     "end_time": "2020-03-26T14:18:15.418232Z",
     "start_time": "2020-03-26T14:18:15.332841Z"
    }
   },
   "outputs": [
    {
     "data": {
      "text/html": [
       "<div>\n",
       "<style scoped>\n",
       "    .dataframe tbody tr th:only-of-type {\n",
       "        vertical-align: middle;\n",
       "    }\n",
       "\n",
       "    .dataframe tbody tr th {\n",
       "        vertical-align: top;\n",
       "    }\n",
       "\n",
       "    .dataframe thead th {\n",
       "        text-align: right;\n",
       "    }\n",
       "</style>\n",
       "<table border=\"1\" class=\"dataframe\">\n",
       "  <thead>\n",
       "    <tr style=\"text-align: right;\">\n",
       "      <th></th>\n",
       "      <th>state_id</th>\n",
       "      <th>cat_id</th>\n",
       "      <th>day_id</th>\n",
       "      <th>sales</th>\n",
       "      <th>sales_$</th>\n",
       "    </tr>\n",
       "  </thead>\n",
       "  <tbody>\n",
       "    <tr>\n",
       "      <th>0</th>\n",
       "      <td>CA</td>\n",
       "      <td>FOODS</td>\n",
       "      <td>1886</td>\n",
       "      <td>9821</td>\n",
       "      <td>27349.95</td>\n",
       "    </tr>\n",
       "    <tr>\n",
       "      <th>1</th>\n",
       "      <td>CA</td>\n",
       "      <td>FOODS</td>\n",
       "      <td>1887</td>\n",
       "      <td>9845</td>\n",
       "      <td>26741.79</td>\n",
       "    </tr>\n",
       "    <tr>\n",
       "      <th>2</th>\n",
       "      <td>CA</td>\n",
       "      <td>FOODS</td>\n",
       "      <td>1888</td>\n",
       "      <td>9165</td>\n",
       "      <td>24731.91</td>\n",
       "    </tr>\n",
       "    <tr>\n",
       "      <th>3</th>\n",
       "      <td>CA</td>\n",
       "      <td>FOODS</td>\n",
       "      <td>1889</td>\n",
       "      <td>9941</td>\n",
       "      <td>26434.36</td>\n",
       "    </tr>\n",
       "    <tr>\n",
       "      <th>4</th>\n",
       "      <td>CA</td>\n",
       "      <td>FOODS</td>\n",
       "      <td>1890</td>\n",
       "      <td>11891</td>\n",
       "      <td>32464.87</td>\n",
       "    </tr>\n",
       "  </tbody>\n",
       "</table>\n",
       "</div>"
      ],
      "text/plain": [
       "  state_id cat_id  day_id  sales   sales_$\n",
       "0       CA  FOODS    1886   9821  27349.95\n",
       "1       CA  FOODS    1887   9845  26741.79\n",
       "2       CA  FOODS    1888   9165  24731.91\n",
       "3       CA  FOODS    1889   9941  26434.36\n",
       "4       CA  FOODS    1890  11891  32464.87"
      ]
     },
     "execution_count": 27,
     "metadata": {},
     "output_type": "execute_result"
    }
   ],
   "source": [
    "grp_fields=['state_id', 'cat_id']\n",
    "denom = lambda x: x.diff().abs().sum()\n",
    "denom.__name__ = 'a'\n",
    "grp_11 = (df_valid\n",
    "    .groupby(grp_fields + ['day_id'], as_index=False)\n",
    "    .agg({'sales': 'sum', 'sales_$': 'sum'})\n",
    ")\n",
    "grp_11.head()"
   ]
  },
  {
   "cell_type": "code",
   "execution_count": 28,
   "metadata": {
    "ExecuteTime": {
     "end_time": "2020-03-26T14:18:15.436688Z",
     "start_time": "2020-03-26T14:18:15.420682Z"
    }
   },
   "outputs": [
    {
     "data": {
      "text/plain": [
       "'0.25.0'"
      ]
     },
     "execution_count": 28,
     "metadata": {},
     "output_type": "execute_result"
    }
   ],
   "source": [
    "pd.__version__"
   ]
  },
  {
   "cell_type": "code",
   "execution_count": 29,
   "metadata": {
    "ExecuteTime": {
     "end_time": "2020-03-26T14:18:15.483345Z",
     "start_time": "2020-03-26T14:18:15.439072Z"
    }
   },
   "outputs": [
    {
     "data": {
      "text/plain": [
       "30.0"
      ]
     },
     "execution_count": 29,
     "metadata": {},
     "output_type": "execute_result"
    }
   ],
   "source": [
    "df_valid.query('id == \"HOBBIES_1_001_CA_1_validation\"')['sales'].diff().abs().sum()"
   ]
  },
  {
   "cell_type": "code",
   "execution_count": 30,
   "metadata": {
    "ExecuteTime": {
     "end_time": "2020-03-26T14:18:15.532888Z",
     "start_time": "2020-03-26T14:18:15.485298Z"
    }
   },
   "outputs": [
    {
     "name": "stdout",
     "output_type": "stream",
     "text": [
      "CPU times: user 27.1 ms, sys: 1.01 ms, total: 28.1 ms\n",
      "Wall time: 27.7 ms\n"
     ]
    }
   ],
   "source": [
    "%%time\n",
    "for level, expected_count in agg_level_expected_counts.items():\n",
    "    actual_count = (agg_series_counts\n",
    "         .query(f'agg_level == {level}')\n",
    "         .drop('agg_level', axis=1)\n",
    "         .max(axis=1)\n",
    "         .values[0]\n",
    "    )\n",
    "    assert expected_count == actual_count, f\"Expected {expected_count} at level {level}, got: {actual_count}\""
   ]
  },
  {
   "cell_type": "code",
   "execution_count": 31,
   "metadata": {
    "ExecuteTime": {
     "end_time": "2020-03-26T14:18:15.549663Z",
     "start_time": "2020-03-26T14:18:15.534536Z"
    }
   },
   "outputs": [
    {
     "data": {
      "text/plain": [
       "\"\\n>>> df_valid_w_aggs.query('day_id == 1886')['id'].value_counts()[:3]\\n1897    3041\\n1898    1952\\n1899    1394\\nName: id, dtype: int64\\n\""
      ]
     },
     "execution_count": 31,
     "metadata": {},
     "output_type": "execute_result"
    }
   ],
   "source": [
    "# grp_11['id'] = grp_11.sum(axis=1) # fishy, ints and not they sorta collide\n",
    "\"\"\"\n",
    ">>> df_valid_w_aggs.query('day_id == 1886')['id'].value_counts()[:3]\n",
    "1897    3041\n",
    "1898    1952\n",
    "1899    1394\n",
    "Name: id, dtype: int64\n",
    "\"\"\""
   ]
  },
  {
   "cell_type": "code",
   "execution_count": 32,
   "metadata": {
    "ExecuteTime": {
     "end_time": "2020-03-26T14:18:15.564924Z",
     "start_time": "2020-03-26T14:18:15.551529Z"
    }
   },
   "outputs": [],
   "source": [
    "# TODO:\n",
    "# pre-aggregate series\n",
    "# add weight per sales volumes\n",
    "# calculate rmssse\n",
    "# calculate wrmsse\n",
    "# ...\n",
    "# Profit!"
   ]
  },
  {
   "cell_type": "code",
   "execution_count": 33,
   "metadata": {
    "ExecuteTime": {
     "end_time": "2020-03-26T14:18:15.636900Z",
     "start_time": "2020-03-26T14:18:15.566647Z"
    }
   },
   "outputs": [],
   "source": [
    "eval_rows = df_sample_submission[df_sample_submission['id'].str.contains('_evaluation')]"
   ]
  },
  {
   "cell_type": "code",
   "execution_count": 34,
   "metadata": {
    "ExecuteTime": {
     "end_time": "2020-03-26T14:18:17.326631Z",
     "start_time": "2020-03-26T14:18:15.638574Z"
    }
   },
   "outputs": [],
   "source": [
    "(pd.concat([df_submission, eval_rows])\n",
    "    .to_csv(f'{submissions}/0200-naive.csv', index=False)\n",
    ")"
   ]
  },
  {
   "cell_type": "code",
   "execution_count": 35,
   "metadata": {
    "ExecuteTime": {
     "end_time": "2020-03-26T14:18:17.512451Z",
     "start_time": "2020-03-26T14:18:17.330115Z"
    }
   },
   "outputs": [
    {
     "name": "stdout",
     "output_type": "stream",
     "text": [
      "id,F1,F2,F3,F4,F5,F6,F7,F8,F9,F10,F11,F12,F13,F14,F15,F16,F17,F18,F19,F20,F21,F22,F23,F24,F25,F26,F27,F28\r\n",
      "FOODS_1_001_CA_1_validation,2,1,1,0,4,0,0,4,1,3,0,1,0,2,2,0,1,1,0,2,0,4,1,1,0,1,1,0\r\n"
     ]
    }
   ],
   "source": [
    "!head -n2 {submissions}/0200-naive.csv"
   ]
  },
  {
   "cell_type": "code",
   "execution_count": 36,
   "metadata": {
    "ExecuteTime": {
     "end_time": "2020-03-26T14:18:17.657309Z",
     "start_time": "2020-03-26T14:18:17.515145Z"
    }
   },
   "outputs": [
    {
     "name": "stdout",
     "output_type": "stream",
     "text": [
      "id,F1,F2,F3,F4,F5,F6,F7,F8,F9,F10,F11,F12,F13,F14,F15,F16,F17,F18,F19,F20,F21,F22,F23,F24,F25,F26,F27,F28\r\n",
      "HOBBIES_1_001_CA_1_validation,0,0,0,0,0,0,0,0,0,0,0,0,0,0,0,0,0,0,0,0,0,0,0,0,0,0,0,0\r\n"
     ]
    }
   ],
   "source": [
    "!head -n2 {raw}/sample_submission.csv"
   ]
  },
  {
   "cell_type": "code",
   "execution_count": 37,
   "metadata": {
    "ExecuteTime": {
     "end_time": "2020-03-26T14:18:17.805965Z",
     "start_time": "2020-03-26T14:18:17.659645Z"
    }
   },
   "outputs": [
    {
     "name": "stdout",
     "output_type": "stream",
     "text": [
      "   60981 submissions/0200-naive.csv\r\n"
     ]
    }
   ],
   "source": [
    "!wc -l {submissions}/0200-naive.csv"
   ]
  },
  {
   "cell_type": "code",
   "execution_count": 38,
   "metadata": {
    "ExecuteTime": {
     "end_time": "2020-03-26T14:18:17.959547Z",
     "start_time": "2020-03-26T14:18:17.809686Z"
    }
   },
   "outputs": [
    {
     "name": "stdout",
     "output_type": "stream",
     "text": [
      "   60981 raw/sample_submission.csv\r\n"
     ]
    }
   ],
   "source": [
    "!wc -l {raw}/sample_submission.csv"
   ]
  },
  {
   "cell_type": "code",
   "execution_count": 39,
   "metadata": {
    "ExecuteTime": {
     "end_time": "2020-03-26T14:18:19.074128Z",
     "start_time": "2020-03-26T14:18:17.961901Z"
    }
   },
   "outputs": [],
   "source": [
    "!open {submissions}"
   ]
  },
  {
   "cell_type": "code",
   "execution_count": 40,
   "metadata": {
    "ExecuteTime": {
     "end_time": "2020-03-26T14:18:19.573158Z",
     "start_time": "2020-03-26T14:18:19.077961Z"
    }
   },
   "outputs": [],
   "source": [
    "!open https://www.kaggle.com/c/m5-forecasting-accuracy/submit"
   ]
  },
  {
   "cell_type": "code",
   "execution_count": null,
   "metadata": {},
   "outputs": [],
   "source": []
  }
 ],
 "metadata": {
  "kernelspec": {
   "display_name": "Python 3",
   "language": "python",
   "name": "python3"
  },
  "language_info": {
   "codemirror_mode": {
    "name": "ipython",
    "version": 3
   },
   "file_extension": ".py",
   "mimetype": "text/x-python",
   "name": "python",
   "nbconvert_exporter": "python",
   "pygments_lexer": "ipython3",
   "version": "3.7.7"
  },
  "toc": {
   "base_numbering": 1,
   "nav_menu": {},
   "number_sections": true,
   "sideBar": true,
   "skip_h1_title": false,
   "title_cell": "Table of Contents",
   "title_sidebar": "Contents",
   "toc_cell": false,
   "toc_position": {},
   "toc_section_display": true,
   "toc_window_display": false
  },
  "varInspector": {
   "cols": {
    "lenName": 16,
    "lenType": 16,
    "lenVar": 40
   },
   "kernels_config": {
    "python": {
     "delete_cmd_postfix": "",
     "delete_cmd_prefix": "del ",
     "library": "var_list.py",
     "varRefreshCmd": "print(var_dic_list())"
    },
    "r": {
     "delete_cmd_postfix": ") ",
     "delete_cmd_prefix": "rm(",
     "library": "var_list.r",
     "varRefreshCmd": "cat(var_dic_list()) "
    }
   },
   "types_to_exclude": [
    "module",
    "function",
    "builtin_function_or_method",
    "instance",
    "_Feature"
   ],
   "window_display": false
  }
 },
 "nbformat": 4,
 "nbformat_minor": 2
}
