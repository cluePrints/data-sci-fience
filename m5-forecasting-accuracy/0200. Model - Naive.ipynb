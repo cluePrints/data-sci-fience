{
 "cells": [
  {
   "cell_type": "code",
   "execution_count": 1,
   "metadata": {},
   "outputs": [
    {
     "data": {
      "application/javascript": [
       "IPython.notebook.set_autosave_interval(60000)"
      ]
     },
     "metadata": {},
     "output_type": "display_data"
    },
    {
     "name": "stdout",
     "output_type": "stream",
     "text": [
      "Autosaving every 60 seconds\n"
     ]
    }
   ],
   "source": [
    "%load_ext autoreload\n",
    "%autoreload 2\n",
    "%autosave 60\n",
    "%matplotlib inline\n",
    "from ivanocode.ivanocommon import *\n",
    "import pandas as pd"
   ]
  },
  {
   "cell_type": "code",
   "execution_count": 2,
   "metadata": {},
   "outputs": [],
   "source": [
    "raw = 'raw'\n",
    "submissions = 'submissions'"
   ]
  },
  {
   "cell_type": "code",
   "execution_count": 3,
   "metadata": {},
   "outputs": [
    {
     "data": {
      "text/plain": [
       "Index(['id', 'F1', 'F2', 'F3', 'F4', 'F5', 'F6', 'F7', 'F8', 'F9', 'F10',\n",
       "       'F11', 'F12', 'F13', 'F14', 'F15', 'F16', 'F17', 'F18', 'F19', 'F20',\n",
       "       'F21', 'F22', 'F23', 'F24', 'F25', 'F26', 'F27', 'F28'],\n",
       "      dtype='object')"
      ]
     },
     "execution_count": 3,
     "metadata": {},
     "output_type": "execute_result"
    }
   ],
   "source": [
    "df_sample_submission = pd.read_csv(f'{raw}/sample_submission.csv')\n",
    "df_sample_submission.columns"
   ]
  },
  {
   "cell_type": "code",
   "execution_count": 4,
   "metadata": {},
   "outputs": [],
   "source": [
    "df_sales_train_melt = pd.read_feather('df_sales_train_melt.feather')"
   ]
  },
  {
   "cell_type": "code",
   "execution_count": 5,
   "metadata": {},
   "outputs": [
    {
     "data": {
      "text/html": [
       "<div>\n",
       "<style scoped>\n",
       "    .dataframe tbody tr th:only-of-type {\n",
       "        vertical-align: middle;\n",
       "    }\n",
       "\n",
       "    .dataframe tbody tr th {\n",
       "        vertical-align: top;\n",
       "    }\n",
       "\n",
       "    .dataframe thead th {\n",
       "        text-align: right;\n",
       "    }\n",
       "</style>\n",
       "<table border=\"1\" class=\"dataframe\">\n",
       "  <thead>\n",
       "    <tr style=\"text-align: right;\">\n",
       "      <th></th>\n",
       "      <th>id</th>\n",
       "      <th>item_id</th>\n",
       "      <th>dept_id</th>\n",
       "      <th>cat_id</th>\n",
       "      <th>store_id</th>\n",
       "      <th>state_id</th>\n",
       "      <th>day_id</th>\n",
       "      <th>sales</th>\n",
       "      <th>daily_avg_count</th>\n",
       "      <th>monthly_avg_count</th>\n",
       "      <th>day_date</th>\n",
       "      <th>day_date_str</th>\n",
       "      <th>month_id</th>\n",
       "      <th>month</th>\n",
       "      <th>year</th>\n",
       "      <th>date</th>\n",
       "      <th>wm_yr_wk</th>\n",
       "      <th>sell_price</th>\n",
       "      <th>sell_price_flip_count</th>\n",
       "    </tr>\n",
       "  </thead>\n",
       "  <tbody>\n",
       "    <tr>\n",
       "      <th>0</th>\n",
       "      <td>HOBBIES_1_001_CA_1_validation</td>\n",
       "      <td>HOBBIES_1_001</td>\n",
       "      <td>HOBBIES_1</td>\n",
       "      <td>HOBBIES</td>\n",
       "      <td>CA_1</td>\n",
       "      <td>CA</td>\n",
       "      <td>1</td>\n",
       "      <td>0</td>\n",
       "      <td>0.313643</td>\n",
       "      <td>9.409305</td>\n",
       "      <td>2011-01-29</td>\n",
       "      <td>2011-01-29</td>\n",
       "      <td>1</td>\n",
       "      <td>1</td>\n",
       "      <td>2011</td>\n",
       "      <td>2011-01-29</td>\n",
       "      <td>11101</td>\n",
       "      <td>NaN</td>\n",
       "      <td>1</td>\n",
       "    </tr>\n",
       "  </tbody>\n",
       "</table>\n",
       "</div>"
      ],
      "text/plain": [
       "                              id        item_id    dept_id   cat_id store_id  \\\n",
       "0  HOBBIES_1_001_CA_1_validation  HOBBIES_1_001  HOBBIES_1  HOBBIES     CA_1   \n",
       "\n",
       "  state_id  day_id  sales  daily_avg_count  monthly_avg_count   day_date  \\\n",
       "0       CA       1      0         0.313643           9.409305 2011-01-29   \n",
       "\n",
       "  day_date_str  month_id  month  year        date  wm_yr_wk  sell_price  \\\n",
       "0   2011-01-29         1      1  2011  2011-01-29     11101         NaN   \n",
       "\n",
       "   sell_price_flip_count  \n",
       "0                      1  "
      ]
     },
     "execution_count": 5,
     "metadata": {},
     "output_type": "execute_result"
    }
   ],
   "source": [
    "df_sales_train_melt.head(1)"
   ]
  },
  {
   "cell_type": "code",
   "execution_count": 6,
   "metadata": {},
   "outputs": [
    {
     "data": {
      "text/plain": [
       "(1, 1913)"
      ]
     },
     "execution_count": 6,
     "metadata": {},
     "output_type": "execute_result"
    }
   ],
   "source": [
    "days = df_sales_train_melt['day_id'].unique()\n",
    "days[0], days[-1]"
   ]
  },
  {
   "cell_type": "code",
   "execution_count": 7,
   "metadata": {},
   "outputs": [],
   "source": [
    "# F1 = d_1914, ... F28 = d_1941"
   ]
  },
  {
   "cell_type": "code",
   "execution_count": 8,
   "metadata": {},
   "outputs": [],
   "source": [
    "query = (\"id == 'HOBBIES_1_001_CA_1_validation' or \"+\n",
    "         \"id == 'HOBBIES_1_002_CA_1_validation' or \"+\n",
    "         \"id == 'HOBBIES_1_004_CA_1_validation'\")\n",
    "subset = df_sales_train_melt.query(query).copy()"
   ]
  },
  {
   "cell_type": "code",
   "execution_count": 9,
   "metadata": {},
   "outputs": [
    {
     "name": "stdout",
     "output_type": "stream",
     "text": [
      "CPU times: user 5.15 s, sys: 1.6 s, total: 6.75 s\n",
      "Wall time: 6.87 s\n"
     ]
    }
   ],
   "source": [
    "%%time\n",
    "min_day = 1885\n",
    "df_submission_melt = (df_sales_train_melt\n",
    "    .groupby('id', as_index=False)\n",
    "    .tail(28)\n",
    ")\n",
    "\n",
    "df_submission = (df_submission_melt\n",
    "    .pivot(index='id', columns='day_id', values='sales')\n",
    "    .rename(lambda x: f'F{x-min_day}', axis=1)\n",
    "    .reset_index()\n",
    "    .sort_values('id')\n",
    ")"
   ]
  },
  {
   "cell_type": "code",
   "execution_count": 10,
   "metadata": {},
   "outputs": [],
   "source": [
    "df_train = df_sales_train_melt.query('day_id < 1886').copy()"
   ]
  },
  {
   "cell_type": "code",
   "execution_count": 11,
   "metadata": {},
   "outputs": [],
   "source": [
    "df_pred = df_train.query(f'day_id >= {1886-28} & day_id <= {1913-28}').copy()"
   ]
  },
  {
   "cell_type": "code",
   "execution_count": 12,
   "metadata": {},
   "outputs": [],
   "source": [
    "df_valid = df_sales_train_melt.query('day_id >= 1886 & day_id <= 1913').copy()"
   ]
  },
  {
   "cell_type": "code",
   "execution_count": 47,
   "metadata": {},
   "outputs": [],
   "source": [
    "aggregation_levels = {\n",
    "    11: ['item_id', 'state_id'],\n",
    "    10: ['item_id'],\n",
    "    9:  ['store_id', 'dept_id'],\n",
    "    8:  ['store_id', 'cat_id'],\n",
    "    7:  ['state_id', 'dept_id'],\n",
    "    6:  ['state_id', 'cat_id'],\n",
    "    5:  ['dept_id'],\n",
    "    4:  ['cat_id'],\n",
    "    3:  ['store_id'],\n",
    "    2:  ['state_id'],\n",
    "    1:  [],\n",
    "}\n",
    "agg_level_expected_counts = {\n",
    "    11: 9147,\n",
    "    10: 3049,\n",
    "    9:  70,\n",
    "    8:  30,\n",
    "    7:  21,\n",
    "    6:  9,\n",
    "    5:  7,\n",
    "    4:  3,\n",
    "    3:  10,\n",
    "    2:  3\n",
    "}\n",
    "def with_aggregates(df):\n",
    "    result = [df]\n",
    "    for grp_id, grp_fields in aggregation_levels.items():\n",
    "        grp_11 = df.groupby(grp_fields + ['day_id'], as_index=False)['sales'].sum()\n",
    "        grp_11['agg_level'] = grp_id\n",
    "        grp_11['id'] = str(grp_id)\n",
    "        if len(grp_fields) > 0:\n",
    "            # Note to self: categoricals require cast\n",
    "            for col in grp_fields:\n",
    "                grp_11['id'] = grp_11['id'].str.cat(grp_11[col], sep=':')\n",
    "\n",
    "        result.append(grp_11)\n",
    "\n",
    "    return pd.concat(result, sort=False)\n",
    "\n",
    "df_valid_w_aggs = with_aggregates(df_valid)\n",
    "agg_series_counts = (df_valid_w_aggs.query('day_id == 1886')\n",
    "    [['id', 'item_id', 'dept_id', 'cat_id', 'store_id', 'agg_level', 'state_id']]\n",
    "    .groupby(['agg_level'], as_index=False)\n",
    "    .count()\n",
    ")"
   ]
  },
  {
   "cell_type": "code",
   "execution_count": 51,
   "metadata": {},
   "outputs": [
    {
     "data": {
      "text/plain": [
       "42840"
      ]
     },
     "execution_count": 51,
     "metadata": {},
     "output_type": "execute_result"
    }
   ],
   "source": [
    "df_valid_w_aggs.query('day_id==1909')['id'].count()"
   ]
  },
  {
   "cell_type": "code",
   "execution_count": 27,
   "metadata": {},
   "outputs": [
    {
     "data": {
      "text/html": [
       "<div>\n",
       "<style scoped>\n",
       "    .dataframe tbody tr th:only-of-type {\n",
       "        vertical-align: middle;\n",
       "    }\n",
       "\n",
       "    .dataframe tbody tr th {\n",
       "        vertical-align: top;\n",
       "    }\n",
       "\n",
       "    .dataframe thead th {\n",
       "        text-align: right;\n",
       "    }\n",
       "</style>\n",
       "<table border=\"1\" class=\"dataframe\">\n",
       "  <thead>\n",
       "    <tr style=\"text-align: right;\">\n",
       "      <th></th>\n",
       "      <th>state_id</th>\n",
       "      <th>cat_id</th>\n",
       "      <th>day_id</th>\n",
       "      <th>sales</th>\n",
       "      <th>id</th>\n",
       "    </tr>\n",
       "  </thead>\n",
       "  <tbody>\n",
       "    <tr>\n",
       "      <th>0</th>\n",
       "      <td>CA</td>\n",
       "      <td>FOODS</td>\n",
       "      <td>1886</td>\n",
       "      <td>9821</td>\n",
       "      <td>CA_FOODS</td>\n",
       "    </tr>\n",
       "    <tr>\n",
       "      <th>1</th>\n",
       "      <td>CA</td>\n",
       "      <td>FOODS</td>\n",
       "      <td>1887</td>\n",
       "      <td>9845</td>\n",
       "      <td>CA_FOODS</td>\n",
       "    </tr>\n",
       "    <tr>\n",
       "      <th>2</th>\n",
       "      <td>CA</td>\n",
       "      <td>FOODS</td>\n",
       "      <td>1888</td>\n",
       "      <td>9165</td>\n",
       "      <td>CA_FOODS</td>\n",
       "    </tr>\n",
       "    <tr>\n",
       "      <th>3</th>\n",
       "      <td>CA</td>\n",
       "      <td>FOODS</td>\n",
       "      <td>1889</td>\n",
       "      <td>9941</td>\n",
       "      <td>CA_FOODS</td>\n",
       "    </tr>\n",
       "    <tr>\n",
       "      <th>4</th>\n",
       "      <td>CA</td>\n",
       "      <td>FOODS</td>\n",
       "      <td>1890</td>\n",
       "      <td>11891</td>\n",
       "      <td>CA_FOODS</td>\n",
       "    </tr>\n",
       "  </tbody>\n",
       "</table>\n",
       "</div>"
      ],
      "text/plain": [
       "  state_id cat_id  day_id  sales        id\n",
       "0       CA  FOODS    1886   9821  CA_FOODS\n",
       "1       CA  FOODS    1887   9845  CA_FOODS\n",
       "2       CA  FOODS    1888   9165  CA_FOODS\n",
       "3       CA  FOODS    1889   9941  CA_FOODS\n",
       "4       CA  FOODS    1890  11891  CA_FOODS"
      ]
     },
     "execution_count": 27,
     "metadata": {},
     "output_type": "execute_result"
    }
   ],
   "source": [
    "grp_fields=['state_id', 'cat_id']\n",
    "grp_11 = df_valid.groupby(grp_fields + ['day_id'], as_index=False)['sales'].sum()\n",
    "grp_11['id'] = grp_11[grp_fields[0]]\n",
    "for col in grp_fields[1:]:\n",
    "    grp_11['id'] = grp_11['id'].str.cat(grp_11[col], sep='_')\n",
    "grp_11.head()"
   ]
  },
  {
   "cell_type": "code",
   "execution_count": 52,
   "metadata": {},
   "outputs": [
    {
     "name": "stdout",
     "output_type": "stream",
     "text": [
      "CPU times: user 29.9 ms, sys: 1.35 ms, total: 31.3 ms\n",
      "Wall time: 30.4 ms\n"
     ]
    }
   ],
   "source": [
    "%%time\n",
    "for level, expected_count in agg_level_expected_counts.items():\n",
    "    actual_count = (agg_series_counts\n",
    "         .query(f'agg_level == {level}')\n",
    "         .drop('agg_level', axis=1)\n",
    "         .max(axis=1)\n",
    "         .values[0]\n",
    "    )\n",
    "    assert expected_count == actual_count, f\"Expected {expected_count} at level {level}, got: {actual_count}\""
   ]
  },
  {
   "cell_type": "code",
   "execution_count": 53,
   "metadata": {},
   "outputs": [
    {
     "data": {
      "text/plain": [
       "\"\\n>>> df_valid_w_aggs.query('day_id == 1886')['id'].value_counts()[:3]\\n1897    3041\\n1898    1952\\n1899    1394\\nName: id, dtype: int64\\n\""
      ]
     },
     "execution_count": 53,
     "metadata": {},
     "output_type": "execute_result"
    }
   ],
   "source": [
    "# grp_11['id'] = grp_11.sum(axis=1) # fishy, ints and not they sorta collide\n",
    "\"\"\"\n",
    ">>> df_valid_w_aggs.query('day_id == 1886')['id'].value_counts()[:3]\n",
    "1897    3041\n",
    "1898    1952\n",
    "1899    1394\n",
    "Name: id, dtype: int64\n",
    "\"\"\""
   ]
  },
  {
   "cell_type": "code",
   "execution_count": 54,
   "metadata": {},
   "outputs": [],
   "source": [
    "# TODO:\n",
    "# pre-aggregate series\n",
    "# add weight per sales volumes\n",
    "# calculate rmssse\n",
    "# calculate wrmsse\n",
    "# ...\n",
    "# Profit!"
   ]
  },
  {
   "cell_type": "code",
   "execution_count": 55,
   "metadata": {},
   "outputs": [],
   "source": [
    "eval_rows = df_sample_submission[df_sample_submission['id'].str.contains('_evaluation')]"
   ]
  },
  {
   "cell_type": "code",
   "execution_count": 56,
   "metadata": {},
   "outputs": [],
   "source": [
    "(pd.concat([df_submission, eval_rows])\n",
    "    .to_csv(f'{submissions}/0200-naive.csv', index=False)\n",
    ")"
   ]
  },
  {
   "cell_type": "code",
   "execution_count": 57,
   "metadata": {},
   "outputs": [
    {
     "name": "stdout",
     "output_type": "stream",
     "text": [
      "id,F1,F2,F3,F4,F5,F6,F7,F8,F9,F10,F11,F12,F13,F14,F15,F16,F17,F18,F19,F20,F21,F22,F23,F24,F25,F26,F27,F28\r\n",
      "FOODS_1_001_CA_1_validation,2,1,1,0,4,0,0,4,1,3,0,1,0,2,2,0,1,1,0,2,0,4,1,1,0,1,1,0\r\n"
     ]
    }
   ],
   "source": [
    "!head -n2 {submissions}/0200-naive.csv"
   ]
  },
  {
   "cell_type": "code",
   "execution_count": 58,
   "metadata": {},
   "outputs": [
    {
     "name": "stdout",
     "output_type": "stream",
     "text": [
      "id,F1,F2,F3,F4,F5,F6,F7,F8,F9,F10,F11,F12,F13,F14,F15,F16,F17,F18,F19,F20,F21,F22,F23,F24,F25,F26,F27,F28\r\n",
      "HOBBIES_1_001_CA_1_validation,0,0,0,0,0,0,0,0,0,0,0,0,0,0,0,0,0,0,0,0,0,0,0,0,0,0,0,0\r\n"
     ]
    }
   ],
   "source": [
    "!head -n2 {raw}/sample_submission.csv"
   ]
  },
  {
   "cell_type": "code",
   "execution_count": 59,
   "metadata": {},
   "outputs": [
    {
     "name": "stdout",
     "output_type": "stream",
     "text": [
      "   60981 submissions/0200-naive.csv\r\n"
     ]
    }
   ],
   "source": [
    "!wc -l {submissions}/0200-naive.csv"
   ]
  },
  {
   "cell_type": "code",
   "execution_count": 60,
   "metadata": {},
   "outputs": [
    {
     "name": "stdout",
     "output_type": "stream",
     "text": [
      "   60981 raw/sample_submission.csv\r\n"
     ]
    }
   ],
   "source": [
    "!wc -l {raw}/sample_submission.csv"
   ]
  },
  {
   "cell_type": "code",
   "execution_count": 25,
   "metadata": {},
   "outputs": [],
   "source": [
    "!open {submissions}"
   ]
  },
  {
   "cell_type": "code",
   "execution_count": 26,
   "metadata": {},
   "outputs": [],
   "source": [
    "!open https://www.kaggle.com/c/m5-forecasting-accuracy/submit"
   ]
  },
  {
   "cell_type": "code",
   "execution_count": null,
   "metadata": {},
   "outputs": [],
   "source": []
  }
 ],
 "metadata": {
  "kernelspec": {
   "display_name": "Python 3",
   "language": "python",
   "name": "python3"
  },
  "language_info": {
   "codemirror_mode": {
    "name": "ipython",
    "version": 3
   },
   "file_extension": ".py",
   "mimetype": "text/x-python",
   "name": "python",
   "nbconvert_exporter": "python",
   "pygments_lexer": "ipython3",
   "version": "3.7.7"
  },
  "toc": {
   "base_numbering": 1,
   "nav_menu": {},
   "number_sections": true,
   "sideBar": true,
   "skip_h1_title": false,
   "title_cell": "Table of Contents",
   "title_sidebar": "Contents",
   "toc_cell": false,
   "toc_position": {},
   "toc_section_display": true,
   "toc_window_display": false
  },
  "varInspector": {
   "cols": {
    "lenName": 16,
    "lenType": 16,
    "lenVar": 40
   },
   "kernels_config": {
    "python": {
     "delete_cmd_postfix": "",
     "delete_cmd_prefix": "del ",
     "library": "var_list.py",
     "varRefreshCmd": "print(var_dic_list())"
    },
    "r": {
     "delete_cmd_postfix": ") ",
     "delete_cmd_prefix": "rm(",
     "library": "var_list.r",
     "varRefreshCmd": "cat(var_dic_list()) "
    }
   },
   "types_to_exclude": [
    "module",
    "function",
    "builtin_function_or_method",
    "instance",
    "_Feature"
   ],
   "window_display": false
  }
 },
 "nbformat": 4,
 "nbformat_minor": 2
}
