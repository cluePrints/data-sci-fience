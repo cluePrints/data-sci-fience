{
 "cells": [
  {
   "cell_type": "code",
   "execution_count": 1,
   "metadata": {
    "ExecuteTime": {
     "end_time": "2020-03-27T12:24:32.153858Z",
     "start_time": "2020-03-27T12:24:25.293712Z"
    }
   },
   "outputs": [
    {
     "data": {
      "application/javascript": [
       "IPython.notebook.set_autosave_interval(60000)"
      ]
     },
     "metadata": {},
     "output_type": "display_data"
    },
    {
     "name": "stdout",
     "output_type": "stream",
     "text": [
      "Autosaving every 60 seconds\n"
     ]
    }
   ],
   "source": [
    "%load_ext autoreload\n",
    "%autoreload 2\n",
    "%autosave 60\n",
    "%matplotlib inline\n",
    "from ivanocode.ivanocommon import *\n",
    "import pandas as pd"
   ]
  },
  {
   "cell_type": "code",
   "execution_count": 2,
   "metadata": {
    "ExecuteTime": {
     "end_time": "2020-03-27T12:24:32.170545Z",
     "start_time": "2020-03-27T12:24:32.156028Z"
    }
   },
   "outputs": [],
   "source": [
    "raw = 'raw'\n",
    "submissions = 'submissions'"
   ]
  },
  {
   "cell_type": "code",
   "execution_count": 3,
   "metadata": {
    "ExecuteTime": {
     "end_time": "2020-03-27T12:24:32.423241Z",
     "start_time": "2020-03-27T12:24:32.172357Z"
    }
   },
   "outputs": [
    {
     "data": {
      "text/plain": [
       "Index(['id', 'F1', 'F2', 'F3', 'F4', 'F5', 'F6', 'F7', 'F8', 'F9', 'F10',\n",
       "       'F11', 'F12', 'F13', 'F14', 'F15', 'F16', 'F17', 'F18', 'F19', 'F20',\n",
       "       'F21', 'F22', 'F23', 'F24', 'F25', 'F26', 'F27', 'F28'],\n",
       "      dtype='object')"
      ]
     },
     "execution_count": 3,
     "metadata": {},
     "output_type": "execute_result"
    }
   ],
   "source": [
    "df_sample_submission = pd.read_csv(f'{raw}/sample_submission.csv')\n",
    "df_sample_submission.columns"
   ]
  },
  {
   "cell_type": "code",
   "execution_count": 4,
   "metadata": {
    "ExecuteTime": {
     "end_time": "2020-03-27T12:25:11.563496Z",
     "start_time": "2020-03-27T12:24:32.425908Z"
    }
   },
   "outputs": [],
   "source": [
    "df_sales_train_melt = pd.read_feather('df_sales_train_melt.feather')"
   ]
  },
  {
   "cell_type": "code",
   "execution_count": 5,
   "metadata": {
    "ExecuteTime": {
     "end_time": "2020-03-27T12:25:11.732772Z",
     "start_time": "2020-03-27T12:25:11.572005Z"
    }
   },
   "outputs": [
    {
     "data": {
      "text/html": [
       "<div>\n",
       "<style scoped>\n",
       "    .dataframe tbody tr th:only-of-type {\n",
       "        vertical-align: middle;\n",
       "    }\n",
       "\n",
       "    .dataframe tbody tr th {\n",
       "        vertical-align: top;\n",
       "    }\n",
       "\n",
       "    .dataframe thead th {\n",
       "        text-align: right;\n",
       "    }\n",
       "</style>\n",
       "<table border=\"1\" class=\"dataframe\">\n",
       "  <thead>\n",
       "    <tr style=\"text-align: right;\">\n",
       "      <th></th>\n",
       "      <th>id</th>\n",
       "      <th>item_id</th>\n",
       "      <th>dept_id</th>\n",
       "      <th>cat_id</th>\n",
       "      <th>store_id</th>\n",
       "      <th>state_id</th>\n",
       "      <th>day_id</th>\n",
       "      <th>sales</th>\n",
       "      <th>daily_avg_count</th>\n",
       "      <th>monthly_avg_count</th>\n",
       "      <th>day_date</th>\n",
       "      <th>day_date_str</th>\n",
       "      <th>month_id</th>\n",
       "      <th>month</th>\n",
       "      <th>year</th>\n",
       "      <th>date</th>\n",
       "      <th>wm_yr_wk</th>\n",
       "      <th>sell_price</th>\n",
       "      <th>sell_price_flip_count</th>\n",
       "    </tr>\n",
       "  </thead>\n",
       "  <tbody>\n",
       "    <tr>\n",
       "      <th>0</th>\n",
       "      <td>HOBBIES_1_001_CA_1_validation</td>\n",
       "      <td>HOBBIES_1_001</td>\n",
       "      <td>HOBBIES_1</td>\n",
       "      <td>HOBBIES</td>\n",
       "      <td>CA_1</td>\n",
       "      <td>CA</td>\n",
       "      <td>1</td>\n",
       "      <td>0</td>\n",
       "      <td>0.313643</td>\n",
       "      <td>9.409305</td>\n",
       "      <td>2011-01-29</td>\n",
       "      <td>2011-01-29</td>\n",
       "      <td>1</td>\n",
       "      <td>1</td>\n",
       "      <td>2011</td>\n",
       "      <td>2011-01-29</td>\n",
       "      <td>11101</td>\n",
       "      <td>NaN</td>\n",
       "      <td>1</td>\n",
       "    </tr>\n",
       "  </tbody>\n",
       "</table>\n",
       "</div>"
      ],
      "text/plain": [
       "                              id        item_id    dept_id   cat_id store_id  \\\n",
       "0  HOBBIES_1_001_CA_1_validation  HOBBIES_1_001  HOBBIES_1  HOBBIES     CA_1   \n",
       "\n",
       "  state_id  day_id  sales  daily_avg_count  monthly_avg_count   day_date  \\\n",
       "0       CA       1      0         0.313643           9.409305 2011-01-29   \n",
       "\n",
       "  day_date_str  month_id  month  year        date  wm_yr_wk  sell_price  \\\n",
       "0   2011-01-29         1      1  2011  2011-01-29     11101         NaN   \n",
       "\n",
       "   sell_price_flip_count  \n",
       "0                      1  "
      ]
     },
     "execution_count": 5,
     "metadata": {},
     "output_type": "execute_result"
    }
   ],
   "source": [
    "df_sales_train_melt.head(1)"
   ]
  },
  {
   "cell_type": "code",
   "execution_count": 6,
   "metadata": {
    "ExecuteTime": {
     "end_time": "2020-03-27T12:25:12.556284Z",
     "start_time": "2020-03-27T12:25:11.734562Z"
    }
   },
   "outputs": [
    {
     "data": {
      "text/plain": [
       "(1, 1913)"
      ]
     },
     "execution_count": 6,
     "metadata": {},
     "output_type": "execute_result"
    }
   ],
   "source": [
    "days = df_sales_train_melt['day_id'].unique()\n",
    "days[0], days[-1]"
   ]
  },
  {
   "cell_type": "code",
   "execution_count": 7,
   "metadata": {
    "ExecuteTime": {
     "end_time": "2020-03-27T12:25:12.575635Z",
     "start_time": "2020-03-27T12:25:12.558582Z"
    }
   },
   "outputs": [],
   "source": [
    "# F1 = d_1914, ... F28 = d_1941"
   ]
  },
  {
   "cell_type": "code",
   "execution_count": 8,
   "metadata": {
    "ExecuteTime": {
     "end_time": "2020-03-27T12:25:15.220591Z",
     "start_time": "2020-03-27T12:25:12.577372Z"
    }
   },
   "outputs": [],
   "source": [
    "query = (\"id == 'HOBBIES_1_001_CA_1_validation' or \"+\n",
    "         \"id == 'HOBBIES_1_002_CA_1_validation' or \"+\n",
    "         \"id == 'HOBBIES_1_004_CA_1_validation'\")\n",
    "subset = df_sales_train_melt.query(query).copy()"
   ]
  },
  {
   "cell_type": "code",
   "execution_count": 9,
   "metadata": {
    "ExecuteTime": {
     "end_time": "2020-03-27T12:25:22.414084Z",
     "start_time": "2020-03-27T12:25:15.222340Z"
    }
   },
   "outputs": [
    {
     "name": "stdout",
     "output_type": "stream",
     "text": [
      "CPU times: user 4.99 s, sys: 2.06 s, total: 7.04 s\n",
      "Wall time: 7.17 s\n"
     ]
    }
   ],
   "source": [
    "%%time\n",
    "min_day = 1885\n",
    "df_submission_melt = (df_sales_train_melt\n",
    "    .groupby('id', as_index=False)\n",
    "    .tail(28)\n",
    ")\n",
    "\n",
    "df_submission = (df_submission_melt\n",
    "    .pivot(index='id', columns='day_id', values='sales')\n",
    "    .rename(lambda x: f'F{x-min_day}', axis=1)\n",
    "    .reset_index()\n",
    "    .sort_values('id')\n",
    ")"
   ]
  },
  {
   "cell_type": "code",
   "execution_count": 10,
   "metadata": {
    "ExecuteTime": {
     "end_time": "2020-03-27T12:26:01.837362Z",
     "start_time": "2020-03-27T12:25:22.415828Z"
    }
   },
   "outputs": [],
   "source": [
    "df_train = df_sales_train_melt.query('day_id < 1886').copy()"
   ]
  },
  {
   "cell_type": "code",
   "execution_count": 11,
   "metadata": {
    "ExecuteTime": {
     "end_time": "2020-03-27T12:26:03.971623Z",
     "start_time": "2020-03-27T12:26:01.851205Z"
    }
   },
   "outputs": [],
   "source": [
    "df_pred = df_train.query(f'day_id >= {1886-28} & day_id <= {1913-28}').copy()"
   ]
  },
  {
   "cell_type": "code",
   "execution_count": 12,
   "metadata": {
    "ExecuteTime": {
     "end_time": "2020-03-27T12:26:06.170093Z",
     "start_time": "2020-03-27T12:26:03.974246Z"
    }
   },
   "outputs": [],
   "source": [
    "df_valid = df_sales_train_melt.query('day_id >= 1886 & day_id <= 1913').copy()"
   ]
  },
  {
   "cell_type": "code",
   "execution_count": 13,
   "metadata": {
    "ExecuteTime": {
     "end_time": "2020-03-27T12:26:06.197947Z",
     "start_time": "2020-03-27T12:26:06.172622Z"
    }
   },
   "outputs": [],
   "source": [
    "aggregation_levels = {\n",
    "    11: ['item_id', 'state_id'],\n",
    "    10: ['item_id'],\n",
    "    9:  ['store_id', 'dept_id'],\n",
    "    8:  ['store_id', 'cat_id'],\n",
    "    7:  ['state_id', 'dept_id'],\n",
    "    6:  ['state_id', 'cat_id'],\n",
    "    5:  ['dept_id'],\n",
    "    4:  ['cat_id'],\n",
    "    3:  ['store_id'],\n",
    "    2:  ['state_id'],\n",
    "    1:  [],\n",
    "}\n",
    "agg_level_expected_counts = {\n",
    "    11: 9147,\n",
    "    10: 3049,\n",
    "    9:  70,\n",
    "    8:  30,\n",
    "    7:  21,\n",
    "    6:  9,\n",
    "    5:  7,\n",
    "    4:  3,\n",
    "    3:  10,\n",
    "    2:  3\n",
    "}"
   ]
  },
  {
   "cell_type": "code",
   "execution_count": 14,
   "metadata": {
    "ExecuteTime": {
     "end_time": "2020-03-27T12:26:06.224757Z",
     "start_time": "2020-03-27T12:26:06.200697Z"
    }
   },
   "outputs": [],
   "source": [
    "def add_group_id_col(df, grp_id, grp_fields):\n",
    "    df['id'] = str(grp_id)\n",
    "    if len(grp_fields) > 0:\n",
    "        # Note to self: categoricals require cast\n",
    "        for col in grp_fields:\n",
    "            df['id'] = df['id'].str.cat(df[col], sep=':')\n",
    "\n",
    "def with_aggregates(df, agg_levels=aggregation_levels):\n",
    "    result = [df]\n",
    "    df['agg_level'] = 12\n",
    "    df['sales_$'] = df['sales']*df['sell_price']\n",
    "    for grp_id, grp_fields in agg_levels.items():\n",
    "        grp_11 = (df\n",
    "                  .groupby(grp_fields + ['day_id'], as_index=False)\n",
    "                  .agg({'sales': 'sum', 'sales_$': 'sum'})\n",
    "        )\n",
    "        grp_11['agg_level'] = grp_id\n",
    "        add_group_id_col(grp_11, grp_id, grp_fields)\n",
    "\n",
    "        result.append(grp_11)\n",
    "\n",
    "    df = pd.concat(result, sort=False)\n",
    "    df['sales_delta_sum'] = (df\n",
    "              .groupby(['id'], as_index=False)\n",
    "              ['sales']\n",
    "              .transform(lambda x: x.diff().abs().sum())\n",
    "    )\n",
    "    # Note to self: ordering dependencies are a beast! Wouldn't it be fun to prevent cell & statement reordering unless it's safe & consistent?\n",
    "    df['day_id_rel'] = df['day_id'] - df['day_id'].min()\n",
    "\n",
    "    return df"
   ]
  },
  {
   "cell_type": "code",
   "execution_count": 15,
   "metadata": {
    "ExecuteTime": {
     "end_time": "2020-03-27T12:27:00.630087Z",
     "start_time": "2020-03-27T12:26:06.226548Z"
    }
   },
   "outputs": [],
   "source": [
    "df_valid_w_aggs = with_aggregates(df_valid)"
   ]
  },
  {
   "cell_type": "code",
   "execution_count": 16,
   "metadata": {
    "ExecuteTime": {
     "end_time": "2020-03-27T12:27:00.692157Z",
     "start_time": "2020-03-27T12:27:00.632216Z"
    }
   },
   "outputs": [
    {
     "data": {
      "text/html": [
       "<div>\n",
       "<style scoped>\n",
       "    .dataframe tbody tr th:only-of-type {\n",
       "        vertical-align: middle;\n",
       "    }\n",
       "\n",
       "    .dataframe tbody tr th {\n",
       "        vertical-align: top;\n",
       "    }\n",
       "\n",
       "    .dataframe thead th {\n",
       "        text-align: right;\n",
       "    }\n",
       "</style>\n",
       "<table border=\"1\" class=\"dataframe\">\n",
       "  <thead>\n",
       "    <tr style=\"text-align: right;\">\n",
       "      <th></th>\n",
       "      <th>id</th>\n",
       "      <th>item_id</th>\n",
       "      <th>dept_id</th>\n",
       "      <th>cat_id</th>\n",
       "      <th>store_id</th>\n",
       "      <th>state_id</th>\n",
       "      <th>day_id</th>\n",
       "      <th>sales</th>\n",
       "      <th>daily_avg_count</th>\n",
       "      <th>monthly_avg_count</th>\n",
       "      <th>...</th>\n",
       "      <th>month</th>\n",
       "      <th>year</th>\n",
       "      <th>date</th>\n",
       "      <th>wm_yr_wk</th>\n",
       "      <th>sell_price</th>\n",
       "      <th>sell_price_flip_count</th>\n",
       "      <th>agg_level</th>\n",
       "      <th>sales_$</th>\n",
       "      <th>sales_delta_sum</th>\n",
       "      <th>day_id_rel</th>\n",
       "    </tr>\n",
       "  </thead>\n",
       "  <tbody>\n",
       "    <tr>\n",
       "      <th>27</th>\n",
       "      <td>1</td>\n",
       "      <td>NaN</td>\n",
       "      <td>NaN</td>\n",
       "      <td>NaN</td>\n",
       "      <td>NaN</td>\n",
       "      <td>NaN</td>\n",
       "      <td>1913</td>\n",
       "      <td>49795</td>\n",
       "      <td>NaN</td>\n",
       "      <td>NaN</td>\n",
       "      <td>...</td>\n",
       "      <td>NaN</td>\n",
       "      <td>NaN</td>\n",
       "      <td>NaN</td>\n",
       "      <td>NaN</td>\n",
       "      <td>NaN</td>\n",
       "      <td>NaN</td>\n",
       "      <td>1</td>\n",
       "      <td>162924.07</td>\n",
       "      <td>133244.0</td>\n",
       "      <td>27</td>\n",
       "    </tr>\n",
       "  </tbody>\n",
       "</table>\n",
       "<p>1 rows × 23 columns</p>\n",
       "</div>"
      ],
      "text/plain": [
       "   id item_id dept_id cat_id store_id state_id  day_id  sales  \\\n",
       "27  1     NaN     NaN    NaN      NaN      NaN    1913  49795   \n",
       "\n",
       "    daily_avg_count  monthly_avg_count  ... month year  date  wm_yr_wk  \\\n",
       "27              NaN                NaN  ...   NaN  NaN   NaN       NaN   \n",
       "\n",
       "    sell_price sell_price_flip_count  agg_level    sales_$  sales_delta_sum  \\\n",
       "27         NaN                   NaN          1  162924.07         133244.0   \n",
       "\n",
       "    day_id_rel  \n",
       "27          27  \n",
       "\n",
       "[1 rows x 23 columns]"
      ]
     },
     "execution_count": 16,
     "metadata": {},
     "output_type": "execute_result"
    }
   ],
   "source": [
    "df_valid_w_aggs.tail(1)"
   ]
  },
  {
   "cell_type": "code",
   "execution_count": 17,
   "metadata": {
    "ExecuteTime": {
     "end_time": "2020-03-27T12:27:54.834121Z",
     "start_time": "2020-03-27T12:27:00.694410Z"
    }
   },
   "outputs": [],
   "source": [
    "df_pred_w_aggs = with_aggregates(df_pred)"
   ]
  },
  {
   "cell_type": "code",
   "execution_count": 18,
   "metadata": {
    "ExecuteTime": {
     "end_time": "2020-03-27T12:27:54.901581Z",
     "start_time": "2020-03-27T12:27:54.840174Z"
    }
   },
   "outputs": [
    {
     "data": {
      "text/html": [
       "<div>\n",
       "<style scoped>\n",
       "    .dataframe tbody tr th:only-of-type {\n",
       "        vertical-align: middle;\n",
       "    }\n",
       "\n",
       "    .dataframe tbody tr th {\n",
       "        vertical-align: top;\n",
       "    }\n",
       "\n",
       "    .dataframe thead th {\n",
       "        text-align: right;\n",
       "    }\n",
       "</style>\n",
       "<table border=\"1\" class=\"dataframe\">\n",
       "  <thead>\n",
       "    <tr style=\"text-align: right;\">\n",
       "      <th></th>\n",
       "      <th>id</th>\n",
       "      <th>item_id</th>\n",
       "      <th>dept_id</th>\n",
       "      <th>cat_id</th>\n",
       "      <th>store_id</th>\n",
       "      <th>state_id</th>\n",
       "      <th>day_id</th>\n",
       "      <th>sales</th>\n",
       "      <th>daily_avg_count</th>\n",
       "      <th>monthly_avg_count</th>\n",
       "      <th>...</th>\n",
       "      <th>month</th>\n",
       "      <th>year</th>\n",
       "      <th>date</th>\n",
       "      <th>wm_yr_wk</th>\n",
       "      <th>sell_price</th>\n",
       "      <th>sell_price_flip_count</th>\n",
       "      <th>agg_level</th>\n",
       "      <th>sales_$</th>\n",
       "      <th>sales_delta_sum</th>\n",
       "      <th>day_id_rel</th>\n",
       "    </tr>\n",
       "  </thead>\n",
       "  <tbody>\n",
       "    <tr>\n",
       "      <th>56619930</th>\n",
       "      <td>HOBBIES_1_001_CA_1_validation</td>\n",
       "      <td>HOBBIES_1_001</td>\n",
       "      <td>HOBBIES_1</td>\n",
       "      <td>HOBBIES</td>\n",
       "      <td>CA_1</td>\n",
       "      <td>CA</td>\n",
       "      <td>1858</td>\n",
       "      <td>0</td>\n",
       "      <td>0.313643</td>\n",
       "      <td>9.409305</td>\n",
       "      <td>...</td>\n",
       "      <td>2.0</td>\n",
       "      <td>2016.0</td>\n",
       "      <td>2016-02-29</td>\n",
       "      <td>11605.0</td>\n",
       "      <td>8.26</td>\n",
       "      <td>1.0</td>\n",
       "      <td>12</td>\n",
       "      <td>0.0</td>\n",
       "      <td>27.0</td>\n",
       "      <td>0</td>\n",
       "    </tr>\n",
       "    <tr>\n",
       "      <th>56619931</th>\n",
       "      <td>HOBBIES_1_002_CA_1_validation</td>\n",
       "      <td>HOBBIES_1_002</td>\n",
       "      <td>HOBBIES_1</td>\n",
       "      <td>HOBBIES</td>\n",
       "      <td>CA_1</td>\n",
       "      <td>CA</td>\n",
       "      <td>1858</td>\n",
       "      <td>0</td>\n",
       "      <td>0.257710</td>\n",
       "      <td>7.731312</td>\n",
       "      <td>...</td>\n",
       "      <td>2.0</td>\n",
       "      <td>2016.0</td>\n",
       "      <td>2016-02-29</td>\n",
       "      <td>11605.0</td>\n",
       "      <td>3.97</td>\n",
       "      <td>1.0</td>\n",
       "      <td>12</td>\n",
       "      <td>0.0</td>\n",
       "      <td>9.0</td>\n",
       "      <td>0</td>\n",
       "    </tr>\n",
       "    <tr>\n",
       "      <th>56619932</th>\n",
       "      <td>HOBBIES_1_003_CA_1_validation</td>\n",
       "      <td>HOBBIES_1_003</td>\n",
       "      <td>HOBBIES_1</td>\n",
       "      <td>HOBBIES</td>\n",
       "      <td>CA_1</td>\n",
       "      <td>CA</td>\n",
       "      <td>1858</td>\n",
       "      <td>0</td>\n",
       "      <td>0.150549</td>\n",
       "      <td>4.516466</td>\n",
       "      <td>...</td>\n",
       "      <td>2.0</td>\n",
       "      <td>2016.0</td>\n",
       "      <td>2016-02-29</td>\n",
       "      <td>11605.0</td>\n",
       "      <td>2.97</td>\n",
       "      <td>1.0</td>\n",
       "      <td>12</td>\n",
       "      <td>0.0</td>\n",
       "      <td>20.0</td>\n",
       "      <td>0</td>\n",
       "    </tr>\n",
       "  </tbody>\n",
       "</table>\n",
       "<p>3 rows × 23 columns</p>\n",
       "</div>"
      ],
      "text/plain": [
       "                                     id        item_id    dept_id   cat_id  \\\n",
       "56619930  HOBBIES_1_001_CA_1_validation  HOBBIES_1_001  HOBBIES_1  HOBBIES   \n",
       "56619931  HOBBIES_1_002_CA_1_validation  HOBBIES_1_002  HOBBIES_1  HOBBIES   \n",
       "56619932  HOBBIES_1_003_CA_1_validation  HOBBIES_1_003  HOBBIES_1  HOBBIES   \n",
       "\n",
       "         store_id state_id  day_id  sales  daily_avg_count  monthly_avg_count  \\\n",
       "56619930     CA_1       CA    1858      0         0.313643           9.409305   \n",
       "56619931     CA_1       CA    1858      0         0.257710           7.731312   \n",
       "56619932     CA_1       CA    1858      0         0.150549           4.516466   \n",
       "\n",
       "          ... month    year        date  wm_yr_wk  sell_price  \\\n",
       "56619930  ...   2.0  2016.0  2016-02-29   11605.0        8.26   \n",
       "56619931  ...   2.0  2016.0  2016-02-29   11605.0        3.97   \n",
       "56619932  ...   2.0  2016.0  2016-02-29   11605.0        2.97   \n",
       "\n",
       "         sell_price_flip_count  agg_level  sales_$  sales_delta_sum  \\\n",
       "56619930                   1.0         12      0.0             27.0   \n",
       "56619931                   1.0         12      0.0              9.0   \n",
       "56619932                   1.0         12      0.0             20.0   \n",
       "\n",
       "          day_id_rel  \n",
       "56619930           0  \n",
       "56619931           0  \n",
       "56619932           0  \n",
       "\n",
       "[3 rows x 23 columns]"
      ]
     },
     "execution_count": 18,
     "metadata": {},
     "output_type": "execute_result"
    }
   ],
   "source": [
    "df_pred_w_aggs.head(3)"
   ]
  },
  {
   "cell_type": "code",
   "execution_count": 19,
   "metadata": {
    "ExecuteTime": {
     "end_time": "2020-03-27T12:28:13.328295Z",
     "start_time": "2020-03-27T12:27:54.908642Z"
    }
   },
   "outputs": [],
   "source": [
    "cols = ['id', 'day_id_rel', 'sales', 'sales_$', 'agg_level']\n",
    "t = (df_valid_w_aggs[cols]\n",
    "        .merge(df_pred_w_aggs[cols], \n",
    "               on=['id', 'day_id_rel'], \n",
    "               suffixes=('_valid', '_pred')))\n",
    "t['daily_sales_err^2'] = (t['sales_valid'] - t['sales_pred']).pow(2)\n",
    "def agg_as_is(x):\n",
    "    vals = x.unique()\n",
    "    if (len(vals) == 1):\n",
    "        return vals[0]\n",
    "    raise ValueError(f\"Expected single unique val, got: {vals}\" )\n",
    "\n",
    "t = t.groupby(['id', 'agg_level_valid'], as_index=False).agg({\n",
    "    'sales_valid': lambda x: x.diff().pow(2).sum(),\n",
    "    'daily_sales_err^2': lambda x: x.sum(),\n",
    "    'sales_$_valid': 'sum'\n",
    "}).rename({\n",
    "    'sales_valid': 'sales_diff^2_sum',\n",
    "    'daily_sales_err^2': 'sales_err^2_sum'\n",
    "}, axis=1)\n",
    "t['agg_weight'] = t.groupby('agg_level_valid')['sales_$_valid'].transform(lambda x: x.sum())\n",
    "t['series_weight'] = t['sales_$_valid']/t['agg_weight']"
   ]
  },
  {
   "cell_type": "code",
   "execution_count": 20,
   "metadata": {
    "ExecuteTime": {
     "end_time": "2020-03-27T12:28:36.542158Z",
     "start_time": "2020-03-27T12:28:13.330096Z"
    }
   },
   "outputs": [],
   "source": [
    "diff_sum_squared = lambda x: x.diff().pow(2).sum()\n",
    "diff_sum_squared.__name__ = 'diff_sum_squared'\n",
    "sales_diff_summs = (df_train\n",
    "    .groupby(['id'], as_index=False)\n",
    "    .agg({\n",
    "        'sales': [\n",
    "            diff_sum_squared,\n",
    "            'count'],\n",
    "    })\n",
    "    .pipe(\n",
    "        lambda df: drop_level(df, level=1, axis=1)\n",
    "    ).rename({\n",
    "        'sales_count': 'trn_sales_count'\n",
    "    }, axis=1)\n",
    ")"
   ]
  },
  {
   "cell_type": "code",
   "execution_count": 21,
   "metadata": {
    "ExecuteTime": {
     "end_time": "2020-03-27T12:28:36.577264Z",
     "start_time": "2020-03-27T12:28:36.545097Z"
    }
   },
   "outputs": [
    {
     "data": {
      "text/html": [
       "<div>\n",
       "<style scoped>\n",
       "    .dataframe tbody tr th:only-of-type {\n",
       "        vertical-align: middle;\n",
       "    }\n",
       "\n",
       "    .dataframe tbody tr th {\n",
       "        vertical-align: top;\n",
       "    }\n",
       "\n",
       "    .dataframe thead th {\n",
       "        text-align: right;\n",
       "    }\n",
       "</style>\n",
       "<table border=\"1\" class=\"dataframe\">\n",
       "  <thead>\n",
       "    <tr style=\"text-align: right;\">\n",
       "      <th></th>\n",
       "      <th>id</th>\n",
       "      <th>sales_diff_sum_squared</th>\n",
       "      <th>trn_sales_count</th>\n",
       "    </tr>\n",
       "  </thead>\n",
       "  <tbody>\n",
       "    <tr>\n",
       "      <th>0</th>\n",
       "      <td>FOODS_1_001_CA_1_validation</td>\n",
       "      <td>5463</td>\n",
       "      <td>1885</td>\n",
       "    </tr>\n",
       "  </tbody>\n",
       "</table>\n",
       "</div>"
      ],
      "text/plain": [
       "                            id  sales_diff_sum_squared  trn_sales_count\n",
       "0  FOODS_1_001_CA_1_validation                    5463             1885"
      ]
     },
     "execution_count": 21,
     "metadata": {},
     "output_type": "execute_result"
    }
   ],
   "source": [
    "sales_diff_summs.head(1)"
   ]
  },
  {
   "cell_type": "code",
   "execution_count": 22,
   "metadata": {
    "ExecuteTime": {
     "end_time": "2020-03-27T12:28:36.612259Z",
     "start_time": "2020-03-27T12:28:36.580463Z"
    }
   },
   "outputs": [],
   "source": [
    "trn_days_denom = sales_diff_summs['trn_sales_count'].unique()\n",
    "assert [1885] == trn_days_denom, f\"Expected {trn_days_denom} days of sales to be used in denom sum, got {trn_days_denom}\""
   ]
  },
  {
   "cell_type": "code",
   "execution_count": 23,
   "metadata": {
    "ExecuteTime": {
     "end_time": "2020-03-27T12:28:36.746010Z",
     "start_time": "2020-03-27T12:28:36.615450Z"
    }
   },
   "outputs": [],
   "source": [
    "t = t.merge(sales_diff_summs, on='id', validate='one_to_one')"
   ]
  },
  {
   "cell_type": "code",
   "execution_count": 24,
   "metadata": {
    "ExecuteTime": {
     "end_time": "2020-03-27T12:28:36.779673Z",
     "start_time": "2020-03-27T12:28:36.748215Z"
    }
   },
   "outputs": [],
   "source": [
    "h = 28\n",
    "t['rmsse'] = ((\n",
    "                (t['trn_sales_count']-1.0) * t['sales_err^2_sum'])/\n",
    "                (h * t['sales_diff^2_sum'])\n",
    "             ).pow(0.5)\n",
    "# TODO: rmsse est for series with no sales - will not be a problem when coming from trn\n",
    "t.loc[t['sales_$_valid'] ==0, 'rmsse'] = 0\n",
    "t['wrmsse'] = t['rmsse']*t['series_weight']"
   ]
  },
  {
   "cell_type": "code",
   "execution_count": 25,
   "metadata": {
    "ExecuteTime": {
     "end_time": "2020-03-27T12:28:36.813203Z",
     "start_time": "2020-03-27T12:28:36.782668Z"
    }
   },
   "outputs": [
    {
     "data": {
      "text/plain": [
       "0.7472960893819334"
      ]
     },
     "execution_count": 25,
     "metadata": {},
     "output_type": "execute_result"
    }
   ],
   "source": [
    "# that's underestimation of 0.83770 from the submission, plus I've got a bunch of todos above to address\n",
    "# 0.7456401780934122 - when calculated using validation set days in the denom :/\n",
    "# 0.7472960893819334 - latest \n",
    "wrmsse_total = t['wrmsse'].sum()/12\n",
    "wrmsse_total"
   ]
  },
  {
   "cell_type": "code",
   "execution_count": 120,
   "metadata": {
    "ExecuteTime": {
     "end_time": "2020-03-27T13:43:08.425478Z",
     "start_time": "2020-03-27T13:42:31.522411Z"
    }
   },
   "outputs": [
    {
     "data": {
      "text/plain": [
       "0.7472960893819334"
      ]
     },
     "execution_count": 120,
     "metadata": {},
     "output_type": "execute_result"
    }
   ],
   "source": [
    "def no_op(x):\n",
    "    pass\n",
    "\n",
    "from IPython.display import display\n",
    "\n",
    "def wrmsse_total(df_train, df_valid_w_aggs, df_pred_w_aggs, display=no_op):\n",
    "    cols = ['id', 'day_id_rel', 'sales', 'sales_$', 'agg_level']\n",
    "    t = (df_valid_w_aggs[cols]\n",
    "            .merge(df_pred_w_aggs[cols], \n",
    "                   on=['id', 'day_id_rel'], \n",
    "                   suffixes=('_valid', '_pred')))\n",
    "    t['daily_sales_err^2'] = (t['sales_valid'] - t['sales_pred']).pow(2)\n",
    "    display(t)\n",
    "\n",
    "    t = t.groupby(['id', 'agg_level_valid'], as_index=False).agg({\n",
    "        'sales_valid': lambda x: x.diff().pow(2).sum(),\n",
    "        'daily_sales_err^2': lambda x: x.sum(),\n",
    "        'sales_$_valid': 'sum'\n",
    "    }).rename({\n",
    "        'sales_valid': 'denom_sales_diff^2_sum',\n",
    "        'daily_sales_err^2': 'sales_err^2_sum'\n",
    "    }, axis=1)\n",
    "    t['agg_weight'] = (t.groupby('agg_level_valid')\n",
    "        ['sales_$_valid']\n",
    "       .transform(lambda x: x.sum())\n",
    "    )\n",
    "    t['series_weight'] = t['sales_$_valid']/t['agg_weight']\n",
    "\n",
    "    diff_sum_squared = lambda x: x.diff().pow(2).sum()\n",
    "    diff_sum_squared.__name__ = 'diff_sum_squared'\n",
    "    sales_diff_summs = (df_train\n",
    "        .groupby(['id'], as_index=False)\n",
    "        .agg({\n",
    "            'sales': [\n",
    "                diff_sum_squared,\n",
    "                'count'],\n",
    "        })\n",
    "        .pipe(\n",
    "            lambda df: drop_level(df, level=1, axis=1)\n",
    "        ).rename({\n",
    "            'sales_count': 'trn_sales_count'\n",
    "        }, axis=1)\n",
    "    )\n",
    "    display(sales_diff_summs)\n",
    "\n",
    "    t = t.merge(sales_diff_summs, on='id', validate='one_to_one')\n",
    "    display(t)\n",
    "    \n",
    "    h = 28\n",
    "    n_series = 12\n",
    "    t['rmsse'] = ((\n",
    "                    (t['trn_sales_count']-1.0) * t['sales_err^2_sum'])/\n",
    "                    (h * t['denom_sales_diff^2_sum'])\n",
    "                 ).pow(0.5)\n",
    "\n",
    "    # TODO: rmsse est for series with no sales - will not be a problem when coming from trn\n",
    "    t.loc[t['sales_$_valid'] ==0, 'rmsse'] = 0\n",
    "    t['wrmsse'] = t['rmsse']*t['series_weight']\n",
    "\n",
    "    wrmsse_total = t['wrmsse'].sum()/n_series\n",
    "    return wrmsse_total\n",
    "\n",
    "wrmsse_total(df_train, df_valid_w_aggs, df_pred_w_aggs)"
   ]
  },
  {
   "cell_type": "code",
   "execution_count": 106,
   "metadata": {
    "ExecuteTime": {
     "end_time": "2020-03-27T13:35:42.173655Z",
     "start_time": "2020-03-27T13:35:42.145647Z"
    }
   },
   "outputs": [],
   "source": [
    "import numpy as np\n",
    "series_len = 100\n",
    "h = pred_len = 28\n",
    "example_agg_levels = {\n",
    "    1: []\n",
    "}\n",
    "example_a = pd.DataFrame({\n",
    "    'id':         np.tile(['A'],              reps=series_len),\n",
    "    'sales':      np.tile([1, 0],             reps=series_len//2),\n",
    "    'sell_price': np.tile([10.0*2/28.0],      reps=series_len),\n",
    "    'day_id':     np.arange(0,                     series_len, step=1)\n",
    "})\n",
    "example_b = pd.DataFrame({\n",
    "    'id':         np.tile(['B'],              reps=series_len),\n",
    "    'sales':      np.tile([0, 2],             reps=series_len//2),\n",
    "    'sell_price': np.tile([12.0*2/(28*2)],      reps=series_len),\n",
    "    'day_id':     np.arange(0,                     series_len, step=1)\n",
    "})\n",
    "example = pd.concat([example_a, example_b])\n",
    "example.sort_values(['day_id', 'id'], inplace=True)"
   ]
  },
  {
   "cell_type": "code",
   "execution_count": 107,
   "metadata": {
    "ExecuteTime": {
     "end_time": "2020-03-27T13:35:47.569186Z",
     "start_time": "2020-03-27T13:35:47.537249Z"
    }
   },
   "outputs": [
    {
     "data": {
      "text/html": [
       "<div>\n",
       "<style scoped>\n",
       "    .dataframe tbody tr th:only-of-type {\n",
       "        vertical-align: middle;\n",
       "    }\n",
       "\n",
       "    .dataframe tbody tr th {\n",
       "        vertical-align: top;\n",
       "    }\n",
       "\n",
       "    .dataframe thead th {\n",
       "        text-align: right;\n",
       "    }\n",
       "</style>\n",
       "<table border=\"1\" class=\"dataframe\">\n",
       "  <thead>\n",
       "    <tr style=\"text-align: right;\">\n",
       "      <th></th>\n",
       "      <th>sales_d</th>\n",
       "    </tr>\n",
       "    <tr>\n",
       "      <th>id</th>\n",
       "      <th></th>\n",
       "    </tr>\n",
       "  </thead>\n",
       "  <tbody>\n",
       "    <tr>\n",
       "      <th>A</th>\n",
       "      <td>10.0</td>\n",
       "    </tr>\n",
       "    <tr>\n",
       "      <th>B</th>\n",
       "      <td>12.0</td>\n",
       "    </tr>\n",
       "  </tbody>\n",
       "</table>\n",
       "</div>"
      ],
      "text/plain": [
       "    sales_d\n",
       "id         \n",
       "A      10.0\n",
       "B      12.0"
      ]
     },
     "execution_count": 107,
     "metadata": {},
     "output_type": "execute_result"
    }
   ],
   "source": [
    "(example\n",
    "    .eval('sales_d = sell_price*sales')\n",
    "    .groupby('id')\n",
    "    .tail(28)\n",
    "    .groupby('id')\n",
    "    .agg({'sales_d': 'sum'})\n",
    ")"
   ]
  },
  {
   "cell_type": "code",
   "execution_count": 108,
   "metadata": {
    "ExecuteTime": {
     "end_time": "2020-03-27T13:35:52.843123Z",
     "start_time": "2020-03-27T13:35:52.819164Z"
    }
   },
   "outputs": [
    {
     "data": {
      "text/html": [
       "<div>\n",
       "<style scoped>\n",
       "    .dataframe tbody tr th:only-of-type {\n",
       "        vertical-align: middle;\n",
       "    }\n",
       "\n",
       "    .dataframe tbody tr th {\n",
       "        vertical-align: top;\n",
       "    }\n",
       "\n",
       "    .dataframe thead th {\n",
       "        text-align: right;\n",
       "    }\n",
       "</style>\n",
       "<table border=\"1\" class=\"dataframe\">\n",
       "  <thead>\n",
       "    <tr style=\"text-align: right;\">\n",
       "      <th></th>\n",
       "      <th>sales</th>\n",
       "      <th>sell_price</th>\n",
       "      <th>day_id</th>\n",
       "    </tr>\n",
       "    <tr>\n",
       "      <th>id</th>\n",
       "      <th></th>\n",
       "      <th></th>\n",
       "      <th></th>\n",
       "    </tr>\n",
       "  </thead>\n",
       "  <tbody>\n",
       "    <tr>\n",
       "      <th>A</th>\n",
       "      <td>100</td>\n",
       "      <td>100</td>\n",
       "      <td>100</td>\n",
       "    </tr>\n",
       "    <tr>\n",
       "      <th>B</th>\n",
       "      <td>100</td>\n",
       "      <td>100</td>\n",
       "      <td>100</td>\n",
       "    </tr>\n",
       "  </tbody>\n",
       "</table>\n",
       "</div>"
      ],
      "text/plain": [
       "    sales  sell_price  day_id\n",
       "id                           \n",
       "A     100         100     100\n",
       "B     100         100     100"
      ]
     },
     "execution_count": 108,
     "metadata": {},
     "output_type": "execute_result"
    }
   ],
   "source": [
    "example.groupby('id').count()"
   ]
  },
  {
   "cell_type": "code",
   "execution_count": 109,
   "metadata": {
    "ExecuteTime": {
     "end_time": "2020-03-27T13:35:57.577821Z",
     "start_time": "2020-03-27T13:35:57.556673Z"
    }
   },
   "outputs": [
    {
     "data": {
      "text/plain": [
       "(144, 56)"
      ]
     },
     "execution_count": 109,
     "metadata": {},
     "output_type": "execute_result"
    }
   ],
   "source": [
    "trn_len = 2*(series_len-h)\n",
    "example_trn = example[:trn_len].copy()\n",
    "example_val = example[trn_len-2*series_len:].copy()\n",
    "len(example_trn), len(example_val)"
   ]
  },
  {
   "cell_type": "code",
   "execution_count": 110,
   "metadata": {
    "ExecuteTime": {
     "end_time": "2020-03-27T13:36:02.554629Z",
     "start_time": "2020-03-27T13:36:02.514564Z"
    }
   },
   "outputs": [
    {
     "data": {
      "text/html": [
       "<div>\n",
       "<style scoped>\n",
       "    .dataframe tbody tr th:only-of-type {\n",
       "        vertical-align: middle;\n",
       "    }\n",
       "\n",
       "    .dataframe tbody tr th {\n",
       "        vertical-align: top;\n",
       "    }\n",
       "\n",
       "    .dataframe thead th {\n",
       "        text-align: right;\n",
       "    }\n",
       "</style>\n",
       "<table border=\"1\" class=\"dataframe\">\n",
       "  <thead>\n",
       "    <tr style=\"text-align: right;\">\n",
       "      <th></th>\n",
       "      <th></th>\n",
       "      <th>level_1</th>\n",
       "      <th>sales</th>\n",
       "      <th>sell_price</th>\n",
       "      <th>day_id</th>\n",
       "    </tr>\n",
       "    <tr>\n",
       "      <th>level_0</th>\n",
       "      <th>id</th>\n",
       "      <th></th>\n",
       "      <th></th>\n",
       "      <th></th>\n",
       "      <th></th>\n",
       "    </tr>\n",
       "  </thead>\n",
       "  <tbody>\n",
       "    <tr>\n",
       "      <th rowspan=\"2\" valign=\"top\">trn</th>\n",
       "      <th>A</th>\n",
       "      <td>72</td>\n",
       "      <td>72</td>\n",
       "      <td>72</td>\n",
       "      <td>72</td>\n",
       "    </tr>\n",
       "    <tr>\n",
       "      <th>B</th>\n",
       "      <td>72</td>\n",
       "      <td>72</td>\n",
       "      <td>72</td>\n",
       "      <td>72</td>\n",
       "    </tr>\n",
       "    <tr>\n",
       "      <th rowspan=\"2\" valign=\"top\">val</th>\n",
       "      <th>A</th>\n",
       "      <td>28</td>\n",
       "      <td>28</td>\n",
       "      <td>28</td>\n",
       "      <td>28</td>\n",
       "    </tr>\n",
       "    <tr>\n",
       "      <th>B</th>\n",
       "      <td>28</td>\n",
       "      <td>28</td>\n",
       "      <td>28</td>\n",
       "      <td>28</td>\n",
       "    </tr>\n",
       "  </tbody>\n",
       "</table>\n",
       "</div>"
      ],
      "text/plain": [
       "            level_1  sales  sell_price  day_id\n",
       "level_0 id                                    \n",
       "trn     A        72     72          72      72\n",
       "        B        72     72          72      72\n",
       "val     A        28     28          28      28\n",
       "        B        28     28          28      28"
      ]
     },
     "execution_count": 110,
     "metadata": {},
     "output_type": "execute_result"
    }
   ],
   "source": [
    "(pd.concat([example_trn, example_val], \n",
    "          sort=False, \n",
    "          keys=['trn', 'val'])\n",
    " .reset_index()\n",
    " .groupby(['level_0', 'id'], sort=False)\n",
    " .count()\n",
    ")"
   ]
  },
  {
   "cell_type": "code",
   "execution_count": 111,
   "metadata": {
    "ExecuteTime": {
     "end_time": "2020-03-27T13:36:07.848729Z",
     "start_time": "2020-03-27T13:36:07.806567Z"
    }
   },
   "outputs": [],
   "source": [
    "example_val_w_aggs = with_aggregates(example_val, agg_levels = example_agg_levels)"
   ]
  },
  {
   "cell_type": "code",
   "execution_count": 112,
   "metadata": {
    "ExecuteTime": {
     "end_time": "2020-03-27T13:36:12.865204Z",
     "start_time": "2020-03-27T13:36:12.806142Z"
    }
   },
   "outputs": [],
   "source": [
    "perfect_score = wrmsse_total(example_trn, \n",
    "                             example_val_w_aggs,\n",
    "                             example_val_w_aggs)\n",
    "assert 0.0 == perfect_score"
   ]
  },
  {
   "cell_type": "code",
   "execution_count": 113,
   "metadata": {
    "ExecuteTime": {
     "end_time": "2020-03-27T13:36:17.748838Z",
     "start_time": "2020-03-27T13:36:17.716116Z"
    }
   },
   "outputs": [
    {
     "data": {
      "text/html": [
       "<div>\n",
       "<style scoped>\n",
       "    .dataframe tbody tr th:only-of-type {\n",
       "        vertical-align: middle;\n",
       "    }\n",
       "\n",
       "    .dataframe tbody tr th {\n",
       "        vertical-align: top;\n",
       "    }\n",
       "\n",
       "    .dataframe thead th {\n",
       "        text-align: right;\n",
       "    }\n",
       "</style>\n",
       "<table border=\"1\" class=\"dataframe\">\n",
       "  <thead>\n",
       "    <tr style=\"text-align: right;\">\n",
       "      <th></th>\n",
       "      <th>id</th>\n",
       "      <th>sales</th>\n",
       "      <th>sell_price</th>\n",
       "      <th>day_id</th>\n",
       "      <th>agg_level</th>\n",
       "      <th>sales_$</th>\n",
       "      <th>sales_delta_sum</th>\n",
       "      <th>day_id_rel</th>\n",
       "    </tr>\n",
       "  </thead>\n",
       "  <tbody>\n",
       "    <tr>\n",
       "      <th>72</th>\n",
       "      <td>A</td>\n",
       "      <td>1</td>\n",
       "      <td>0.714286</td>\n",
       "      <td>72</td>\n",
       "      <td>12</td>\n",
       "      <td>0.714286</td>\n",
       "      <td>27.0</td>\n",
       "      <td>0</td>\n",
       "    </tr>\n",
       "  </tbody>\n",
       "</table>\n",
       "</div>"
      ],
      "text/plain": [
       "   id  sales  sell_price  day_id  agg_level   sales_$  sales_delta_sum  \\\n",
       "72  A      1    0.714286      72         12  0.714286             27.0   \n",
       "\n",
       "    day_id_rel  \n",
       "72           0  "
      ]
     },
     "execution_count": 113,
     "metadata": {},
     "output_type": "execute_result"
    }
   ],
   "source": [
    "example_val_w_aggs.head(1)"
   ]
  },
  {
   "cell_type": "code",
   "execution_count": 114,
   "metadata": {
    "ExecuteTime": {
     "end_time": "2020-03-27T13:36:23.001691Z",
     "start_time": "2020-03-27T13:36:22.936959Z"
    }
   },
   "outputs": [
    {
     "data": {
      "text/html": [
       "<div>\n",
       "<style scoped>\n",
       "    .dataframe tbody tr th:only-of-type {\n",
       "        vertical-align: middle;\n",
       "    }\n",
       "\n",
       "    .dataframe tbody tr th {\n",
       "        vertical-align: top;\n",
       "    }\n",
       "\n",
       "    .dataframe thead th {\n",
       "        text-align: right;\n",
       "    }\n",
       "</style>\n",
       "<table border=\"1\" class=\"dataframe\">\n",
       "  <thead>\n",
       "    <tr style=\"text-align: right;\">\n",
       "      <th></th>\n",
       "      <th>id</th>\n",
       "      <th>sales</th>\n",
       "      <th>sell_price</th>\n",
       "      <th>day_id</th>\n",
       "      <th>agg_level</th>\n",
       "      <th>sales_$</th>\n",
       "      <th>sales_delta_sum</th>\n",
       "      <th>day_id_rel</th>\n",
       "    </tr>\n",
       "  </thead>\n",
       "  <tbody>\n",
       "    <tr>\n",
       "      <th>72</th>\n",
       "      <td>A</td>\n",
       "      <td>0</td>\n",
       "      <td>0.714286</td>\n",
       "      <td>72</td>\n",
       "      <td>12</td>\n",
       "      <td>0.000000</td>\n",
       "      <td>27.0</td>\n",
       "      <td>0</td>\n",
       "    </tr>\n",
       "    <tr>\n",
       "      <th>72</th>\n",
       "      <td>B</td>\n",
       "      <td>2</td>\n",
       "      <td>0.428571</td>\n",
       "      <td>72</td>\n",
       "      <td>12</td>\n",
       "      <td>0.857143</td>\n",
       "      <td>54.0</td>\n",
       "      <td>0</td>\n",
       "    </tr>\n",
       "    <tr>\n",
       "      <th>73</th>\n",
       "      <td>A</td>\n",
       "      <td>1</td>\n",
       "      <td>0.714286</td>\n",
       "      <td>73</td>\n",
       "      <td>12</td>\n",
       "      <td>0.714286</td>\n",
       "      <td>27.0</td>\n",
       "      <td>1</td>\n",
       "    </tr>\n",
       "    <tr>\n",
       "      <th>73</th>\n",
       "      <td>B</td>\n",
       "      <td>0</td>\n",
       "      <td>0.428571</td>\n",
       "      <td>73</td>\n",
       "      <td>12</td>\n",
       "      <td>0.000000</td>\n",
       "      <td>54.0</td>\n",
       "      <td>1</td>\n",
       "    </tr>\n",
       "    <tr>\n",
       "      <th>74</th>\n",
       "      <td>A</td>\n",
       "      <td>0</td>\n",
       "      <td>0.714286</td>\n",
       "      <td>74</td>\n",
       "      <td>12</td>\n",
       "      <td>0.000000</td>\n",
       "      <td>27.0</td>\n",
       "      <td>2</td>\n",
       "    </tr>\n",
       "  </tbody>\n",
       "</table>\n",
       "</div>"
      ],
      "text/plain": [
       "   id  sales  sell_price  day_id  agg_level   sales_$  sales_delta_sum  \\\n",
       "72  A      0    0.714286      72         12  0.000000             27.0   \n",
       "72  B      2    0.428571      72         12  0.857143             54.0   \n",
       "73  A      1    0.714286      73         12  0.714286             27.0   \n",
       "73  B      0    0.428571      73         12  0.000000             54.0   \n",
       "74  A      0    0.714286      74         12  0.000000             27.0   \n",
       "\n",
       "    day_id_rel  \n",
       "72           0  \n",
       "72           0  \n",
       "73           1  \n",
       "73           1  \n",
       "74           2  "
      ]
     },
     "execution_count": 114,
     "metadata": {},
     "output_type": "execute_result"
    }
   ],
   "source": [
    "inversed_sales = (example_val\n",
    "    .groupby('id')['sales']\n",
    "    .transform(lambda x: x.max() - x)\n",
    ")\n",
    "example_val_inv = example_val.copy()\n",
    "example_val_inv['sales'] = inversed_sales\n",
    "example_val_inv['sales_$'] = example_val_inv['sales']*example_val_inv['sell_price']\n",
    "example_val_inv_w_aggs = with_aggregates(example_val_inv, agg_levels = example_agg_levels)\n",
    "example_val_inv_w_aggs.head()"
   ]
  },
  {
   "cell_type": "code",
   "execution_count": 115,
   "metadata": {
    "ExecuteTime": {
     "end_time": "2020-03-27T13:36:28.423359Z",
     "start_time": "2020-03-27T13:36:28.396250Z"
    }
   },
   "outputs": [
    {
     "data": {
      "text/html": [
       "<div>\n",
       "<style scoped>\n",
       "    .dataframe tbody tr th:only-of-type {\n",
       "        vertical-align: middle;\n",
       "    }\n",
       "\n",
       "    .dataframe tbody tr th {\n",
       "        vertical-align: top;\n",
       "    }\n",
       "\n",
       "    .dataframe thead th {\n",
       "        text-align: right;\n",
       "    }\n",
       "</style>\n",
       "<table border=\"1\" class=\"dataframe\">\n",
       "  <thead>\n",
       "    <tr style=\"text-align: right;\">\n",
       "      <th></th>\n",
       "      <th>id</th>\n",
       "      <th>sales</th>\n",
       "      <th>sell_price</th>\n",
       "      <th>day_id</th>\n",
       "      <th>agg_level</th>\n",
       "      <th>sales_$</th>\n",
       "    </tr>\n",
       "  </thead>\n",
       "  <tbody>\n",
       "    <tr>\n",
       "      <th>72</th>\n",
       "      <td>A</td>\n",
       "      <td>1</td>\n",
       "      <td>0.714286</td>\n",
       "      <td>72</td>\n",
       "      <td>12</td>\n",
       "      <td>0.714286</td>\n",
       "    </tr>\n",
       "    <tr>\n",
       "      <th>72</th>\n",
       "      <td>B</td>\n",
       "      <td>0</td>\n",
       "      <td>0.428571</td>\n",
       "      <td>72</td>\n",
       "      <td>12</td>\n",
       "      <td>0.000000</td>\n",
       "    </tr>\n",
       "    <tr>\n",
       "      <th>73</th>\n",
       "      <td>A</td>\n",
       "      <td>0</td>\n",
       "      <td>0.714286</td>\n",
       "      <td>73</td>\n",
       "      <td>12</td>\n",
       "      <td>0.000000</td>\n",
       "    </tr>\n",
       "    <tr>\n",
       "      <th>73</th>\n",
       "      <td>B</td>\n",
       "      <td>2</td>\n",
       "      <td>0.428571</td>\n",
       "      <td>73</td>\n",
       "      <td>12</td>\n",
       "      <td>0.857143</td>\n",
       "    </tr>\n",
       "    <tr>\n",
       "      <th>74</th>\n",
       "      <td>A</td>\n",
       "      <td>1</td>\n",
       "      <td>0.714286</td>\n",
       "      <td>74</td>\n",
       "      <td>12</td>\n",
       "      <td>0.714286</td>\n",
       "    </tr>\n",
       "  </tbody>\n",
       "</table>\n",
       "</div>"
      ],
      "text/plain": [
       "   id  sales  sell_price  day_id  agg_level   sales_$\n",
       "72  A      1    0.714286      72         12  0.714286\n",
       "72  B      0    0.428571      72         12  0.000000\n",
       "73  A      0    0.714286      73         12  0.000000\n",
       "73  B      2    0.428571      73         12  0.857143\n",
       "74  A      1    0.714286      74         12  0.714286"
      ]
     },
     "execution_count": 115,
     "metadata": {},
     "output_type": "execute_result"
    }
   ],
   "source": [
    "example_val.head()"
   ]
  },
  {
   "cell_type": "markdown",
   "metadata": {},
   "source": [
    "# Bookmark"
   ]
  },
  {
   "cell_type": "code",
   "execution_count": 121,
   "metadata": {
    "ExecuteTime": {
     "end_time": "2020-03-27T13:43:14.479489Z",
     "start_time": "2020-03-27T13:43:14.375435Z"
    }
   },
   "outputs": [
    {
     "data": {
      "text/html": [
       "<div>\n",
       "<style scoped>\n",
       "    .dataframe tbody tr th:only-of-type {\n",
       "        vertical-align: middle;\n",
       "    }\n",
       "\n",
       "    .dataframe tbody tr th {\n",
       "        vertical-align: top;\n",
       "    }\n",
       "\n",
       "    .dataframe thead th {\n",
       "        text-align: right;\n",
       "    }\n",
       "</style>\n",
       "<table border=\"1\" class=\"dataframe\">\n",
       "  <thead>\n",
       "    <tr style=\"text-align: right;\">\n",
       "      <th></th>\n",
       "      <th>id</th>\n",
       "      <th>day_id_rel</th>\n",
       "      <th>sales_valid</th>\n",
       "      <th>sales_$_valid</th>\n",
       "      <th>agg_level_valid</th>\n",
       "      <th>sales_pred</th>\n",
       "      <th>sales_$_pred</th>\n",
       "      <th>agg_level_pred</th>\n",
       "      <th>daily_sales_err^2</th>\n",
       "    </tr>\n",
       "  </thead>\n",
       "  <tbody>\n",
       "    <tr>\n",
       "      <th>0</th>\n",
       "      <td>A</td>\n",
       "      <td>0</td>\n",
       "      <td>1</td>\n",
       "      <td>0.714286</td>\n",
       "      <td>12</td>\n",
       "      <td>0</td>\n",
       "      <td>0.000000</td>\n",
       "      <td>12</td>\n",
       "      <td>1</td>\n",
       "    </tr>\n",
       "    <tr>\n",
       "      <th>1</th>\n",
       "      <td>B</td>\n",
       "      <td>0</td>\n",
       "      <td>0</td>\n",
       "      <td>0.000000</td>\n",
       "      <td>12</td>\n",
       "      <td>2</td>\n",
       "      <td>0.857143</td>\n",
       "      <td>12</td>\n",
       "      <td>4</td>\n",
       "    </tr>\n",
       "    <tr>\n",
       "      <th>2</th>\n",
       "      <td>A</td>\n",
       "      <td>1</td>\n",
       "      <td>0</td>\n",
       "      <td>0.000000</td>\n",
       "      <td>12</td>\n",
       "      <td>1</td>\n",
       "      <td>0.714286</td>\n",
       "      <td>12</td>\n",
       "      <td>1</td>\n",
       "    </tr>\n",
       "    <tr>\n",
       "      <th>3</th>\n",
       "      <td>B</td>\n",
       "      <td>1</td>\n",
       "      <td>2</td>\n",
       "      <td>0.857143</td>\n",
       "      <td>12</td>\n",
       "      <td>0</td>\n",
       "      <td>0.000000</td>\n",
       "      <td>12</td>\n",
       "      <td>4</td>\n",
       "    </tr>\n",
       "    <tr>\n",
       "      <th>4</th>\n",
       "      <td>A</td>\n",
       "      <td>2</td>\n",
       "      <td>1</td>\n",
       "      <td>0.714286</td>\n",
       "      <td>12</td>\n",
       "      <td>0</td>\n",
       "      <td>0.000000</td>\n",
       "      <td>12</td>\n",
       "      <td>1</td>\n",
       "    </tr>\n",
       "    <tr>\n",
       "      <th>5</th>\n",
       "      <td>B</td>\n",
       "      <td>2</td>\n",
       "      <td>0</td>\n",
       "      <td>0.000000</td>\n",
       "      <td>12</td>\n",
       "      <td>2</td>\n",
       "      <td>0.857143</td>\n",
       "      <td>12</td>\n",
       "      <td>4</td>\n",
       "    </tr>\n",
       "    <tr>\n",
       "      <th>6</th>\n",
       "      <td>A</td>\n",
       "      <td>3</td>\n",
       "      <td>0</td>\n",
       "      <td>0.000000</td>\n",
       "      <td>12</td>\n",
       "      <td>1</td>\n",
       "      <td>0.714286</td>\n",
       "      <td>12</td>\n",
       "      <td>1</td>\n",
       "    </tr>\n",
       "    <tr>\n",
       "      <th>7</th>\n",
       "      <td>B</td>\n",
       "      <td>3</td>\n",
       "      <td>2</td>\n",
       "      <td>0.857143</td>\n",
       "      <td>12</td>\n",
       "      <td>0</td>\n",
       "      <td>0.000000</td>\n",
       "      <td>12</td>\n",
       "      <td>4</td>\n",
       "    </tr>\n",
       "    <tr>\n",
       "      <th>8</th>\n",
       "      <td>A</td>\n",
       "      <td>4</td>\n",
       "      <td>1</td>\n",
       "      <td>0.714286</td>\n",
       "      <td>12</td>\n",
       "      <td>0</td>\n",
       "      <td>0.000000</td>\n",
       "      <td>12</td>\n",
       "      <td>1</td>\n",
       "    </tr>\n",
       "    <tr>\n",
       "      <th>9</th>\n",
       "      <td>B</td>\n",
       "      <td>4</td>\n",
       "      <td>0</td>\n",
       "      <td>0.000000</td>\n",
       "      <td>12</td>\n",
       "      <td>2</td>\n",
       "      <td>0.857143</td>\n",
       "      <td>12</td>\n",
       "      <td>4</td>\n",
       "    </tr>\n",
       "    <tr>\n",
       "      <th>10</th>\n",
       "      <td>A</td>\n",
       "      <td>5</td>\n",
       "      <td>0</td>\n",
       "      <td>0.000000</td>\n",
       "      <td>12</td>\n",
       "      <td>1</td>\n",
       "      <td>0.714286</td>\n",
       "      <td>12</td>\n",
       "      <td>1</td>\n",
       "    </tr>\n",
       "    <tr>\n",
       "      <th>11</th>\n",
       "      <td>B</td>\n",
       "      <td>5</td>\n",
       "      <td>2</td>\n",
       "      <td>0.857143</td>\n",
       "      <td>12</td>\n",
       "      <td>0</td>\n",
       "      <td>0.000000</td>\n",
       "      <td>12</td>\n",
       "      <td>4</td>\n",
       "    </tr>\n",
       "    <tr>\n",
       "      <th>12</th>\n",
       "      <td>A</td>\n",
       "      <td>6</td>\n",
       "      <td>1</td>\n",
       "      <td>0.714286</td>\n",
       "      <td>12</td>\n",
       "      <td>0</td>\n",
       "      <td>0.000000</td>\n",
       "      <td>12</td>\n",
       "      <td>1</td>\n",
       "    </tr>\n",
       "    <tr>\n",
       "      <th>13</th>\n",
       "      <td>B</td>\n",
       "      <td>6</td>\n",
       "      <td>0</td>\n",
       "      <td>0.000000</td>\n",
       "      <td>12</td>\n",
       "      <td>2</td>\n",
       "      <td>0.857143</td>\n",
       "      <td>12</td>\n",
       "      <td>4</td>\n",
       "    </tr>\n",
       "    <tr>\n",
       "      <th>14</th>\n",
       "      <td>A</td>\n",
       "      <td>7</td>\n",
       "      <td>0</td>\n",
       "      <td>0.000000</td>\n",
       "      <td>12</td>\n",
       "      <td>1</td>\n",
       "      <td>0.714286</td>\n",
       "      <td>12</td>\n",
       "      <td>1</td>\n",
       "    </tr>\n",
       "    <tr>\n",
       "      <th>15</th>\n",
       "      <td>B</td>\n",
       "      <td>7</td>\n",
       "      <td>2</td>\n",
       "      <td>0.857143</td>\n",
       "      <td>12</td>\n",
       "      <td>0</td>\n",
       "      <td>0.000000</td>\n",
       "      <td>12</td>\n",
       "      <td>4</td>\n",
       "    </tr>\n",
       "    <tr>\n",
       "      <th>16</th>\n",
       "      <td>A</td>\n",
       "      <td>8</td>\n",
       "      <td>1</td>\n",
       "      <td>0.714286</td>\n",
       "      <td>12</td>\n",
       "      <td>0</td>\n",
       "      <td>0.000000</td>\n",
       "      <td>12</td>\n",
       "      <td>1</td>\n",
       "    </tr>\n",
       "    <tr>\n",
       "      <th>17</th>\n",
       "      <td>B</td>\n",
       "      <td>8</td>\n",
       "      <td>0</td>\n",
       "      <td>0.000000</td>\n",
       "      <td>12</td>\n",
       "      <td>2</td>\n",
       "      <td>0.857143</td>\n",
       "      <td>12</td>\n",
       "      <td>4</td>\n",
       "    </tr>\n",
       "    <tr>\n",
       "      <th>18</th>\n",
       "      <td>A</td>\n",
       "      <td>9</td>\n",
       "      <td>0</td>\n",
       "      <td>0.000000</td>\n",
       "      <td>12</td>\n",
       "      <td>1</td>\n",
       "      <td>0.714286</td>\n",
       "      <td>12</td>\n",
       "      <td>1</td>\n",
       "    </tr>\n",
       "    <tr>\n",
       "      <th>19</th>\n",
       "      <td>B</td>\n",
       "      <td>9</td>\n",
       "      <td>2</td>\n",
       "      <td>0.857143</td>\n",
       "      <td>12</td>\n",
       "      <td>0</td>\n",
       "      <td>0.000000</td>\n",
       "      <td>12</td>\n",
       "      <td>4</td>\n",
       "    </tr>\n",
       "    <tr>\n",
       "      <th>20</th>\n",
       "      <td>A</td>\n",
       "      <td>10</td>\n",
       "      <td>1</td>\n",
       "      <td>0.714286</td>\n",
       "      <td>12</td>\n",
       "      <td>0</td>\n",
       "      <td>0.000000</td>\n",
       "      <td>12</td>\n",
       "      <td>1</td>\n",
       "    </tr>\n",
       "    <tr>\n",
       "      <th>21</th>\n",
       "      <td>B</td>\n",
       "      <td>10</td>\n",
       "      <td>0</td>\n",
       "      <td>0.000000</td>\n",
       "      <td>12</td>\n",
       "      <td>2</td>\n",
       "      <td>0.857143</td>\n",
       "      <td>12</td>\n",
       "      <td>4</td>\n",
       "    </tr>\n",
       "    <tr>\n",
       "      <th>22</th>\n",
       "      <td>A</td>\n",
       "      <td>11</td>\n",
       "      <td>0</td>\n",
       "      <td>0.000000</td>\n",
       "      <td>12</td>\n",
       "      <td>1</td>\n",
       "      <td>0.714286</td>\n",
       "      <td>12</td>\n",
       "      <td>1</td>\n",
       "    </tr>\n",
       "    <tr>\n",
       "      <th>23</th>\n",
       "      <td>B</td>\n",
       "      <td>11</td>\n",
       "      <td>2</td>\n",
       "      <td>0.857143</td>\n",
       "      <td>12</td>\n",
       "      <td>0</td>\n",
       "      <td>0.000000</td>\n",
       "      <td>12</td>\n",
       "      <td>4</td>\n",
       "    </tr>\n",
       "    <tr>\n",
       "      <th>24</th>\n",
       "      <td>A</td>\n",
       "      <td>12</td>\n",
       "      <td>1</td>\n",
       "      <td>0.714286</td>\n",
       "      <td>12</td>\n",
       "      <td>0</td>\n",
       "      <td>0.000000</td>\n",
       "      <td>12</td>\n",
       "      <td>1</td>\n",
       "    </tr>\n",
       "    <tr>\n",
       "      <th>25</th>\n",
       "      <td>B</td>\n",
       "      <td>12</td>\n",
       "      <td>0</td>\n",
       "      <td>0.000000</td>\n",
       "      <td>12</td>\n",
       "      <td>2</td>\n",
       "      <td>0.857143</td>\n",
       "      <td>12</td>\n",
       "      <td>4</td>\n",
       "    </tr>\n",
       "    <tr>\n",
       "      <th>26</th>\n",
       "      <td>A</td>\n",
       "      <td>13</td>\n",
       "      <td>0</td>\n",
       "      <td>0.000000</td>\n",
       "      <td>12</td>\n",
       "      <td>1</td>\n",
       "      <td>0.714286</td>\n",
       "      <td>12</td>\n",
       "      <td>1</td>\n",
       "    </tr>\n",
       "    <tr>\n",
       "      <th>27</th>\n",
       "      <td>B</td>\n",
       "      <td>13</td>\n",
       "      <td>2</td>\n",
       "      <td>0.857143</td>\n",
       "      <td>12</td>\n",
       "      <td>0</td>\n",
       "      <td>0.000000</td>\n",
       "      <td>12</td>\n",
       "      <td>4</td>\n",
       "    </tr>\n",
       "    <tr>\n",
       "      <th>28</th>\n",
       "      <td>A</td>\n",
       "      <td>14</td>\n",
       "      <td>1</td>\n",
       "      <td>0.714286</td>\n",
       "      <td>12</td>\n",
       "      <td>0</td>\n",
       "      <td>0.000000</td>\n",
       "      <td>12</td>\n",
       "      <td>1</td>\n",
       "    </tr>\n",
       "    <tr>\n",
       "      <th>29</th>\n",
       "      <td>B</td>\n",
       "      <td>14</td>\n",
       "      <td>0</td>\n",
       "      <td>0.000000</td>\n",
       "      <td>12</td>\n",
       "      <td>2</td>\n",
       "      <td>0.857143</td>\n",
       "      <td>12</td>\n",
       "      <td>4</td>\n",
       "    </tr>\n",
       "    <tr>\n",
       "      <th>...</th>\n",
       "      <td>...</td>\n",
       "      <td>...</td>\n",
       "      <td>...</td>\n",
       "      <td>...</td>\n",
       "      <td>...</td>\n",
       "      <td>...</td>\n",
       "      <td>...</td>\n",
       "      <td>...</td>\n",
       "      <td>...</td>\n",
       "    </tr>\n",
       "    <tr>\n",
       "      <th>54</th>\n",
       "      <td>A</td>\n",
       "      <td>27</td>\n",
       "      <td>0</td>\n",
       "      <td>0.000000</td>\n",
       "      <td>12</td>\n",
       "      <td>1</td>\n",
       "      <td>0.714286</td>\n",
       "      <td>12</td>\n",
       "      <td>1</td>\n",
       "    </tr>\n",
       "    <tr>\n",
       "      <th>55</th>\n",
       "      <td>B</td>\n",
       "      <td>27</td>\n",
       "      <td>2</td>\n",
       "      <td>0.857143</td>\n",
       "      <td>12</td>\n",
       "      <td>0</td>\n",
       "      <td>0.000000</td>\n",
       "      <td>12</td>\n",
       "      <td>4</td>\n",
       "    </tr>\n",
       "    <tr>\n",
       "      <th>56</th>\n",
       "      <td>1</td>\n",
       "      <td>0</td>\n",
       "      <td>1</td>\n",
       "      <td>0.714286</td>\n",
       "      <td>1</td>\n",
       "      <td>2</td>\n",
       "      <td>0.857143</td>\n",
       "      <td>1</td>\n",
       "      <td>1</td>\n",
       "    </tr>\n",
       "    <tr>\n",
       "      <th>57</th>\n",
       "      <td>1</td>\n",
       "      <td>1</td>\n",
       "      <td>2</td>\n",
       "      <td>0.857143</td>\n",
       "      <td>1</td>\n",
       "      <td>1</td>\n",
       "      <td>0.714286</td>\n",
       "      <td>1</td>\n",
       "      <td>1</td>\n",
       "    </tr>\n",
       "    <tr>\n",
       "      <th>58</th>\n",
       "      <td>1</td>\n",
       "      <td>2</td>\n",
       "      <td>1</td>\n",
       "      <td>0.714286</td>\n",
       "      <td>1</td>\n",
       "      <td>2</td>\n",
       "      <td>0.857143</td>\n",
       "      <td>1</td>\n",
       "      <td>1</td>\n",
       "    </tr>\n",
       "    <tr>\n",
       "      <th>59</th>\n",
       "      <td>1</td>\n",
       "      <td>3</td>\n",
       "      <td>2</td>\n",
       "      <td>0.857143</td>\n",
       "      <td>1</td>\n",
       "      <td>1</td>\n",
       "      <td>0.714286</td>\n",
       "      <td>1</td>\n",
       "      <td>1</td>\n",
       "    </tr>\n",
       "    <tr>\n",
       "      <th>60</th>\n",
       "      <td>1</td>\n",
       "      <td>4</td>\n",
       "      <td>1</td>\n",
       "      <td>0.714286</td>\n",
       "      <td>1</td>\n",
       "      <td>2</td>\n",
       "      <td>0.857143</td>\n",
       "      <td>1</td>\n",
       "      <td>1</td>\n",
       "    </tr>\n",
       "    <tr>\n",
       "      <th>61</th>\n",
       "      <td>1</td>\n",
       "      <td>5</td>\n",
       "      <td>2</td>\n",
       "      <td>0.857143</td>\n",
       "      <td>1</td>\n",
       "      <td>1</td>\n",
       "      <td>0.714286</td>\n",
       "      <td>1</td>\n",
       "      <td>1</td>\n",
       "    </tr>\n",
       "    <tr>\n",
       "      <th>62</th>\n",
       "      <td>1</td>\n",
       "      <td>6</td>\n",
       "      <td>1</td>\n",
       "      <td>0.714286</td>\n",
       "      <td>1</td>\n",
       "      <td>2</td>\n",
       "      <td>0.857143</td>\n",
       "      <td>1</td>\n",
       "      <td>1</td>\n",
       "    </tr>\n",
       "    <tr>\n",
       "      <th>63</th>\n",
       "      <td>1</td>\n",
       "      <td>7</td>\n",
       "      <td>2</td>\n",
       "      <td>0.857143</td>\n",
       "      <td>1</td>\n",
       "      <td>1</td>\n",
       "      <td>0.714286</td>\n",
       "      <td>1</td>\n",
       "      <td>1</td>\n",
       "    </tr>\n",
       "    <tr>\n",
       "      <th>64</th>\n",
       "      <td>1</td>\n",
       "      <td>8</td>\n",
       "      <td>1</td>\n",
       "      <td>0.714286</td>\n",
       "      <td>1</td>\n",
       "      <td>2</td>\n",
       "      <td>0.857143</td>\n",
       "      <td>1</td>\n",
       "      <td>1</td>\n",
       "    </tr>\n",
       "    <tr>\n",
       "      <th>65</th>\n",
       "      <td>1</td>\n",
       "      <td>9</td>\n",
       "      <td>2</td>\n",
       "      <td>0.857143</td>\n",
       "      <td>1</td>\n",
       "      <td>1</td>\n",
       "      <td>0.714286</td>\n",
       "      <td>1</td>\n",
       "      <td>1</td>\n",
       "    </tr>\n",
       "    <tr>\n",
       "      <th>66</th>\n",
       "      <td>1</td>\n",
       "      <td>10</td>\n",
       "      <td>1</td>\n",
       "      <td>0.714286</td>\n",
       "      <td>1</td>\n",
       "      <td>2</td>\n",
       "      <td>0.857143</td>\n",
       "      <td>1</td>\n",
       "      <td>1</td>\n",
       "    </tr>\n",
       "    <tr>\n",
       "      <th>67</th>\n",
       "      <td>1</td>\n",
       "      <td>11</td>\n",
       "      <td>2</td>\n",
       "      <td>0.857143</td>\n",
       "      <td>1</td>\n",
       "      <td>1</td>\n",
       "      <td>0.714286</td>\n",
       "      <td>1</td>\n",
       "      <td>1</td>\n",
       "    </tr>\n",
       "    <tr>\n",
       "      <th>68</th>\n",
       "      <td>1</td>\n",
       "      <td>12</td>\n",
       "      <td>1</td>\n",
       "      <td>0.714286</td>\n",
       "      <td>1</td>\n",
       "      <td>2</td>\n",
       "      <td>0.857143</td>\n",
       "      <td>1</td>\n",
       "      <td>1</td>\n",
       "    </tr>\n",
       "    <tr>\n",
       "      <th>69</th>\n",
       "      <td>1</td>\n",
       "      <td>13</td>\n",
       "      <td>2</td>\n",
       "      <td>0.857143</td>\n",
       "      <td>1</td>\n",
       "      <td>1</td>\n",
       "      <td>0.714286</td>\n",
       "      <td>1</td>\n",
       "      <td>1</td>\n",
       "    </tr>\n",
       "    <tr>\n",
       "      <th>70</th>\n",
       "      <td>1</td>\n",
       "      <td>14</td>\n",
       "      <td>1</td>\n",
       "      <td>0.714286</td>\n",
       "      <td>1</td>\n",
       "      <td>2</td>\n",
       "      <td>0.857143</td>\n",
       "      <td>1</td>\n",
       "      <td>1</td>\n",
       "    </tr>\n",
       "    <tr>\n",
       "      <th>71</th>\n",
       "      <td>1</td>\n",
       "      <td>15</td>\n",
       "      <td>2</td>\n",
       "      <td>0.857143</td>\n",
       "      <td>1</td>\n",
       "      <td>1</td>\n",
       "      <td>0.714286</td>\n",
       "      <td>1</td>\n",
       "      <td>1</td>\n",
       "    </tr>\n",
       "    <tr>\n",
       "      <th>72</th>\n",
       "      <td>1</td>\n",
       "      <td>16</td>\n",
       "      <td>1</td>\n",
       "      <td>0.714286</td>\n",
       "      <td>1</td>\n",
       "      <td>2</td>\n",
       "      <td>0.857143</td>\n",
       "      <td>1</td>\n",
       "      <td>1</td>\n",
       "    </tr>\n",
       "    <tr>\n",
       "      <th>73</th>\n",
       "      <td>1</td>\n",
       "      <td>17</td>\n",
       "      <td>2</td>\n",
       "      <td>0.857143</td>\n",
       "      <td>1</td>\n",
       "      <td>1</td>\n",
       "      <td>0.714286</td>\n",
       "      <td>1</td>\n",
       "      <td>1</td>\n",
       "    </tr>\n",
       "    <tr>\n",
       "      <th>74</th>\n",
       "      <td>1</td>\n",
       "      <td>18</td>\n",
       "      <td>1</td>\n",
       "      <td>0.714286</td>\n",
       "      <td>1</td>\n",
       "      <td>2</td>\n",
       "      <td>0.857143</td>\n",
       "      <td>1</td>\n",
       "      <td>1</td>\n",
       "    </tr>\n",
       "    <tr>\n",
       "      <th>75</th>\n",
       "      <td>1</td>\n",
       "      <td>19</td>\n",
       "      <td>2</td>\n",
       "      <td>0.857143</td>\n",
       "      <td>1</td>\n",
       "      <td>1</td>\n",
       "      <td>0.714286</td>\n",
       "      <td>1</td>\n",
       "      <td>1</td>\n",
       "    </tr>\n",
       "    <tr>\n",
       "      <th>76</th>\n",
       "      <td>1</td>\n",
       "      <td>20</td>\n",
       "      <td>1</td>\n",
       "      <td>0.714286</td>\n",
       "      <td>1</td>\n",
       "      <td>2</td>\n",
       "      <td>0.857143</td>\n",
       "      <td>1</td>\n",
       "      <td>1</td>\n",
       "    </tr>\n",
       "    <tr>\n",
       "      <th>77</th>\n",
       "      <td>1</td>\n",
       "      <td>21</td>\n",
       "      <td>2</td>\n",
       "      <td>0.857143</td>\n",
       "      <td>1</td>\n",
       "      <td>1</td>\n",
       "      <td>0.714286</td>\n",
       "      <td>1</td>\n",
       "      <td>1</td>\n",
       "    </tr>\n",
       "    <tr>\n",
       "      <th>78</th>\n",
       "      <td>1</td>\n",
       "      <td>22</td>\n",
       "      <td>1</td>\n",
       "      <td>0.714286</td>\n",
       "      <td>1</td>\n",
       "      <td>2</td>\n",
       "      <td>0.857143</td>\n",
       "      <td>1</td>\n",
       "      <td>1</td>\n",
       "    </tr>\n",
       "    <tr>\n",
       "      <th>79</th>\n",
       "      <td>1</td>\n",
       "      <td>23</td>\n",
       "      <td>2</td>\n",
       "      <td>0.857143</td>\n",
       "      <td>1</td>\n",
       "      <td>1</td>\n",
       "      <td>0.714286</td>\n",
       "      <td>1</td>\n",
       "      <td>1</td>\n",
       "    </tr>\n",
       "    <tr>\n",
       "      <th>80</th>\n",
       "      <td>1</td>\n",
       "      <td>24</td>\n",
       "      <td>1</td>\n",
       "      <td>0.714286</td>\n",
       "      <td>1</td>\n",
       "      <td>2</td>\n",
       "      <td>0.857143</td>\n",
       "      <td>1</td>\n",
       "      <td>1</td>\n",
       "    </tr>\n",
       "    <tr>\n",
       "      <th>81</th>\n",
       "      <td>1</td>\n",
       "      <td>25</td>\n",
       "      <td>2</td>\n",
       "      <td>0.857143</td>\n",
       "      <td>1</td>\n",
       "      <td>1</td>\n",
       "      <td>0.714286</td>\n",
       "      <td>1</td>\n",
       "      <td>1</td>\n",
       "    </tr>\n",
       "    <tr>\n",
       "      <th>82</th>\n",
       "      <td>1</td>\n",
       "      <td>26</td>\n",
       "      <td>1</td>\n",
       "      <td>0.714286</td>\n",
       "      <td>1</td>\n",
       "      <td>2</td>\n",
       "      <td>0.857143</td>\n",
       "      <td>1</td>\n",
       "      <td>1</td>\n",
       "    </tr>\n",
       "    <tr>\n",
       "      <th>83</th>\n",
       "      <td>1</td>\n",
       "      <td>27</td>\n",
       "      <td>2</td>\n",
       "      <td>0.857143</td>\n",
       "      <td>1</td>\n",
       "      <td>1</td>\n",
       "      <td>0.714286</td>\n",
       "      <td>1</td>\n",
       "      <td>1</td>\n",
       "    </tr>\n",
       "  </tbody>\n",
       "</table>\n",
       "<p>84 rows × 9 columns</p>\n",
       "</div>"
      ],
      "text/plain": [
       "   id  day_id_rel  sales_valid  sales_$_valid  agg_level_valid  sales_pred  \\\n",
       "0   A           0            1       0.714286               12           0   \n",
       "1   B           0            0       0.000000               12           2   \n",
       "2   A           1            0       0.000000               12           1   \n",
       "3   B           1            2       0.857143               12           0   \n",
       "4   A           2            1       0.714286               12           0   \n",
       ".. ..         ...          ...            ...              ...         ...   \n",
       "79  1          23            2       0.857143                1           1   \n",
       "80  1          24            1       0.714286                1           2   \n",
       "81  1          25            2       0.857143                1           1   \n",
       "82  1          26            1       0.714286                1           2   \n",
       "83  1          27            2       0.857143                1           1   \n",
       "\n",
       "    sales_$_pred  agg_level_pred  daily_sales_err^2  \n",
       "0       0.000000              12                  1  \n",
       "1       0.857143              12                  4  \n",
       "2       0.714286              12                  1  \n",
       "3       0.000000              12                  4  \n",
       "4       0.000000              12                  1  \n",
       "..           ...             ...                ...  \n",
       "79      0.714286               1                  1  \n",
       "80      0.857143               1                  1  \n",
       "81      0.714286               1                  1  \n",
       "82      0.857143               1                  1  \n",
       "83      0.714286               1                  1  \n",
       "\n",
       "[84 rows x 9 columns]"
      ]
     },
     "metadata": {},
     "output_type": "display_data"
    },
    {
     "data": {
      "text/html": [
       "<div>\n",
       "<style scoped>\n",
       "    .dataframe tbody tr th:only-of-type {\n",
       "        vertical-align: middle;\n",
       "    }\n",
       "\n",
       "    .dataframe tbody tr th {\n",
       "        vertical-align: top;\n",
       "    }\n",
       "\n",
       "    .dataframe thead th {\n",
       "        text-align: right;\n",
       "    }\n",
       "</style>\n",
       "<table border=\"1\" class=\"dataframe\">\n",
       "  <thead>\n",
       "    <tr style=\"text-align: right;\">\n",
       "      <th></th>\n",
       "      <th>id</th>\n",
       "      <th>sales_diff_sum_squared</th>\n",
       "      <th>trn_sales_count</th>\n",
       "    </tr>\n",
       "  </thead>\n",
       "  <tbody>\n",
       "    <tr>\n",
       "      <th>0</th>\n",
       "      <td>A</td>\n",
       "      <td>71</td>\n",
       "      <td>72</td>\n",
       "    </tr>\n",
       "    <tr>\n",
       "      <th>1</th>\n",
       "      <td>B</td>\n",
       "      <td>284</td>\n",
       "      <td>72</td>\n",
       "    </tr>\n",
       "  </tbody>\n",
       "</table>\n",
       "</div>"
      ],
      "text/plain": [
       "  id  sales_diff_sum_squared  trn_sales_count\n",
       "0  A                      71               72\n",
       "1  B                     284               72"
      ]
     },
     "metadata": {},
     "output_type": "display_data"
    },
    {
     "data": {
      "text/html": [
       "<div>\n",
       "<style scoped>\n",
       "    .dataframe tbody tr th:only-of-type {\n",
       "        vertical-align: middle;\n",
       "    }\n",
       "\n",
       "    .dataframe tbody tr th {\n",
       "        vertical-align: top;\n",
       "    }\n",
       "\n",
       "    .dataframe thead th {\n",
       "        text-align: right;\n",
       "    }\n",
       "</style>\n",
       "<table border=\"1\" class=\"dataframe\">\n",
       "  <thead>\n",
       "    <tr style=\"text-align: right;\">\n",
       "      <th></th>\n",
       "      <th>id</th>\n",
       "      <th>agg_level_valid</th>\n",
       "      <th>denom_sales_diff^2_sum</th>\n",
       "      <th>sales_err^2_sum</th>\n",
       "      <th>sales_$_valid</th>\n",
       "      <th>agg_weight</th>\n",
       "      <th>series_weight</th>\n",
       "      <th>sales_diff_sum_squared</th>\n",
       "      <th>trn_sales_count</th>\n",
       "    </tr>\n",
       "  </thead>\n",
       "  <tbody>\n",
       "    <tr>\n",
       "      <th>0</th>\n",
       "      <td>A</td>\n",
       "      <td>12</td>\n",
       "      <td>27</td>\n",
       "      <td>28</td>\n",
       "      <td>10.0</td>\n",
       "      <td>22.0</td>\n",
       "      <td>0.454545</td>\n",
       "      <td>71</td>\n",
       "      <td>72</td>\n",
       "    </tr>\n",
       "    <tr>\n",
       "      <th>1</th>\n",
       "      <td>B</td>\n",
       "      <td>12</td>\n",
       "      <td>108</td>\n",
       "      <td>112</td>\n",
       "      <td>12.0</td>\n",
       "      <td>22.0</td>\n",
       "      <td>0.545455</td>\n",
       "      <td>284</td>\n",
       "      <td>72</td>\n",
       "    </tr>\n",
       "  </tbody>\n",
       "</table>\n",
       "</div>"
      ],
      "text/plain": [
       "  id  agg_level_valid  denom_sales_diff^2_sum  sales_err^2_sum  sales_$_valid  \\\n",
       "0  A               12                      27               28           10.0   \n",
       "1  B               12                     108              112           12.0   \n",
       "\n",
       "   agg_weight  series_weight  sales_diff_sum_squared  trn_sales_count  \n",
       "0        22.0       0.454545                      71               72  \n",
       "1        22.0       0.545455                     284               72  "
      ]
     },
     "metadata": {},
     "output_type": "display_data"
    },
    {
     "data": {
      "text/plain": [
       "0.13513443999376318"
      ]
     },
     "execution_count": 121,
     "metadata": {},
     "output_type": "execute_result"
    }
   ],
   "source": [
    "score = wrmsse_total(example_trn,\n",
    "                    example_val_w_aggs,\n",
    "                    example_val_inv_w_aggs,\n",
    "                    display=display)\n",
    "score"
   ]
  },
  {
   "cell_type": "code",
   "execution_count": 33,
   "metadata": {
    "ExecuteTime": {
     "end_time": "2020-03-27T12:29:11.347933Z",
     "start_time": "2020-03-27T12:29:11.232596Z"
    }
   },
   "outputs": [],
   "source": [
    "agg_series_counts = (df_valid_w_aggs.query('day_id == 1886')\n",
    "    [['id', 'item_id', 'dept_id', 'cat_id', 'store_id', 'agg_level', 'state_id']]\n",
    "    .groupby(['agg_level'], as_index=False)\n",
    "    .count()\n",
    ")"
   ]
  },
  {
   "cell_type": "code",
   "execution_count": 34,
   "metadata": {
    "ExecuteTime": {
     "end_time": "2020-03-27T12:29:11.408122Z",
     "start_time": "2020-03-27T12:29:11.350401Z"
    }
   },
   "outputs": [
    {
     "data": {
      "text/plain": [
       "42840"
      ]
     },
     "execution_count": 34,
     "metadata": {},
     "output_type": "execute_result"
    }
   ],
   "source": [
    "df_valid_w_aggs.query('day_id==1909')['id'].count()"
   ]
  },
  {
   "cell_type": "code",
   "execution_count": 35,
   "metadata": {
    "ExecuteTime": {
     "end_time": "2020-03-27T12:29:11.509206Z",
     "start_time": "2020-03-27T12:29:11.410420Z"
    }
   },
   "outputs": [
    {
     "data": {
      "text/html": [
       "<div>\n",
       "<style scoped>\n",
       "    .dataframe tbody tr th:only-of-type {\n",
       "        vertical-align: middle;\n",
       "    }\n",
       "\n",
       "    .dataframe tbody tr th {\n",
       "        vertical-align: top;\n",
       "    }\n",
       "\n",
       "    .dataframe thead th {\n",
       "        text-align: right;\n",
       "    }\n",
       "</style>\n",
       "<table border=\"1\" class=\"dataframe\">\n",
       "  <thead>\n",
       "    <tr style=\"text-align: right;\">\n",
       "      <th></th>\n",
       "      <th>state_id</th>\n",
       "      <th>cat_id</th>\n",
       "      <th>day_id</th>\n",
       "      <th>sales</th>\n",
       "      <th>sales_$</th>\n",
       "    </tr>\n",
       "  </thead>\n",
       "  <tbody>\n",
       "    <tr>\n",
       "      <th>0</th>\n",
       "      <td>CA</td>\n",
       "      <td>FOODS</td>\n",
       "      <td>1886</td>\n",
       "      <td>9821</td>\n",
       "      <td>27349.95</td>\n",
       "    </tr>\n",
       "    <tr>\n",
       "      <th>1</th>\n",
       "      <td>CA</td>\n",
       "      <td>FOODS</td>\n",
       "      <td>1887</td>\n",
       "      <td>9845</td>\n",
       "      <td>26741.79</td>\n",
       "    </tr>\n",
       "    <tr>\n",
       "      <th>2</th>\n",
       "      <td>CA</td>\n",
       "      <td>FOODS</td>\n",
       "      <td>1888</td>\n",
       "      <td>9165</td>\n",
       "      <td>24731.91</td>\n",
       "    </tr>\n",
       "    <tr>\n",
       "      <th>3</th>\n",
       "      <td>CA</td>\n",
       "      <td>FOODS</td>\n",
       "      <td>1889</td>\n",
       "      <td>9941</td>\n",
       "      <td>26434.36</td>\n",
       "    </tr>\n",
       "    <tr>\n",
       "      <th>4</th>\n",
       "      <td>CA</td>\n",
       "      <td>FOODS</td>\n",
       "      <td>1890</td>\n",
       "      <td>11891</td>\n",
       "      <td>32464.87</td>\n",
       "    </tr>\n",
       "  </tbody>\n",
       "</table>\n",
       "</div>"
      ],
      "text/plain": [
       "  state_id cat_id  day_id  sales   sales_$\n",
       "0       CA  FOODS    1886   9821  27349.95\n",
       "1       CA  FOODS    1887   9845  26741.79\n",
       "2       CA  FOODS    1888   9165  24731.91\n",
       "3       CA  FOODS    1889   9941  26434.36\n",
       "4       CA  FOODS    1890  11891  32464.87"
      ]
     },
     "execution_count": 35,
     "metadata": {},
     "output_type": "execute_result"
    }
   ],
   "source": [
    "grp_fields=['state_id', 'cat_id']\n",
    "denom = lambda x: x.diff().abs().sum()\n",
    "denom.__name__ = 'a'\n",
    "grp_11 = (df_valid\n",
    "    .groupby(grp_fields + ['day_id'], as_index=False)\n",
    "    .agg({'sales': 'sum', 'sales_$': 'sum'})\n",
    ")\n",
    "grp_11.head()"
   ]
  },
  {
   "cell_type": "code",
   "execution_count": 36,
   "metadata": {
    "ExecuteTime": {
     "end_time": "2020-03-27T12:29:11.527125Z",
     "start_time": "2020-03-27T12:29:11.511133Z"
    }
   },
   "outputs": [
    {
     "data": {
      "text/plain": [
       "'0.25.0'"
      ]
     },
     "execution_count": 36,
     "metadata": {},
     "output_type": "execute_result"
    }
   ],
   "source": [
    "pd.__version__"
   ]
  },
  {
   "cell_type": "code",
   "execution_count": 37,
   "metadata": {
    "ExecuteTime": {
     "end_time": "2020-03-27T12:29:11.574355Z",
     "start_time": "2020-03-27T12:29:11.529303Z"
    }
   },
   "outputs": [
    {
     "data": {
      "text/plain": [
       "30.0"
      ]
     },
     "execution_count": 37,
     "metadata": {},
     "output_type": "execute_result"
    }
   ],
   "source": [
    "df_valid.query('id == \"HOBBIES_1_001_CA_1_validation\"')['sales'].diff().abs().sum()"
   ]
  },
  {
   "cell_type": "code",
   "execution_count": 38,
   "metadata": {
    "ExecuteTime": {
     "end_time": "2020-03-27T12:29:11.641964Z",
     "start_time": "2020-03-27T12:29:11.576229Z"
    }
   },
   "outputs": [
    {
     "name": "stdout",
     "output_type": "stream",
     "text": [
      "CPU times: user 42.9 ms, sys: 2.97 ms, total: 45.9 ms\n",
      "Wall time: 44.9 ms\n"
     ]
    }
   ],
   "source": [
    "%%time\n",
    "for level, expected_count in agg_level_expected_counts.items():\n",
    "    actual_count = (agg_series_counts\n",
    "         .query(f'agg_level == {level}')\n",
    "         .drop('agg_level', axis=1)\n",
    "         .max(axis=1)\n",
    "         .values[0]\n",
    "    )\n",
    "    assert expected_count == actual_count, f\"Expected {expected_count} at level {level}, got: {actual_count}\""
   ]
  },
  {
   "cell_type": "code",
   "execution_count": 39,
   "metadata": {
    "ExecuteTime": {
     "end_time": "2020-03-27T12:29:11.667057Z",
     "start_time": "2020-03-27T12:29:11.643795Z"
    }
   },
   "outputs": [
    {
     "data": {
      "text/plain": [
       "\"\\n>>> df_valid_w_aggs.query('day_id == 1886')['id'].value_counts()[:3]\\n1897    3041\\n1898    1952\\n1899    1394\\nName: id, dtype: int64\\n\""
      ]
     },
     "execution_count": 39,
     "metadata": {},
     "output_type": "execute_result"
    }
   ],
   "source": [
    "# grp_11['id'] = grp_11.sum(axis=1) # fishy, ints and not they sorta collide\n",
    "\"\"\"\n",
    ">>> df_valid_w_aggs.query('day_id == 1886')['id'].value_counts()[:3]\n",
    "1897    3041\n",
    "1898    1952\n",
    "1899    1394\n",
    "Name: id, dtype: int64\n",
    "\"\"\""
   ]
  },
  {
   "cell_type": "code",
   "execution_count": 40,
   "metadata": {
    "ExecuteTime": {
     "end_time": "2020-03-27T12:29:11.690041Z",
     "start_time": "2020-03-27T12:29:11.669717Z"
    }
   },
   "outputs": [],
   "source": [
    "# TODO:\n",
    "# pre-aggregate series\n",
    "# add weight per sales volumes\n",
    "# calculate rmssse\n",
    "# calculate wrmsse\n",
    "# ...\n",
    "# Profit!"
   ]
  },
  {
   "cell_type": "code",
   "execution_count": 41,
   "metadata": {
    "ExecuteTime": {
     "end_time": "2020-03-27T12:29:11.773140Z",
     "start_time": "2020-03-27T12:29:11.692434Z"
    }
   },
   "outputs": [],
   "source": [
    "eval_rows = df_sample_submission[df_sample_submission['id'].str.contains('_evaluation')]"
   ]
  },
  {
   "cell_type": "code",
   "execution_count": 42,
   "metadata": {
    "ExecuteTime": {
     "end_time": "2020-03-27T12:29:13.453992Z",
     "start_time": "2020-03-27T12:29:11.775878Z"
    }
   },
   "outputs": [],
   "source": [
    "(pd.concat([df_submission, eval_rows])\n",
    "    .to_csv(f'{submissions}/0200-naive.csv', index=False)\n",
    ")"
   ]
  },
  {
   "cell_type": "code",
   "execution_count": 43,
   "metadata": {
    "ExecuteTime": {
     "end_time": "2020-03-27T12:29:13.648264Z",
     "start_time": "2020-03-27T12:29:13.455380Z"
    }
   },
   "outputs": [
    {
     "name": "stdout",
     "output_type": "stream",
     "text": [
      "id,F1,F2,F3,F4,F5,F6,F7,F8,F9,F10,F11,F12,F13,F14,F15,F16,F17,F18,F19,F20,F21,F22,F23,F24,F25,F26,F27,F28\r\n",
      "FOODS_1_001_CA_1_validation,2,1,1,0,4,0,0,4,1,3,0,1,0,2,2,0,1,1,0,2,0,4,1,1,0,1,1,0\r\n"
     ]
    }
   ],
   "source": [
    "!head -n2 {submissions}/0200-naive.csv"
   ]
  },
  {
   "cell_type": "code",
   "execution_count": 44,
   "metadata": {
    "ExecuteTime": {
     "end_time": "2020-03-27T12:29:13.797093Z",
     "start_time": "2020-03-27T12:29:13.650263Z"
    }
   },
   "outputs": [
    {
     "name": "stdout",
     "output_type": "stream",
     "text": [
      "id,F1,F2,F3,F4,F5,F6,F7,F8,F9,F10,F11,F12,F13,F14,F15,F16,F17,F18,F19,F20,F21,F22,F23,F24,F25,F26,F27,F28\r\n",
      "HOBBIES_1_001_CA_1_validation,0,0,0,0,0,0,0,0,0,0,0,0,0,0,0,0,0,0,0,0,0,0,0,0,0,0,0,0\r\n"
     ]
    }
   ],
   "source": [
    "!head -n2 {raw}/sample_submission.csv"
   ]
  },
  {
   "cell_type": "code",
   "execution_count": 45,
   "metadata": {
    "ExecuteTime": {
     "end_time": "2020-03-27T12:29:13.950413Z",
     "start_time": "2020-03-27T12:29:13.799829Z"
    }
   },
   "outputs": [
    {
     "name": "stdout",
     "output_type": "stream",
     "text": [
      "   60981 submissions/0200-naive.csv\r\n"
     ]
    }
   ],
   "source": [
    "!wc -l {submissions}/0200-naive.csv"
   ]
  },
  {
   "cell_type": "code",
   "execution_count": 46,
   "metadata": {
    "ExecuteTime": {
     "end_time": "2020-03-27T12:29:14.111899Z",
     "start_time": "2020-03-27T12:29:13.953399Z"
    }
   },
   "outputs": [
    {
     "name": "stdout",
     "output_type": "stream",
     "text": [
      "   60981 raw/sample_submission.csv\r\n"
     ]
    }
   ],
   "source": [
    "!wc -l {raw}/sample_submission.csv"
   ]
  },
  {
   "cell_type": "code",
   "execution_count": 47,
   "metadata": {
    "ExecuteTime": {
     "end_time": "2020-03-27T12:29:15.012071Z",
     "start_time": "2020-03-27T12:29:14.114717Z"
    }
   },
   "outputs": [],
   "source": [
    "!open {submissions}"
   ]
  },
  {
   "cell_type": "code",
   "execution_count": 48,
   "metadata": {
    "ExecuteTime": {
     "end_time": "2020-03-27T12:29:15.588215Z",
     "start_time": "2020-03-27T12:29:15.014028Z"
    }
   },
   "outputs": [],
   "source": [
    "!open https://www.kaggle.com/c/m5-forecasting-accuracy/submit"
   ]
  },
  {
   "cell_type": "code",
   "execution_count": null,
   "metadata": {},
   "outputs": [],
   "source": []
  }
 ],
 "metadata": {
  "kernelspec": {
   "display_name": "Python 3",
   "language": "python",
   "name": "python3"
  },
  "language_info": {
   "codemirror_mode": {
    "name": "ipython",
    "version": 3
   },
   "file_extension": ".py",
   "mimetype": "text/x-python",
   "name": "python",
   "nbconvert_exporter": "python",
   "pygments_lexer": "ipython3",
   "version": "3.7.7"
  },
  "toc": {
   "base_numbering": 1,
   "nav_menu": {},
   "number_sections": true,
   "sideBar": true,
   "skip_h1_title": false,
   "title_cell": "Table of Contents",
   "title_sidebar": "Contents",
   "toc_cell": false,
   "toc_position": {},
   "toc_section_display": true,
   "toc_window_display": false
  },
  "varInspector": {
   "cols": {
    "lenName": 16,
    "lenType": 16,
    "lenVar": 40
   },
   "kernels_config": {
    "python": {
     "delete_cmd_postfix": "",
     "delete_cmd_prefix": "del ",
     "library": "var_list.py",
     "varRefreshCmd": "print(var_dic_list())"
    },
    "r": {
     "delete_cmd_postfix": ") ",
     "delete_cmd_prefix": "rm(",
     "library": "var_list.r",
     "varRefreshCmd": "cat(var_dic_list()) "
    }
   },
   "types_to_exclude": [
    "module",
    "function",
    "builtin_function_or_method",
    "instance",
    "_Feature"
   ],
   "window_display": false
  }
 },
 "nbformat": 4,
 "nbformat_minor": 2
}
