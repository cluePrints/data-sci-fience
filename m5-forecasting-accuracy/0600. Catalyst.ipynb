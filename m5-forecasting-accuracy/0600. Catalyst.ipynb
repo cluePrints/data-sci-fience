{
 "cells": [
  {
   "cell_type": "code",
   "execution_count": 22,
   "metadata": {
    "ExecuteTime": {
     "end_time": "2020-05-31T17:33:33.552104Z",
     "start_time": "2020-05-31T17:33:33.546319Z"
    }
   },
   "outputs": [],
   "source": [
    "from petastorm import make_batch_reader, TransformSpec\n",
    "from petastorm.pytorch import DataLoader as PetaDataLoader\n",
    "from torch.utils.data import TensorDataset, DataLoader as TorchDataLoader, IterableDataset\n",
    "from sklearn import preprocessing\n",
    "from collections import OrderedDict\n",
    "from torch import tensor\n",
    "import math"
   ]
  },
  {
   "cell_type": "code",
   "execution_count": 23,
   "metadata": {
    "ExecuteTime": {
     "end_time": "2020-05-31T17:33:33.575234Z",
     "start_time": "2020-05-31T17:33:33.560949Z"
    }
   },
   "outputs": [],
   "source": [
    "class MyIterableDataset(IterableDataset):\n",
    "    def __init__(self, filename):\n",
    "        super(MyIterableDataset).__init__()\n",
    "        self.filename = filename\n",
    "\n",
    "    def _init_petaloader(self):\n",
    "        def _transform_row(df_batch):\n",
    "            return df_batch\n",
    "\n",
    "        transform = TransformSpec(_transform_row, removed_fields=['cat_id', 'store_id', 'state_id'])\n",
    "        reader = make_batch_reader(self.filename,\n",
    "                 schema_fields=['id', 'item_id', 'dept_id', 'cat_id', 'day_id',\n",
    "               'sales', 'day_date_str', 'month_id', 'date', 'wm_yr_wk',\n",
    "               'snap_flag', 'sell_price', 'sales_dollars', 'store_id', 'state_id']\n",
    "                #,transform_spec = transform\n",
    "        )\n",
    "        return PetaDataLoader(reader=reader, batch_size=10000, shuffling_queue_capacity=100000)\n",
    "        \n",
    "    def __len__(self):\n",
    "        return 1300000\n",
    "\n",
    "    def __iter__(self):\n",
    "        print(\"Iterator created\")\n",
    "        worker_info = torch.utils.data.get_worker_info()\n",
    "        if worker_info is None:\n",
    "            for batch in self._init_petaloader():\n",
    "                for price, sales_dollars in zip(batch['sell_price'], batch['sales_dollars']):\n",
    "                    price_is_nan = math.isnan(price)\n",
    "                    price_or_zero = 0. if price_is_nan else price\n",
    "                    yield {'features': tensor([price_or_zero, price_is_nan]),\n",
    "                           'targets': tensor([sales_dollars])}\n",
    "        else:\n",
    "            raise ValueError(\"Not implemented for multithreading\")"
   ]
  },
  {
   "cell_type": "code",
   "execution_count": 25,
   "metadata": {
    "ExecuteTime": {
     "end_time": "2020-05-31T17:33:33.600272Z",
     "start_time": "2020-05-31T17:33:33.591429Z"
    }
   },
   "outputs": [],
   "source": [
    "import torch\n",
    "from torch import nn\n",
    "import torch.nn.functional as F\n",
    "\n",
    "from catalyst.dl import SupervisedRunner\n",
    "from catalyst.utils import set_global_seed"
   ]
  },
  {
   "cell_type": "code",
   "execution_count": 26,
   "metadata": {
    "ExecuteTime": {
     "end_time": "2020-05-31T17:33:33.643256Z",
     "start_time": "2020-05-31T17:33:33.615262Z"
    }
   },
   "outputs": [],
   "source": [
    "SEED=42\n",
    "set_global_seed(SEED)"
   ]
  },
  {
   "cell_type": "code",
   "execution_count": 27,
   "metadata": {
    "ExecuteTime": {
     "end_time": "2020-05-31T17:33:33.657027Z",
     "start_time": "2020-05-31T17:33:33.647047Z"
    }
   },
   "outputs": [],
   "source": [
    "batch = 128\n",
    "\n",
    "train_ds = MyIterableDataset('file:./trn.parquet')\n",
    "\n",
    "train_dl = TorchDataLoader(train_ds, batch_size=batch, shuffle=False, num_workers=0, drop_last=False)\n",
    "valid_dl = TorchDataLoader(train_ds, batch_size=batch, shuffle=False, num_workers=0, drop_last=False)\n",
    "\n",
    "data = OrderedDict()\n",
    "data[\"train\"] = train_dl\n",
    "data[\"valid\"] = valid_dl"
   ]
  },
  {
   "cell_type": "code",
   "execution_count": 30,
   "metadata": {
    "ExecuteTime": {
     "end_time": "2020-05-31T17:33:33.690322Z",
     "start_time": "2020-05-31T17:33:33.676914Z"
    }
   },
   "outputs": [],
   "source": [
    "class Net(nn.Module):\n",
    "    def __init__(self, num_features):\n",
    "        super(Net,self).__init__()\n",
    "        layers = [40, 20]\n",
    "        self.L1 = nn.Linear(num_features, layers[0])\n",
    "        torch.nn.init.xavier_uniform_(self.L1.weight) \n",
    "        torch.nn.init.zeros_(self.L1.bias)\n",
    "        \n",
    "        self.L2 = nn.Linear(layers[0], layers[1])\n",
    "        torch.nn.init.xavier_uniform_(self.L2.weight) \n",
    "        torch.nn.init.zeros_(self.L2.bias)\n",
    "        \n",
    "        self.L3 = nn.Linear(layers[1], 1)\n",
    "        torch.nn.init.xavier_uniform_(self.L3.weight) \n",
    "        torch.nn.init.zeros_(self.L3.bias)\n",
    "    def forward(self, x):\n",
    "        x = F.relu(self.L1(x))\n",
    "        x = F.relu(self.L2(x))\n",
    "        x = F.relu(self.L3(x))\n",
    "        return x\n",
    "\n",
    "class MyLoss(nn.MSELoss):\n",
    "    def __init__(self):\n",
    "        super(MyLoss, self).__init__()\n",
    "\n",
    "    def forward(self, inp, target):\n",
    "        return super().forward(inp, target)"
   ]
  },
  {
   "cell_type": "code",
   "execution_count": 31,
   "metadata": {
    "ExecuteTime": {
     "end_time": "2020-05-31T17:33:33.701248Z",
     "start_time": "2020-05-31T17:33:33.695073Z"
    }
   },
   "outputs": [],
   "source": [
    "model = Net(num_features=2)"
   ]
  },
  {
   "cell_type": "code",
   "execution_count": 32,
   "metadata": {
    "ExecuteTime": {
     "end_time": "2020-05-31T17:33:33.708153Z",
     "start_time": "2020-05-31T17:33:33.704392Z"
    }
   },
   "outputs": [],
   "source": [
    "optimizer = torch.optim.Adam(model.parameters(), lr=1e-2)\n",
    "criterion = MyLoss()"
   ]
  },
  {
   "cell_type": "code",
   "execution_count": 33,
   "metadata": {
    "ExecuteTime": {
     "end_time": "2020-05-31T17:35:32.556539Z",
     "start_time": "2020-05-31T17:33:33.711514Z"
    }
   },
   "outputs": [
    {
     "name": "stdout",
     "output_type": "stream",
     "text": [
      "Iterator created\n",
      "Iterator created\n",
      "[2020-05-31 10:35:32,477] \n",
      "1/1 * Epoch 1 (_base): lr=0.0100 | momentum=0.9000\n",
      "1/1 * Epoch 1 (train): loss=215.8209\n",
      "1/1 * Epoch 1 (valid): loss=202.4572\n"
     ]
    },
    {
     "name": "stderr",
     "output_type": "stream",
     "text": [
      "INFO:metrics_logger:\n",
      "1/1 * Epoch 1 (_base): lr=0.0100 | momentum=0.9000\n",
      "1/1 * Epoch 1 (train): loss=215.8209\n",
      "1/1 * Epoch 1 (valid): loss=202.4572\n"
     ]
    },
    {
     "name": "stdout",
     "output_type": "stream",
     "text": [
      "Top best models:\n",
      "run/checkpoints/train.1.pth\t202.4572\n",
      "=> Loading checkpoint run/checkpoints/best_full.pth\n",
      "loaded state checkpoint run/checkpoints/best_full.pth (global epoch 1, epoch 1, stage train)\n"
     ]
    }
   ],
   "source": [
    "runner = SupervisedRunner()\n",
    "runner.train(\n",
    "    model=model,\n",
    "    criterion=criterion,\n",
    "    optimizer=optimizer,\n",
    "    loaders=data,\n",
    "    logdir=\"run\",\n",
    "    load_best_on_end=True,\n",
    "    num_epochs=1)"
   ]
  },
  {
   "cell_type": "code",
   "execution_count": 34,
   "metadata": {
    "ExecuteTime": {
     "end_time": "2020-05-31T17:37:59.485360Z",
     "start_time": "2020-05-31T17:37:59.415269Z"
    }
   },
   "outputs": [],
   "source": [
    "make_batch_reader??"
   ]
  },
  {
   "cell_type": "code",
   "execution_count": null,
   "metadata": {},
   "outputs": [],
   "source": []
  }
 ],
 "metadata": {
  "kernelspec": {
   "display_name": "Python 3",
   "language": "python",
   "name": "python3"
  },
  "language_info": {
   "codemirror_mode": {
    "name": "ipython",
    "version": 3
   },
   "file_extension": ".py",
   "mimetype": "text/x-python",
   "name": "python",
   "nbconvert_exporter": "python",
   "pygments_lexer": "ipython3",
   "version": "3.7.7"
  },
  "toc": {
   "base_numbering": 1,
   "nav_menu": {},
   "number_sections": true,
   "sideBar": true,
   "skip_h1_title": false,
   "title_cell": "Table of Contents",
   "title_sidebar": "Contents",
   "toc_cell": false,
   "toc_position": {},
   "toc_section_display": true,
   "toc_window_display": false
  },
  "varInspector": {
   "cols": {
    "lenName": 16,
    "lenType": 16,
    "lenVar": 40
   },
   "kernels_config": {
    "python": {
     "delete_cmd_postfix": "",
     "delete_cmd_prefix": "del ",
     "library": "var_list.py",
     "varRefreshCmd": "print(var_dic_list())"
    },
    "r": {
     "delete_cmd_postfix": ") ",
     "delete_cmd_prefix": "rm(",
     "library": "var_list.r",
     "varRefreshCmd": "cat(var_dic_list()) "
    }
   },
   "types_to_exclude": [
    "module",
    "function",
    "builtin_function_or_method",
    "instance",
    "_Feature"
   ],
   "window_display": false
  }
 },
 "nbformat": 4,
 "nbformat_minor": 4
}
