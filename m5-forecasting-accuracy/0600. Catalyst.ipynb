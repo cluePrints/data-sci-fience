{
 "cells": [
  {
   "cell_type": "code",
   "execution_count": 1,
   "metadata": {
    "ExecuteTime": {
     "end_time": "2020-05-31T21:17:06.359751Z",
     "start_time": "2020-05-31T21:17:05.051106Z"
    }
   },
   "outputs": [],
   "source": [
    "from petastorm import make_batch_reader, TransformSpec\n",
    "from petastorm.pytorch import DataLoader as PetaDataLoader\n",
    "from torch.utils.data import TensorDataset, DataLoader as TorchDataLoader, IterableDataset\n",
    "from sklearn import preprocessing\n",
    "from collections import OrderedDict\n",
    "from torch import tensor\n",
    "import math\n",
    "import os\n",
    "import re"
   ]
  },
  {
   "cell_type": "code",
   "execution_count": 2,
   "metadata": {
    "ExecuteTime": {
     "end_time": "2020-05-31T21:17:06.384906Z",
     "start_time": "2020-05-31T21:17:06.362222Z"
    }
   },
   "outputs": [
    {
     "name": "stdout",
     "output_type": "stream",
     "text": [
      "Patching\n"
     ]
    }
   ],
   "source": [
    "FILE_PREFIX = 'file:'\n",
    "\n",
    "pre_open_fds = None\n",
    "def patch_leaking_fd():\n",
    "    global pre_open_fds\n",
    "    from pyarrow.parquet import ParquetFile, ParquetReader\n",
    "    def _patched_init(self, source, **kwargs):\n",
    "        self.source = source\n",
    "        return ParquetFile.__old_init__(self, source, **kwargs)\n",
    "\n",
    "    def _exit(self, *args, **kwargs):\n",
    "        if hasattr(self.source, 'close'):\n",
    "            self.source.close()\n",
    "            del self.source\n",
    "\n",
    "    def _bopen(fn):    \n",
    "        return open(fn, 'rb')\n",
    "\n",
    "    pre_open_fds = _bopen\n",
    "    if not hasattr(ParquetFile, '__old_init__'):\n",
    "        print(\"Patching\")\n",
    "        ParquetFile.__old_init__ = ParquetFile.__init__\n",
    "\n",
    "        ParquetFile.__init__ = _patched_init\n",
    "        ParquetFile.__exit__ = _exit\n",
    "        ParquetFile.__del__ = _exit\n",
    "\n",
    "    else:\n",
    "        print(\"Already patched\")\n",
    "\n",
    "patch_leaking_fd()\n",
    "\n",
    "\n",
    "\n",
    "class MyIterableDataset(IterableDataset):\n",
    "    def __init__(self, filename, rex=None):\n",
    "        super(MyIterableDataset).__init__()\n",
    "        self._filename_param = filename\n",
    "        self.filename = self._init_filenames(filename, rex)\n",
    "\n",
    "    def _init_filenames(self, filename, rex):\n",
    "        if rex is None:\n",
    "            return filename\n",
    "        \n",
    "        filename = filename[len(FILE_PREFIX):]\n",
    "        if not os.path.isdir(filename):\n",
    "            raise ValueError(f\"Filtering only possible for dirs, {filename} is not a one\")\n",
    "        paths = [os.path.join(dp, f) for dp, dn, fn in os.walk(filename) for f in fn]\n",
    "        res = list(map(\n",
    "            lambda f: FILE_PREFIX + f,\n",
    "            filter(lambda f: re.match(rex, f) is not None, paths)\n",
    "        ))\n",
    "        if (len(res) == 0):\n",
    "            raise ValueError(f\"0 files remained out ot {len(paths)} - seems regex is too restrictive\")\n",
    "\n",
    "        return res;\n",
    "\n",
    "    def _init_petaloader(self):\n",
    "        def _transform_row(df_batch):\n",
    "            return df_batch\n",
    "\n",
    "        transform = TransformSpec(_transform_row, removed_fields=['cat_id', 'store_id', 'state_id'])\n",
    "        reader = make_batch_reader(self.filename,\n",
    "                 schema_fields=['id', 'item_id', 'dept_id', 'cat_id', 'day_id',\n",
    "               'sales', 'day_date_str', 'month_id', 'date', 'wm_yr_wk',\n",
    "               'snap_flag', 'sell_price', 'sales_dollars', 'store_id', 'state_id'],\n",
    "                workers_count=1\n",
    "                #,transform_spec = transform\n",
    "        )\n",
    "        return PetaDataLoader(reader=reader, batch_size=10000, shuffling_queue_capacity=100000)\n",
    "        \n",
    "    def __len__(self):\n",
    "        return 1300000\n",
    "\n",
    "    def __iter__(self):\n",
    "        print(f\"Iterator created on {self._filename_param}\")\n",
    "        worker_info = torch.utils.data.get_worker_info()\n",
    "        if worker_info is None:\n",
    "            with self._init_petaloader() as loader:\n",
    "                if pre_open_fds:\n",
    "                    loader.reader.dataset.fs.open = pre_open_fds\n",
    "                for batch in loader:\n",
    "                    for price, sales_dollars in zip(batch['sell_price'], batch['sales_dollars']):\n",
    "                        price_is_nan = math.isnan(price)\n",
    "                        price_or_zero = 0. if price_is_nan else price\n",
    "                        yield {'features': tensor([price_or_zero, price_is_nan]),\n",
    "                               'targets': tensor([sales_dollars])}\n",
    "        else:\n",
    "            raise ValueError(\"Not implemented for multithreading\")"
   ]
  },
  {
   "cell_type": "code",
   "execution_count": 3,
   "metadata": {
    "ExecuteTime": {
     "end_time": "2020-05-31T21:17:07.181810Z",
     "start_time": "2020-05-31T21:17:06.387430Z"
    }
   },
   "outputs": [
    {
     "name": "stderr",
     "output_type": "stream",
     "text": [
      "/usr/local/lib/python3.7/site-packages/tqdm/std.py:658: FutureWarning: The Panel class is removed from pandas. Accessing it from the top-level namespace will also be removed in the next version\n",
      "  from pandas import Panel\n",
      "/usr/local/Cellar/python/3.7.7/Frameworks/Python.framework/Versions/3.7/lib/python3.7/importlib/_bootstrap.py:219: RuntimeWarning:\n",
      "\n",
      "numpy.ufunc size changed, may indicate binary incompatibility. Expected 192 from C header, got 216 from PyObject\n",
      "\n"
     ]
    }
   ],
   "source": [
    "import torch\n",
    "from torch import nn\n",
    "import torch.nn.functional as F\n",
    "\n",
    "from catalyst.dl import SupervisedRunner\n",
    "from catalyst.utils import set_global_seed"
   ]
  },
  {
   "cell_type": "code",
   "execution_count": 4,
   "metadata": {
    "ExecuteTime": {
     "end_time": "2020-05-31T21:17:07.190432Z",
     "start_time": "2020-05-31T21:17:07.185382Z"
    }
   },
   "outputs": [],
   "source": [
    "SEED=42\n",
    "set_global_seed(SEED)"
   ]
  },
  {
   "cell_type": "code",
   "execution_count": 5,
   "metadata": {
    "ExecuteTime": {
     "end_time": "2020-05-31T21:17:07.205612Z",
     "start_time": "2020-05-31T21:17:07.192882Z"
    }
   },
   "outputs": [],
   "source": [
    "batch = 128\n",
    "\n",
    "train_ds = MyIterableDataset('file:./trn.parquet', rex='.*/parquet_partition=2/.*')\n",
    "valid_ds = MyIterableDataset('file:./trn.parquet/parquet_partition=1')\n",
    "\n",
    "train_dl = TorchDataLoader(train_ds, batch_size=batch, shuffle=False, num_workers=0, drop_last=False)\n",
    "valid_dl = TorchDataLoader(valid_ds, batch_size=batch, shuffle=False, num_workers=0, drop_last=False)\n",
    "\n",
    "data = OrderedDict()\n",
    "data[\"train\"] = train_dl\n",
    "data[\"valid\"] = valid_dl"
   ]
  },
  {
   "cell_type": "code",
   "execution_count": 6,
   "metadata": {
    "ExecuteTime": {
     "end_time": "2020-05-31T21:17:07.217479Z",
     "start_time": "2020-05-31T21:17:07.207689Z"
    }
   },
   "outputs": [],
   "source": [
    "class Net(nn.Module):\n",
    "    def __init__(self, num_features):\n",
    "        super(Net,self).__init__()\n",
    "        layers = [40, 20]\n",
    "        self.L1 = nn.Linear(num_features, layers[0])\n",
    "        torch.nn.init.xavier_uniform_(self.L1.weight) \n",
    "        torch.nn.init.zeros_(self.L1.bias)\n",
    "        \n",
    "        self.L2 = nn.Linear(layers[0], layers[1])\n",
    "        torch.nn.init.xavier_uniform_(self.L2.weight) \n",
    "        torch.nn.init.zeros_(self.L2.bias)\n",
    "        \n",
    "        self.L3 = nn.Linear(layers[1], 1)\n",
    "        torch.nn.init.xavier_uniform_(self.L3.weight) \n",
    "        torch.nn.init.zeros_(self.L3.bias)\n",
    "    def forward(self, x):\n",
    "        x = F.relu(self.L1(x))\n",
    "        x = F.relu(self.L2(x))\n",
    "        x = F.relu(self.L3(x))\n",
    "        return x\n",
    "\n",
    "class MyLoss(nn.MSELoss):\n",
    "    def __init__(self):\n",
    "        super(MyLoss, self).__init__()\n",
    "\n",
    "    def forward(self, inp, target):\n",
    "        return super().forward(inp, target)"
   ]
  },
  {
   "cell_type": "code",
   "execution_count": 7,
   "metadata": {
    "ExecuteTime": {
     "end_time": "2020-05-31T21:17:07.225147Z",
     "start_time": "2020-05-31T21:17:07.220128Z"
    }
   },
   "outputs": [],
   "source": [
    "model = Net(num_features=2)"
   ]
  },
  {
   "cell_type": "code",
   "execution_count": 8,
   "metadata": {
    "ExecuteTime": {
     "end_time": "2020-05-31T21:17:07.229809Z",
     "start_time": "2020-05-31T21:17:07.226791Z"
    }
   },
   "outputs": [],
   "source": [
    "optimizer = torch.optim.Adam(model.parameters(), lr=1e-2)\n",
    "criterion = MyLoss()"
   ]
  },
  {
   "cell_type": "code",
   "execution_count": 9,
   "metadata": {
    "ExecuteTime": {
     "end_time": "2020-05-31T21:17:10.302091Z",
     "start_time": "2020-05-31T21:17:07.231847Z"
    }
   },
   "outputs": [
    {
     "name": "stdout",
     "output_type": "stream",
     "text": [
      "Iterator created on file:./trn.parquet\n",
      "./trn.parquet/parquet_partition=2/0f9c844fe0ec46cca3a4b7a53ab2c9b3.parquet (<class 'str'>)\n",
      "./trn.parquet/parquet_partition=2/0f9c844fe0ec46cca3a4b7a53ab2c9b3.parquet (<class 'str'>)\n",
      "./trn.parquet/parquet_partition=2/d1144e0650e746ce9532427ab42da435.parquet (<class 'str'>)\n",
      "./trn.parquet/parquet_partition=2/78472bf1717044c597caf14f92f4b59e.parquet (<class 'str'>)\n",
      "./trn.parquet/parquet_partition=2/9c903d22fdb146959b44f651a6214189.parquet (<class 'str'>)\n",
      "./trn.parquet/parquet_partition=2/c2d359ff86a3440791bbad1f86cab185.parquet (<class 'str'>)\n",
      "./trn.parquet/parquet_partition=2/20c4cc252048478c82090e525e265b77.parquet (<class 'str'>)\n",
      "./trn.parquet/parquet_partition=2/d90c33a6296c491e88402308dc3f831d.parquet (<class 'str'>)\n",
      "<_io.BufferedReader name='./trn.parquet/parquet_partition=2/78472bf1717044c597caf14f92f4b59e.parquet'> (<class '_io.BufferedReader'>)\n",
      "<_io.BufferedReader name='./trn.parquet/parquet_partition=2/78472bf1717044c597caf14f92f4b59e.parquet'> (<class '_io.BufferedReader'>)\n",
      "<_io.BufferedReader name='./trn.parquet/parquet_partition=2/20c4cc252048478c82090e525e265b77.parquet'> (<class '_io.BufferedReader'>)\n"
     ]
    },
    {
     "name": "stderr",
     "output_type": "stream",
     "text": [
      "/usr/local/lib/python3.7/site-packages/petastorm/arrow_reader_worker.py:53: FutureWarning:\n",
      "\n",
      "Calling .data on ChunkedArray is provided for compatibility after Column was removed, simply drop this attribute\n",
      "\n"
     ]
    },
    {
     "name": "stdout",
     "output_type": "stream",
     "text": [
      "<_io.BufferedReader name='./trn.parquet/parquet_partition=2/20c4cc252048478c82090e525e265b77.parquet'> (<class '_io.BufferedReader'>)\n",
      "<_io.BufferedReader name='./trn.parquet/parquet_partition=2/9c903d22fdb146959b44f651a6214189.parquet'> (<class '_io.BufferedReader'>)\n",
      "<_io.BufferedReader name='./trn.parquet/parquet_partition=2/9c903d22fdb146959b44f651a6214189.parquet'> (<class '_io.BufferedReader'>)\n",
      "<_io.BufferedReader name='./trn.parquet/parquet_partition=2/d1144e0650e746ce9532427ab42da435.parquet'> (<class '_io.BufferedReader'>)\n",
      "<_io.BufferedReader name='./trn.parquet/parquet_partition=2/d1144e0650e746ce9532427ab42da435.parquet'> (<class '_io.BufferedReader'>)\n",
      "<_io.BufferedReader name='./trn.parquet/parquet_partition=2/0f9c844fe0ec46cca3a4b7a53ab2c9b3.parquet'> (<class '_io.BufferedReader'>)\n",
      "<_io.BufferedReader name='./trn.parquet/parquet_partition=2/0f9c844fe0ec46cca3a4b7a53ab2c9b3.parquet'> (<class '_io.BufferedReader'>)\n",
      "<_io.BufferedReader name='./trn.parquet/parquet_partition=2/d90c33a6296c491e88402308dc3f831d.parquet'> (<class '_io.BufferedReader'>)\n",
      "<_io.BufferedReader name='./trn.parquet/parquet_partition=2/d90c33a6296c491e88402308dc3f831d.parquet'> (<class '_io.BufferedReader'>)\n",
      "<_io.BufferedReader name='./trn.parquet/parquet_partition=2/c2d359ff86a3440791bbad1f86cab185.parquet'> (<class '_io.BufferedReader'>)\n",
      "<_io.BufferedReader name='./trn.parquet/parquet_partition=2/c2d359ff86a3440791bbad1f86cab185.parquet'> (<class '_io.BufferedReader'>)\n"
     ]
    },
    {
     "name": "stderr",
     "output_type": "stream",
     "text": [
      "/usr/local/lib/python3.7/site-packages/petastorm/workers_pool/thread_pool.py:187: PendingDeprecationWarning:\n",
      "\n",
      "isAlive() is deprecated, use is_alive() instead\n",
      "\n"
     ]
    },
    {
     "name": "stdout",
     "output_type": "stream",
     "text": [
      "Iterator created on file:./trn.parquet/parquet_partition=1\n",
      "./trn.parquet/parquet_partition=1/35730d08c7134d2b8a5af25394cd5278.parquet (<class 'str'>)\n",
      "./trn.parquet/parquet_partition=1/35730d08c7134d2b8a5af25394cd5278.parquet (<class 'str'>)./trn.parquet/parquet_partition=1/379b0072a72a43cb8d5b4797d58f3d86.parquet (<class 'str'>)\n",
      "\n",
      "./trn.parquet/parquet_partition=1/8727bd4f99bb4ec3b5e914164844e676.parquet (<class 'str'>)\n",
      "./trn.parquet/parquet_partition=1/b20c30ebd03145e19ac0604d6760bd44.parquet (<class 'str'>)\n",
      "./trn.parquet/parquet_partition=1/c25924cd9c2e45a081db3820d93e08bd.parquet (<class 'str'>)./trn.parquet/parquet_partition=1/c541778b11574df5949271d3e55b912d.parquet (<class 'str'>)\n",
      "\n",
      "./trn.parquet/parquet_partition=1/de5475c8c74d42828022cd21a5fc8da4.parquet (<class 'str'>)\n",
      "<_io.BufferedReader name='./trn.parquet/parquet_partition=1/8727bd4f99bb4ec3b5e914164844e676.parquet'> (<class '_io.BufferedReader'>)\n",
      "<_io.BufferedReader name='./trn.parquet/parquet_partition=1/8727bd4f99bb4ec3b5e914164844e676.parquet'> (<class '_io.BufferedReader'>)\n",
      "<_io.BufferedReader name='./trn.parquet/parquet_partition=1/c541778b11574df5949271d3e55b912d.parquet'> (<class '_io.BufferedReader'>)\n",
      "<_io.BufferedReader name='./trn.parquet/parquet_partition=1/c541778b11574df5949271d3e55b912d.parquet'> (<class '_io.BufferedReader'>)\n",
      "<_io.BufferedReader name='./trn.parquet/parquet_partition=1/b20c30ebd03145e19ac0604d6760bd44.parquet'> (<class '_io.BufferedReader'>)\n",
      "<_io.BufferedReader name='./trn.parquet/parquet_partition=1/b20c30ebd03145e19ac0604d6760bd44.parquet'> (<class '_io.BufferedReader'>)\n",
      "<_io.BufferedReader name='./trn.parquet/parquet_partition=1/379b0072a72a43cb8d5b4797d58f3d86.parquet'> (<class '_io.BufferedReader'>)\n",
      "<_io.BufferedReader name='./trn.parquet/parquet_partition=1/379b0072a72a43cb8d5b4797d58f3d86.parquet'> (<class '_io.BufferedReader'>)\n",
      "<_io.BufferedReader name='./trn.parquet/parquet_partition=1/35730d08c7134d2b8a5af25394cd5278.parquet'> (<class '_io.BufferedReader'>)\n",
      "<_io.BufferedReader name='./trn.parquet/parquet_partition=1/35730d08c7134d2b8a5af25394cd5278.parquet'> (<class '_io.BufferedReader'>)\n",
      "<_io.BufferedReader name='./trn.parquet/parquet_partition=1/de5475c8c74d42828022cd21a5fc8da4.parquet'> (<class '_io.BufferedReader'>)\n",
      "<_io.BufferedReader name='./trn.parquet/parquet_partition=1/de5475c8c74d42828022cd21a5fc8da4.parquet'> (<class '_io.BufferedReader'>)\n",
      "<_io.BufferedReader name='./trn.parquet/parquet_partition=1/c25924cd9c2e45a081db3820d93e08bd.parquet'> (<class '_io.BufferedReader'>)\n",
      "<_io.BufferedReader name='./trn.parquet/parquet_partition=1/c25924cd9c2e45a081db3820d93e08bd.parquet'> (<class '_io.BufferedReader'>)\n",
      "[2020-05-31 14:17:10,284] \n",
      "1/1 * Epoch 1 (_base): lr=0.0100 | momentum=0.9000\n",
      "1/1 * Epoch 1 (train): loss=238.8426\n",
      "1/1 * Epoch 1 (valid): loss=237.2561\n",
      "Top best models:\n",
      "run/checkpoints/train.1.pth\t237.2561\n",
      "=> Loading checkpoint run/checkpoints/best_full.pth\n",
      "loaded state checkpoint run/checkpoints/best_full.pth (global epoch 1, epoch 1, stage train)\n"
     ]
    }
   ],
   "source": [
    "runner = SupervisedRunner()\n",
    "# /usr/local/lib/python3.7/site-packages/petastorm/arrow_reader_worker.py:53\n",
    "runner.train(\n",
    "    model=model,\n",
    "    criterion=criterion,\n",
    "    optimizer=optimizer,\n",
    "    loaders=data,\n",
    "    logdir=\"run\",\n",
    "    load_best_on_end=True,\n",
    "    num_epochs=1)"
   ]
  },
  {
   "cell_type": "code",
   "execution_count": 10,
   "metadata": {
    "ExecuteTime": {
     "end_time": "2020-05-31T21:17:10.319558Z",
     "start_time": "2020-05-31T21:17:10.304261Z"
    }
   },
   "outputs": [
    {
     "data": {
      "text/plain": [
       "'0.16.0'"
      ]
     },
     "execution_count": 10,
     "metadata": {},
     "output_type": "execute_result"
    }
   ],
   "source": [
    "import pyarrow; pyarrow.__version__"
   ]
  },
  {
   "cell_type": "code",
   "execution_count": null,
   "metadata": {},
   "outputs": [],
   "source": []
  }
 ],
 "metadata": {
  "kernelspec": {
   "display_name": "Python 3",
   "language": "python",
   "name": "python3"
  },
  "language_info": {
   "codemirror_mode": {
    "name": "ipython",
    "version": 3
   },
   "file_extension": ".py",
   "mimetype": "text/x-python",
   "name": "python",
   "nbconvert_exporter": "python",
   "pygments_lexer": "ipython3",
   "version": "3.7.7"
  },
  "toc": {
   "base_numbering": 1,
   "nav_menu": {},
   "number_sections": true,
   "sideBar": true,
   "skip_h1_title": false,
   "title_cell": "Table of Contents",
   "title_sidebar": "Contents",
   "toc_cell": false,
   "toc_position": {},
   "toc_section_display": true,
   "toc_window_display": false
  },
  "varInspector": {
   "cols": {
    "lenName": 16,
    "lenType": 16,
    "lenVar": 40
   },
   "kernels_config": {
    "python": {
     "delete_cmd_postfix": "",
     "delete_cmd_prefix": "del ",
     "library": "var_list.py",
     "varRefreshCmd": "print(var_dic_list())"
    },
    "r": {
     "delete_cmd_postfix": ") ",
     "delete_cmd_prefix": "rm(",
     "library": "var_list.r",
     "varRefreshCmd": "cat(var_dic_list()) "
    }
   },
   "types_to_exclude": [
    "module",
    "function",
    "builtin_function_or_method",
    "instance",
    "_Feature"
   ],
   "window_display": false
  }
 },
 "nbformat": 4,
 "nbformat_minor": 4
}
