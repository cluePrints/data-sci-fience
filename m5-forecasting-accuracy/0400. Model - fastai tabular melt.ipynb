{
 "cells": [
  {
   "cell_type": "code",
   "execution_count": 1,
   "metadata": {
    "ExecuteTime": {
     "end_time": "2020-04-04T19:16:28.613562Z",
     "start_time": "2020-04-04T19:16:19.729448Z"
    }
   },
   "outputs": [
    {
     "data": {
      "application/javascript": [
       "IPython.notebook.set_autosave_interval(60000)"
      ]
     },
     "metadata": {},
     "output_type": "display_data"
    },
    {
     "name": "stdout",
     "output_type": "stream",
     "text": [
      "Autosaving every 60 seconds\n"
     ]
    }
   ],
   "source": [
    "%load_ext autoreload\n",
    "%autoreload 2\n",
    "%autosave 60\n",
    "%matplotlib inline\n",
    "from ivanocode.ivanocommon import *\n",
    "import pandas as pd"
   ]
  },
  {
   "cell_type": "code",
   "execution_count": 2,
   "metadata": {
    "ExecuteTime": {
     "end_time": "2020-04-04T19:16:54.814400Z",
     "start_time": "2020-04-04T19:16:28.616202Z"
    }
   },
   "outputs": [],
   "source": [
    "df_sales_train_melt = pd.read_feather('df_sales_train_melt.feather')"
   ]
  },
  {
   "cell_type": "code",
   "execution_count": 3,
   "metadata": {
    "ExecuteTime": {
     "end_time": "2020-04-04T19:16:54.933293Z",
     "start_time": "2020-04-04T19:16:54.820871Z"
    }
   },
   "outputs": [
    {
     "data": {
      "text/html": [
       "<div>\n",
       "<style scoped>\n",
       "    .dataframe tbody tr th:only-of-type {\n",
       "        vertical-align: middle;\n",
       "    }\n",
       "\n",
       "    .dataframe tbody tr th {\n",
       "        vertical-align: top;\n",
       "    }\n",
       "\n",
       "    .dataframe thead th {\n",
       "        text-align: right;\n",
       "    }\n",
       "</style>\n",
       "<table border=\"1\" class=\"dataframe\">\n",
       "  <thead>\n",
       "    <tr style=\"text-align: right;\">\n",
       "      <th></th>\n",
       "      <th>id</th>\n",
       "      <th>item_id</th>\n",
       "      <th>dept_id</th>\n",
       "      <th>cat_id</th>\n",
       "      <th>store_id</th>\n",
       "      <th>state_id</th>\n",
       "      <th>day_id</th>\n",
       "      <th>sales</th>\n",
       "      <th>daily_avg_count</th>\n",
       "      <th>monthly_avg_count</th>\n",
       "      <th>day_date</th>\n",
       "      <th>day_date_str</th>\n",
       "      <th>month_id</th>\n",
       "      <th>month</th>\n",
       "      <th>year</th>\n",
       "      <th>date</th>\n",
       "      <th>wm_yr_wk</th>\n",
       "      <th>sell_price</th>\n",
       "      <th>sell_price_flip_count</th>\n",
       "    </tr>\n",
       "  </thead>\n",
       "  <tbody>\n",
       "    <tr>\n",
       "      <th>0</th>\n",
       "      <td>HOBBIES_1_001_CA_1_validation</td>\n",
       "      <td>HOBBIES_1_001</td>\n",
       "      <td>HOBBIES_1</td>\n",
       "      <td>HOBBIES</td>\n",
       "      <td>CA_1</td>\n",
       "      <td>CA</td>\n",
       "      <td>1</td>\n",
       "      <td>0</td>\n",
       "      <td>0.313643</td>\n",
       "      <td>9.409305</td>\n",
       "      <td>2011-01-29</td>\n",
       "      <td>2011-01-29</td>\n",
       "      <td>1</td>\n",
       "      <td>1</td>\n",
       "      <td>2011</td>\n",
       "      <td>2011-01-29</td>\n",
       "      <td>11101</td>\n",
       "      <td>NaN</td>\n",
       "      <td>1</td>\n",
       "    </tr>\n",
       "    <tr>\n",
       "      <th>1</th>\n",
       "      <td>HOBBIES_1_002_CA_1_validation</td>\n",
       "      <td>HOBBIES_1_002</td>\n",
       "      <td>HOBBIES_1</td>\n",
       "      <td>HOBBIES</td>\n",
       "      <td>CA_1</td>\n",
       "      <td>CA</td>\n",
       "      <td>1</td>\n",
       "      <td>0</td>\n",
       "      <td>0.257710</td>\n",
       "      <td>7.731312</td>\n",
       "      <td>2011-01-29</td>\n",
       "      <td>2011-01-29</td>\n",
       "      <td>1</td>\n",
       "      <td>1</td>\n",
       "      <td>2011</td>\n",
       "      <td>2011-01-29</td>\n",
       "      <td>11101</td>\n",
       "      <td>NaN</td>\n",
       "      <td>1</td>\n",
       "    </tr>\n",
       "  </tbody>\n",
       "</table>\n",
       "</div>"
      ],
      "text/plain": [
       "                              id        item_id    dept_id   cat_id store_id  \\\n",
       "0  HOBBIES_1_001_CA_1_validation  HOBBIES_1_001  HOBBIES_1  HOBBIES     CA_1   \n",
       "1  HOBBIES_1_002_CA_1_validation  HOBBIES_1_002  HOBBIES_1  HOBBIES     CA_1   \n",
       "\n",
       "  state_id  day_id  sales  daily_avg_count  monthly_avg_count   day_date  \\\n",
       "0       CA       1      0         0.313643           9.409305 2011-01-29   \n",
       "1       CA       1      0         0.257710           7.731312 2011-01-29   \n",
       "\n",
       "  day_date_str  month_id  month  year        date  wm_yr_wk  sell_price  \\\n",
       "0   2011-01-29         1      1  2011  2011-01-29     11101         NaN   \n",
       "1   2011-01-29         1      1  2011  2011-01-29     11101         NaN   \n",
       "\n",
       "   sell_price_flip_count  \n",
       "0                      1  \n",
       "1                      1  "
      ]
     },
     "execution_count": 3,
     "metadata": {},
     "output_type": "execute_result"
    }
   ],
   "source": [
    "df_sales_train_melt.head(2)"
   ]
  },
  {
   "cell_type": "code",
   "execution_count": 4,
   "metadata": {
    "ExecuteTime": {
     "end_time": "2020-04-04T19:16:55.988358Z",
     "start_time": "2020-04-04T19:16:54.939219Z"
    }
   },
   "outputs": [
    {
     "data": {
      "text/plain": [
       "30490"
      ]
     },
     "execution_count": 4,
     "metadata": {},
     "output_type": "execute_result"
    }
   ],
   "source": [
    "df_sales_train_melt['id'].nunique()"
   ]
  },
  {
   "cell_type": "code",
   "execution_count": 5,
   "metadata": {
    "ExecuteTime": {
     "end_time": "2020-04-04T19:16:56.662802Z",
     "start_time": "2020-04-04T19:16:55.992268Z"
    }
   },
   "outputs": [],
   "source": [
    "sample_ids = df_sales_train_melt['id'].unique()[0:10]"
   ]
  },
  {
   "cell_type": "code",
   "execution_count": 6,
   "metadata": {
    "ExecuteTime": {
     "end_time": "2020-04-04T19:16:59.480870Z",
     "start_time": "2020-04-04T19:16:56.664786Z"
    }
   },
   "outputs": [],
   "source": [
    "df_sample = df_sales_train_melt.query('id in @sample_ids').copy()"
   ]
  },
  {
   "cell_type": "code",
   "execution_count": 7,
   "metadata": {
    "ExecuteTime": {
     "end_time": "2020-04-04T19:16:59.500778Z",
     "start_time": "2020-04-04T19:16:59.483149Z"
    }
   },
   "outputs": [],
   "source": [
    "# needed for the feather\n",
    "df_sample.reset_index(drop=True, inplace=True)"
   ]
  },
  {
   "cell_type": "code",
   "execution_count": 8,
   "metadata": {
    "ExecuteTime": {
     "end_time": "2020-04-04T19:16:59.603180Z",
     "start_time": "2020-04-04T19:16:59.502994Z"
    }
   },
   "outputs": [],
   "source": [
    "df_sample.to_feather('df_sales_train_melt_sample100series.feather')"
   ]
  },
  {
   "cell_type": "code",
   "execution_count": 9,
   "metadata": {
    "ExecuteTime": {
     "end_time": "2020-04-04T19:16:59.620105Z",
     "start_time": "2020-04-04T19:16:59.604547Z"
    }
   },
   "outputs": [
    {
     "data": {
      "text/plain": [
       "19130"
      ]
     },
     "execution_count": 9,
     "metadata": {},
     "output_type": "execute_result"
    }
   ],
   "source": [
    "len(df_sample)"
   ]
  },
  {
   "cell_type": "code",
   "execution_count": 10,
   "metadata": {
    "ExecuteTime": {
     "end_time": "2020-04-04T19:17:07.161583Z",
     "start_time": "2020-04-04T19:16:59.623452Z"
    }
   },
   "outputs": [],
   "source": [
    "from fastai.tabular import *"
   ]
  },
  {
   "cell_type": "code",
   "execution_count": 11,
   "metadata": {
    "ExecuteTime": {
     "end_time": "2020-04-04T19:17:07.192305Z",
     "start_time": "2020-04-04T19:17:07.163222Z"
    }
   },
   "outputs": [
    {
     "data": {
      "text/plain": [
       "1913"
      ]
     },
     "execution_count": 11,
     "metadata": {},
     "output_type": "execute_result"
    }
   ],
   "source": [
    "day_ids = list(sorted(df_sample['day_id'].unique()))\n",
    "len(day_ids)"
   ]
  },
  {
   "cell_type": "code",
   "execution_count": 12,
   "metadata": {
    "ExecuteTime": {
     "end_time": "2020-04-04T19:17:07.220504Z",
     "start_time": "2020-04-04T19:17:07.195773Z"
    }
   },
   "outputs": [],
   "source": [
    "valid_idx = np.flatnonzero(df_sample['day_id'] > 1800)"
   ]
  },
  {
   "cell_type": "code",
   "execution_count": 13,
   "metadata": {
    "ExecuteTime": {
     "end_time": "2020-04-04T19:17:07.245277Z",
     "start_time": "2020-04-04T19:17:07.222320Z"
    }
   },
   "outputs": [],
   "source": [
    "procs = [FillMissing, Categorify, Normalize]\n",
    "dep_var = 'sales'\n",
    "cat_names = ['item_id', 'dept_id', 'cat_id', 'store_id', 'state_id', 'month_id', 'id']\n",
    "# TODO: see what else other than SNAP's and holidays is missing from the original data\n",
    "cols = cat_names + ['sell_price'] + [dep_var]"
   ]
  },
  {
   "cell_type": "code",
   "execution_count": 14,
   "metadata": {
    "ExecuteTime": {
     "end_time": "2020-04-04T19:17:07.271972Z",
     "start_time": "2020-04-04T19:17:07.247568Z"
    }
   },
   "outputs": [],
   "source": [
    "# otherwise we'll get a classifier out of this\n",
    "df_sample[dep_var] = df_sample[dep_var].astype('float64')"
   ]
  },
  {
   "cell_type": "code",
   "execution_count": 15,
   "metadata": {
    "ExecuteTime": {
     "end_time": "2020-04-04T19:17:07.394587Z",
     "start_time": "2020-04-04T19:17:07.273395Z"
    }
   },
   "outputs": [],
   "source": [
    "path ='./tmp'\n",
    "# TODO: check how dates with no sales are represented\n",
    "data = TabularDataBunch.from_df(path, df_sample[cols], dep_var, valid_idx=valid_idx,\n",
    "                                procs=procs, cat_names=cat_names)"
   ]
  },
  {
   "cell_type": "code",
   "execution_count": 16,
   "metadata": {
    "ExecuteTime": {
     "end_time": "2020-04-04T19:17:07.421639Z",
     "start_time": "2020-04-04T19:17:07.396258Z"
    }
   },
   "outputs": [
    {
     "data": {
      "text/plain": [
       "TabularDataBunch;\n",
       "\n",
       "Train: LabelList (18000 items)\n",
       "x: TabularList\n",
       "item_id HOBBIES_1_001; dept_id HOBBIES_1; cat_id HOBBIES; store_id CA_1; state_id CA; month_id 1; id HOBBIES_1_001_CA_1_validation; sell_price_na True; sell_price -0.1605; ,item_id HOBBIES_1_002; dept_id HOBBIES_1; cat_id HOBBIES; store_id CA_1; state_id CA; month_id 1; id HOBBIES_1_002_CA_1_validation; sell_price_na True; sell_price -0.1605; ,item_id HOBBIES_1_003; dept_id HOBBIES_1; cat_id HOBBIES; store_id CA_1; state_id CA; month_id 1; id HOBBIES_1_003_CA_1_validation; sell_price_na True; sell_price -0.1605; ,item_id HOBBIES_1_004; dept_id HOBBIES_1; cat_id HOBBIES; store_id CA_1; state_id CA; month_id 1; id HOBBIES_1_004_CA_1_validation; sell_price_na True; sell_price -0.1605; ,item_id HOBBIES_1_005; dept_id HOBBIES_1; cat_id HOBBIES; store_id CA_1; state_id CA; month_id 1; id HOBBIES_1_005_CA_1_validation; sell_price_na True; sell_price -0.1605; \n",
       "y: FloatList\n",
       "0.0,0.0,0.0,0.0,0.0\n",
       "Path: tmp;\n",
       "\n",
       "Valid: LabelList (1130 items)\n",
       "x: TabularList\n",
       "item_id HOBBIES_1_001; dept_id HOBBIES_1; cat_id HOBBIES; store_id CA_1; state_id CA; month_id 61; id HOBBIES_1_001_CA_1_validation; sell_price_na False; sell_price 2.3576; ,item_id HOBBIES_1_002; dept_id HOBBIES_1; cat_id HOBBIES; store_id CA_1; state_id CA; month_id 61; id HOBBIES_1_002_CA_1_validation; sell_price_na False; sell_price 0.3155; ,item_id HOBBIES_1_003; dept_id HOBBIES_1; cat_id HOBBIES; store_id CA_1; state_id CA; month_id 61; id HOBBIES_1_003_CA_1_validation; sell_price_na False; sell_price -0.1605; ,item_id HOBBIES_1_004; dept_id HOBBIES_1; cat_id HOBBIES; store_id CA_1; state_id CA; month_id 61; id HOBBIES_1_004_CA_1_validation; sell_price_na False; sell_price 0.6344; ,item_id HOBBIES_1_005; dept_id HOBBIES_1; cat_id HOBBIES; store_id CA_1; state_id CA; month_id 61; id HOBBIES_1_005_CA_1_validation; sell_price_na False; sell_price -0.2034; \n",
       "y: FloatList\n",
       "1.0,0.0,1.0,2.0,0.0\n",
       "Path: tmp;\n",
       "\n",
       "Test: None"
      ]
     },
     "execution_count": 16,
     "metadata": {},
     "output_type": "execute_result"
    }
   ],
   "source": [
    "data"
   ]
  },
  {
   "cell_type": "code",
   "execution_count": 17,
   "metadata": {
    "ExecuteTime": {
     "end_time": "2020-04-04T19:17:08.110222Z",
     "start_time": "2020-04-04T19:17:07.423341Z"
    }
   },
   "outputs": [
    {
     "data": {
      "text/html": [
       "<div>\n",
       "<style scoped>\n",
       "    .dataframe tbody tr th:only-of-type {\n",
       "        vertical-align: middle;\n",
       "    }\n",
       "\n",
       "    .dataframe tbody tr th {\n",
       "        vertical-align: top;\n",
       "    }\n",
       "\n",
       "    .dataframe thead th {\n",
       "        text-align: right;\n",
       "    }\n",
       "</style>\n",
       "<table border=\"1\" class=\"dataframe\">\n",
       "  <thead>\n",
       "    <tr style=\"text-align: right;\">\n",
       "      <th></th>\n",
       "      <th>sales</th>\n",
       "    </tr>\n",
       "  </thead>\n",
       "  <tbody>\n",
       "    <tr>\n",
       "      <th>min</th>\n",
       "      <td>0</td>\n",
       "    </tr>\n",
       "    <tr>\n",
       "      <th>max</th>\n",
       "      <td>763</td>\n",
       "    </tr>\n",
       "  </tbody>\n",
       "</table>\n",
       "</div>"
      ],
      "text/plain": [
       "     sales\n",
       "min      0\n",
       "max    763"
      ]
     },
     "execution_count": 17,
     "metadata": {},
     "output_type": "execute_result"
    }
   ],
   "source": [
    "sales_range = df_sales_train_melt.agg({'sales': ['min', 'max']})\n",
    "sales_range"
   ]
  },
  {
   "cell_type": "code",
   "execution_count": 18,
   "metadata": {
    "ExecuteTime": {
     "end_time": "2020-04-04T19:17:26.331301Z",
     "start_time": "2020-04-04T19:17:08.116660Z"
    }
   },
   "outputs": [
    {
     "data": {
      "text/html": [
       "\n",
       "    <div>\n",
       "        <style>\n",
       "            /* Turns off some styling */\n",
       "            progress {\n",
       "                /* gets rid of default border in Firefox and Opera. */\n",
       "                border: none;\n",
       "                /* Needs to be in here for Safari polyfill so background images work as expected. */\n",
       "                background-size: auto;\n",
       "            }\n",
       "            .progress-bar-interrupted, .progress-bar-interrupted::-webkit-progress-bar {\n",
       "                background: #F44336;\n",
       "            }\n",
       "        </style>\n",
       "      <progress value='0' class='' max='1', style='width:300px; height:20px; vertical-align: middle;'></progress>\n",
       "      0.00% [0/1 00:00<00:00]\n",
       "    </div>\n",
       "    \n",
       "<table border=\"1\" class=\"dataframe\">\n",
       "  <thead>\n",
       "    <tr style=\"text-align: left;\">\n",
       "      <th>epoch</th>\n",
       "      <th>train_loss</th>\n",
       "      <th>valid_loss</th>\n",
       "      <th>mois_accuracy</th>\n",
       "      <th>time</th>\n",
       "    </tr>\n",
       "  </thead>\n",
       "  <tbody>\n",
       "  </tbody>\n",
       "</table><p>\n",
       "\n",
       "    <div>\n",
       "        <style>\n",
       "            /* Turns off some styling */\n",
       "            progress {\n",
       "                /* gets rid of default border in Firefox and Opera. */\n",
       "                border: none;\n",
       "                /* Needs to be in here for Safari polyfill so background images work as expected. */\n",
       "                background-size: auto;\n",
       "            }\n",
       "            .progress-bar-interrupted, .progress-bar-interrupted::-webkit-progress-bar {\n",
       "                background: #F44336;\n",
       "            }\n",
       "        </style>\n",
       "      <progress value='99' class='' max='281', style='width:300px; height:20px; vertical-align: middle;'></progress>\n",
       "      35.23% [99/281 00:17<00:32 56740.8008]\n",
       "    </div>\n",
       "    "
      ],
      "text/plain": [
       "<IPython.core.display.HTML object>"
      ]
     },
     "metadata": {},
     "output_type": "display_data"
    },
    {
     "name": "stdout",
     "output_type": "stream",
     "text": [
      "LR Finder is complete, type {learner_name}.recorder.plot() to see the graph.\n"
     ]
    }
   ],
   "source": [
    "def mois_accuracy(input:Tensor, targs:Tensor)->Rank0Tensor:\n",
    "    \"Computes accuracy with `targs` when `input` is bs * n_classes.\"\n",
    "    n = targs.shape[0]\n",
    "    input = input.argmax(dim=-1).view(n,-1).float() # doesn't appreciate ints here :/\n",
    "    targs = targs.view(n,-1)\n",
    "    return (input==targs).float().mean()\n",
    "\n",
    "learn = tabular_learner(data, layers=[200,100], emb_szs=None, metrics=mois_accuracy, \n",
    "                        y_range=sales_range['sales'].values)\n",
    "learn.lr_find()"
   ]
  },
  {
   "cell_type": "code",
   "execution_count": 19,
   "metadata": {
    "ExecuteTime": {
     "end_time": "2020-04-04T19:17:26.964788Z",
     "start_time": "2020-04-04T19:17:26.337476Z"
    },
    "scrolled": true
   },
   "outputs": [
    {
     "data": {
      "image/png": "[encoded data removed]",
      "text/plain": [
       "<Figure size 432x288 with 1 Axes>"
      ]
     },
     "metadata": {
      "needs_background": "light"
     },
     "output_type": "display_data"
    }
   ],
   "source": [
    "learn.recorder.plot()"
   ]
  },
  {
   "cell_type": "code",
   "execution_count": 20,
   "metadata": {
    "ExecuteTime": {
     "end_time": "2020-04-04T19:18:01.508227Z",
     "start_time": "2020-04-04T19:17:26.966837Z"
    }
   },
   "outputs": [
    {
     "data": {
      "text/html": [
       "<table border=\"1\" class=\"dataframe\">\n",
       "  <thead>\n",
       "    <tr style=\"text-align: left;\">\n",
       "      <th>epoch</th>\n",
       "      <th>train_loss</th>\n",
       "      <th>valid_loss</th>\n",
       "      <th>mois_accuracy</th>\n",
       "      <th>time</th>\n",
       "    </tr>\n",
       "  </thead>\n",
       "  <tbody>\n",
       "    <tr>\n",
       "      <td>0</td>\n",
       "      <td>50.643024</td>\n",
       "      <td>27.602495</td>\n",
       "      <td>0.558407</td>\n",
       "      <td>00:34</td>\n",
       "    </tr>\n",
       "  </tbody>\n",
       "</table>"
      ],
      "text/plain": [
       "<IPython.core.display.HTML object>"
      ]
     },
     "metadata": {},
     "output_type": "display_data"
    }
   ],
   "source": [
    "# when trained as a classifier accuracy was on the order of 0.58 in 2nd epoch\n",
    "learn.fit_one_cycle(1, 1e0)"
   ]
  },
  {
   "cell_type": "code",
   "execution_count": 21,
   "metadata": {
    "ExecuteTime": {
     "end_time": "2020-04-04T19:18:01.746888Z",
     "start_time": "2020-04-04T19:18:01.510516Z"
    }
   },
   "outputs": [
    {
     "data": {
      "image/png": "[encoded data removed]",
      "text/plain": [
       "<Figure size 432x288 with 1 Axes>"
      ]
     },
     "metadata": {
      "needs_background": "light"
     },
     "output_type": "display_data"
    }
   ],
   "source": [
    "learn.recorder.plot_losses()"
   ]
  },
  {
   "cell_type": "code",
   "execution_count": 22,
   "metadata": {
    "ExecuteTime": {
     "end_time": "2020-04-04T19:18:01.774531Z",
     "start_time": "2020-04-04T19:18:01.748863Z"
    }
   },
   "outputs": [],
   "source": [
    "# 8865760240\n",
    "# df_sales_train_melt.values.nbytes"
   ]
  },
  {
   "cell_type": "code",
   "execution_count": 23,
   "metadata": {
    "ExecuteTime": {
     "end_time": "2020-04-04T19:18:14.679002Z",
     "start_time": "2020-04-04T19:18:01.776173Z"
    }
   },
   "outputs": [
    {
     "data": {
      "text/html": [
       "\n",
       "    <div>\n",
       "        <style>\n",
       "            /* Turns off some styling */\n",
       "            progress {\n",
       "                /* gets rid of default border in Firefox and Opera. */\n",
       "                border: none;\n",
       "                /* Needs to be in here for Safari polyfill so background images work as expected. */\n",
       "                background-size: auto;\n",
       "            }\n",
       "            .progress-bar-interrupted, .progress-bar-interrupted::-webkit-progress-bar {\n",
       "                background: #F44336;\n",
       "            }\n",
       "        </style>\n",
       "      <progress value='0' class='' max='1', style='width:300px; height:20px; vertical-align: middle;'></progress>\n",
       "      0.00% [0/1 00:00<00:00]\n",
       "    </div>\n",
       "    \n",
       "<table border=\"1\" class=\"dataframe\">\n",
       "  <thead>\n",
       "    <tr style=\"text-align: left;\">\n",
       "      <th>epoch</th>\n",
       "      <th>train_loss</th>\n",
       "      <th>valid_loss</th>\n",
       "      <th>mois_accuracy</th>\n",
       "      <th>time</th>\n",
       "    </tr>\n",
       "  </thead>\n",
       "  <tbody>\n",
       "  </tbody>\n",
       "</table><p>\n",
       "\n",
       "    <div>\n",
       "        <style>\n",
       "            /* Turns off some styling */\n",
       "            progress {\n",
       "                /* gets rid of default border in Firefox and Opera. */\n",
       "                border: none;\n",
       "                /* Needs to be in here for Safari polyfill so background images work as expected. */\n",
       "                background-size: auto;\n",
       "            }\n",
       "            .progress-bar-interrupted, .progress-bar-interrupted::-webkit-progress-bar {\n",
       "                background: #F44336;\n",
       "            }\n",
       "        </style>\n",
       "      <progress value='98' class='' max='281', style='width:300px; height:20px; vertical-align: middle;'></progress>\n",
       "      34.88% [98/281 00:11<00:22 18.5132]\n",
       "    </div>\n",
       "    "
      ],
      "text/plain": [
       "<IPython.core.display.HTML object>"
      ]
     },
     "metadata": {},
     "output_type": "display_data"
    },
    {
     "name": "stdout",
     "output_type": "stream",
     "text": [
      "LR Finder is complete, type {learner_name}.recorder.plot() to see the graph.\n"
     ]
    },
    {
     "data": {
      "image/png": "[encoded data removed]",
      "text/plain": [
       "<Figure size 432x288 with 1 Axes>"
      ]
     },
     "metadata": {
      "needs_background": "light"
     },
     "output_type": "display_data"
    }
   ],
   "source": [
    "learn.lr_find()\n",
    "learn.recorder.plot()"
   ]
  },
  {
   "cell_type": "code",
   "execution_count": 24,
   "metadata": {
    "ExecuteTime": {
     "end_time": "2020-04-04T19:18:15.205555Z",
     "start_time": "2020-04-04T19:18:14.680918Z"
    }
   },
   "outputs": [
    {
     "data": {
      "text/plain": [
       "Timestamp('2016-04-24 00:00:00')"
      ]
     },
     "execution_count": 24,
     "metadata": {},
     "output_type": "execute_result"
    }
   ],
   "source": [
    "df_sales_train_melt['day_date'].max()"
   ]
  },
  {
   "cell_type": "code",
   "execution_count": 25,
   "metadata": {
    "ExecuteTime": {
     "end_time": "2020-04-04T19:18:15.731807Z",
     "start_time": "2020-04-04T19:18:15.208100Z"
    }
   },
   "outputs": [
    {
     "data": {
      "text/html": [
       "<div>\n",
       "<style scoped>\n",
       "    .dataframe tbody tr th:only-of-type {\n",
       "        vertical-align: middle;\n",
       "    }\n",
       "\n",
       "    .dataframe tbody tr th {\n",
       "        vertical-align: top;\n",
       "    }\n",
       "\n",
       "    .dataframe thead th {\n",
       "        text-align: right;\n",
       "    }\n",
       "</style>\n",
       "<table border=\"1\" class=\"dataframe\">\n",
       "  <thead>\n",
       "    <tr style=\"text-align: right;\">\n",
       "      <th></th>\n",
       "      <th>id</th>\n",
       "      <th>day</th>\n",
       "      <th>sales</th>\n",
       "    </tr>\n",
       "  </thead>\n",
       "  <tbody>\n",
       "    <tr>\n",
       "      <th>0</th>\n",
       "      <td>HOBBIES_1_001_CA_1_validation</td>\n",
       "      <td>2016-04-25</td>\n",
       "      <td>0</td>\n",
       "    </tr>\n",
       "  </tbody>\n",
       "</table>\n",
       "</div>"
      ],
      "text/plain": [
       "                              id         day  sales\n",
       "0  HOBBIES_1_001_CA_1_validation  2016-04-25      0"
      ]
     },
     "execution_count": 25,
     "metadata": {},
     "output_type": "execute_result"
    }
   ],
   "source": [
    "df_sample_submission = pd.read_csv('raw/sample_submission.csv')\n",
    "df_sample_submission.head()\n",
    "from datetime import timedelta\n",
    "d_1_date = pd.to_datetime(df_sales_train_melt['day_date'].max())\n",
    "mapping = {f'F{day}':(d_1_date + timedelta(days=day)).date() for day in range(1,29)}\n",
    "mapping['id'] = 'id'\n",
    "# TODO: sell_price should come from last sales day\n",
    "df_sample_submission.columns = df_sample_submission.columns.map(mapping)\n",
    "df_sample_submission_melt = df_sample_submission.melt(id_vars='id', var_name='day', value_name='sales')\n",
    "df_sample_submission_melt.head(1)"
   ]
  },
  {
   "cell_type": "code",
   "execution_count": 26,
   "metadata": {
    "ExecuteTime": {
     "end_time": "2020-04-04T19:18:24.290907Z",
     "start_time": "2020-04-04T19:18:15.733944Z"
    }
   },
   "outputs": [
    {
     "data": {
      "text/html": [
       "<div>\n",
       "<style scoped>\n",
       "    .dataframe tbody tr th:only-of-type {\n",
       "        vertical-align: middle;\n",
       "    }\n",
       "\n",
       "    .dataframe tbody tr th {\n",
       "        vertical-align: top;\n",
       "    }\n",
       "\n",
       "    .dataframe thead th {\n",
       "        text-align: right;\n",
       "    }\n",
       "</style>\n",
       "<table border=\"1\" class=\"dataframe\">\n",
       "  <thead>\n",
       "    <tr style=\"text-align: right;\">\n",
       "      <th></th>\n",
       "      <th>id</th>\n",
       "      <th>sell_price</th>\n",
       "    </tr>\n",
       "  </thead>\n",
       "  <tbody>\n",
       "    <tr>\n",
       "      <th>58296880</th>\n",
       "      <td>HOBBIES_1_001_CA_1_validation</td>\n",
       "      <td>8.38</td>\n",
       "    </tr>\n",
       "  </tbody>\n",
       "</table>\n",
       "</div>"
      ],
      "text/plain": [
       "                                     id  sell_price\n",
       "58296880  HOBBIES_1_001_CA_1_validation        8.38"
      ]
     },
     "execution_count": 26,
     "metadata": {},
     "output_type": "execute_result"
    }
   ],
   "source": [
    "last_prices = df_sales_train_melt[['id', 'sell_price']].groupby('id').tail(1)\n",
    "last_prices.head(1)"
   ]
  },
  {
   "cell_type": "code",
   "execution_count": 27,
   "metadata": {
    "ExecuteTime": {
     "end_time": "2020-04-04T19:18:25.254907Z",
     "start_time": "2020-04-04T19:18:24.298889Z"
    },
    "scrolled": true
   },
   "outputs": [],
   "source": [
    "df_sample_submission_melt = df_sample_submission_melt.merge(\n",
    "    last_prices, on='id', how='left', validate='many_to_one')"
   ]
  },
  {
   "cell_type": "code",
   "execution_count": 28,
   "metadata": {
    "ExecuteTime": {
     "end_time": "2020-04-04T19:18:25.286046Z",
     "start_time": "2020-04-04T19:18:25.256843Z"
    }
   },
   "outputs": [
    {
     "data": {
      "text/html": [
       "<div>\n",
       "<style scoped>\n",
       "    .dataframe tbody tr th:only-of-type {\n",
       "        vertical-align: middle;\n",
       "    }\n",
       "\n",
       "    .dataframe tbody tr th {\n",
       "        vertical-align: top;\n",
       "    }\n",
       "\n",
       "    .dataframe thead th {\n",
       "        text-align: right;\n",
       "    }\n",
       "</style>\n",
       "<table border=\"1\" class=\"dataframe\">\n",
       "  <thead>\n",
       "    <tr style=\"text-align: right;\">\n",
       "      <th></th>\n",
       "      <th>id</th>\n",
       "      <th>day</th>\n",
       "      <th>sales</th>\n",
       "      <th>sell_price</th>\n",
       "    </tr>\n",
       "  </thead>\n",
       "  <tbody>\n",
       "    <tr>\n",
       "      <th>0</th>\n",
       "      <td>HOBBIES_1_001_CA_1_validation</td>\n",
       "      <td>2016-04-25</td>\n",
       "      <td>0</td>\n",
       "      <td>8.38</td>\n",
       "    </tr>\n",
       "    <tr>\n",
       "      <th>1</th>\n",
       "      <td>HOBBIES_1_002_CA_1_validation</td>\n",
       "      <td>2016-04-25</td>\n",
       "      <td>0</td>\n",
       "      <td>3.97</td>\n",
       "    </tr>\n",
       "    <tr>\n",
       "      <th>2</th>\n",
       "      <td>HOBBIES_1_003_CA_1_validation</td>\n",
       "      <td>2016-04-25</td>\n",
       "      <td>0</td>\n",
       "      <td>2.97</td>\n",
       "    </tr>\n",
       "    <tr>\n",
       "      <th>3</th>\n",
       "      <td>HOBBIES_1_004_CA_1_validation</td>\n",
       "      <td>2016-04-25</td>\n",
       "      <td>0</td>\n",
       "      <td>4.64</td>\n",
       "    </tr>\n",
       "    <tr>\n",
       "      <th>4</th>\n",
       "      <td>HOBBIES_1_005_CA_1_validation</td>\n",
       "      <td>2016-04-25</td>\n",
       "      <td>0</td>\n",
       "      <td>2.88</td>\n",
       "    </tr>\n",
       "  </tbody>\n",
       "</table>\n",
       "</div>"
      ],
      "text/plain": [
       "                              id         day  sales  sell_price\n",
       "0  HOBBIES_1_001_CA_1_validation  2016-04-25      0        8.38\n",
       "1  HOBBIES_1_002_CA_1_validation  2016-04-25      0        3.97\n",
       "2  HOBBIES_1_003_CA_1_validation  2016-04-25      0        2.97\n",
       "3  HOBBIES_1_004_CA_1_validation  2016-04-25      0        4.64\n",
       "4  HOBBIES_1_005_CA_1_validation  2016-04-25      0        2.88"
      ]
     },
     "execution_count": 28,
     "metadata": {},
     "output_type": "execute_result"
    }
   ],
   "source": [
    "t = df_sample_submission_melt.head(100).copy()\n",
    "t.head()"
   ]
  },
  {
   "cell_type": "code",
   "execution_count": 29,
   "metadata": {
    "ExecuteTime": {
     "end_time": "2020-04-04T19:18:25.325689Z",
     "start_time": "2020-04-04T19:18:25.288171Z"
    }
   },
   "outputs": [
    {
     "data": {
      "text/html": [
       "<div>\n",
       "<style scoped>\n",
       "    .dataframe tbody tr th:only-of-type {\n",
       "        vertical-align: middle;\n",
       "    }\n",
       "\n",
       "    .dataframe tbody tr th {\n",
       "        vertical-align: top;\n",
       "    }\n",
       "\n",
       "    .dataframe thead th {\n",
       "        text-align: right;\n",
       "    }\n",
       "</style>\n",
       "<table border=\"1\" class=\"dataframe\">\n",
       "  <thead>\n",
       "    <tr style=\"text-align: right;\">\n",
       "      <th></th>\n",
       "      <th>id</th>\n",
       "      <th>item_id</th>\n",
       "      <th>dept_id</th>\n",
       "      <th>cat_id</th>\n",
       "      <th>store_id</th>\n",
       "      <th>state_id</th>\n",
       "      <th>day_id</th>\n",
       "      <th>sales</th>\n",
       "      <th>daily_avg_count</th>\n",
       "      <th>monthly_avg_count</th>\n",
       "      <th>day_date</th>\n",
       "      <th>day_date_str</th>\n",
       "      <th>month_id</th>\n",
       "      <th>month</th>\n",
       "      <th>year</th>\n",
       "      <th>date</th>\n",
       "      <th>wm_yr_wk</th>\n",
       "      <th>sell_price</th>\n",
       "      <th>sell_price_flip_count</th>\n",
       "    </tr>\n",
       "  </thead>\n",
       "  <tbody>\n",
       "    <tr>\n",
       "      <th>0</th>\n",
       "      <td>HOBBIES_1_001_CA_1_validation</td>\n",
       "      <td>HOBBIES_1_001</td>\n",
       "      <td>HOBBIES_1</td>\n",
       "      <td>HOBBIES</td>\n",
       "      <td>CA_1</td>\n",
       "      <td>CA</td>\n",
       "      <td>1</td>\n",
       "      <td>0</td>\n",
       "      <td>0.313643</td>\n",
       "      <td>9.409305</td>\n",
       "      <td>2011-01-29</td>\n",
       "      <td>2011-01-29</td>\n",
       "      <td>1</td>\n",
       "      <td>1</td>\n",
       "      <td>2011</td>\n",
       "      <td>2011-01-29</td>\n",
       "      <td>11101</td>\n",
       "      <td>NaN</td>\n",
       "      <td>1</td>\n",
       "    </tr>\n",
       "  </tbody>\n",
       "</table>\n",
       "</div>"
      ],
      "text/plain": [
       "                              id        item_id    dept_id   cat_id store_id  \\\n",
       "0  HOBBIES_1_001_CA_1_validation  HOBBIES_1_001  HOBBIES_1  HOBBIES     CA_1   \n",
       "\n",
       "  state_id  day_id  sales  daily_avg_count  monthly_avg_count   day_date  \\\n",
       "0       CA       1      0         0.313643           9.409305 2011-01-29   \n",
       "\n",
       "  day_date_str  month_id  month  year        date  wm_yr_wk  sell_price  \\\n",
       "0   2011-01-29         1      1  2011  2011-01-29     11101         NaN   \n",
       "\n",
       "   sell_price_flip_count  \n",
       "0                      1  "
      ]
     },
     "execution_count": 29,
     "metadata": {},
     "output_type": "execute_result"
    }
   ],
   "source": [
    "df_sales_train_melt.head(1)"
   ]
  },
  {
   "cell_type": "code",
   "execution_count": 30,
   "metadata": {
    "ExecuteTime": {
     "end_time": "2020-04-04T19:18:25.367848Z",
     "start_time": "2020-04-04T19:18:25.327392Z"
    }
   },
   "outputs": [
    {
     "data": {
      "text/html": [
       "<div>\n",
       "<style scoped>\n",
       "    .dataframe tbody tr th:only-of-type {\n",
       "        vertical-align: middle;\n",
       "    }\n",
       "\n",
       "    .dataframe tbody tr th {\n",
       "        vertical-align: top;\n",
       "    }\n",
       "\n",
       "    .dataframe thead th {\n",
       "        text-align: right;\n",
       "    }\n",
       "</style>\n",
       "<table border=\"1\" class=\"dataframe\">\n",
       "  <thead>\n",
       "    <tr style=\"text-align: right;\">\n",
       "      <th></th>\n",
       "      <th>id</th>\n",
       "      <th>day</th>\n",
       "      <th>sales</th>\n",
       "      <th>sell_price</th>\n",
       "      <th>cat_id</th>\n",
       "      <th>dept_id</th>\n",
       "      <th>item_id</th>\n",
       "      <th>state_id</th>\n",
       "      <th>store_id</th>\n",
       "    </tr>\n",
       "  </thead>\n",
       "  <tbody>\n",
       "    <tr>\n",
       "      <th>0</th>\n",
       "      <td>HOBBIES_1_001_CA_1_validation</td>\n",
       "      <td>2016-04-25</td>\n",
       "      <td>0</td>\n",
       "      <td>8.38</td>\n",
       "      <td>HOBBIES</td>\n",
       "      <td>HOBBIES_1</td>\n",
       "      <td>HOBBIES_001</td>\n",
       "      <td>CA</td>\n",
       "      <td>CA_1</td>\n",
       "    </tr>\n",
       "  </tbody>\n",
       "</table>\n",
       "</div>"
      ],
      "text/plain": [
       "                              id         day  sales  sell_price   cat_id  \\\n",
       "0  HOBBIES_1_001_CA_1_validation  2016-04-25      0        8.38  HOBBIES   \n",
       "\n",
       "     dept_id      item_id state_id store_id  \n",
       "0  HOBBIES_1  HOBBIES_001       CA     CA_1  "
      ]
     },
     "execution_count": 30,
     "metadata": {},
     "output_type": "execute_result"
    }
   ],
   "source": [
    "def extract_id_columns(t):\n",
    "    extracted = t['id'].str.extract('([A-Z]+)_(\\\\d)_(\\\\d{3})_([A-Z]{2})_(\\d)')\n",
    "    t['cat_id'] = extracted[0]\n",
    "    t['dept_id'] = t['cat_id'] + '_' + extracted[1]\n",
    "    t['item_id'] = t['cat_id'] + '_' + extracted[2]\n",
    "    t['state_id'] = extracted[3]\n",
    "    t['store_id'] = t['state_id'] + '_' + extracted[4]\n",
    "    return t\n",
    "\n",
    "extract_id_columns(t).head(1)"
   ]
  },
  {
   "cell_type": "code",
   "execution_count": 31,
   "metadata": {
    "ExecuteTime": {
     "end_time": "2020-04-04T19:18:30.711708Z",
     "start_time": "2020-04-04T19:18:25.370168Z"
    }
   },
   "outputs": [],
   "source": [
    "df_sample_submission_melt = extract_id_columns(df_sample_submission_melt)"
   ]
  },
  {
   "cell_type": "code",
   "execution_count": 32,
   "metadata": {
    "ExecuteTime": {
     "end_time": "2020-04-04T19:18:30.942906Z",
     "start_time": "2020-04-04T19:18:30.713818Z"
    }
   },
   "outputs": [],
   "source": [
    "df_sample_submission_melt['month_id'] = pd.to_datetime(df_sample_submission_melt['day']).dt.month\n",
    "df_sample_submission_melt[dep_var] = df_sample_submission_melt[dep_var].astype('float64')"
   ]
  },
  {
   "cell_type": "code",
   "execution_count": 33,
   "metadata": {
    "ExecuteTime": {
     "end_time": "2020-04-04T19:18:33.513972Z",
     "start_time": "2020-04-04T19:18:30.947444Z"
    }
   },
   "outputs": [],
   "source": [
    "learn.data.add_test(TabularList.from_df(df=df_sample_submission_melt, \n",
    "                                        cat_names=cat_names, \n",
    "                                        cont_names=learn.data.train_ds.x.cont_names,\n",
    "                                        processor = learn.data.train_ds.x.processor))"
   ]
  },
  {
   "cell_type": "code",
   "execution_count": 34,
   "metadata": {
    "ExecuteTime": {
     "end_time": "2020-04-04T19:19:24.473981Z",
     "start_time": "2020-04-04T19:18:33.515522Z"
    }
   },
   "outputs": [
    {
     "data": {
      "text/html": [],
      "text/plain": [
       "<IPython.core.display.HTML object>"
      ]
     },
     "metadata": {},
     "output_type": "display_data"
    }
   ],
   "source": [
    "preds, y = learn.get_preds(DatasetType.Test)"
   ]
  },
  {
   "cell_type": "code",
   "execution_count": 35,
   "metadata": {
    "ExecuteTime": {
     "end_time": "2020-04-04T19:19:24.523042Z",
     "start_time": "2020-04-04T19:19:24.475933Z"
    }
   },
   "outputs": [
    {
     "data": {
      "text/plain": [
       "torch.Size([1707440, 1])"
      ]
     },
     "execution_count": 35,
     "metadata": {},
     "output_type": "execute_result"
    }
   ],
   "source": [
    "# Note to self: this looked like a trained classifier at first :D\n",
    "preds.size()"
   ]
  },
  {
   "cell_type": "code",
   "execution_count": 36,
   "metadata": {
    "ExecuteTime": {
     "end_time": "2020-04-04T19:19:24.556061Z",
     "start_time": "2020-04-04T19:19:24.525886Z"
    }
   },
   "outputs": [
    {
     "data": {
      "text/plain": [
       "Learner(data=TabularDataBunch;\n",
       "\n",
       "Train: LabelList (18000 items)\n",
       "x: TabularList\n",
       "item_id HOBBIES_1_001; dept_id HOBBIES_1; cat_id HOBBIES; store_id CA_1; state_id CA; month_id 1; id HOBBIES_1_001_CA_1_validation; sell_price_na True; sell_price -0.1605; ,item_id HOBBIES_1_002; dept_id HOBBIES_1; cat_id HOBBIES; store_id CA_1; state_id CA; month_id 1; id HOBBIES_1_002_CA_1_validation; sell_price_na True; sell_price -0.1605; ,item_id HOBBIES_1_003; dept_id HOBBIES_1; cat_id HOBBIES; store_id CA_1; state_id CA; month_id 1; id HOBBIES_1_003_CA_1_validation; sell_price_na True; sell_price -0.1605; ,item_id HOBBIES_1_004; dept_id HOBBIES_1; cat_id HOBBIES; store_id CA_1; state_id CA; month_id 1; id HOBBIES_1_004_CA_1_validation; sell_price_na True; sell_price -0.1605; ,item_id HOBBIES_1_005; dept_id HOBBIES_1; cat_id HOBBIES; store_id CA_1; state_id CA; month_id 1; id HOBBIES_1_005_CA_1_validation; sell_price_na True; sell_price -0.1605; \n",
       "y: FloatList\n",
       "0.0,0.0,0.0,0.0,0.0\n",
       "Path: tmp;\n",
       "\n",
       "Valid: LabelList (1130 items)\n",
       "x: TabularList\n",
       "item_id HOBBIES_1_001; dept_id HOBBIES_1; cat_id HOBBIES; store_id CA_1; state_id CA; month_id 61; id HOBBIES_1_001_CA_1_validation; sell_price_na False; sell_price 2.3576; ,item_id HOBBIES_1_002; dept_id HOBBIES_1; cat_id HOBBIES; store_id CA_1; state_id CA; month_id 61; id HOBBIES_1_002_CA_1_validation; sell_price_na False; sell_price 0.3155; ,item_id HOBBIES_1_003; dept_id HOBBIES_1; cat_id HOBBIES; store_id CA_1; state_id CA; month_id 61; id HOBBIES_1_003_CA_1_validation; sell_price_na False; sell_price -0.1605; ,item_id HOBBIES_1_004; dept_id HOBBIES_1; cat_id HOBBIES; store_id CA_1; state_id CA; month_id 61; id HOBBIES_1_004_CA_1_validation; sell_price_na False; sell_price 0.6344; ,item_id HOBBIES_1_005; dept_id HOBBIES_1; cat_id HOBBIES; store_id CA_1; state_id CA; month_id 61; id HOBBIES_1_005_CA_1_validation; sell_price_na False; sell_price -0.2034; \n",
       "y: FloatList\n",
       "1.0,0.0,1.0,2.0,0.0\n",
       "Path: tmp;\n",
       "\n",
       "Test: LabelList (1707440 items)\n",
       "x: TabularList\n",
       "item_id #na#; dept_id HOBBIES_1; cat_id HOBBIES; store_id CA_1; state_id CA; month_id 4; id HOBBIES_1_001_CA_1_validation; sell_price_na False; sell_price 2.4147; ,item_id #na#; dept_id HOBBIES_1; cat_id HOBBIES; store_id CA_1; state_id CA; month_id 4; id HOBBIES_1_002_CA_1_validation; sell_price_na False; sell_price 0.3155; ,item_id #na#; dept_id HOBBIES_1; cat_id HOBBIES; store_id CA_1; state_id CA; month_id 4; id HOBBIES_1_003_CA_1_validation; sell_price_na False; sell_price -0.1605; ,item_id #na#; dept_id HOBBIES_1; cat_id HOBBIES; store_id CA_1; state_id CA; month_id 4; id HOBBIES_1_004_CA_1_validation; sell_price_na False; sell_price 0.6344; ,item_id #na#; dept_id HOBBIES_1; cat_id HOBBIES; store_id CA_1; state_id CA; month_id 4; id HOBBIES_1_005_CA_1_validation; sell_price_na False; sell_price -0.2034; \n",
       "y: EmptyLabelList\n",
       ",,,,\n",
       "Path: tmp, model=TabularModel(\n",
       "  (embeds): ModuleList(\n",
       "    (0): Embedding(11, 6)\n",
       "    (1): Embedding(8, 5)\n",
       "    (2): Embedding(4, 3)\n",
       "    (3): Embedding(2, 2)\n",
       "    (4): Embedding(4, 3)\n",
       "    (5): Embedding(62, 16)\n",
       "    (6): Embedding(30491, 519)\n",
       "    (7): Embedding(3, 3)\n",
       "  )\n",
       "  (emb_drop): Dropout(p=0.0)\n",
       "  (bn_cont): BatchNorm1d(1, eps=1e-05, momentum=0.1, affine=True, track_running_stats=True)\n",
       "  (layers): Sequential(\n",
       "    (0): Linear(in_features=558, out_features=200, bias=True)\n",
       "    (1): ReLU(inplace)\n",
       "    (2): BatchNorm1d(200, eps=1e-05, momentum=0.1, affine=True, track_running_stats=True)\n",
       "    (3): Linear(in_features=200, out_features=100, bias=True)\n",
       "    (4): ReLU(inplace)\n",
       "    (5): BatchNorm1d(100, eps=1e-05, momentum=0.1, affine=True, track_running_stats=True)\n",
       "    (6): Linear(in_features=100, out_features=1, bias=True)\n",
       "  )\n",
       "), opt_func=functools.partial(<class 'torch.optim.adam.Adam'>, betas=(0.9, 0.99)), loss_func=FlattenedLoss of MSELoss(), metrics=[<function mois_accuracy at 0x108592d40>], true_wd=True, bn_wd=True, wd=0.01, train_bn=True, path=PosixPath('tmp'), model_dir='models', callback_fns=[functools.partial(<class 'fastai.basic_train.Recorder'>, add_time=True, silent=False)], callbacks=[], layer_groups=[Sequential(\n",
       "  (0): Embedding(11, 6)\n",
       "  (1): Embedding(8, 5)\n",
       "  (2): Embedding(4, 3)\n",
       "  (3): Embedding(2, 2)\n",
       "  (4): Embedding(4, 3)\n",
       "  (5): Embedding(62, 16)\n",
       "  (6): Embedding(30491, 519)\n",
       "  (7): Embedding(3, 3)\n",
       "  (8): Dropout(p=0.0)\n",
       "  (9): BatchNorm1d(1, eps=1e-05, momentum=0.1, affine=True, track_running_stats=True)\n",
       "  (10): Linear(in_features=558, out_features=200, bias=True)\n",
       "  (11): ReLU(inplace)\n",
       "  (12): BatchNorm1d(200, eps=1e-05, momentum=0.1, affine=True, track_running_stats=True)\n",
       "  (13): Linear(in_features=200, out_features=100, bias=True)\n",
       "  (14): ReLU(inplace)\n",
       "  (15): BatchNorm1d(100, eps=1e-05, momentum=0.1, affine=True, track_running_stats=True)\n",
       "  (16): Linear(in_features=100, out_features=1, bias=True)\n",
       ")], add_time=True, silent=False)"
      ]
     },
     "execution_count": 36,
     "metadata": {},
     "output_type": "execute_result"
    }
   ],
   "source": [
    "learn"
   ]
  },
  {
   "cell_type": "code",
   "execution_count": 37,
   "metadata": {
    "ExecuteTime": {
     "end_time": "2020-04-04T19:19:24.581293Z",
     "start_time": "2020-04-04T19:19:24.557671Z"
    }
   },
   "outputs": [],
   "source": [
    "import matplotlib.pyplot as plt"
   ]
  },
  {
   "cell_type": "code",
   "execution_count": 40,
   "metadata": {
    "ExecuteTime": {
     "end_time": "2020-04-04T19:22:41.511792Z",
     "start_time": "2020-04-04T19:22:41.264366Z"
    }
   },
   "outputs": [
    {
     "data": {
      "text/plain": [
       "array([[<matplotlib.axes._subplots.AxesSubplot object at 0x55589b8d0>]], dtype=object)"
      ]
     },
     "execution_count": 40,
     "metadata": {},
     "output_type": "execute_result"
    },
    {
     "data": {
      "image/png": "[encoded data removed]",
      "text/plain": [
       "<Figure size 432x288 with 1 Axes>"
      ]
     },
     "metadata": {
      "needs_background": "light"
     },
     "output_type": "display_data"
    }
   ],
   "source": [
    "df_preds = pd.DataFrame({'y_pred': preds.reshape(len(preds))})\n",
    "df_preds.hist()"
   ]
  },
  {
   "cell_type": "code",
   "execution_count": 44,
   "metadata": {
    "ExecuteTime": {
     "end_time": "2020-04-04T19:23:57.292996Z",
     "start_time": "2020-04-04T19:23:57.208693Z"
    }
   },
   "outputs": [
    {
     "data": {
      "text/plain": [
       "0.095800    54362\n",
       "0.095799    54340\n",
       "0.095281    54318\n",
       "0.095771    35332\n",
       "0.095770    35156\n",
       "            ...  \n",
       "0.089687        6\n",
       "0.088662        6\n",
       "0.088662        6\n",
       "0.088660        6\n",
       "0.090039        6\n",
       "Name: y_pred, Length: 37659, dtype: int64"
      ]
     },
     "execution_count": 44,
     "metadata": {},
     "output_type": "execute_result"
    }
   ],
   "source": [
    "df_preds['y_pred'].value_counts()"
   ]
  },
  {
   "cell_type": "code",
   "execution_count": 43,
   "metadata": {
    "ExecuteTime": {
     "end_time": "2020-04-04T19:23:44.032935Z",
     "start_time": "2020-04-04T19:23:43.952952Z"
    }
   },
   "outputs": [
    {
     "data": {
      "text/plain": [
       "0.011820     6\n",
       "0.012162    22\n",
       "0.020142    22\n",
       "0.021582     6\n",
       "0.024631     6\n",
       "            ..\n",
       "0.121404     6\n",
       "0.153891    22\n",
       "0.154455     6\n",
       "0.375962    22\n",
       "0.426164     6\n",
       "Name: y_pred, Length: 37659, dtype: int64"
      ]
     },
     "execution_count": 43,
     "metadata": {},
     "output_type": "execute_result"
    }
   ],
   "source": [
    "df_preds['y_pred'].value_counts().sort_index()"
   ]
  },
  {
   "cell_type": "code",
   "execution_count": 42,
   "metadata": {
    "ExecuteTime": {
     "end_time": "2020-04-04T19:23:24.726589Z",
     "start_time": "2020-04-04T19:23:24.695828Z"
    }
   },
   "outputs": [
    {
     "data": {
      "text/plain": [
       "1707440"
      ]
     },
     "execution_count": 42,
     "metadata": {},
     "output_type": "execute_result"
    }
   ],
   "source": [
    "len(df_preds['y_pred'])"
   ]
  },
  {
   "cell_type": "code",
   "execution_count": null,
   "metadata": {},
   "outputs": [],
   "source": []
  }
 ],
 "metadata": {
  "kernelspec": {
   "display_name": "Python 3",
   "language": "python",
   "name": "python3"
  },
  "language_info": {
   "codemirror_mode": {
    "name": "ipython",
    "version": 3
   },
   "file_extension": ".py",
   "mimetype": "text/x-python",
   "name": "python",
   "nbconvert_exporter": "python",
   "pygments_lexer": "ipython3",
   "version": "3.7.7"
  },
  "notify_time": "0",
  "toc": {
   "base_numbering": 1,
   "nav_menu": {},
   "number_sections": true,
   "sideBar": true,
   "skip_h1_title": false,
   "title_cell": "Table of Contents",
   "title_sidebar": "Contents",
   "toc_cell": false,
   "toc_position": {},
   "toc_section_display": true,
   "toc_window_display": false
  },
  "varInspector": {
   "cols": {
    "lenName": 16,
    "lenType": 16,
    "lenVar": 40
   },
   "kernels_config": {
    "python": {
     "delete_cmd_postfix": "",
     "delete_cmd_prefix": "del ",
     "library": "var_list.py",
     "varRefreshCmd": "print(var_dic_list())"
    },
    "r": {
     "delete_cmd_postfix": ") ",
     "delete_cmd_prefix": "rm(",
     "library": "var_list.r",
     "varRefreshCmd": "cat(var_dic_list()) "
    }
   },
   "types_to_exclude": [
    "module",
    "function",
    "builtin_function_or_method",
    "instance",
    "_Feature"
   ],
   "window_display": false
  }
 },
 "nbformat": 4,
 "nbformat_minor": 2
}
