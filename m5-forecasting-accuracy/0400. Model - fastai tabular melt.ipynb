{
 "cells": [
  {
   "cell_type": "code",
   "execution_count": 1,
   "metadata": {
    "ExecuteTime": {
     "end_time": "2020-04-04T22:12:20.716656Z",
     "start_time": "2020-04-04T22:12:20.034488Z"
    }
   },
   "outputs": [
    {
     "data": {
      "application/javascript": [
       "IPython.notebook.set_autosave_interval(60000)"
      ]
     },
     "metadata": {},
     "output_type": "display_data"
    },
    {
     "name": "stdout",
     "output_type": "stream",
     "text": [
      "Autosaving every 60 seconds\n"
     ]
    }
   ],
   "source": [
    "%load_ext autoreload\n",
    "%autoreload 2\n",
    "%autosave 60\n",
    "%matplotlib inline\n",
    "from ivanocode.ivanocommon import *\n",
    "import pandas as pd"
   ]
  },
  {
   "cell_type": "code",
   "execution_count": 2,
   "metadata": {
    "ExecuteTime": {
     "end_time": "2020-04-04T22:12:40.256675Z",
     "start_time": "2020-04-04T22:12:20.718622Z"
    }
   },
   "outputs": [],
   "source": [
    "df_sales_train_melt = pd.read_feather('df_sales_train_melt.feather')"
   ]
  },
  {
   "cell_type": "code",
   "execution_count": 3,
   "metadata": {
    "ExecuteTime": {
     "end_time": "2020-04-04T22:12:40.321186Z",
     "start_time": "2020-04-04T22:12:40.261196Z"
    }
   },
   "outputs": [
    {
     "data": {
      "text/html": [
       "<div>\n",
       "<style scoped>\n",
       "    .dataframe tbody tr th:only-of-type {\n",
       "        vertical-align: middle;\n",
       "    }\n",
       "\n",
       "    .dataframe tbody tr th {\n",
       "        vertical-align: top;\n",
       "    }\n",
       "\n",
       "    .dataframe thead th {\n",
       "        text-align: right;\n",
       "    }\n",
       "</style>\n",
       "<table border=\"1\" class=\"dataframe\">\n",
       "  <thead>\n",
       "    <tr style=\"text-align: right;\">\n",
       "      <th></th>\n",
       "      <th>id</th>\n",
       "      <th>item_id</th>\n",
       "      <th>dept_id</th>\n",
       "      <th>cat_id</th>\n",
       "      <th>store_id</th>\n",
       "      <th>state_id</th>\n",
       "      <th>day_id</th>\n",
       "      <th>sales</th>\n",
       "      <th>daily_avg_count</th>\n",
       "      <th>monthly_avg_count</th>\n",
       "      <th>day_date</th>\n",
       "      <th>day_date_str</th>\n",
       "      <th>month_id</th>\n",
       "      <th>month</th>\n",
       "      <th>year</th>\n",
       "      <th>date</th>\n",
       "      <th>wm_yr_wk</th>\n",
       "      <th>sell_price</th>\n",
       "      <th>sell_price_flip_count</th>\n",
       "    </tr>\n",
       "  </thead>\n",
       "  <tbody>\n",
       "    <tr>\n",
       "      <th>0</th>\n",
       "      <td>HOBBIES_1_001_CA_1_validation</td>\n",
       "      <td>HOBBIES_1_001</td>\n",
       "      <td>HOBBIES_1</td>\n",
       "      <td>HOBBIES</td>\n",
       "      <td>CA_1</td>\n",
       "      <td>CA</td>\n",
       "      <td>1</td>\n",
       "      <td>0</td>\n",
       "      <td>0.313643</td>\n",
       "      <td>9.409305</td>\n",
       "      <td>2011-01-29</td>\n",
       "      <td>2011-01-29</td>\n",
       "      <td>1</td>\n",
       "      <td>1</td>\n",
       "      <td>2011</td>\n",
       "      <td>2011-01-29</td>\n",
       "      <td>11101</td>\n",
       "      <td>NaN</td>\n",
       "      <td>1</td>\n",
       "    </tr>\n",
       "    <tr>\n",
       "      <th>1</th>\n",
       "      <td>HOBBIES_1_002_CA_1_validation</td>\n",
       "      <td>HOBBIES_1_002</td>\n",
       "      <td>HOBBIES_1</td>\n",
       "      <td>HOBBIES</td>\n",
       "      <td>CA_1</td>\n",
       "      <td>CA</td>\n",
       "      <td>1</td>\n",
       "      <td>0</td>\n",
       "      <td>0.257710</td>\n",
       "      <td>7.731312</td>\n",
       "      <td>2011-01-29</td>\n",
       "      <td>2011-01-29</td>\n",
       "      <td>1</td>\n",
       "      <td>1</td>\n",
       "      <td>2011</td>\n",
       "      <td>2011-01-29</td>\n",
       "      <td>11101</td>\n",
       "      <td>NaN</td>\n",
       "      <td>1</td>\n",
       "    </tr>\n",
       "  </tbody>\n",
       "</table>\n",
       "</div>"
      ],
      "text/plain": [
       "                              id        item_id    dept_id   cat_id store_id  \\\n",
       "0  HOBBIES_1_001_CA_1_validation  HOBBIES_1_001  HOBBIES_1  HOBBIES     CA_1   \n",
       "1  HOBBIES_1_002_CA_1_validation  HOBBIES_1_002  HOBBIES_1  HOBBIES     CA_1   \n",
       "\n",
       "  state_id  day_id  sales  daily_avg_count  monthly_avg_count   day_date  \\\n",
       "0       CA       1      0         0.313643           9.409305 2011-01-29   \n",
       "1       CA       1      0         0.257710           7.731312 2011-01-29   \n",
       "\n",
       "  day_date_str  month_id  month  year        date  wm_yr_wk  sell_price  \\\n",
       "0   2011-01-29         1      1  2011  2011-01-29     11101         NaN   \n",
       "1   2011-01-29         1      1  2011  2011-01-29     11101         NaN   \n",
       "\n",
       "   sell_price_flip_count  \n",
       "0                      1  \n",
       "1                      1  "
      ]
     },
     "execution_count": 3,
     "metadata": {},
     "output_type": "execute_result"
    }
   ],
   "source": [
    "df_sales_train_melt.head(2)"
   ]
  },
  {
   "cell_type": "code",
   "execution_count": 4,
   "metadata": {
    "ExecuteTime": {
     "end_time": "2020-04-04T22:12:41.179462Z",
     "start_time": "2020-04-04T22:12:40.324912Z"
    }
   },
   "outputs": [
    {
     "data": {
      "text/plain": [
       "30490"
      ]
     },
     "execution_count": 4,
     "metadata": {},
     "output_type": "execute_result"
    }
   ],
   "source": [
    "df_sales_train_melt['id'].nunique()"
   ]
  },
  {
   "cell_type": "code",
   "execution_count": 5,
   "metadata": {
    "ExecuteTime": {
     "end_time": "2020-04-04T22:12:41.890623Z",
     "start_time": "2020-04-04T22:12:41.182864Z"
    }
   },
   "outputs": [],
   "source": [
    "sample_ids = df_sales_train_melt['id'].unique()[0:10]"
   ]
  },
  {
   "cell_type": "code",
   "execution_count": 6,
   "metadata": {
    "ExecuteTime": {
     "end_time": "2020-04-04T22:12:44.165520Z",
     "start_time": "2020-04-04T22:12:41.892391Z"
    }
   },
   "outputs": [],
   "source": [
    "df_sample = df_sales_train_melt.query('id in @sample_ids').copy()"
   ]
  },
  {
   "cell_type": "code",
   "execution_count": 7,
   "metadata": {
    "ExecuteTime": {
     "end_time": "2020-04-04T22:12:44.182064Z",
     "start_time": "2020-04-04T22:12:44.167089Z"
    }
   },
   "outputs": [],
   "source": [
    "# needed for the feather\n",
    "df_sample.reset_index(drop=True, inplace=True)"
   ]
  },
  {
   "cell_type": "code",
   "execution_count": 8,
   "metadata": {
    "ExecuteTime": {
     "end_time": "2020-04-04T22:12:44.215726Z",
     "start_time": "2020-04-04T22:12:44.183624Z"
    }
   },
   "outputs": [],
   "source": [
    "df_sample.to_feather('df_sales_train_melt_sample100series.feather')"
   ]
  },
  {
   "cell_type": "code",
   "execution_count": 9,
   "metadata": {
    "ExecuteTime": {
     "end_time": "2020-04-04T22:12:44.232038Z",
     "start_time": "2020-04-04T22:12:44.217295Z"
    }
   },
   "outputs": [
    {
     "data": {
      "text/plain": [
       "19130"
      ]
     },
     "execution_count": 9,
     "metadata": {},
     "output_type": "execute_result"
    }
   ],
   "source": [
    "len(df_sample)"
   ]
  },
  {
   "cell_type": "code",
   "execution_count": 10,
   "metadata": {
    "ExecuteTime": {
     "end_time": "2020-04-04T22:12:46.150159Z",
     "start_time": "2020-04-04T22:12:44.233331Z"
    }
   },
   "outputs": [],
   "source": [
    "from fastai.tabular import *"
   ]
  },
  {
   "cell_type": "code",
   "execution_count": 11,
   "metadata": {
    "ExecuteTime": {
     "end_time": "2020-04-04T22:12:46.180000Z",
     "start_time": "2020-04-04T22:12:46.153435Z"
    }
   },
   "outputs": [
    {
     "data": {
      "text/plain": [
       "1913"
      ]
     },
     "execution_count": 11,
     "metadata": {},
     "output_type": "execute_result"
    }
   ],
   "source": [
    "day_ids = list(sorted(df_sample['day_id'].unique()))\n",
    "len(day_ids)"
   ]
  },
  {
   "cell_type": "code",
   "execution_count": 12,
   "metadata": {
    "ExecuteTime": {
     "end_time": "2020-04-04T22:12:46.206796Z",
     "start_time": "2020-04-04T22:12:46.181693Z"
    }
   },
   "outputs": [],
   "source": [
    "valid_idx = np.flatnonzero(df_sample['day_id'] > 1800)"
   ]
  },
  {
   "cell_type": "code",
   "execution_count": 13,
   "metadata": {
    "ExecuteTime": {
     "end_time": "2020-04-04T22:12:46.232156Z",
     "start_time": "2020-04-04T22:12:46.208820Z"
    }
   },
   "outputs": [],
   "source": [
    "procs = [FillMissing, Categorify, Normalize]\n",
    "dep_var = 'sales'\n",
    "cat_names = ['item_id', 'dept_id', 'cat_id', 'store_id', 'state_id', 'month_id', 'id']\n",
    "# TODO: see what else other than SNAP's and holidays is missing from the original data\n",
    "cols = cat_names + ['sell_price'] + [dep_var]"
   ]
  },
  {
   "cell_type": "code",
   "execution_count": 14,
   "metadata": {
    "ExecuteTime": {
     "end_time": "2020-04-04T22:12:46.260216Z",
     "start_time": "2020-04-04T22:12:46.234620Z"
    }
   },
   "outputs": [],
   "source": [
    "# otherwise we'll get a classifier out of this\n",
    "df_sample[dep_var] = df_sample[dep_var].astype('float64')"
   ]
  },
  {
   "cell_type": "code",
   "execution_count": 15,
   "metadata": {
    "ExecuteTime": {
     "end_time": "2020-04-04T22:12:46.360226Z",
     "start_time": "2020-04-04T22:12:46.262100Z"
    }
   },
   "outputs": [],
   "source": [
    "path ='./tmp'\n",
    "# TODO: check how dates with no sales are represented\n",
    "data = TabularDataBunch.from_df(path, df_sample[cols], dep_var, valid_idx=valid_idx,\n",
    "                                procs=procs, cat_names=cat_names)"
   ]
  },
  {
   "cell_type": "code",
   "execution_count": 16,
   "metadata": {
    "ExecuteTime": {
     "end_time": "2020-04-04T22:12:46.387324Z",
     "start_time": "2020-04-04T22:12:46.362190Z"
    }
   },
   "outputs": [
    {
     "data": {
      "text/plain": [
       "TabularDataBunch;\n",
       "\n",
       "Train: LabelList (18000 items)\n",
       "x: TabularList\n",
       "item_id HOBBIES_1_001; dept_id HOBBIES_1; cat_id HOBBIES; store_id CA_1; state_id CA; month_id 1; id HOBBIES_1_001_CA_1_validation; sell_price_na True; sell_price -0.1605; ,item_id HOBBIES_1_002; dept_id HOBBIES_1; cat_id HOBBIES; store_id CA_1; state_id CA; month_id 1; id HOBBIES_1_002_CA_1_validation; sell_price_na True; sell_price -0.1605; ,item_id HOBBIES_1_003; dept_id HOBBIES_1; cat_id HOBBIES; store_id CA_1; state_id CA; month_id 1; id HOBBIES_1_003_CA_1_validation; sell_price_na True; sell_price -0.1605; ,item_id HOBBIES_1_004; dept_id HOBBIES_1; cat_id HOBBIES; store_id CA_1; state_id CA; month_id 1; id HOBBIES_1_004_CA_1_validation; sell_price_na True; sell_price -0.1605; ,item_id HOBBIES_1_005; dept_id HOBBIES_1; cat_id HOBBIES; store_id CA_1; state_id CA; month_id 1; id HOBBIES_1_005_CA_1_validation; sell_price_na True; sell_price -0.1605; \n",
       "y: FloatList\n",
       "0.0,0.0,0.0,0.0,0.0\n",
       "Path: tmp;\n",
       "\n",
       "Valid: LabelList (1130 items)\n",
       "x: TabularList\n",
       "item_id HOBBIES_1_001; dept_id HOBBIES_1; cat_id HOBBIES; store_id CA_1; state_id CA; month_id 61; id HOBBIES_1_001_CA_1_validation; sell_price_na False; sell_price 2.3576; ,item_id HOBBIES_1_002; dept_id HOBBIES_1; cat_id HOBBIES; store_id CA_1; state_id CA; month_id 61; id HOBBIES_1_002_CA_1_validation; sell_price_na False; sell_price 0.3155; ,item_id HOBBIES_1_003; dept_id HOBBIES_1; cat_id HOBBIES; store_id CA_1; state_id CA; month_id 61; id HOBBIES_1_003_CA_1_validation; sell_price_na False; sell_price -0.1605; ,item_id HOBBIES_1_004; dept_id HOBBIES_1; cat_id HOBBIES; store_id CA_1; state_id CA; month_id 61; id HOBBIES_1_004_CA_1_validation; sell_price_na False; sell_price 0.6344; ,item_id HOBBIES_1_005; dept_id HOBBIES_1; cat_id HOBBIES; store_id CA_1; state_id CA; month_id 61; id HOBBIES_1_005_CA_1_validation; sell_price_na False; sell_price -0.2034; \n",
       "y: FloatList\n",
       "1.0,0.0,1.0,2.0,0.0\n",
       "Path: tmp;\n",
       "\n",
       "Test: None"
      ]
     },
     "execution_count": 16,
     "metadata": {},
     "output_type": "execute_result"
    }
   ],
   "source": [
    "data"
   ]
  },
  {
   "cell_type": "code",
   "execution_count": 17,
   "metadata": {
    "ExecuteTime": {
     "end_time": "2020-04-04T22:12:47.124446Z",
     "start_time": "2020-04-04T22:12:46.389209Z"
    }
   },
   "outputs": [
    {
     "data": {
      "text/html": [
       "<div>\n",
       "<style scoped>\n",
       "    .dataframe tbody tr th:only-of-type {\n",
       "        vertical-align: middle;\n",
       "    }\n",
       "\n",
       "    .dataframe tbody tr th {\n",
       "        vertical-align: top;\n",
       "    }\n",
       "\n",
       "    .dataframe thead th {\n",
       "        text-align: right;\n",
       "    }\n",
       "</style>\n",
       "<table border=\"1\" class=\"dataframe\">\n",
       "  <thead>\n",
       "    <tr style=\"text-align: right;\">\n",
       "      <th></th>\n",
       "      <th>sales</th>\n",
       "    </tr>\n",
       "  </thead>\n",
       "  <tbody>\n",
       "    <tr>\n",
       "      <th>min</th>\n",
       "      <td>0</td>\n",
       "    </tr>\n",
       "    <tr>\n",
       "      <th>max</th>\n",
       "      <td>763</td>\n",
       "    </tr>\n",
       "  </tbody>\n",
       "</table>\n",
       "</div>"
      ],
      "text/plain": [
       "     sales\n",
       "min      0\n",
       "max    763"
      ]
     },
     "execution_count": 17,
     "metadata": {},
     "output_type": "execute_result"
    }
   ],
   "source": [
    "sales_range = df_sales_train_melt.agg({'sales': ['min', 'max']})\n",
    "sales_range"
   ]
  },
  {
   "cell_type": "code",
   "execution_count": 18,
   "metadata": {
    "ExecuteTime": {
     "end_time": "2020-04-04T22:13:00.918592Z",
     "start_time": "2020-04-04T22:12:47.131273Z"
    }
   },
   "outputs": [
    {
     "data": {
      "text/html": [
       "\n",
       "    <div>\n",
       "        <style>\n",
       "            /* Turns off some styling */\n",
       "            progress {\n",
       "                /* gets rid of default border in Firefox and Opera. */\n",
       "                border: none;\n",
       "                /* Needs to be in here for Safari polyfill so background images work as expected. */\n",
       "                background-size: auto;\n",
       "            }\n",
       "            .progress-bar-interrupted, .progress-bar-interrupted::-webkit-progress-bar {\n",
       "                background: #F44336;\n",
       "            }\n",
       "        </style>\n",
       "      <progress value='0' class='' max='1', style='width:300px; height:20px; vertical-align: middle;'></progress>\n",
       "      0.00% [0/1 00:00<00:00]\n",
       "    </div>\n",
       "    \n",
       "<table border=\"1\" class=\"dataframe\">\n",
       "  <thead>\n",
       "    <tr style=\"text-align: left;\">\n",
       "      <th>epoch</th>\n",
       "      <th>train_loss</th>\n",
       "      <th>valid_loss</th>\n",
       "      <th>mois_accuracy</th>\n",
       "      <th>time</th>\n",
       "    </tr>\n",
       "  </thead>\n",
       "  <tbody>\n",
       "  </tbody>\n",
       "</table><p>\n",
       "\n",
       "    <div>\n",
       "        <style>\n",
       "            /* Turns off some styling */\n",
       "            progress {\n",
       "                /* gets rid of default border in Firefox and Opera. */\n",
       "                border: none;\n",
       "                /* Needs to be in here for Safari polyfill so background images work as expected. */\n",
       "                background-size: auto;\n",
       "            }\n",
       "            .progress-bar-interrupted, .progress-bar-interrupted::-webkit-progress-bar {\n",
       "                background: #F44336;\n",
       "            }\n",
       "        </style>\n",
       "      <progress value='99' class='' max='281', style='width:300px; height:20px; vertical-align: middle;'></progress>\n",
       "      35.23% [99/281 00:13<00:24 57714.2578]\n",
       "    </div>\n",
       "    "
      ],
      "text/plain": [
       "<IPython.core.display.HTML object>"
      ]
     },
     "metadata": {},
     "output_type": "display_data"
    },
    {
     "name": "stdout",
     "output_type": "stream",
     "text": [
      "LR Finder is complete, type {learner_name}.recorder.plot() to see the graph.\n"
     ]
    }
   ],
   "source": [
    "def mois_accuracy(input:Tensor, targs:Tensor)->Rank0Tensor:\n",
    "    \"Computes accuracy with `targs` when `input` is bs * n_classes.\"\n",
    "    n = targs.shape[0]\n",
    "    input = input.argmax(dim=-1).view(n,-1).float() # doesn't appreciate ints here :/\n",
    "    targs = targs.view(n,-1)\n",
    "    return (input==targs).float().mean()\n",
    "\n",
    "learn = tabular_learner(data, layers=[200,100], emb_szs=None, metrics=mois_accuracy, \n",
    "                        y_range=sales_range['sales'].values)\n",
    "learn.lr_find()"
   ]
  },
  {
   "cell_type": "code",
   "execution_count": 19,
   "metadata": {
    "ExecuteTime": {
     "end_time": "2020-04-04T22:13:01.425542Z",
     "start_time": "2020-04-04T22:13:00.923720Z"
    },
    "scrolled": true
   },
   "outputs": [
    {
     "data": {
      "image/png": "[encoded data removed]",
      "text/plain": [
       "<Figure size 432x288 with 1 Axes>"
      ]
     },
     "metadata": {
      "needs_background": "light"
     },
     "output_type": "display_data"
    }
   ],
   "source": [
    "learn.recorder.plot()"
   ]
  },
  {
   "cell_type": "code",
   "execution_count": 20,
   "metadata": {
    "ExecuteTime": {
     "end_time": "2020-04-04T22:13:38.264078Z",
     "start_time": "2020-04-04T22:13:01.427689Z"
    }
   },
   "outputs": [
    {
     "data": {
      "text/html": [
       "<table border=\"1\" class=\"dataframe\">\n",
       "  <thead>\n",
       "    <tr style=\"text-align: left;\">\n",
       "      <th>epoch</th>\n",
       "      <th>train_loss</th>\n",
       "      <th>valid_loss</th>\n",
       "      <th>mois_accuracy</th>\n",
       "      <th>time</th>\n",
       "    </tr>\n",
       "  </thead>\n",
       "  <tbody>\n",
       "    <tr>\n",
       "      <td>0</td>\n",
       "      <td>57.618153</td>\n",
       "      <td>27.501696</td>\n",
       "      <td>0.558407</td>\n",
       "      <td>00:36</td>\n",
       "    </tr>\n",
       "  </tbody>\n",
       "</table>"
      ],
      "text/plain": [
       "<IPython.core.display.HTML object>"
      ]
     },
     "metadata": {},
     "output_type": "display_data"
    }
   ],
   "source": [
    "# when trained as a classifier accuracy was on the order of 0.58 in 2nd epoch\n",
    "learn.fit_one_cycle(1, 1e0)"
   ]
  },
  {
   "cell_type": "code",
   "execution_count": 21,
   "metadata": {
    "ExecuteTime": {
     "end_time": "2020-04-04T22:13:38.482188Z",
     "start_time": "2020-04-04T22:13:38.266552Z"
    }
   },
   "outputs": [
    {
     "data": {
      "image/png": "[encoded data removed]",
      "text/plain": [
       "<Figure size 432x288 with 1 Axes>"
      ]
     },
     "metadata": {
      "needs_background": "light"
     },
     "output_type": "display_data"
    }
   ],
   "source": [
    "learn.recorder.plot_losses()"
   ]
  },
  {
   "cell_type": "code",
   "execution_count": 22,
   "metadata": {
    "ExecuteTime": {
     "end_time": "2020-04-04T22:13:38.506201Z",
     "start_time": "2020-04-04T22:13:38.483924Z"
    }
   },
   "outputs": [],
   "source": [
    "# 8865760240\n",
    "# df_sales_train_melt.values.nbytes"
   ]
  },
  {
   "cell_type": "code",
   "execution_count": 23,
   "metadata": {
    "ExecuteTime": {
     "end_time": "2020-04-04T22:13:52.636405Z",
     "start_time": "2020-04-04T22:13:38.508239Z"
    }
   },
   "outputs": [
    {
     "data": {
      "text/html": [
       "\n",
       "    <div>\n",
       "        <style>\n",
       "            /* Turns off some styling */\n",
       "            progress {\n",
       "                /* gets rid of default border in Firefox and Opera. */\n",
       "                border: none;\n",
       "                /* Needs to be in here for Safari polyfill so background images work as expected. */\n",
       "                background-size: auto;\n",
       "            }\n",
       "            .progress-bar-interrupted, .progress-bar-interrupted::-webkit-progress-bar {\n",
       "                background: #F44336;\n",
       "            }\n",
       "        </style>\n",
       "      <progress value='0' class='' max='1', style='width:300px; height:20px; vertical-align: middle;'></progress>\n",
       "      0.00% [0/1 00:00<00:00]\n",
       "    </div>\n",
       "    \n",
       "<table border=\"1\" class=\"dataframe\">\n",
       "  <thead>\n",
       "    <tr style=\"text-align: left;\">\n",
       "      <th>epoch</th>\n",
       "      <th>train_loss</th>\n",
       "      <th>valid_loss</th>\n",
       "      <th>mois_accuracy</th>\n",
       "      <th>time</th>\n",
       "    </tr>\n",
       "  </thead>\n",
       "  <tbody>\n",
       "  </tbody>\n",
       "</table><p>\n",
       "\n",
       "    <div>\n",
       "        <style>\n",
       "            /* Turns off some styling */\n",
       "            progress {\n",
       "                /* gets rid of default border in Firefox and Opera. */\n",
       "                border: none;\n",
       "                /* Needs to be in here for Safari polyfill so background images work as expected. */\n",
       "                background-size: auto;\n",
       "            }\n",
       "            .progress-bar-interrupted, .progress-bar-interrupted::-webkit-progress-bar {\n",
       "                background: #F44336;\n",
       "            }\n",
       "        </style>\n",
       "      <progress value='99' class='' max='281', style='width:300px; height:20px; vertical-align: middle;'></progress>\n",
       "      35.23% [99/281 00:13<00:24 17.0388]\n",
       "    </div>\n",
       "    "
      ],
      "text/plain": [
       "<IPython.core.display.HTML object>"
      ]
     },
     "metadata": {},
     "output_type": "display_data"
    },
    {
     "name": "stdout",
     "output_type": "stream",
     "text": [
      "LR Finder is complete, type {learner_name}.recorder.plot() to see the graph.\n"
     ]
    },
    {
     "data": {
      "image/png": "[encoded data removed]",
      "text/plain": [
       "<Figure size 432x288 with 1 Axes>"
      ]
     },
     "metadata": {
      "needs_background": "light"
     },
     "output_type": "display_data"
    }
   ],
   "source": [
    "learn.lr_find()\n",
    "learn.recorder.plot()"
   ]
  },
  {
   "cell_type": "code",
   "execution_count": 24,
   "metadata": {
    "ExecuteTime": {
     "end_time": "2020-04-04T22:13:53.120255Z",
     "start_time": "2020-04-04T22:13:52.638503Z"
    }
   },
   "outputs": [
    {
     "data": {
      "text/plain": [
       "Timestamp('2016-04-24 00:00:00')"
      ]
     },
     "execution_count": 24,
     "metadata": {},
     "output_type": "execute_result"
    }
   ],
   "source": [
    "df_sales_train_melt['day_date'].max()"
   ]
  },
  {
   "cell_type": "code",
   "execution_count": 25,
   "metadata": {
    "ExecuteTime": {
     "end_time": "2020-04-04T22:13:53.618501Z",
     "start_time": "2020-04-04T22:13:53.121902Z"
    }
   },
   "outputs": [
    {
     "data": {
      "text/html": [
       "<div>\n",
       "<style scoped>\n",
       "    .dataframe tbody tr th:only-of-type {\n",
       "        vertical-align: middle;\n",
       "    }\n",
       "\n",
       "    .dataframe tbody tr th {\n",
       "        vertical-align: top;\n",
       "    }\n",
       "\n",
       "    .dataframe thead th {\n",
       "        text-align: right;\n",
       "    }\n",
       "</style>\n",
       "<table border=\"1\" class=\"dataframe\">\n",
       "  <thead>\n",
       "    <tr style=\"text-align: right;\">\n",
       "      <th></th>\n",
       "      <th>id</th>\n",
       "      <th>day</th>\n",
       "      <th>sales</th>\n",
       "    </tr>\n",
       "  </thead>\n",
       "  <tbody>\n",
       "    <tr>\n",
       "      <th>0</th>\n",
       "      <td>HOBBIES_1_001_CA_1_validation</td>\n",
       "      <td>2016-04-25</td>\n",
       "      <td>0</td>\n",
       "    </tr>\n",
       "  </tbody>\n",
       "</table>\n",
       "</div>"
      ],
      "text/plain": [
       "                              id         day  sales\n",
       "0  HOBBIES_1_001_CA_1_validation  2016-04-25      0"
      ]
     },
     "execution_count": 25,
     "metadata": {},
     "output_type": "execute_result"
    }
   ],
   "source": [
    "df_sample_submission = pd.read_csv('raw/sample_submission.csv')\n",
    "df_sample_submission.head()\n",
    "from datetime import timedelta\n",
    "d_1_date = pd.to_datetime(df_sales_train_melt['day_date'].max())\n",
    "mapping = {f'F{day}':(d_1_date + timedelta(days=day)).date() for day in range(1,29)}\n",
    "mapping['id'] = 'id'\n",
    "# TODO: sell_price should come from last sales day\n",
    "df_sample_submission.columns = df_sample_submission.columns.map(mapping)\n",
    "df_sample_submission_melt = df_sample_submission.melt(id_vars='id', var_name='day', value_name='sales')\n",
    "df_sample_submission_melt.head(1)"
   ]
  },
  {
   "cell_type": "code",
   "execution_count": 26,
   "metadata": {
    "ExecuteTime": {
     "end_time": "2020-04-04T22:14:03.028038Z",
     "start_time": "2020-04-04T22:13:53.620161Z"
    }
   },
   "outputs": [
    {
     "data": {
      "text/html": [
       "<div>\n",
       "<style scoped>\n",
       "    .dataframe tbody tr th:only-of-type {\n",
       "        vertical-align: middle;\n",
       "    }\n",
       "\n",
       "    .dataframe tbody tr th {\n",
       "        vertical-align: top;\n",
       "    }\n",
       "\n",
       "    .dataframe thead th {\n",
       "        text-align: right;\n",
       "    }\n",
       "</style>\n",
       "<table border=\"1\" class=\"dataframe\">\n",
       "  <thead>\n",
       "    <tr style=\"text-align: right;\">\n",
       "      <th></th>\n",
       "      <th>id</th>\n",
       "      <th>sell_price</th>\n",
       "    </tr>\n",
       "  </thead>\n",
       "  <tbody>\n",
       "    <tr>\n",
       "      <th>58296880</th>\n",
       "      <td>HOBBIES_1_001_CA_1_validation</td>\n",
       "      <td>8.38</td>\n",
       "    </tr>\n",
       "  </tbody>\n",
       "</table>\n",
       "</div>"
      ],
      "text/plain": [
       "                                     id  sell_price\n",
       "58296880  HOBBIES_1_001_CA_1_validation        8.38"
      ]
     },
     "execution_count": 26,
     "metadata": {},
     "output_type": "execute_result"
    }
   ],
   "source": [
    "last_prices = df_sales_train_melt[['id', 'sell_price']].groupby('id').tail(1)\n",
    "last_prices.head(1)"
   ]
  },
  {
   "cell_type": "code",
   "execution_count": 27,
   "metadata": {
    "ExecuteTime": {
     "end_time": "2020-04-04T22:14:04.087234Z",
     "start_time": "2020-04-04T22:14:03.029706Z"
    },
    "scrolled": true
   },
   "outputs": [],
   "source": [
    "df_sample_submission_melt = df_sample_submission_melt.merge(\n",
    "    last_prices, on='id', how='left', validate='many_to_one')"
   ]
  },
  {
   "cell_type": "code",
   "execution_count": 28,
   "metadata": {
    "ExecuteTime": {
     "end_time": "2020-04-04T22:14:04.117289Z",
     "start_time": "2020-04-04T22:14:04.089298Z"
    }
   },
   "outputs": [
    {
     "data": {
      "text/html": [
       "<div>\n",
       "<style scoped>\n",
       "    .dataframe tbody tr th:only-of-type {\n",
       "        vertical-align: middle;\n",
       "    }\n",
       "\n",
       "    .dataframe tbody tr th {\n",
       "        vertical-align: top;\n",
       "    }\n",
       "\n",
       "    .dataframe thead th {\n",
       "        text-align: right;\n",
       "    }\n",
       "</style>\n",
       "<table border=\"1\" class=\"dataframe\">\n",
       "  <thead>\n",
       "    <tr style=\"text-align: right;\">\n",
       "      <th></th>\n",
       "      <th>id</th>\n",
       "      <th>day</th>\n",
       "      <th>sales</th>\n",
       "      <th>sell_price</th>\n",
       "    </tr>\n",
       "  </thead>\n",
       "  <tbody>\n",
       "    <tr>\n",
       "      <th>0</th>\n",
       "      <td>HOBBIES_1_001_CA_1_validation</td>\n",
       "      <td>2016-04-25</td>\n",
       "      <td>0</td>\n",
       "      <td>8.38</td>\n",
       "    </tr>\n",
       "    <tr>\n",
       "      <th>1</th>\n",
       "      <td>HOBBIES_1_002_CA_1_validation</td>\n",
       "      <td>2016-04-25</td>\n",
       "      <td>0</td>\n",
       "      <td>3.97</td>\n",
       "    </tr>\n",
       "    <tr>\n",
       "      <th>2</th>\n",
       "      <td>HOBBIES_1_003_CA_1_validation</td>\n",
       "      <td>2016-04-25</td>\n",
       "      <td>0</td>\n",
       "      <td>2.97</td>\n",
       "    </tr>\n",
       "    <tr>\n",
       "      <th>3</th>\n",
       "      <td>HOBBIES_1_004_CA_1_validation</td>\n",
       "      <td>2016-04-25</td>\n",
       "      <td>0</td>\n",
       "      <td>4.64</td>\n",
       "    </tr>\n",
       "    <tr>\n",
       "      <th>4</th>\n",
       "      <td>HOBBIES_1_005_CA_1_validation</td>\n",
       "      <td>2016-04-25</td>\n",
       "      <td>0</td>\n",
       "      <td>2.88</td>\n",
       "    </tr>\n",
       "  </tbody>\n",
       "</table>\n",
       "</div>"
      ],
      "text/plain": [
       "                              id         day  sales  sell_price\n",
       "0  HOBBIES_1_001_CA_1_validation  2016-04-25      0        8.38\n",
       "1  HOBBIES_1_002_CA_1_validation  2016-04-25      0        3.97\n",
       "2  HOBBIES_1_003_CA_1_validation  2016-04-25      0        2.97\n",
       "3  HOBBIES_1_004_CA_1_validation  2016-04-25      0        4.64\n",
       "4  HOBBIES_1_005_CA_1_validation  2016-04-25      0        2.88"
      ]
     },
     "execution_count": 28,
     "metadata": {},
     "output_type": "execute_result"
    }
   ],
   "source": [
    "t = df_sample_submission_melt.head(100).copy()\n",
    "t.head()"
   ]
  },
  {
   "cell_type": "code",
   "execution_count": 29,
   "metadata": {
    "ExecuteTime": {
     "end_time": "2020-04-04T22:14:04.158914Z",
     "start_time": "2020-04-04T22:14:04.119691Z"
    }
   },
   "outputs": [
    {
     "data": {
      "text/html": [
       "<div>\n",
       "<style scoped>\n",
       "    .dataframe tbody tr th:only-of-type {\n",
       "        vertical-align: middle;\n",
       "    }\n",
       "\n",
       "    .dataframe tbody tr th {\n",
       "        vertical-align: top;\n",
       "    }\n",
       "\n",
       "    .dataframe thead th {\n",
       "        text-align: right;\n",
       "    }\n",
       "</style>\n",
       "<table border=\"1\" class=\"dataframe\">\n",
       "  <thead>\n",
       "    <tr style=\"text-align: right;\">\n",
       "      <th></th>\n",
       "      <th>id</th>\n",
       "      <th>item_id</th>\n",
       "      <th>dept_id</th>\n",
       "      <th>cat_id</th>\n",
       "      <th>store_id</th>\n",
       "      <th>state_id</th>\n",
       "      <th>day_id</th>\n",
       "      <th>sales</th>\n",
       "      <th>daily_avg_count</th>\n",
       "      <th>monthly_avg_count</th>\n",
       "      <th>day_date</th>\n",
       "      <th>day_date_str</th>\n",
       "      <th>month_id</th>\n",
       "      <th>month</th>\n",
       "      <th>year</th>\n",
       "      <th>date</th>\n",
       "      <th>wm_yr_wk</th>\n",
       "      <th>sell_price</th>\n",
       "      <th>sell_price_flip_count</th>\n",
       "    </tr>\n",
       "  </thead>\n",
       "  <tbody>\n",
       "    <tr>\n",
       "      <th>0</th>\n",
       "      <td>HOBBIES_1_001_CA_1_validation</td>\n",
       "      <td>HOBBIES_1_001</td>\n",
       "      <td>HOBBIES_1</td>\n",
       "      <td>HOBBIES</td>\n",
       "      <td>CA_1</td>\n",
       "      <td>CA</td>\n",
       "      <td>1</td>\n",
       "      <td>0</td>\n",
       "      <td>0.313643</td>\n",
       "      <td>9.409305</td>\n",
       "      <td>2011-01-29</td>\n",
       "      <td>2011-01-29</td>\n",
       "      <td>1</td>\n",
       "      <td>1</td>\n",
       "      <td>2011</td>\n",
       "      <td>2011-01-29</td>\n",
       "      <td>11101</td>\n",
       "      <td>NaN</td>\n",
       "      <td>1</td>\n",
       "    </tr>\n",
       "  </tbody>\n",
       "</table>\n",
       "</div>"
      ],
      "text/plain": [
       "                              id        item_id    dept_id   cat_id store_id  \\\n",
       "0  HOBBIES_1_001_CA_1_validation  HOBBIES_1_001  HOBBIES_1  HOBBIES     CA_1   \n",
       "\n",
       "  state_id  day_id  sales  daily_avg_count  monthly_avg_count   day_date  \\\n",
       "0       CA       1      0         0.313643           9.409305 2011-01-29   \n",
       "\n",
       "  day_date_str  month_id  month  year        date  wm_yr_wk  sell_price  \\\n",
       "0   2011-01-29         1      1  2011  2011-01-29     11101         NaN   \n",
       "\n",
       "   sell_price_flip_count  \n",
       "0                      1  "
      ]
     },
     "execution_count": 29,
     "metadata": {},
     "output_type": "execute_result"
    }
   ],
   "source": [
    "df_sales_train_melt.head(1)"
   ]
  },
  {
   "cell_type": "code",
   "execution_count": 30,
   "metadata": {
    "ExecuteTime": {
     "end_time": "2020-04-04T22:14:04.201008Z",
     "start_time": "2020-04-04T22:14:04.161600Z"
    }
   },
   "outputs": [
    {
     "data": {
      "text/html": [
       "<div>\n",
       "<style scoped>\n",
       "    .dataframe tbody tr th:only-of-type {\n",
       "        vertical-align: middle;\n",
       "    }\n",
       "\n",
       "    .dataframe tbody tr th {\n",
       "        vertical-align: top;\n",
       "    }\n",
       "\n",
       "    .dataframe thead th {\n",
       "        text-align: right;\n",
       "    }\n",
       "</style>\n",
       "<table border=\"1\" class=\"dataframe\">\n",
       "  <thead>\n",
       "    <tr style=\"text-align: right;\">\n",
       "      <th></th>\n",
       "      <th>id</th>\n",
       "      <th>day</th>\n",
       "      <th>sales</th>\n",
       "      <th>sell_price</th>\n",
       "      <th>cat_id</th>\n",
       "      <th>dept_id</th>\n",
       "      <th>item_id</th>\n",
       "      <th>state_id</th>\n",
       "      <th>store_id</th>\n",
       "    </tr>\n",
       "  </thead>\n",
       "  <tbody>\n",
       "    <tr>\n",
       "      <th>0</th>\n",
       "      <td>HOBBIES_1_001_CA_1_validation</td>\n",
       "      <td>2016-04-25</td>\n",
       "      <td>0</td>\n",
       "      <td>8.38</td>\n",
       "      <td>HOBBIES</td>\n",
       "      <td>HOBBIES_1</td>\n",
       "      <td>HOBBIES_001</td>\n",
       "      <td>CA</td>\n",
       "      <td>CA_1</td>\n",
       "    </tr>\n",
       "  </tbody>\n",
       "</table>\n",
       "</div>"
      ],
      "text/plain": [
       "                              id         day  sales  sell_price   cat_id  \\\n",
       "0  HOBBIES_1_001_CA_1_validation  2016-04-25      0        8.38  HOBBIES   \n",
       "\n",
       "     dept_id      item_id state_id store_id  \n",
       "0  HOBBIES_1  HOBBIES_001       CA     CA_1  "
      ]
     },
     "execution_count": 30,
     "metadata": {},
     "output_type": "execute_result"
    }
   ],
   "source": [
    "def extract_id_columns(t):\n",
    "    extracted = t['id'].str.extract('([A-Z]+)_(\\\\d)_(\\\\d{3})_([A-Z]{2})_(\\d)')\n",
    "    t['cat_id'] = extracted[0]\n",
    "    t['dept_id'] = t['cat_id'] + '_' + extracted[1]\n",
    "    t['item_id'] = t['cat_id'] + '_' + extracted[2]\n",
    "    t['state_id'] = extracted[3]\n",
    "    t['store_id'] = t['state_id'] + '_' + extracted[4]\n",
    "    return t\n",
    "\n",
    "extract_id_columns(t).head(1)"
   ]
  },
  {
   "cell_type": "code",
   "execution_count": 31,
   "metadata": {
    "ExecuteTime": {
     "end_time": "2020-04-04T22:14:10.190154Z",
     "start_time": "2020-04-04T22:14:04.203541Z"
    }
   },
   "outputs": [],
   "source": [
    "df_sample_submission_melt = extract_id_columns(df_sample_submission_melt)"
   ]
  },
  {
   "cell_type": "code",
   "execution_count": 32,
   "metadata": {
    "ExecuteTime": {
     "end_time": "2020-04-04T22:14:10.417335Z",
     "start_time": "2020-04-04T22:14:10.192470Z"
    }
   },
   "outputs": [],
   "source": [
    "df_sample_submission_melt['month_id'] = pd.to_datetime(df_sample_submission_melt['day']).dt.month\n",
    "df_sample_submission_melt[dep_var] = df_sample_submission_melt[dep_var].astype('float64')"
   ]
  },
  {
   "cell_type": "code",
   "execution_count": 33,
   "metadata": {
    "ExecuteTime": {
     "end_time": "2020-04-04T22:14:13.118824Z",
     "start_time": "2020-04-04T22:14:10.419278Z"
    }
   },
   "outputs": [],
   "source": [
    "learn.data.add_test(TabularList.from_df(df=df_sample_submission_melt, \n",
    "                                        cat_names=cat_names, \n",
    "                                        cont_names=learn.data.train_ds.x.cont_names,\n",
    "                                        processor = learn.data.train_ds.x.processor))"
   ]
  },
  {
   "cell_type": "code",
   "execution_count": 34,
   "metadata": {
    "ExecuteTime": {
     "end_time": "2020-04-04T22:15:07.059025Z",
     "start_time": "2020-04-04T22:14:13.120624Z"
    }
   },
   "outputs": [
    {
     "data": {
      "text/html": [],
      "text/plain": [
       "<IPython.core.display.HTML object>"
      ]
     },
     "metadata": {},
     "output_type": "display_data"
    }
   ],
   "source": [
    "preds, y = learn.get_preds(DatasetType.Test)"
   ]
  },
  {
   "cell_type": "code",
   "execution_count": 35,
   "metadata": {
    "ExecuteTime": {
     "end_time": "2020-04-04T22:15:07.093741Z",
     "start_time": "2020-04-04T22:15:07.061644Z"
    }
   },
   "outputs": [
    {
     "data": {
      "text/plain": [
       "torch.Size([1707440, 1])"
      ]
     },
     "execution_count": 35,
     "metadata": {},
     "output_type": "execute_result"
    }
   ],
   "source": [
    "# Note to self: this looked like a trained classifier at first :D\n",
    "preds.size()"
   ]
  },
  {
   "cell_type": "code",
   "execution_count": 36,
   "metadata": {
    "ExecuteTime": {
     "end_time": "2020-04-04T22:15:07.121164Z",
     "start_time": "2020-04-04T22:15:07.095496Z"
    }
   },
   "outputs": [
    {
     "data": {
      "text/plain": [
       "Learner(data=TabularDataBunch;\n",
       "\n",
       "Train: LabelList (18000 items)\n",
       "x: TabularList\n",
       "item_id HOBBIES_1_001; dept_id HOBBIES_1; cat_id HOBBIES; store_id CA_1; state_id CA; month_id 1; id HOBBIES_1_001_CA_1_validation; sell_price_na True; sell_price -0.1605; ,item_id HOBBIES_1_002; dept_id HOBBIES_1; cat_id HOBBIES; store_id CA_1; state_id CA; month_id 1; id HOBBIES_1_002_CA_1_validation; sell_price_na True; sell_price -0.1605; ,item_id HOBBIES_1_003; dept_id HOBBIES_1; cat_id HOBBIES; store_id CA_1; state_id CA; month_id 1; id HOBBIES_1_003_CA_1_validation; sell_price_na True; sell_price -0.1605; ,item_id HOBBIES_1_004; dept_id HOBBIES_1; cat_id HOBBIES; store_id CA_1; state_id CA; month_id 1; id HOBBIES_1_004_CA_1_validation; sell_price_na True; sell_price -0.1605; ,item_id HOBBIES_1_005; dept_id HOBBIES_1; cat_id HOBBIES; store_id CA_1; state_id CA; month_id 1; id HOBBIES_1_005_CA_1_validation; sell_price_na True; sell_price -0.1605; \n",
       "y: FloatList\n",
       "0.0,0.0,0.0,0.0,0.0\n",
       "Path: tmp;\n",
       "\n",
       "Valid: LabelList (1130 items)\n",
       "x: TabularList\n",
       "item_id HOBBIES_1_001; dept_id HOBBIES_1; cat_id HOBBIES; store_id CA_1; state_id CA; month_id 61; id HOBBIES_1_001_CA_1_validation; sell_price_na False; sell_price 2.3576; ,item_id HOBBIES_1_002; dept_id HOBBIES_1; cat_id HOBBIES; store_id CA_1; state_id CA; month_id 61; id HOBBIES_1_002_CA_1_validation; sell_price_na False; sell_price 0.3155; ,item_id HOBBIES_1_003; dept_id HOBBIES_1; cat_id HOBBIES; store_id CA_1; state_id CA; month_id 61; id HOBBIES_1_003_CA_1_validation; sell_price_na False; sell_price -0.1605; ,item_id HOBBIES_1_004; dept_id HOBBIES_1; cat_id HOBBIES; store_id CA_1; state_id CA; month_id 61; id HOBBIES_1_004_CA_1_validation; sell_price_na False; sell_price 0.6344; ,item_id HOBBIES_1_005; dept_id HOBBIES_1; cat_id HOBBIES; store_id CA_1; state_id CA; month_id 61; id HOBBIES_1_005_CA_1_validation; sell_price_na False; sell_price -0.2034; \n",
       "y: FloatList\n",
       "1.0,0.0,1.0,2.0,0.0\n",
       "Path: tmp;\n",
       "\n",
       "Test: LabelList (1707440 items)\n",
       "x: TabularList\n",
       "item_id #na#; dept_id HOBBIES_1; cat_id HOBBIES; store_id CA_1; state_id CA; month_id 4; id HOBBIES_1_001_CA_1_validation; sell_price_na False; sell_price 2.4147; ,item_id #na#; dept_id HOBBIES_1; cat_id HOBBIES; store_id CA_1; state_id CA; month_id 4; id HOBBIES_1_002_CA_1_validation; sell_price_na False; sell_price 0.3155; ,item_id #na#; dept_id HOBBIES_1; cat_id HOBBIES; store_id CA_1; state_id CA; month_id 4; id HOBBIES_1_003_CA_1_validation; sell_price_na False; sell_price -0.1605; ,item_id #na#; dept_id HOBBIES_1; cat_id HOBBIES; store_id CA_1; state_id CA; month_id 4; id HOBBIES_1_004_CA_1_validation; sell_price_na False; sell_price 0.6344; ,item_id #na#; dept_id HOBBIES_1; cat_id HOBBIES; store_id CA_1; state_id CA; month_id 4; id HOBBIES_1_005_CA_1_validation; sell_price_na False; sell_price -0.2034; \n",
       "y: EmptyLabelList\n",
       ",,,,\n",
       "Path: tmp, model=TabularModel(\n",
       "  (embeds): ModuleList(\n",
       "    (0): Embedding(11, 6)\n",
       "    (1): Embedding(8, 5)\n",
       "    (2): Embedding(4, 3)\n",
       "    (3): Embedding(2, 2)\n",
       "    (4): Embedding(4, 3)\n",
       "    (5): Embedding(62, 16)\n",
       "    (6): Embedding(30491, 519)\n",
       "    (7): Embedding(3, 3)\n",
       "  )\n",
       "  (emb_drop): Dropout(p=0.0)\n",
       "  (bn_cont): BatchNorm1d(1, eps=1e-05, momentum=0.1, affine=True, track_running_stats=True)\n",
       "  (layers): Sequential(\n",
       "    (0): Linear(in_features=558, out_features=200, bias=True)\n",
       "    (1): ReLU(inplace)\n",
       "    (2): BatchNorm1d(200, eps=1e-05, momentum=0.1, affine=True, track_running_stats=True)\n",
       "    (3): Linear(in_features=200, out_features=100, bias=True)\n",
       "    (4): ReLU(inplace)\n",
       "    (5): BatchNorm1d(100, eps=1e-05, momentum=0.1, affine=True, track_running_stats=True)\n",
       "    (6): Linear(in_features=100, out_features=1, bias=True)\n",
       "  )\n",
       "), opt_func=functools.partial(<class 'torch.optim.adam.Adam'>, betas=(0.9, 0.99)), loss_func=FlattenedLoss of MSELoss(), metrics=[<function mois_accuracy at 0x106320440>], true_wd=True, bn_wd=True, wd=0.01, train_bn=True, path=PosixPath('tmp'), model_dir='models', callback_fns=[functools.partial(<class 'fastai.basic_train.Recorder'>, add_time=True, silent=False)], callbacks=[], layer_groups=[Sequential(\n",
       "  (0): Embedding(11, 6)\n",
       "  (1): Embedding(8, 5)\n",
       "  (2): Embedding(4, 3)\n",
       "  (3): Embedding(2, 2)\n",
       "  (4): Embedding(4, 3)\n",
       "  (5): Embedding(62, 16)\n",
       "  (6): Embedding(30491, 519)\n",
       "  (7): Embedding(3, 3)\n",
       "  (8): Dropout(p=0.0)\n",
       "  (9): BatchNorm1d(1, eps=1e-05, momentum=0.1, affine=True, track_running_stats=True)\n",
       "  (10): Linear(in_features=558, out_features=200, bias=True)\n",
       "  (11): ReLU(inplace)\n",
       "  (12): BatchNorm1d(200, eps=1e-05, momentum=0.1, affine=True, track_running_stats=True)\n",
       "  (13): Linear(in_features=200, out_features=100, bias=True)\n",
       "  (14): ReLU(inplace)\n",
       "  (15): BatchNorm1d(100, eps=1e-05, momentum=0.1, affine=True, track_running_stats=True)\n",
       "  (16): Linear(in_features=100, out_features=1, bias=True)\n",
       ")], add_time=True, silent=False)"
      ]
     },
     "execution_count": 36,
     "metadata": {},
     "output_type": "execute_result"
    }
   ],
   "source": [
    "learn"
   ]
  },
  {
   "cell_type": "code",
   "execution_count": 37,
   "metadata": {
    "ExecuteTime": {
     "end_time": "2020-04-04T22:15:07.145381Z",
     "start_time": "2020-04-04T22:15:07.122717Z"
    }
   },
   "outputs": [],
   "source": [
    "import matplotlib.pyplot as plt"
   ]
  },
  {
   "cell_type": "code",
   "execution_count": 38,
   "metadata": {
    "ExecuteTime": {
     "end_time": "2020-04-04T22:15:07.415099Z",
     "start_time": "2020-04-04T22:15:07.147247Z"
    }
   },
   "outputs": [
    {
     "data": {
      "text/plain": [
       "array([[<matplotlib.axes._subplots.AxesSubplot object at 0x5539e4e10>]], dtype=object)"
      ]
     },
     "execution_count": 38,
     "metadata": {},
     "output_type": "execute_result"
    },
    {
     "data": {
      "image/png": "[encoded data removed]",
      "text/plain": [
       "<Figure size 432x288 with 1 Axes>"
      ]
     },
     "metadata": {
      "needs_background": "light"
     },
     "output_type": "display_data"
    }
   ],
   "source": [
    "df_preds = pd.DataFrame({'y_pred': preds.reshape(len(preds))})\n",
    "df_preds.hist()"
   ]
  },
  {
   "cell_type": "code",
   "execution_count": 39,
   "metadata": {
    "ExecuteTime": {
     "end_time": "2020-04-04T22:15:07.472905Z",
     "start_time": "2020-04-04T22:15:07.417132Z"
    }
   },
   "outputs": [
    {
     "data": {
      "text/plain": [
       "0.038476    54434\n",
       "0.038476    54368\n",
       "0.038300    54340\n",
       "0.038301    35200\n",
       "0.038465    35178\n",
       "            ...  \n",
       "0.038034        6\n",
       "0.038033        6\n",
       "0.038033        6\n",
       "0.038033        6\n",
       "0.037936        6\n",
       "Name: y_pred, Length: 20722, dtype: int64"
      ]
     },
     "execution_count": 39,
     "metadata": {},
     "output_type": "execute_result"
    }
   ],
   "source": [
    "df_preds['y_pred'].value_counts()"
   ]
  },
  {
   "cell_type": "code",
   "execution_count": 40,
   "metadata": {
    "ExecuteTime": {
     "end_time": "2020-04-04T22:15:07.525131Z",
     "start_time": "2020-04-04T22:15:07.475324Z"
    }
   },
   "outputs": [
    {
     "data": {
      "text/plain": [
       "0.001898    22\n",
       "0.002184     6\n",
       "0.010031    22\n",
       "0.010150     6\n",
       "0.023019    22\n",
       "            ..\n",
       "0.062351     6\n",
       "0.066728    22\n",
       "0.068689     6\n",
       "0.091003     6\n",
       "0.091529    22\n",
       "Name: y_pred, Length: 20722, dtype: int64"
      ]
     },
     "execution_count": 40,
     "metadata": {},
     "output_type": "execute_result"
    }
   ],
   "source": [
    "df_preds['y_pred'].value_counts().sort_index()"
   ]
  },
  {
   "cell_type": "code",
   "execution_count": 41,
   "metadata": {
    "ExecuteTime": {
     "end_time": "2020-04-04T22:15:07.550729Z",
     "start_time": "2020-04-04T22:15:07.527119Z"
    }
   },
   "outputs": [
    {
     "data": {
      "text/plain": [
       "1707440"
      ]
     },
     "execution_count": 41,
     "metadata": {},
     "output_type": "execute_result"
    }
   ],
   "source": [
    "len(df_preds['y_pred'])"
   ]
  },
  {
   "cell_type": "code",
   "execution_count": 42,
   "metadata": {
    "ExecuteTime": {
     "end_time": "2020-04-04T22:15:07.576811Z",
     "start_time": "2020-04-04T22:15:07.553104Z"
    }
   },
   "outputs": [
    {
     "data": {
      "text/plain": [
       "1707440"
      ]
     },
     "execution_count": 42,
     "metadata": {},
     "output_type": "execute_result"
    }
   ],
   "source": [
    "len(df_sample_submission_melt)"
   ]
  },
  {
   "cell_type": "code",
   "execution_count": 43,
   "metadata": {
    "ExecuteTime": {
     "end_time": "2020-04-04T22:15:07.601610Z",
     "start_time": "2020-04-04T22:15:07.578874Z"
    }
   },
   "outputs": [],
   "source": [
    "threshold = 0.1"
   ]
  },
  {
   "cell_type": "code",
   "execution_count": 44,
   "metadata": {
    "ExecuteTime": {
     "end_time": "2020-04-04T22:21:53.173674Z",
     "start_time": "2020-04-04T22:21:53.032933Z"
    }
   },
   "outputs": [
    {
     "data": {
      "text/plain": [
       "100"
      ]
     },
     "execution_count": 44,
     "metadata": {},
     "output_type": "execute_result"
    }
   ],
   "source": [
    "df_sales_train_melt = None\n",
    "import gc\n",
    "gc.collect()"
   ]
  },
  {
   "cell_type": "code",
   "execution_count": 50,
   "metadata": {
    "ExecuteTime": {
     "end_time": "2020-04-04T22:26:07.153359Z",
     "start_time": "2020-04-04T22:26:07.095405Z"
    }
   },
   "outputs": [
    {
     "data": {
      "text/html": [
       "<div>\n",
       "<style scoped>\n",
       "    .dataframe tbody tr th:only-of-type {\n",
       "        vertical-align: middle;\n",
       "    }\n",
       "\n",
       "    .dataframe tbody tr th {\n",
       "        vertical-align: top;\n",
       "    }\n",
       "\n",
       "    .dataframe thead th {\n",
       "        text-align: right;\n",
       "    }\n",
       "</style>\n",
       "<table border=\"1\" class=\"dataframe\">\n",
       "  <thead>\n",
       "    <tr style=\"text-align: right;\">\n",
       "      <th></th>\n",
       "      <th>id</th>\n",
       "      <th>day</th>\n",
       "      <th>sales</th>\n",
       "      <th>sell_price</th>\n",
       "      <th>cat_id</th>\n",
       "      <th>dept_id</th>\n",
       "      <th>item_id</th>\n",
       "      <th>state_id</th>\n",
       "      <th>store_id</th>\n",
       "      <th>month_id</th>\n",
       "    </tr>\n",
       "  </thead>\n",
       "  <tbody>\n",
       "    <tr>\n",
       "      <th>0</th>\n",
       "      <td>HOBBIES_1_001_CA_1_validation</td>\n",
       "      <td>2016-04-25</td>\n",
       "      <td>0</td>\n",
       "      <td>8.38</td>\n",
       "      <td>HOBBIES</td>\n",
       "      <td>HOBBIES_1</td>\n",
       "      <td>HOBBIES_001</td>\n",
       "      <td>CA</td>\n",
       "      <td>CA_1</td>\n",
       "      <td>4</td>\n",
       "    </tr>\n",
       "  </tbody>\n",
       "</table>\n",
       "</div>"
      ],
      "text/plain": [
       "                              id         day  sales  sell_price   cat_id  \\\n",
       "0  HOBBIES_1_001_CA_1_validation  2016-04-25      0        8.38  HOBBIES   \n",
       "\n",
       "     dept_id      item_id state_id store_id  month_id  \n",
       "0  HOBBIES_1  HOBBIES_001       CA     CA_1         4  "
      ]
     },
     "execution_count": 50,
     "metadata": {},
     "output_type": "execute_result"
    }
   ],
   "source": [
    "df_sample_submission_melt['sales'] = np.where(df_preds['y_pred'] > threshold, 1, 0)\n",
    "df_sample_submission_melt.head(1)"
   ]
  },
  {
   "cell_type": "code",
   "execution_count": 51,
   "metadata": {
    "ExecuteTime": {
     "end_time": "2020-04-05T00:18:17.542552Z",
     "start_time": "2020-04-05T00:18:17.395204Z"
    }
   },
   "outputs": [],
   "source": [
    "t = df_sample_submission_melt[0:100].copy()"
   ]
  },
  {
   "cell_type": "code",
   "execution_count": 62,
   "metadata": {
    "ExecuteTime": {
     "end_time": "2020-04-05T00:23:36.929241Z",
     "start_time": "2020-04-05T00:23:36.903713Z"
    }
   },
   "outputs": [
    {
     "data": {
      "text/plain": [
       "29"
      ]
     },
     "execution_count": 62,
     "metadata": {},
     "output_type": "execute_result"
    }
   ],
   "source": [
    "len(submission.columns)"
   ]
  },
  {
   "cell_type": "code",
   "execution_count": 70,
   "metadata": {
    "ExecuteTime": {
     "end_time": "2020-04-05T00:25:48.113900Z",
     "start_time": "2020-04-05T00:25:46.821932Z"
    }
   },
   "outputs": [
    {
     "data": {
      "text/html": [
       "<div>\n",
       "<style scoped>\n",
       "    .dataframe tbody tr th:only-of-type {\n",
       "        vertical-align: middle;\n",
       "    }\n",
       "\n",
       "    .dataframe tbody tr th {\n",
       "        vertical-align: top;\n",
       "    }\n",
       "\n",
       "    .dataframe thead th {\n",
       "        text-align: right;\n",
       "    }\n",
       "</style>\n",
       "<table border=\"1\" class=\"dataframe\">\n",
       "  <thead>\n",
       "    <tr style=\"text-align: right;\">\n",
       "      <th>day</th>\n",
       "      <th>id</th>\n",
       "      <th>2016-04-25</th>\n",
       "      <th>2016-04-26</th>\n",
       "      <th>2016-04-27</th>\n",
       "      <th>2016-04-28</th>\n",
       "      <th>2016-04-29</th>\n",
       "      <th>2016-04-30</th>\n",
       "      <th>2016-05-01</th>\n",
       "      <th>2016-05-02</th>\n",
       "      <th>2016-05-03</th>\n",
       "      <th>...</th>\n",
       "      <th>2016-05-13</th>\n",
       "      <th>2016-05-14</th>\n",
       "      <th>2016-05-15</th>\n",
       "      <th>2016-05-16</th>\n",
       "      <th>2016-05-17</th>\n",
       "      <th>2016-05-18</th>\n",
       "      <th>2016-05-19</th>\n",
       "      <th>2016-05-20</th>\n",
       "      <th>2016-05-21</th>\n",
       "      <th>2016-05-22</th>\n",
       "    </tr>\n",
       "  </thead>\n",
       "  <tbody>\n",
       "    <tr>\n",
       "      <th>0</th>\n",
       "      <td>FOODS_1_001_CA_1_evaluation</td>\n",
       "      <td>0</td>\n",
       "      <td>0</td>\n",
       "      <td>0</td>\n",
       "      <td>0</td>\n",
       "      <td>0</td>\n",
       "      <td>0</td>\n",
       "      <td>0</td>\n",
       "      <td>0</td>\n",
       "      <td>0</td>\n",
       "      <td>...</td>\n",
       "      <td>0</td>\n",
       "      <td>0</td>\n",
       "      <td>0</td>\n",
       "      <td>0</td>\n",
       "      <td>0</td>\n",
       "      <td>0</td>\n",
       "      <td>0</td>\n",
       "      <td>0</td>\n",
       "      <td>0</td>\n",
       "      <td>0</td>\n",
       "    </tr>\n",
       "  </tbody>\n",
       "</table>\n",
       "<p>1 rows × 29 columns</p>\n",
       "</div>"
      ],
      "text/plain": [
       "day                           id  2016-04-25  2016-04-26  2016-04-27  \\\n",
       "0    FOODS_1_001_CA_1_evaluation           0           0           0   \n",
       "\n",
       "day  2016-04-28  2016-04-29  2016-04-30  2016-05-01  2016-05-02  2016-05-03  \\\n",
       "0             0           0           0           0           0           0   \n",
       "\n",
       "day  ...  2016-05-13  2016-05-14  2016-05-15  2016-05-16  2016-05-17  \\\n",
       "0    ...           0           0           0           0           0   \n",
       "\n",
       "day  2016-05-18  2016-05-19  2016-05-20  2016-05-21  2016-05-22  \n",
       "0             0           0           0           0           0  \n",
       "\n",
       "[1 rows x 29 columns]"
      ]
     },
     "execution_count": 70,
     "metadata": {},
     "output_type": "execute_result"
    }
   ],
   "source": [
    "submission = df_sample_submission_melt.pivot(index='id', columns='day', values='sales').reset_index()\n",
    "submission.head(1)"
   ]
  },
  {
   "cell_type": "code",
   "execution_count": 81,
   "metadata": {
    "ExecuteTime": {
     "end_time": "2020-04-05T00:27:15.543363Z",
     "start_time": "2020-04-05T00:27:15.513746Z"
    }
   },
   "outputs": [],
   "source": [
    "d_1_date = pd.to_datetime(submission.columns[1])\n",
    "mapping = {(d_1_date + timedelta(days=day-1)).date():f'F{day}' for day in range(1,29)}\n",
    "mapping['id'] = 'id'"
   ]
  },
  {
   "cell_type": "code",
   "execution_count": 82,
   "metadata": {
    "ExecuteTime": {
     "end_time": "2020-04-05T00:27:18.014456Z",
     "start_time": "2020-04-05T00:27:17.984755Z"
    }
   },
   "outputs": [
    {
     "data": {
      "text/plain": [
       "(datetime.date(2016, 4, 25), 'F1')"
      ]
     },
     "execution_count": 82,
     "metadata": {},
     "output_type": "execute_result"
    }
   ],
   "source": [
    "list(mapping.items())[0]"
   ]
  },
  {
   "cell_type": "code",
   "execution_count": 80,
   "metadata": {
    "ExecuteTime": {
     "end_time": "2020-04-05T00:27:05.368271Z",
     "start_time": "2020-04-05T00:27:05.337964Z"
    }
   },
   "outputs": [
    {
     "data": {
      "text/plain": [
       "datetime.date(2016, 4, 25)"
      ]
     },
     "execution_count": 80,
     "metadata": {},
     "output_type": "execute_result"
    }
   ],
   "source": [
    "submission.columns[1]"
   ]
  },
  {
   "cell_type": "code",
   "execution_count": 83,
   "metadata": {
    "ExecuteTime": {
     "end_time": "2020-04-05T00:27:25.617796Z",
     "start_time": "2020-04-05T00:27:25.587258Z"
    }
   },
   "outputs": [
    {
     "data": {
      "text/plain": [
       "Index(['id', 'F1', 'F2', 'F3', 'F4', 'F5', 'F6', 'F7', 'F8', 'F9', 'F10',\n",
       "       'F11', 'F12', 'F13', 'F14', 'F15', 'F16', 'F17', 'F18', 'F19', 'F20',\n",
       "       'F21', 'F22', 'F23', 'F24', 'F25', 'F26', 'F27', 'F28'],\n",
       "      dtype='object', name='day')"
      ]
     },
     "execution_count": 83,
     "metadata": {},
     "output_type": "execute_result"
    }
   ],
   "source": [
    "submission.columns.map(mapping)"
   ]
  },
  {
   "cell_type": "code",
   "execution_count": 84,
   "metadata": {
    "ExecuteTime": {
     "end_time": "2020-04-05T00:27:28.983225Z",
     "start_time": "2020-04-05T00:27:28.954175Z"
    }
   },
   "outputs": [],
   "source": [
    "submission.columns = submission.columns.map(mapping)"
   ]
  },
  {
   "cell_type": "code",
   "execution_count": 85,
   "metadata": {
    "ExecuteTime": {
     "end_time": "2020-04-05T00:27:30.322172Z",
     "start_time": "2020-04-05T00:27:30.284637Z"
    }
   },
   "outputs": [
    {
     "data": {
      "text/html": [
       "<div>\n",
       "<style scoped>\n",
       "    .dataframe tbody tr th:only-of-type {\n",
       "        vertical-align: middle;\n",
       "    }\n",
       "\n",
       "    .dataframe tbody tr th {\n",
       "        vertical-align: top;\n",
       "    }\n",
       "\n",
       "    .dataframe thead th {\n",
       "        text-align: right;\n",
       "    }\n",
       "</style>\n",
       "<table border=\"1\" class=\"dataframe\">\n",
       "  <thead>\n",
       "    <tr style=\"text-align: right;\">\n",
       "      <th>day</th>\n",
       "      <th>id</th>\n",
       "      <th>F1</th>\n",
       "      <th>F2</th>\n",
       "      <th>F3</th>\n",
       "      <th>F4</th>\n",
       "      <th>F5</th>\n",
       "      <th>F6</th>\n",
       "      <th>F7</th>\n",
       "      <th>F8</th>\n",
       "      <th>F9</th>\n",
       "      <th>...</th>\n",
       "      <th>F19</th>\n",
       "      <th>F20</th>\n",
       "      <th>F21</th>\n",
       "      <th>F22</th>\n",
       "      <th>F23</th>\n",
       "      <th>F24</th>\n",
       "      <th>F25</th>\n",
       "      <th>F26</th>\n",
       "      <th>F27</th>\n",
       "      <th>F28</th>\n",
       "    </tr>\n",
       "  </thead>\n",
       "  <tbody>\n",
       "    <tr>\n",
       "      <th>0</th>\n",
       "      <td>FOODS_1_001_CA_1_evaluation</td>\n",
       "      <td>0</td>\n",
       "      <td>0</td>\n",
       "      <td>0</td>\n",
       "      <td>0</td>\n",
       "      <td>0</td>\n",
       "      <td>0</td>\n",
       "      <td>0</td>\n",
       "      <td>0</td>\n",
       "      <td>0</td>\n",
       "      <td>...</td>\n",
       "      <td>0</td>\n",
       "      <td>0</td>\n",
       "      <td>0</td>\n",
       "      <td>0</td>\n",
       "      <td>0</td>\n",
       "      <td>0</td>\n",
       "      <td>0</td>\n",
       "      <td>0</td>\n",
       "      <td>0</td>\n",
       "      <td>0</td>\n",
       "    </tr>\n",
       "  </tbody>\n",
       "</table>\n",
       "<p>1 rows × 29 columns</p>\n",
       "</div>"
      ],
      "text/plain": [
       "day                           id  F1  F2  F3  F4  F5  F6  F7  F8  F9  ...  \\\n",
       "0    FOODS_1_001_CA_1_evaluation   0   0   0   0   0   0   0   0   0  ...   \n",
       "\n",
       "day  F19  F20  F21  F22  F23  F24  F25  F26  F27  F28  \n",
       "0      0    0    0    0    0    0    0    0    0    0  \n",
       "\n",
       "[1 rows x 29 columns]"
      ]
     },
     "execution_count": 85,
     "metadata": {},
     "output_type": "execute_result"
    }
   ],
   "source": [
    "submission.head(1)"
   ]
  },
  {
   "cell_type": "code",
   "execution_count": 86,
   "metadata": {
    "ExecuteTime": {
     "end_time": "2020-04-05T00:27:33.654770Z",
     "start_time": "2020-04-05T00:27:33.626472Z"
    }
   },
   "outputs": [
    {
     "data": {
      "text/plain": [
       "60980"
      ]
     },
     "execution_count": 86,
     "metadata": {},
     "output_type": "execute_result"
    }
   ],
   "source": [
    "len(submission)"
   ]
  },
  {
   "cell_type": "code",
   "execution_count": 88,
   "metadata": {
    "ExecuteTime": {
     "end_time": "2020-04-05T00:28:25.586823Z",
     "start_time": "2020-04-05T00:28:23.843703Z"
    }
   },
   "outputs": [],
   "source": [
    "submission.to_csv('tmp/0400-fastai-sample.csv', index=False)"
   ]
  },
  {
   "cell_type": "code",
   "execution_count": 89,
   "metadata": {
    "ExecuteTime": {
     "end_time": "2020-04-05T00:28:31.473970Z",
     "start_time": "2020-04-05T00:28:31.306184Z"
    }
   },
   "outputs": [
    {
     "name": "stdout",
     "output_type": "stream",
     "text": [
      "   60981 tmp/0400-fastai-sample.csv\r\n"
     ]
    }
   ],
   "source": [
    "!wc -l tmp/0400-fastai-sample.csv"
   ]
  },
  {
   "cell_type": "code",
   "execution_count": 91,
   "metadata": {
    "ExecuteTime": {
     "end_time": "2020-04-05T00:28:49.495506Z",
     "start_time": "2020-04-05T00:28:49.341068Z"
    }
   },
   "outputs": [
    {
     "name": "stdout",
     "output_type": "stream",
     "text": [
      "id,F1,F2,F3,F4,F5,F6,F7,F8,F9,F10,F11,F12,F13,F14,F15,F16,F17,F18,F19,F20,F21,F22,F23,F24,F25,F26,F27,F28\r\n",
      "FOODS_1_001_CA_1_evaluation,0,0,0,0,0,0,0,0,0,0,0,0,0,0,0,0,0,0,0,0,0,0,0,0,0,0,0,0\r\n"
     ]
    }
   ],
   "source": [
    "!head -n2 tmp/0400-fastai-sample.csv"
   ]
  },
  {
   "cell_type": "code",
   "execution_count": 92,
   "metadata": {
    "ExecuteTime": {
     "end_time": "2020-04-05T00:29:02.925402Z",
     "start_time": "2020-04-05T00:29:02.659928Z"
    }
   },
   "outputs": [],
   "source": [
    "!open tmp"
   ]
  },
  {
   "cell_type": "code",
   "execution_count": 93,
   "metadata": {
    "ExecuteTime": {
     "end_time": "2020-04-05T00:29:05.682764Z",
     "start_time": "2020-04-05T00:29:05.475508Z"
    }
   },
   "outputs": [],
   "source": [
    "!open https://www.kaggle.com/c/m5-forecasting-accuracy/submit"
   ]
  },
  {
   "cell_type": "code",
   "execution_count": null,
   "metadata": {},
   "outputs": [],
   "source": []
  }
 ],
 "metadata": {
  "kernelspec": {
   "display_name": "Python 3",
   "language": "python",
   "name": "python3"
  },
  "language_info": {
   "codemirror_mode": {
    "name": "ipython",
    "version": 3
   },
   "file_extension": ".py",
   "mimetype": "text/x-python",
   "name": "python",
   "nbconvert_exporter": "python",
   "pygments_lexer": "ipython3",
   "version": "3.7.7"
  },
  "notify_time": "0",
  "toc": {
   "base_numbering": 1,
   "nav_menu": {},
   "number_sections": true,
   "sideBar": true,
   "skip_h1_title": false,
   "title_cell": "Table of Contents",
   "title_sidebar": "Contents",
   "toc_cell": false,
   "toc_position": {},
   "toc_section_display": true,
   "toc_window_display": false
  },
  "varInspector": {
   "cols": {
    "lenName": 16,
    "lenType": 16,
    "lenVar": 40
   },
   "kernels_config": {
    "python": {
     "delete_cmd_postfix": "",
     "delete_cmd_prefix": "del ",
     "library": "var_list.py",
     "varRefreshCmd": "print(var_dic_list())"
    },
    "r": {
     "delete_cmd_postfix": ") ",
     "delete_cmd_prefix": "rm(",
     "library": "var_list.r",
     "varRefreshCmd": "cat(var_dic_list()) "
    }
   },
   "types_to_exclude": [
    "module",
    "function",
    "builtin_function_or_method",
    "instance",
    "_Feature"
   ],
   "window_display": false
  }
 },
 "nbformat": 4,
 "nbformat_minor": 2
}
