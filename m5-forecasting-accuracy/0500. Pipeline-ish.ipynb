{
 "cells": [
  {
   "cell_type": "code",
   "execution_count": 1,
   "metadata": {
    "ExecuteTime": {
     "end_time": "2020-04-18T13:23:16.187081Z",
     "start_time": "2020-04-18T13:23:16.146093Z"
    }
   },
   "outputs": [
    {
     "data": {
      "application/javascript": [
       "IPython.notebook.set_autosave_interval(60000)"
      ]
     },
     "metadata": {},
     "output_type": "display_data"
    },
    {
     "name": "stdout",
     "output_type": "stream",
     "text": [
      "Autosaving every 60 seconds\n"
     ]
    }
   ],
   "source": [
    "%load_ext autoreload\n",
    "%autoreload 2\n",
    "%autosave 60"
   ]
  },
  {
   "cell_type": "code",
   "execution_count": 19,
   "metadata": {
    "ExecuteTime": {
     "end_time": "2020-04-18T14:46:54.545097Z",
     "start_time": "2020-04-18T14:46:07.595216Z"
    }
   },
   "outputs": [
    {
     "name": "stdout",
     "output_type": "stream",
     "text": [
      "[Memory]0.0s, 0.0min    : Loading read_series_sample...\n",
      "__________________________________read_series_sample cache loaded - 0.0s, 0.0min\n",
      "[Memory]0.0s, 0.0min    : Loading melt_sales_series...\n",
      "___________________________________melt_sales_series cache loaded - 0.0s, 0.0min\n",
      "[Memory]0.1s, 0.0min    : Loading extract_day_ids...\n",
      "_____________________________________extract_day_ids cache loaded - 0.0s, 0.0min\n",
      "[Memory]0.1s, 0.0min    : Loading join_w_calendar...\n",
      "_____________________________________join_w_calendar cache loaded - 0.0s, 0.0min\n",
      "[Memory]0.2s, 0.0min    : Loading join_w_prices...\n",
      "_______________________________________join_w_prices cache loaded - 0.0s, 0.0min\n"
     ]
    },
    {
     "data": {
      "text/html": [
       "\n",
       "    <div>\n",
       "        <style>\n",
       "            /* Turns off some styling */\n",
       "            progress {\n",
       "                /* gets rid of default border in Firefox and Opera. */\n",
       "                border: none;\n",
       "                /* Needs to be in here for Safari polyfill so background images work as expected. */\n",
       "                background-size: auto;\n",
       "            }\n",
       "            .progress-bar-interrupted, .progress-bar-interrupted::-webkit-progress-bar {\n",
       "                background: #F44336;\n",
       "            }\n",
       "        </style>\n",
       "      <progress value='1' class='' max='2', style='width:300px; height:20px; vertical-align: middle;'></progress>\n",
       "      50.00% [1/2 00:04<00:04]\n",
       "    </div>\n",
       "    \n",
       "<table border=\"1\" class=\"dataframe\">\n",
       "  <thead>\n",
       "    <tr style=\"text-align: left;\">\n",
       "      <th>epoch</th>\n",
       "      <th>train_loss</th>\n",
       "      <th>valid_loss</th>\n",
       "      <th>root_mean_squared_error</th>\n",
       "      <th>wrmsse</th>\n",
       "      <th>time</th>\n",
       "    </tr>\n",
       "  </thead>\n",
       "  <tbody>\n",
       "    <tr>\n",
       "      <td>0</td>\n",
       "      <td>254.798782</td>\n",
       "      <td>#na#</td>\n",
       "      <td>0.000000</td>\n",
       "      <td>00:04</td>\n",
       "    </tr>\n",
       "  </tbody>\n",
       "</table><p>\n",
       "\n",
       "    <div>\n",
       "        <style>\n",
       "            /* Turns off some styling */\n",
       "            progress {\n",
       "                /* gets rid of default border in Firefox and Opera. */\n",
       "                border: none;\n",
       "                /* Needs to be in here for Safari polyfill so background images work as expected. */\n",
       "                background-size: auto;\n",
       "            }\n",
       "            .progress-bar-interrupted, .progress-bar-interrupted::-webkit-progress-bar {\n",
       "                background: #F44336;\n",
       "            }\n",
       "        </style>\n",
       "      <progress value='7' class='' max='92', style='width:300px; height:20px; vertical-align: middle;'></progress>\n",
       "      7.61% [7/92 00:00<00:10 229.6592]\n",
       "    </div>\n",
       "    "
      ],
      "text/plain": [
       "<IPython.core.display.HTML object>"
      ]
     },
     "metadata": {},
     "output_type": "display_data"
    },
    {
     "data": {
      "text/html": [],
      "text/plain": [
       "<IPython.core.display.HTML object>"
      ]
     },
     "metadata": {},
     "output_type": "display_data"
    },
    {
     "data": {
      "text/html": [
       "<div>\n",
       "<style scoped>\n",
       "    .dataframe tbody tr th:only-of-type {\n",
       "        vertical-align: middle;\n",
       "    }\n",
       "\n",
       "    .dataframe tbody tr th {\n",
       "        vertical-align: top;\n",
       "    }\n",
       "\n",
       "    .dataframe thead th {\n",
       "        text-align: right;\n",
       "    }\n",
       "</style>\n",
       "<table border=\"1\" class=\"dataframe\">\n",
       "  <thead>\n",
       "    <tr style=\"text-align: right;\">\n",
       "      <th></th>\n",
       "      <th>5935</th>\n",
       "      <th>5936</th>\n",
       "      <th>5937</th>\n",
       "      <th>5938</th>\n",
       "      <th>5939</th>\n",
       "      <th>5940</th>\n",
       "      <th>5941</th>\n",
       "      <th>5942</th>\n",
       "      <th>5943</th>\n",
       "      <th>5944</th>\n",
       "      <th>5945</th>\n",
       "    </tr>\n",
       "  </thead>\n",
       "  <tbody>\n",
       "    <tr>\n",
       "      <th>y_pred</th>\n",
       "      <td>13.92</td>\n",
       "      <td>1.92</td>\n",
       "      <td>1.44</td>\n",
       "      <td>5.94</td>\n",
       "      <td>8.38</td>\n",
       "      <td>32.48</td>\n",
       "      <td>0.96</td>\n",
       "      <td>8.38</td>\n",
       "      <td>9.28</td>\n",
       "      <td>0.48</td>\n",
       "      <td>5.94</td>\n",
       "    </tr>\n",
       "    <tr>\n",
       "      <th>y_val</th>\n",
       "      <td>13.92</td>\n",
       "      <td>1.92</td>\n",
       "      <td>1.44</td>\n",
       "      <td>5.94</td>\n",
       "      <td>8.38</td>\n",
       "      <td>32.48</td>\n",
       "      <td>0.96</td>\n",
       "      <td>8.38</td>\n",
       "      <td>9.28</td>\n",
       "      <td>0.48</td>\n",
       "      <td>5.94</td>\n",
       "    </tr>\n",
       "  </tbody>\n",
       "</table>\n",
       "</div>"
      ],
      "text/plain": [
       "         5935  5936  5937  5938  5939   5940  5941  5942  5943  5944  5945\n",
       "y_pred  13.92  1.92  1.44  5.94  8.38  32.48  0.96  8.38  9.28  0.48  5.94\n",
       "y_val   13.92  1.92  1.44  5.94  8.38  32.48  0.96  8.38  9.28  0.48  5.94"
      ]
     },
     "metadata": {},
     "output_type": "display_data"
    },
    {
     "data": {
      "text/html": [],
      "text/plain": [
       "<IPython.core.display.HTML object>"
      ]
     },
     "metadata": {},
     "output_type": "display_data"
    },
    {
     "data": {
      "text/html": [
       "<div>\n",
       "<style scoped>\n",
       "    .dataframe tbody tr th:only-of-type {\n",
       "        vertical-align: middle;\n",
       "    }\n",
       "\n",
       "    .dataframe tbody tr th {\n",
       "        vertical-align: top;\n",
       "    }\n",
       "\n",
       "    .dataframe thead th {\n",
       "        text-align: right;\n",
       "    }\n",
       "</style>\n",
       "<table border=\"1\" class=\"dataframe\">\n",
       "  <thead>\n",
       "    <tr style=\"text-align: right;\">\n",
       "      <th></th>\n",
       "      <th>5935</th>\n",
       "      <th>5936</th>\n",
       "      <th>5937</th>\n",
       "      <th>5938</th>\n",
       "      <th>5939</th>\n",
       "      <th>5940</th>\n",
       "      <th>5941</th>\n",
       "      <th>5942</th>\n",
       "      <th>5943</th>\n",
       "      <th>5944</th>\n",
       "      <th>5945</th>\n",
       "    </tr>\n",
       "  </thead>\n",
       "  <tbody>\n",
       "    <tr>\n",
       "      <th>y_pred</th>\n",
       "      <td>13.92</td>\n",
       "      <td>1.92</td>\n",
       "      <td>1.44</td>\n",
       "      <td>5.94</td>\n",
       "      <td>8.38</td>\n",
       "      <td>32.48</td>\n",
       "      <td>0.96</td>\n",
       "      <td>8.38</td>\n",
       "      <td>9.28</td>\n",
       "      <td>0.48</td>\n",
       "      <td>5.94</td>\n",
       "    </tr>\n",
       "    <tr>\n",
       "      <th>y_val</th>\n",
       "      <td>13.92</td>\n",
       "      <td>1.92</td>\n",
       "      <td>1.44</td>\n",
       "      <td>5.94</td>\n",
       "      <td>8.38</td>\n",
       "      <td>32.48</td>\n",
       "      <td>0.96</td>\n",
       "      <td>8.38</td>\n",
       "      <td>9.28</td>\n",
       "      <td>0.48</td>\n",
       "      <td>5.94</td>\n",
       "    </tr>\n",
       "  </tbody>\n",
       "</table>\n",
       "</div>"
      ],
      "text/plain": [
       "         5935  5936  5937  5938  5939   5940  5941  5942  5943  5944  5945\n",
       "y_pred  13.92  1.92  1.44  5.94  8.38  32.48  0.96  8.38  9.28  0.48  5.94\n",
       "y_val   13.92  1.92  1.44  5.94  8.38  32.48  0.96  8.38  9.28  0.48  5.94"
      ]
     },
     "metadata": {},
     "output_type": "display_data"
    },
    {
     "name": "stdout",
     "output_type": "stream",
     "text": [
      "LR Finder is complete, type {learner_name}.recorder.plot() to see the graph.\n"
     ]
    },
    {
     "data": {
      "text/html": [
       "<table border=\"1\" class=\"dataframe\">\n",
       "  <thead>\n",
       "    <tr style=\"text-align: left;\">\n",
       "      <th>epoch</th>\n",
       "      <th>train_loss</th>\n",
       "      <th>valid_loss</th>\n",
       "      <th>root_mean_squared_error</th>\n",
       "      <th>wrmsse</th>\n",
       "      <th>time</th>\n",
       "    </tr>\n",
       "  </thead>\n",
       "  <tbody>\n",
       "    <tr>\n",
       "      <td>0</td>\n",
       "      <td>82.109962</td>\n",
       "      <td>141.160294</td>\n",
       "      <td>11.881089</td>\n",
       "      <td>0.000000</td>\n",
       "      <td>00:08</td>\n",
       "    </tr>\n",
       "    <tr>\n",
       "      <td>1</td>\n",
       "      <td>79.242271</td>\n",
       "      <td>141.160294</td>\n",
       "      <td>11.881089</td>\n",
       "      <td>0.000000</td>\n",
       "      <td>00:07</td>\n",
       "    </tr>\n",
       "    <tr>\n",
       "      <td>2</td>\n",
       "      <td>78.803864</td>\n",
       "      <td>141.160294</td>\n",
       "      <td>11.881089</td>\n",
       "      <td>0.000000</td>\n",
       "      <td>00:07</td>\n",
       "    </tr>\n",
       "    <tr>\n",
       "      <td>3</td>\n",
       "      <td>79.744507</td>\n",
       "      <td>141.160294</td>\n",
       "      <td>11.881089</td>\n",
       "      <td>0.000000</td>\n",
       "      <td>00:07</td>\n",
       "    </tr>\n",
       "    <tr>\n",
       "      <td>4</td>\n",
       "      <td>80.187729</td>\n",
       "      <td>141.160294</td>\n",
       "      <td>11.881089</td>\n",
       "      <td>0.000000</td>\n",
       "      <td>00:08</td>\n",
       "    </tr>\n",
       "  </tbody>\n",
       "</table>"
      ],
      "text/plain": [
       "<IPython.core.display.HTML object>"
      ]
     },
     "metadata": {},
     "output_type": "display_data"
    },
    {
     "data": {
      "text/html": [],
      "text/plain": [
       "<IPython.core.display.HTML object>"
      ]
     },
     "metadata": {},
     "output_type": "display_data"
    },
    {
     "data": {
      "text/html": [
       "<div>\n",
       "<style scoped>\n",
       "    .dataframe tbody tr th:only-of-type {\n",
       "        vertical-align: middle;\n",
       "    }\n",
       "\n",
       "    .dataframe tbody tr th {\n",
       "        vertical-align: top;\n",
       "    }\n",
       "\n",
       "    .dataframe thead th {\n",
       "        text-align: right;\n",
       "    }\n",
       "</style>\n",
       "<table border=\"1\" class=\"dataframe\">\n",
       "  <thead>\n",
       "    <tr style=\"text-align: right;\">\n",
       "      <th></th>\n",
       "      <th>5935</th>\n",
       "      <th>5936</th>\n",
       "      <th>5937</th>\n",
       "      <th>5938</th>\n",
       "      <th>5939</th>\n",
       "      <th>5940</th>\n",
       "      <th>5941</th>\n",
       "      <th>5942</th>\n",
       "      <th>5943</th>\n",
       "      <th>5944</th>\n",
       "      <th>5945</th>\n",
       "    </tr>\n",
       "  </thead>\n",
       "  <tbody>\n",
       "    <tr>\n",
       "      <th>y_pred</th>\n",
       "      <td>13.92</td>\n",
       "      <td>1.92</td>\n",
       "      <td>1.44</td>\n",
       "      <td>5.94</td>\n",
       "      <td>8.38</td>\n",
       "      <td>32.48</td>\n",
       "      <td>0.96</td>\n",
       "      <td>8.38</td>\n",
       "      <td>9.28</td>\n",
       "      <td>0.48</td>\n",
       "      <td>5.94</td>\n",
       "    </tr>\n",
       "    <tr>\n",
       "      <th>y_val</th>\n",
       "      <td>13.92</td>\n",
       "      <td>1.92</td>\n",
       "      <td>1.44</td>\n",
       "      <td>5.94</td>\n",
       "      <td>8.38</td>\n",
       "      <td>32.48</td>\n",
       "      <td>0.96</td>\n",
       "      <td>8.38</td>\n",
       "      <td>9.28</td>\n",
       "      <td>0.48</td>\n",
       "      <td>5.94</td>\n",
       "    </tr>\n",
       "  </tbody>\n",
       "</table>\n",
       "</div>"
      ],
      "text/plain": [
       "         5935  5936  5937  5938  5939   5940  5941  5942  5943  5944  5945\n",
       "y_pred  13.92  1.92  1.44  5.94  8.38  32.48  0.96  8.38  9.28  0.48  5.94\n",
       "y_val   13.92  1.92  1.44  5.94  8.38  32.48  0.96  8.38  9.28  0.48  5.94"
      ]
     },
     "metadata": {},
     "output_type": "display_data"
    },
    {
     "data": {
      "text/html": [],
      "text/plain": [
       "<IPython.core.display.HTML object>"
      ]
     },
     "metadata": {},
     "output_type": "display_data"
    },
    {
     "data": {
      "text/html": [
       "<div>\n",
       "<style scoped>\n",
       "    .dataframe tbody tr th:only-of-type {\n",
       "        vertical-align: middle;\n",
       "    }\n",
       "\n",
       "    .dataframe tbody tr th {\n",
       "        vertical-align: top;\n",
       "    }\n",
       "\n",
       "    .dataframe thead th {\n",
       "        text-align: right;\n",
       "    }\n",
       "</style>\n",
       "<table border=\"1\" class=\"dataframe\">\n",
       "  <thead>\n",
       "    <tr style=\"text-align: right;\">\n",
       "      <th></th>\n",
       "      <th>5935</th>\n",
       "      <th>5936</th>\n",
       "      <th>5937</th>\n",
       "      <th>5938</th>\n",
       "      <th>5939</th>\n",
       "      <th>5940</th>\n",
       "      <th>5941</th>\n",
       "      <th>5942</th>\n",
       "      <th>5943</th>\n",
       "      <th>5944</th>\n",
       "      <th>5945</th>\n",
       "    </tr>\n",
       "  </thead>\n",
       "  <tbody>\n",
       "    <tr>\n",
       "      <th>y_pred</th>\n",
       "      <td>13.92</td>\n",
       "      <td>1.92</td>\n",
       "      <td>1.44</td>\n",
       "      <td>5.94</td>\n",
       "      <td>8.38</td>\n",
       "      <td>32.48</td>\n",
       "      <td>0.96</td>\n",
       "      <td>8.38</td>\n",
       "      <td>9.28</td>\n",
       "      <td>0.48</td>\n",
       "      <td>5.94</td>\n",
       "    </tr>\n",
       "    <tr>\n",
       "      <th>y_val</th>\n",
       "      <td>13.92</td>\n",
       "      <td>1.92</td>\n",
       "      <td>1.44</td>\n",
       "      <td>5.94</td>\n",
       "      <td>8.38</td>\n",
       "      <td>32.48</td>\n",
       "      <td>0.96</td>\n",
       "      <td>8.38</td>\n",
       "      <td>9.28</td>\n",
       "      <td>0.48</td>\n",
       "      <td>5.94</td>\n",
       "    </tr>\n",
       "  </tbody>\n",
       "</table>\n",
       "</div>"
      ],
      "text/plain": [
       "         5935  5936  5937  5938  5939   5940  5941  5942  5943  5944  5945\n",
       "y_pred  13.92  1.92  1.44  5.94  8.38  32.48  0.96  8.38  9.28  0.48  5.94\n",
       "y_val   13.92  1.92  1.44  5.94  8.38  32.48  0.96  8.38  9.28  0.48  5.94"
      ]
     },
     "metadata": {},
     "output_type": "display_data"
    },
    {
     "data": {
      "text/html": [],
      "text/plain": [
       "<IPython.core.display.HTML object>"
      ]
     },
     "metadata": {},
     "output_type": "display_data"
    },
    {
     "data": {
      "text/html": [
       "<div>\n",
       "<style scoped>\n",
       "    .dataframe tbody tr th:only-of-type {\n",
       "        vertical-align: middle;\n",
       "    }\n",
       "\n",
       "    .dataframe tbody tr th {\n",
       "        vertical-align: top;\n",
       "    }\n",
       "\n",
       "    .dataframe thead th {\n",
       "        text-align: right;\n",
       "    }\n",
       "</style>\n",
       "<table border=\"1\" class=\"dataframe\">\n",
       "  <thead>\n",
       "    <tr style=\"text-align: right;\">\n",
       "      <th></th>\n",
       "      <th>5935</th>\n",
       "      <th>5936</th>\n",
       "      <th>5937</th>\n",
       "      <th>5938</th>\n",
       "      <th>5939</th>\n",
       "      <th>5940</th>\n",
       "      <th>5941</th>\n",
       "      <th>5942</th>\n",
       "      <th>5943</th>\n",
       "      <th>5944</th>\n",
       "      <th>5945</th>\n",
       "    </tr>\n",
       "  </thead>\n",
       "  <tbody>\n",
       "    <tr>\n",
       "      <th>y_pred</th>\n",
       "      <td>13.92</td>\n",
       "      <td>1.92</td>\n",
       "      <td>1.44</td>\n",
       "      <td>5.94</td>\n",
       "      <td>8.38</td>\n",
       "      <td>32.48</td>\n",
       "      <td>0.96</td>\n",
       "      <td>8.38</td>\n",
       "      <td>9.28</td>\n",
       "      <td>0.48</td>\n",
       "      <td>5.94</td>\n",
       "    </tr>\n",
       "    <tr>\n",
       "      <th>y_val</th>\n",
       "      <td>13.92</td>\n",
       "      <td>1.92</td>\n",
       "      <td>1.44</td>\n",
       "      <td>5.94</td>\n",
       "      <td>8.38</td>\n",
       "      <td>32.48</td>\n",
       "      <td>0.96</td>\n",
       "      <td>8.38</td>\n",
       "      <td>9.28</td>\n",
       "      <td>0.48</td>\n",
       "      <td>5.94</td>\n",
       "    </tr>\n",
       "  </tbody>\n",
       "</table>\n",
       "</div>"
      ],
      "text/plain": [
       "         5935  5936  5937  5938  5939   5940  5941  5942  5943  5944  5945\n",
       "y_pred  13.92  1.92  1.44  5.94  8.38  32.48  0.96  8.38  9.28  0.48  5.94\n",
       "y_val   13.92  1.92  1.44  5.94  8.38  32.48  0.96  8.38  9.28  0.48  5.94"
      ]
     },
     "metadata": {},
     "output_type": "display_data"
    },
    {
     "data": {
      "text/html": [],
      "text/plain": [
       "<IPython.core.display.HTML object>"
      ]
     },
     "metadata": {},
     "output_type": "display_data"
    },
    {
     "data": {
      "text/html": [
       "<div>\n",
       "<style scoped>\n",
       "    .dataframe tbody tr th:only-of-type {\n",
       "        vertical-align: middle;\n",
       "    }\n",
       "\n",
       "    .dataframe tbody tr th {\n",
       "        vertical-align: top;\n",
       "    }\n",
       "\n",
       "    .dataframe thead th {\n",
       "        text-align: right;\n",
       "    }\n",
       "</style>\n",
       "<table border=\"1\" class=\"dataframe\">\n",
       "  <thead>\n",
       "    <tr style=\"text-align: right;\">\n",
       "      <th></th>\n",
       "      <th>5935</th>\n",
       "      <th>5936</th>\n",
       "      <th>5937</th>\n",
       "      <th>5938</th>\n",
       "      <th>5939</th>\n",
       "      <th>5940</th>\n",
       "      <th>5941</th>\n",
       "      <th>5942</th>\n",
       "      <th>5943</th>\n",
       "      <th>5944</th>\n",
       "      <th>5945</th>\n",
       "    </tr>\n",
       "  </thead>\n",
       "  <tbody>\n",
       "    <tr>\n",
       "      <th>y_pred</th>\n",
       "      <td>13.92</td>\n",
       "      <td>1.92</td>\n",
       "      <td>1.44</td>\n",
       "      <td>5.94</td>\n",
       "      <td>8.38</td>\n",
       "      <td>32.48</td>\n",
       "      <td>0.96</td>\n",
       "      <td>8.38</td>\n",
       "      <td>9.28</td>\n",
       "      <td>0.48</td>\n",
       "      <td>5.94</td>\n",
       "    </tr>\n",
       "    <tr>\n",
       "      <th>y_val</th>\n",
       "      <td>13.92</td>\n",
       "      <td>1.92</td>\n",
       "      <td>1.44</td>\n",
       "      <td>5.94</td>\n",
       "      <td>8.38</td>\n",
       "      <td>32.48</td>\n",
       "      <td>0.96</td>\n",
       "      <td>8.38</td>\n",
       "      <td>9.28</td>\n",
       "      <td>0.48</td>\n",
       "      <td>5.94</td>\n",
       "    </tr>\n",
       "  </tbody>\n",
       "</table>\n",
       "</div>"
      ],
      "text/plain": [
       "         5935  5936  5937  5938  5939   5940  5941  5942  5943  5944  5945\n",
       "y_pred  13.92  1.92  1.44  5.94  8.38  32.48  0.96  8.38  9.28  0.48  5.94\n",
       "y_val   13.92  1.92  1.44  5.94  8.38  32.48  0.96  8.38  9.28  0.48  5.94"
      ]
     },
     "metadata": {},
     "output_type": "display_data"
    },
    {
     "data": {
      "text/html": [],
      "text/plain": [
       "<IPython.core.display.HTML object>"
      ]
     },
     "metadata": {},
     "output_type": "display_data"
    },
    {
     "data": {
      "text/html": [
       "<div>\n",
       "<style scoped>\n",
       "    .dataframe tbody tr th:only-of-type {\n",
       "        vertical-align: middle;\n",
       "    }\n",
       "\n",
       "    .dataframe tbody tr th {\n",
       "        vertical-align: top;\n",
       "    }\n",
       "\n",
       "    .dataframe thead th {\n",
       "        text-align: right;\n",
       "    }\n",
       "</style>\n",
       "<table border=\"1\" class=\"dataframe\">\n",
       "  <thead>\n",
       "    <tr style=\"text-align: right;\">\n",
       "      <th></th>\n",
       "      <th>5935</th>\n",
       "      <th>5936</th>\n",
       "      <th>5937</th>\n",
       "      <th>5938</th>\n",
       "      <th>5939</th>\n",
       "      <th>5940</th>\n",
       "      <th>5941</th>\n",
       "      <th>5942</th>\n",
       "      <th>5943</th>\n",
       "      <th>5944</th>\n",
       "      <th>5945</th>\n",
       "    </tr>\n",
       "  </thead>\n",
       "  <tbody>\n",
       "    <tr>\n",
       "      <th>y_pred</th>\n",
       "      <td>13.92</td>\n",
       "      <td>1.92</td>\n",
       "      <td>1.44</td>\n",
       "      <td>5.94</td>\n",
       "      <td>8.38</td>\n",
       "      <td>32.48</td>\n",
       "      <td>0.96</td>\n",
       "      <td>8.38</td>\n",
       "      <td>9.28</td>\n",
       "      <td>0.48</td>\n",
       "      <td>5.94</td>\n",
       "    </tr>\n",
       "    <tr>\n",
       "      <th>y_val</th>\n",
       "      <td>13.92</td>\n",
       "      <td>1.92</td>\n",
       "      <td>1.44</td>\n",
       "      <td>5.94</td>\n",
       "      <td>8.38</td>\n",
       "      <td>32.48</td>\n",
       "      <td>0.96</td>\n",
       "      <td>8.38</td>\n",
       "      <td>9.28</td>\n",
       "      <td>0.48</td>\n",
       "      <td>5.94</td>\n",
       "    </tr>\n",
       "  </tbody>\n",
       "</table>\n",
       "</div>"
      ],
      "text/plain": [
       "         5935  5936  5937  5938  5939   5940  5941  5942  5943  5944  5945\n",
       "y_pred  13.92  1.92  1.44  5.94  8.38  32.48  0.96  8.38  9.28  0.48  5.94\n",
       "y_val   13.92  1.92  1.44  5.94  8.38  32.48  0.96  8.38  9.28  0.48  5.94"
      ]
     },
     "metadata": {},
     "output_type": "display_data"
    },
    {
     "data": {
      "image/png": "[encoded data removed]",
      "text/plain": [
       "<Figure size 432x288 with 1 Axes>"
      ]
     },
     "metadata": {
      "needs_background": "light"
     },
     "output_type": "display_data"
    },
    {
     "data": {
      "image/png": "[encoded data removed]",
      "text/plain": [
       "<Figure size 432x288 with 1 Axes>"
      ]
     },
     "metadata": {
      "needs_background": "light"
     },
     "output_type": "display_data"
    }
   ],
   "source": [
    "# %load ivanocode/pipeline/pipeline.py \n",
    "from ivanocode.pipeline.wrmsse import wrmsse_total, with_aggregate_series\n",
    "from sklearn.pipeline import Pipeline\n",
    "import pandas as pd\n",
    "import numpy as np\n",
    "import matplotlib\n",
    "\n",
    "raw = 'raw'\n",
    "processed = 'processed'\n",
    "submissions = 'submissions'\n",
    "tmp = 'tmp'\n",
    "\n",
    "n_days_total = 1913\n",
    "trn_days = 1910\n",
    "n_total_series = 30490\n",
    "n_sample_series = 10\n",
    "\n",
    "from joblib import Memory\n",
    "location = './tmp'\n",
    "memory = Memory(location, verbose=5)\n",
    "\n",
    "@memory.cache\n",
    "def read_series_sample(n = 10):\n",
    "    sample_idx = set(np.random.choice(\n",
    "        range(1, n + 1),\n",
    "        n\n",
    "    ))\n",
    "\n",
    "    # header\n",
    "    sample_idx.add(0)\n",
    "\n",
    "    return pd.read_csv(f'{raw}/sales_train_validation.csv', skiprows = lambda i: i not in sample_idx)\n",
    "\n",
    "@memory.cache\n",
    "def melt_sales_series(df_sales_train):\n",
    "    id_columns = [col for col in df_sales_train.columns if 'id' in col]\n",
    "    sales_columns = [col for col in df_sales_train.columns if 'd_' in col]\n",
    "    cat_columns = [col for col in id_columns if col != 'id']\n",
    "\n",
    "    df_sales_train_melt = df_sales_train.melt(\n",
    "        id_vars=id_columns,\n",
    "        var_name='day_id',\n",
    "        value_name='sales'\n",
    "    )\n",
    "\n",
    "    for col in id_columns:\n",
    "        df_sales_train_melt[col] = df_sales_train_melt[col].astype('category')\n",
    "\n",
    "    df_sales_train_melt['sales'] = df_sales_train_melt['sales'].astype('int16')\n",
    "\n",
    "    return df_sales_train_melt\n",
    "\n",
    "@memory.cache\n",
    "def extract_day_ids(df_sales_train_melt):\n",
    "    sales_columns = [f'd_{col}' for col in range(1, n_days_total+1)]\n",
    "    mapping = {col: int(col.split('_')[1]) for col in sales_columns}\n",
    "    df_sales_train_melt['day_id'] = df_sales_train_melt['day_id'].map(mapping)\n",
    "\n",
    "    import datetime\n",
    "    d_1_date = pd.to_datetime('2011-01-29')\n",
    "    mapping = {day:(d_1_date + datetime.timedelta(days=day-1)) for day in range(1, n_days_total+1)}\n",
    "    df_sales_train_melt['day_date'] = df_sales_train_melt['day_id'].map(mapping)\n",
    "\n",
    "    mapping = {day:str((d_1_date + datetime.timedelta(days=day-1)).date()) for day in range(1, n_days_total+1)}\n",
    "    # gonna need it for joining with calendars & stuff\n",
    "    df_sales_train_melt['day_date_str'] = df_sales_train_melt['day_id'].map(mapping)\n",
    "\n",
    "    df_sales_train_melt['day_date_str'] = df_sales_train_melt['day_date_str'].astype('category')\n",
    "    df_sales_train_melt['day_id'] = df_sales_train_melt['day_id'].astype('int16')\n",
    "    df_sales_train_melt['month_id'] = df_sales_train_melt['day_date'].dt.month.astype('uint8')\n",
    "\n",
    "    return df_sales_train_melt\n",
    "\n",
    "@memory.cache\n",
    "def join_w_calendar(df_sales_train_melt):\n",
    "    df_calendar = pd.read_csv(f'{raw}/calendar.csv')\n",
    "    df_sales_train_melt =  df_sales_train_melt.merge(\n",
    "        df_calendar[['date', 'wm_yr_wk']],\n",
    "        left_on='day_date_str', right_on='date',\n",
    "        validate='many_to_one')\n",
    "\n",
    "    df_sales_train_melt['wm_yr_wk'] = df_sales_train_melt['wm_yr_wk'].astype('int16')\n",
    "    return df_sales_train_melt\n",
    "\n",
    "@memory.cache\n",
    "def join_w_prices(partition):\n",
    "    df_prices = pd.read_csv(f'{raw}/sell_prices.csv')\n",
    "    partition = partition.merge(\n",
    "        df_prices,\n",
    "        on=['store_id', 'item_id', 'wm_yr_wk'],\n",
    "        how='left'\n",
    "    )\n",
    "    partition['sell_price'] = partition['sell_price'].astype('float32')\n",
    "    partition['sales_dollars'] = (partition['sales'] * partition['sell_price']).astype('float32')\n",
    "    partition.fillna({'sales_dollars': 0}, inplace=True)\n",
    "    return partition\n",
    "\n",
    "from fastai.tabular import *\n",
    "from IPython.display import display\n",
    "\n",
    "\n",
    "def _wrmsse(y, val, trn):\n",
    "    pred = val.copy()\n",
    "    pred['sales_dollars'] = y\n",
    "    display(pd.DataFrame({'y_pred': y, 'y_val': val['sales_dollars']}).transpose())\n",
    "    # TODO: rounding differently might be important for sporadic sales on lower-volume items\n",
    "    pred['sales'] = pred['sales_dollars'] / pred['sell_price']\n",
    "    pred['sales'].fillna(0, inplace=True)\n",
    "    pred['sales'] = pred['sales'].astype('int')\n",
    "    val_w_aggs = with_aggregate_series(val.copy())\n",
    "    trn_w_aggs = with_aggregate_series(trn.copy())\n",
    "    pred_w_aggs = with_aggregate_series(pred.copy())\n",
    "    score = wrmsse_total(\n",
    "        trn_w_aggs,\n",
    "        val_w_aggs,\n",
    "        pred_w_aggs\n",
    "    )\n",
    "    return score\n",
    "\n",
    "from fastai.callbacks import *\n",
    "# mega workaroundish way of plugging a metric func designed to work with all the data to run after each epoch \n",
    "# fast.ai is designed around per batch metrics + aggregating them\n",
    "class MyMetrics(LearnerCallback):\n",
    "    # should run before the recorder\n",
    "    _order = -30\n",
    "    def __init__(self, learn, trn, val):\n",
    "        super().__init__(learn)\n",
    "        self.trn = trn\n",
    "        self.val = val\n",
    "        self.learn = learn\n",
    "\n",
    "    def on_train_begin(self, **kwargs):\n",
    "        self.learn.recorder.add_metric_names(['wrmsse'])\n",
    "        pass\n",
    "    \n",
    "    def on_epoch_end(self, last_metrics, **kwargs):\n",
    "        rec = self.learn.recorder\n",
    "        preds, y_val = self.learn.get_preds(DatasetType.Valid)\n",
    "        y_pred = preds.numpy().flatten()\n",
    "        self.learn.recorder = rec\n",
    "        score = _wrmsse(y_pred, self.val, self.trn)\n",
    "        return {'last_metrics': last_metrics + [score]}\n",
    "\n",
    "def model_as_tabular(df_sales_train_melt):\n",
    "    df_sample = df_sales_train_melt.query('sales_dollars > 0').reset_index(drop=True)\n",
    "    valid_idx = np.flatnonzero(df_sample['day_id'] > trn_days)\n",
    "\n",
    "    val_mask = df_sample.index.isin(valid_idx)\n",
    "    val = df_sample[val_mask]\n",
    "    trn = df_sample[~val_mask]\n",
    "\n",
    "    my_metrics_cb = partial(MyMetrics, val=val, trn=trn)\n",
    "\n",
    "    procs = [FillMissing, Categorify, Normalize]\n",
    "    dep_var = 'sales_dollars'\n",
    "    cat_names = ['item_id', 'dept_id', 'cat_id', 'store_id', 'state_id', 'month_id', 'id']\n",
    "    cols = cat_names + ['sell_price'] + [dep_var]\n",
    "\n",
    "    path ='./tmp'\n",
    "    data = TabularDataBunch.from_df(path, df_sample[cols], dep_var, valid_idx=valid_idx,\n",
    "                                    procs=procs, cat_names=cat_names)\n",
    "\n",
    "    sales_range = df_sales_train_melt.agg({dep_var: ['min', 'max']})\n",
    "    learn = tabular_learner(data, layers=[1000,1000], emb_szs=None, metrics=[rmse], \n",
    "                        y_range=sales_range[dep_var].values, callback_fns=[my_metrics_cb],\n",
    "                        use_bn=False,\n",
    "                        wd=0)\n",
    "    # Note to self: default wd seem to big - results converged to basically nothing in the first ep\n",
    "    learn.lr_find()\n",
    "    fig = learn.recorder.plot(return_fig=True)\n",
    "    fig.savefig('lr_find.png')\n",
    "    !open lr_find.png\n",
    "    learn.fit_one_cycle(5, 1e1)\n",
    "    fig = learn.recorder.plot_losses(return_fig=True)\n",
    "    fig.savefig('loss_log.png')\n",
    "\n",
    "    \"\"\"\n",
    "    the above is pretty unstable, still we sort of got it to overfit slightly\n",
    "    epoch     train_loss  valid_loss  root_mean_squared_error  time    \n",
    "    0         83.365913   53.201424   7.188121                 00:00                                                                                      \n",
    "    1         56.507870   55.011505   7.313859                 00:00                                                                                      \n",
    "    2         48.014706   55.011673   7.313872                 00:00                                                                                      \n",
    "    3         44.242149   55.001785   7.313148                 00:00                                                                                      \n",
    "    4         42.347946   57.570885   7.462979                 00:00 \n",
    "    epoch     train_loss  valid_loss  root_mean_squared_error  time    \n",
    "    0         99.312691   88.176826   9.289624                 00:00                                                                                      \n",
    "    1         53.812771   45.480507   6.625162                 00:00                                                                                      \n",
    "    2         35.418938   19.952007   4.353195                 00:00                                                                                      \n",
    "    3         23.099392   17.516432   4.008787                 00:00                                                                                      \n",
    "    4         17.082275   17.641117   4.019526                 00:00 \n",
    "    \"\"\"\n",
    "    return learn, trn, val\n",
    "\n",
    "sales_series = read_series_sample(n_sample_series)\n",
    "sales_series = melt_sales_series(sales_series)\n",
    "sales_series = extract_day_ids(sales_series)\n",
    "sales_series = join_w_calendar(sales_series)\n",
    "sales_series = join_w_prices(sales_series)\n",
    "learn, trn, val = model_as_tabular(sales_series)"
   ]
  },
  {
   "cell_type": "code",
   "execution_count": null,
   "metadata": {
    "ExecuteTime": {
     "end_time": "2020-04-18T13:23:46.564304Z",
     "start_time": "2020-04-18T13:23:15.891Z"
    }
   },
   "outputs": [],
   "source": [
    "preds, y_val = learn.get_preds(DatasetType.Valid)"
   ]
  },
  {
   "cell_type": "code",
   "execution_count": 15,
   "metadata": {
    "ExecuteTime": {
     "end_time": "2020-04-18T14:42:38.256654Z",
     "start_time": "2020-04-18T14:42:38.224028Z"
    }
   },
   "outputs": [
    {
     "data": {
      "text/plain": [
       "0.0"
      ]
     },
     "execution_count": 15,
     "metadata": {},
     "output_type": "execute_result"
    }
   ],
   "source": [
    "# TODO: how do we get zeroes here if they were supposed to be filtered by the query above? :/\n",
    "(trn['sales_dollars'] == 0).sum() / float(len(trn))"
   ]
  },
  {
   "cell_type": "code",
   "execution_count": 16,
   "metadata": {
    "ExecuteTime": {
     "end_time": "2020-04-18T14:42:40.784075Z",
     "start_time": "2020-04-18T14:42:40.754006Z"
    }
   },
   "outputs": [
    {
     "data": {
      "text/plain": [
       "0.0"
      ]
     },
     "execution_count": 16,
     "metadata": {},
     "output_type": "execute_result"
    }
   ],
   "source": [
    "(val['sales_dollars'] == 0).sum() / float(len(val))"
   ]
  },
  {
   "cell_type": "code",
   "execution_count": 17,
   "metadata": {
    "ExecuteTime": {
     "end_time": "2020-04-18T14:43:39.128280Z",
     "start_time": "2020-04-18T14:43:38.884763Z"
    }
   },
   "outputs": [
    {
     "data": {
      "text/plain": [
       "<matplotlib.axes._subplots.AxesSubplot at 0x13520dc10>"
      ]
     },
     "execution_count": 17,
     "metadata": {},
     "output_type": "execute_result"
    },
    {
     "data": {
      "image/png": "[encoded data removed]",
      "text/plain": [
       "<Figure size 432x288 with 1 Axes>"
      ]
     },
     "metadata": {
      "needs_background": "light"
     },
     "output_type": "display_data"
    }
   ],
   "source": [
    "trn['sales_dollars'].hist()"
   ]
  },
  {
   "cell_type": "code",
   "execution_count": 18,
   "metadata": {
    "ExecuteTime": {
     "end_time": "2020-04-18T14:43:51.094626Z",
     "start_time": "2020-04-18T14:43:50.867983Z"
    }
   },
   "outputs": [
    {
     "data": {
      "text/plain": [
       "<matplotlib.axes._subplots.AxesSubplot at 0x137c1d690>"
      ]
     },
     "execution_count": 18,
     "metadata": {},
     "output_type": "execute_result"
    },
    {
     "data": {
      "image/png": "[encoded data removed]",
      "text/plain": [
       "<Figure size 432x288 with 1 Axes>"
      ]
     },
     "metadata": {
      "needs_background": "light"
     },
     "output_type": "display_data"
    }
   ],
   "source": [
    "val['sales_dollars'].hist()"
   ]
  },
  {
   "cell_type": "code",
   "execution_count": null,
   "metadata": {
    "ExecuteTime": {
     "end_time": "2020-04-18T13:23:46.569058Z",
     "start_time": "2020-04-18T13:23:15.896Z"
    },
    "scrolled": true
   },
   "outputs": [],
   "source": [
    "\"\"\"\n",
    "149.428452\t141.160263\t11.881088\t0\t00:03\n",
    "1\t92.145798\t141.160294\t11.881089\t0\t00:02\n",
    "2\t83.048798\t141.160248\t11.881088\t0\t00:02\n",
    "3\t82.048836\t141.160294\t11.881089\t0\t00:02\n",
    "4\t81.270966\t141.160294\t11.881089\t0\t00:02\n",
    "\n",
    "# preds don't seem to change with reruns\n",
    "tensor([13.9200,  1.9200,  1.4400,  5.9400,  8.3800, 32.4800,  0.9600,  8.3800,\n",
    "         9.2800,  0.4800,  5.9400])\n",
    "\"\"\"\n",
    "val['id'].value_counts().sort_index()"
   ]
  },
  {
   "cell_type": "code",
   "execution_count": null,
   "metadata": {
    "ExecuteTime": {
     "end_time": "2020-04-18T13:23:46.570318Z",
     "start_time": "2020-04-18T13:23:15.898Z"
    }
   },
   "outputs": [],
   "source": [
    "trn['id'].value_counts().sort_index()"
   ]
  },
  {
   "cell_type": "code",
   "execution_count": null,
   "metadata": {
    "ExecuteTime": {
     "end_time": "2020-04-18T13:23:46.571875Z",
     "start_time": "2020-04-18T13:23:15.900Z"
    }
   },
   "outputs": [],
   "source": [
    "pd.read_csv(f'{raw}/calendar.csv', nrows=1)"
   ]
  },
  {
   "cell_type": "code",
   "execution_count": null,
   "metadata": {
    "ExecuteTime": {
     "end_time": "2020-04-18T13:23:46.573693Z",
     "start_time": "2020-04-18T13:23:15.902Z"
    }
   },
   "outputs": [],
   "source": [
    "val"
   ]
  },
  {
   "cell_type": "code",
   "execution_count": null,
   "metadata": {
    "ExecuteTime": {
     "end_time": "2020-04-18T13:23:46.575353Z",
     "start_time": "2020-04-18T13:23:15.904Z"
    }
   },
   "outputs": [],
   "source": [
    "# Karpathy's process for DNN end-to-end skeleton setup\n",
    "# 0. Fix random seed\n",
    "# 1. Simplify (e.g. no augmentations other unnecessary features)\n",
    "# 2. When plotting the loss - run it over entire dataset\n",
    "# 3. Verify loss @ {{c1::init}}\n",
    "# 4. Init well\n",
    "# 5. Human baseline\n",
    "# 6. Input-independent baseline\n",
    "# 7. Overfit {{c2::one batch}}\n",
    "# 8. Verify decreasing training loss\n",
    "# 9. Visualize what's fed into {{c3::the neural part of the model (stats after normalization etc)}}\n",
    "# 10. Visualize prediction dynamics on {{c4::a single batch over the entire training}}\n",
    "# 11. Use backprop to chart dependencies: {{c1::set loss for example to be 1, run backprop on it and make sure you get non-zero gradient on just that example}}\n",
    "# 12. Start from a special case then generalize"
   ]
  }
 ],
 "metadata": {
  "kernelspec": {
   "display_name": "Python 3",
   "language": "python",
   "name": "python3"
  },
  "language_info": {
   "codemirror_mode": {
    "name": "ipython",
    "version": 3
   },
   "file_extension": ".py",
   "mimetype": "text/x-python",
   "name": "python",
   "nbconvert_exporter": "python",
   "pygments_lexer": "ipython3",
   "version": "3.7.7"
  },
  "toc": {
   "base_numbering": 1,
   "nav_menu": {},
   "number_sections": true,
   "sideBar": true,
   "skip_h1_title": false,
   "title_cell": "Table of Contents",
   "title_sidebar": "Contents",
   "toc_cell": false,
   "toc_position": {},
   "toc_section_display": true,
   "toc_window_display": false
  },
  "varInspector": {
   "cols": {
    "lenName": 16,
    "lenType": 16,
    "lenVar": 40
   },
   "kernels_config": {
    "python": {
     "delete_cmd_postfix": "",
     "delete_cmd_prefix": "del ",
     "library": "var_list.py",
     "varRefreshCmd": "print(var_dic_list())"
    },
    "r": {
     "delete_cmd_postfix": ") ",
     "delete_cmd_prefix": "rm(",
     "library": "var_list.r",
     "varRefreshCmd": "cat(var_dic_list()) "
    }
   },
   "types_to_exclude": [
    "module",
    "function",
    "builtin_function_or_method",
    "instance",
    "_Feature"
   ],
   "window_display": false
  }
 },
 "nbformat": 4,
 "nbformat_minor": 2
}
