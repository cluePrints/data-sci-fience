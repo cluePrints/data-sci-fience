{
 "cells": [
  {
   "cell_type": "code",
   "execution_count": 1,
   "metadata": {
    "ExecuteTime": {
     "end_time": "2020-04-20T12:41:50.099556Z",
     "start_time": "2020-04-20T12:41:50.075019Z"
    }
   },
   "outputs": [
    {
     "data": {
      "application/javascript": [
       "IPython.notebook.set_autosave_interval(60000)"
      ]
     },
     "metadata": {},
     "output_type": "display_data"
    },
    {
     "name": "stdout",
     "output_type": "stream",
     "text": [
      "Autosaving every 60 seconds\n"
     ]
    }
   ],
   "source": [
    "%load_ext autoreload\n",
    "%autoreload 2\n",
    "%autosave 60"
   ]
  },
  {
   "cell_type": "code",
   "execution_count": 97,
   "metadata": {
    "ExecuteTime": {
     "end_time": "2020-04-20T14:46:54.661962Z",
     "start_time": "2020-04-20T14:45:11.041170Z"
    },
    "scrolled": true
   },
   "outputs": [
    {
     "name": "stdout",
     "output_type": "stream",
     "text": [
      "________________________________________________________________________________\n",
      "[Memory] Calling __main__--Users-ivan.sobolev-opower-data-sci-fience-m5-forecasting-accuracy-__ipython-input__.read_series_sample...\n",
      "read_series_sample(500)\n",
      "_______________________________________________read_series_sample - 0.6s, 0.0min\n",
      "________________________________________________________________________________\n",
      "[Memory] Calling __main__--Users-ivan.sobolev-opower-data-sci-fience-m5-forecasting-accuracy-__ipython-input__.melt_sales_series...\n",
      "melt_sales_series(                                id        item_id    dept_id   cat_id  \\\n",
      "0    HOBBIES_1_001_CA_1_validation  HOBBIES_1_001  HOBBIES_1  HOBBIES   \n",
      "1    HOBBIES_1_002_CA_1_validation  HOBBIES_1_002  HOBBIES_1  HOBBIES   \n",
      "2    HOBBIES_1_008_CA_1_validation  HOBBIES_1_008  HOBBIES_1  HOBBIES   \n",
      "3    HOBBIES_1_009_CA_1_validation  HOBBIES_1_009  HOBBIES_1  HOBBIES   \n",
      "4    HOBBIES_1_011_CA_1_validation  HOBBIES_1_011  HOBBIES_1  HOBBIES   \n",
      "..                             ...            ...        ...      ...   \n",
      "300  HOBBIES_2_077_CA_1_validation  HOBBIES_2_077  HOBBIES_2  HOBBIES   \n",
      "301  HOBBIES_2_079_CA_1_validation  HOBBIES_2_079  HOBBIES_2  HOBBIES   \n",
      "302  HOBBIES_2_081_CA_1_validation  HOBBIES...)\n",
      "________________________________________________melt_sales_series - 0.5s, 0.0min\n",
      "________________________________________________________________________________\n",
      "[Memory] Calling __main__--Users-ivan.sobolev-opower-data-sci-fience-m5-forecasting-accuracy-__ipython-input__.extract_day_ids...\n",
      "extract_day_ids(                                   id        item_id    dept_id   cat_id  \\\n",
      "0       HOBBIES_1_001_CA_1_validation  HOBBIES_1_001  HOBBIES_1  HOBBIES   \n",
      "1       HOBBIES_1_002_CA_1_validation  HOBBIES_1_002  HOBBIES_1  HOBBIES   \n",
      "2       HOBBIES_1_008_CA_1_validation  HOBBIES_1_008  HOBBIES_1  HOBBIES   \n",
      "3       HOBBIES_1_009_CA_1_validation  HOBBIES_1_009  HOBBIES_1  HOBBIES   \n",
      "4       HOBBIES_1_011_CA_1_validation  HOBBIES_1_011  HOBBIES_1  HOBBIES   \n",
      "...                               ...            ...        ...      ...   \n",
      "583460  HOBBIES_2_077_CA_1_validation  HOBBIES_2_077  HOBBIES_2  HOBBIES   \n",
      "583461  HOBBIES_2_079_CA_1_validation  HOBBIES_2_079  HOBBIES_2  HOBBIES   \n",
      "583462  HOBBIES_2_081_CA_1_validation  HOBBIES_2_081  HOBBIES_2  HOBBIES   \n",
      "583463  HOBBIES_2_083_CA_1_validation  HOBBIES_2_083  HOBBIES_2  HOBBIES   \n",
      "583464  HOBBIES_2_084_CA_1_validation  HOBBIES_2_084  HOBBIES_2  HOBBIES   \n",
      "\n",
      "       store_id state_id  day_id  sales  \n",
      "0          CA_1       CA     d_1      0  \n",
      "1          CA_1       CA     d_1      0  \n",
      "2          CA_1       CA     d_1     12  \n",
      "3          CA_1       CA     d_1      2  \n",
      "4          CA_1       CA     d_1      0  \n",
      "...         ...      ...     ...    ...  \n",
      "583460     CA_1       CA  d_1913      0  \n",
      "583461     CA_1       CA  d_1913      0  \n",
      "583462     CA_1       CA  d_1913      0  \n",
      "583463     CA_1       CA  d_1913      0  \n",
      "583464     CA_1       CA  d_1913      0  \n",
      "\n",
      "[583465 rows x 8 columns])\n",
      "__________________________________________________extract_day_ids - 2.2s, 0.0min\n",
      "________________________________________________________________________________\n",
      "[Memory] Calling __main__--Users-ivan.sobolev-opower-data-sci-fience-m5-forecasting-accuracy-__ipython-input__.join_w_calendar...\n",
      "join_w_calendar(                                   id        item_id    dept_id   cat_id  \\\n",
      "0       HOBBIES_1_001_CA_1_validation  HOBBIES_1_001  HOBBIES_1  HOBBIES   \n",
      "1       HOBBIES_1_002_CA_1_validation  HOBBIES_1_002  HOBBIES_1  HOBBIES   \n",
      "2       HOBBIES_1_008_CA_1_validation  HOBBIES_1_008  HOBBIES_1  HOBBIES   \n",
      "3       HOBBIES_1_009_CA_1_validation  HOBBIES_1_009  HOBBIES_1  HOBBIES   \n",
      "4       HOBBIES_1_011_CA_1_validation  HOBBIES_1_011  HOBBIES_1  HOBBIES   \n",
      "...                               ...            ...        ...      ...   \n",
      "583460  HOBBIES_2_077_CA_1_validation  HOBBIES_2_077  HOBBIES_2  HOBBIES   \n",
      "583461  HOBBIES_2_079_CA_1_validation  HOBBIES_2_079  HOBBIES_2  HOBBIES   \n",
      "583462  HOBBIES_...)\n",
      "__________________________________________________join_w_calendar - 0.3s, 0.0min\n",
      "________________________________________________________________________________\n",
      "[Memory] Calling __main__--Users-ivan.sobolev-opower-data-sci-fience-m5-forecasting-accuracy-__ipython-input__.join_w_prices...\n",
      "join_w_prices(                                   id        item_id    dept_id   cat_id  \\\n",
      "0       HOBBIES_1_001_CA_1_validation  HOBBIES_1_001  HOBBIES_1  HOBBIES   \n",
      "1       HOBBIES_1_002_CA_1_validation  HOBBIES_1_002  HOBBIES_1  HOBBIES   \n",
      "2       HOBBIES_1_008_CA_1_validation  HOBBIES_1_008  HOBBIES_1  HOBBIES   \n",
      "3       HOBBIES_1_009_CA_1_validation  HOBBIES_1_009  HOBBIES_1  HOBBIES   \n",
      "4       HOBBIES_1_011_CA_1_validation  HOBBIES_1_011  HOBBIES_1  HOBBIES   \n",
      "...                               ...            ...        ...      ...   \n",
      "583460  HOBBIES_2_077_CA_1_validation  HOBBIES_2_077  HOBBIES_2  HOBBIES   \n",
      "583461  HOBBIES_2_079_CA_1_validation  HOBBIES_2_079  HOBBIES_2  HOBBIES   \n",
      "583462  HOBBIES_...)\n"
     ]
    },
    {
     "name": "stderr",
     "output_type": "stream",
     "text": [
      "/usr/local/lib/python3.7/site-packages/ipykernel_launcher.py:226: UserWarning: Persisting input arguments took 4.20s to run.\n",
      "If this happens often in your code, it can cause performance problems \n",
      "(results will be correct in all cases). \n",
      "The reason for this is probably some large input arguments for a wrapped\n",
      " function (e.g. large strings).\n",
      "THIS IS A JOBLIB ISSUE. If you can, kindly provide the joblib's team with an\n",
      " example so that they can fix the problem.\n"
     ]
    },
    {
     "name": "stdout",
     "output_type": "stream",
     "text": [
      "____________________________________________________join_w_prices - 8.7s, 0.1min\n",
      "sample: 583465 non_zero: 174501 trn: 173018 val: 1483\n"
     ]
    },
    {
     "data": {
      "text/html": [
       "<table border=\"1\" class=\"dataframe\">\n",
       "  <thead>\n",
       "    <tr style=\"text-align: left;\">\n",
       "      <th>epoch</th>\n",
       "      <th>train_loss</th>\n",
       "      <th>valid_loss</th>\n",
       "      <th>root_mean_squared_error</th>\n",
       "      <th>example_batch_rmse</th>\n",
       "      <th>wrmsse</th>\n",
       "      <th>time</th>\n",
       "    </tr>\n",
       "  </thead>\n",
       "  <tbody>\n",
       "    <tr>\n",
       "      <td>0</td>\n",
       "      <td>143.237473</td>\n",
       "      <td>667.652893</td>\n",
       "      <td>24.303486</td>\n",
       "      <td>9.460479</td>\n",
       "      <td>1.045384</td>\n",
       "      <td>00:16</td>\n",
       "    </tr>\n",
       "    <tr>\n",
       "      <td>1</td>\n",
       "      <td>131.333038</td>\n",
       "      <td>282.257202</td>\n",
       "      <td>16.762772</td>\n",
       "      <td>9.490395</td>\n",
       "      <td>0.740266</td>\n",
       "      <td>00:16</td>\n",
       "    </tr>\n",
       "    <tr>\n",
       "      <td>2</td>\n",
       "      <td>107.789009</td>\n",
       "      <td>126.132355</td>\n",
       "      <td>11.191458</td>\n",
       "      <td>8.065140</td>\n",
       "      <td>1.303639</td>\n",
       "      <td>00:15</td>\n",
       "    </tr>\n",
       "    <tr>\n",
       "      <td>3</td>\n",
       "      <td>95.221184</td>\n",
       "      <td>279.711823</td>\n",
       "      <td>14.425808</td>\n",
       "      <td>7.720283</td>\n",
       "      <td>1.451253</td>\n",
       "      <td>00:15</td>\n",
       "    </tr>\n",
       "    <tr>\n",
       "      <td>4</td>\n",
       "      <td>85.544800</td>\n",
       "      <td>137.211411</td>\n",
       "      <td>11.676365</td>\n",
       "      <td>7.657503</td>\n",
       "      <td>0.816009</td>\n",
       "      <td>00:15</td>\n",
       "    </tr>\n",
       "  </tbody>\n",
       "</table>"
      ],
      "text/plain": [
       "<IPython.core.display.HTML object>"
      ]
     },
     "metadata": {},
     "output_type": "display_data"
    },
    {
     "data": {
      "text/html": [],
      "text/plain": [
       "<IPython.core.display.HTML object>"
      ]
     },
     "metadata": {},
     "output_type": "display_data"
    },
    {
     "data": {
      "text/html": [],
      "text/plain": [
       "<IPython.core.display.HTML object>"
      ]
     },
     "metadata": {},
     "output_type": "display_data"
    },
    {
     "data": {
      "text/html": [],
      "text/plain": [
       "<IPython.core.display.HTML object>"
      ]
     },
     "metadata": {},
     "output_type": "display_data"
    },
    {
     "data": {
      "text/html": [],
      "text/plain": [
       "<IPython.core.display.HTML object>"
      ]
     },
     "metadata": {},
     "output_type": "display_data"
    },
    {
     "data": {
      "text/html": [],
      "text/plain": [
       "<IPython.core.display.HTML object>"
      ]
     },
     "metadata": {},
     "output_type": "display_data"
    },
    {
     "data": {
      "image/png": "[encoded data removed]",
      "text/plain": [
       "<Figure size 432x288 with 1 Axes>"
      ]
     },
     "metadata": {
      "needs_background": "light"
     },
     "output_type": "display_data"
    }
   ],
   "source": [
    "# %load ivanocode/pipeline/pipeline.py \n",
    "from ivanocode.pipeline.wrmsse import wrmsse_total, with_aggregate_series\n",
    "from sklearn.pipeline import Pipeline\n",
    "import pandas as pd\n",
    "import numpy as np\n",
    "import matplotlib\n",
    "\n",
    "raw = 'raw'\n",
    "processed = 'processed'\n",
    "submissions = 'submissions'\n",
    "tmp = 'tmp'\n",
    "\n",
    "n_days_total = 1913\n",
    "trn_days = 1900\n",
    "n_total_series = 30490\n",
    "n_sample_series = 500\n",
    "\n",
    "from joblib import Memory\n",
    "location = './tmp'\n",
    "memory = Memory(location, verbose=1)\n",
    "\n",
    "@memory.cache\n",
    "def read_series_sample(n = 10):\n",
    "    sample_idx = set(np.random.choice(\n",
    "        range(1, n + 1),\n",
    "        n\n",
    "    ))\n",
    "\n",
    "    # header\n",
    "    sample_idx.add(0)\n",
    "\n",
    "    return pd.read_csv(f'{raw}/sales_train_validation.csv', skiprows = lambda i: i not in sample_idx)\n",
    "\n",
    "@memory.cache\n",
    "def melt_sales_series(df_sales_train):\n",
    "    id_columns = [col for col in df_sales_train.columns if 'id' in col]\n",
    "    sales_columns = [col for col in df_sales_train.columns if 'd_' in col]\n",
    "    cat_columns = [col for col in id_columns if col != 'id']\n",
    "\n",
    "    df_sales_train_melt = df_sales_train.melt(\n",
    "        id_vars=id_columns,\n",
    "        var_name='day_id',\n",
    "        value_name='sales'\n",
    "    )\n",
    "\n",
    "    for col in id_columns:\n",
    "        df_sales_train_melt[col] = df_sales_train_melt[col].astype('category')\n",
    "\n",
    "    df_sales_train_melt['sales'] = df_sales_train_melt['sales'].astype('int16')\n",
    "\n",
    "    return df_sales_train_melt\n",
    "\n",
    "@memory.cache\n",
    "def extract_day_ids(df_sales_train_melt):\n",
    "    sales_columns = [f'd_{col}' for col in range(1, n_days_total+1)]\n",
    "    mapping = {col: int(col.split('_')[1]) for col in sales_columns}\n",
    "    df_sales_train_melt['day_id'] = df_sales_train_melt['day_id'].map(mapping)\n",
    "\n",
    "    import datetime\n",
    "    d_1_date = pd.to_datetime('2011-01-29')\n",
    "    mapping = {day:(d_1_date + datetime.timedelta(days=day-1)) for day in range(1, n_days_total+1)}\n",
    "    df_sales_train_melt['day_date'] = df_sales_train_melt['day_id'].map(mapping)\n",
    "\n",
    "    mapping = {day:str((d_1_date + datetime.timedelta(days=day-1)).date()) for day in range(1, n_days_total+1)}\n",
    "    # gonna need it for joining with calendars & stuff\n",
    "    df_sales_train_melt['day_date_str'] = df_sales_train_melt['day_id'].map(mapping)\n",
    "\n",
    "    df_sales_train_melt['day_date_str'] = df_sales_train_melt['day_date_str'].astype('category')\n",
    "    df_sales_train_melt['day_id'] = df_sales_train_melt['day_id'].astype('int16')\n",
    "    df_sales_train_melt['month_id'] = df_sales_train_melt['day_date'].dt.month.astype('uint8')\n",
    "\n",
    "    return df_sales_train_melt\n",
    "\n",
    "@memory.cache\n",
    "def join_w_calendar(df_sales_train_melt):\n",
    "    df_calendar = pd.read_csv(f'{raw}/calendar.csv')\n",
    "    df_sales_train_melt =  df_sales_train_melt.merge(\n",
    "        df_calendar[['date', 'wm_yr_wk']],\n",
    "        left_on='day_date_str', right_on='date',\n",
    "        validate='many_to_one')\n",
    "\n",
    "    df_sales_train_melt['wm_yr_wk'] = df_sales_train_melt['wm_yr_wk'].astype('int16')\n",
    "    return df_sales_train_melt\n",
    "\n",
    "@memory.cache\n",
    "def join_w_prices(partition):\n",
    "    df_prices = pd.read_csv(f'{raw}/sell_prices.csv')\n",
    "    partition = partition.merge(\n",
    "        df_prices,\n",
    "        on=['store_id', 'item_id', 'wm_yr_wk'],\n",
    "        how='left'\n",
    "    )\n",
    "    partition['sell_price'] = partition['sell_price'].astype('float32')\n",
    "    partition['sales_dollars'] = (partition['sales'] * partition['sell_price']).astype('float32')\n",
    "    partition.fillna({'sales_dollars': 0}, inplace=True)\n",
    "    return partition\n",
    "\n",
    "from fastai.tabular import *\n",
    "from IPython.display import display\n",
    "\n",
    "\n",
    "def _wrmsse(y, val, trn):\n",
    "    pred = val.copy()\n",
    "    pred['sales_dollars'] = y\n",
    "    # TODO: rounding differently might be important for sporadic sales on lower-volume items\n",
    "    pred['sales'] = pred['sales_dollars'] / pred['sell_price']\n",
    "    pred['sales'].fillna(0, inplace=True)\n",
    "    pred['sales'] = pred['sales'].astype('int')\n",
    "    val_w_aggs = with_aggregate_series(val.copy())\n",
    "    trn_w_aggs = with_aggregate_series(trn.copy())\n",
    "    pred_w_aggs = with_aggregate_series(pred.copy())\n",
    "    score = wrmsse_total(\n",
    "        trn_w_aggs,\n",
    "        val_w_aggs,\n",
    "        pred_w_aggs\n",
    "    )\n",
    "    return score\n",
    "\n",
    "from fastai.callbacks import *\n",
    "# mega workaroundish way of plugging a metric func designed to work with all the data to run after each epoch \n",
    "# fast.ai is designed around per batch metrics + aggregating them\n",
    "class MyMetrics(LearnerCallback):\n",
    "    # should run before the recorder\n",
    "    _order = -30\n",
    "    def __init__(self, learn, trn, val):\n",
    "        super().__init__(learn)\n",
    "        self.trn = trn\n",
    "        self.val = val\n",
    "        self.learn = learn\n",
    "\n",
    "    def on_train_begin(self, **kwargs):\n",
    "        self.learn.recorder.add_metric_names(['wrmsse'])\n",
    "        pass\n",
    "    \n",
    "    def on_epoch_end(self, last_metrics, **kwargs):\n",
    "        # TODO: collect progress for a single val batch and make it available for display\n",
    "        # display(pd.DataFrame({'y_pred': y, 'y_val': val['sales_dollars']}).transpose())\n",
    "        rec = self.learn.recorder\n",
    "        preds, y_val = self.learn.get_preds(DatasetType.Valid)\n",
    "        y_pred = preds.numpy().flatten()\n",
    "        self.learn.recorder = rec\n",
    "        score = _wrmsse(y_pred, self.val, self.trn)\n",
    "        return {'last_metrics': last_metrics + [score]}\n",
    "    \n",
    "class SingleBatchProgressTracker(LearnerCallback):\n",
    "    # should run before the recorder\n",
    "    _order = -31\n",
    "    def __init__(self, learn, metric, metric_name):\n",
    "        self.learn = learn\n",
    "        self.batch = learn.data.one_batch(DatasetType.Train)\n",
    "        self.x = self.batch[0]\n",
    "        self.y_true = self.batch[1]\n",
    "        self.metric = metric\n",
    "        self.metric_name = metric_name\n",
    "        \n",
    "    def on_train_begin(self, **kwargs):\n",
    "        self.learn.recorder.add_metric_names([self.metric_name])\n",
    "        pass\n",
    "        \n",
    "    def on_epoch_end(self, last_metrics, **kwargs):\n",
    "        y_model = self.learn.model.forward(*self.x)\n",
    "        score = self.metric(self.y_true, y_model)\n",
    "        return {'last_metrics': last_metrics + [score]}\n",
    "\n",
    "def model_as_tabular(df_sales_train_melt, lr_find=False):\n",
    "    non_zero = df_sales_train_melt.query('sales_dollars > 0').reset_index(drop=True)\n",
    "    valid_idx = np.flatnonzero(non_zero['day_id'] > trn_days)\n",
    "\n",
    "    # TODO: this in fact is rather fragile and won't work without reset index above, can I do this differently?\n",
    "    val_mask = non_zero.index.isin(valid_idx)\n",
    "    val = non_zero[val_mask]\n",
    "    trn = non_zero[~val_mask]\n",
    "    print(f\"sample: {len(df_sales_train_melt)} non_zero: {len(non_zero)} trn: {len(trn)} val: {len(val)}\")\n",
    "\n",
    "    my_metrics_cb = partial(MyMetrics, val=val, trn=trn)\n",
    "    single_batch_metric = partial(SingleBatchProgressTracker, metric=rmse, metric_name='example_batch_rmse')\n",
    "\n",
    "    procs = [FillMissing, Categorify, Normalize]\n",
    "    dep_var = 'sales_dollars'\n",
    "    cat_names = ['item_id', 'dept_id', 'cat_id', 'store_id', 'state_id', 'month_id', 'id']\n",
    "    cols = cat_names + ['sell_price'] + [dep_var]\n",
    "\n",
    "    path ='./tmp'\n",
    "    data = TabularDataBunch.from_df(path, non_zero[cols], dep_var, valid_idx=valid_idx,\n",
    "                                    bs=256,\n",
    "                                    procs=procs, cat_names=cat_names)\n",
    "\n",
    "    sales_range = df_sales_train_melt.agg({dep_var: ['min', 'max']})\n",
    "    learn = tabular_learner(data, layers=[200,200,20,20], emb_szs=None, metrics=[rmse], \n",
    "                        y_range=sales_range[dep_var].values, callback_fns=[\n",
    "                            my_metrics_cb, \n",
    "                            single_batch_metric],\n",
    "                        use_bn=True,\n",
    "                        wd=0)\n",
    "    # Note to self: default wd seem to big - results converged to basically nothing in the first ep\n",
    "    if lr_find:\n",
    "        learn.lr_find()\n",
    "        fig = learn.recorder.plot(return_fig=True)\n",
    "        fig.savefig('lr_find.png')\n",
    "        !open lr_find.png\n",
    "    learn.fit_one_cycle(5, 1e-1)\n",
    "    fig = learn.recorder.plot_losses(return_fig=True)\n",
    "    fig.savefig('loss_log.png')\n",
    "\n",
    "    \"\"\"\n",
    "    the above is pretty unstable, still we sort of got it to overfit slightly\n",
    "    epoch     train_loss  valid_loss  root_mean_squared_error  time    \n",
    "    0         83.365913   53.201424   7.188121                 00:00                                                                                      \n",
    "    1         56.507870   55.011505   7.313859                 00:00                                                                                      \n",
    "    2         48.014706   55.011673   7.313872                 00:00                                                                                      \n",
    "    3         44.242149   55.001785   7.313148                 00:00                                                                                      \n",
    "    4         42.347946   57.570885   7.462979                 00:00 \n",
    "    epoch     train_loss  valid_loss  root_mean_squared_error  time    \n",
    "    0         99.312691   88.176826   9.289624                 00:00                                                                                      \n",
    "    1         53.812771   45.480507   6.625162                 00:00                                                                                      \n",
    "    2         35.418938   19.952007   4.353195                 00:00                                                                                      \n",
    "    3         23.099392   17.516432   4.008787                 00:00                                                                                      \n",
    "    4         17.082275   17.641117   4.019526                 00:00 \n",
    "    \"\"\"\n",
    "    return learn, trn, val\n",
    "\n",
    "sales_series = read_series_sample(n_sample_series)\n",
    "sales_series = melt_sales_series(sales_series)\n",
    "sales_series = extract_day_ids(sales_series)\n",
    "sales_series = join_w_calendar(sales_series)\n",
    "sales_series = join_w_prices(sales_series)\n",
    "learn, trn, val = model_as_tabular(sales_series)"
   ]
  },
  {
   "cell_type": "code",
   "execution_count": 49,
   "metadata": {
    "ExecuteTime": {
     "end_time": "2020-04-20T14:23:37.990434Z",
     "start_time": "2020-04-20T14:23:37.963485Z"
    }
   },
   "outputs": [],
   "source": [
    "from fastai.tabular import *"
   ]
  },
  {
   "cell_type": "code",
   "execution_count": 4,
   "metadata": {
    "ExecuteTime": {
     "end_time": "2020-04-20T12:42:33.994872Z",
     "start_time": "2020-04-20T12:42:33.590186Z"
    }
   },
   "outputs": [
    {
     "data": {
      "text/html": [],
      "text/plain": [
       "<IPython.core.display.HTML object>"
      ]
     },
     "metadata": {},
     "output_type": "display_data"
    }
   ],
   "source": [
    "preds, y_trn2 = learn.get_preds(DatasetType.Train)"
   ]
  },
  {
   "cell_type": "code",
   "execution_count": 5,
   "metadata": {
    "ExecuteTime": {
     "end_time": "2020-04-20T12:42:34.034646Z",
     "start_time": "2020-04-20T12:42:33.998108Z"
    },
    "scrolled": true
   },
   "outputs": [],
   "source": [
    "(cat_x, float_x), y_true = learn.data.one_batch(DatasetType.Train)"
   ]
  },
  {
   "cell_type": "code",
   "execution_count": 6,
   "metadata": {
    "ExecuteTime": {
     "end_time": "2020-04-20T12:42:34.064068Z",
     "start_time": "2020-04-20T12:42:34.036148Z"
    }
   },
   "outputs": [],
   "source": [
    "y_model = learn.model(cat_x, float_x)"
   ]
  },
  {
   "cell_type": "code",
   "execution_count": 7,
   "metadata": {
    "ExecuteTime": {
     "end_time": "2020-04-20T12:42:34.094773Z",
     "start_time": "2020-04-20T12:42:34.066130Z"
    }
   },
   "outputs": [
    {
     "data": {
      "text/plain": [
       "tensor(8.6365, grad_fn=<SqrtBackward>)"
      ]
     },
     "execution_count": 7,
     "metadata": {},
     "output_type": "execute_result"
    }
   ],
   "source": [
    "rmse(y_true, learn.model(cat_x, float_x))"
   ]
  },
  {
   "cell_type": "code",
   "execution_count": 8,
   "metadata": {
    "ExecuteTime": {
     "end_time": "2020-04-20T12:42:48.406842Z",
     "start_time": "2020-04-20T12:42:34.096301Z"
    }
   },
   "outputs": [
    {
     "data": {
      "text/html": [
       "\n",
       "    <div>\n",
       "        <style>\n",
       "            /* Turns off some styling */\n",
       "            progress {\n",
       "                /* gets rid of default border in Firefox and Opera. */\n",
       "                border: none;\n",
       "                /* Needs to be in here for Safari polyfill so background images work as expected. */\n",
       "                background-size: auto;\n",
       "            }\n",
       "            .progress-bar-interrupted, .progress-bar-interrupted::-webkit-progress-bar {\n",
       "                background: #F44336;\n",
       "            }\n",
       "        </style>\n",
       "      <progress value='1' class='' max='2', style='width:300px; height:20px; vertical-align: middle;'></progress>\n",
       "      50.00% [1/2 00:12<00:12]\n",
       "    </div>\n",
       "    \n",
       "<table border=\"1\" class=\"dataframe\">\n",
       "  <thead>\n",
       "    <tr style=\"text-align: left;\">\n",
       "      <th>epoch</th>\n",
       "      <th>train_loss</th>\n",
       "      <th>valid_loss</th>\n",
       "      <th>root_mean_squared_error</th>\n",
       "      <th>example_batch_rmse</th>\n",
       "      <th>wrmsse</th>\n",
       "      <th>time</th>\n",
       "    </tr>\n",
       "  </thead>\n",
       "  <tbody>\n",
       "    <tr>\n",
       "      <td>0</td>\n",
       "      <td>77.281425</td>\n",
       "      <td>#na#</td>\n",
       "      <td>9.958317</td>\n",
       "      <td>-1</td>\n",
       "      <td>00:12</td>\n",
       "    </tr>\n",
       "  </tbody>\n",
       "</table><p>\n",
       "\n",
       "    <div>\n",
       "        <style>\n",
       "            /* Turns off some styling */\n",
       "            progress {\n",
       "                /* gets rid of default border in Firefox and Opera. */\n",
       "                border: none;\n",
       "                /* Needs to be in here for Safari polyfill so background images work as expected. */\n",
       "                background-size: auto;\n",
       "            }\n",
       "            .progress-bar-interrupted, .progress-bar-interrupted::-webkit-progress-bar {\n",
       "                background: #F44336;\n",
       "            }\n",
       "        </style>\n",
       "      <progress value='7' class='' max='92', style='width:300px; height:20px; vertical-align: middle;'></progress>\n",
       "      7.61% [7/92 00:00<00:12 78.8417]\n",
       "    </div>\n",
       "    "
      ],
      "text/plain": [
       "<IPython.core.display.HTML object>"
      ]
     },
     "metadata": {},
     "output_type": "display_data"
    },
    {
     "data": {
      "text/html": [],
      "text/plain": [
       "<IPython.core.display.HTML object>"
      ]
     },
     "metadata": {},
     "output_type": "display_data"
    },
    {
     "data": {
      "text/html": [],
      "text/plain": [
       "<IPython.core.display.HTML object>"
      ]
     },
     "metadata": {},
     "output_type": "display_data"
    },
    {
     "name": "stdout",
     "output_type": "stream",
     "text": [
      "LR Finder is complete, type {learner_name}.recorder.plot() to see the graph.\n"
     ]
    },
    {
     "data": {
      "image/png": "[encoded data removed]",
      "text/plain": [
       "<Figure size 432x288 with 1 Axes>"
      ]
     },
     "metadata": {
      "needs_background": "light"
     },
     "output_type": "display_data"
    }
   ],
   "source": [
    "learn.lr_find()\n",
    "learn.recorder.plot()"
   ]
  },
  {
   "cell_type": "code",
   "execution_count": 22,
   "metadata": {
    "ExecuteTime": {
     "end_time": "2020-04-20T13:43:26.646453Z",
     "start_time": "2020-04-20T13:43:26.614281Z"
    },
    "scrolled": true
   },
   "outputs": [
    {
     "data": {
      "text/plain": [
       "False"
      ]
     },
     "execution_count": 22,
     "metadata": {},
     "output_type": "execute_result"
    }
   ],
   "source": [
    "learn.model.training"
   ]
  },
  {
   "cell_type": "code",
   "execution_count": 10,
   "metadata": {
    "ExecuteTime": {
     "end_time": "2020-04-20T12:43:01.438551Z",
     "start_time": "2020-04-20T12:43:01.402577Z"
    }
   },
   "outputs": [
    {
     "data": {
      "text/plain": [
       "tensor(8.6365, grad_fn=<SqrtBackward>)"
      ]
     },
     "execution_count": 10,
     "metadata": {},
     "output_type": "execute_result"
    }
   ],
   "source": [
    "rmse(y_true, learn.model(cat_x, float_x))"
   ]
  },
  {
   "cell_type": "code",
   "execution_count": 11,
   "metadata": {
    "ExecuteTime": {
     "end_time": "2020-04-20T12:43:01.652336Z",
     "start_time": "2020-04-20T12:43:01.440538Z"
    }
   },
   "outputs": [
    {
     "ename": "NameError",
     "evalue": "name 'y_trn' is not defined",
     "output_type": "error",
     "traceback": [
      "\u001b[0;31m---------------------------------------------------------------------------\u001b[0m",
      "\u001b[0;31mNameError\u001b[0m                                 Traceback (most recent call last)",
      "\u001b[0;32m<ipython-input-11-31831806a42d>\u001b[0m in \u001b[0;36m<module>\u001b[0;34m\u001b[0m\n\u001b[0;32m----> 1\u001b[0;31m \u001b[0mlen\u001b[0m\u001b[0;34m(\u001b[0m\u001b[0mpreds\u001b[0m\u001b[0;34m.\u001b[0m\u001b[0mabs\u001b[0m\u001b[0;34m(\u001b[0m\u001b[0;34m)\u001b[0m\u001b[0;34m.\u001b[0m\u001b[0mflatten\u001b[0m\u001b[0;34m(\u001b[0m\u001b[0;34m)\u001b[0m\u001b[0;34m.\u001b[0m\u001b[0mnumpy\u001b[0m\u001b[0;34m(\u001b[0m\u001b[0;34m)\u001b[0m\u001b[0;34m)\u001b[0m\u001b[0;34m,\u001b[0m \u001b[0mlen\u001b[0m\u001b[0;34m(\u001b[0m\u001b[0my_trn\u001b[0m\u001b[0;34m)\u001b[0m\u001b[0;34m,\u001b[0m \u001b[0mlen\u001b[0m\u001b[0;34m(\u001b[0m\u001b[0mtrn\u001b[0m\u001b[0;34m[\u001b[0m\u001b[0;34m'sales_dollars'\u001b[0m\u001b[0;34m]\u001b[0m\u001b[0;34m)\u001b[0m\u001b[0;34m,\u001b[0m\u001b[0mlen\u001b[0m\u001b[0;34m(\u001b[0m\u001b[0mval\u001b[0m\u001b[0;34m[\u001b[0m\u001b[0;34m'sales_dollars'\u001b[0m\u001b[0;34m]\u001b[0m\u001b[0;34m)\u001b[0m\u001b[0;34m,\u001b[0m\u001b[0;31m\\\u001b[0m\u001b[0;34m\u001b[0m\u001b[0;34m\u001b[0m\u001b[0m\n\u001b[0m\u001b[1;32m      2\u001b[0m \u001b[0mlen\u001b[0m\u001b[0;34m(\u001b[0m\u001b[0mtrn\u001b[0m\u001b[0;34m[\u001b[0m\u001b[0;34m'sales_dollars'\u001b[0m\u001b[0;34m]\u001b[0m\u001b[0;34m)\u001b[0m\u001b[0;34m-\u001b[0m\u001b[0mlen\u001b[0m\u001b[0;34m(\u001b[0m\u001b[0my_trn\u001b[0m\u001b[0;34m)\u001b[0m\u001b[0;34m\u001b[0m\u001b[0;34m\u001b[0m\u001b[0m\n",
      "\u001b[0;31mNameError\u001b[0m: name 'y_trn' is not defined"
     ]
    }
   ],
   "source": [
    "len(preds.abs().flatten().numpy()), len(y_trn), len(trn['sales_dollars']),len(val['sales_dollars']),\\\n",
    "len(trn['sales_dollars'])-len(y_trn)"
   ]
  },
  {
   "cell_type": "code",
   "execution_count": null,
   "metadata": {
    "ExecuteTime": {
     "end_time": "2020-04-20T12:43:01.656704Z",
     "start_time": "2020-04-20T12:41:50.094Z"
    }
   },
   "outputs": [],
   "source": [
    "y_pred = preds.abs().flatten().numpy()"
   ]
  },
  {
   "cell_type": "code",
   "execution_count": null,
   "metadata": {
    "ExecuteTime": {
     "end_time": "2020-04-20T12:43:01.657969Z",
     "start_time": "2020-04-20T12:41:50.097Z"
    }
   },
   "outputs": [],
   "source": [
    "pd.DataFrame({'y_pred': y_pred,\n",
    "              'y_true_dl': y_trn,\n",
    "              'y_true_dl2': y_trn2,\n",
    "              'y_trn': trn['sales_dollars'][:len(y_pred)]})             "
   ]
  },
  {
   "cell_type": "code",
   "execution_count": null,
   "metadata": {
    "ExecuteTime": {
     "end_time": "2020-04-20T12:43:01.659571Z",
     "start_time": "2020-04-20T12:41:50.100Z"
    }
   },
   "outputs": [],
   "source": [
    "tabular_learner??"
   ]
  },
  {
   "cell_type": "code",
   "execution_count": null,
   "metadata": {
    "ExecuteTime": {
     "end_time": "2020-04-20T12:43:01.661057Z",
     "start_time": "2020-04-20T12:41:50.101Z"
    }
   },
   "outputs": [],
   "source": [
    "(trn['sales_dollars'] == 0).sum() / float(len(trn))"
   ]
  },
  {
   "cell_type": "code",
   "execution_count": null,
   "metadata": {
    "ExecuteTime": {
     "end_time": "2020-04-20T12:43:01.662498Z",
     "start_time": "2020-04-20T12:41:50.103Z"
    },
    "scrolled": true
   },
   "outputs": [],
   "source": [
    "(val['sales_dollars'] == 0).sum() / float(len(val))"
   ]
  },
  {
   "cell_type": "code",
   "execution_count": null,
   "metadata": {
    "ExecuteTime": {
     "end_time": "2020-04-20T12:43:01.663599Z",
     "start_time": "2020-04-20T12:41:50.105Z"
    }
   },
   "outputs": [],
   "source": [
    "trn['sales_dollars'].hist()"
   ]
  },
  {
   "cell_type": "code",
   "execution_count": null,
   "metadata": {
    "ExecuteTime": {
     "end_time": "2020-04-20T12:43:01.664803Z",
     "start_time": "2020-04-20T12:41:50.107Z"
    }
   },
   "outputs": [],
   "source": [
    "val['sales_dollars'].hist()"
   ]
  },
  {
   "cell_type": "code",
   "execution_count": null,
   "metadata": {
    "ExecuteTime": {
     "end_time": "2020-04-20T12:43:01.666017Z",
     "start_time": "2020-04-20T12:41:50.109Z"
    },
    "scrolled": true
   },
   "outputs": [],
   "source": [
    "\"\"\"\n",
    "149.428452\t141.160263\t11.881088\t0\t00:03\n",
    "1\t92.145798\t141.160294\t11.881089\t0\t00:02\n",
    "2\t83.048798\t141.160248\t11.881088\t0\t00:02\n",
    "3\t82.048836\t141.160294\t11.881089\t0\t00:02\n",
    "4\t81.270966\t141.160294\t11.881089\t0\t00:02\n",
    "\n",
    "# preds don't seem to change with reruns\n",
    "tensor([13.9200,  1.9200,  1.4400,  5.9400,  8.3800, 32.4800,  0.9600,  8.3800,\n",
    "         9.2800,  0.4800,  5.9400])\n",
    "\"\"\"\n",
    "val['id'].value_counts().sort_index()"
   ]
  },
  {
   "cell_type": "code",
   "execution_count": null,
   "metadata": {
    "ExecuteTime": {
     "end_time": "2020-04-20T12:43:01.667258Z",
     "start_time": "2020-04-20T12:41:50.111Z"
    }
   },
   "outputs": [],
   "source": [
    "trn['id'].value_counts().sort_index()"
   ]
  },
  {
   "cell_type": "code",
   "execution_count": null,
   "metadata": {
    "ExecuteTime": {
     "end_time": "2020-04-20T12:43:01.668565Z",
     "start_time": "2020-04-20T12:41:50.112Z"
    }
   },
   "outputs": [],
   "source": [
    "pd.read_csv(f'{raw}/calendar.csv', nrows=1)"
   ]
  },
  {
   "cell_type": "code",
   "execution_count": null,
   "metadata": {
    "ExecuteTime": {
     "end_time": "2020-04-20T12:43:01.669731Z",
     "start_time": "2020-04-20T12:41:50.115Z"
    }
   },
   "outputs": [],
   "source": [
    "val"
   ]
  },
  {
   "cell_type": "code",
   "execution_count": null,
   "metadata": {
    "ExecuteTime": {
     "end_time": "2020-04-20T12:43:01.671051Z",
     "start_time": "2020-04-20T12:41:50.116Z"
    }
   },
   "outputs": [],
   "source": [
    "# Karpathy's process for DNN end-to-end skeleton setup\n",
    "# 0. Fix random seed\n",
    "# 1. Simplify (e.g. no augmentations other unnecessary features)\n",
    "# 2. When plotting the loss - run it over entire dataset\n",
    "# 3. Verify loss @ {{c1::init}}\n",
    "# 4. Init well\n",
    "# 5. Human baseline\n",
    "# 6. Input-independent baseline\n",
    "# 7. Overfit {{c2::one batch}}\n",
    "# 8. Verify decreasing training loss\n",
    "# 9. Visualize what's fed into {{c3::the neural part of the model (stats after normalization etc)}}\n",
    "# 10. Visualize prediction dynamics on {{c4::a single batch over the entire training}}\n",
    "# 11. Use backprop to chart dependencies: {{c1::set loss for example to be 1, run backprop on it and make sure you get non-zero gradient on just that example}}\n",
    "# 12. Start from a special case then generalize"
   ]
  }
 ],
 "metadata": {
  "kernelspec": {
   "display_name": "Python 3",
   "language": "python",
   "name": "python3"
  },
  "language_info": {
   "codemirror_mode": {
    "name": "ipython",
    "version": 3
   },
   "file_extension": ".py",
   "mimetype": "text/x-python",
   "name": "python",
   "nbconvert_exporter": "python",
   "pygments_lexer": "ipython3",
   "version": "3.7.7"
  },
  "notify_time": "10",
  "toc": {
   "base_numbering": 1,
   "nav_menu": {},
   "number_sections": true,
   "sideBar": true,
   "skip_h1_title": false,
   "title_cell": "Table of Contents",
   "title_sidebar": "Contents",
   "toc_cell": false,
   "toc_position": {},
   "toc_section_display": true,
   "toc_window_display": false
  },
  "varInspector": {
   "cols": {
    "lenName": 16,
    "lenType": 16,
    "lenVar": 40
   },
   "kernels_config": {
    "python": {
     "delete_cmd_postfix": "",
     "delete_cmd_prefix": "del ",
     "library": "var_list.py",
     "varRefreshCmd": "print(var_dic_list())"
    },
    "r": {
     "delete_cmd_postfix": ") ",
     "delete_cmd_prefix": "rm(",
     "library": "var_list.r",
     "varRefreshCmd": "cat(var_dic_list()) "
    }
   },
   "types_to_exclude": [
    "module",
    "function",
    "builtin_function_or_method",
    "instance",
    "_Feature"
   ],
   "window_display": false
  }
 },
 "nbformat": 4,
 "nbformat_minor": 2
}
