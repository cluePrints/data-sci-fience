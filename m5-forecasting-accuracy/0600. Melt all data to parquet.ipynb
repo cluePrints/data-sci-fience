{
 "cells": [
  {
   "cell_type": "code",
   "execution_count": 1,
   "metadata": {
    "ExecuteTime": {
     "end_time": "2020-05-31T23:06:36.067118Z",
     "start_time": "2020-05-31T23:06:36.031497Z"
    }
   },
   "outputs": [
    {
     "data": {
      "application/javascript": [
       "IPython.notebook.set_autosave_interval(60000)"
      ]
     },
     "metadata": {},
     "output_type": "display_data"
    },
    {
     "name": "stdout",
     "output_type": "stream",
     "text": [
      "Autosaving every 60 seconds\n"
     ]
    }
   ],
   "source": [
    "%load_ext autoreload\n",
    "%autoreload 2\n",
    "%autosave 60"
   ]
  },
  {
   "cell_type": "code",
   "execution_count": 9,
   "metadata": {
    "ExecuteTime": {
     "end_time": "2020-05-31T23:08:20.826388Z",
     "start_time": "2020-05-31T23:08:15.103694Z"
    }
   },
   "outputs": [
    {
     "name": "stderr",
     "output_type": "stream",
     "text": [
      "DEBUG [2020-05-31 16:08:18] root: Device: cpu\n"
     ]
    },
    {
     "name": "stdout",
     "output_type": "stream",
     "text": [
      "Parsing args\n"
     ]
    },
    {
     "name": "stderr",
     "output_type": "stream",
     "text": [
      " INFO [2020-05-31 16:08:20] root: Not running pipeline\n"
     ]
    },
    {
     "name": "stdout",
     "output_type": "stream",
     "text": [
      "Patching up DataFrame.copy\n"
     ]
    }
   ],
   "source": [
    "from ivanocode.pipeline.pipeline import *"
   ]
  },
  {
   "cell_type": "code",
   "execution_count": null,
   "metadata": {
    "ExecuteTime": {
     "end_time": "2020-05-31T23:23:56.842516Z",
     "start_time": "2020-05-31T23:08:58.344692Z"
    }
   },
   "outputs": [],
   "source": [
    "reproducibility_mode()\n",
    "sales_series = read_series_sample(n_total_series)\n",
    "sales_series = melt_sales_series(sales_series)\n",
    "sales_series = extract_day_ids(sales_series)\n",
    "sales_series = join_w_calendar(sales_series)\n",
    "sales_series = join_w_prices(sales_series)"
   ]
  },
  {
   "cell_type": "code",
   "execution_count": 19,
   "metadata": {
    "ExecuteTime": {
     "end_time": "2020-06-01T00:13:51.236927Z",
     "start_time": "2020-06-01T00:13:51.173920Z"
    }
   },
   "outputs": [],
   "source": [
    "encoders = {}"
   ]
  },
  {
   "cell_type": "code",
   "execution_count": 26,
   "metadata": {
    "ExecuteTime": {
     "end_time": "2020-06-01T00:20:03.796317Z",
     "start_time": "2020-06-01T00:19:28.872846Z"
    }
   },
   "outputs": [
    {
     "name": "stdout",
     "output_type": "stream",
     "text": [
      "id already encoded - skipping\n",
      "item_id already encoded - skipping\n",
      "dept_id already encoded - skipping\n",
      "cat_id already encoded - skipping\n",
      "store_id already encoded - skipping\n",
      "state_id already encoded - skipping\n",
      "day_date_str already encoded - skipping\n",
      "date already encoded - skipping\n",
      "<class 'pandas.core.frame.DataFrame'>\n",
      "Int64Index: 58327370 entries, 0 to 58327369\n",
      "Data columns (total 16 columns):\n",
      "id                   int64\n",
      "item_id              int64\n",
      "dept_id              int64\n",
      "cat_id               int64\n",
      "store_id             int64\n",
      "state_id             int64\n",
      "day_id               int16\n",
      "sales                int16\n",
      "day_date_str         int64\n",
      "month_id             int64\n",
      "date                 int64\n",
      "wm_yr_wk             int16\n",
      "snap_flag            int64\n",
      "sell_price           float32\n",
      "sales_dollars        float32\n",
      "parquet_partition    int64\n",
      "dtypes: float32(2), int16(3), int64(11)\n",
      "memory usage: 6.0 GB\n"
     ]
    }
   ],
   "source": [
    "sales_series['parquet_partition'] = np.random.randint(1, 300, sales_series.shape[0]).astype('uint8')\n",
    "from sklearn.preprocessing import LabelEncoder\n",
    "if 'day_date' in sales_series.columns:\n",
    "    sales_series.drop(['day_date'], axis=1, inplace=True)\n",
    "\n",
    "for col in sales_series.columns:\n",
    "    if col in encoders:\n",
    "        print(f'{col} already encoded - skipping')\n",
    "        continue\n",
    "\n",
    "    # petastorm can't read these\n",
    "    if str(sales_series[col].dtype) == 'uint8':\n",
    "        sales_series[col] = sales_series[col].astype('int')\n",
    "\n",
    "    if str(sales_series[col].dtype) in ['category', 'object']:\n",
    "        print(f'{col} - encoding')\n",
    "        enc = LabelEncoder()\n",
    "        sales_series[col] = enc.fit_transform(sales_series[col])\n",
    "        encoders[col] = enc\n",
    "\n",
    "sales_series.info()"
   ]
  },
  {
   "cell_type": "code",
   "execution_count": 28,
   "metadata": {
    "ExecuteTime": {
     "end_time": "2020-06-01T00:20:18.520528Z",
     "start_time": "2020-06-01T00:20:18.383553Z"
    }
   },
   "outputs": [],
   "source": [
    "for name, enc in encoders.items():\n",
    "    np.save(f'{name}.npy', enc.classes_)"
   ]
  },
  {
   "cell_type": "code",
   "execution_count": 29,
   "metadata": {
    "ExecuteTime": {
     "end_time": "2020-06-01T00:23:06.789732Z",
     "start_time": "2020-06-01T00:20:20.525626Z"
    }
   },
   "outputs": [],
   "source": [
    "# TODO: uint -> int, category/object -> int, day_date -> drop\n",
    "sales_series.to_parquet(\n",
    "    'sales_series_melt.parquet',\n",
    "    index=False,\n",
    "    partition_cols=['parquet_partition'],\n",
    "    row_group_size=1000\n",
    ")"
   ]
  },
  {
   "cell_type": "code",
   "execution_count": null,
   "metadata": {},
   "outputs": [],
   "source": []
  }
 ],
 "metadata": {
  "kernelspec": {
   "display_name": "Python 3",
   "language": "python",
   "name": "python3"
  },
  "language_info": {
   "codemirror_mode": {
    "name": "ipython",
    "version": 3
   },
   "file_extension": ".py",
   "mimetype": "text/x-python",
   "name": "python",
   "nbconvert_exporter": "python",
   "pygments_lexer": "ipython3",
   "version": "3.7.7"
  },
  "toc": {
   "base_numbering": 1,
   "nav_menu": {},
   "number_sections": true,
   "sideBar": true,
   "skip_h1_title": false,
   "title_cell": "Table of Contents",
   "title_sidebar": "Contents",
   "toc_cell": false,
   "toc_position": {},
   "toc_section_display": true,
   "toc_window_display": false
  },
  "varInspector": {
   "cols": {
    "lenName": 16,
    "lenType": 16,
    "lenVar": 40
   },
   "kernels_config": {
    "python": {
     "delete_cmd_postfix": "",
     "delete_cmd_prefix": "del ",
     "library": "var_list.py",
     "varRefreshCmd": "print(var_dic_list())"
    },
    "r": {
     "delete_cmd_postfix": ") ",
     "delete_cmd_prefix": "rm(",
     "library": "var_list.r",
     "varRefreshCmd": "cat(var_dic_list()) "
    }
   },
   "types_to_exclude": [
    "module",
    "function",
    "builtin_function_or_method",
    "instance",
    "_Feature"
   ],
   "window_display": false
  }
 },
 "nbformat": 4,
 "nbformat_minor": 4
}
