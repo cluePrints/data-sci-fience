{
  "nbformat": 4,
  "nbformat_minor": 0,
  "metadata": {
    "colab": {
      "name": "fast.ai 1.0.11 GPU collab example 2018-Oct-20",
      "version": "0.3.2",
      "provenance": [],
      "include_colab_link": true
    },
    "kernelspec": {
      "name": "python3",
      "display_name": "Python 3"
    },
    "accelerator": "GPU"
  },
  "cells": [
    {
      "cell_type": "markdown",
      "metadata": {
        "id": "view-in-github",
        "colab_type": "text"
      },
      "source": [
        "[View in Colaboratory](https://colab.research.google.com/github/cluePrints/data-sci-fience/blob/master/fast_ai_1_0_11_GPU_collab_example_2018_Oct_20.ipynb)"
      ]
    },
    {
      "metadata": {
        "id": "FKzgoQmZsbEG",
        "colab_type": "code",
        "colab": {}
      },
      "cell_type": "code",
      "source": [
        "import tensorflow as tf\n",
        "device = tf.test.gpu_device_name()\n",
        "assert 'GPU' in device, \"Expected device ({device}) to be GPU. Please follow Runtime > Change runtime type > GPU\".format(device=device)"
      ],
      "execution_count": 0,
      "outputs": []
    },
    {
      "metadata": {
        "id": "wS3HCf9ioaVD",
        "colab_type": "code",
        "colab": {
          "base_uri": "https://localhost:8080/",
          "height": 54
        },
        "outputId": "4dd1e4fa-7104-43fc-bf60-6eecc7808fd2"
      },
      "cell_type": "code",
      "source": [
        "!pip install torch_nightly -f https://download.pytorch.org/whl/nightly/cu92/torch_nightly.html --quiet"
      ],
      "execution_count": 8,
      "outputs": [
        {
          "output_type": "stream",
          "text": [
            "tcmalloc: large alloc 1073750016 bytes == 0x61680000 @  0x7f436611b2a4 0x594e17 0x626104 0x51190a 0x4f5277 0x510c78 0x5119bd 0x4f5277 0x4f3338 0x510fb0 0x5119bd 0x4f5277 0x4f3338 0x510fb0 0x5119bd 0x4f5277 0x4f3338 0x510fb0 0x5119bd 0x4f6070 0x510c78 0x5119bd 0x4f5277 0x4f3338 0x510fb0 0x5119bd 0x4f6070 0x4f3338 0x510fb0 0x5119bd 0x4f6070\n"
          ],
          "name": "stdout"
        }
      ]
    },
    {
      "metadata": {
        "id": "jyjFb43zorEd",
        "colab_type": "code",
        "outputId": "0a55a5aa-5ab3-4797-b293-4603c23c5884",
        "colab": {
          "base_uri": "https://localhost:8080/",
          "height": 51
        }
      },
      "cell_type": "code",
      "source": [
        "!pip install fastai --quiet"
      ],
      "execution_count": 9,
      "outputs": [
        {
          "output_type": "stream",
          "text": [
            "\u001b[31mtorchvision-nightly 0.2.1 has requirement pillow>=4.1.1, but you'll have pillow 4.0.0 which is incompatible.\u001b[0m\n",
            "\u001b[31mjupyter-console 6.0.0 has requirement prompt-toolkit<2.1.0,>=2.0.0, but you'll have prompt-toolkit 1.0.15 which is incompatible.\u001b[0m\n"
          ],
          "name": "stdout"
        }
      ]
    },
    {
      "metadata": {
        "id": "StfeQGXVxrG_",
        "colab_type": "code",
        "outputId": "08a64819-2eb2-4c31-cd70-3386f81790e1",
        "colab": {
          "base_uri": "https://localhost:8080/",
          "height": 2431
        }
      },
      "cell_type": "code",
      "source": [
        "!pip freeze"
      ],
      "execution_count": 10,
      "outputs": [
        {
          "output_type": "stream",
          "text": [
            "absl-py==0.5.0\n",
            "altair==2.2.2\n",
            "astor==0.7.1\n",
            "beautifulsoup4==4.6.3\n",
            "bleach==3.0.2\n",
            "cachetools==2.1.0\n",
            "certifi==2018.10.15\n",
            "chardet==3.0.4\n",
            "crcmod==1.7\n",
            "cycler==0.10.0\n",
            "cymem==2.0.2\n",
            "cytoolz==0.9.0.1\n",
            "dataclasses==0.6\n",
            "decorator==4.3.0\n",
            "defusedxml==0.5.0\n",
            "dill==0.2.8.2\n",
            "entrypoints==0.2.3\n",
            "fastai==1.0.11\n",
            "fastprogress==0.1.10\n",
            "filelock==3.0.9\n",
            "future==0.16.0\n",
            "gast==0.2.0\n",
            "google-api-core==1.5.0\n",
            "google-api-python-client==1.6.7\n",
            "google-auth==1.4.2\n",
            "google-auth-httplib2==0.0.3\n",
            "google-auth-oauthlib==0.2.0\n",
            "google-cloud-bigquery==1.1.0\n",
            "google-cloud-core==0.28.1\n",
            "google-cloud-language==1.0.2\n",
            "google-cloud-storage==1.8.0\n",
            "google-cloud-translate==1.3.1\n",
            "google-colab==0.0.1a1\n",
            "google-resumable-media==0.3.1\n",
            "googleapis-common-protos==1.5.3\n",
            "grpcio==1.15.0\n",
            "h5py==2.8.0\n",
            "httplib2==0.11.3\n",
            "idna==2.6\n",
            "ipykernel==4.6.1\n",
            "ipython==5.5.0\n",
            "ipython-genutils==0.2.0\n",
            "ipywidgets==7.4.2\n",
            "Jinja2==2.10\n",
            "joblib==0.12.5\n",
            "jsonschema==2.6.0\n",
            "jupyter==1.0.0\n",
            "jupyter-client==5.2.3\n",
            "jupyter-console==6.0.0\n",
            "jupyter-core==4.4.0\n",
            "Keras==2.1.6\n",
            "Keras-Applications==1.0.6\n",
            "Keras-Preprocessing==1.0.5\n",
            "Markdown==3.0.1\n",
            "MarkupSafe==1.0\n",
            "matplotlib==2.1.2\n",
            "mistune==0.8.4\n",
            "mpmath==1.0.0\n",
            "msgpack==0.5.6\n",
            "msgpack-numpy==0.4.3.2\n",
            "murmurhash==1.0.1\n",
            "nbconvert==5.4.0\n",
            "nbformat==4.4.0\n",
            "networkx==2.2\n",
            "nltk==3.2.5\n",
            "notebook==5.2.2\n",
            "numpy==1.15.2\n",
            "oauth2client==4.1.3\n",
            "oauthlib==2.1.0\n",
            "olefile==0.46\n",
            "opencv-python==3.4.3.18\n",
            "pandas==0.22.0\n",
            "pandas-gbq==0.4.1\n",
            "pandocfilters==1.4.2\n",
            "patsy==0.5.0\n",
            "pexpect==4.6.0\n",
            "pickleshare==0.7.5\n",
            "Pillow==4.0.0\n",
            "plac==0.9.6\n",
            "plotly==1.12.12\n",
            "pluggy==0.8.0\n",
            "portpicker==1.2.0\n",
            "preshed==2.0.1\n",
            "prompt-toolkit==1.0.15\n",
            "protobuf==3.6.1\n",
            "psutil==5.4.7\n",
            "ptyprocess==0.6.0\n",
            "py==1.7.0\n",
            "pyasn1==0.4.4\n",
            "pyasn1-modules==0.2.2\n",
            "Pygments==2.1.3\n",
            "pygobject==3.26.1\n",
            "pymc3==3.5\n",
            "pyparsing==2.2.2\n",
            "pystache==0.5.4\n",
            "python-apt==1.6.2\n",
            "python-dateutil==2.5.3\n",
            "pytz==2018.5\n",
            "PyWavelets==1.0.1\n",
            "PyYAML==3.13\n",
            "pyzmq==16.0.4\n",
            "qtconsole==4.4.2\n",
            "regex==2018.1.10\n",
            "requests==2.18.4\n",
            "requests-oauthlib==1.0.0\n",
            "rsa==4.0\n",
            "scikit-image==0.13.1\n",
            "scikit-learn==0.19.2\n",
            "scipy==0.19.1\n",
            "seaborn==0.7.1\n",
            "simplegeneric==0.8.1\n",
            "six==1.11.0\n",
            "spacy==2.0.16\n",
            "statsmodels==0.8.0\n",
            "sympy==1.1.1\n",
            "tensorboard==1.11.0\n",
            "tensorflow==1.12.0rc1\n",
            "tensorflow-hub==0.1.1\n",
            "termcolor==1.1.0\n",
            "terminado==0.8.1\n",
            "testpath==0.4.2\n",
            "Theano==1.0.3\n",
            "thinc==6.12.0\n",
            "toml==0.10.0\n",
            "toolz==0.9.0\n",
            "torch-nightly==1.0.0.dev20181019\n",
            "torchvision-nightly==0.2.1\n",
            "tornado==4.5.3\n",
            "tqdm==4.27.0\n",
            "traitlets==4.3.2\n",
            "typing==3.6.6\n",
            "ujson==1.35\n",
            "uritemplate==3.0.0\n",
            "urllib3==1.22\n",
            "vega-datasets==0.5.0\n",
            "virtualenv==16.0.0\n",
            "wcwidth==0.1.7\n",
            "webencodings==0.5.1\n",
            "Werkzeug==0.14.1\n",
            "widgetsnbextension==3.4.2\n",
            "wrapt==1.10.11\n",
            "xgboost==0.7.post4\n"
          ],
          "name": "stdout"
        }
      ]
    },
    {
      "metadata": {
        "id": "1HnBK-dSu0ic",
        "colab_type": "code",
        "colab": {}
      },
      "cell_type": "code",
      "source": [
        "import torchvision.models as tvm\n",
        "from fastai import *\n",
        "from fastai.vision import *\n",
        "from fastai.vision.data import *"
      ],
      "execution_count": 0,
      "outputs": []
    },
    {
      "metadata": {
        "id": "XX0w8Zw3ELa5",
        "colab_type": "code",
        "colab": {}
      },
      "cell_type": "code",
      "source": [
        "!mkdir -p data && ls dogscats.zip 2>/dev/null >/dev/null || $(wget --quiet files.fast.ai/data/dogscats.zip && unzip -qq dogscats.zip -d data/)"
      ],
      "execution_count": 0,
      "outputs": []
    },
    {
      "metadata": {
        "id": "HyWwXEfaA4u3",
        "colab_type": "code",
        "outputId": "b5b2e78b-2fa8-4205-c0d5-f6ddfbdbfa02",
        "colab": {
          "base_uri": "https://localhost:8080/",
          "height": 34
        }
      },
      "cell_type": "code",
      "source": [
        "!find data | wc -l"
      ],
      "execution_count": 13,
      "outputs": [
        {
          "output_type": "stream",
          "text": [
            "37543\n"
          ],
          "name": "stdout"
        }
      ]
    },
    {
      "metadata": {
        "id": "REM4RFweqF4Y",
        "colab_type": "code",
        "outputId": "eccad0b1-9ef8-468b-d7d4-52e84cfc74c2",
        "colab": {
          "base_uri": "https://localhost:8080/",
          "height": 34
        }
      },
      "cell_type": "code",
      "source": [
        "ls data/dogscats"
      ],
      "execution_count": 14,
      "outputs": [
        {
          "output_type": "stream",
          "text": [
            "\u001b[0m\u001b[01;34mmodels\u001b[0m/  \u001b[01;34msample\u001b[0m/  \u001b[01;34mtest1\u001b[0m/  \u001b[01;34mtrain\u001b[0m/  \u001b[01;34mvalid\u001b[0m/\n"
          ],
          "name": "stdout"
        }
      ]
    },
    {
      "metadata": {
        "id": "Bbs30bWhA7zQ",
        "colab_type": "code",
        "outputId": "09c24305-5dcb-4a56-f308-ba9b3863422a",
        "colab": {
          "base_uri": "https://localhost:8080/",
          "height": 226
        }
      },
      "cell_type": "code",
      "source": [
        "# num_workers is important, otherwise lack of `/dev/shm` memory \n",
        "data = ImageDataBunch.from_folder(\"data/dogscats\", ds_tfms=get_transforms(), tfms=imagenet_norm, size=224, num_workers=0)\n",
        "img,label = data.valid_ds[-1]\n",
        "img.show(title=data.classes[label])"
      ],
      "execution_count": 19,
      "outputs": [
        {
          "output_type": "display_data",
          "data": {
            "image/png": "[encoded data removed]",
            "text/plain": [
              "<matplotlib.figure.Figure at 0x7f00095c19b0>"
            ]
          },
          "metadata": {
            "tags": []
          }
        }
      ]
    },
    {
      "metadata": {
        "id": "rk07NuRdp1_u",
        "colab_type": "code",
        "outputId": "386a839a-fa21-488c-afb0-0fd21aed2e10",
        "colab": {
          "base_uri": "https://localhost:8080/",
          "height": 85
        }
      },
      "cell_type": "code",
      "source": [
        "learn = ConvLearner(data, models.resnet34, metrics=accuracy)\n",
        "%time learn.fit_one_cycle(1)"
      ],
      "execution_count": 24,
      "outputs": [
        {
          "output_type": "stream",
          "text": [
            "epoch  train loss  valid loss  accuracy\n",
            "1      0.046994    0.025339    0.991500\n",
            "CPU times: user 8min 1s, sys: 55.9 s, total: 8min 57s\n",
            "Wall time: 8min 58s\n"
          ],
          "name": "stdout"
        }
      ]
    },
    {
      "metadata": {
        "id": "Onsc60MnE-QF",
        "colab_type": "code",
        "outputId": "6535468e-4437-43cc-f3b0-104d58d29e18",
        "colab": {
          "base_uri": "https://localhost:8080/",
          "height": 153
        }
      },
      "cell_type": "code",
      "source": [
        "!df -h"
      ],
      "execution_count": 0,
      "outputs": [
        {
          "output_type": "stream",
          "text": [
            "Filesystem      Size  Used Avail Use% Mounted on\n",
            "overlay          40G   11G   27G  28% /\n",
            "tmpfs           6.4G     0  6.4G   0% /dev\n",
            "tmpfs           6.4G     0  6.4G   0% /sys/fs/cgroup\n",
            "tmpfs           6.4G     0  6.4G   0% /var/colab\n",
            "/dev/sda1        46G   12G   34G  26% /etc/hosts\n",
            "shm              64M  4.0K   64M   1% /dev/shm\n",
            "tmpfs           6.4G     0  6.4G   0% /sys/firmware\n"
          ],
          "name": "stdout"
        }
      ]
    },
    {
      "metadata": {
        "id": "82g-uYVTqpDE",
        "colab_type": "code",
        "colab": {}
      },
      "cell_type": "code",
      "source": [
        ""
      ],
      "execution_count": 0,
      "outputs": []
    }
  ]
}