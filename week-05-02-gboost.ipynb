{
 "cells": [
  {
   "cell_type": "markdown",
   "metadata": {},
   "source": [
    "Я тут роблю Assignment: Градиентный бустинг над решающими деревьями з \"Введение в машинное обучение\" на Coursera від Яндекса\n",
    "2 з 3 прийнято і з 3ім я не знаю чо так :(\n",
    "\n",
    "Нижче мій код + текст завданнь"
   ]
  },
  {
   "cell_type": "code",
   "execution_count": 1,
   "metadata": {
    "collapsed": false
   },
   "outputs": [],
   "source": [
    "import matplotlib.pyplot as plt\n",
    "%matplotlib inline\n",
    "import pandas as pd\n",
    "import numpy as np\n",
    "import math"
   ]
  },
  {
   "cell_type": "code",
   "execution_count": 2,
   "metadata": {
    "collapsed": false
   },
   "outputs": [
    {
     "data": {
      "text/html": [
       "<div>\n",
       "<table border=\"1\" class=\"dataframe\">\n",
       "  <thead>\n",
       "    <tr style=\"text-align: right;\">\n",
       "      <th></th>\n",
       "      <th>Activity</th>\n",
       "      <th>D1</th>\n",
       "      <th>D2</th>\n",
       "      <th>D3</th>\n",
       "      <th>D4</th>\n",
       "      <th>D5</th>\n",
       "      <th>D6</th>\n",
       "      <th>D7</th>\n",
       "      <th>D8</th>\n",
       "      <th>D9</th>\n",
       "      <th>...</th>\n",
       "      <th>D1767</th>\n",
       "      <th>D1768</th>\n",
       "      <th>D1769</th>\n",
       "      <th>D1770</th>\n",
       "      <th>D1771</th>\n",
       "      <th>D1772</th>\n",
       "      <th>D1773</th>\n",
       "      <th>D1774</th>\n",
       "      <th>D1775</th>\n",
       "      <th>D1776</th>\n",
       "    </tr>\n",
       "  </thead>\n",
       "  <tbody>\n",
       "    <tr>\n",
       "      <th>0</th>\n",
       "      <td>1</td>\n",
       "      <td>0.0</td>\n",
       "      <td>0.497009</td>\n",
       "      <td>0.1</td>\n",
       "      <td>0.0</td>\n",
       "      <td>0.132956</td>\n",
       "      <td>0.678031</td>\n",
       "      <td>0.273166</td>\n",
       "      <td>0.585445</td>\n",
       "      <td>0.743663</td>\n",
       "      <td>...</td>\n",
       "      <td>0</td>\n",
       "      <td>0</td>\n",
       "      <td>0</td>\n",
       "      <td>0</td>\n",
       "      <td>0</td>\n",
       "      <td>0</td>\n",
       "      <td>0</td>\n",
       "      <td>0</td>\n",
       "      <td>0</td>\n",
       "      <td>0</td>\n",
       "    </tr>\n",
       "  </tbody>\n",
       "</table>\n",
       "<p>1 rows × 1777 columns</p>\n",
       "</div>"
      ],
      "text/plain": [
       "   Activity   D1        D2   D3   D4        D5        D6        D7        D8  \\\n",
       "0         1  0.0  0.497009  0.1  0.0  0.132956  0.678031  0.273166  0.585445   \n",
       "\n",
       "         D9  ...    D1767  D1768  D1769  D1770  D1771  D1772  D1773  D1774  \\\n",
       "0  0.743663  ...        0      0      0      0      0      0      0      0   \n",
       "\n",
       "   D1775  D1776  \n",
       "0      0      0  \n",
       "\n",
       "[1 rows x 1777 columns]"
      ]
     },
     "execution_count": 2,
     "metadata": {},
     "output_type": "execute_result"
    }
   ],
   "source": [
    "data = pd.read_csv(\"gbm-data.csv\")\n",
    "data.head(1)"
   ]
  },
  {
   "cell_type": "code",
   "execution_count": 3,
   "metadata": {
    "collapsed": false
   },
   "outputs": [],
   "source": [
    "data_array = data.values\n",
    "Y = data_array[:,0]\n",
    "X = data_array[:,1:]"
   ]
  },
  {
   "cell_type": "code",
   "execution_count": 7,
   "metadata": {
    "collapsed": false
   },
   "outputs": [],
   "source": [
    "from sklearn.cross_validation import train_test_split \n",
    "from sklearn.ensemble import RandomForestClassifier"
   ]
  },
  {
   "cell_type": "markdown",
   "metadata": {},
   "source": [
    "#### 1. Загрузите выборку из файла gbm-data.csv с помощью pandas\n",
    "\n",
    "...и преобразуйте ее в массив numpy (параметр values у датафрейма). В первой колонке файла с данными записано, была или нет реакция. Все остальные колонки (d1 - d1776) содержат различные характеристики молекулы, такие как размер, форма и т.д. Разбейте выборку на обучающую и тестовую, используя функцию train_test_split с параметрами test_size = 0.8 и random_state = 241."
   ]
  },
  {
   "cell_type": "code",
   "execution_count": 8,
   "metadata": {
    "collapsed": false
   },
   "outputs": [],
   "source": [
    "data = pd.read_csv(\"gbm-data.csv\")\n",
    "data_array = data.values\n",
    "Y = data_array[:,0]\n",
    "X = data_array[:,1:]\n",
    "X_train, X_test, Y_train, Y_test = train_test_split(X, Y, test_size=0.8, random_state=241)"
   ]
  },
  {
   "cell_type": "markdown",
   "metadata": {},
   "source": []
  },
  {
   "cell_type": "code",
   "execution_count": null,
   "metadata": {
    "collapsed": true
   },
   "outputs": [],
   "source": []
  },
  {
   "cell_type": "markdown",
   "metadata": {},
   "source": [
    "#### 2. Обучите GradientBoostingClassifier с параметрами n_estimators=250, verbose=True, random_state=241 \n",
    "...и для каждого значения learning_rate из списка [1, 0.5, 0.3, 0.2, 0.1] проделайте следующее:\n",
    "* Используйте метод staged_decision_function для предсказания качества на обучающей и тестовой выборке на каждой итерации.\n",
    "* Преобразуйте полученное предсказание с помощью сигмоидной функции по формуле 1 / (1 + e^{−y_pred}), где y_pred — предсказаное значение.\n",
    "* Вычислите и постройте график значений log-loss (которую можно посчитать с помощью функции sklearn.metrics.log_loss) на обучающей и тестовой выборках, а также найдите минимальное значение метрики и номер итерации, на которой оно достигается."
   ]
  },
  {
   "cell_type": "code",
   "execution_count": 9,
   "metadata": {
    "collapsed": false
   },
   "outputs": [],
   "source": [
    "from sklearn.ensemble import GradientBoostingClassifier"
   ]
  },
  {
   "cell_type": "code",
   "execution_count": 10,
   "metadata": {
    "collapsed": false
   },
   "outputs": [],
   "source": [
    "from sklearn.metrics import log_loss\n",
    "def experiment(learning_rate):\n",
    "    clf = GradientBoostingClassifier(n_estimators=250, verbose=True, learning_rate = learning_rate)\n",
    "    clf.fit(X_train, Y_train)\n",
    "    scores_train = np.array([a for a in clf.staged_decision_function(X_train)])[:,:,0]\n",
    "    scores_test = np.array([a for a in clf.staged_decision_function(X_test)])[:,:,0]\n",
    "    predicted_train = 1/(1+np.exp(-scores_train))\n",
    "    predicted_test = 1/(1+np.exp(-scores_test))\n",
    "    train_loss = np.apply_along_axis(lambda row: log_loss(Y_train, row), 1, predicted_train)\n",
    "    plt.plot(train_loss)\n",
    "\n",
    "    test_loss = np.apply_along_axis(lambda row: log_loss(Y_test, row), 1, predicted_test)\n",
    "    min_loss_pos = test_loss.argmin()\n",
    "    min_loss_val = test_loss[min_loss_pos]\n",
    "    plt.plot(test_loss)\n",
    "    plt.title(\"Min loss \" + str(min_loss_val) + \" is at pos \" + str(min_loss_pos))\n",
    "    plt.axvline(x=min_loss_pos)"
   ]
  },
  {
   "cell_type": "code",
   "execution_count": 11,
   "metadata": {
    "collapsed": false
   },
   "outputs": [
    {
     "name": "stdout",
     "output_type": "stream",
     "text": [
      "      Iter       Train Loss   Remaining Time \n",
      "         1           1.2613           13.07s\n",
      "         2           1.1713           12.49s\n",
      "         3           1.1007           12.09s\n",
      "         4           1.0524           12.12s\n",
      "         5           1.0125           12.55s\n",
      "         6           0.9736           12.38s\n",
      "         7           0.9441           12.13s\n",
      "         8           0.9194           11.54s\n",
      "         9           0.8950           11.44s\n",
      "        10           0.8786           11.08s\n",
      "        20           0.7166            9.07s\n",
      "        30           0.5979            8.50s\n",
      "        40           0.5150            8.04s\n",
      "        50           0.4578            7.56s\n",
      "        60           0.3984            7.13s\n",
      "        70           0.3420            6.79s\n",
      "        80           0.3078            6.39s\n",
      "        90           0.2588            6.05s\n",
      "       100           0.2241            5.70s\n",
      "       200           0.0767            1.94s\n"
     ]
    },
    {
     "data": {
      "image/png": "[encoded data removed]",
      "text/plain": [
       "<matplotlib.figure.Figure at 0x119050c90>"
      ]
     },
     "metadata": {},
     "output_type": "display_data"
    }
   ],
   "source": [
    "experiment(0.2)"
   ]
  },
  {
   "cell_type": "code",
   "execution_count": 12,
   "metadata": {
    "collapsed": false
   },
   "outputs": [
    {
     "name": "stdout",
     "output_type": "stream",
     "text": [
      "      Iter       Train Loss   Remaining Time \n",
      "         1           1.1255           11.83s\n",
      "         2           1.0043           11.90s\n",
      "         3           0.9388           12.00s\n",
      "         4           0.8902           11.07s\n",
      "         5           0.8324           10.75s\n",
      "         6           0.7897           10.30s\n",
      "         7           0.7510            9.88s\n",
      "         8           0.7200            9.51s\n",
      "         9           0.7052            9.15s\n",
      "        10           0.6658            9.13s\n",
      "        20           0.4941            8.19s\n",
      "        30           0.3607            7.96s\n",
      "        40           0.2525            7.73s\n",
      "        50           0.1863            7.42s\n",
      "        60           0.1461            7.00s\n",
      "        70           0.1113            6.63s\n",
      "        80           0.0902            6.38s\n",
      "        90           0.0709            6.02s\n",
      "       100           0.0543            5.66s\n",
      "       200           0.0050            1.92s\n"
     ]
    },
    {
     "data": {
      "image/png": "[encoded data removed]",
      "text/plain": [
       "<matplotlib.figure.Figure at 0x1197814d0>"
      ]
     },
     "metadata": {},
     "output_type": "display_data"
    }
   ],
   "source": [
    "experiment(0.5)"
   ]
  },
  {
   "cell_type": "code",
   "execution_count": 162,
   "metadata": {
    "collapsed": false
   },
   "outputs": [
    {
     "name": "stdout",
     "output_type": "stream",
     "text": [
      "      Iter       Train Loss   Remaining Time \n",
      "         1           1.2095           12.39s\n",
      "         2           1.1006           12.00s\n",
      "         3           1.0240           11.92s\n",
      "         4           0.9729           12.04s\n",
      "         5           0.9387           11.27s\n",
      "         6           0.8948           11.39s\n",
      "         7           0.8621           10.97s\n",
      "         8           0.8360           10.43s\n",
      "         9           0.8171           10.04s\n",
      "        10           0.7883            9.75s\n",
      "        20           0.6164            8.44s\n",
      "        30           0.4933            7.89s\n",
      "        40           0.4248            7.21s\n",
      "        50           0.3345            7.03s\n",
      "        60           0.2760            6.66s\n",
      "        70           0.2263            6.33s\n",
      "        80           0.1971            5.87s\n",
      "        90           0.1693            5.54s\n",
      "       100           0.1388            5.25s\n",
      "       200           0.0294            1.79s\n"
     ]
    },
    {
     "data": {
      "image/png": "[encoded data removed]",
      "text/plain": [
       "<matplotlib.figure.Figure at 0x11cc12290>"
      ]
     },
     "metadata": {},
     "output_type": "display_data"
    }
   ],
   "source": [
    "expermiment(0.3)"
   ]
  },
  {
   "cell_type": "code",
   "execution_count": 13,
   "metadata": {
    "collapsed": false
   },
   "outputs": [
    {
     "name": "stdout",
     "output_type": "stream",
     "text": [
      "      Iter       Train Loss   Remaining Time \n",
      "         1           1.2613           12.53s\n",
      "         2           1.1713           12.38s\n",
      "         3           1.1007           12.18s\n",
      "         4           1.0524           12.20s\n",
      "         5           1.0125           12.61s\n",
      "         6           0.9736           12.50s\n",
      "         7           0.9441           12.31s\n",
      "         8           0.9194           11.82s\n",
      "         9           0.8950           11.84s\n",
      "        10           0.8786           11.40s\n",
      "        20           0.7166            9.73s\n",
      "        30           0.5979            9.32s\n",
      "        40           0.5150            8.69s\n",
      "        50           0.4578            8.02s\n",
      "        60           0.3984            7.50s\n",
      "        70           0.3420            7.08s\n",
      "        80           0.3078            6.61s\n",
      "        90           0.2588            6.25s\n",
      "       100           0.2241            5.88s\n",
      "       200           0.0767            1.99s\n"
     ]
    },
    {
     "data": {
      "image/png": "[encoded data removed]",
      "text/plain": [
       "<matplotlib.figure.Figure at 0x118581ad0>"
      ]
     },
     "metadata": {},
     "output_type": "display_data"
    }
   ],
   "source": [
    "experiment(0.2)"
   ]
  },
  {
   "cell_type": "code",
   "execution_count": 14,
   "metadata": {
    "collapsed": false
   },
   "outputs": [
    {
     "name": "stdout",
     "output_type": "stream",
     "text": [
      "      Iter       Train Loss   Remaining Time \n",
      "         1           1.3199           12.41s\n",
      "         2           1.2644           12.66s\n",
      "         3           1.2169           12.41s\n",
      "         4           1.1774           12.20s\n",
      "         5           1.1405           12.08s\n",
      "         6           1.1100           12.02s\n",
      "         7           1.0833           12.06s\n",
      "         8           1.0612           11.89s\n",
      "         9           1.0399           11.82s\n",
      "        10           1.0218           11.79s\n",
      "        20           0.8811           10.68s\n",
      "        30           0.7842            9.69s\n",
      "        40           0.7114            8.98s\n",
      "        50           0.6590            8.32s\n",
      "        60           0.6039            7.79s\n",
      "        70           0.5522            7.34s\n",
      "        80           0.5217            6.82s\n",
      "        90           0.4847            6.34s\n",
      "       100           0.4550            5.90s\n",
      "       200           0.2401            1.94s\n"
     ]
    },
    {
     "data": {
      "image/png": "[encoded data removed]",
      "text/plain": [
       "<matplotlib.figure.Figure at 0x119520750>"
      ]
     },
     "metadata": {},
     "output_type": "display_data"
    }
   ],
   "source": [
    "experiment(0.1)"
   ]
  },
  {
   "cell_type": "markdown",
   "metadata": {},
   "source": [
    "### 3. Как можно охарактеризовать график качества на тестовой выборке, начиная с некоторой итерации \n",
    "переобучение (overfitting) или недообучение (underfitting)? В ответе укажите одно из слов overfitting либо underfitting.\n",
    "\n",
    "##### Answer 1, accepted\n",
    "\n",
    "````\n",
    "    overfitting\n",
    "````"
   ]
  },
  {
   "cell_type": "markdown",
   "metadata": {},
   "source": [
    "### 4. Приведите минимальное значение log-loss на тестовой выборке\n",
    "... и номер итерации, на котором оно достигается, при learning_rate = 0.2.\n",
    "\n",
    "###### Answer 2, accepted (from the experiment(0.2) graph)\n",
    "\n",
    "    0.53 18"
   ]
  },
  {
   "cell_type": "markdown",
   "metadata": {},
   "source": [
    "### 5. На этих же данных обучите RandomForestClassifier\n",
    "с количеством деревьев, равным количеству итераций, на котором достигается наилучшее качество у градиентного бустинга из предыдущего пункта, c random_state=241 и остальными параметрами по умолчанию. Какое значение log-loss на тесте получается у этого случайного леса? (Не забывайте, что предсказания нужно получать с помощью функции predict_proba. В данном случае брать сигмоиду от оценки вероятности класса не нужно)"
   ]
  },
  {
   "cell_type": "code",
   "execution_count": 17,
   "metadata": {
    "collapsed": false
   },
   "outputs": [],
   "source": [
    "from sklearn.ensemble import RandomForestClassifier "
   ]
  },
  {
   "cell_type": "code",
   "execution_count": 18,
   "metadata": {
    "collapsed": false
   },
   "outputs": [
    {
     "data": {
      "text/plain": [
       "0.60387393326797167"
      ]
     },
     "execution_count": 18,
     "metadata": {},
     "output_type": "execute_result"
    }
   ],
   "source": [
    "clf = RandomForestClassifier(random_state=241, n_estimators=18)\n",
    "clf.fit(X_train, Y_train)\n",
    "predicted = clf.predict_proba(X_test)\n",
    "log_loss(Y_test, predicted)"
   ]
  },
  {
   "cell_type": "markdown",
   "metadata": {
    "collapsed": false
   },
   "source": [
    "### Answer 3, declined :(\n",
    "\n",
    "    0.60\n",
    "    \n",
    "    \n",
    "I've also tried:\n",
    "* made sure there's no \\n\n",
    "* n_estimators=19 (e.g. number vs index)\n",
    "* grid searching n_estimators from 0 to 51 and sumbitting 0.58,0.59,0.61,0.62\n",
    "* submitting estimate for inverse classes (2.09)\n",
    "* sent them a note, received the following\n",
    "\n",
    "    Данный ответ неверен. Мы рекомендуем Вам ещё раз внимательно проверить правильность выполнения каждого шага задания."
   ]
  },
  {
   "cell_type": "markdown",
   "metadata": {
    "collapsed": false
   },
   "source": [
    "### What should I try next, friend?"
   ]
  },
  {
   "cell_type": "code",
   "execution_count": null,
   "metadata": {
    "collapsed": true
   },
   "outputs": [],
   "source": []
  }
 ],
 "metadata": {
  "kernelspec": {
   "display_name": "Python 2",
   "language": "python",
   "name": "python2"
  },
  "language_info": {
   "codemirror_mode": {
    "name": "ipython",
    "version": 2
   },
   "file_extension": ".py",
   "mimetype": "text/x-python",
   "name": "python",
   "nbconvert_exporter": "python",
   "pygments_lexer": "ipython2",
   "version": "2.7.8"
  }
 },
 "nbformat": 4,
 "nbformat_minor": 0
}
