{
 "cells": [
  {
   "cell_type": "code",
   "execution_count": 1,
   "metadata": {
    "collapsed": true
   },
   "outputs": [],
   "source": [
    "import os\n",
    "_origlistdir = os.listdir"
   ]
  },
  {
   "cell_type": "code",
   "execution_count": 5,
   "metadata": {
    "collapsed": true
   },
   "outputs": [],
   "source": [
    "target_subject='p024'"
   ]
  },
  {
   "cell_type": "code",
   "execution_count": null,
   "metadata": {
    "collapsed": true
   },
   "outputs": [],
   "source": [
    "%%bash\n",
    "split_name='sample'\n",
    "\n",
    "rm -rf splits/$split_name\n",
    "mkdir -p splits/$split_name/train\n",
    "for obj_type in `ls train`; do\n",
    "  mkdir -p splits/$split_name/train/$obj_type\n",
    "  mkdir -p splits/$split_name/valid/$obj_type\n",
    "\n",
    "  #echo \"Preparing training set for class ${obj_type}\"\n",
    "  ls train/$obj_type | tail -n150 | xargs -I{} cp train/$obj_type/{} splits/$split_name/train/$obj_type\n",
    "  #echo \"Preparing validation set for class ${obj_type}\"\n",
    "  ls train/$obj_type | tail -n200 | head -n50 | xargs -I{} cp train/$obj_type/{} splits/$split_name/valid/$obj_type\n",
    "done"
   ]
  },
  {
   "cell_type": "code",
   "execution_count": 37,
   "metadata": {
    "collapsed": false
   },
   "outputs": [],
   "source": [
    "from keras.preprocessing.image import ImageDataGenerator\n",
    "batch_size = 32\n",
    "\n",
    "def setup_filter_to_exclude(notallowed_filenames):\n",
    "    def listdir(path):\n",
    "        res = _origlistdir(path)\n",
    "        res = list(filter(lambda fname: fname not in notallowed_filenames, res))\n",
    "        return res\n",
    "    os.listdir = listdir\n",
    "\n",
    "def clear_filter():\n",
    "    os.listdir = _origlistdir\n",
    "\n",
    "def data_for(validation_subject_id, shuffle=False, verbose=False, augment=False,\n",
    "             train_dir='train',\n",
    "             validation_dir='train'):\n",
    "    generator = ImageDataGenerator()\n",
    "    if (augment):\n",
    "        print(\"Using augmenting generator\")\n",
    "        generator = image.ImageDataGenerator(rotation_range=12, width_shift_range=0.1, height_shift_range=0.025, \n",
    "                                 shear_range=0.15, zoom_range=0.1, channel_shift_range=20, fill_mode='constant')\n",
    "\n",
    "    train_fnames = set(drivers[drivers['subject'] != validation_subject_id]['img'])\n",
    "    validation_fnames = set(drivers[drivers['subject'] == validation_subject_id]['img'])\n",
    "\n",
    "    # train\n",
    "    setup_filter_to_exclude(validation_fnames)\n",
    "    train_generator = generator.flow_from_directory(train_dir,\n",
    "        target_size=(224, 224),\n",
    "        batch_size=batch_size,\n",
    "        class_mode='categorical',\n",
    "        shuffle=shuffle)\n",
    "\n",
    "    # validation\n",
    "    setup_filter_to_exclude(train_fnames)\n",
    "    validation_generator = generator.flow_from_directory(validation_dir,\n",
    "        target_size=(224, 224),\n",
    "        batch_size=batch_size,\n",
    "        class_mode='categorical',\n",
    "        shuffle=shuffle)\n",
    "\n",
    "    if (len(np.unique(train_generator.classes)) != len(np.unique(validation_generator.classes))):\n",
    "        raise Exception(\"Not all the classes are represented in the sample\")\n",
    "    \n",
    "    clear_filter()\n",
    "\n",
    "    return train_generator, validation_generator"
   ]
  },
  {
   "cell_type": "code",
   "execution_count": 29,
   "metadata": {
    "collapsed": true
   },
   "outputs": [],
   "source": [
    "%matplotlib inline\n",
    "import numpy as np\n",
    "import matplotlib.pyplot as plt\n",
    "from keras.preprocessing.image import load_img, img_to_array\n",
    "from utils import *"
   ]
  },
  {
   "cell_type": "code",
   "execution_count": 38,
   "metadata": {
    "collapsed": false
   },
   "outputs": [],
   "source": [
    "import pandas as pd\n",
    "drivers = pd.DataFrame.from_csv('driver_imgs_list.csv', index_col=None)"
   ]
  },
  {
   "cell_type": "code",
   "execution_count": 31,
   "metadata": {
    "collapsed": false
   },
   "outputs": [],
   "source": [
    "from keras.models import Sequential\n",
    "from keras.layers import BatchNormalization, MaxPooling2D, Convolution2D, Flatten, Dense"
   ]
  },
  {
   "cell_type": "code",
   "execution_count": 32,
   "metadata": {
    "collapsed": false
   },
   "outputs": [],
   "source": [
    "model = Sequential([\n",
    "        BatchNormalization(axis=1, input_shape=(3,224,224)),\n",
    "        Convolution2D(32,3,3, activation='relu'),\n",
    "        BatchNormalization(axis=1),\n",
    "        MaxPooling2D((3,3)),\n",
    "        Convolution2D(64,3,3, activation='relu'),\n",
    "        BatchNormalization(axis=1),\n",
    "        MaxPooling2D((3,3)),\n",
    "        Flatten(),\n",
    "        Dense(200, activation='relu'),\n",
    "        BatchNormalization(),\n",
    "        Dense(10, activation='softmax')\n",
    "    ])"
   ]
  },
  {
   "cell_type": "code",
   "execution_count": 33,
   "metadata": {
    "collapsed": false
   },
   "outputs": [],
   "source": [
    "model.compile(Adam(), loss='categorical_crossentropy', metrics=['accuracy'])\n",
    "model.optimizer.lr = 0.001"
   ]
  },
  {
   "cell_type": "code",
   "execution_count": 34,
   "metadata": {
    "collapsed": false
   },
   "outputs": [
    {
     "name": "stdout",
     "output_type": "stream",
     "text": [
      "Using augmenting generator\n",
      "Found 1417 images belonging to 10 classes.\n",
      "Found 31 images belonging to 10 classes.\n"
     ]
    }
   ],
   "source": [
    "train_batches, validation_batches = data_for(target_subject, augment=True, shuffle=True,\n",
    "                                             train_dir='splits/sample/train',\n",
    "                                             validation_dir='splits/sample/valid')"
   ]
  },
  {
   "cell_type": "code",
   "execution_count": 35,
   "metadata": {
    "collapsed": false
   },
   "outputs": [
    {
     "name": "stderr",
     "output_type": "stream",
     "text": [
      "INFO (theano.gof.compilelock): Refreshing lock /home/ubuntu/.theano/compiledir_Linux-4.4--generic-x86_64-with-debian-stretch-sid-x86_64-2.7.12-64/lock_dir/lock\n"
     ]
    },
    {
     "name": "stdout",
     "output_type": "stream",
     "text": [
      "Epoch 1/5\n",
      "1417/1417 [==============================] - 30s - loss: 2.4310 - acc: 0.2357 - val_loss: 2.1935 - val_acc: 0.2903\n",
      "Epoch 2/5\n",
      "1417/1417 [==============================] - 29s - loss: 1.6696 - acc: 0.4404 - val_loss: 1.8645 - val_acc: 0.3226\n",
      "Epoch 3/5\n",
      "1417/1417 [==============================] - 33s - loss: 1.3778 - acc: 0.5342 - val_loss: 2.1188 - val_acc: 0.3871\n",
      "Epoch 4/5\n",
      "1417/1417 [==============================] - 29s - loss: 1.2493 - acc: 0.5900 - val_loss: 2.2602 - val_acc: 0.3226\n",
      "Epoch 5/5\n",
      "1417/1417 [==============================] - 31s - loss: 1.0250 - acc: 0.6443 - val_loss: 1.9586 - val_acc: 0.3226\n"
     ]
    },
    {
     "data": {
      "text/plain": [
       "<keras.callbacks.History at 0x7f046d5db250>"
      ]
     },
     "execution_count": 35,
     "metadata": {},
     "output_type": "execute_result"
    }
   ],
   "source": [
    "model.fit_generator(train_batches, samples_per_epoch=train_batches.nb_sample, nb_epoch=5, \n",
    "                        validation_data=validation_batches, nb_val_samples=validation_batches.nb_sample, verbose=1)"
   ]
  },
  {
   "cell_type": "code",
   "execution_count": 36,
   "metadata": {
    "collapsed": false
   },
   "outputs": [
    {
     "name": "stdout",
     "output_type": "stream",
     "text": [
      "Using augmenting generator\n",
      "Found 1417 images belonging to 10 classes.\n",
      "Found 31 images belonging to 10 classes.\n",
      "Epoch 1/5\n",
      "1417/1417 [==============================] - 33s - loss: 0.9529 - acc: 0.6725 - val_loss: 1.8708 - val_acc: 0.3548\n",
      "Epoch 2/5\n",
      "1417/1417 [==============================] - 34s - loss: 0.8770 - acc: 0.7184 - val_loss: 1.8571 - val_acc: 0.3226\n",
      "Epoch 3/5\n",
      "1417/1417 [==============================] - 28s - loss: 0.7638 - acc: 0.7615 - val_loss: 2.0389 - val_acc: 0.2903\n",
      "Epoch 4/5\n",
      "1417/1417 [==============================] - 33s - loss: 0.7309 - acc: 0.7671 - val_loss: 1.6523 - val_acc: 0.4516\n",
      "Epoch 5/5\n",
      "1417/1417 [==============================] - 31s - loss: 0.7157 - acc: 0.7749 - val_loss: 1.5708 - val_acc: 0.4194\n"
     ]
    },
    {
     "data": {
      "text/plain": [
       "<keras.callbacks.History at 0x7f0460ba5fd0>"
      ]
     },
     "execution_count": 36,
     "metadata": {},
     "output_type": "execute_result"
    }
   ],
   "source": [
    "train_batches, validation_batches = data_for(target_subject, augment=True, shuffle=True)\n",
    "model.fit_generator(train_batches, samples_per_epoch=train_batches.nb_sample, nb_epoch=5, \n",
    "                        validation_data=validation_batches, nb_val_samples=validation_batches.nb_sample, verbose=1)"
   ]
  },
  {
   "cell_type": "code",
   "execution_count": 39,
   "metadata": {
    "collapsed": false
   },
   "outputs": [
    {
     "name": "stdout",
     "output_type": "stream",
     "text": [
      "Using augmenting generator\n",
      "Found 21198 images belonging to 10 classes.\n",
      "Found 1226 images belonging to 10 classes.\n",
      "Epoch 1/5\n",
      "21198/21198 [==============================] - 476s - loss: 0.5642 - acc: 0.8160 - val_loss: 3.4660 - val_acc: 0.2316\n",
      "Epoch 2/5\n",
      "21198/21198 [==============================] - 472s - loss: 0.3595 - acc: 0.8862 - val_loss: 0.9319 - val_acc: 0.6533\n",
      "Epoch 3/5\n",
      "21198/21198 [==============================] - 465s - loss: 0.2436 - acc: 0.9253 - val_loss: 1.4585 - val_acc: 0.5734\n",
      "Epoch 4/5\n",
      "21198/21198 [==============================] - 487s - loss: 0.1936 - acc: 0.9391 - val_loss: 1.3020 - val_acc: 0.6158\n",
      "Epoch 5/5\n",
      "21198/21198 [==============================] - 476s - loss: 0.1719 - acc: 0.9463 - val_loss: 1.1430 - val_acc: 0.6542\n"
     ]
    },
    {
     "data": {
      "text/plain": [
       "<keras.callbacks.History at 0x7f0460ba9610>"
      ]
     },
     "execution_count": 39,
     "metadata": {},
     "output_type": "execute_result"
    }
   ],
   "source": [
    "train_batches, validation_batches = data_for(target_subject, augment=True, shuffle=True)\n",
    "model.fit_generator(train_batches, samples_per_epoch=train_batches.nb_sample, nb_epoch=5, \n",
    "                        validation_data=validation_batches, nb_val_samples=validation_batches.nb_sample, verbose=1)"
   ]
  },
  {
   "cell_type": "code",
   "execution_count": 40,
   "metadata": {
    "collapsed": true
   },
   "outputs": [],
   "source": [
    "import pandas as pd\n",
    "from IPython.display import FileLink\n",
    "def predict_to_csv(model, filename='submission.csv'):\n",
    "    generator = ImageDataGenerator()    \n",
    "    test_generator = generator.flow_from_directory(\n",
    "        'test',\n",
    "        target_size=(224, 224),\n",
    "        batch_size=batch_size,\n",
    "        shuffle=False,\n",
    "        class_mode=None)\n",
    "    \n",
    "    predictions = model.predict_generator(test_generator, test_generator.nb_sample)\n",
    "    filenames = map(lambda name: name.split('/')[1], test_generator.filenames)\n",
    "\n",
    "    df = pd.DataFrame(predictions,index=filenames)\n",
    "    df.columns = map(lambda (a,b): b + str(a), zip(range(0,10), ['c'] * 10))\n",
    "\n",
    "    df.to_csv(filename, index_label='img')\n",
    "\n",
    "    return FileLink(filename)"
   ]
  },
  {
   "cell_type": "code",
   "execution_count": 41,
   "metadata": {
    "collapsed": false
   },
   "outputs": [
    {
     "name": "stdout",
     "output_type": "stream",
     "text": [
      "Found 79726 images belonging to 1 classes.\n",
      "CPU times: user 19min 22s, sys: 2min 15s, total: 21min 37s\n",
      "Wall time: 19min 37s\n"
     ]
    },
    {
     "data": {
      "text/html": [
       "<a href='submission_batchnorm_freestyle.csv' target='_blank'>submission_batchnorm_freestyle.csv</a><br>"
      ],
      "text/plain": [
       "/home/ubuntu/downloads/submission_batchnorm_freestyle.csv"
      ]
     },
     "execution_count": 41,
     "metadata": {},
     "output_type": "execute_result"
    }
   ],
   "source": [
    "# this gets to 1.24418 on kaggle = 597 / 1440 --> top 50% achieved\n",
    "%time predict_to_csv(model, 'submission_batchnorm_freestyle.csv')"
   ]
  },
  {
   "cell_type": "code",
   "execution_count": 42,
   "metadata": {
    "collapsed": false
   },
   "outputs": [
    {
     "name": "stdout",
     "output_type": "stream",
     "text": [
      "Using augmenting generator\n",
      "Found 21699 images belonging to 10 classes.\n",
      "Found 725 images belonging to 10 classes.\n"
     ]
    }
   ],
   "source": [
    "train_batches, validation_batches = data_for('p002', augment=True, shuffle=True)"
   ]
  },
  {
   "cell_type": "code",
   "execution_count": 43,
   "metadata": {
    "collapsed": false
   },
   "outputs": [
    {
     "name": "stdout",
     "output_type": "stream",
     "text": [
      "Epoch 1/1\n",
      "21699/21699 [==============================] - 478s - loss: 0.1656 - acc: 0.9476 - val_loss: 0.3550 - val_acc: 0.8621\n"
     ]
    },
    {
     "data": {
      "text/plain": [
       "<keras.callbacks.History at 0x7f0456448310>"
      ]
     },
     "execution_count": 43,
     "metadata": {},
     "output_type": "execute_result"
    }
   ],
   "source": [
    "model.fit_generator(train_batches, samples_per_epoch=train_batches.nb_sample, nb_epoch=1, \n",
    "                        validation_data=validation_batches, nb_val_samples=validation_batches.nb_sample, verbose=1)"
   ]
  },
  {
   "cell_type": "code",
   "execution_count": 44,
   "metadata": {
    "collapsed": false
   },
   "outputs": [
    {
     "name": "stdout",
     "output_type": "stream",
     "text": [
      "Found 79726 images belonging to 1 classes.\n",
      "CPU times: user 19min 9s, sys: 2min 15s, total: 21min 25s\n",
      "Wall time: 17min 42s\n"
     ]
    },
    {
     "data": {
      "text/html": [
       "<a href='submission_batchnorm_freestyle_trained_on_another_too.csv' target='_blank'>submission_batchnorm_freestyle_trained_on_another_too.csv</a><br>"
      ],
      "text/plain": [
       "/home/ubuntu/downloads/submission_batchnorm_freestyle_trained_on_another_too.csv"
      ]
     },
     "execution_count": 44,
     "metadata": {},
     "output_type": "execute_result"
    }
   ],
   "source": [
    "# this gets to 1.13414 = 569 / 1440 --> top 50% achieved\n",
    "%time predict_to_csv(model, 'submission_batchnorm_freestyle_trained_on_another_too.csv')"
   ]
  },
  {
   "cell_type": "code",
   "execution_count": null,
   "metadata": {
    "collapsed": true
   },
   "outputs": [],
   "source": []
  }
 ],
 "metadata": {
  "anaconda-cloud": {},
  "kernelspec": {
   "display_name": "Python [conda root]",
   "language": "python",
   "name": "conda-root-py"
  },
  "language_info": {
   "codemirror_mode": {
    "name": "ipython",
    "version": 2
   },
   "file_extension": ".py",
   "mimetype": "text/x-python",
   "name": "python",
   "nbconvert_exporter": "python",
   "pygments_lexer": "ipython2",
   "version": "2.7.12"
  }
 },
 "nbformat": 4,
 "nbformat_minor": 1
}
