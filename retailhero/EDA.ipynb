{
 "cells": [
  {
   "cell_type": "code",
   "execution_count": 1,
   "metadata": {},
   "outputs": [],
   "source": [
    "%matplotlib inline"
   ]
  },
  {
   "cell_type": "code",
   "execution_count": 2,
   "metadata": {},
   "outputs": [],
   "source": [
    "!ls data/retailhero-uplift.zip 2>&1 > /dev/null || \\\n",
    " wget https://storage.yandexcloud.net/datasouls-competitions/x5-retailhero/retailhero-uplift.zip -O data/retailhero-uplift.zip"
   ]
  },
  {
   "cell_type": "code",
   "execution_count": 3,
   "metadata": {},
   "outputs": [],
   "source": [
    "!ls data/products.csv 2>&1 > /dev/null || \\\n",
    " unzip -o data/retailhero-uplift.zip"
   ]
  },
  {
   "cell_type": "code",
   "execution_count": 4,
   "metadata": {},
   "outputs": [
    {
     "name": "stdout",
     "output_type": "stream",
     "text": [
      "clients.csv                  uplift_sample_submission.csv\r\n",
      "products.csv                 uplift_test.csv\r\n",
      "purchases.csv                uplift_train.csv\r\n",
      "retailhero-uplift.zip\r\n"
     ]
    }
   ],
   "source": [
    "!ls data/"
   ]
  },
  {
   "cell_type": "code",
   "execution_count": 5,
   "metadata": {},
   "outputs": [],
   "source": [
    "import pandas as pd"
   ]
  },
  {
   "cell_type": "code",
   "execution_count": 6,
   "metadata": {},
   "outputs": [
    {
     "data": {
      "text/html": [
       "<div>\n",
       "<style scoped>\n",
       "    .dataframe tbody tr th:only-of-type {\n",
       "        vertical-align: middle;\n",
       "    }\n",
       "\n",
       "    .dataframe tbody tr th {\n",
       "        vertical-align: top;\n",
       "    }\n",
       "\n",
       "    .dataframe thead th {\n",
       "        text-align: right;\n",
       "    }\n",
       "</style>\n",
       "<table border=\"1\" class=\"dataframe\">\n",
       "  <thead>\n",
       "    <tr style=\"text-align: right;\">\n",
       "      <th></th>\n",
       "      <th>client_id</th>\n",
       "      <th>first_issue_date</th>\n",
       "      <th>first_redeem_date</th>\n",
       "      <th>age</th>\n",
       "      <th>gender</th>\n",
       "    </tr>\n",
       "  </thead>\n",
       "  <tbody>\n",
       "    <tr>\n",
       "      <th>0</th>\n",
       "      <td>000012768d</td>\n",
       "      <td>2017-08-05 15:40:48</td>\n",
       "      <td>2018-01-04 19:30:07</td>\n",
       "      <td>45</td>\n",
       "      <td>U</td>\n",
       "    </tr>\n",
       "  </tbody>\n",
       "</table>\n",
       "</div>"
      ],
      "text/plain": [
       "    client_id    first_issue_date   first_redeem_date age gender\n",
       "0  000012768d 2017-08-05 15:40:48 2018-01-04 19:30:07  45      U"
      ]
     },
     "execution_count": 6,
     "metadata": {},
     "output_type": "execute_result"
    }
   ],
   "source": [
    "df_clients = pd.read_csv('data/clients.csv', dtype={\n",
    "    'client_id': 'category',\n",
    "    'age': 'category',\n",
    "    'gender': 'category'\n",
    "}, parse_dates=['first_issue_date', 'first_redeem_date'])\n",
    "df_clients.head(1)"
   ]
  },
  {
   "cell_type": "code",
   "execution_count": 7,
   "metadata": {},
   "outputs": [
    {
     "data": {
      "text/html": [
       "<div>\n",
       "<style scoped>\n",
       "    .dataframe tbody tr th:only-of-type {\n",
       "        vertical-align: middle;\n",
       "    }\n",
       "\n",
       "    .dataframe tbody tr th {\n",
       "        vertical-align: top;\n",
       "    }\n",
       "\n",
       "    .dataframe thead th {\n",
       "        text-align: right;\n",
       "    }\n",
       "</style>\n",
       "<table border=\"1\" class=\"dataframe\">\n",
       "  <thead>\n",
       "    <tr style=\"text-align: right;\">\n",
       "      <th></th>\n",
       "      <th>product_id</th>\n",
       "      <th>level_1</th>\n",
       "      <th>level_2</th>\n",
       "      <th>level_3</th>\n",
       "      <th>level_4</th>\n",
       "      <th>segment_id</th>\n",
       "      <th>brand_id</th>\n",
       "      <th>vendor_id</th>\n",
       "      <th>netto</th>\n",
       "      <th>is_own_trademark</th>\n",
       "      <th>is_alcohol</th>\n",
       "    </tr>\n",
       "  </thead>\n",
       "  <tbody>\n",
       "    <tr>\n",
       "      <th>0</th>\n",
       "      <td>0003020d3c</td>\n",
       "      <td>c3d3a8e8c6</td>\n",
       "      <td>c2a3ea8d5e</td>\n",
       "      <td>b7cda0ec0c</td>\n",
       "      <td>6376f2a852</td>\n",
       "      <td>123.0</td>\n",
       "      <td>394a54a7c1</td>\n",
       "      <td>9eaff48661</td>\n",
       "      <td>0.4</td>\n",
       "      <td>0</td>\n",
       "      <td>0</td>\n",
       "    </tr>\n",
       "  </tbody>\n",
       "</table>\n",
       "</div>"
      ],
      "text/plain": [
       "   product_id     level_1     level_2     level_3     level_4 segment_id  \\\n",
       "0  0003020d3c  c3d3a8e8c6  c2a3ea8d5e  b7cda0ec0c  6376f2a852      123.0   \n",
       "\n",
       "     brand_id   vendor_id  netto  is_own_trademark  is_alcohol  \n",
       "0  394a54a7c1  9eaff48661    0.4                 0           0  "
      ]
     },
     "execution_count": 7,
     "metadata": {},
     "output_type": "execute_result"
    }
   ],
   "source": [
    "df_products = pd.read_csv('data/products.csv', dtype={\n",
    "    'product_id': 'category',\n",
    "    'level_1': 'category',\n",
    "    'level_2': 'category',\n",
    "    'level_3': 'category',\n",
    "    'level_4': 'category',\n",
    "    'segment_id': 'category',\n",
    "    'brand_id': 'category',\n",
    "    'vendor_id': 'category'\n",
    "})\n",
    "df_products.head(1)"
   ]
  },
  {
   "cell_type": "code",
   "execution_count": 8,
   "metadata": {},
   "outputs": [
    {
     "data": {
      "text/html": [
       "<div>\n",
       "<style scoped>\n",
       "    .dataframe tbody tr th:only-of-type {\n",
       "        vertical-align: middle;\n",
       "    }\n",
       "\n",
       "    .dataframe tbody tr th {\n",
       "        vertical-align: top;\n",
       "    }\n",
       "\n",
       "    .dataframe thead th {\n",
       "        text-align: right;\n",
       "    }\n",
       "</style>\n",
       "<table border=\"1\" class=\"dataframe\">\n",
       "  <thead>\n",
       "    <tr style=\"text-align: right;\">\n",
       "      <th></th>\n",
       "      <th>client_id</th>\n",
       "      <th>transaction_id</th>\n",
       "      <th>transaction_datetime</th>\n",
       "      <th>regular_points_received</th>\n",
       "      <th>express_points_received</th>\n",
       "      <th>regular_points_spent</th>\n",
       "      <th>express_points_spent</th>\n",
       "      <th>purchase_sum</th>\n",
       "      <th>store_id</th>\n",
       "      <th>product_id</th>\n",
       "      <th>product_quantity</th>\n",
       "      <th>trn_sum_from_iss</th>\n",
       "      <th>trn_sum_from_red</th>\n",
       "    </tr>\n",
       "  </thead>\n",
       "  <tbody>\n",
       "    <tr>\n",
       "      <th>0</th>\n",
       "      <td>000012768d</td>\n",
       "      <td>7e3e2e3984</td>\n",
       "      <td>2018-12-01 07:12:45</td>\n",
       "      <td>10.0</td>\n",
       "      <td>0.0</td>\n",
       "      <td>0.0</td>\n",
       "      <td>0.0</td>\n",
       "      <td>1007.0</td>\n",
       "      <td>54a4a11a29</td>\n",
       "      <td>9a80204f78</td>\n",
       "      <td>2.0</td>\n",
       "      <td>80.0</td>\n",
       "      <td>NaN</td>\n",
       "    </tr>\n",
       "  </tbody>\n",
       "</table>\n",
       "</div>"
      ],
      "text/plain": [
       "    client_id transaction_id transaction_datetime  regular_points_received  \\\n",
       "0  000012768d     7e3e2e3984  2018-12-01 07:12:45                     10.0   \n",
       "\n",
       "   express_points_received  regular_points_spent  express_points_spent  \\\n",
       "0                      0.0                   0.0                   0.0   \n",
       "\n",
       "   purchase_sum    store_id  product_id  product_quantity  trn_sum_from_iss  \\\n",
       "0        1007.0  54a4a11a29  9a80204f78               2.0              80.0   \n",
       "\n",
       "   trn_sum_from_red  \n",
       "0               NaN  "
      ]
     },
     "execution_count": 8,
     "metadata": {},
     "output_type": "execute_result"
    }
   ],
   "source": [
    "df_purchases = pd.read_csv('data/purchases.csv', dtype={\n",
    "    'client_id': 'category',\n",
    "    'transaction_id': 'category',\n",
    "    'store_id': 'category',\n",
    "    'product_id': 'category'\n",
    "}, parse_dates=['transaction_datetime'])\n",
    "df_purchases.head(1)"
   ]
  },
  {
   "cell_type": "code",
   "execution_count": 9,
   "metadata": {},
   "outputs": [
    {
     "data": {
      "text/html": [
       "<div>\n",
       "<style scoped>\n",
       "    .dataframe tbody tr th:only-of-type {\n",
       "        vertical-align: middle;\n",
       "    }\n",
       "\n",
       "    .dataframe tbody tr th {\n",
       "        vertical-align: top;\n",
       "    }\n",
       "\n",
       "    .dataframe thead th {\n",
       "        text-align: right;\n",
       "    }\n",
       "</style>\n",
       "<table border=\"1\" class=\"dataframe\">\n",
       "  <thead>\n",
       "    <tr style=\"text-align: right;\">\n",
       "      <th></th>\n",
       "      <th>client_id</th>\n",
       "      <th>treatment_flg</th>\n",
       "      <th>target</th>\n",
       "    </tr>\n",
       "  </thead>\n",
       "  <tbody>\n",
       "    <tr>\n",
       "      <th>0</th>\n",
       "      <td>000012768d</td>\n",
       "      <td>0</td>\n",
       "      <td>1</td>\n",
       "    </tr>\n",
       "  </tbody>\n",
       "</table>\n",
       "</div>"
      ],
      "text/plain": [
       "    client_id  treatment_flg  target\n",
       "0  000012768d              0       1"
      ]
     },
     "execution_count": 9,
     "metadata": {},
     "output_type": "execute_result"
    }
   ],
   "source": [
    "df_train = pd.read_csv('data/uplift_train.csv', dtype={\n",
    "    'client_id': 'category'\n",
    "})\n",
    "df_train.head(1)"
   ]
  },
  {
   "cell_type": "code",
   "execution_count": 10,
   "metadata": {},
   "outputs": [
    {
     "data": {
      "text/html": [
       "<div>\n",
       "<style scoped>\n",
       "    .dataframe tbody tr th:only-of-type {\n",
       "        vertical-align: middle;\n",
       "    }\n",
       "\n",
       "    .dataframe tbody tr th {\n",
       "        vertical-align: top;\n",
       "    }\n",
       "\n",
       "    .dataframe thead th {\n",
       "        text-align: right;\n",
       "    }\n",
       "</style>\n",
       "<table border=\"1\" class=\"dataframe\">\n",
       "  <thead>\n",
       "    <tr style=\"text-align: right;\">\n",
       "      <th></th>\n",
       "      <th>client_id</th>\n",
       "    </tr>\n",
       "  </thead>\n",
       "  <tbody>\n",
       "    <tr>\n",
       "      <th>0</th>\n",
       "      <td>000048b7a6</td>\n",
       "    </tr>\n",
       "  </tbody>\n",
       "</table>\n",
       "</div>"
      ],
      "text/plain": [
       "    client_id\n",
       "0  000048b7a6"
      ]
     },
     "execution_count": 10,
     "metadata": {},
     "output_type": "execute_result"
    }
   ],
   "source": [
    "df_test = pd.read_csv('data/uplift_test.csv')\n",
    "df_test.head(1)"
   ]
  },
  {
   "cell_type": "code",
   "execution_count": 11,
   "metadata": {},
   "outputs": [
    {
     "name": "stdout",
     "output_type": "stream",
     "text": [
      "client_id,uplift\r\n",
      "008fb49e3a,0.1149912020897228\r\n"
     ]
    }
   ],
   "source": [
    "!head -n2 data/uplift_sample_submission.csv"
   ]
  },
  {
   "cell_type": "code",
   "execution_count": 12,
   "metadata": {},
   "outputs": [],
   "source": [
    "df_purchases['transaction_datetime'] = pd.to_datetime(df_purchases['transaction_datetime'])"
   ]
  },
  {
   "cell_type": "code",
   "execution_count": 13,
   "metadata": {},
   "outputs": [
    {
     "data": {
      "text/html": [
       "<div>\n",
       "<style scoped>\n",
       "    .dataframe tbody tr th:only-of-type {\n",
       "        vertical-align: middle;\n",
       "    }\n",
       "\n",
       "    .dataframe tbody tr th {\n",
       "        vertical-align: top;\n",
       "    }\n",
       "\n",
       "    .dataframe thead th {\n",
       "        text-align: right;\n",
       "    }\n",
       "</style>\n",
       "<table border=\"1\" class=\"dataframe\">\n",
       "  <thead>\n",
       "    <tr style=\"text-align: right;\">\n",
       "      <th></th>\n",
       "      <th>netto</th>\n",
       "      <th>is_own_trademark</th>\n",
       "      <th>is_alcohol</th>\n",
       "    </tr>\n",
       "  </thead>\n",
       "  <tbody>\n",
       "    <tr>\n",
       "      <th>count</th>\n",
       "      <td>43035.000000</td>\n",
       "      <td>43038.000000</td>\n",
       "      <td>43038.000000</td>\n",
       "    </tr>\n",
       "    <tr>\n",
       "      <th>mean</th>\n",
       "      <td>0.536966</td>\n",
       "      <td>0.035178</td>\n",
       "      <td>0.055602</td>\n",
       "    </tr>\n",
       "    <tr>\n",
       "      <th>std</th>\n",
       "      <td>8.274367</td>\n",
       "      <td>0.184232</td>\n",
       "      <td>0.229154</td>\n",
       "    </tr>\n",
       "    <tr>\n",
       "      <th>min</th>\n",
       "      <td>0.000000</td>\n",
       "      <td>0.000000</td>\n",
       "      <td>0.000000</td>\n",
       "    </tr>\n",
       "    <tr>\n",
       "      <th>25%</th>\n",
       "      <td>0.150000</td>\n",
       "      <td>0.000000</td>\n",
       "      <td>0.000000</td>\n",
       "    </tr>\n",
       "    <tr>\n",
       "      <th>50%</th>\n",
       "      <td>0.300000</td>\n",
       "      <td>0.000000</td>\n",
       "      <td>0.000000</td>\n",
       "    </tr>\n",
       "    <tr>\n",
       "      <th>75%</th>\n",
       "      <td>0.500000</td>\n",
       "      <td>0.000000</td>\n",
       "      <td>0.000000</td>\n",
       "    </tr>\n",
       "    <tr>\n",
       "      <th>max</th>\n",
       "      <td>1150.000000</td>\n",
       "      <td>1.000000</td>\n",
       "      <td>1.000000</td>\n",
       "    </tr>\n",
       "  </tbody>\n",
       "</table>\n",
       "</div>"
      ],
      "text/plain": [
       "              netto  is_own_trademark    is_alcohol\n",
       "count  43035.000000      43038.000000  43038.000000\n",
       "mean       0.536966          0.035178      0.055602\n",
       "std        8.274367          0.184232      0.229154\n",
       "min        0.000000          0.000000      0.000000\n",
       "25%        0.150000          0.000000      0.000000\n",
       "50%        0.300000          0.000000      0.000000\n",
       "75%        0.500000          0.000000      0.000000\n",
       "max     1150.000000          1.000000      1.000000"
      ]
     },
     "execution_count": 13,
     "metadata": {},
     "output_type": "execute_result"
    }
   ],
   "source": [
    "df_products.describe()"
   ]
  },
  {
   "cell_type": "code",
   "execution_count": 14,
   "metadata": {},
   "outputs": [
    {
     "data": {
      "text/html": [
       "<div>\n",
       "<style scoped>\n",
       "    .dataframe tbody tr th:only-of-type {\n",
       "        vertical-align: middle;\n",
       "    }\n",
       "\n",
       "    .dataframe tbody tr th {\n",
       "        vertical-align: top;\n",
       "    }\n",
       "\n",
       "    .dataframe thead th {\n",
       "        text-align: right;\n",
       "    }\n",
       "</style>\n",
       "<table border=\"1\" class=\"dataframe\">\n",
       "  <thead>\n",
       "    <tr style=\"text-align: right;\">\n",
       "      <th></th>\n",
       "      <th>regular_points_received</th>\n",
       "      <th>express_points_received</th>\n",
       "      <th>regular_points_spent</th>\n",
       "      <th>express_points_spent</th>\n",
       "      <th>purchase_sum</th>\n",
       "      <th>product_quantity</th>\n",
       "      <th>trn_sum_from_iss</th>\n",
       "      <th>trn_sum_from_red</th>\n",
       "    </tr>\n",
       "  </thead>\n",
       "  <tbody>\n",
       "    <tr>\n",
       "      <th>count</th>\n",
       "      <td>4.578657e+07</td>\n",
       "      <td>4.578657e+07</td>\n",
       "      <td>4.578657e+07</td>\n",
       "      <td>4.578657e+07</td>\n",
       "      <td>4.578657e+07</td>\n",
       "      <td>4.578657e+07</td>\n",
       "      <td>4.578657e+07</td>\n",
       "      <td>3.043356e+06</td>\n",
       "    </tr>\n",
       "    <tr>\n",
       "      <th>mean</th>\n",
       "      <td>8.049876e+00</td>\n",
       "      <td>6.084099e-02</td>\n",
       "      <td>-5.312626e+00</td>\n",
       "      <td>-3.181049e-01</td>\n",
       "      <td>7.775215e+02</td>\n",
       "      <td>1.247245e+00</td>\n",
       "      <td>7.348835e+01</td>\n",
       "      <td>7.677407e+01</td>\n",
       "    </tr>\n",
       "    <tr>\n",
       "      <th>std</th>\n",
       "      <td>1.268503e+01</td>\n",
       "      <td>2.426226e+00</td>\n",
       "      <td>3.603646e+01</td>\n",
       "      <td>3.287976e+00</td>\n",
       "      <td>7.965350e+02</td>\n",
       "      <td>3.137584e+00</td>\n",
       "      <td>8.753977e+01</td>\n",
       "      <td>8.427114e+01</td>\n",
       "    </tr>\n",
       "    <tr>\n",
       "      <th>min</th>\n",
       "      <td>0.000000e+00</td>\n",
       "      <td>0.000000e+00</td>\n",
       "      <td>-5.066000e+03</td>\n",
       "      <td>-3.000000e+02</td>\n",
       "      <td>0.000000e+00</td>\n",
       "      <td>0.000000e+00</td>\n",
       "      <td>0.000000e+00</td>\n",
       "      <td>0.000000e+00</td>\n",
       "    </tr>\n",
       "    <tr>\n",
       "      <th>25%</th>\n",
       "      <td>1.400000e+00</td>\n",
       "      <td>0.000000e+00</td>\n",
       "      <td>0.000000e+00</td>\n",
       "      <td>0.000000e+00</td>\n",
       "      <td>2.860000e+02</td>\n",
       "      <td>1.000000e+00</td>\n",
       "      <td>3.000000e+01</td>\n",
       "      <td>3.100000e+01</td>\n",
       "    </tr>\n",
       "    <tr>\n",
       "      <th>50%</th>\n",
       "      <td>3.800000e+00</td>\n",
       "      <td>0.000000e+00</td>\n",
       "      <td>0.000000e+00</td>\n",
       "      <td>0.000000e+00</td>\n",
       "      <td>5.390000e+02</td>\n",
       "      <td>1.000000e+00</td>\n",
       "      <td>5.100000e+01</td>\n",
       "      <td>5.500000e+01</td>\n",
       "    </tr>\n",
       "    <tr>\n",
       "      <th>75%</th>\n",
       "      <td>1.030000e+01</td>\n",
       "      <td>0.000000e+00</td>\n",
       "      <td>0.000000e+00</td>\n",
       "      <td>0.000000e+00</td>\n",
       "      <td>9.760000e+02</td>\n",
       "      <td>1.000000e+00</td>\n",
       "      <td>9.000000e+01</td>\n",
       "      <td>9.500000e+01</td>\n",
       "    </tr>\n",
       "    <tr>\n",
       "      <th>max</th>\n",
       "      <td>2.399000e+03</td>\n",
       "      <td>3.000000e+02</td>\n",
       "      <td>0.000000e+00</td>\n",
       "      <td>0.000000e+00</td>\n",
       "      <td>3.514904e+04</td>\n",
       "      <td>1.494100e+04</td>\n",
       "      <td>3.514900e+04</td>\n",
       "      <td>8.789000e+03</td>\n",
       "    </tr>\n",
       "  </tbody>\n",
       "</table>\n",
       "</div>"
      ],
      "text/plain": [
       "       regular_points_received  express_points_received  regular_points_spent  \\\n",
       "count             4.578657e+07             4.578657e+07          4.578657e+07   \n",
       "mean              8.049876e+00             6.084099e-02         -5.312626e+00   \n",
       "std               1.268503e+01             2.426226e+00          3.603646e+01   \n",
       "min               0.000000e+00             0.000000e+00         -5.066000e+03   \n",
       "25%               1.400000e+00             0.000000e+00          0.000000e+00   \n",
       "50%               3.800000e+00             0.000000e+00          0.000000e+00   \n",
       "75%               1.030000e+01             0.000000e+00          0.000000e+00   \n",
       "max               2.399000e+03             3.000000e+02          0.000000e+00   \n",
       "\n",
       "       express_points_spent  purchase_sum  product_quantity  trn_sum_from_iss  \\\n",
       "count          4.578657e+07  4.578657e+07      4.578657e+07      4.578657e+07   \n",
       "mean          -3.181049e-01  7.775215e+02      1.247245e+00      7.348835e+01   \n",
       "std            3.287976e+00  7.965350e+02      3.137584e+00      8.753977e+01   \n",
       "min           -3.000000e+02  0.000000e+00      0.000000e+00      0.000000e+00   \n",
       "25%            0.000000e+00  2.860000e+02      1.000000e+00      3.000000e+01   \n",
       "50%            0.000000e+00  5.390000e+02      1.000000e+00      5.100000e+01   \n",
       "75%            0.000000e+00  9.760000e+02      1.000000e+00      9.000000e+01   \n",
       "max            0.000000e+00  3.514904e+04      1.494100e+04      3.514900e+04   \n",
       "\n",
       "       trn_sum_from_red  \n",
       "count      3.043356e+06  \n",
       "mean       7.677407e+01  \n",
       "std        8.427114e+01  \n",
       "min        0.000000e+00  \n",
       "25%        3.100000e+01  \n",
       "50%        5.500000e+01  \n",
       "75%        9.500000e+01  \n",
       "max        8.789000e+03  "
      ]
     },
     "execution_count": 14,
     "metadata": {},
     "output_type": "execute_result"
    }
   ],
   "source": [
    "df_purchases.describe()"
   ]
  },
  {
   "cell_type": "code",
   "execution_count": 15,
   "metadata": {},
   "outputs": [
    {
     "data": {
      "text/html": [
       "<div>\n",
       "<style scoped>\n",
       "    .dataframe tbody tr th:only-of-type {\n",
       "        vertical-align: middle;\n",
       "    }\n",
       "\n",
       "    .dataframe tbody tr th {\n",
       "        vertical-align: top;\n",
       "    }\n",
       "\n",
       "    .dataframe thead th {\n",
       "        text-align: right;\n",
       "    }\n",
       "</style>\n",
       "<table border=\"1\" class=\"dataframe\">\n",
       "  <thead>\n",
       "    <tr style=\"text-align: right;\">\n",
       "      <th></th>\n",
       "      <th>client_id</th>\n",
       "      <th>first_issue_date</th>\n",
       "      <th>first_redeem_date</th>\n",
       "      <th>age</th>\n",
       "      <th>gender</th>\n",
       "    </tr>\n",
       "  </thead>\n",
       "  <tbody>\n",
       "    <tr>\n",
       "      <th>count</th>\n",
       "      <td>400162</td>\n",
       "      <td>400162</td>\n",
       "      <td>364693</td>\n",
       "      <td>400162</td>\n",
       "      <td>400162</td>\n",
       "    </tr>\n",
       "    <tr>\n",
       "      <th>unique</th>\n",
       "      <td>400162</td>\n",
       "      <td>396725</td>\n",
       "      <td>362527</td>\n",
       "      <td>290</td>\n",
       "      <td>3</td>\n",
       "    </tr>\n",
       "    <tr>\n",
       "      <th>top</th>\n",
       "      <td>fffff6ce77</td>\n",
       "      <td>2017-07-27 18:00:57</td>\n",
       "      <td>2018-12-22 15:44:47</td>\n",
       "      <td>33</td>\n",
       "      <td>U</td>\n",
       "    </tr>\n",
       "    <tr>\n",
       "      <th>freq</th>\n",
       "      <td>1</td>\n",
       "      <td>3</td>\n",
       "      <td>3</td>\n",
       "      <td>9437</td>\n",
       "      <td>185706</td>\n",
       "    </tr>\n",
       "    <tr>\n",
       "      <th>first</th>\n",
       "      <td>NaN</td>\n",
       "      <td>2017-04-04 18:24:18</td>\n",
       "      <td>2017-04-11 09:42:20</td>\n",
       "      <td>NaN</td>\n",
       "      <td>NaN</td>\n",
       "    </tr>\n",
       "    <tr>\n",
       "      <th>last</th>\n",
       "      <td>NaN</td>\n",
       "      <td>2019-03-15 21:50:56</td>\n",
       "      <td>2019-11-20 01:14:10</td>\n",
       "      <td>NaN</td>\n",
       "      <td>NaN</td>\n",
       "    </tr>\n",
       "  </tbody>\n",
       "</table>\n",
       "</div>"
      ],
      "text/plain": [
       "         client_id     first_issue_date    first_redeem_date     age  gender\n",
       "count       400162               400162               364693  400162  400162\n",
       "unique      400162               396725               362527     290       3\n",
       "top     fffff6ce77  2017-07-27 18:00:57  2018-12-22 15:44:47      33       U\n",
       "freq             1                    3                    3    9437  185706\n",
       "first          NaN  2017-04-04 18:24:18  2017-04-11 09:42:20     NaN     NaN\n",
       "last           NaN  2019-03-15 21:50:56  2019-11-20 01:14:10     NaN     NaN"
      ]
     },
     "execution_count": 15,
     "metadata": {},
     "output_type": "execute_result"
    }
   ],
   "source": [
    "df_clients.describe()"
   ]
  },
  {
   "cell_type": "code",
   "execution_count": 16,
   "metadata": {},
   "outputs": [
    {
     "data": {
      "text/html": [
       "<div>\n",
       "<style scoped>\n",
       "    .dataframe tbody tr th:only-of-type {\n",
       "        vertical-align: middle;\n",
       "    }\n",
       "\n",
       "    .dataframe tbody tr th {\n",
       "        vertical-align: top;\n",
       "    }\n",
       "\n",
       "    .dataframe thead th {\n",
       "        text-align: right;\n",
       "    }\n",
       "</style>\n",
       "<table border=\"1\" class=\"dataframe\">\n",
       "  <thead>\n",
       "    <tr style=\"text-align: right;\">\n",
       "      <th></th>\n",
       "      <th>level_1</th>\n",
       "      <th>level_2</th>\n",
       "      <th>level_3</th>\n",
       "      <th>level_4</th>\n",
       "      <th>segment_id</th>\n",
       "      <th>brand_id</th>\n",
       "      <th>vendor_id</th>\n",
       "    </tr>\n",
       "  </thead>\n",
       "  <tbody>\n",
       "    <tr>\n",
       "      <th>count</th>\n",
       "      <td>43035</td>\n",
       "      <td>43035</td>\n",
       "      <td>43035</td>\n",
       "      <td>43035</td>\n",
       "      <td>41466</td>\n",
       "      <td>37838</td>\n",
       "      <td>43004</td>\n",
       "    </tr>\n",
       "    <tr>\n",
       "      <th>unique</th>\n",
       "      <td>3</td>\n",
       "      <td>42</td>\n",
       "      <td>201</td>\n",
       "      <td>790</td>\n",
       "      <td>116</td>\n",
       "      <td>4296</td>\n",
       "      <td>3193</td>\n",
       "    </tr>\n",
       "    <tr>\n",
       "      <th>top</th>\n",
       "      <td>e344ab2e71</td>\n",
       "      <td>52f13dac0c</td>\n",
       "      <td>ca69ed9de2</td>\n",
       "      <td>420c3b3f0b</td>\n",
       "      <td>105.0</td>\n",
       "      <td>0d6f137fb6</td>\n",
       "      <td>43acd80c1a</td>\n",
       "    </tr>\n",
       "    <tr>\n",
       "      <th>freq</th>\n",
       "      <td>22183</td>\n",
       "      <td>8891</td>\n",
       "      <td>3737</td>\n",
       "      <td>2500</td>\n",
       "      <td>5360</td>\n",
       "      <td>4344</td>\n",
       "      <td>1514</td>\n",
       "    </tr>\n",
       "  </tbody>\n",
       "</table>\n",
       "</div>"
      ],
      "text/plain": [
       "           level_1     level_2     level_3     level_4 segment_id    brand_id  \\\n",
       "count        43035       43035       43035       43035      41466       37838   \n",
       "unique           3          42         201         790        116        4296   \n",
       "top     e344ab2e71  52f13dac0c  ca69ed9de2  420c3b3f0b      105.0  0d6f137fb6   \n",
       "freq         22183        8891        3737        2500       5360        4344   \n",
       "\n",
       "         vendor_id  \n",
       "count        43004  \n",
       "unique        3193  \n",
       "top     43acd80c1a  \n",
       "freq          1514  "
      ]
     },
     "execution_count": 16,
     "metadata": {},
     "output_type": "execute_result"
    }
   ],
   "source": [
    "# Note to self: describes are much more helpful when pandas notes these are categorical\n",
    "df_products[['level_1', 'level_2', 'level_3', 'level_4', 'segment_id', 'brand_id', 'vendor_id']].describe()"
   ]
  },
  {
   "cell_type": "code",
   "execution_count": 24,
   "metadata": {},
   "outputs": [],
   "source": [
    "df_purchases['date'] = df_purchases['transaction_datetime'].dt.date"
   ]
  },
  {
   "cell_type": "code",
   "execution_count": 74,
   "metadata": {},
   "outputs": [],
   "source": [
    "transactions_by_date = df_purchases[['transaction_id', 'date']].groupby('date', as_index=False).agg({'transaction_id': 'count'})\n",
    "transactions_by_date.columns = ['date', 'count']"
   ]
  },
  {
   "cell_type": "code",
   "execution_count": 115,
   "metadata": {},
   "outputs": [
    {
     "data": {
      "application/javascript": [
       "const spec = {\"config\": {\"view\": {\"width\": 400, \"height\": 300}, \"mark\": {\"tooltip\": null}}, \"data\": {\"name\": \"data-744acc8ea214f2ca8c9c544872d06e66\"}, \"mark\": \"line\", \"encoding\": {\"tooltip\": {\"type\": \"quantitative\", \"field\": \"count\"}, \"x\": {\"type\": \"nominal\", \"axis\": {\"labelAngle\": 0, \"values\": [\"2018-12-01\", \"2018-12-15\", \"2018-12-29\", \"2019-01-12\", \"2019-01-26\", \"2019-02-09\", \"2019-02-23\", \"2019-03-09\", \"2019-03-23\", \"2019-04-06\"]}, \"field\": \"date\"}, \"y\": {\"type\": \"quantitative\", \"field\": \"count\"}}, \"width\": 800, \"$schema\": \"https://vega.github.io/schema/vega-lite/v3.4.0.json\", \"datasets\": {\"data-744acc8ea214f2ca8c9c544872d06e66\": [{\"date\": \"2018-11-21\", \"count\": 190}, {\"date\": \"2018-11-22\", \"count\": 338469}, {\"date\": \"2018-11-23\", \"count\": 379366}, {\"date\": \"2018-11-24\", \"count\": 356983}, {\"date\": \"2018-11-25\", \"count\": 320488}, {\"date\": \"2018-11-26\", \"count\": 340280}, {\"date\": \"2018-11-27\", \"count\": 329950}, {\"date\": \"2018-11-28\", \"count\": 334298}, {\"date\": \"2018-11-29\", \"count\": 347801}, {\"date\": \"2018-11-30\", \"count\": 386950}, {\"date\": \"2018-12-01\", \"count\": 373644}, {\"date\": \"2018-12-02\", \"count\": 330191}, {\"date\": \"2018-12-03\", \"count\": 350240}, {\"date\": \"2018-12-04\", \"count\": 328373}, {\"date\": \"2018-12-05\", \"count\": 337011}, {\"date\": \"2018-12-06\", \"count\": 340250}, {\"date\": \"2018-12-07\", \"count\": 381736}, {\"date\": \"2018-12-08\", \"count\": 364194}, {\"date\": \"2018-12-09\", \"count\": 317216}, {\"date\": \"2018-12-10\", \"count\": 323159}, {\"date\": \"2018-12-11\", \"count\": 316127}, {\"date\": \"2018-12-12\", \"count\": 323012}, {\"date\": \"2018-12-13\", \"count\": 325368}, {\"date\": \"2018-12-14\", \"count\": 360445}, {\"date\": \"2018-12-15\", \"count\": 344786}, {\"date\": \"2018-12-16\", \"count\": 305082}, {\"date\": \"2018-12-17\", \"count\": 328904}, {\"date\": \"2018-12-18\", \"count\": 318550}, {\"date\": \"2018-12-19\", \"count\": 324985}, {\"date\": \"2018-12-20\", \"count\": 319551}, {\"date\": \"2018-12-21\", \"count\": 351157}, {\"date\": \"2018-12-22\", \"count\": 346908}, {\"date\": \"2018-12-23\", \"count\": 312213}, {\"date\": \"2018-12-24\", \"count\": 346092}, {\"date\": \"2018-12-25\", \"count\": 344078}, {\"date\": \"2018-12-26\", \"count\": 359948}, {\"date\": \"2018-12-27\", \"count\": 376945}, {\"date\": \"2018-12-28\", \"count\": 414105}, {\"date\": \"2018-12-29\", \"count\": 449503}, {\"date\": \"2018-12-30\", \"count\": 621704}, {\"date\": \"2018-12-31\", \"count\": 428027}, {\"date\": \"2019-01-01\", \"count\": 99966}, {\"date\": \"2019-01-02\", \"count\": 224540}, {\"date\": \"2019-01-03\", \"count\": 253083}, {\"date\": \"2019-01-04\", \"count\": 292622}, {\"date\": \"2019-01-05\", \"count\": 316199}, {\"date\": \"2019-01-06\", \"count\": 345094}, {\"date\": \"2019-01-07\", \"count\": 301200}, {\"date\": \"2019-01-08\", \"count\": 305590}, {\"date\": \"2019-01-09\", \"count\": 322610}, {\"date\": \"2019-01-10\", \"count\": 341313}, {\"date\": \"2019-01-11\", \"count\": 379351}, {\"date\": \"2019-01-12\", \"count\": 379858}, {\"date\": \"2019-01-13\", \"count\": 344646}, {\"date\": \"2019-01-14\", \"count\": 348190}, {\"date\": \"2019-01-15\", \"count\": 359463}, {\"date\": \"2019-01-16\", \"count\": 363037}, {\"date\": \"2019-01-17\", \"count\": 359595}, {\"date\": \"2019-01-18\", \"count\": 397434}, {\"date\": \"2019-01-19\", \"count\": 389986}, {\"date\": \"2019-01-20\", \"count\": 333669}, {\"date\": \"2019-01-21\", \"count\": 371945}, {\"date\": \"2019-01-22\", \"count\": 362507}, {\"date\": \"2019-01-23\", \"count\": 367423}, {\"date\": \"2019-01-24\", \"count\": 375954}, {\"date\": \"2019-01-25\", \"count\": 407414}, {\"date\": \"2019-01-26\", \"count\": 404897}, {\"date\": \"2019-01-27\", \"count\": 348498}, {\"date\": \"2019-01-28\", \"count\": 385727}, {\"date\": \"2019-01-29\", \"count\": 378272}, {\"date\": \"2019-01-30\", \"count\": 384635}, {\"date\": \"2019-01-31\", \"count\": 376829}, {\"date\": \"2019-02-01\", \"count\": 416951}, {\"date\": \"2019-02-02\", \"count\": 409931}, {\"date\": \"2019-02-03\", \"count\": 353121}, {\"date\": \"2019-02-04\", \"count\": 385030}, {\"date\": \"2019-02-05\", \"count\": 410990}, {\"date\": \"2019-02-06\", \"count\": 426985}, {\"date\": \"2019-02-07\", \"count\": 422797}, {\"date\": \"2019-02-08\", \"count\": 486469}, {\"date\": \"2019-02-09\", \"count\": 459906}, {\"date\": \"2019-02-10\", \"count\": 400843}, {\"date\": \"2019-02-11\", \"count\": 434476}, {\"date\": \"2019-02-12\", \"count\": 429750}, {\"date\": \"2019-02-13\", \"count\": 431314}, {\"date\": \"2019-02-14\", \"count\": 448520}, {\"date\": \"2019-02-15\", \"count\": 501046}, {\"date\": \"2019-02-16\", \"count\": 489902}, {\"date\": \"2019-02-17\", \"count\": 432160}, {\"date\": \"2019-02-18\", \"count\": 436732}, {\"date\": \"2019-02-19\", \"count\": 426164}, {\"date\": \"2019-02-20\", \"count\": 438065}, {\"date\": \"2019-02-21\", \"count\": 452333}, {\"date\": \"2019-02-22\", \"count\": 509035}, {\"date\": \"2019-02-23\", \"count\": 466061}, {\"date\": \"2019-02-24\", \"count\": 384115}, {\"date\": \"2019-02-25\", \"count\": 478923}, {\"date\": \"2019-02-26\", \"count\": 439117}, {\"date\": \"2019-02-27\", \"count\": 499767}, {\"date\": \"2019-02-28\", \"count\": 482871}, {\"date\": \"2019-03-01\", \"count\": 519936}, {\"date\": \"2019-03-02\", \"count\": 521912}, {\"date\": \"2019-03-03\", \"count\": 457953}, {\"date\": \"2019-03-04\", \"count\": 473653}, {\"date\": \"2019-03-05\", \"count\": 465849}, {\"date\": \"2019-03-06\", \"count\": 475934}, {\"date\": \"2019-03-07\", \"count\": 587661}, {\"date\": \"2019-03-08\", \"count\": 520138}, {\"date\": \"2019-03-09\", \"count\": 457045}, {\"date\": \"2019-03-10\", \"count\": 443686}, {\"date\": \"2019-03-11\", \"count\": 499124}, {\"date\": \"2019-03-12\", \"count\": 424377}, {\"date\": \"2019-03-13\", \"count\": 425345}, {\"date\": \"2019-03-14\", \"count\": 491228}, {\"date\": \"2019-03-15\", \"count\": 552207}, {\"date\": \"2019-03-16\", \"count\": 460425}, {\"date\": \"2019-03-17\", \"count\": 407371}, {\"date\": \"2019-03-18\", \"count\": 429524}]}};\n",
       "const opt = {};\n",
       "const type = \"vega-lite\";\n",
       "const id = \"0a135e96-1ee7-42ee-b40e-575ca1a0eaa1\";\n",
       "\n",
       "const output_area = this;\n",
       "\n",
       "require([\"nbextensions/jupyter-vega/index\"], function(vega) {\n",
       "  const target = document.createElement(\"div\");\n",
       "  target.id = id;\n",
       "  target.className = \"vega-embed\";\n",
       "\n",
       "  const style = document.createElement(\"style\");\n",
       "  style.textContent = [\n",
       "    \".vega-embed .error p {\",\n",
       "    \"  color: firebrick;\",\n",
       "    \"  font-size: 14px;\",\n",
       "    \"}\",\n",
       "  ].join(\"\\\\n\");\n",
       "\n",
       "  // element is a jQuery wrapped DOM element inside the output area\n",
       "  // see http://ipython.readthedocs.io/en/stable/api/generated/\\\n",
       "  // IPython.display.html#IPython.display.Javascript.__init__\n",
       "  element[0].appendChild(target);\n",
       "  element[0].appendChild(style);\n",
       "\n",
       "  vega.render(\"#\" + id, spec, type, opt, output_area);\n",
       "}, function (err) {\n",
       "  if (err.requireType !== \"scripterror\") {\n",
       "    throw(err);\n",
       "  }\n",
       "});\n"
      ],
      "text/plain": [
       "<vega.vegalite.VegaLite at 0x260e6a610>"
      ]
     },
     "metadata": {
      "jupyter-vega": "#0a135e96-1ee7-42ee-b40e-575ca1a0eaa1"
     },
     "output_type": "display_data"
    },
    {
     "data": {
      "text/plain": []
     },
     "execution_count": 115,
     "metadata": {},
     "output_type": "execute_result"
    },
    {
     "data": {
      "image/png": "[encoded data removed]"
     },
     "metadata": {
      "jupyter-vega": "#0a135e96-1ee7-42ee-b40e-575ca1a0eaa1"
     },
     "output_type": "display_data"
    }
   ],
   "source": [
    "import altair as alt\n",
    "alt.renderers.enable('notebook')\n",
    "transactions_by_date['date'] = transactions_by_date['date'].astype(str)\n",
    "\n",
    "first = pd.to_datetime('2018-12-01')\n",
    "dates = [str((first + pd.DateOffset(weeks=2*m)).date()) for m in range(10)]\n",
    "\n",
    "alt.Chart(transactions_by_date).mark_line()\\\n",
    ".encode(\n",
    "    alt.X('date', axis=alt.Axis(values=dates, labelAngle=0)),\n",
    "    y='count',\n",
    "    tooltip='count'\n",
    ").properties(\n",
    "    width=800\n",
    ")"
   ]
  },
  {
   "cell_type": "code",
   "execution_count": null,
   "metadata": {},
   "outputs": [],
   "source": []
  }
 ],
 "metadata": {
  "kernelspec": {
   "display_name": "Python 3",
   "language": "python",
   "name": "python3"
  },
  "language_info": {
   "codemirror_mode": {
    "name": "ipython",
    "version": 3
   },
   "file_extension": ".py",
   "mimetype": "text/x-python",
   "name": "python",
   "nbconvert_exporter": "python",
   "pygments_lexer": "ipython3",
   "version": "3.7.5"
  }
 },
 "nbformat": 4,
 "nbformat_minor": 2
}
