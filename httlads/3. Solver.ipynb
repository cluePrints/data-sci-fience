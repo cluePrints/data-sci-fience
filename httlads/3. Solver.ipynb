{
 "cells": [
  {
   "cell_type": "code",
   "execution_count": 2,
   "metadata": {},
   "outputs": [],
   "source": [
    "import pulp"
   ]
  },
  {
   "cell_type": "code",
   "execution_count": 3,
   "metadata": {},
   "outputs": [],
   "source": [
    "# 1. With exactly 2700 square inches of cardboard, \n",
    "# we wish to construct a box (width 2x, depth x, height 2x).\n",
    "# We would like to maximize the volume V the box can hold.\n",
    "#Which values of width, depth, and height fulfill our objective?"
   ]
  },
  {
   "cell_type": "code",
   "execution_count": 4,
   "metadata": {},
   "outputs": [],
   "source": [
    "model = pulp.LpProblem(\"Volume maximising problem\", pulp.LpMaximize)\n",
    "width = pulp.LpVariable('width', lowBound=0, cat='Float')\n",
    "depth = pulp.LpVariable('depth', lowBound=0, cat='Float')\n",
    "height = pulp.LpVariable('height', lowBound=0, cat='Float')"
   ]
  },
  {
   "cell_type": "code",
   "execution_count": 5,
   "metadata": {},
   "outputs": [
    {
     "ename": "TypeError",
     "evalue": "Non-constant expressions cannot be multiplied",
     "output_type": "error",
     "traceback": [
      "\u001b[0;31m---------------------------------------------------------------------------\u001b[0m",
      "\u001b[0;31mTypeError\u001b[0m                                 Traceback (most recent call last)",
      "\u001b[0;32m<ipython-input-5-1cbe0e29754f>\u001b[0m in \u001b[0;36m<module>\u001b[0;34m\u001b[0m\n\u001b[1;32m      1\u001b[0m \u001b[0;31m# This is no longer LP :) Problem is convex though\u001b[0m\u001b[0;34m\u001b[0m\u001b[0;34m\u001b[0m\u001b[0;34m\u001b[0m\u001b[0m\n\u001b[0;32m----> 2\u001b[0;31m \u001b[0mmodel\u001b[0m \u001b[0;34m+=\u001b[0m \u001b[0mwidth\u001b[0m \u001b[0;34m*\u001b[0m \u001b[0mdepth\u001b[0m \u001b[0;34m*\u001b[0m \u001b[0mheight\u001b[0m\u001b[0;34m,\u001b[0m \u001b[0;34m\"Volume\"\u001b[0m\u001b[0;34m\u001b[0m\u001b[0;34m\u001b[0m\u001b[0m\n\u001b[0m",
      "\u001b[0;32m/usr/local/lib/python3.7/site-packages/pulp/pulp.py\u001b[0m in \u001b[0;36m__mul__\u001b[0;34m(self, other)\u001b[0m\n\u001b[1;32m    208\u001b[0m \u001b[0;34m\u001b[0m\u001b[0m\n\u001b[1;32m    209\u001b[0m     \u001b[0;32mdef\u001b[0m \u001b[0m__mul__\u001b[0m\u001b[0;34m(\u001b[0m\u001b[0mself\u001b[0m\u001b[0;34m,\u001b[0m \u001b[0mother\u001b[0m\u001b[0;34m)\u001b[0m\u001b[0;34m:\u001b[0m\u001b[0;34m\u001b[0m\u001b[0;34m\u001b[0m\u001b[0m\n\u001b[0;32m--> 210\u001b[0;31m         \u001b[0;32mreturn\u001b[0m \u001b[0mLpAffineExpression\u001b[0m\u001b[0;34m(\u001b[0m\u001b[0mself\u001b[0m\u001b[0;34m)\u001b[0m \u001b[0;34m*\u001b[0m \u001b[0mother\u001b[0m\u001b[0;34m\u001b[0m\u001b[0;34m\u001b[0m\u001b[0m\n\u001b[0m\u001b[1;32m    211\u001b[0m \u001b[0;34m\u001b[0m\u001b[0m\n\u001b[1;32m    212\u001b[0m     \u001b[0;32mdef\u001b[0m \u001b[0m__rmul__\u001b[0m\u001b[0;34m(\u001b[0m\u001b[0mself\u001b[0m\u001b[0;34m,\u001b[0m \u001b[0mother\u001b[0m\u001b[0;34m)\u001b[0m\u001b[0;34m:\u001b[0m\u001b[0;34m\u001b[0m\u001b[0;34m\u001b[0m\u001b[0m\n",
      "\u001b[0;32m/usr/local/lib/python3.7/site-packages/pulp/pulp.py\u001b[0m in \u001b[0;36m__mul__\u001b[0;34m(self, other)\u001b[0m\n\u001b[1;32m    786\u001b[0m                         \u001b[0me\u001b[0m\u001b[0;34m[\u001b[0m\u001b[0mv\u001b[0m\u001b[0;34m]\u001b[0m \u001b[0;34m=\u001b[0m \u001b[0mc\u001b[0m \u001b[0;34m*\u001b[0m \u001b[0mx\u001b[0m\u001b[0;34m\u001b[0m\u001b[0;34m\u001b[0m\u001b[0m\n\u001b[1;32m    787\u001b[0m         \u001b[0;32melif\u001b[0m \u001b[0misinstance\u001b[0m\u001b[0;34m(\u001b[0m\u001b[0mother\u001b[0m\u001b[0;34m,\u001b[0m\u001b[0mLpVariable\u001b[0m\u001b[0;34m)\u001b[0m\u001b[0;34m:\u001b[0m\u001b[0;34m\u001b[0m\u001b[0;34m\u001b[0m\u001b[0m\n\u001b[0;32m--> 788\u001b[0;31m             \u001b[0;32mreturn\u001b[0m \u001b[0mself\u001b[0m \u001b[0;34m*\u001b[0m \u001b[0mLpAffineExpression\u001b[0m\u001b[0;34m(\u001b[0m\u001b[0mother\u001b[0m\u001b[0;34m)\u001b[0m\u001b[0;34m\u001b[0m\u001b[0;34m\u001b[0m\u001b[0m\n\u001b[0m\u001b[1;32m    789\u001b[0m         \u001b[0;32melse\u001b[0m\u001b[0;34m:\u001b[0m\u001b[0;34m\u001b[0m\u001b[0;34m\u001b[0m\u001b[0m\n\u001b[1;32m    790\u001b[0m             \u001b[0;32mif\u001b[0m \u001b[0mother\u001b[0m \u001b[0;34m!=\u001b[0m \u001b[0;36m0\u001b[0m\u001b[0;34m:\u001b[0m\u001b[0;34m\u001b[0m\u001b[0;34m\u001b[0m\u001b[0m\n",
      "\u001b[0;32m/usr/local/lib/python3.7/site-packages/pulp/pulp.py\u001b[0m in \u001b[0;36m__mul__\u001b[0;34m(self, other)\u001b[0m\n\u001b[1;32m    774\u001b[0m             \u001b[0;32mif\u001b[0m \u001b[0mlen\u001b[0m\u001b[0;34m(\u001b[0m\u001b[0mother\u001b[0m\u001b[0;34m)\u001b[0m\u001b[0;34m:\u001b[0m\u001b[0;34m\u001b[0m\u001b[0;34m\u001b[0m\u001b[0m\n\u001b[1;32m    775\u001b[0m                 \u001b[0;32mif\u001b[0m \u001b[0mlen\u001b[0m\u001b[0;34m(\u001b[0m\u001b[0mself\u001b[0m\u001b[0;34m)\u001b[0m\u001b[0;34m:\u001b[0m\u001b[0;34m\u001b[0m\u001b[0;34m\u001b[0m\u001b[0m\n\u001b[0;32m--> 776\u001b[0;31m                     \u001b[0;32mraise\u001b[0m \u001b[0mTypeError\u001b[0m\u001b[0;34m(\u001b[0m\u001b[0;34m\"Non-constant expressions cannot be multiplied\"\u001b[0m\u001b[0;34m)\u001b[0m\u001b[0;34m\u001b[0m\u001b[0;34m\u001b[0m\u001b[0m\n\u001b[0m\u001b[1;32m    777\u001b[0m                 \u001b[0;32melse\u001b[0m\u001b[0;34m:\u001b[0m\u001b[0;34m\u001b[0m\u001b[0;34m\u001b[0m\u001b[0m\n\u001b[1;32m    778\u001b[0m                     \u001b[0mc\u001b[0m \u001b[0;34m=\u001b[0m \u001b[0mself\u001b[0m\u001b[0;34m.\u001b[0m\u001b[0mconstant\u001b[0m\u001b[0;34m\u001b[0m\u001b[0;34m\u001b[0m\u001b[0m\n",
      "\u001b[0;31mTypeError\u001b[0m: Non-constant expressions cannot be multiplied"
     ]
    }
   ],
   "source": [
    "# This is no longer LP :) Problem is convex though\n",
    "#model += width * depth * height, \"Volume\"\n",
    "\"\"\"\n",
    "---------------------------------------------------------------------------\n",
    "TypeError                                 Traceback (most recent call last)\n",
    "<ipython-input-5-1cbe0e29754f> in <module>\n",
    "      1 # This is no longer LP :) Problem is convex though\n",
    "----> 2 model += width * depth * height, \"Volume\"\n",
    "\n",
    "/usr/local/lib/python3.7/site-packages/pulp/pulp.py in __mul__(self, other)\n",
    "    208 \n",
    "    209     def __mul__(self, other):\n",
    "--> 210         return LpAffineExpression(self) * other\n",
    "    211 \n",
    "    212     def __rmul__(self, other):\n",
    "\n",
    "/usr/local/lib/python3.7/site-packages/pulp/pulp.py in __mul__(self, other)\n",
    "    786                         e[v] = c * x\n",
    "    787         elif isinstance(other,LpVariable):\n",
    "--> 788             return self * LpAffineExpression(other)\n",
    "    789         else:\n",
    "    790             if other != 0:\n",
    "\n",
    "/usr/local/lib/python3.7/site-packages/pulp/pulp.py in __mul__(self, other)\n",
    "    774             if len(other):\n",
    "    775                 if len(self):\n",
    "--> 776                     raise TypeError(\"Non-constant expressions cannot be multiplied\")\n",
    "    777                 else:\n",
    "    778                     c = self.constant\n",
    "\n",
    "TypeError: Non-constant expressions cannot be multiplied\n",
    "\"\"\""
   ]
  },
  {
   "cell_type": "code",
   "execution_count": 6,
   "metadata": {},
   "outputs": [],
   "source": [
    "import torch\n",
    "import numpy as np\n",
    "from torch.autograd import Variable\n",
    "from torch import tensor\n",
    "from itertools import combinations"
   ]
  },
  {
   "cell_type": "code",
   "execution_count": 7,
   "metadata": {},
   "outputs": [],
   "source": [
    "device = torch.device('cpu')"
   ]
  },
  {
   "cell_type": "code",
   "execution_count": 76,
   "metadata": {},
   "outputs": [
    {
     "name": "stdout",
     "output_type": "stream",
     "text": [
      "000: w: 2.000, h: 2.000, d: 1.001, sq: 8.000, vol: 4.005\n",
      "001: w: 2.003, h: 2.003, d: 1.003, sq: 8.021, vol: 4.021\n",
      "002: w: 2.005, h: 2.005, d: 1.004, sq: 8.042, vol: 4.037\n",
      "003: w: 2.008, h: 2.008, d: 1.005, sq: 8.063, vol: 4.052\n",
      "004: w: 2.010, h: 2.010, d: 1.007, sq: 8.084, vol: 4.068\n",
      "005: w: 2.013, h: 2.013, d: 1.008, sq: 8.105, vol: 4.084\n",
      "006: w: 2.016, h: 2.016, d: 1.009, sq: 8.126, vol: 4.100\n",
      "007: w: 2.018, h: 2.018, d: 1.010, sq: 8.147, vol: 4.116\n",
      "008: w: 2.021, h: 2.021, d: 1.012, sq: 8.169, vol: 4.133\n",
      "009: w: 2.024, h: 2.024, d: 1.013, sq: 8.190, vol: 4.149\n",
      "010: w: 2.026, h: 2.026, d: 1.014, sq: 8.212, vol: 4.165\n",
      "011: w: 2.029, h: 2.029, d: 1.016, sq: 8.233, vol: 4.182\n",
      "012: w: 2.032, h: 2.032, d: 1.017, sq: 8.255, vol: 4.198\n",
      "013: w: 2.034, h: 2.034, d: 1.018, sq: 8.277, vol: 4.215\n",
      "014: w: 2.037, h: 2.037, d: 1.020, sq: 8.299, vol: 4.232\n",
      "015: w: 2.040, h: 2.040, d: 1.021, sq: 8.320, vol: 4.248\n",
      "016: w: 2.042, h: 2.042, d: 1.023, sq: 8.342, vol: 4.265\n",
      "017: w: 2.045, h: 2.045, d: 1.024, sq: 8.365, vol: 4.282\n",
      "018: w: 2.048, h: 2.048, d: 1.025, sq: 8.387, vol: 4.299\n",
      "019: w: 2.050, h: 2.050, d: 1.027, sq: 8.409, vol: 4.316\n",
      "020: w: 2.053, h: 2.053, d: 1.028, sq: 8.431, vol: 4.334\n",
      "021: w: 2.056, h: 2.056, d: 1.029, sq: 8.454, vol: 4.351\n",
      "022: w: 2.059, h: 2.059, d: 1.031, sq: 8.476, vol: 4.368\n",
      "023: w: 2.061, h: 2.061, d: 1.032, sq: 8.499, vol: 4.386\n",
      "024: w: 2.064, h: 2.064, d: 1.033, sq: 8.522, vol: 4.403\n",
      "025: w: 2.067, h: 2.067, d: 1.035, sq: 8.544, vol: 4.421\n",
      "026: w: 2.070, h: 2.070, d: 1.036, sq: 8.567, vol: 4.439\n",
      "027: w: 2.072, h: 2.072, d: 1.038, sq: 8.590, vol: 4.457\n",
      "028: w: 2.075, h: 2.075, d: 1.039, sq: 8.613, vol: 4.475\n",
      "029: w: 2.078, h: 2.078, d: 1.040, sq: 8.636, vol: 4.493\n",
      "030: w: 2.081, h: 2.081, d: 1.042, sq: 8.660, vol: 4.511\n",
      "031: w: 2.084, h: 2.084, d: 1.043, sq: 8.683, vol: 4.529\n",
      "032: w: 2.086, h: 2.086, d: 1.045, sq: 8.706, vol: 4.547\n",
      "033: w: 2.089, h: 2.089, d: 1.046, sq: 8.730, vol: 4.566\n",
      "034: w: 2.092, h: 2.092, d: 1.047, sq: 8.753, vol: 4.584\n",
      "035: w: 2.095, h: 2.095, d: 1.049, sq: 8.777, vol: 4.603\n",
      "036: w: 2.098, h: 2.098, d: 1.050, sq: 8.801, vol: 4.622\n",
      "037: w: 2.101, h: 2.101, d: 1.052, sq: 8.825, vol: 4.640\n",
      "038: w: 2.103, h: 2.103, d: 1.053, sq: 8.849, vol: 4.659\n",
      "039: w: 2.106, h: 2.106, d: 1.055, sq: 8.873, vol: 4.678\n",
      "040: w: 2.109, h: 2.109, d: 1.056, sq: 8.897, vol: 4.697\n",
      "041: w: 2.112, h: 2.112, d: 1.057, sq: 8.921, vol: 4.717\n",
      "042: w: 2.115, h: 2.115, d: 1.059, sq: 8.945, vol: 4.736\n",
      "043: w: 2.118, h: 2.118, d: 1.060, sq: 8.970, vol: 4.755\n",
      "044: w: 2.121, h: 2.121, d: 1.062, sq: 8.994, vol: 4.775\n",
      "045: w: 2.124, h: 2.124, d: 1.063, sq: 9.019, vol: 4.794\n",
      "046: w: 2.126, h: 2.126, d: 1.065, sq: 9.043, vol: 4.814\n",
      "047: w: 2.129, h: 2.129, d: 1.066, sq: 9.068, vol: 4.834\n",
      "048: w: 2.132, h: 2.132, d: 1.068, sq: 9.093, vol: 4.854\n",
      "049: w: 2.135, h: 2.135, d: 1.069, sq: 9.118, vol: 4.874\n"
     ]
    }
   ],
   "source": [
    "# Note to self: I bumped into initialization, gradient explosion, lr schedule / skipping the minima \n",
    "# ...and this is not quite a neural network yet!\n",
    "x_var = Variable(tensor(10.), requires_grad=True)\n",
    "\n",
    "def loss_func(v):\n",
    "    width = 2*v\n",
    "    depth = v\n",
    "    height = 2*v\n",
    "    dims = [width, depth, height]\n",
    "    \n",
    "    volume = 1;\n",
    "    for dim in dims:\n",
    "        volume *= dim\n",
    "\n",
    "    ## objective: max volume\n",
    "    loss_v = -volume\n",
    "    \n",
    "    square = 0;\n",
    "    for dim1, dim2 in combinations(dims, 2):\n",
    "        square += dim1 * dim2;\n",
    "\n",
    "    ## constraint: total square <= 2700\n",
    "    loss_sq = min(0, 2700 - square)\n",
    "    loss_sq = loss_sq**2\n",
    "\n",
    "    ## constraint: dims are positive\n",
    "    loss_dim_pos = min(0, -v)\n",
    "        \n",
    "    loss = loss_v + loss_sq + loss_dim_pos\n",
    "\n",
    "    return loss, square, width, depth, height\n",
    "\n",
    "square = 0;\n",
    "vol = 0;\n",
    "lr = 1e-4\n",
    "for i in range(50):\n",
    "    loss, square, width, depth, height = loss_func(x_var)\n",
    "    loss.backward()\n",
    "    with torch.no_grad():\n",
    "        x_var -= lr * x_var.grad\n",
    "        # otherwise these are collected\n",
    "        x_var.grad.zero_()\n",
    "\n",
    "        vol = (width * height * depth).item()\n",
    "        sq = square.item()\n",
    "    print(f\"{i:03d}: w: {width:.3f}, h: {height:.3f}, d: {depth:.3f}, sq: {sq:.3f}, vol: {vol:.3f}\")"
   ]
  },
  {
   "cell_type": "code",
   "execution_count": 180,
   "metadata": {},
   "outputs": [],
   "source": [
    "# 3. A farmer wants to customize his fertilizer for his current crop.\n",
    "# He can buy plant food mix A and plant food mix B. \n",
    "# Each cubic yard of food A contains 20 pounds of phosphoric acid, 30 pounds of nitrogen and 5 pounds of potash. \n",
    "# Each cubic yard of food B contains 10 pounds of phosphoric acid, 30 pounds of nitrogen and 10 pounds of potash.\n",
    "# He requires a minimum of 460 pounds of phosphoric acid, 9060 pounds of nitrogen and 220 pounds of potash. \n",
    "# If food A costs $30 per cubic yard and food B costs $35 per cubic yard, \n",
    "# how many cubic yards of each food should the farmer blend to meet the minimum chemical requirements at a minimal cost?\n",
    "# What is this cost?\n",
    "model = pulp.LpProblem(\"Cost minimization problem\", pulp.LpMinimize)\n",
    "volumeA = pulp.LpVariable('volumeA', lowBound=0, cat='Float')\n",
    "volumeB = pulp.LpVariable('volumeB', lowBound=0, cat='Float')\n",
    "model += volumeA * 20 + volumeB * 30, \"Cost\"\n",
    "model += 20*volumeA + 10*volumeB >= 460.0, \"Phosphoric acid requirement\"\n",
    "model += 30*volumeA + 30*volumeB >= 9060.0, \"Nitrogen requirement\"\n",
    "model += 5*volumeA + 10*volumeB >= 220.0, \"Potash requirement\""
   ]
  },
  {
   "cell_type": "code",
   "execution_count": 181,
   "metadata": {},
   "outputs": [
    {
     "data": {
      "text/plain": [
       "1"
      ]
     },
     "execution_count": 181,
     "metadata": {},
     "output_type": "execute_result"
    }
   ],
   "source": [
    "model.solve()"
   ]
  },
  {
   "cell_type": "code",
   "execution_count": 182,
   "metadata": {},
   "outputs": [
    {
     "data": {
      "text/plain": [
       "'Optimal'"
      ]
     },
     "execution_count": 182,
     "metadata": {},
     "output_type": "execute_result"
    }
   ],
   "source": [
    "pulp.LpStatus[model.status]"
   ]
  },
  {
   "cell_type": "code",
   "execution_count": 183,
   "metadata": {},
   "outputs": [
    {
     "data": {
      "text/plain": [
       "6040.0"
      ]
     },
     "execution_count": 183,
     "metadata": {},
     "output_type": "execute_result"
    }
   ],
   "source": [
    "pulp.value(model.objective)"
   ]
  },
  {
   "cell_type": "code",
   "execution_count": 184,
   "metadata": {},
   "outputs": [
    {
     "name": "stdout",
     "output_type": "stream",
     "text": [
      "volumeA = 302.0\n",
      "volumeB = 0.0\n"
     ]
    }
   ],
   "source": [
    "for v in model.variables():\n",
    "    print(v.name, \"=\", v.varValue)"
   ]
  }
 ],
 "metadata": {
  "kernelspec": {
   "display_name": "Python 3",
   "language": "python",
   "name": "python3"
  },
  "language_info": {
   "codemirror_mode": {
    "name": "ipython",
    "version": 3
   },
   "file_extension": ".py",
   "mimetype": "text/x-python",
   "name": "python",
   "nbconvert_exporter": "python",
   "pygments_lexer": "ipython3",
   "version": "3.7.4"
  }
 },
 "nbformat": 4,
 "nbformat_minor": 2
}
