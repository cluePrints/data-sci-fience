{
 "cells": [
  {
   "cell_type": "code",
   "execution_count": 1,
   "metadata": {},
   "outputs": [],
   "source": [
    "import pulp"
   ]
  },
  {
   "cell_type": "code",
   "execution_count": 2,
   "metadata": {},
   "outputs": [],
   "source": [
    "# With exactly 2700 square inches of cardboard, \n",
    "# we wish to construct a box (width 2x, depth x, height 2x).\n",
    "# We would like to maximize the volume V the box can hold.\n",
    "#Which values of width, depth, and height fulfill our objective?"
   ]
  },
  {
   "cell_type": "code",
   "execution_count": 3,
   "metadata": {},
   "outputs": [],
   "source": [
    "model = pulp.LpProblem(\"Volume maximising problem\", pulp.LpMaximize)\n",
    "width = pulp.LpVariable('width', lowBound=0, cat='Float')\n",
    "depth = pulp.LpVariable('depth', lowBound=0, cat='Float')\n",
    "height = pulp.LpVariable('height', lowBound=0, cat='Float')"
   ]
  },
  {
   "cell_type": "code",
   "execution_count": 4,
   "metadata": {},
   "outputs": [
    {
     "ename": "TypeError",
     "evalue": "Non-constant expressions cannot be multiplied",
     "output_type": "error",
     "traceback": [
      "\u001b[0;31m---------------------------------------------------------------------------\u001b[0m",
      "\u001b[0;31mTypeError\u001b[0m                                 Traceback (most recent call last)",
      "\u001b[0;32m<ipython-input-4-d111a2d2e6e2>\u001b[0m in \u001b[0;36m<module>\u001b[0;34m\u001b[0m\n\u001b[0;32m----> 1\u001b[0;31m \u001b[0mmodel\u001b[0m \u001b[0;34m+=\u001b[0m \u001b[0mwidth\u001b[0m \u001b[0;34m*\u001b[0m \u001b[0mdepth\u001b[0m \u001b[0;34m*\u001b[0m \u001b[0mheight\u001b[0m\u001b[0;34m,\u001b[0m \u001b[0;34m\"Volume\"\u001b[0m\u001b[0;34m\u001b[0m\u001b[0;34m\u001b[0m\u001b[0m\n\u001b[0m",
      "\u001b[0;32m/usr/local/lib/python3.7/site-packages/pulp/pulp.py\u001b[0m in \u001b[0;36m__mul__\u001b[0;34m(self, other)\u001b[0m\n\u001b[1;32m    208\u001b[0m \u001b[0;34m\u001b[0m\u001b[0m\n\u001b[1;32m    209\u001b[0m     \u001b[0;32mdef\u001b[0m \u001b[0m__mul__\u001b[0m\u001b[0;34m(\u001b[0m\u001b[0mself\u001b[0m\u001b[0;34m,\u001b[0m \u001b[0mother\u001b[0m\u001b[0;34m)\u001b[0m\u001b[0;34m:\u001b[0m\u001b[0;34m\u001b[0m\u001b[0;34m\u001b[0m\u001b[0m\n\u001b[0;32m--> 210\u001b[0;31m         \u001b[0;32mreturn\u001b[0m \u001b[0mLpAffineExpression\u001b[0m\u001b[0;34m(\u001b[0m\u001b[0mself\u001b[0m\u001b[0;34m)\u001b[0m \u001b[0;34m*\u001b[0m \u001b[0mother\u001b[0m\u001b[0;34m\u001b[0m\u001b[0;34m\u001b[0m\u001b[0m\n\u001b[0m\u001b[1;32m    211\u001b[0m \u001b[0;34m\u001b[0m\u001b[0m\n\u001b[1;32m    212\u001b[0m     \u001b[0;32mdef\u001b[0m \u001b[0m__rmul__\u001b[0m\u001b[0;34m(\u001b[0m\u001b[0mself\u001b[0m\u001b[0;34m,\u001b[0m \u001b[0mother\u001b[0m\u001b[0;34m)\u001b[0m\u001b[0;34m:\u001b[0m\u001b[0;34m\u001b[0m\u001b[0;34m\u001b[0m\u001b[0m\n",
      "\u001b[0;32m/usr/local/lib/python3.7/site-packages/pulp/pulp.py\u001b[0m in \u001b[0;36m__mul__\u001b[0;34m(self, other)\u001b[0m\n\u001b[1;32m    786\u001b[0m                         \u001b[0me\u001b[0m\u001b[0;34m[\u001b[0m\u001b[0mv\u001b[0m\u001b[0;34m]\u001b[0m \u001b[0;34m=\u001b[0m \u001b[0mc\u001b[0m \u001b[0;34m*\u001b[0m \u001b[0mx\u001b[0m\u001b[0;34m\u001b[0m\u001b[0;34m\u001b[0m\u001b[0m\n\u001b[1;32m    787\u001b[0m         \u001b[0;32melif\u001b[0m \u001b[0misinstance\u001b[0m\u001b[0;34m(\u001b[0m\u001b[0mother\u001b[0m\u001b[0;34m,\u001b[0m\u001b[0mLpVariable\u001b[0m\u001b[0;34m)\u001b[0m\u001b[0;34m:\u001b[0m\u001b[0;34m\u001b[0m\u001b[0;34m\u001b[0m\u001b[0m\n\u001b[0;32m--> 788\u001b[0;31m             \u001b[0;32mreturn\u001b[0m \u001b[0mself\u001b[0m \u001b[0;34m*\u001b[0m \u001b[0mLpAffineExpression\u001b[0m\u001b[0;34m(\u001b[0m\u001b[0mother\u001b[0m\u001b[0;34m)\u001b[0m\u001b[0;34m\u001b[0m\u001b[0;34m\u001b[0m\u001b[0m\n\u001b[0m\u001b[1;32m    789\u001b[0m         \u001b[0;32melse\u001b[0m\u001b[0;34m:\u001b[0m\u001b[0;34m\u001b[0m\u001b[0;34m\u001b[0m\u001b[0m\n\u001b[1;32m    790\u001b[0m             \u001b[0;32mif\u001b[0m \u001b[0mother\u001b[0m \u001b[0;34m!=\u001b[0m \u001b[0;36m0\u001b[0m\u001b[0;34m:\u001b[0m\u001b[0;34m\u001b[0m\u001b[0;34m\u001b[0m\u001b[0m\n",
      "\u001b[0;32m/usr/local/lib/python3.7/site-packages/pulp/pulp.py\u001b[0m in \u001b[0;36m__mul__\u001b[0;34m(self, other)\u001b[0m\n\u001b[1;32m    774\u001b[0m             \u001b[0;32mif\u001b[0m \u001b[0mlen\u001b[0m\u001b[0;34m(\u001b[0m\u001b[0mother\u001b[0m\u001b[0;34m)\u001b[0m\u001b[0;34m:\u001b[0m\u001b[0;34m\u001b[0m\u001b[0;34m\u001b[0m\u001b[0m\n\u001b[1;32m    775\u001b[0m                 \u001b[0;32mif\u001b[0m \u001b[0mlen\u001b[0m\u001b[0;34m(\u001b[0m\u001b[0mself\u001b[0m\u001b[0;34m)\u001b[0m\u001b[0;34m:\u001b[0m\u001b[0;34m\u001b[0m\u001b[0;34m\u001b[0m\u001b[0m\n\u001b[0;32m--> 776\u001b[0;31m                     \u001b[0;32mraise\u001b[0m \u001b[0mTypeError\u001b[0m\u001b[0;34m(\u001b[0m\u001b[0;34m\"Non-constant expressions cannot be multiplied\"\u001b[0m\u001b[0;34m)\u001b[0m\u001b[0;34m\u001b[0m\u001b[0;34m\u001b[0m\u001b[0m\n\u001b[0m\u001b[1;32m    777\u001b[0m                 \u001b[0;32melse\u001b[0m\u001b[0;34m:\u001b[0m\u001b[0;34m\u001b[0m\u001b[0;34m\u001b[0m\u001b[0m\n\u001b[1;32m    778\u001b[0m                     \u001b[0mc\u001b[0m \u001b[0;34m=\u001b[0m \u001b[0mself\u001b[0m\u001b[0;34m.\u001b[0m\u001b[0mconstant\u001b[0m\u001b[0;34m\u001b[0m\u001b[0;34m\u001b[0m\u001b[0m\n",
      "\u001b[0;31mTypeError\u001b[0m: Non-constant expressions cannot be multiplied"
     ]
    }
   ],
   "source": [
    "# This is no longer LP :) Problem is convex though\n",
    "model += width * depth * height, \"Volume\""
   ]
  },
  {
   "cell_type": "code",
   "execution_count": 19,
   "metadata": {},
   "outputs": [],
   "source": [
    "import torch\n",
    "import numpy as np\n",
    "from torch.autograd import Variable\n",
    "from torch import tensor\n",
    "from itertools import combinations"
   ]
  },
  {
   "cell_type": "code",
   "execution_count": 11,
   "metadata": {},
   "outputs": [],
   "source": [
    "device = torch.device('cpu')"
   ]
  },
  {
   "cell_type": "code",
   "execution_count": 70,
   "metadata": {},
   "outputs": [
    {
     "name": "stdout",
     "output_type": "stream",
     "text": [
      "000: w: 2.000, h: 2.000, d: 1.862, sq: 8.000\n",
      "001: w: 3.723, h: 3.723, d: 3.454, sq: 27.723\n",
      "002: w: 6.908, h: 6.908, d: 6.334, sq: 95.433\n",
      "003: w: 12.668, h: 12.668, d: 11.161, sq: 320.949\n",
      "004: w: 22.321, h: 22.321, d: 17.260, sq: 996.497\n",
      "005: w: 34.519, h: 34.519, d: 19.045, sq: 2383.162\n",
      "006: w: 38.091, h: 38.091, d: 17.859, sq: 2901.792\n",
      "007: w: 35.718, h: 35.718, d: 18.746, sq: 2551.557\n",
      "008: w: 37.491, h: 37.491, d: 18.121, sq: 2811.189\n",
      "009: w: 36.242, h: 36.242, d: 18.584, sq: 2626.913\n",
      "010: w: 37.168, h: 37.168, d: 18.251, sq: 2762.930\n",
      "011: w: 36.502, h: 36.502, d: 18.496, sq: 2664.862\n",
      "012: w: 36.993, h: 36.993, d: 18.319, sq: 2736.944\n",
      "013: w: 36.638, h: 36.638, d: 18.449, sq: 2684.633\n",
      "014: w: 36.898, h: 36.898, d: 18.354, sq: 2722.975\n",
      "015: w: 36.709, h: 36.709, d: 18.424, sq: 2695.065\n",
      "016: w: 36.848, h: 36.848, d: 18.373, sq: 2715.488\n",
      "017: w: 36.746, h: 36.746, d: 18.410, sq: 2700.599\n",
      "018: w: 36.820, h: 36.820, d: 18.383, sq: 2711.483\n",
      "019: w: 36.766, h: 36.766, d: 18.403, sq: 2703.542\n",
      "020: w: 36.806, h: 36.806, d: 18.389, sq: 2709.344\n",
      "021: w: 36.777, h: 36.777, d: 18.399, sq: 2705.110\n",
      "022: w: 36.798, h: 36.798, d: 18.391, sq: 2708.202\n",
      "023: w: 36.783, h: 36.783, d: 18.397, sq: 2705.945\n",
      "024: w: 36.794, h: 36.794, d: 18.393, sq: 2707.593\n",
      "025: w: 36.786, h: 36.786, d: 18.396, sq: 2706.390\n",
      "026: w: 36.792, h: 36.792, d: 18.394, sq: 2707.268\n",
      "027: w: 36.787, h: 36.787, d: 18.395, sq: 2706.628\n",
      "028: w: 36.791, h: 36.791, d: 18.394, sq: 2707.095\n",
      "029: w: 36.788, h: 36.788, d: 18.395, sq: 2706.753\n"
     ]
    }
   ],
   "source": [
    "x_var = Variable(tensor(1.), requires_grad=True)\n",
    "\n",
    "def loss_func(v):\n",
    "    width = 2*v\n",
    "    depth = v\n",
    "    height = 2*v\n",
    "    dims = [width, depth, height]\n",
    "    \n",
    "    volume = 1;\n",
    "    for dim in dims:\n",
    "        volume *= dim\n",
    "\n",
    "    ## objective: max volume\n",
    "    loss = -volume\n",
    "    \n",
    "    square = 0;\n",
    "    for dim1, dim2 in combinations(dims, 2):\n",
    "        square += dim1 * dim2;\n",
    "        \n",
    "    ## constraint: total square <= 2700\n",
    "    loss += (2700 - square).pow(2)\n",
    "\n",
    "    return loss, square, width, depth, height\n",
    "\n",
    "square = 0;\n",
    "vol = 0;\n",
    "lr = 1e-5\n",
    "for i in range(30):\n",
    "    loss, square, width, depth, height = loss_func(x_var)\n",
    "    loss.backward()\n",
    "    with torch.no_grad():\n",
    "        x_var -= lr * x_var.grad\n",
    "        # otherwise these are collected\n",
    "        x_var.grad.zero_()\n",
    "                                                     \n",
    "        vol = (width * height * depth).item()\n",
    "        sq = square.item()\n",
    "    print(f\"{i:03d}: w: {width:.3f}, h: {height:.3f}, d: {depth:.3f}, sq: {sq:.3f}\")"
   ]
  }
 ],
 "metadata": {
  "kernelspec": {
   "display_name": "Python 3",
   "language": "python",
   "name": "python3"
  },
  "language_info": {
   "codemirror_mode": {
    "name": "ipython",
    "version": 3
   },
   "file_extension": ".py",
   "mimetype": "text/x-python",
   "name": "python",
   "nbconvert_exporter": "python",
   "pygments_lexer": "ipython3",
   "version": "3.7.4"
  }
 },
 "nbformat": 4,
 "nbformat_minor": 2
}
