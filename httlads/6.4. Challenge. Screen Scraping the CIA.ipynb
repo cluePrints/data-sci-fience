{
 "cells": [
  {
   "cell_type": "code",
   "execution_count": 35,
   "metadata": {},
   "outputs": [],
   "source": [
    "import pandas as pd\n",
    "import requests"
   ]
  },
  {
   "cell_type": "code",
   "execution_count": 36,
   "metadata": {},
   "outputs": [
    {
     "name": "stdout",
     "output_type": "stream",
     "text": [
      "2001.html\r\n",
      "2002.html\r\n",
      "2003.html\r\n",
      "2004.html\r\n",
      "2006.html\r\n",
      "2007.html\r\n",
      "2008.html\r\n",
      "2010.html\r\n",
      "2011.html\r\n",
      "2012.html\r\n"
     ]
    }
   ],
   "source": [
    "!ls ~/Downloads/factbook-2017/fields | head -n10"
   ]
  },
  {
   "cell_type": "code",
   "execution_count": 37,
   "metadata": {},
   "outputs": [],
   "source": [
    "from bs4 import BeautifulSoup"
   ]
  },
  {
   "cell_type": "code",
   "execution_count": 38,
   "metadata": {},
   "outputs": [],
   "source": [
    "path = os.path.expanduser('~/Downloads/factbook-2017/docs/notesanddefs.html')\n",
    "page = open(path).read()"
   ]
  },
  {
   "cell_type": "code",
   "execution_count": 39,
   "metadata": {},
   "outputs": [
    {
     "name": "stdout",
     "output_type": "stream",
     "text": [
      "<!DOCTYPE html>\n",
      "<!--[if lt IE 7]> <html class=\"no-js lt-ie9 lt-ie8 lt-ie7\" lang=\"en\"> <![endif]-->\n",
      "<!--[if IE 7]>    <html class=\"no-js lt-ie9 lt-ie8\" lang=\"en\"> <![endif]-->\n",
      "<!--[if IE 8]>    <html class=\"no-js lt-ie9\" lang=\"en\"> <![endif]-->\n",
      "<!--[if gt IE 8]><!-->\n",
      "<!--<![endif]-->\n",
      "<html class=\"no-js\" lang=\"en\">\n",
      " <!-- InstanceBegin template=\"/Templates/wfbext_template.dwt.cfm\" codeOutsideHTMLIsLocked=\"false\" -->\n",
      " <head>\n",
      "  <meta charset=\"utf-8\"/>\n",
      "  <meta content=\"IE=edge,chrome=1\" http-equiv=\"X-UA-Compatible\"/>\n",
      "  <!-- InstanceBeginEditable name=\"doctitle\" -->\n",
      "  <title>\n",
      "   The World Factbook\n",
      "  </title>\n",
      "  <!-- InstanceEndEditable -->\n",
      "  <meta content=\"\" name=\"description\"/>\n",
      "  <meta content=\"width=device-width\" name=\"viewport\"/>\n",
      "  <link href=\"../css/fullscreen-external.css\" rel=\"stylesheet\" type=\"text/css\"/>\n",
      "  <script src=\"../js/modernizr-latest.js\">\n",
      "  </script>\n",
      "  <!--developers version - switch to specific production http://modernizr.com/download/-->\n",
      "  <script src=\"../js/jquery-1.8.3.min.\n"
     ]
    }
   ],
   "source": [
    "page = BeautifulSoup(page)\n",
    "print(page.prettify()[:1000])"
   ]
  },
  {
   "cell_type": "code",
   "execution_count": 40,
   "metadata": {},
   "outputs": [
    {
     "name": "stdout",
     "output_type": "stream",
     "text": [
      "793\n"
     ]
    }
   ],
   "source": [
    "# Q-1: How many div tags are on the page? \n",
    "divs = page.select('div')\n",
    "print(len(divs))"
   ]
  },
  {
   "cell_type": "code",
   "execution_count": 41,
   "metadata": {},
   "outputs": [
    {
     "data": {
      "text/plain": [
       "<button aria-hidden=\"true\" aria-label=\"Close\" class=\"cfclose\" data-dismiss=\"modal\" type=\"button\">×</button>"
      ]
     },
     "execution_count": 41,
     "metadata": {},
     "output_type": "execute_result"
    }
   ],
   "source": [
    "# Q-2: What kind of tag is the last tag to have the class of “cfclose”?\n",
    "tags = page.select(\".cfclose\")\n",
    "tags[-1]"
   ]
  },
  {
   "cell_type": "code",
   "execution_count": 84,
   "metadata": {},
   "outputs": [],
   "source": [
    "file_by_category = {}\n",
    "cols = page.select(\"span.category\")\n",
    "for col in cols:\n",
    "    cells = col.select('td')\n",
    "    colname = cells[0].text\n",
    "    links = cells[1].select('a')\n",
    "    if len(links) > 0:\n",
    "        fpath = links[0]['href']\n",
    "        file_by_category[colname] = fpath.split('#')[0]"
   ]
  },
  {
   "cell_type": "code",
   "execution_count": 85,
   "metadata": {},
   "outputs": [
    {
     "data": {
      "text/plain": [
       "'../fields/2153.html'"
      ]
     },
     "execution_count": 85,
     "metadata": {},
     "output_type": "execute_result"
    }
   ],
   "source": [
    "# Q-3: What is the path and filename for the file containing the data for “Internet users”? \n",
    "file_by_category['Internet users']"
   ]
  },
  {
   "cell_type": "code",
   "execution_count": 117,
   "metadata": {},
   "outputs": [
    {
     "data": {
      "text/plain": [
       "'../fields/2147.html'"
      ]
     },
     "execution_count": 117,
     "metadata": {},
     "output_type": "execute_result"
    }
   ],
   "source": [
    "file_by_category['Area']"
   ]
  },
  {
   "cell_type": "code",
   "execution_count": 128,
   "metadata": {},
   "outputs": [
    {
     "data": {
      "text/plain": [
       "[('af', 'total: 652,230 sq km\\nland: 652,230 sq km\\nwater: 0 sq km'),\n",
       " ('ax', 'total: 123 sq km\\nnote: includes a salt lake and wetlands')]"
      ]
     },
     "execution_count": 128,
     "metadata": {},
     "output_type": "execute_result"
    }
   ],
   "source": [
    "def extract_col(col_name):\n",
    "    path = os.path.expanduser('~/Downloads/factbook-2017/docs/' + file_by_category[col_name])\n",
    "    page = open(path).read()\n",
    "    page = BeautifulSoup(page)\n",
    "\n",
    "    rows = page.select('#fieldListing tr')\n",
    "    rows\n",
    "\n",
    "    result = {}\n",
    "    \n",
    "    for row in rows:\n",
    "        if (row.has_attr('class') and 'fieldHeading' in row['class']):\n",
    "            continue\n",
    "        country_code = row['id']\n",
    "        country_name = row.select('td > a')[0].text\n",
    "        field_data = row.select('.fieldData')[0].text\n",
    "        \n",
    "        result[country_code] = field_data.strip()\n",
    "\n",
    "    return result\n",
    "\n",
    "    \n",
    "list(extract_col(\"Area\").items())[:2]"
   ]
  },
  {
   "cell_type": "code",
   "execution_count": 138,
   "metadata": {},
   "outputs": [],
   "source": [
    "target_columns = \"\"\"\n",
    "Population\n",
    "Area\n",
    "Coastline\n",
    "Climate\n",
    "Net migration rate\n",
    "Birth rate\n",
    "Death rate\n",
    "Infant mortality rate\n",
    "Literacy\n",
    "GDP (purchasing power parity)\n",
    "Government type\n",
    "Inflation rate (consumer prices)\n",
    "Health expenditures\n",
    "GDP - composition, by sector of origin\n",
    "Land use\n",
    "Internet users\"\"\".strip().split('\\n')\n",
    "\n",
    "result_dict = {}\n",
    "for col_name in target_columns:\n",
    "    result_dict[col_name] = extract_col(col_name)"
   ]
  },
  {
   "cell_type": "code",
   "execution_count": 170,
   "metadata": {},
   "outputs": [],
   "source": [
    "df = pd.DataFrame(result_dict)"
   ]
  },
  {
   "cell_type": "code",
   "execution_count": 172,
   "metadata": {},
   "outputs": [],
   "source": [
    "df[df['Infant mortality rate'] == 'total: NA\\nmale: NA\\nfemale: NA'] = 'NaN'"
   ]
  },
  {
   "cell_type": "code",
   "execution_count": 173,
   "metadata": {},
   "outputs": [],
   "source": [
    "df['Infant mortality rate'] = df['Infant mortality rate'].str.split(' ', expand=True)[1]"
   ]
  },
  {
   "cell_type": "code",
   "execution_count": 175,
   "metadata": {},
   "outputs": [],
   "source": [
    "df['Infant mortality rate'] = df['Infant mortality rate'].astype(float)"
   ]
  },
  {
   "cell_type": "code",
   "execution_count": 177,
   "metadata": {},
   "outputs": [
    {
     "data": {
      "text/plain": [
       "22.13"
      ]
     },
     "execution_count": 177,
     "metadata": {},
     "output_type": "execute_result"
    }
   ],
   "source": [
    "# Q-4: What is the average value for the column Infant mortality rate, to two significant digits? \n",
    "round(df['Infant mortality rate'].mean(), 2)"
   ]
  },
  {
   "cell_type": "code",
   "execution_count": null,
   "metadata": {},
   "outputs": [],
   "source": []
  }
 ],
 "metadata": {
  "kernelspec": {
   "display_name": "Python 3",
   "language": "python",
   "name": "python3"
  },
  "language_info": {
   "codemirror_mode": {
    "name": "ipython",
    "version": 3
   },
   "file_extension": ".py",
   "mimetype": "text/x-python",
   "name": "python",
   "nbconvert_exporter": "python",
   "pygments_lexer": "ipython3",
   "version": "3.7.5"
  }
 },
 "nbformat": 4,
 "nbformat_minor": 2
}
