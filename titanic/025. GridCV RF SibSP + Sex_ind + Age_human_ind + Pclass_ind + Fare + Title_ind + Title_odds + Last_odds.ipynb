{
 "cells": [
  {
   "cell_type": "code",
   "execution_count": 23,
   "metadata": {},
   "outputs": [],
   "source": [
    "import pandas as pd\n",
    "import numpy as np"
   ]
  },
  {
   "cell_type": "code",
   "execution_count": 24,
   "metadata": {},
   "outputs": [],
   "source": [
    "processed = 'processed'\n",
    "submissions = 'submissions'\n",
    "features = 'features'\n",
    "df_train = pd.read_csv(f'{processed}/train.csv')\n",
    "df_test =  pd.read_csv(f'{processed}/test.csv')"
   ]
  },
  {
   "cell_type": "code",
   "execution_count": 25,
   "metadata": {},
   "outputs": [],
   "source": [
    "target_column = 'Survived'"
   ]
  },
  {
   "cell_type": "code",
   "execution_count": 26,
   "metadata": {},
   "outputs": [
    {
     "data": {
      "text/plain": [
       "['SibSp',\n",
       " 'Sex_male',\n",
       " 'Sex_female',\n",
       " 'Age_is(0..2]',\n",
       " 'Age_is(2..6]',\n",
       " 'Age_is(6..14]',\n",
       " 'Age_is(14..16]',\n",
       " 'Age_is(16..18]',\n",
       " 'Age_is(18..25]',\n",
       " 'Age_is(25..35]',\n",
       " 'Age_is(35..40]',\n",
       " 'Age_is(40..45]',\n",
       " 'Age_is(45..60]',\n",
       " 'Age_is(60..80]',\n",
       " 'Pclass_is_1',\n",
       " 'Pclass_is_2',\n",
       " 'Pclass_is_3',\n",
       " 'Name_title_is_Master.',\n",
       " 'Name_title_is_Miss.',\n",
       " 'Name_title_is_Mr.',\n",
       " 'Name_title_is_Mrs.',\n",
       " 'Name_title_is_Other.',\n",
       " 'Name_last_odds_survival']"
      ]
     },
     "execution_count": 26,
     "metadata": {},
     "output_type": "execute_result"
    }
   ],
   "source": [
    "feature_names = ['SibSp', 'Sex_male', 'Sex_female']\\\n",
    "    + [col for col in df_test.columns if 'Age_is' in col]\\\n",
    "    + [col for col in df_test.columns if 'Pclass_is' in col]\\\n",
    "    + [col for col in df_test.columns if 'Name_title_is' in col]\\\n",
    "    + [col for col in df_test.columns if 'Name_last_odds_' in col]\n",
    "feature_names"
   ]
  },
  {
   "cell_type": "code",
   "execution_count": 27,
   "metadata": {},
   "outputs": [
    {
     "name": "stdout",
     "output_type": "stream",
     "text": [
      "Fitting 5 folds for each of 540 candidates, totalling 2700 fits\n"
     ]
    },
    {
     "name": "stderr",
     "output_type": "stream",
     "text": [
      "[Parallel(n_jobs=4)]: Using backend LokyBackend with 4 concurrent workers.\n",
      "[Parallel(n_jobs=4)]: Done 121 tasks      | elapsed:    2.9s\n",
      "[Parallel(n_jobs=4)]: Done 1621 tasks      | elapsed:   15.6s\n"
     ]
    },
    {
     "name": "stdout",
     "output_type": "stream",
     "text": [
      "Best score: 0.9809203142536476\n",
      "Best parameters: {'bootstrap': True, 'max_depth': 8, 'max_features': 'log2', 'min_samples_leaf': 1, 'min_samples_split': 3, 'n_estimators': 50}\n"
     ]
    },
    {
     "name": "stderr",
     "output_type": "stream",
     "text": [
      "[Parallel(n_jobs=4)]: Done 2700 out of 2700 | elapsed:   24.6s finished\n",
      "/usr/local/lib/python3.7/site-packages/sklearn/model_selection/_search.py:814: DeprecationWarning: The default of the `iid` parameter will change from True to False in version 0.22 and will be removed in 0.24. This will change numeric results when test-set sizes are unequal.\n",
      "  DeprecationWarning)\n"
     ]
    }
   ],
   "source": [
    "from sklearn.ensemble import RandomForestClassifier\n",
    "from sklearn.model_selection import StratifiedKFold\n",
    "from sklearn.model_selection import GridSearchCV\n",
    "\n",
    "parameter_grid = {\n",
    "             'max_depth' : [2, 3, 4, 6, 8],\n",
    "             'n_estimators': [50, 10],\n",
    "             'max_features': ['sqrt', 'auto', 'log2'],\n",
    "             'min_samples_split': [2, 3, 10],\n",
    "             'min_samples_leaf': [1, 3, 10],\n",
    "             'bootstrap': [True, False],\n",
    "             }\n",
    "forest = RandomForestClassifier()\n",
    "cross_validation = StratifiedKFold(n_splits=5)\n",
    "\n",
    "grid_search = GridSearchCV(forest,\n",
    "                           scoring='accuracy',\n",
    "                           param_grid=parameter_grid,\n",
    "                           cv=cross_validation,\n",
    "                           verbose=1,\n",
    "                           n_jobs=4\n",
    "                          )\n",
    "\n",
    "grid_search.fit(df_train[feature_names], df_train[target_column])\n",
    "model = grid_search\n",
    "parameters = grid_search.best_params_\n",
    "\n",
    "print('Best score: {}'.format(grid_search.best_score_))\n",
    "print('Best parameters: {}'.format(grid_search.best_params_))"
   ]
  },
  {
   "cell_type": "code",
   "execution_count": 28,
   "metadata": {},
   "outputs": [
    {
     "data": {
      "text/plain": [
       "['__abstractmethods__',\n",
       " '__class__',\n",
       " '__delattr__',\n",
       " '__dict__',\n",
       " '__dir__',\n",
       " '__doc__',\n",
       " '__eq__',\n",
       " '__format__',\n",
       " '__ge__',\n",
       " '__getattribute__',\n",
       " '__getstate__',\n",
       " '__gt__',\n",
       " '__hash__',\n",
       " '__init__',\n",
       " '__init_subclass__',\n",
       " '__le__',\n",
       " '__lt__',\n",
       " '__module__',\n",
       " '__ne__',\n",
       " '__new__',\n",
       " '__reduce__',\n",
       " '__reduce_ex__',\n",
       " '__repr__',\n",
       " '__setattr__',\n",
       " '__setstate__',\n",
       " '__sizeof__',\n",
       " '__str__',\n",
       " '__subclasshook__',\n",
       " '__weakref__',\n",
       " '_abc_impl',\n",
       " '_check_is_fitted',\n",
       " '_estimator_type',\n",
       " '_format_results',\n",
       " '_get_param_names',\n",
       " '_get_tags',\n",
       " '_required_parameters',\n",
       " '_run_search',\n",
       " 'best_estimator_',\n",
       " 'best_index_',\n",
       " 'best_params_',\n",
       " 'best_score_',\n",
       " 'classes_',\n",
       " 'cv',\n",
       " 'cv_results_',\n",
       " 'decision_function',\n",
       " 'error_score',\n",
       " 'estimator',\n",
       " 'fit',\n",
       " 'get_params',\n",
       " 'iid',\n",
       " 'inverse_transform',\n",
       " 'multimetric_',\n",
       " 'n_jobs',\n",
       " 'n_splits_',\n",
       " 'param_grid',\n",
       " 'pre_dispatch',\n",
       " 'predict',\n",
       " 'predict_log_proba',\n",
       " 'predict_proba',\n",
       " 'refit',\n",
       " 'refit_time_',\n",
       " 'return_train_score',\n",
       " 'score',\n",
       " 'scorer_',\n",
       " 'scoring',\n",
       " 'set_params',\n",
       " 'transform',\n",
       " 'verbose']"
      ]
     },
     "execution_count": 28,
     "metadata": {},
     "output_type": "execute_result"
    }
   ],
   "source": [
    "dir(grid_search)"
   ]
  },
  {
   "cell_type": "code",
   "execution_count": 29,
   "metadata": {},
   "outputs": [
    {
     "data": {
      "text/plain": [
       "['mean_fit_time',\n",
       " 'std_fit_time',\n",
       " 'mean_score_time',\n",
       " 'std_score_time',\n",
       " 'param_bootstrap',\n",
       " 'param_max_depth',\n",
       " 'param_max_features',\n",
       " 'param_min_samples_leaf',\n",
       " 'param_min_samples_split',\n",
       " 'param_n_estimators',\n",
       " 'params',\n",
       " 'split0_test_score',\n",
       " 'split1_test_score',\n",
       " 'split2_test_score',\n",
       " 'split3_test_score',\n",
       " 'split4_test_score',\n",
       " 'mean_test_score',\n",
       " 'std_test_score',\n",
       " 'rank_test_score']"
      ]
     },
     "execution_count": 29,
     "metadata": {},
     "output_type": "execute_result"
    }
   ],
   "source": [
    "[r for r in grid_search.cv_results_.keys()]"
   ]
  },
  {
   "cell_type": "code",
   "execution_count": 34,
   "metadata": {},
   "outputs": [
    {
     "data": {
      "text/plain": [
       "array([0.87542088, 0.83950617, 0.87205387, 0.87429854, 0.8956229 ,\n",
       "       0.87205387, 0.89225589, 0.91470258, 0.89450056, 0.87766554,\n",
       "       0.89786756, 0.90796857, 0.87878788, 0.87429854, 0.89337823,\n",
       "       0.91245791, 0.91021324, 0.89450056, 0.88776655, 0.86419753,\n",
       "       0.87205387, 0.86756453, 0.87991021, 0.87991021, 0.88776655,\n",
       "       0.89001122, 0.89225589, 0.91470258, 0.9023569 , 0.92031425,\n",
       "       0.91133558, 0.88664422, 0.91806958, 0.92031425, 0.88664422,\n",
       "       0.87542088, 0.87878788, 0.8698092 , 0.87766554, 0.87429854,\n",
       "       0.88552189, 0.88664422, 0.89450056, 0.86756453, 0.88776655,\n",
       "       0.86083053, 0.88215488, 0.87429854, 0.88103255, 0.92143659,\n",
       "       0.89113356, 0.92031425, 0.88664422, 0.85409652, 0.94837262,\n",
       "       0.94837262, 0.92255892, 0.94949495, 0.9382716 , 0.92929293,\n",
       "       0.95286195, 0.90347924, 0.94837262, 0.92255892, 0.94837262,\n",
       "       0.94276094, 0.94725028, 0.93041526, 0.92143659, 0.9349046 ,\n",
       "       0.92031425, 0.95847363, 0.94051627, 0.91358025, 0.9349046 ,\n",
       "       0.91133558, 0.94949495, 0.92143659, 0.94500561, 0.8989899 ,\n",
       "       0.94388328, 0.92368126, 0.91806958, 0.88215488, 0.90909091,\n",
       "       0.90796857, 0.94949495, 0.92143659, 0.92368126, 0.89225589,\n",
       "       0.9315376 , 0.91021324, 0.9382716 , 0.9349046 , 0.95173962,\n",
       "       0.91919192, 0.95622896, 0.9349046 , 0.94051627, 0.91133558,\n",
       "       0.9349046 , 0.94276094, 0.92031425, 0.92480359, 0.94725028,\n",
       "       0.94276094, 0.92704826, 0.92480359, 0.9708193 , 0.95847363,\n",
       "       0.95735129, 0.92929293, 0.94949495, 0.95847363, 0.95735129,\n",
       "       0.95398429, 0.95735129, 0.95959596, 0.96857464, 0.97194164,\n",
       "       0.96184063, 0.94388328, 0.96632997, 0.95735129, 0.96857464,\n",
       "       0.93378227, 0.9674523 , 0.93714927, 0.97194164, 0.95286195,\n",
       "       0.96969697, 0.95735129, 0.96520763, 0.95286195, 0.95510662,\n",
       "       0.94949495, 0.97306397, 0.94051627, 0.96857464, 0.95398429,\n",
       "       0.96857464, 0.95398429, 0.9674523 , 0.96632997, 0.93714927,\n",
       "       0.94500561, 0.97306397, 0.9382716 , 0.97418631, 0.93041526,\n",
       "       0.95398429, 0.94500561, 0.9674523 , 0.94837262, 0.96969697,\n",
       "       0.94276094, 0.9674523 , 0.92592593, 0.95173962, 0.95735129,\n",
       "       0.95735129, 0.94725028, 0.97530864, 0.97194164, 0.97979798,\n",
       "       0.97306397, 0.97530864, 0.96857464, 0.97418631, 0.97306397,\n",
       "       0.9708193 , 0.9708193 , 0.97643098, 0.9708193 , 0.96857464,\n",
       "       0.95735129, 0.96632997, 0.95061728, 0.95847363, 0.95735129,\n",
       "       0.97755331, 0.97306397, 0.97530864, 0.97418631, 0.97643098,\n",
       "       0.9708193 , 0.97643098, 0.9674523 , 0.97755331, 0.9708193 ,\n",
       "       0.97194164, 0.96296296, 0.9640853 , 0.96184063, 0.97306397,\n",
       "       0.96632997, 0.97194164, 0.95398429, 0.97867565, 0.96857464,\n",
       "       0.97867565, 0.97643098, 0.97755331, 0.97306397, 0.97530864,\n",
       "       0.97418631, 0.97306397, 0.97643098, 0.97643098, 0.96184063,\n",
       "       0.9708193 , 0.9674523 , 0.96969697, 0.95173962, 0.96969697,\n",
       "       0.96184063, 0.97979798, 0.9708193 , 0.97755331, 0.97643098,\n",
       "       0.97979798, 0.97643098, 0.97418631, 0.97530864, 0.97418631,\n",
       "       0.96969697, 0.97643098, 0.97306397, 0.96632997, 0.96632997,\n",
       "       0.96632997, 0.96969697, 0.96969697, 0.95173962, 0.97867565,\n",
       "       0.97755331, 0.97755331, 0.97306397, 0.97755331, 0.97418631,\n",
       "       0.97643098, 0.97306397, 0.97530864, 0.97418631, 0.97755331,\n",
       "       0.96520763, 0.9674523 , 0.96632997, 0.96520763, 0.95510662,\n",
       "       0.96857464, 0.95398429, 0.97979798, 0.97643098, 0.98092031,\n",
       "       0.97530864, 0.97530864, 0.97306397, 0.97755331, 0.97530864,\n",
       "       0.97755331, 0.96632997, 0.97530864, 0.97418631, 0.96969697,\n",
       "       0.9674523 , 0.9674523 , 0.95173962, 0.9674523 , 0.95847363,\n",
       "       0.88888889, 0.87991021, 0.89113356, 0.86195286, 0.88664422,\n",
       "       0.87205387, 0.90684624, 0.89786756, 0.88552189, 0.87429854,\n",
       "       0.90796857, 0.87766554, 0.88888889, 0.85746352, 0.90460157,\n",
       "       0.87317621, 0.88215488, 0.85634119, 0.87317621, 0.8698092 ,\n",
       "       0.88776655, 0.90460157, 0.92143659, 0.91919192, 0.87429854,\n",
       "       0.8989899 , 0.87991021, 0.91021324, 0.87766554, 0.87991021,\n",
       "       0.90684624, 0.85521886, 0.89450056, 0.90011223, 0.88439955,\n",
       "       0.85297419, 0.88552189, 0.88439955, 0.89674523, 0.91694725,\n",
       "       0.8956229 , 0.91694725, 0.8956229 , 0.85072952, 0.88327722,\n",
       "       0.89786756, 0.87991021, 0.92704826, 0.89113356, 0.92592593,\n",
       "       0.8989899 , 0.91470258, 0.89786756, 0.8989899 , 0.94725028,\n",
       "       0.94612795, 0.92255892, 0.93378227, 0.95398429, 0.90123457,\n",
       "       0.92480359, 0.90796857, 0.93714927, 0.90347924, 0.93265993,\n",
       "       0.92817059, 0.9349046 , 0.91919192, 0.94276094, 0.94837262,\n",
       "       0.93265993, 0.91358025, 0.94276094, 0.93714927, 0.94725028,\n",
       "       0.90796857, 0.9382716 , 0.92592593, 0.92929293, 0.9315376 ,\n",
       "       0.90909091, 0.9315376 , 0.94276094, 0.89786756, 0.92143659,\n",
       "       0.88664422, 0.93041526, 0.95398429, 0.92031425, 0.94612795,\n",
       "       0.94051627, 0.90123457, 0.9349046 , 0.93602694, 0.94949495,\n",
       "       0.91582492, 0.94388328, 0.9315376 , 0.95173962, 0.94500561,\n",
       "       0.92704826, 0.93378227, 0.94949495, 0.88439955, 0.94163861,\n",
       "       0.93265993, 0.95173962, 0.94500561, 0.97194164, 0.92031425,\n",
       "       0.97194164, 0.96071829, 0.96632997, 0.96296296, 0.96857464,\n",
       "       0.94725028, 0.97194164, 0.94163861, 0.97530864, 0.95286195,\n",
       "       0.96969697, 0.96184063, 0.96632997, 0.95286195, 0.96296296,\n",
       "       0.96632997, 0.96520763, 0.9674523 , 0.96071829, 0.95286195,\n",
       "       0.9708193 , 0.95061728, 0.95622896, 0.9640853 , 0.9674523 ,\n",
       "       0.95510662, 0.95173962, 0.96857464, 0.95510662, 0.95847363,\n",
       "       0.96857464, 0.9708193 , 0.95735129, 0.94276094, 0.97418631,\n",
       "       0.95847363, 0.96632997, 0.9640853 , 0.96184063, 0.96857464,\n",
       "       0.96857464, 0.95735129, 0.97306397, 0.95061728, 0.96520763,\n",
       "       0.93602694, 0.96632997, 0.97418631, 0.9708193 , 0.95173962,\n",
       "       0.96296296, 0.92031425, 0.97979798, 0.97306397, 0.97755331,\n",
       "       0.9674523 , 0.97755331, 0.96296296, 0.97979798, 0.97643098,\n",
       "       0.97979798, 0.9708193 , 0.97530864, 0.9708193 , 0.96969697,\n",
       "       0.9708193 , 0.97194164, 0.96296296, 0.96969697, 0.96071829,\n",
       "       0.97867565, 0.97530864, 0.97867565, 0.97643098, 0.97755331,\n",
       "       0.97194164, 0.97755331, 0.96071829, 0.97643098, 0.95847363,\n",
       "       0.97867565, 0.96520763, 0.97418631, 0.96520763, 0.97643098,\n",
       "       0.95173962, 0.97530864, 0.9674523 , 0.97979798, 0.9674523 ,\n",
       "       0.97867565, 0.97530864, 0.97643098, 0.97867565, 0.97867565,\n",
       "       0.97306397, 0.97643098, 0.97418631, 0.97755331, 0.97755331,\n",
       "       0.96969697, 0.9674523 , 0.97306397, 0.95959596, 0.96520763,\n",
       "       0.96857464, 0.97867565, 0.9708193 , 0.97755331, 0.97867565,\n",
       "       0.97867565, 0.97530864, 0.97418631, 0.96857464, 0.97867565,\n",
       "       0.97418631, 0.97867565, 0.96520763, 0.97306397, 0.95847363,\n",
       "       0.97194164, 0.95959596, 0.96969697, 0.95847363, 0.97755331,\n",
       "       0.97306397, 0.97755331, 0.97530864, 0.97643098, 0.97194164,\n",
       "       0.97867565, 0.97418631, 0.97867565, 0.97755331, 0.97867565,\n",
       "       0.97418631, 0.97194164, 0.97194164, 0.97306397, 0.97418631,\n",
       "       0.97306397, 0.9708193 , 0.97643098, 0.97530864, 0.97867565,\n",
       "       0.97306397, 0.97755331, 0.97530864, 0.97530864, 0.97418631,\n",
       "       0.97979798, 0.97643098, 0.97755331, 0.97194164, 0.97194164,\n",
       "       0.9674523 , 0.97194164, 0.96857464, 0.97306397, 0.96296296])"
      ]
     },
     "execution_count": 34,
     "metadata": {},
     "output_type": "execute_result"
    }
   ],
   "source": [
    "grid_search.cv_results_['mean_test_score']"
   ]
  },
  {
   "cell_type": "code",
   "execution_count": 37,
   "metadata": {},
   "outputs": [
    {
     "data": {
      "text/plain": [
       "0.8395061728395061"
      ]
     },
     "execution_count": 37,
     "metadata": {},
     "output_type": "execute_result"
    }
   ],
   "source": [
    "grid_search.cv_results_['mean_test_score'][grid_search.cv_results_['mean_test_score'].argmin()]"
   ]
  },
  {
   "cell_type": "code",
   "execution_count": 38,
   "metadata": {},
   "outputs": [
    {
     "data": {
      "text/plain": [
       "{'bootstrap': True,\n",
       " 'max_depth': 2,\n",
       " 'max_features': 'sqrt',\n",
       " 'min_samples_leaf': 1,\n",
       " 'min_samples_split': 2,\n",
       " 'n_estimators': 10}"
      ]
     },
     "execution_count": 38,
     "metadata": {},
     "output_type": "execute_result"
    }
   ],
   "source": [
    "params_worst = grid_search.cv_results_['params'][grid_search.cv_results_['mean_test_score'].argmin()]\n",
    "params_worst"
   ]
  },
  {
   "cell_type": "code",
   "execution_count": 39,
   "metadata": {},
   "outputs": [
    {
     "data": {
      "text/plain": [
       "{'bootstrap': True,\n",
       " 'max_depth': 8,\n",
       " 'max_features': 'log2',\n",
       " 'min_samples_leaf': 1,\n",
       " 'min_samples_split': 3,\n",
       " 'n_estimators': 50}"
      ]
     },
     "execution_count": 39,
     "metadata": {},
     "output_type": "execute_result"
    }
   ],
   "source": [
    "params_best = grid_search.cv_results_['params'][grid_search.cv_results_['mean_test_score'].argmax()]\n",
    "params_best"
   ]
  },
  {
   "cell_type": "code",
   "execution_count": 70,
   "metadata": {},
   "outputs": [],
   "source": [
    "# Note to self: I wonder if worst model is just the one which is the least overfitting"
   ]
  },
  {
   "cell_type": "code",
   "execution_count": 71,
   "metadata": {},
   "outputs": [],
   "source": [
    "def predict_test(params, submission_name):\n",
    "    model = RandomForestClassifier(**params)\n",
    "    model.fit(df_train[feature_names], df_train[target_column])\n",
    "    predictions = model.predict(df_test[feature_names]).astype(int)\n",
    "    print(f\"Avg predicted test survival rate: {predictions.mean()}\")\n",
    "\n",
    "    passengerIds = df_test['PassengerId']\n",
    "    df_submit = pd.DataFrame({'PassengerId': passengerIds, 'Survived': predictions})\n",
    "    df_submit.to_csv(f'{submissions}/submission025{submission_name}.csv', index=False)"
   ]
  },
  {
   "cell_type": "code",
   "execution_count": 72,
   "metadata": {},
   "outputs": [
    {
     "name": "stdout",
     "output_type": "stream",
     "text": [
      "Avg predicted test survival rate: 0.3444976076555024\n"
     ]
    }
   ],
   "source": [
    "# LB: 0.63\n",
    "predict_test(params_best, 'best')"
   ]
  },
  {
   "cell_type": "code",
   "execution_count": 79,
   "metadata": {},
   "outputs": [
    {
     "name": "stdout",
     "output_type": "stream",
     "text": [
      "Avg predicted test survival rate: 0.3803827751196172\n"
     ]
    }
   ],
   "source": [
    "# Note to self: this guy has much more variability than above, so it's sort of also worst in that respect\n",
    "# LB: 0.66\n",
    "predict_test(params_worst, 'worst')"
   ]
  },
  {
   "cell_type": "code",
   "execution_count": 80,
   "metadata": {},
   "outputs": [
    {
     "name": "stdout",
     "output_type": "stream",
     "text": [
      "Avg predicted test survival rate: 0.33014354066985646\n"
     ]
    }
   ],
   "source": [
    "# LB: 0.62\n",
    "predict_test(params_worst, 'worst2')"
   ]
  },
  {
   "cell_type": "code",
   "execution_count": null,
   "metadata": {},
   "outputs": [],
   "source": []
  }
 ],
 "metadata": {
  "kernelspec": {
   "display_name": "Python 3",
   "language": "python",
   "name": "python3"
  },
  "language_info": {
   "codemirror_mode": {
    "name": "ipython",
    "version": 3
   },
   "file_extension": ".py",
   "mimetype": "text/x-python",
   "name": "python",
   "nbconvert_exporter": "python",
   "pygments_lexer": "ipython3",
   "version": "3.7.6"
  }
 },
 "nbformat": 4,
 "nbformat_minor": 2
}
