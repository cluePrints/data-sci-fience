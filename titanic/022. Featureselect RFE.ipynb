{
 "cells": [
  {
   "cell_type": "code",
   "execution_count": 1,
   "metadata": {},
   "outputs": [
    {
     "name": "stdout",
     "output_type": "stream",
     "text": [
      "Using matplotlib backend: MacOSX\n"
     ]
    }
   ],
   "source": [
    "%matplotlib"
   ]
  },
  {
   "cell_type": "code",
   "execution_count": 2,
   "metadata": {},
   "outputs": [],
   "source": [
    "import pandas as pd\n",
    "import numpy as np"
   ]
  },
  {
   "cell_type": "code",
   "execution_count": 3,
   "metadata": {},
   "outputs": [],
   "source": [
    "processed = 'processed'\n",
    "submissions = 'submissions'\n",
    "features = 'features'\n",
    "df_train = pd.read_csv(f'{processed}/train.csv')\n",
    "df_test =  pd.read_csv(f'{processed}/test.csv')"
   ]
  },
  {
   "cell_type": "code",
   "execution_count": 4,
   "metadata": {},
   "outputs": [
    {
     "name": "stdout",
     "output_type": "stream",
     "text": [
      "age_human_test.csv        age_quantiles_train.csv   name_features_test.csv\r\n",
      "age_human_train.csv       family_features_test.csv  name_features_train.csv\r\n",
      "age_q_test.csv            family_features_train.csv pclass_dummy_test.csv\r\n",
      "age_q_train.csv           fare_quantiles_test.csv   pclass_dummy_train.csv\r\n",
      "age_quantiles_test.csv    fare_quantiles_train.csv\r\n"
     ]
    }
   ],
   "source": [
    "!ls {features}"
   ]
  },
  {
   "cell_type": "code",
   "execution_count": 5,
   "metadata": {},
   "outputs": [],
   "source": [
    "for name in ['age_human', 'age_quantiles', 'family_features', 'fare_quantiles', 'name_features', 'pclass_dummy']:\n",
    "    df_train = df_train.merge(pd.read_csv(f'{features}/{name}_train.csv'))\n",
    "    df_test =  df_test.merge(pd.read_csv(f'{features}/{name}_test.csv'))"
   ]
  },
  {
   "cell_type": "code",
   "execution_count": 6,
   "metadata": {},
   "outputs": [
    {
     "data": {
      "text/plain": [
       "['PassengerId',\n",
       " 'SibSp',\n",
       " 'Parch',\n",
       " 'Sex_female',\n",
       " 'Sex_male',\n",
       " 'Fare_is_na',\n",
       " 'Fare_q_is(-0.001..7.568]',\n",
       " 'Fare_q_is(7.568..7.854]',\n",
       " 'Fare_q_is(7.854..8.05]',\n",
       " 'Fare_q_is(8.05..10.5]',\n",
       " 'Fare_q_is(10.5..14.454]',\n",
       " 'Fare_q_is(14.454..21.679]',\n",
       " 'Fare_q_is(21.679..26.955]',\n",
       " 'Fare_q_is(26.955..41.579]',\n",
       " 'Fare_q_is(41.579..78.051]',\n",
       " 'Fare_q_is(78.051..512.329]',\n",
       " 'Age_na',\n",
       " 'Age_is(0..2]',\n",
       " 'Age_is(2..6]',\n",
       " 'Age_is(6..14]',\n",
       " 'Age_is(14..16]',\n",
       " 'Age_is(16..18]',\n",
       " 'Age_is(18..25]',\n",
       " 'Age_is(25..35]',\n",
       " 'Age_is(35..40]',\n",
       " 'Age_is(40..45]',\n",
       " 'Age_is(45..60]',\n",
       " 'Age_is(60..80]',\n",
       " 'Age_q_is(0.169..14.0]',\n",
       " 'Age_q_is(14.0..19.0]',\n",
       " 'Age_q_is(19.0..22.0]',\n",
       " 'Age_q_is(22.0..25.0]',\n",
       " 'Age_q_is(25.0..28.0]',\n",
       " 'Age_q_is(28.0..31.0]',\n",
       " 'Age_q_is(31.0..36.0]',\n",
       " 'Age_q_is(36.0..42.0]',\n",
       " 'Age_q_is(42.0..50.0]',\n",
       " 'Age_q_is(50.0..80.0]',\n",
       " 'Pclass_is_1',\n",
       " 'Pclass_is_2',\n",
       " 'Pclass_is_3',\n",
       " 'Name_title_survival_odds',\n",
       " 'Name_title_is_Master.',\n",
       " 'Name_title_is_Miss.',\n",
       " 'Name_title_is_Mr.',\n",
       " 'Name_title_is_Mrs.',\n",
       " 'Name_title_is_Other.',\n",
       " 'Name_last_odds_survival',\n",
       " 'Family_size',\n",
       " 'Family_is_alone']"
      ]
     },
     "execution_count": 6,
     "metadata": {},
     "output_type": "execute_result"
    }
   ],
   "source": [
    "feature_names = [name for name in df_test.columns if name not in [\n",
    "    'Name', 'src', 'Sex', 'Cabin', 'Embarked', 'Ticket', 'Fare', 'Survived', 'Name_last', 'Age']]\n",
    "feature_names"
   ]
  },
  {
   "cell_type": "code",
   "execution_count": 7,
   "metadata": {},
   "outputs": [
    {
     "data": {
      "text/plain": [
       "RFE(estimator=LogisticRegression(C=1.0, class_weight=None, dual=False,\n",
       "                                 fit_intercept=True, intercept_scaling=1,\n",
       "                                 l1_ratio=None, max_iter=1000,\n",
       "                                 multi_class='warn', n_jobs=None, penalty='l2',\n",
       "                                 random_state=None, solver='lbfgs', tol=0.0001,\n",
       "                                 verbose=0, warm_start=False),\n",
       "    n_features_to_select=5, step=1, verbose=0)"
      ]
     },
     "execution_count": 7,
     "metadata": {},
     "output_type": "execute_result"
    }
   ],
   "source": [
    "from sklearn.ensemble import GradientBoostingClassifier\n",
    "\n",
    "target_column = 'Survived'\n",
    "from sklearn.feature_selection import RFE\n",
    "from sklearn.linear_model import LogisticRegression\n",
    "rfe_selector = RFE(estimator=LogisticRegression(solver='lbfgs', max_iter=1000), n_features_to_select=5, step=1)\n",
    "rfe_selector.fit(df_train[feature_names], df_train[target_column])"
   ]
  },
  {
   "cell_type": "code",
   "execution_count": 8,
   "metadata": {},
   "outputs": [
    {
     "data": {
      "text/plain": [
       "['Sex_female',\n",
       " 'Name_title_is_Master.',\n",
       " 'Name_title_is_Mr.',\n",
       " 'Name_title_is_Other.',\n",
       " 'Name_last_odds_survival']"
      ]
     },
     "execution_count": 8,
     "metadata": {},
     "output_type": "execute_result"
    }
   ],
   "source": [
    "rfe_support = rfe_selector.get_support()\n",
    "rfe_feature = df_train[feature_names].loc[:,rfe_support].columns.tolist()\n",
    "rfe_feature"
   ]
  },
  {
   "cell_type": "code",
   "execution_count": 9,
   "metadata": {},
   "outputs": [
    {
     "data": {
      "text/plain": [
       "SelectFromModel(estimator=LogisticRegression(C=1.0, class_weight=None,\n",
       "                                             dual=False, fit_intercept=True,\n",
       "                                             intercept_scaling=1, l1_ratio=None,\n",
       "                                             max_iter=1000, multi_class='warn',\n",
       "                                             n_jobs=None, penalty='l2',\n",
       "                                             random_state=None, solver='lbfgs',\n",
       "                                             tol=0.0001, verbose=0,\n",
       "                                             warm_start=False),\n",
       "                max_features=5, norm_order=1, prefit=False, threshold=None)"
      ]
     },
     "execution_count": 9,
     "metadata": {},
     "output_type": "execute_result"
    }
   ],
   "source": [
    "from sklearn.feature_selection import SelectFromModel\n",
    "from sklearn.linear_model import LogisticRegression\n",
    "\n",
    "embeded_lr_selector = SelectFromModel(LogisticRegression(penalty=\"l2\", solver='lbfgs', max_iter=1000), max_features=5)\n",
    "embeded_lr_selector.fit(df_train[feature_names], df_train[target_column])"
   ]
  },
  {
   "cell_type": "code",
   "execution_count": 10,
   "metadata": {},
   "outputs": [
    {
     "data": {
      "text/plain": [
       "['Name_title_is_Master.',\n",
       " 'Name_title_is_Mr.',\n",
       " 'Name_title_is_Mrs.',\n",
       " 'Name_title_is_Other.',\n",
       " 'Name_last_odds_survival']"
      ]
     },
     "execution_count": 10,
     "metadata": {},
     "output_type": "execute_result"
    }
   ],
   "source": [
    "embeded_lr_support = embeded_lr_selector.get_support()\n",
    "embeded_lr_feature = df_train[feature_names].loc[:,embeded_lr_support].columns.tolist()\n",
    "embeded_lr_feature"
   ]
  },
  {
   "cell_type": "code",
   "execution_count": 11,
   "metadata": {},
   "outputs": [],
   "source": [
    "# Note to self: I bet having a reliable cross-validation strategy would have helped.\n",
    "# Note to self: all the title_* features selected here automatically remind a thing I've read on title-based model by a human which scored well (imperatively constructed though)"
   ]
  }
 ],
 "metadata": {
  "kernelspec": {
   "display_name": "Python 3",
   "language": "python",
   "name": "python3"
  },
  "language_info": {
   "codemirror_mode": {
    "name": "ipython",
    "version": 3
   },
   "file_extension": ".py",
   "mimetype": "text/x-python",
   "name": "python",
   "nbconvert_exporter": "python",
   "pygments_lexer": "ipython3",
   "version": "3.7.6"
  }
 },
 "nbformat": 4,
 "nbformat_minor": 2
}
