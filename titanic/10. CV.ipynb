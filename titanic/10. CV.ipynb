{
 "cells": [
  {
   "cell_type": "code",
   "execution_count": 63,
   "metadata": {},
   "outputs": [],
   "source": [
    "%matplotlib inline"
   ]
  },
  {
   "cell_type": "code",
   "execution_count": 64,
   "metadata": {},
   "outputs": [],
   "source": [
    "import pandas as pd\n",
    "import numpy as np"
   ]
  },
  {
   "cell_type": "code",
   "execution_count": 65,
   "metadata": {},
   "outputs": [
    {
     "data": {
      "text/plain": [
       "891"
      ]
     },
     "execution_count": 65,
     "metadata": {},
     "output_type": "execute_result"
    }
   ],
   "source": [
    "raw = 'raw'\n",
    "df_train_all = pd.read_csv(f'{raw}/train.csv')\n",
    "len(df_train_all)"
   ]
  },
  {
   "cell_type": "code",
   "execution_count": 66,
   "metadata": {},
   "outputs": [],
   "source": [
    "from sklearn.model_selection import KFold"
   ]
  },
  {
   "cell_type": "code",
   "execution_count": 67,
   "metadata": {},
   "outputs": [
    {
     "data": {
      "text/plain": [
       "[0.6127946127946128, 0.569023569023569, 0.6464646464646465]"
      ]
     },
     "execution_count": 67,
     "metadata": {},
     "output_type": "execute_result"
    }
   ],
   "source": [
    "from sklearn.ensemble import GradientBoostingClassifier\n",
    "from sklearn.metrics import accuracy_score\n",
    "\n",
    "cl = GradientBoostingClassifier()\n",
    "field_name = 'Survived'\n",
    "feature_names = ['SibSp']\n",
    "\n",
    "accuracies = []\n",
    "\n",
    "kfold = KFold(random_state=42, n_splits=3)\n",
    "for trn_idx, val_idx in kfold.split(df_train_all):\n",
    "    df_train = df_train_all.iloc[trn_idx]\n",
    "    df_val  = df_train_all.iloc[val_idx]\n",
    "\n",
    "    y_train = df_train[field_name]\n",
    "    y_val   = df_val[  field_name]\n",
    "\n",
    "    del df_train[field_name], df_val[field_name]\n",
    "\n",
    "    df_train = df_train[feature_names]\n",
    "    df_val   = df_val[  feature_names]\n",
    "    \n",
    "    cl.fit(df_train, y_train)\n",
    "    y_pred = cl.predict(df_val)\n",
    "\n",
    "    acc = accuracy_score(y_val, y_pred)\n",
    "    accuracies.append(acc)\n",
    "\n",
    "accuracies"
   ]
  },
  {
   "cell_type": "code",
   "execution_count": 68,
   "metadata": {},
   "outputs": [
    {
     "data": {
      "text/plain": [
       "array([0.61279461, 0.56902357, 0.64646465])"
      ]
     },
     "execution_count": 68,
     "metadata": {},
     "output_type": "execute_result"
    }
   ],
   "source": [
    "# Note to self: this looks handy\n",
    "from sklearn.model_selection import cross_val_score\n",
    "cross_val_score(cl, df_train_all[feature_names], df_train_all[field_name], cv=kfold)"
   ]
  },
  {
   "cell_type": "code",
   "execution_count": 69,
   "metadata": {},
   "outputs": [],
   "source": [
    "df_test = pd.read_csv(f'{raw}/test.csv')\n",
    "y_test = cl.predict(df_test[feature_names])\n",
    "df_submit = pd.DataFrame({'PassengerId': df_test['PassengerId'], 'Survived': y_test})\n",
    "df_submit.to_csv('submission.csv', index=False)"
   ]
  },
  {
   "cell_type": "code",
   "execution_count": 70,
   "metadata": {},
   "outputs": [
    {
     "name": "stdout",
     "output_type": "stream",
     "text": [
      "00. EDA.ipynb    10. CV.ipynb     \u001b[34mraw\u001b[m\u001b[m              requirements.txt submission.csv\r\n"
     ]
    }
   ],
   "source": [
    "!ls"
   ]
  },
  {
   "cell_type": "code",
   "execution_count": 71,
   "metadata": {},
   "outputs": [
    {
     "data": {
      "text/plain": [
       "0.6094"
      ]
     },
     "execution_count": 71,
     "metadata": {},
     "output_type": "execute_result"
    }
   ],
   "source": [
    "# this yields LB score of 0.61722 when submitted, looks reasonably close to CV results\n",
    "np.round(np.mean(accuracies),4)"
   ]
  },
  {
   "cell_type": "code",
   "execution_count": null,
   "metadata": {},
   "outputs": [],
   "source": []
  }
 ],
 "metadata": {
  "kernelspec": {
   "display_name": "Python 3",
   "language": "python",
   "name": "python3"
  },
  "language_info": {
   "codemirror_mode": {
    "name": "ipython",
    "version": 3
   },
   "file_extension": ".py",
   "mimetype": "text/x-python",
   "name": "python",
   "nbconvert_exporter": "python",
   "pygments_lexer": "ipython3",
   "version": "3.7.5"
  }
 },
 "nbformat": 4,
 "nbformat_minor": 2
}
