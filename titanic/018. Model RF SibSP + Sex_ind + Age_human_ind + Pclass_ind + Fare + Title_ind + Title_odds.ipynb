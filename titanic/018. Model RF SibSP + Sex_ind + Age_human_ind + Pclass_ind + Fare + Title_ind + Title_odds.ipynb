{
 "cells": [
  {
   "cell_type": "code",
   "execution_count": 1,
   "metadata": {},
   "outputs": [],
   "source": [
    "import pandas as pd\n",
    "import numpy as np"
   ]
  },
  {
   "cell_type": "code",
   "execution_count": 2,
   "metadata": {},
   "outputs": [],
   "source": [
    "processed = 'processed'\n",
    "submissions = 'submissions'\n",
    "features = 'features'\n",
    "df_train = pd.read_csv(f'{processed}/train.csv')\n",
    "df_test =  pd.read_csv(f'{processed}/test.csv')"
   ]
  },
  {
   "cell_type": "code",
   "execution_count": 3,
   "metadata": {},
   "outputs": [],
   "source": [
    "df_train = df_train.merge(pd.read_csv(f'{features}/pclass_dummy_train.csv'))\n",
    "df_test =  df_test.merge(pd.read_csv(f'{features}/pclass_dummy_test.csv'))\n",
    "df_train = df_train.merge(pd.read_csv(f'{features}/fare_quantiles_train.csv'))\n",
    "df_test =  df_test.merge(pd.read_csv(f'{features}/fare_quantiles_test.csv'))\n",
    "df_train = df_train.merge(pd.read_csv(f'{features}/name_features_train.csv'))\n",
    "df_test =  df_test.merge(pd.read_csv(f'{features}/name_features_test.csv'))"
   ]
  },
  {
   "cell_type": "code",
   "execution_count": 4,
   "metadata": {},
   "outputs": [
    {
     "data": {
      "text/plain": [
       "Index(['PassengerId', 'Survived', 'Name', 'Sex', 'Age', 'SibSp', 'Parch',\n",
       "       'Ticket', 'Fare', 'Cabin', 'Embarked', 'src', 'Sex_female', 'Sex_male',\n",
       "       'Fare_is_na', 'Fare_q_is(-0.001..7.568]', 'Fare_q_is(7.568..7.854]',\n",
       "       'Fare_q_is(7.854..8.05]', 'Fare_q_is(8.05..10.5]',\n",
       "       'Fare_q_is(10.5..14.454]', 'Fare_q_is(14.454..21.679]',\n",
       "       'Fare_q_is(21.679..26.955]', 'Fare_q_is(26.955..41.579]',\n",
       "       'Fare_q_is(41.579..78.051]', 'Fare_q_is(78.051..512.329]', 'Age_na',\n",
       "       'Age_is(0..2]', 'Age_is(2..6]', 'Age_is(6..14]', 'Age_is(14..16]',\n",
       "       'Age_is(16..18]', 'Age_is(18..25]', 'Age_is(25..35]', 'Age_is(35..40]',\n",
       "       'Age_is(40..45]', 'Age_is(45..60]', 'Age_is(60..80]',\n",
       "       'Age_q_is(0.169..14.0]', 'Age_q_is(14.0..19.0]', 'Age_q_is(19.0..22.0]',\n",
       "       'Age_q_is(22.0..25.0]', 'Age_q_is(25.0..28.0]', 'Age_q_is(28.0..31.0]',\n",
       "       'Age_q_is(31.0..36.0]', 'Age_q_is(36.0..42.0]', 'Age_q_is(42.0..50.0]',\n",
       "       'Age_q_is(50.0..80.0]', 'Pclass_is_1', 'Pclass_is_2', 'Pclass_is_3',\n",
       "       'Name_title_survival_odds', 'Name_title_is_Master.',\n",
       "       'Name_title_is_Miss.', 'Name_title_is_Mr.', 'Name_title_is_Mrs.',\n",
       "       'Name_title_is_Other.'],\n",
       "      dtype='object')"
      ]
     },
     "execution_count": 4,
     "metadata": {},
     "output_type": "execute_result"
    }
   ],
   "source": [
    "df_train.columns"
   ]
  },
  {
   "cell_type": "code",
   "execution_count": 5,
   "metadata": {},
   "outputs": [
    {
     "data": {
      "text/plain": [
       "['SibSp',\n",
       " 'Sex_male',\n",
       " 'Sex_female',\n",
       " 'Age_is(0..2]',\n",
       " 'Age_is(2..6]',\n",
       " 'Age_is(6..14]',\n",
       " 'Age_is(14..16]',\n",
       " 'Age_is(16..18]',\n",
       " 'Age_is(18..25]',\n",
       " 'Age_is(25..35]',\n",
       " 'Age_is(35..40]',\n",
       " 'Age_is(40..45]',\n",
       " 'Age_is(45..60]',\n",
       " 'Age_is(60..80]',\n",
       " 'Pclass_is_1',\n",
       " 'Pclass_is_2',\n",
       " 'Pclass_is_3',\n",
       " 'Fare_q_is(-0.001..7.568]',\n",
       " 'Fare_q_is(7.568..7.854]',\n",
       " 'Fare_q_is(7.854..8.05]',\n",
       " 'Fare_q_is(8.05..10.5]',\n",
       " 'Fare_q_is(10.5..14.454]',\n",
       " 'Fare_q_is(14.454..21.679]',\n",
       " 'Fare_q_is(21.679..26.955]',\n",
       " 'Fare_q_is(26.955..41.579]',\n",
       " 'Fare_q_is(41.579..78.051]',\n",
       " 'Fare_q_is(78.051..512.329]',\n",
       " 'Name_title_survival_odds',\n",
       " 'Name_title_is_Master.',\n",
       " 'Name_title_is_Miss.',\n",
       " 'Name_title_is_Mr.',\n",
       " 'Name_title_is_Mrs.',\n",
       " 'Name_title_is_Other.']"
      ]
     },
     "execution_count": 5,
     "metadata": {},
     "output_type": "execute_result"
    }
   ],
   "source": [
    "field_name = 'Survived'\n",
    "feature_names = ['SibSp', 'Sex_male', 'Sex_female']\\\n",
    "    + [col for col in df_test.columns if 'Age_is' in col]\\\n",
    "    + [col for col in df_test.columns if 'Pclass_is' in col]\\\n",
    "    + [col for col in df_test.columns if 'Fare_q_is' in col]\\\n",
    "    + [col for col in df_test.columns if 'Name_' in col]\n",
    "feature_names"
   ]
  },
  {
   "cell_type": "code",
   "execution_count": 15,
   "metadata": {},
   "outputs": [
    {
     "data": {
      "text/plain": [
       "(0.809250936329588,\n",
       " array([0.76666667, 0.84269663, 0.80898876, 0.7752809 , 0.82022472,\n",
       "        0.86516854, 0.7752809 , 0.80898876, 0.80898876, 0.82022472]))"
      ]
     },
     "execution_count": 15,
     "metadata": {},
     "output_type": "execute_result"
    }
   ],
   "source": [
    "from sklearn.model_selection import KFold\n",
    "from sklearn.ensemble import RandomForestClassifier\n",
    "from sklearn.metrics import accuracy_score\n",
    "\n",
    "cl = RandomForestClassifier(n_estimators=100)\n",
    "\n",
    "kfold = KFold(random_state=42, n_splits=10)\n",
    "\n",
    "from sklearn.model_selection import cross_val_score\n",
    "accuracies = cross_val_score(cl, df_train[feature_names], df_train[field_name], cv=kfold)\n",
    "np.mean(accuracies), accuracies"
   ]
  },
  {
   "cell_type": "code",
   "execution_count": 16,
   "metadata": {},
   "outputs": [],
   "source": [
    "cl.fit(df_train[feature_names], df_train[field_name])\n",
    "y_test = cl.predict(df_test[feature_names])\n",
    "df_submit = pd.DataFrame({'PassengerId': df_test['PassengerId'], 'Survived': y_test})\n",
    "df_submit['Survived'] = df_submit['Survived'].astype(int)\n",
    "df_submit.to_csv(f'{submissions}/submission018.csv', index=False)"
   ]
  },
  {
   "cell_type": "code",
   "execution_count": 17,
   "metadata": {},
   "outputs": [
    {
     "name": "stdout",
     "output_type": "stream",
     "text": [
      "PassengerId,Survived\r\n",
      "892,0\r\n",
      "893,1\r\n",
      "894,1\r\n",
      "895,0\r\n",
      "896,1\r\n",
      "897,0\r\n",
      "898,0\r\n",
      "899,0\r\n",
      "900,1\r\n"
     ]
    }
   ],
   "source": [
    "# LB score: 0.7177\n",
    "!head submissions/submission018.csv"
   ]
  },
  {
   "cell_type": "code",
   "execution_count": 18,
   "metadata": {},
   "outputs": [],
   "source": [
    "!open submissions\n",
    "!open https://www.kaggle.com/c/titanic/submit"
   ]
  },
  {
   "cell_type": "code",
   "execution_count": 19,
   "metadata": {},
   "outputs": [],
   "source": [
    "df_features = pd.DataFrame({'name': feature_names, 'importance': cl.feature_importances_})\n",
    "df_features.sort_values('importance', ascending=False, inplace=True)"
   ]
  },
  {
   "cell_type": "code",
   "execution_count": 20,
   "metadata": {},
   "outputs": [
    {
     "data": {
      "text/plain": [
       "<matplotlib.axes._subplots.AxesSubplot at 0x11ec8a550>"
      ]
     },
     "execution_count": 20,
     "metadata": {},
     "output_type": "execute_result"
    },
    {
     "data": {
      "image/png": "[encoded data removed]",
      "text/plain": [
       "<Figure size 432x288 with 1 Axes>"
      ]
     },
     "metadata": {
      "needs_background": "light"
     },
     "output_type": "display_data"
    }
   ],
   "source": [
    "%matplotlib inline\n",
    "import seaborn as sns\n",
    "sns.barplot(x=\"importance\", y=\"name\", data=df_features)"
   ]
  },
  {
   "cell_type": "code",
   "execution_count": null,
   "metadata": {},
   "outputs": [],
   "source": []
  }
 ],
 "metadata": {
  "kernelspec": {
   "display_name": "Python 3",
   "language": "python",
   "name": "python3"
  },
  "language_info": {
   "codemirror_mode": {
    "name": "ipython",
    "version": 3
   },
   "file_extension": ".py",
   "mimetype": "text/x-python",
   "name": "python",
   "nbconvert_exporter": "python",
   "pygments_lexer": "ipython3",
   "version": "3.7.5"
  }
 },
 "nbformat": 4,
 "nbformat_minor": 2
}
