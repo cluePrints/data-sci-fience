{
 "cells": [
  {
   "cell_type": "code",
   "execution_count": 1,
   "metadata": {},
   "outputs": [],
   "source": [
    "import pandas as pd\n",
    "import numpy as np"
   ]
  },
  {
   "cell_type": "code",
   "execution_count": 2,
   "metadata": {},
   "outputs": [],
   "source": [
    "processed = 'processed'\n",
    "submissions = 'submissions'\n",
    "features = 'features'\n",
    "df_train = pd.read_csv(f'{processed}/train.csv')\n",
    "df_test =  pd.read_csv(f'{processed}/test.csv')"
   ]
  },
  {
   "cell_type": "code",
   "execution_count": 3,
   "metadata": {},
   "outputs": [],
   "source": [
    "df_train = df_train.merge(pd.read_csv(f'{features}/age_quantiles_train.csv'))\n",
    "df_test =  df_test.merge(pd.read_csv(f'{features}/age_quantiles_test.csv'))"
   ]
  },
  {
   "cell_type": "code",
   "execution_count": 4,
   "metadata": {},
   "outputs": [
    {
     "data": {
      "text/plain": [
       "0.8069456341008716"
      ]
     },
     "execution_count": 4,
     "metadata": {},
     "output_type": "execute_result"
    }
   ],
   "source": [
    "from sklearn.model_selection import KFold\n",
    "from sklearn.ensemble import GradientBoostingClassifier\n",
    "from sklearn.metrics import accuracy_score\n",
    "\n",
    "cl = GradientBoostingClassifier()\n",
    "field_name = 'Survived'\n",
    "feature_names = ['SibSp', 'Sex_male', 'Sex_female'] + [col for col in df_test.columns if 'Age_q_' in col]\n",
    "kfold = KFold(random_state=42, n_splits=2)\n",
    "\n",
    "from sklearn.model_selection import cross_val_score\n",
    "accuracies = cross_val_score(cl, df_train[feature_names], df_train[field_name], cv=kfold)\n",
    "np.mean(accuracies)"
   ]
  },
  {
   "cell_type": "code",
   "execution_count": 5,
   "metadata": {},
   "outputs": [
    {
     "data": {
      "text/plain": [
       "['SibSp',\n",
       " 'Sex_male',\n",
       " 'Sex_female',\n",
       " 'Age_na',\n",
       " 'Age_is(0..2]',\n",
       " 'Age_is(2..6]',\n",
       " 'Age_is(6..14]',\n",
       " 'Age_is(14..16]',\n",
       " 'Age_is(16..18]',\n",
       " 'Age_is(18..25]',\n",
       " 'Age_is(25..35]',\n",
       " 'Age_is(35..40]',\n",
       " 'Age_is(40..45]',\n",
       " 'Age_is(45..60]',\n",
       " 'Age_is(60..80]',\n",
       " 'Age_q_is(0.169..14.0]',\n",
       " 'Age_q_is(14.0..19.0]',\n",
       " 'Age_q_is(19.0..22.0]',\n",
       " 'Age_q_is(22.0..25.0]',\n",
       " 'Age_q_is(25.0..28.0]',\n",
       " 'Age_q_is(28.0..31.0]',\n",
       " 'Age_q_is(31.0..36.0]',\n",
       " 'Age_q_is(36.0..42.0]',\n",
       " 'Age_q_is(42.0..50.0]',\n",
       " 'Age_q_is(50.0..80.0]']"
      ]
     },
     "execution_count": 5,
     "metadata": {},
     "output_type": "execute_result"
    }
   ],
   "source": [
    "feature_names"
   ]
  },
  {
   "cell_type": "code",
   "execution_count": 8,
   "metadata": {},
   "outputs": [],
   "source": [
    "cl.fit(df_train[feature_names], df_train[field_name])\n",
    "y_test = cl.predict(df_test[feature_names])\n",
    "df_submit = pd.DataFrame({'PassengerId': df_test['PassengerId'], 'Survived': y_test})\n",
    "df_submit['Survived'] = df_submit['Survived'].astype(int)\n",
    "df_submit.to_csv(f'{submissions}/submission014.csv', index=False)"
   ]
  },
  {
   "cell_type": "code",
   "execution_count": 9,
   "metadata": {},
   "outputs": [
    {
     "name": "stdout",
     "output_type": "stream",
     "text": [
      "PassengerId,Survived\r\n",
      "892,0\r\n",
      "893,1\r\n",
      "894,0\r\n",
      "895,0\r\n",
      "896,1\r\n",
      "897,1\r\n",
      "898,1\r\n",
      "899,0\r\n",
      "900,1\r\n"
     ]
    }
   ],
   "source": [
    "# LB score: 0.77990 (vs 0.76555 with no Age_ stuff, but human-curated bins gave 0.78468)\n",
    "!head submissions/submission013.csv"
   ]
  },
  {
   "cell_type": "code",
   "execution_count": 13,
   "metadata": {},
   "outputs": [],
   "source": [
    "!open submissions\n",
    "!open https://www.kaggle.com/c/titanic/submit"
   ]
  },
  {
   "cell_type": "code",
   "execution_count": 11,
   "metadata": {},
   "outputs": [],
   "source": [
    "df_features = pd.DataFrame({'name': feature_names, 'importance': cl.feature_importances_})\n",
    "df_features.sort_values('importance', ascending=False, inplace=True)"
   ]
  },
  {
   "cell_type": "code",
   "execution_count": 12,
   "metadata": {},
   "outputs": [
    {
     "data": {
      "text/plain": [
       "<matplotlib.axes._subplots.AxesSubplot at 0x12c60fb10>"
      ]
     },
     "execution_count": 12,
     "metadata": {},
     "output_type": "execute_result"
    },
    {
     "data": {
      "image/png": "[encoded data removed]",
      "text/plain": [
       "<Figure size 432x288 with 1 Axes>"
      ]
     },
     "metadata": {
      "needs_background": "light"
     },
     "output_type": "display_data"
    }
   ],
   "source": [
    "%matplotlib inline\n",
    "import seaborn as sns\n",
    "sns.barplot(x=\"importance\", y=\"name\", data=df_features)"
   ]
  },
  {
   "cell_type": "code",
   "execution_count": null,
   "metadata": {},
   "outputs": [],
   "source": []
  }
 ],
 "metadata": {
  "kernelspec": {
   "display_name": "Python 3",
   "language": "python",
   "name": "python3"
  },
  "language_info": {
   "codemirror_mode": {
    "name": "ipython",
    "version": 3
   },
   "file_extension": ".py",
   "mimetype": "text/x-python",
   "name": "python",
   "nbconvert_exporter": "python",
   "pygments_lexer": "ipython3",
   "version": "3.7.5"
  }
 },
 "nbformat": 4,
 "nbformat_minor": 2
}
