{
 "cells": [
  {
   "cell_type": "code",
   "execution_count": 1,
   "metadata": {},
   "outputs": [],
   "source": [
    "%matplotlib inline"
   ]
  },
  {
   "cell_type": "code",
   "execution_count": 2,
   "metadata": {},
   "outputs": [],
   "source": [
    "import pandas as pd"
   ]
  },
  {
   "cell_type": "code",
   "execution_count": 51,
   "metadata": {},
   "outputs": [],
   "source": [
    "import featuretools as ft"
   ]
  },
  {
   "cell_type": "code",
   "execution_count": 58,
   "metadata": {},
   "outputs": [],
   "source": [
    "import featuretools.variable_types as vt"
   ]
  },
  {
   "cell_type": "code",
   "execution_count": 59,
   "metadata": {},
   "outputs": [
    {
     "data": {
      "text/plain": [
       "['Boolean',\n",
       " 'Categorical',\n",
       " 'CountryCode',\n",
       " 'DEFAULT_DTYPE_VALUES',\n",
       " 'DateOfBirth',\n",
       " 'Datetime',\n",
       " 'DatetimeTimeIndex',\n",
       " 'Discrete',\n",
       " 'EmailAddress',\n",
       " 'FilePath',\n",
       " 'FullName',\n",
       " 'IPAddress',\n",
       " 'Id',\n",
       " 'Index',\n",
       " 'LatLong',\n",
       " 'Numeric',\n",
       " 'NumericTimeIndex',\n",
       " 'Ordinal',\n",
       " 'PandasTypes',\n",
       " 'PhoneNumber',\n",
       " 'SubRegionCode',\n",
       " 'Text',\n",
       " 'TimeIndex',\n",
       " 'Timedelta',\n",
       " 'URL',\n",
       " 'Unknown',\n",
       " 'Variable',\n",
       " 'ZIPCode',\n",
       " '__builtins__',\n",
       " '__cached__',\n",
       " '__doc__',\n",
       " '__file__',\n",
       " '__loader__',\n",
       " '__name__',\n",
       " '__package__',\n",
       " '__path__',\n",
       " '__spec__',\n",
       " 'api',\n",
       " 'find_descendents',\n",
       " 'find_variable_types',\n",
       " 'np',\n",
       " 'pd',\n",
       " 'variable']"
      ]
     },
     "execution_count": 59,
     "metadata": {},
     "output_type": "execute_result"
    }
   ],
   "source": [
    "dir(vt)"
   ]
  },
  {
   "cell_type": "code",
   "execution_count": 5,
   "metadata": {},
   "outputs": [],
   "source": [
    "raw = 'raw'\n",
    "processed = 'processed'\n",
    "features = 'features'"
   ]
  },
  {
   "cell_type": "code",
   "execution_count": 6,
   "metadata": {},
   "outputs": [],
   "source": [
    "df_train = pd.read_csv(f'{raw}/train.csv')\n",
    "df_test = pd.read_csv(f'{raw}/test.csv')\n",
    "\n",
    "df_train['src'] = 'train'\n",
    "df_test['src'] = 'test'\n",
    "union = pd.concat([df_train, df_test], sort=False)"
   ]
  },
  {
   "cell_type": "code",
   "execution_count": 68,
   "metadata": {},
   "outputs": [],
   "source": [
    "es = ft.EntitySet(id=\"titanic\")"
   ]
  },
  {
   "cell_type": "code",
   "execution_count": 71,
   "metadata": {},
   "outputs": [
    {
     "data": {
      "text/plain": [
       "Entityset: titanic\n",
       "  Entities:\n",
       "    Passengers [Rows: 1309, Columns: 7]\n",
       "  Relationships:\n",
       "    No relationships"
      ]
     },
     "execution_count": 71,
     "metadata": {},
     "output_type": "execute_result"
    }
   ],
   "source": [
    "es.entity_from_dataframe(entity_id=\"Passengers\",\n",
    "                         index='PassengerId',\n",
    "                         dataframe=union[['PassengerId', 'Pclass', 'Age', 'SibSp', 'Fare', 'Embarked', 'Sex']])"
   ]
  },
  {
   "cell_type": "code",
   "execution_count": 72,
   "metadata": {},
   "outputs": [],
   "source": [
    "es = es.normalize_entity(base_entity_id='Passengers', new_entity_id='Pclass', index='Pclass')"
   ]
  },
  {
   "cell_type": "code",
   "execution_count": 73,
   "metadata": {},
   "outputs": [
    {
     "name": "stdout",
     "output_type": "stream",
     "text": [
      "2020-02-09 19:43:08,327 featuretools.entityset - INFO    Variable Embarked: Marking S as an interesting value\n",
      "2020-02-09 19:43:08,329 featuretools.entityset - INFO    Variable Embarked: Marking C as an interesting value\n",
      "2020-02-09 19:43:08,331 featuretools.entityset - INFO    Variable Embarked: Marking Q as an interesting value\n",
      "2020-02-09 19:43:08,337 featuretools.entityset - INFO    Variable Sex: Marking male as an interesting value\n",
      "2020-02-09 19:43:08,338 featuretools.entityset - INFO    Variable Sex: Marking female as an interesting value\n"
     ]
    }
   ],
   "source": [
    "es.add_interesting_values(verbose=True)"
   ]
  },
  {
   "cell_type": "code",
   "execution_count": 75,
   "metadata": {},
   "outputs": [
    {
     "name": "stdout",
     "output_type": "stream",
     "text": [
      "Built 29 features\n",
      "Elapsed: 00:00 | Progress: 100%|██████████\n"
     ]
    }
   ],
   "source": [
    "feature_matrix, feature_defs = ft.dfs(entityset=es,\n",
    "                          max_depth=3,\n",
    "                          target_entity=\"Passengers\",\n",
    "                          where_primitives=[\"count\"], trans_primitives=[],\n",
    "                          verbose=True)"
   ]
  },
  {
   "cell_type": "code",
   "execution_count": 77,
   "metadata": {},
   "outputs": [
    {
     "data": {
      "text/plain": [
       "[<Feature: Pclass>,\n",
       " <Feature: Age>,\n",
       " <Feature: SibSp>,\n",
       " <Feature: Fare>,\n",
       " <Feature: Embarked>,\n",
       " <Feature: Sex>,\n",
       " <Feature: Pclass.SUM(Passengers.SibSp)>,\n",
       " <Feature: Pclass.SUM(Passengers.Age)>,\n",
       " <Feature: Pclass.SUM(Passengers.Fare)>,\n",
       " <Feature: Pclass.STD(Passengers.SibSp)>,\n",
       " <Feature: Pclass.STD(Passengers.Age)>,\n",
       " <Feature: Pclass.STD(Passengers.Fare)>,\n",
       " <Feature: Pclass.MAX(Passengers.SibSp)>,\n",
       " <Feature: Pclass.MAX(Passengers.Age)>,\n",
       " <Feature: Pclass.MAX(Passengers.Fare)>,\n",
       " <Feature: Pclass.SKEW(Passengers.SibSp)>,\n",
       " <Feature: Pclass.SKEW(Passengers.Age)>,\n",
       " <Feature: Pclass.SKEW(Passengers.Fare)>,\n",
       " <Feature: Pclass.MIN(Passengers.SibSp)>,\n",
       " <Feature: Pclass.MIN(Passengers.Age)>,\n",
       " <Feature: Pclass.MIN(Passengers.Fare)>,\n",
       " <Feature: Pclass.MEAN(Passengers.SibSp)>,\n",
       " <Feature: Pclass.MEAN(Passengers.Age)>,\n",
       " <Feature: Pclass.MEAN(Passengers.Fare)>,\n",
       " <Feature: Pclass.COUNT(Passengers)>,\n",
       " <Feature: Pclass.NUM_UNIQUE(Passengers.Sex)>,\n",
       " <Feature: Pclass.NUM_UNIQUE(Passengers.Embarked)>,\n",
       " <Feature: Pclass.MODE(Passengers.Sex)>,\n",
       " <Feature: Pclass.MODE(Passengers.Embarked)>]"
      ]
     },
     "execution_count": 77,
     "metadata": {},
     "output_type": "execute_result"
    }
   ],
   "source": [
    "feature_defs"
   ]
  },
  {
   "cell_type": "code",
   "execution_count": null,
   "metadata": {},
   "outputs": [],
   "source": [
    "es"
   ]
  }
 ],
 "metadata": {
  "kernelspec": {
   "display_name": "Python 3",
   "language": "python",
   "name": "python3"
  },
  "language_info": {
   "codemirror_mode": {
    "name": "ipython",
    "version": 3
   },
   "file_extension": ".py",
   "mimetype": "text/x-python",
   "name": "python",
   "nbconvert_exporter": "python",
   "pygments_lexer": "ipython3",
   "version": "3.7.6"
  }
 },
 "nbformat": 4,
 "nbformat_minor": 2
}
