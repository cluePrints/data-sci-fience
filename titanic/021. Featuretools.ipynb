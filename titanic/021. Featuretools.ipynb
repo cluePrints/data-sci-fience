{
 "cells": [
  {
   "cell_type": "code",
   "execution_count": 144,
   "metadata": {},
   "outputs": [],
   "source": [
    "%matplotlib inline"
   ]
  },
  {
   "cell_type": "code",
   "execution_count": 145,
   "metadata": {},
   "outputs": [],
   "source": [
    "import pandas as pd"
   ]
  },
  {
   "cell_type": "code",
   "execution_count": 146,
   "metadata": {},
   "outputs": [],
   "source": [
    "import featuretools as ft"
   ]
  },
  {
   "cell_type": "code",
   "execution_count": 147,
   "metadata": {},
   "outputs": [],
   "source": [
    "raw = 'raw'\n",
    "processed = 'processed'\n",
    "features = 'features'"
   ]
  },
  {
   "cell_type": "code",
   "execution_count": 148,
   "metadata": {},
   "outputs": [],
   "source": [
    "df_train = pd.read_csv(f'{raw}/train.csv')\n",
    "df_test = pd.read_csv(f'{raw}/test.csv')\n",
    "\n",
    "df_train['src'] = 'train'\n",
    "df_test['src'] = 'test'\n",
    "union = pd.concat([df_train, df_test], sort=False)\n",
    "union.reset_index(drop=True, inplace=True)"
   ]
  },
  {
   "cell_type": "code",
   "execution_count": 149,
   "metadata": {},
   "outputs": [],
   "source": [
    "es = ft.EntitySet(id=\"titanic\")"
   ]
  },
  {
   "cell_type": "code",
   "execution_count": 150,
   "metadata": {},
   "outputs": [
    {
     "data": {
      "text/plain": [
       "Entityset: titanic\n",
       "  Entities:\n",
       "    Passengers [Rows: 1309, Columns: 7]\n",
       "  Relationships:\n",
       "    No relationships"
      ]
     },
     "execution_count": 150,
     "metadata": {},
     "output_type": "execute_result"
    }
   ],
   "source": [
    "es.entity_from_dataframe(entity_id=\"Passengers\",\n",
    "                         index='PassengerId',\n",
    "                         dataframe=union[['PassengerId', 'Pclass', 'Age', 'SibSp', 'Fare', 'Embarked', 'Sex']])"
   ]
  },
  {
   "cell_type": "code",
   "execution_count": 151,
   "metadata": {},
   "outputs": [],
   "source": [
    "es = es.normalize_entity(base_entity_id='Passengers', new_entity_id='Pclass', index='Pclass')"
   ]
  },
  {
   "cell_type": "code",
   "execution_count": 152,
   "metadata": {},
   "outputs": [
    {
     "name": "stdout",
     "output_type": "stream",
     "text": [
      "2020-02-11 19:47:21,605 featuretools.entityset - INFO    Variable Embarked: Marking S as an interesting value\n",
      "2020-02-11 19:47:21,607 featuretools.entityset - INFO    Variable Embarked: Marking C as an interesting value\n",
      "2020-02-11 19:47:21,608 featuretools.entityset - INFO    Variable Embarked: Marking Q as an interesting value\n",
      "2020-02-11 19:47:21,613 featuretools.entityset - INFO    Variable Sex: Marking male as an interesting value\n",
      "2020-02-11 19:47:21,615 featuretools.entityset - INFO    Variable Sex: Marking female as an interesting value\n"
     ]
    }
   ],
   "source": [
    "es.add_interesting_values(verbose=True)"
   ]
  },
  {
   "cell_type": "code",
   "execution_count": 153,
   "metadata": {},
   "outputs": [
    {
     "name": "stdout",
     "output_type": "stream",
     "text": [
      "Built 29 features\n",
      "Elapsed: 00:00 | Progress: 100%|██████████\n"
     ]
    }
   ],
   "source": [
    "feature_matrix, feature_defs = ft.dfs(entityset=es,\n",
    "                          max_depth=3,\n",
    "                          target_entity=\"Passengers\",\n",
    "                          where_primitives=[\"count\"], trans_primitives=[],\n",
    "                          verbose=3)"
   ]
  },
  {
   "cell_type": "code",
   "execution_count": 154,
   "metadata": {},
   "outputs": [
    {
     "data": {
      "text/plain": [
       "[<Feature: Pclass>,\n",
       " <Feature: Age>,\n",
       " <Feature: SibSp>,\n",
       " <Feature: Fare>,\n",
       " <Feature: Embarked>,\n",
       " <Feature: Sex>,\n",
       " <Feature: Pclass.SUM(Passengers.SibSp)>,\n",
       " <Feature: Pclass.SUM(Passengers.Fare)>,\n",
       " <Feature: Pclass.SUM(Passengers.Age)>,\n",
       " <Feature: Pclass.STD(Passengers.SibSp)>,\n",
       " <Feature: Pclass.STD(Passengers.Fare)>,\n",
       " <Feature: Pclass.STD(Passengers.Age)>,\n",
       " <Feature: Pclass.MAX(Passengers.SibSp)>,\n",
       " <Feature: Pclass.MAX(Passengers.Fare)>,\n",
       " <Feature: Pclass.MAX(Passengers.Age)>,\n",
       " <Feature: Pclass.SKEW(Passengers.SibSp)>,\n",
       " <Feature: Pclass.SKEW(Passengers.Fare)>,\n",
       " <Feature: Pclass.SKEW(Passengers.Age)>,\n",
       " <Feature: Pclass.MIN(Passengers.SibSp)>,\n",
       " <Feature: Pclass.MIN(Passengers.Fare)>,\n",
       " <Feature: Pclass.MIN(Passengers.Age)>,\n",
       " <Feature: Pclass.MEAN(Passengers.SibSp)>,\n",
       " <Feature: Pclass.MEAN(Passengers.Fare)>,\n",
       " <Feature: Pclass.MEAN(Passengers.Age)>,\n",
       " <Feature: Pclass.COUNT(Passengers)>,\n",
       " <Feature: Pclass.NUM_UNIQUE(Passengers.Sex)>,\n",
       " <Feature: Pclass.NUM_UNIQUE(Passengers.Embarked)>,\n",
       " <Feature: Pclass.MODE(Passengers.Sex)>,\n",
       " <Feature: Pclass.MODE(Passengers.Embarked)>]"
      ]
     },
     "execution_count": 154,
     "metadata": {},
     "output_type": "execute_result"
    }
   ],
   "source": [
    "feature_defs"
   ]
  },
  {
   "cell_type": "code",
   "execution_count": 161,
   "metadata": {},
   "outputs": [],
   "source": [
    "feature_columns = [column for column in feature_matrix.columns if column not in [\n",
    "    'Sex', 'Pclass.MODE(Passengers.Sex)', 'Pclass.MODE(Passengers.Embarked)', 'Embarked', 'Fare', 'Age'] + list(union.columns.values)]"
   ]
  },
  {
   "cell_type": "code",
   "execution_count": 162,
   "metadata": {},
   "outputs": [
    {
     "data": {
      "text/plain": [
       "Series([], dtype: int64)"
      ]
     },
     "execution_count": 162,
     "metadata": {},
     "output_type": "execute_result"
    }
   ],
   "source": [
    "t = feature_matrix[feature_columns].isnull().sum()\n",
    "t[t > 0]"
   ]
  },
  {
   "cell_type": "code",
   "execution_count": 163,
   "metadata": {},
   "outputs": [
    {
     "data": {
      "text/plain": [
       "array([], dtype=int64)"
      ]
     },
     "execution_count": 163,
     "metadata": {},
     "output_type": "execute_result"
    }
   ],
   "source": [
    "t = feature_matrix[feature_columns].isna().sum().sum()\n",
    "t[t > 0]"
   ]
  },
  {
   "cell_type": "code",
   "execution_count": 164,
   "metadata": {},
   "outputs": [
    {
     "data": {
      "text/html": [
       "<div>\n",
       "<style scoped>\n",
       "    .dataframe tbody tr th:only-of-type {\n",
       "        vertical-align: middle;\n",
       "    }\n",
       "\n",
       "    .dataframe tbody tr th {\n",
       "        vertical-align: top;\n",
       "    }\n",
       "\n",
       "    .dataframe thead th {\n",
       "        text-align: right;\n",
       "    }\n",
       "</style>\n",
       "<table border=\"1\" class=\"dataframe\">\n",
       "  <thead>\n",
       "    <tr style=\"text-align: right;\">\n",
       "      <th></th>\n",
       "      <th>Pclass.SUM(Passengers.SibSp)</th>\n",
       "      <th>Pclass.SUM(Passengers.Fare)</th>\n",
       "      <th>Pclass.SUM(Passengers.Age)</th>\n",
       "      <th>Pclass.STD(Passengers.SibSp)</th>\n",
       "      <th>Pclass.STD(Passengers.Fare)</th>\n",
       "      <th>Pclass.STD(Passengers.Age)</th>\n",
       "      <th>Pclass.MAX(Passengers.SibSp)</th>\n",
       "      <th>Pclass.MAX(Passengers.Fare)</th>\n",
       "      <th>Pclass.MAX(Passengers.Age)</th>\n",
       "      <th>Pclass.SKEW(Passengers.SibSp)</th>\n",
       "      <th>...</th>\n",
       "      <th>Pclass.SKEW(Passengers.Age)</th>\n",
       "      <th>Pclass.MIN(Passengers.SibSp)</th>\n",
       "      <th>Pclass.MIN(Passengers.Fare)</th>\n",
       "      <th>Pclass.MIN(Passengers.Age)</th>\n",
       "      <th>Pclass.MEAN(Passengers.SibSp)</th>\n",
       "      <th>Pclass.MEAN(Passengers.Fare)</th>\n",
       "      <th>Pclass.MEAN(Passengers.Age)</th>\n",
       "      <th>Pclass.COUNT(Passengers)</th>\n",
       "      <th>Pclass.NUM_UNIQUE(Passengers.Sex)</th>\n",
       "      <th>Pclass.NUM_UNIQUE(Passengers.Embarked)</th>\n",
       "    </tr>\n",
       "    <tr>\n",
       "      <th>PassengerId</th>\n",
       "      <th></th>\n",
       "      <th></th>\n",
       "      <th></th>\n",
       "      <th></th>\n",
       "      <th></th>\n",
       "      <th></th>\n",
       "      <th></th>\n",
       "      <th></th>\n",
       "      <th></th>\n",
       "      <th></th>\n",
       "      <th></th>\n",
       "      <th></th>\n",
       "      <th></th>\n",
       "      <th></th>\n",
       "      <th></th>\n",
       "      <th></th>\n",
       "      <th></th>\n",
       "      <th></th>\n",
       "      <th></th>\n",
       "      <th></th>\n",
       "      <th></th>\n",
       "    </tr>\n",
       "  </thead>\n",
       "  <tbody>\n",
       "    <tr>\n",
       "      <th>1</th>\n",
       "      <td>403</td>\n",
       "      <td>9418.4452</td>\n",
       "      <td>12433.0</td>\n",
       "      <td>1.299681</td>\n",
       "      <td>11.494358</td>\n",
       "      <td>11.958202</td>\n",
       "      <td>8</td>\n",
       "      <td>69.55</td>\n",
       "      <td>74.0</td>\n",
       "      <td>3.420424</td>\n",
       "      <td>...</td>\n",
       "      <td>0.424489</td>\n",
       "      <td>0</td>\n",
       "      <td>0.0</td>\n",
       "      <td>0.17</td>\n",
       "      <td>0.568406</td>\n",
       "      <td>13.302889</td>\n",
       "      <td>24.816367</td>\n",
       "      <td>709</td>\n",
       "      <td>2</td>\n",
       "      <td>3</td>\n",
       "    </tr>\n",
       "  </tbody>\n",
       "</table>\n",
       "<p>1 rows × 21 columns</p>\n",
       "</div>"
      ],
      "text/plain": [
       "             Pclass.SUM(Passengers.SibSp)  Pclass.SUM(Passengers.Fare)  \\\n",
       "PassengerId                                                              \n",
       "1                                     403                    9418.4452   \n",
       "\n",
       "             Pclass.SUM(Passengers.Age)  Pclass.STD(Passengers.SibSp)  \\\n",
       "PassengerId                                                             \n",
       "1                               12433.0                      1.299681   \n",
       "\n",
       "             Pclass.STD(Passengers.Fare)  Pclass.STD(Passengers.Age)  \\\n",
       "PassengerId                                                            \n",
       "1                              11.494358                   11.958202   \n",
       "\n",
       "             Pclass.MAX(Passengers.SibSp)  Pclass.MAX(Passengers.Fare)  \\\n",
       "PassengerId                                                              \n",
       "1                                       8                        69.55   \n",
       "\n",
       "             Pclass.MAX(Passengers.Age)  Pclass.SKEW(Passengers.SibSp)  ...  \\\n",
       "PassengerId                                                             ...   \n",
       "1                                  74.0                       3.420424  ...   \n",
       "\n",
       "             Pclass.SKEW(Passengers.Age)  Pclass.MIN(Passengers.SibSp)  \\\n",
       "PassengerId                                                              \n",
       "1                               0.424489                             0   \n",
       "\n",
       "             Pclass.MIN(Passengers.Fare)  Pclass.MIN(Passengers.Age)  \\\n",
       "PassengerId                                                            \n",
       "1                                    0.0                        0.17   \n",
       "\n",
       "             Pclass.MEAN(Passengers.SibSp)  Pclass.MEAN(Passengers.Fare)  \\\n",
       "PassengerId                                                                \n",
       "1                                 0.568406                     13.302889   \n",
       "\n",
       "             Pclass.MEAN(Passengers.Age)  Pclass.COUNT(Passengers)  \\\n",
       "PassengerId                                                          \n",
       "1                              24.816367                       709   \n",
       "\n",
       "             Pclass.NUM_UNIQUE(Passengers.Sex)  \\\n",
       "PassengerId                                      \n",
       "1                                            2   \n",
       "\n",
       "             Pclass.NUM_UNIQUE(Passengers.Embarked)  \n",
       "PassengerId                                          \n",
       "1                                                 3  \n",
       "\n",
       "[1 rows x 21 columns]"
      ]
     },
     "execution_count": 164,
     "metadata": {},
     "output_type": "execute_result"
    }
   ],
   "source": [
    "feature_matrix[feature_columns].head(1)"
   ]
  },
  {
   "cell_type": "code",
   "execution_count": 167,
   "metadata": {},
   "outputs": [],
   "source": [
    "union = union.merge(feature_matrix[feature_columns], right_index=True, left_on='PassengerId')"
   ]
  },
  {
   "cell_type": "code",
   "execution_count": 179,
   "metadata": {},
   "outputs": [
    {
     "data": {
      "text/plain": [
       "SelectFromModel(estimator=LogisticRegression(C=1.0, class_weight=None,\n",
       "                                             dual=False, fit_intercept=True,\n",
       "                                             intercept_scaling=1, l1_ratio=None,\n",
       "                                             max_iter=1000, multi_class='warn',\n",
       "                                             n_jobs=None, penalty='l2',\n",
       "                                             random_state=None, solver='lbfgs',\n",
       "                                             tol=0.0001, verbose=0,\n",
       "                                             warm_start=False),\n",
       "                max_features=10, norm_order=1, prefit=False, threshold=None)"
      ]
     },
     "execution_count": 179,
     "metadata": {},
     "output_type": "execute_result"
    }
   ],
   "source": [
    "from sklearn.feature_selection import SelectFromModel\n",
    "from sklearn.linear_model import LogisticRegression\n",
    "\n",
    "trn_idx = union['src'] == 'train'\n",
    "trn_idx\n",
    "\n",
    "target_column = 'Survived'\n",
    "cl = LogisticRegression(penalty=\"l2\", solver='lbfgs', max_iter=1000)\n",
    "selector = SelectFromModel(cl, max_features=10)\n",
    "selector.fit(union[trn_idx][feature_columns], union[trn_idx][target_column])"
   ]
  },
  {
   "cell_type": "code",
   "execution_count": 178,
   "metadata": {},
   "outputs": [
    {
     "data": {
      "text/plain": [
       "['Pclass.SUM(Passengers.SibSp)',\n",
       " 'Pclass.MAX(Passengers.Fare)',\n",
       " 'Pclass.MAX(Passengers.Age)',\n",
       " 'Pclass.COUNT(Passengers)']"
      ]
     },
     "execution_count": 178,
     "metadata": {},
     "output_type": "execute_result"
    }
   ],
   "source": [
    "ft_support = embeded_lr_selector.get_support()\n",
    "ft_support = union[trn_idx][feature_columns].loc[:,ft_support].columns.tolist()\n",
    "ft_support"
   ]
  },
  {
   "cell_type": "code",
   "execution_count": 181,
   "metadata": {},
   "outputs": [
    {
     "data": {
      "text/plain": [
       "array([0.63973064, 0.65993266, 0.7003367 ])"
      ]
     },
     "execution_count": 181,
     "metadata": {},
     "output_type": "execute_result"
    }
   ],
   "source": [
    "from sklearn.model_selection import cross_val_score\n",
    "from sklearn.model_selection import KFold\n",
    "kfold = KFold(random_state=42, n_splits=3)\n",
    "cross_val_score(cl, union[trn_idx][feature_columns], union[trn_idx][target_column], cv=kfold)"
   ]
  },
  {
   "cell_type": "code",
   "execution_count": 189,
   "metadata": {},
   "outputs": [
    {
     "data": {
      "text/plain": [
       "array([0.63973064, 0.65993266, 0.7003367 ])"
      ]
     },
     "execution_count": 189,
     "metadata": {},
     "output_type": "execute_result"
    }
   ],
   "source": [
    "from sklearn.ensemble import GradientBoostingClassifier\n",
    "cl = GradientBoostingClassifier()\n",
    "cross_val_score(cl, union[trn_idx][ft_support], union[trn_idx][target_column], cv=kfold)"
   ]
  },
  {
   "cell_type": "code",
   "execution_count": 191,
   "metadata": {},
   "outputs": [
    {
     "data": {
      "text/html": [
       "<div>\n",
       "<style scoped>\n",
       "    .dataframe tbody tr th:only-of-type {\n",
       "        vertical-align: middle;\n",
       "    }\n",
       "\n",
       "    .dataframe tbody tr th {\n",
       "        vertical-align: top;\n",
       "    }\n",
       "\n",
       "    .dataframe thead th {\n",
       "        text-align: right;\n",
       "    }\n",
       "</style>\n",
       "<table border=\"1\" class=\"dataframe\">\n",
       "  <thead>\n",
       "    <tr style=\"text-align: right;\">\n",
       "      <th></th>\n",
       "      <th>Pclass.SUM(Passengers.SibSp)</th>\n",
       "      <th>Pclass.MAX(Passengers.Fare)</th>\n",
       "      <th>Pclass.MAX(Passengers.Age)</th>\n",
       "      <th>Pclass.COUNT(Passengers)</th>\n",
       "    </tr>\n",
       "  </thead>\n",
       "  <tbody>\n",
       "    <tr>\n",
       "      <th>count</th>\n",
       "      <td>891.000000</td>\n",
       "      <td>891.000000</td>\n",
       "      <td>891.000000</td>\n",
       "      <td>891.000000</td>\n",
       "    </tr>\n",
       "    <tr>\n",
       "      <th>mean</th>\n",
       "      <td>278.771044</td>\n",
       "      <td>177.706125</td>\n",
       "      <td>74.628507</td>\n",
       "      <td>526.212121</td>\n",
       "    </tr>\n",
       "    <tr>\n",
       "      <th>std</th>\n",
       "      <td>138.128231</td>\n",
       "      <td>189.403904</td>\n",
       "      <td>3.413133</td>\n",
       "      <td>203.211261</td>\n",
       "    </tr>\n",
       "    <tr>\n",
       "      <th>min</th>\n",
       "      <td>109.000000</td>\n",
       "      <td>69.550000</td>\n",
       "      <td>70.000000</td>\n",
       "      <td>277.000000</td>\n",
       "    </tr>\n",
       "    <tr>\n",
       "      <th>25%</th>\n",
       "      <td>141.000000</td>\n",
       "      <td>69.550000</td>\n",
       "      <td>74.000000</td>\n",
       "      <td>323.000000</td>\n",
       "    </tr>\n",
       "    <tr>\n",
       "      <th>50%</th>\n",
       "      <td>403.000000</td>\n",
       "      <td>69.550000</td>\n",
       "      <td>74.000000</td>\n",
       "      <td>709.000000</td>\n",
       "    </tr>\n",
       "    <tr>\n",
       "      <th>75%</th>\n",
       "      <td>403.000000</td>\n",
       "      <td>73.500000</td>\n",
       "      <td>74.000000</td>\n",
       "      <td>709.000000</td>\n",
       "    </tr>\n",
       "    <tr>\n",
       "      <th>max</th>\n",
       "      <td>403.000000</td>\n",
       "      <td>512.329200</td>\n",
       "      <td>80.000000</td>\n",
       "      <td>709.000000</td>\n",
       "    </tr>\n",
       "  </tbody>\n",
       "</table>\n",
       "</div>"
      ],
      "text/plain": [
       "       Pclass.SUM(Passengers.SibSp)  Pclass.MAX(Passengers.Fare)  \\\n",
       "count                    891.000000                   891.000000   \n",
       "mean                     278.771044                   177.706125   \n",
       "std                      138.128231                   189.403904   \n",
       "min                      109.000000                    69.550000   \n",
       "25%                      141.000000                    69.550000   \n",
       "50%                      403.000000                    69.550000   \n",
       "75%                      403.000000                    73.500000   \n",
       "max                      403.000000                   512.329200   \n",
       "\n",
       "       Pclass.MAX(Passengers.Age)  Pclass.COUNT(Passengers)  \n",
       "count                  891.000000                891.000000  \n",
       "mean                    74.628507                526.212121  \n",
       "std                      3.413133                203.211261  \n",
       "min                     70.000000                277.000000  \n",
       "25%                     74.000000                323.000000  \n",
       "50%                     74.000000                709.000000  \n",
       "75%                     74.000000                709.000000  \n",
       "max                     80.000000                709.000000  "
      ]
     },
     "execution_count": 191,
     "metadata": {},
     "output_type": "execute_result"
    }
   ],
   "source": [
    "union[trn_idx][ft_support].describe()"
   ]
  },
  {
   "cell_type": "code",
   "execution_count": 193,
   "metadata": {},
   "outputs": [],
   "source": [
    "df_train = union[trn_idx]\n",
    "df_test = union[~trn_idx]"
   ]
  },
  {
   "cell_type": "code",
   "execution_count": 194,
   "metadata": {},
   "outputs": [],
   "source": [
    "df_train[['PassengerId'] + feature_columns].to_csv(f'{features}/ftools_all_train.csv', index=False)\n",
    "df_test[['PassengerId'] + feature_columns].to_csv(f'{features}/ftools_all_test.csv', index=False)"
   ]
  },
  {
   "cell_type": "code",
   "execution_count": 195,
   "metadata": {},
   "outputs": [],
   "source": [
    "df_train[['PassengerId'] + ft_support].to_csv(f'{features}/ftools_selected_train.csv', index=False)\n",
    "df_test[['PassengerId'] + ft_support].to_csv(f'{features}/ftools_selected_test.csv', index=False)"
   ]
  },
  {
   "cell_type": "code",
   "execution_count": 196,
   "metadata": {},
   "outputs": [
    {
     "name": "stdout",
     "output_type": "stream",
     "text": [
      "-rw-r--r--  1 ivan.sobolev  staff   99434 Feb 11 19:56 features/ftools_all_test.csv\r\n",
      "-rw-r--r--  1 ivan.sobolev  staff  210516 Feb 11 19:56 features/ftools_all_train.csv\r\n",
      "-rw-r--r--  1 ivan.sobolev  staff   10273 Feb 11 19:56 features/ftools_selected_test.csv\r\n",
      "-rw-r--r--  1 ivan.sobolev  staff   20970 Feb 11 19:56 features/ftools_selected_train.csv\r\n"
     ]
    }
   ],
   "source": [
    "ls -la features/ft*"
   ]
  },
  {
   "cell_type": "code",
   "execution_count": 197,
   "metadata": {},
   "outputs": [
    {
     "name": "stdout",
     "output_type": "stream",
     "text": [
      "PassengerId,Pclass.SUM(Passengers.SibSp),Pclass.SUM(Passengers.Fare),Pclass.SUM(Passengers.Age),Pclass.STD(Passengers.SibSp),Pclass.STD(Passengers.Fare),Pclass.STD(Passengers.Age),Pclass.MAX(Passengers.SibSp),Pclass.MAX(Passengers.Fare),Pclass.MAX(Passengers.Age),Pclass.SKEW(Passengers.SibSp),Pclass.SKEW(Passengers.Fare),Pclass.SKEW(Passengers.Age),Pclass.MIN(Passengers.SibSp),Pclass.MIN(Passengers.Fare),Pclass.MIN(Passengers.Age),Pclass.MEAN(Passengers.SibSp),Pclass.MEAN(Passengers.Fare),Pclass.MEAN(Passengers.Age),Pclass.COUNT(Passengers),Pclass.NUM_UNIQUE(Passengers.Sex),Pclass.NUM_UNIQUE(Passengers.Embarked)\r\n"
     ]
    }
   ],
   "source": [
    "!head -n1 features/ftools_all_test.csv"
   ]
  },
  {
   "cell_type": "code",
   "execution_count": 199,
   "metadata": {},
   "outputs": [
    {
     "name": "stdout",
     "output_type": "stream",
     "text": [
      "PassengerId,Pclass.SUM(Passengers.SibSp),Pclass.MAX(Passengers.Fare),Pclass.MAX(Passengers.Age),Pclass.COUNT(Passengers)\r\n",
      "1,403,69.55,74.0,709\r\n"
     ]
    }
   ],
   "source": [
    "!head -n2 features/ftools_selected_train.csv"
   ]
  },
  {
   "cell_type": "code",
   "execution_count": null,
   "metadata": {},
   "outputs": [],
   "source": []
  }
 ],
 "metadata": {
  "kernelspec": {
   "display_name": "Python 3",
   "language": "python",
   "name": "python3"
  },
  "language_info": {
   "codemirror_mode": {
    "name": "ipython",
    "version": 3
   },
   "file_extension": ".py",
   "mimetype": "text/x-python",
   "name": "python",
   "nbconvert_exporter": "python",
   "pygments_lexer": "ipython3",
   "version": "3.7.6"
  }
 },
 "nbformat": 4,
 "nbformat_minor": 2
}
