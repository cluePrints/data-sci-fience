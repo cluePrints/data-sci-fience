{
 "cells": [
  {
   "cell_type": "code",
   "execution_count": 71,
   "metadata": {},
   "outputs": [],
   "source": [
    "submissions = 'submissions'"
   ]
  },
  {
   "cell_type": "code",
   "execution_count": 72,
   "metadata": {},
   "outputs": [],
   "source": [
    "files = !ls {submissions}/submission*"
   ]
  },
  {
   "cell_type": "code",
   "execution_count": 73,
   "metadata": {},
   "outputs": [],
   "source": [
    "import pandas as pd"
   ]
  },
  {
   "cell_type": "code",
   "execution_count": 74,
   "metadata": {},
   "outputs": [],
   "source": [
    "merged = pd.read_csv('submissions/submission014.csv')\n",
    "passengerIds = merged['PassengerId']\n",
    "merged.drop(['Survived', 'PassengerId'], inplace=True, axis=1)"
   ]
  },
  {
   "cell_type": "code",
   "execution_count": 75,
   "metadata": {},
   "outputs": [],
   "source": [
    "for idx, file in enumerate(files):\n",
    "    df = pd.read_csv(f'{file}')\n",
    "    df.columns = ['PassengerId', f'sub_{idx}']\n",
    "    df.drop('PassengerId', inplace=True, axis=1)\n",
    "    merged = merged.merge(df, left_index=True, right_index=True)"
   ]
  },
  {
   "cell_type": "code",
   "execution_count": 76,
   "metadata": {},
   "outputs": [
    {
     "data": {
      "text/html": [
       "<div>\n",
       "<style scoped>\n",
       "    .dataframe tbody tr th:only-of-type {\n",
       "        vertical-align: middle;\n",
       "    }\n",
       "\n",
       "    .dataframe tbody tr th {\n",
       "        vertical-align: top;\n",
       "    }\n",
       "\n",
       "    .dataframe thead th {\n",
       "        text-align: right;\n",
       "    }\n",
       "</style>\n",
       "<table border=\"1\" class=\"dataframe\">\n",
       "  <thead>\n",
       "    <tr style=\"text-align: right;\">\n",
       "      <th></th>\n",
       "      <th>sub_0</th>\n",
       "      <th>sub_1</th>\n",
       "      <th>sub_2</th>\n",
       "      <th>sub_3</th>\n",
       "      <th>sub_4</th>\n",
       "      <th>sub_5</th>\n",
       "      <th>sub_6</th>\n",
       "      <th>sub_7</th>\n",
       "      <th>sub_8</th>\n",
       "      <th>sub_9</th>\n",
       "      <th>...</th>\n",
       "      <th>sub_16</th>\n",
       "      <th>sub_17</th>\n",
       "      <th>sub_18</th>\n",
       "      <th>sub_19</th>\n",
       "      <th>sub_20</th>\n",
       "      <th>sub_21</th>\n",
       "      <th>sub_22</th>\n",
       "      <th>sub_23</th>\n",
       "      <th>sub_24</th>\n",
       "      <th>sub_25</th>\n",
       "    </tr>\n",
       "  </thead>\n",
       "  <tbody>\n",
       "    <tr>\n",
       "      <th>0</th>\n",
       "      <td>0</td>\n",
       "      <td>0</td>\n",
       "      <td>0</td>\n",
       "      <td>0</td>\n",
       "      <td>0</td>\n",
       "      <td>0</td>\n",
       "      <td>0</td>\n",
       "      <td>0</td>\n",
       "      <td>0</td>\n",
       "      <td>0</td>\n",
       "      <td>...</td>\n",
       "      <td>0</td>\n",
       "      <td>0</td>\n",
       "      <td>0</td>\n",
       "      <td>0</td>\n",
       "      <td>0</td>\n",
       "      <td>0</td>\n",
       "      <td>0</td>\n",
       "      <td>0</td>\n",
       "      <td>0</td>\n",
       "      <td>0</td>\n",
       "    </tr>\n",
       "  </tbody>\n",
       "</table>\n",
       "<p>1 rows × 26 columns</p>\n",
       "</div>"
      ],
      "text/plain": [
       "   sub_0  sub_1  sub_2  sub_3  sub_4  sub_5  sub_6  sub_7  sub_8  sub_9  ...  \\\n",
       "0      0      0      0      0      0      0      0      0      0      0  ...   \n",
       "\n",
       "   sub_16  sub_17  sub_18  sub_19  sub_20  sub_21  sub_22  sub_23  sub_24  \\\n",
       "0       0       0       0       0       0       0       0       0       0   \n",
       "\n",
       "   sub_25  \n",
       "0       0  \n",
       "\n",
       "[1 rows x 26 columns]"
      ]
     },
     "execution_count": 76,
     "metadata": {},
     "output_type": "execute_result"
    }
   ],
   "source": [
    "merged.head(1)"
   ]
  },
  {
   "cell_type": "code",
   "execution_count": 77,
   "metadata": {},
   "outputs": [
    {
     "data": {
      "text/plain": [
       "sub_0     0.354067\n",
       "sub_1     0.387560\n",
       "sub_2     0.385167\n",
       "sub_3     0.358852\n",
       "sub_4     0.370813\n",
       "sub_5     0.547847\n",
       "sub_6     0.624402\n",
       "sub_7     0.382775\n",
       "sub_8     0.389952\n",
       "sub_9     0.387560\n",
       "sub_10    0.349282\n",
       "sub_11    0.354067\n",
       "sub_12    0.387560\n",
       "sub_13    0.358852\n",
       "sub_14    0.294258\n",
       "sub_15    0.011962\n",
       "sub_16    0.389952\n",
       "sub_17    0.377990\n",
       "sub_18    0.550239\n",
       "sub_19    0.433014\n",
       "sub_20    0.399522\n",
       "sub_21    0.531100\n",
       "sub_22    0.392344\n",
       "sub_23    0.279904\n",
       "sub_24    0.322967\n",
       "sub_25    0.399522\n",
       "dtype: float64"
      ]
     },
     "execution_count": 77,
     "metadata": {},
     "output_type": "execute_result"
    }
   ],
   "source": [
    "merged.mean()"
   ]
  },
  {
   "cell_type": "code",
   "execution_count": 78,
   "metadata": {},
   "outputs": [
    {
     "data": {
      "text/plain": [
       "0.3854435038645568"
      ]
     },
     "execution_count": 78,
     "metadata": {},
     "output_type": "execute_result"
    }
   ],
   "source": [
    "%matplotlib inline\n",
    "merged.mean(axis=1).mean()"
   ]
  },
  {
   "cell_type": "code",
   "execution_count": 79,
   "metadata": {},
   "outputs": [
    {
     "data": {
      "text/plain": [
       "0.38995215311004783"
      ]
     },
     "execution_count": 79,
     "metadata": {},
     "output_type": "execute_result"
    }
   ],
   "source": [
    "# for the future self: I'm thinking mean survival across all models most likely is what a good model survival should predict\n",
    "(merged.mean(axis=1) > 0.47).astype(int).mean()"
   ]
  },
  {
   "cell_type": "code",
   "execution_count": 80,
   "metadata": {},
   "outputs": [],
   "source": [
    "# LB: 0.7846, best I had so far\n",
    "df_submit = pd.DataFrame({'PassengerId': passengerIds, 'Survived': (merged.mean(axis=1) > 0.47).astype(int)})\n",
    "df_submit.to_csv(f'{submissions}/_blend050.csv', index=False)"
   ]
  },
  {
   "cell_type": "code",
   "execution_count": 81,
   "metadata": {},
   "outputs": [],
   "source": [
    "!open {submissions}"
   ]
  },
  {
   "cell_type": "code",
   "execution_count": 82,
   "metadata": {},
   "outputs": [],
   "source": [
    "!open https://www.kaggle.com/c/titanic/submit"
   ]
  },
  {
   "cell_type": "code",
   "execution_count": 83,
   "metadata": {},
   "outputs": [
    {
     "data": {
      "text/plain": [
       "sub_15    0.011962\n",
       "sub_23    0.279904\n",
       "sub_14    0.294258\n",
       "sub_24    0.322967\n",
       "sub_10    0.349282\n",
       "sub_0     0.354067\n",
       "sub_11    0.354067\n",
       "sub_3     0.358852\n",
       "sub_13    0.358852\n",
       "sub_4     0.370813\n",
       "sub_17    0.377990\n",
       "sub_7     0.382775\n",
       "sub_2     0.385167\n",
       "sub_12    0.387560\n",
       "sub_1     0.387560\n",
       "sub_9     0.387560\n",
       "sub_8     0.389952\n",
       "sub_16    0.389952\n",
       "sub_22    0.392344\n",
       "sub_20    0.399522\n",
       "sub_25    0.399522\n",
       "sub_19    0.433014\n",
       "sub_21    0.531100\n",
       "sub_5     0.547847\n",
       "sub_18    0.550239\n",
       "sub_6     0.624402\n",
       "dtype: float64"
      ]
     },
     "execution_count": 83,
     "metadata": {},
     "output_type": "execute_result"
    }
   ],
   "source": [
    "survivors_by_model = merged.mean().sort_values()\n",
    "survivors_by_model"
   ]
  },
  {
   "cell_type": "code",
   "execution_count": 84,
   "metadata": {},
   "outputs": [],
   "source": [
    "merged1 = merged.copy()"
   ]
  },
  {
   "cell_type": "code",
   "execution_count": 85,
   "metadata": {},
   "outputs": [
    {
     "data": {
      "text/plain": [
       "sub_15    (0.0113, 0.0732]\n",
       "sub_23      (0.257, 0.318]\n",
       "sub_14      (0.257, 0.318]\n",
       "sub_24      (0.318, 0.379]\n",
       "sub_10      (0.318, 0.379]\n",
       "sub_0       (0.318, 0.379]\n",
       "sub_11      (0.318, 0.379]\n",
       "sub_3       (0.318, 0.379]\n",
       "sub_13      (0.318, 0.379]\n",
       "sub_4       (0.318, 0.379]\n",
       "sub_17      (0.318, 0.379]\n",
       "sub_7       (0.379, 0.441]\n",
       "sub_2       (0.379, 0.441]\n",
       "sub_12      (0.379, 0.441]\n",
       "sub_1       (0.379, 0.441]\n",
       "sub_9       (0.379, 0.441]\n",
       "sub_8       (0.379, 0.441]\n",
       "sub_16      (0.379, 0.441]\n",
       "sub_22      (0.379, 0.441]\n",
       "sub_20      (0.379, 0.441]\n",
       "sub_25      (0.379, 0.441]\n",
       "sub_19      (0.379, 0.441]\n",
       "sub_21      (0.502, 0.563]\n",
       "sub_5       (0.502, 0.563]\n",
       "sub_18      (0.502, 0.563]\n",
       "sub_6       (0.563, 0.624]\n",
       "dtype: category\n",
       "Categories (10, interval[float64]): [(0.0113, 0.0732] < (0.0732, 0.134] < (0.134, 0.196] < (0.196, 0.257] ... (0.379, 0.441] < (0.441, 0.502] < (0.502, 0.563] < (0.563, 0.624]]"
      ]
     },
     "execution_count": 85,
     "metadata": {},
     "output_type": "execute_result"
    }
   ],
   "source": [
    "pd.cut(survivors_by_model, bins = 10)"
   ]
  },
  {
   "cell_type": "code",
   "execution_count": 86,
   "metadata": {},
   "outputs": [],
   "source": [
    "# sub_15    0.011962 that's a very pessimistic thing\n",
    "merged1.drop('sub_15', axis=1, inplace=True)"
   ]
  },
  {
   "cell_type": "code",
   "execution_count": 87,
   "metadata": {},
   "outputs": [
    {
     "data": {
      "text/plain": [
       "0.38995215311004783"
      ]
     },
     "execution_count": 87,
     "metadata": {},
     "output_type": "execute_result"
    }
   ],
   "source": [
    "(merged1.mean(axis=1) > 0.50).astype(int).mean()"
   ]
  },
  {
   "cell_type": "code",
   "execution_count": 88,
   "metadata": {},
   "outputs": [],
   "source": [
    "# LB: 0.78468, didn't change vs prev, which can be explained by the impact 1 out of 22 models can have when averaging\n",
    "df_submit = pd.DataFrame({'PassengerId': passengerIds, 'Survived': (merged1.mean(axis=1) > 0.50).astype(int)})\n",
    "df_submit.to_csv(f'{submissions}/_blend051.csv', index=False)"
   ]
  },
  {
   "cell_type": "code",
   "execution_count": 89,
   "metadata": {},
   "outputs": [
    {
     "data": {
      "text/plain": [
       "0.3838383838383838"
      ]
     },
     "execution_count": 89,
     "metadata": {},
     "output_type": "execute_result"
    }
   ],
   "source": [
    "# assuming survival in test is rougly what is in train - good models should float around that\n",
    "df_train = pd.read_csv(f'raw/train.csv')\n",
    "df_train['Survived'].mean()"
   ]
  },
  {
   "cell_type": "code",
   "execution_count": 90,
   "metadata": {},
   "outputs": [
    {
     "data": {
      "text/plain": [
       "sub_7     0.001063\n",
       "sub_2     0.001329\n",
       "sub_9     0.003721\n",
       "sub_1     0.003721\n",
       "sub_12    0.003721\n",
       "sub_17    0.005848\n",
       "sub_8     0.006114\n",
       "sub_16    0.006114\n",
       "sub_22    0.008506\n",
       "sub_4     0.013025\n",
       "sub_25    0.015683\n",
       "sub_20    0.015683\n",
       "sub_3     0.024987\n",
       "sub_13    0.024987\n",
       "sub_11    0.029771\n",
       "sub_0     0.029771\n",
       "sub_10    0.034556\n",
       "sub_19    0.049176\n",
       "sub_24    0.060872\n",
       "sub_14    0.089580\n",
       "sub_23    0.103934\n",
       "sub_21    0.147262\n",
       "sub_5     0.164009\n",
       "sub_18    0.166401\n",
       "sub_6     0.240564\n",
       "sub_15    0.371877\n",
       "dtype: float64"
      ]
     },
     "execution_count": 90,
     "metadata": {},
     "output_type": "execute_result"
    }
   ],
   "source": [
    "survivors_rate_diff = (survivors_by_model - 0.3838383838383838).abs().sort_values()\n",
    "survivors_rate_diff"
   ]
  },
  {
   "cell_type": "code",
   "execution_count": 91,
   "metadata": {},
   "outputs": [],
   "source": [
    "merged2 = merged[survivors_by_model[survivors_rate_diff < 0.02].index.values]"
   ]
  },
  {
   "cell_type": "code",
   "execution_count": 92,
   "metadata": {},
   "outputs": [
    {
     "data": {
      "text/plain": [
       "0.3875598086124402"
      ]
     },
     "execution_count": 92,
     "metadata": {},
     "output_type": "execute_result"
    }
   ],
   "source": [
    "# LB: 0.7751, mb averaging alike models is not the best idea\n",
    "(merged2.mean(axis=1) > 0.42).astype(int).mean()"
   ]
  },
  {
   "cell_type": "code",
   "execution_count": 93,
   "metadata": {},
   "outputs": [],
   "source": [
    "df_submit = pd.DataFrame({'PassengerId': passengerIds, 'Survived': (merged2.mean(axis=1) > 0.42).astype(int)})\n",
    "df_submit.to_csv(f'{submissions}/_blend052.csv', index=False)"
   ]
  },
  {
   "cell_type": "code",
   "execution_count": 94,
   "metadata": {},
   "outputs": [],
   "source": [
    "merged3 = merged[survivors_by_model[survivors_rate_diff >= 0.02].index.values]"
   ]
  },
  {
   "cell_type": "code",
   "execution_count": 115,
   "metadata": {},
   "outputs": [
    {
     "data": {
      "text/plain": [
       "0.4019138755980861"
      ]
     },
     "execution_count": 115,
     "metadata": {},
     "output_type": "execute_result"
    }
   ],
   "source": [
    "(merged3.mean(axis=1) > 0.49).astype(int).mean()"
   ]
  },
  {
   "cell_type": "code",
   "execution_count": 116,
   "metadata": {},
   "outputs": [],
   "source": [
    "# LB: 0.7272, I wonder if the above 0.78 is a result of chance and I'm just overfitting to test set\n",
    "df_submit = pd.DataFrame({'PassengerId': passengerIds, 'Survived': (merged3.mean(axis=1) > 0.49).astype(int)})\n",
    "df_submit.to_csv(f'{submissions}/_blend053.csv', index=False)"
   ]
  },
  {
   "cell_type": "code",
   "execution_count": null,
   "metadata": {},
   "outputs": [],
   "source": []
  }
 ],
 "metadata": {
  "kernelspec": {
   "display_name": "Python 3",
   "language": "python",
   "name": "python3"
  },
  "language_info": {
   "codemirror_mode": {
    "name": "ipython",
    "version": 3
   },
   "file_extension": ".py",
   "mimetype": "text/x-python",
   "name": "python",
   "nbconvert_exporter": "python",
   "pygments_lexer": "ipython3",
   "version": "3.7.6"
  }
 },
 "nbformat": 4,
 "nbformat_minor": 2
}
