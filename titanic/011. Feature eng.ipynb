{
 "cells": [
  {
   "cell_type": "code",
   "execution_count": 17,
   "metadata": {},
   "outputs": [],
   "source": [
    "import pandas as pd\n",
    "import numpy as np"
   ]
  },
  {
   "cell_type": "code",
   "execution_count": 18,
   "metadata": {},
   "outputs": [],
   "source": [
    "raw = 'raw'\n",
    "processed = 'processed'\n",
    "features = 'features'\n",
    "!mkdir -p processed features"
   ]
  },
  {
   "cell_type": "code",
   "execution_count": 19,
   "metadata": {},
   "outputs": [],
   "source": [
    "from sklearn.preprocessing import OneHotEncoder\n",
    "\n",
    "df_train = pd.read_csv(f'{raw}/train.csv')\n",
    "df_test = pd.read_csv(f'{raw}/test.csv')\n",
    "\n",
    "df_train['src'] = 'train'\n",
    "df_test['src'] = 'test'\n",
    "union = pd.concat([df_train, df_test], sort=False)"
   ]
  },
  {
   "cell_type": "markdown",
   "metadata": {},
   "source": [
    "# 🧠 Derive features\n",
    "## Sex: dummies"
   ]
  },
  {
   "cell_type": "code",
   "execution_count": 20,
   "metadata": {},
   "outputs": [],
   "source": [
    "field_name = 'Sex'\n",
    "dummies = pd.get_dummies(union['Sex'])\n",
    "colnames = [f'{field_name}_{class_name}' for class_name in dummies.columns]\n",
    "dummies.columns = colnames\n",
    "union[colnames] = dummies[colnames]"
   ]
  },
  {
   "cell_type": "markdown",
   "metadata": {},
   "source": [
    "## Age: na, human ages dummies"
   ]
  },
  {
   "cell_type": "code",
   "execution_count": 21,
   "metadata": {},
   "outputs": [],
   "source": [
    "union['Age_na'] = union['Age'].isnull().astype(int)"
   ]
  },
  {
   "cell_type": "code",
   "execution_count": 22,
   "metadata": {},
   "outputs": [],
   "source": [
    "bin_col = pd.cut(union['Age'], bins=[0, 2, 6, 14, 16, 18, 25, 35, 40, 45, 60, 80])\n",
    "bin_ind = pd.get_dummies(bin_col)\n",
    "bin_ind.columns = [f'Age_is({cat.left}..{cat.right}]' for cat in bin_ind.columns.values]\n",
    "union[bin_ind.columns] = bin_ind"
   ]
  },
  {
   "cell_type": "markdown",
   "metadata": {},
   "source": [
    "## Age: quantiles"
   ]
  },
  {
   "cell_type": "code",
   "execution_count": 23,
   "metadata": {},
   "outputs": [],
   "source": [
    "bin_col = pd.qcut(union['Age'], 10)\n",
    "bin_ind = pd.get_dummies(bin_col)\n",
    "bin_ind.columns = [f'Age_q_is({cat.left}..{cat.right}]' for cat in bin_ind.columns.values]\n",
    "union[bin_ind.columns] = bin_ind"
   ]
  },
  {
   "cell_type": "code",
   "execution_count": 24,
   "metadata": {},
   "outputs": [],
   "source": [
    "union = pd.get_dummies(union, columns=['Pclass'], prefix='Pclass_is')"
   ]
  },
  {
   "cell_type": "code",
   "execution_count": 25,
   "metadata": {},
   "outputs": [
    {
     "data": {
      "text/plain": [
       "Index(['PassengerId', 'Survived', 'Name', 'Sex', 'Age', 'SibSp', 'Parch',\n",
       "       'Ticket', 'Fare', 'Cabin', 'Embarked', 'src', 'Sex_female', 'Sex_male',\n",
       "       'Age_na', 'Age_is(0..2]', 'Age_is(2..6]', 'Age_is(6..14]',\n",
       "       'Age_is(14..16]', 'Age_is(16..18]', 'Age_is(18..25]', 'Age_is(25..35]',\n",
       "       'Age_is(35..40]', 'Age_is(40..45]', 'Age_is(45..60]', 'Age_is(60..80]',\n",
       "       'Age_q_is(0.169..14.0]', 'Age_q_is(14.0..19.0]', 'Age_q_is(19.0..22.0]',\n",
       "       'Age_q_is(22.0..25.0]', 'Age_q_is(25.0..28.0]', 'Age_q_is(28.0..31.0]',\n",
       "       'Age_q_is(31.0..36.0]', 'Age_q_is(36.0..42.0]', 'Age_q_is(42.0..50.0]',\n",
       "       'Age_q_is(50.0..80.0]', 'Pclass_is_1', 'Pclass_is_2', 'Pclass_is_3'],\n",
       "      dtype='object')"
      ]
     },
     "execution_count": 25,
     "metadata": {},
     "output_type": "execute_result"
    }
   ],
   "source": [
    "union.columns"
   ]
  },
  {
   "cell_type": "code",
   "execution_count": 26,
   "metadata": {},
   "outputs": [],
   "source": [
    "df_train = union[union['src'] == 'train']\n",
    "df_test  = union[union['src'] == 'test']"
   ]
  },
  {
   "cell_type": "code",
   "execution_count": 27,
   "metadata": {},
   "outputs": [
    {
     "data": {
      "text/plain": [
       "(891, 418, 1309)"
      ]
     },
     "execution_count": 27,
     "metadata": {},
     "output_type": "execute_result"
    }
   ],
   "source": [
    "len(df_train), len(df_test), len(union)"
   ]
  },
  {
   "cell_type": "code",
   "execution_count": 28,
   "metadata": {},
   "outputs": [],
   "source": [
    "df_train.to_csv(f'{processed}/train.csv', index=False)\n",
    "df_test.to_csv(f'{processed}/test.csv', index=False)"
   ]
  },
  {
   "cell_type": "markdown",
   "metadata": {},
   "source": [
    "# 💾 Output\n",
    "## Age: dummies(quantiles)"
   ]
  },
  {
   "cell_type": "code",
   "execution_count": 29,
   "metadata": {},
   "outputs": [],
   "source": [
    "quantile_age_features = [col_name for col_name in df_train.columns if 'Age_q_is' in col_name]\n",
    "df_train[['PassengerId'] + quantile_age_features].to_csv(f'{features}/age_quantiles_train.csv', index=False)\n",
    "df_test[['PassengerId'] + quantile_age_features].to_csv(f'{features}/age_quantiles_test.csv', index=False)"
   ]
  },
  {
   "cell_type": "markdown",
   "metadata": {},
   "source": [
    "## Age: dummies(human bins)"
   ]
  },
  {
   "cell_type": "code",
   "execution_count": 30,
   "metadata": {},
   "outputs": [],
   "source": [
    "human_age_features = [col_name for col_name in df_train.columns if 'Age_is' in col_name]\n",
    "df_train[['PassengerId'] + human_age_features].to_csv(f'{features}/age_human_train.csv', index=False)\n",
    "df_test[['PassengerId'] + human_age_features].to_csv(f'{features}/age_human_test.csv', index=False)"
   ]
  },
  {
   "cell_type": "markdown",
   "metadata": {},
   "source": [
    "## Pclass: dummies"
   ]
  },
  {
   "cell_type": "code",
   "execution_count": 31,
   "metadata": {},
   "outputs": [],
   "source": [
    "pclass_features = [col_name for col_name in df_train.columns if 'Pclass_is_' in col_name]\n",
    "df_train[['PassengerId'] + pclass_features].to_csv(f'{features}/pclass_dummy_train.csv', index=False)\n",
    "df_test[['PassengerId'] + pclass_features].to_csv(f'{features}/pclass_dummy_test.csv', index=False)"
   ]
  },
  {
   "cell_type": "code",
   "execution_count": 32,
   "metadata": {},
   "outputs": [
    {
     "data": {
      "text/plain": [
       "Index(['PassengerId', 'Survived', 'Name', 'Sex', 'Age', 'SibSp', 'Parch',\n",
       "       'Ticket', 'Fare', 'Cabin', 'Embarked', 'src', 'Sex_female', 'Sex_male',\n",
       "       'Age_na', 'Age_is(0..2]', 'Age_is(2..6]', 'Age_is(6..14]',\n",
       "       'Age_is(14..16]', 'Age_is(16..18]', 'Age_is(18..25]', 'Age_is(25..35]',\n",
       "       'Age_is(35..40]', 'Age_is(40..45]', 'Age_is(45..60]', 'Age_is(60..80]',\n",
       "       'Age_q_is(0.169..14.0]', 'Age_q_is(14.0..19.0]', 'Age_q_is(19.0..22.0]',\n",
       "       'Age_q_is(22.0..25.0]', 'Age_q_is(25.0..28.0]', 'Age_q_is(28.0..31.0]',\n",
       "       'Age_q_is(31.0..36.0]', 'Age_q_is(36.0..42.0]', 'Age_q_is(42.0..50.0]',\n",
       "       'Age_q_is(50.0..80.0]', 'Pclass_is_1', 'Pclass_is_2', 'Pclass_is_3'],\n",
       "      dtype='object')"
      ]
     },
     "execution_count": 32,
     "metadata": {},
     "output_type": "execute_result"
    }
   ],
   "source": [
    "df_train.columns"
   ]
  }
 ],
 "metadata": {
  "kernelspec": {
   "display_name": "Python 3",
   "language": "python",
   "name": "python3"
  },
  "language_info": {
   "codemirror_mode": {
    "name": "ipython",
    "version": 3
   },
   "file_extension": ".py",
   "mimetype": "text/x-python",
   "name": "python",
   "nbconvert_exporter": "python",
   "pygments_lexer": "ipython3",
   "version": "3.7.5"
  }
 },
 "nbformat": 4,
 "nbformat_minor": 2
}
