{
 "cells": [
  {
   "cell_type": "code",
   "execution_count": 40,
   "metadata": {},
   "outputs": [],
   "source": [
    "import pandas as pd\n",
    "import numpy as np"
   ]
  },
  {
   "cell_type": "code",
   "execution_count": 41,
   "metadata": {},
   "outputs": [],
   "source": [
    "raw = 'raw'\n",
    "processed = 'processed'\n",
    "features = 'features'\n",
    "!mkdir -p processed features"
   ]
  },
  {
   "cell_type": "code",
   "execution_count": 42,
   "metadata": {},
   "outputs": [],
   "source": [
    "from sklearn.preprocessing import OneHotEncoder\n",
    "\n",
    "df_train = pd.read_csv(f'{raw}/train.csv')\n",
    "df_test = pd.read_csv(f'{raw}/test.csv')\n",
    "\n",
    "df_train['src'] = 'train'\n",
    "df_test['src'] = 'test'\n",
    "union = pd.concat([df_train, df_test], sort=False)"
   ]
  },
  {
   "cell_type": "markdown",
   "metadata": {},
   "source": [
    "# 🧠 Derive features\n",
    "## Sex: dummies"
   ]
  },
  {
   "cell_type": "code",
   "execution_count": 43,
   "metadata": {},
   "outputs": [],
   "source": [
    "field_name = 'Sex'\n",
    "dummies = pd.get_dummies(union['Sex'])\n",
    "colnames = [f'{field_name}_{class_name}' for class_name in dummies.columns]\n",
    "dummies.columns = colnames\n",
    "union[colnames] = dummies[colnames]"
   ]
  },
  {
   "cell_type": "markdown",
   "metadata": {},
   "source": [
    "## Fare: quantiles"
   ]
  },
  {
   "cell_type": "code",
   "execution_count": 44,
   "metadata": {},
   "outputs": [],
   "source": [
    "union['Fare_is_na'] = union['Fare'].isnull().astype(int)\n",
    "bin_col = pd.qcut(union['Fare'], 10)\n",
    "bin_ind = pd.get_dummies(bin_col)\n",
    "bin_ind.columns = [f'Fare_q_is({cat.left}..{cat.right}]' for cat in bin_ind.columns.values]\n",
    "union[bin_ind.columns] = bin_ind"
   ]
  },
  {
   "cell_type": "markdown",
   "metadata": {},
   "source": [
    "## Age: na, human ages dummies"
   ]
  },
  {
   "cell_type": "code",
   "execution_count": 45,
   "metadata": {},
   "outputs": [],
   "source": [
    "union['Age_na'] = union['Age'].isnull().astype(int)"
   ]
  },
  {
   "cell_type": "code",
   "execution_count": 46,
   "metadata": {},
   "outputs": [],
   "source": [
    "bin_col = pd.cut(union['Age'], bins=[0, 2, 6, 14, 16, 18, 25, 35, 40, 45, 60, 80])\n",
    "bin_ind = pd.get_dummies(bin_col)\n",
    "bin_ind.columns = [f'Age_is({cat.left}..{cat.right}]' for cat in bin_ind.columns.values]\n",
    "union[bin_ind.columns] = bin_ind"
   ]
  },
  {
   "cell_type": "markdown",
   "metadata": {},
   "source": [
    "## Age: quantiles"
   ]
  },
  {
   "cell_type": "code",
   "execution_count": 47,
   "metadata": {},
   "outputs": [],
   "source": [
    "bin_col = pd.qcut(union['Age'], 10)\n",
    "bin_ind = pd.get_dummies(bin_col)\n",
    "bin_ind.columns = [f'Age_q_is({cat.left}..{cat.right}]' for cat in bin_ind.columns.values]\n",
    "union[bin_ind.columns] = bin_ind"
   ]
  },
  {
   "cell_type": "code",
   "execution_count": 48,
   "metadata": {},
   "outputs": [],
   "source": [
    "union = pd.get_dummies(union, columns=['Pclass'], prefix='Pclass_is')"
   ]
  },
  {
   "cell_type": "code",
   "execution_count": 49,
   "metadata": {},
   "outputs": [],
   "source": [
    "## Name: title_ind, survival by title"
   ]
  },
  {
   "cell_type": "code",
   "execution_count": 50,
   "metadata": {},
   "outputs": [
    {
     "name": "stderr",
     "output_type": "stream",
     "text": [
      "/usr/local/lib/python3.7/site-packages/pandas/core/reshape/pivot.py:42: FutureWarning: Sorting because non-concatenation axis is not aligned. A future version\n",
      "of pandas will change to not sort by default.\n",
      "\n",
      "To accept the future behavior, pass 'sort=False'.\n",
      "\n",
      "To retain the current behavior and silence the warning, pass 'sort=True'.\n",
      "\n",
      "  return concat(pieces, keys=keys, axis=1)\n"
     ]
    }
   ],
   "source": [
    "def extract_title(full_name):\n",
    "    first_plus_title = (full_name.split(\",\"))[1]\n",
    "    return (first_plus_title.split())[0]\n",
    "\n",
    "union['Name_title'] = union['Name'].apply(extract_title)\n",
    "union['Name_title'].value_counts()\n",
    "survival_by_title = union.pivot_table(\n",
    "    index='Name_title',\n",
    "    aggfunc=['mean', 'count'],\n",
    "    values='Survived')\\\n",
    ".stack().reset_index().sort_values('count', ascending=False)\n",
    "\n",
    "\n",
    "# titles are either too infrequent to help with more predictions\n",
    "# or don't seem to provide a lot of survival prediction direction vs e.g. Mr.\n",
    "counts = union['Name_title'].value_counts().to_dict();\n",
    "for title, count in counts.items():\n",
    "    if count < 10:\n",
    "        union.loc[union['Name_title'] == title,'Name_title'] = 'Other.'"
   ]
  },
  {
   "cell_type": "code",
   "execution_count": 51,
   "metadata": {},
   "outputs": [
    {
     "data": {
      "text/html": [
       "<div>\n",
       "<style scoped>\n",
       "    .dataframe tbody tr th:only-of-type {\n",
       "        vertical-align: middle;\n",
       "    }\n",
       "\n",
       "    .dataframe tbody tr th {\n",
       "        vertical-align: top;\n",
       "    }\n",
       "\n",
       "    .dataframe thead th {\n",
       "        text-align: right;\n",
       "    }\n",
       "</style>\n",
       "<table border=\"1\" class=\"dataframe\">\n",
       "  <thead>\n",
       "    <tr style=\"text-align: right;\">\n",
       "      <th></th>\n",
       "      <th>Name_title</th>\n",
       "      <th>level_1</th>\n",
       "      <th>mean</th>\n",
       "      <th>count</th>\n",
       "    </tr>\n",
       "  </thead>\n",
       "  <tbody>\n",
       "    <tr>\n",
       "      <th>2</th>\n",
       "      <td>Mr.</td>\n",
       "      <td>Survived</td>\n",
       "      <td>0.156673</td>\n",
       "      <td>517</td>\n",
       "    </tr>\n",
       "    <tr>\n",
       "      <th>1</th>\n",
       "      <td>Miss.</td>\n",
       "      <td>Survived</td>\n",
       "      <td>0.697802</td>\n",
       "      <td>182</td>\n",
       "    </tr>\n",
       "    <tr>\n",
       "      <th>3</th>\n",
       "      <td>Mrs.</td>\n",
       "      <td>Survived</td>\n",
       "      <td>0.792000</td>\n",
       "      <td>125</td>\n",
       "    </tr>\n",
       "    <tr>\n",
       "      <th>0</th>\n",
       "      <td>Master.</td>\n",
       "      <td>Survived</td>\n",
       "      <td>0.575000</td>\n",
       "      <td>40</td>\n",
       "    </tr>\n",
       "    <tr>\n",
       "      <th>4</th>\n",
       "      <td>Other.</td>\n",
       "      <td>Survived</td>\n",
       "      <td>0.444444</td>\n",
       "      <td>27</td>\n",
       "    </tr>\n",
       "  </tbody>\n",
       "</table>\n",
       "</div>"
      ],
      "text/plain": [
       "  Name_title   level_1      mean  count\n",
       "2        Mr.  Survived  0.156673    517\n",
       "1      Miss.  Survived  0.697802    182\n",
       "3       Mrs.  Survived  0.792000    125\n",
       "0    Master.  Survived  0.575000     40\n",
       "4     Other.  Survived  0.444444     27"
      ]
     },
     "execution_count": 51,
     "metadata": {},
     "output_type": "execute_result"
    }
   ],
   "source": [
    "survival_by_title = union.pivot_table(\n",
    "    index='Name_title',\n",
    "    aggfunc=['mean', 'count'],\n",
    "    values='Survived')\\\n",
    ".stack().reset_index().sort_values('count', ascending=False)\n",
    "survival_by_title"
   ]
  },
  {
   "cell_type": "code",
   "execution_count": 52,
   "metadata": {},
   "outputs": [],
   "source": [
    "union['Name_title_survival_odds'] = union.query('src == \"train\"')\\\n",
    "     [['Name_title', 'Survived']]\\\n",
    "     .groupby('Name_title')\\\n",
    "     .transform(lambda series: series.mean())"
   ]
  },
  {
   "cell_type": "code",
   "execution_count": 53,
   "metadata": {},
   "outputs": [],
   "source": [
    "union = pd.get_dummies(union, columns=['Name_title'], prefix='Name_title_is')"
   ]
  },
  {
   "cell_type": "code",
   "execution_count": 54,
   "metadata": {},
   "outputs": [
    {
     "data": {
      "text/plain": [
       "Index(['PassengerId', 'Survived', 'Name', 'Sex', 'Age', 'SibSp', 'Parch',\n",
       "       'Ticket', 'Fare', 'Cabin', 'Embarked', 'src', 'Sex_female', 'Sex_male',\n",
       "       'Fare_is_na', 'Fare_q_is(-0.001..7.568]', 'Fare_q_is(7.568..7.854]',\n",
       "       'Fare_q_is(7.854..8.05]', 'Fare_q_is(8.05..10.5]',\n",
       "       'Fare_q_is(10.5..14.454]', 'Fare_q_is(14.454..21.679]',\n",
       "       'Fare_q_is(21.679..26.955]', 'Fare_q_is(26.955..41.579]',\n",
       "       'Fare_q_is(41.579..78.051]', 'Fare_q_is(78.051..512.329]', 'Age_na',\n",
       "       'Age_is(0..2]', 'Age_is(2..6]', 'Age_is(6..14]', 'Age_is(14..16]',\n",
       "       'Age_is(16..18]', 'Age_is(18..25]', 'Age_is(25..35]', 'Age_is(35..40]',\n",
       "       'Age_is(40..45]', 'Age_is(45..60]', 'Age_is(60..80]',\n",
       "       'Age_q_is(0.169..14.0]', 'Age_q_is(14.0..19.0]', 'Age_q_is(19.0..22.0]',\n",
       "       'Age_q_is(22.0..25.0]', 'Age_q_is(25.0..28.0]', 'Age_q_is(28.0..31.0]',\n",
       "       'Age_q_is(31.0..36.0]', 'Age_q_is(36.0..42.0]', 'Age_q_is(42.0..50.0]',\n",
       "       'Age_q_is(50.0..80.0]', 'Pclass_is_1', 'Pclass_is_2', 'Pclass_is_3',\n",
       "       'Name_title_survival_odds', 'Name_title_is_Master.',\n",
       "       'Name_title_is_Miss.', 'Name_title_is_Mr.', 'Name_title_is_Mrs.',\n",
       "       'Name_title_is_Other.'],\n",
       "      dtype='object')"
      ]
     },
     "execution_count": 54,
     "metadata": {},
     "output_type": "execute_result"
    }
   ],
   "source": [
    "union.columns"
   ]
  },
  {
   "cell_type": "code",
   "execution_count": 55,
   "metadata": {},
   "outputs": [],
   "source": [
    "df_train = union[union['src'] == 'train']\n",
    "df_test  = union[union['src'] == 'test']"
   ]
  },
  {
   "cell_type": "code",
   "execution_count": 56,
   "metadata": {},
   "outputs": [
    {
     "data": {
      "text/plain": [
       "(891, 418, 1309)"
      ]
     },
     "execution_count": 56,
     "metadata": {},
     "output_type": "execute_result"
    }
   ],
   "source": [
    "len(df_train), len(df_test), len(union)"
   ]
  },
  {
   "cell_type": "code",
   "execution_count": 57,
   "metadata": {},
   "outputs": [],
   "source": [
    "df_train.to_csv(f'{processed}/train.csv', index=False)\n",
    "df_test.to_csv(f'{processed}/test.csv', index=False)"
   ]
  },
  {
   "cell_type": "markdown",
   "metadata": {},
   "source": [
    "# 💾 Output\n",
    "## Age: dummies(quantiles)"
   ]
  },
  {
   "cell_type": "code",
   "execution_count": 58,
   "metadata": {},
   "outputs": [],
   "source": [
    "quantile_age_features = [col_name for col_name in df_train.columns if 'Age_q_is' in col_name]\n",
    "df_train[['PassengerId'] + quantile_age_features].to_csv(f'{features}/age_quantiles_train.csv', index=False)\n",
    "df_test[['PassengerId'] + quantile_age_features].to_csv(f'{features}/age_quantiles_test.csv', index=False)"
   ]
  },
  {
   "cell_type": "markdown",
   "metadata": {},
   "source": [
    "## Age: dummies(human bins)"
   ]
  },
  {
   "cell_type": "code",
   "execution_count": 59,
   "metadata": {},
   "outputs": [],
   "source": [
    "human_age_features = [col_name for col_name in df_train.columns if 'Age_is' in col_name]\n",
    "df_train[['PassengerId'] + human_age_features].to_csv(f'{features}/age_human_train.csv', index=False)\n",
    "df_test[['PassengerId'] + human_age_features].to_csv(f'{features}/age_human_test.csv', index=False)"
   ]
  },
  {
   "cell_type": "markdown",
   "metadata": {},
   "source": [
    "## Fare: dummies(quantiles)"
   ]
  },
  {
   "cell_type": "code",
   "execution_count": 60,
   "metadata": {},
   "outputs": [],
   "source": [
    "quantile_fare_features = [col_name for col_name in df_train.columns if 'Fare_q_is' in col_name]\n",
    "df_train[['PassengerId'] + human_age_features].to_csv(f'{features}/fare_quantiles_train.csv', index=False)\n",
    "df_test[['PassengerId'] + human_age_features].to_csv(f'{features}/fare_quantiles_test.csv', index=False)"
   ]
  },
  {
   "cell_type": "markdown",
   "metadata": {},
   "source": [
    "## Pclass: dummies"
   ]
  },
  {
   "cell_type": "code",
   "execution_count": 61,
   "metadata": {},
   "outputs": [],
   "source": [
    "pclass_features = [col_name for col_name in df_train.columns if 'Pclass_is_' in col_name]\n",
    "df_train[['PassengerId'] + pclass_features].to_csv(f'{features}/pclass_dummy_train.csv', index=False)\n",
    "df_test[['PassengerId'] + pclass_features].to_csv(f'{features}/pclass_dummy_test.csv', index=False)"
   ]
  },
  {
   "cell_type": "markdown",
   "metadata": {},
   "source": [
    "## Name"
   ]
  },
  {
   "cell_type": "code",
   "execution_count": 62,
   "metadata": {},
   "outputs": [],
   "source": [
    "name_features = [col_name for col_name in df_train.columns if 'Name_' in col_name]\n",
    "df_train[['PassengerId'] + pclass_features].to_csv(f'{features}/name_features_train.csv', index=False)\n",
    "df_test[['PassengerId'] + pclass_features].to_csv(f'{features}/name_features_test.csv', index=False)"
   ]
  },
  {
   "cell_type": "code",
   "execution_count": 63,
   "metadata": {},
   "outputs": [
    {
     "data": {
      "text/plain": [
       "Index(['PassengerId', 'Survived', 'Name', 'Sex', 'Age', 'SibSp', 'Parch',\n",
       "       'Ticket', 'Fare', 'Cabin', 'Embarked', 'src', 'Sex_female', 'Sex_male',\n",
       "       'Fare_is_na', 'Fare_q_is(-0.001..7.568]', 'Fare_q_is(7.568..7.854]',\n",
       "       'Fare_q_is(7.854..8.05]', 'Fare_q_is(8.05..10.5]',\n",
       "       'Fare_q_is(10.5..14.454]', 'Fare_q_is(14.454..21.679]',\n",
       "       'Fare_q_is(21.679..26.955]', 'Fare_q_is(26.955..41.579]',\n",
       "       'Fare_q_is(41.579..78.051]', 'Fare_q_is(78.051..512.329]', 'Age_na',\n",
       "       'Age_is(0..2]', 'Age_is(2..6]', 'Age_is(6..14]', 'Age_is(14..16]',\n",
       "       'Age_is(16..18]', 'Age_is(18..25]', 'Age_is(25..35]', 'Age_is(35..40]',\n",
       "       'Age_is(40..45]', 'Age_is(45..60]', 'Age_is(60..80]',\n",
       "       'Age_q_is(0.169..14.0]', 'Age_q_is(14.0..19.0]', 'Age_q_is(19.0..22.0]',\n",
       "       'Age_q_is(22.0..25.0]', 'Age_q_is(25.0..28.0]', 'Age_q_is(28.0..31.0]',\n",
       "       'Age_q_is(31.0..36.0]', 'Age_q_is(36.0..42.0]', 'Age_q_is(42.0..50.0]',\n",
       "       'Age_q_is(50.0..80.0]', 'Pclass_is_1', 'Pclass_is_2', 'Pclass_is_3',\n",
       "       'Name_title_survival_odds', 'Name_title_is_Master.',\n",
       "       'Name_title_is_Miss.', 'Name_title_is_Mr.', 'Name_title_is_Mrs.',\n",
       "       'Name_title_is_Other.'],\n",
       "      dtype='object')"
      ]
     },
     "execution_count": 63,
     "metadata": {},
     "output_type": "execute_result"
    }
   ],
   "source": [
    "df_train.columns"
   ]
  }
 ],
 "metadata": {
  "kernelspec": {
   "display_name": "Python 3",
   "language": "python",
   "name": "python3"
  },
  "language_info": {
   "codemirror_mode": {
    "name": "ipython",
    "version": 3
   },
   "file_extension": ".py",
   "mimetype": "text/x-python",
   "name": "python",
   "nbconvert_exporter": "python",
   "pygments_lexer": "ipython3",
   "version": "3.7.5"
  }
 },
 "nbformat": 4,
 "nbformat_minor": 2
}
