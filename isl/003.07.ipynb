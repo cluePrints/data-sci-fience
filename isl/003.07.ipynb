{
 "cells": [
  {
   "cell_type": "code",
   "execution_count": null,
   "metadata": {
    "collapsed": true
   },
   "outputs": [],
   "source": [
    "https://github.com/selva86/datasets"
   ]
  },
  {
   "cell_type": "markdown",
   "metadata": {},
   "source": [
    "# Conceptual\n",
    "## 1. Describe the null hypotheses to which the p-values given in Table 3.4\n",
    "correspond. Explain what conclusions you can draw based on these\n",
    "p-values. Your explanation should be phrased in terms of sales, TV,\n",
    "radio, and newspaper, rather than in terms of the coefficients of the\n",
    "linear model.\n",
    "\n",
    "````\n",
    "            |Coefficient |Std. error| t-statistic| p-value|\n",
    "Intercept     2.939       0.3119       9.42 < 0.0001\n",
    "TV            0.046       0.0014       32.81 < 0.0001\n",
    "radio         0.189       0.0086       21.89 < 0.0001\n",
    "newspaper    −0.001       0.0059       −0.18 0.8599\n",
    "````\n",
    "\n",
    "__Answer__: Null hypothesis is that there is no relationship (they're just independent Gaussian vars) between investing more money and getting more units sold.\n",
    "Investing additional $1k in radio yields 189 units sold on avaerga, similarly 46 units for tv. No significant relationship found for newspapers"
   ]
  },
  {
   "cell_type": "markdown",
   "metadata": {},
   "source": [
    "## 2.Carefully explain the differences between the KNN classifier and KNN regression methods.\n",
    "\n",
    "__Answer__: \n",
    "classifier's output is estimate of which class a data point belongs to(countable), regression is ought to predict a continuous value\n"
   ]
  },
  {
   "cell_type": "markdown",
   "metadata": {},
   "source": [
    "## 3.GPA(b1=20),IQ(b2=0.07),Gender(b3=35),GPA*IQ(b4=0.01),GPA*Gender(b5=-10)\n",
    "b0=50\n",
    "\n",
    "(a) Which answer is correct, and why?\n",
    "\n",
    "````\n",
    "i. For a fixed value of IQ and GPA, males earn more on average\n",
    "than females. --> not enough data, gimme GPA\n",
    "````\n",
    " GPA*-10+35 vs 0\n",
    "````\n",
    "ii. For a fixed value of IQ and GPA, females earn more on\n",
    "average than males. --> yes, gender is positive\n",
    "\n",
    "iii. For a fixed value of IQ and GPA, males earn more on average\n",
    "than females provided that the GPA is high enough. --> yes, GPA*Gender interaction term is negative, so GPA of 4.0 punishes the score compensating for +35 in gender\n",
    "iv. For a fixed value of IQ and GPA, females earn more on\n",
    "average than males provided that the GPA is high enough.--> no\n",
    "````\n",
    "\n",
    "(b) Predict the salary of a female(gender=1) with IQ of 110 and a GPA of 4.0\n",
    "````\n",
    " 50 + 20*4.0 + 0.07*110 + 35*1 + 4.0*110*0.01 + 4.0*1*-10 = 137.1\n",
    "````\n",
    "\n",
    "(c) True or false: Since the coefficient for the GPA/IQ interaction\n",
    "term is very small, there is very little evidence of an interaction\n",
    "effect. Justify your answer.\n",
    "````\n",
    "False. Small coefficient means small influence, although we can have quite a lot of data to draw the trend from. We should looks at P value when answering this question\n",
    "````"
   ]
  },
  {
   "cell_type": "markdown",
   "metadata": {},
   "source": [
    "## 4. I collect a set of data (n = 100 observations) \n",
    "containing a singlepredictor and a quantitative response. I then fit a linear regression\n",
    "model to the data, as well as a separate cubic regression,\n",
    "\n",
    "(a) Suppose that the true relationship between X and Y is linear,\n",
    "i.e. Y = β0 + β1X + eps. Consider the training residual sum of\n",
    "squares (RSS) for the linear regression, and also the training\n",
    "RSS for the cubic regression. Would we expect one to be lower\n",
    "than the other, would we expect them to be the same, or is there\n",
    "not enough information to tell? Justify your answer.\n",
    "````\n",
    "training RSS for cubic will be smaller as more complex model is capable of capturing more variance.\n",
    "````\n",
    "(b) Answer (a) using test rather than training RSS.\n",
    "````\n",
    "here I expect linear model to outperfrom cubic one as the true form is linear, so cubic overfits\n",
    "````\n",
    "(c) Suppose that the true relationship between X and Y is not linear,\n",
    "but we don’t know how far it is from linear. Consider the training\n",
    "RSS for the linear regression, and also the training RSS for the\n",
    "cubic regression. Would we expect one to be lower than the\n",
    "other, would we expect them to be the same, or is there not\n",
    "enough information to tell? Justify your answer.\n",
    "````\n",
    "Similarly to reasoning in (a) I think cubic RSS would be smaller.\n",
    "````\n",
    "(d) Answer (c) using test rather than training RSS.\n",
    "````\n",
    "Not enough information. If the data is essentially cubic or other non-linear then linear reg will work worse than cubic\n",
    "````"
   ]
  },
  {
   "cell_type": "markdown",
   "metadata": {},
   "source": [
    "## 5. TODO Consider the fitted values that result from performing linear regression\n",
    "without an intercept. In this setting, the ith fitted value takes\n",
    "the form\n",
    "<img src=\"img/3_38.png\" alt=\"Drawing\" style=\"width: 200px;\"/>\n",
    "\n",
    "Show that we can write\n",
    "<img src=\"img/135_5.png\" alt=\"Drawing\" style=\"width: 200px;\"/>\n",
    "\n",
    "Note: We interpret this result by saying that the fitted values from\n",
    "linear regression are linear combinations of the response values."
   ]
  },
  {
   "cell_type": "markdown",
   "metadata": {},
   "source": []
  },
  {
   "cell_type": "markdown",
   "metadata": {},
   "source": [
    "\n",
    "## 6. TODO Using (3.4), argue that in the case of simple linear regression, the\n",
    "least squares line always passes through the point (¯x, ¯y).\n",
    "<img src=\"img/3_4.png\" alt=\"Drawing\" style=\"width: 400px;\"/>\n",
    "\n",
    "## 7. TODO It is claimed in the text that in the case of simple linear regression\n",
    "of Y onto X, the R2 statistic (3.17) is equal to the square of the\n",
    "correlation between X and Y (3.18). Prove that this is the case. For\n",
    "simplicity, you may assume that ¯x = ¯y = 0.\n",
    "<img src=\"img/3_18.png\" alt=\"Drawing\" style=\"width: 400px;\"/>"
   ]
  },
  {
   "cell_type": "code",
   "execution_count": null,
   "metadata": {
    "collapsed": true
   },
   "outputs": [],
   "source": []
  },
  {
   "cell_type": "markdown",
   "metadata": {},
   "source": [
    "# Applied"
   ]
  },
  {
   "cell_type": "code",
   "execution_count": 57,
   "metadata": {
    "collapsed": true
   },
   "outputs": [],
   "source": [
    "import matplotlib\n",
    "import numpy as np\n",
    "import matplotlib.pyplot as plt\n",
    "%matplotlib inline  \n",
    "import pandas as pd\n",
    "import numpy as np"
   ]
  },
  {
   "cell_type": "code",
   "execution_count": 27,
   "metadata": {
    "collapsed": false
   },
   "outputs": [],
   "source": [
    "auto = pd.read_csv(\"auto.csv\", na_values='?')"
   ]
  },
  {
   "cell_type": "code",
   "execution_count": 28,
   "metadata": {
    "collapsed": false
   },
   "outputs": [
    {
     "data": {
      "text/html": [
       "<div>\n",
       "<table border=\"1\" class=\"dataframe\">\n",
       "  <thead>\n",
       "    <tr style=\"text-align: right;\">\n",
       "      <th></th>\n",
       "      <th>mpg</th>\n",
       "      <th>cylinders</th>\n",
       "      <th>displacement</th>\n",
       "      <th>horsepower</th>\n",
       "      <th>weight</th>\n",
       "      <th>acceleration</th>\n",
       "      <th>year</th>\n",
       "      <th>origin</th>\n",
       "      <th>name</th>\n",
       "    </tr>\n",
       "  </thead>\n",
       "  <tbody>\n",
       "    <tr>\n",
       "      <th>0</th>\n",
       "      <td>18.0</td>\n",
       "      <td>8</td>\n",
       "      <td>307.0</td>\n",
       "      <td>130.0</td>\n",
       "      <td>3504</td>\n",
       "      <td>12.0</td>\n",
       "      <td>70</td>\n",
       "      <td>1</td>\n",
       "      <td>chevrolet chevelle malibu</td>\n",
       "    </tr>\n",
       "  </tbody>\n",
       "</table>\n",
       "</div>"
      ],
      "text/plain": [
       "    mpg  cylinders  displacement  horsepower  weight  acceleration  year  \\\n",
       "0  18.0          8         307.0       130.0    3504          12.0    70   \n",
       "\n",
       "   origin                       name  \n",
       "0       1  chevrolet chevelle malibu  "
      ]
     },
     "execution_count": 28,
     "metadata": {},
     "output_type": "execute_result"
    }
   ],
   "source": [
    "auto.head(1)"
   ]
  },
  {
   "cell_type": "code",
   "execution_count": 35,
   "metadata": {
    "collapsed": false
   },
   "outputs": [],
   "source": [
    "auto = auto.dropna(how='any')"
   ]
  },
  {
   "cell_type": "code",
   "execution_count": 36,
   "metadata": {
    "collapsed": false
   },
   "outputs": [
    {
     "data": {
      "text/plain": [
       "LinearRegression(copy_X=True, fit_intercept=True, n_jobs=1, normalize=False)"
      ]
     },
     "execution_count": 36,
     "metadata": {},
     "output_type": "execute_result"
    }
   ],
   "source": [
    "from sklearn.linear_model import LinearRegression\n",
    "model = LinearRegression()\n",
    "model.fit(auto[['horsepower']], auto['mpg'])"
   ]
  },
  {
   "cell_type": "code",
   "execution_count": 39,
   "metadata": {
    "collapsed": false
   },
   "outputs": [
    {
     "data": {
      "text/plain": [
       "(39.935861021170474, array([-0.15784473]))"
      ]
     },
     "execution_count": 39,
     "metadata": {},
     "output_type": "execute_result"
    }
   ],
   "source": [
    "(model.intercept_, model.coef_)"
   ]
  },
  {
   "cell_type": "code",
   "execution_count": 40,
   "metadata": {
    "collapsed": true
   },
   "outputs": [],
   "source": [
    "from sklearn.feature_selection import f_regression"
   ]
  },
  {
   "cell_type": "code",
   "execution_count": 44,
   "metadata": {
    "collapsed": false
   },
   "outputs": [
    {
     "data": {
      "text/plain": [
       "(array([ 599.7177409]), array([  7.03198903e-81]))"
      ]
     },
     "execution_count": 44,
     "metadata": {},
     "output_type": "execute_result"
    }
   ],
   "source": [
    "F, pval = f_regression(auto[['horsepower']], auto['mpg'])\n",
    "(F, pval)"
   ]
  },
  {
   "cell_type": "code",
   "execution_count": 48,
   "metadata": {
    "collapsed": false
   },
   "outputs": [
    {
     "data": {
      "text/html": [
       "<table class=\"simpletable\">\n",
       "<caption>OLS Regression Results</caption>\n",
       "<tr>\n",
       "  <th>Dep. Variable:</th>           <td>mpg</td>       <th>  R-squared:         </th> <td>   0.606</td>\n",
       "</tr>\n",
       "<tr>\n",
       "  <th>Model:</th>                   <td>OLS</td>       <th>  Adj. R-squared:    </th> <td>   0.605</td>\n",
       "</tr>\n",
       "<tr>\n",
       "  <th>Method:</th>             <td>Least Squares</td>  <th>  F-statistic:       </th> <td>   599.7</td>\n",
       "</tr>\n",
       "<tr>\n",
       "  <th>Date:</th>             <td>Sat, 23 Apr 2016</td> <th>  Prob (F-statistic):</th> <td>7.03e-81</td>\n",
       "</tr>\n",
       "<tr>\n",
       "  <th>Time:</th>                 <td>15:22:20</td>     <th>  Log-Likelihood:    </th> <td> -1178.7</td>\n",
       "</tr>\n",
       "<tr>\n",
       "  <th>No. Observations:</th>      <td>   392</td>      <th>  AIC:               </th> <td>   2361.</td>\n",
       "</tr>\n",
       "<tr>\n",
       "  <th>Df Residuals:</th>          <td>   390</td>      <th>  BIC:               </th> <td>   2369.</td>\n",
       "</tr>\n",
       "<tr>\n",
       "  <th>Df Model:</th>              <td>     1</td>      <th>                     </th>     <td> </td>   \n",
       "</tr>\n",
       "</table>\n",
       "<table class=\"simpletable\">\n",
       "<tr>\n",
       "       <td></td>         <th>coef</th>     <th>std err</th>      <th>t</th>      <th>P>|t|</th> <th>[95.0% Conf. Int.]</th> \n",
       "</tr>\n",
       "<tr>\n",
       "  <th>Intercept</th>  <td>   39.9359</td> <td>    0.717</td> <td>   55.660</td> <td> 0.000</td> <td>   38.525    41.347</td>\n",
       "</tr>\n",
       "<tr>\n",
       "  <th>horsepower</th> <td>   -0.1578</td> <td>    0.006</td> <td>  -24.489</td> <td> 0.000</td> <td>   -0.171    -0.145</td>\n",
       "</tr>\n",
       "</table>\n",
       "<table class=\"simpletable\">\n",
       "<tr>\n",
       "  <th>Omnibus:</th>       <td>16.432</td> <th>  Durbin-Watson:     </th> <td>   0.920</td>\n",
       "</tr>\n",
       "<tr>\n",
       "  <th>Prob(Omnibus):</th> <td> 0.000</td> <th>  Jarque-Bera (JB):  </th> <td>  17.305</td>\n",
       "</tr>\n",
       "<tr>\n",
       "  <th>Skew:</th>          <td> 0.492</td> <th>  Prob(JB):          </th> <td>0.000175</td>\n",
       "</tr>\n",
       "<tr>\n",
       "  <th>Kurtosis:</th>      <td> 3.299</td> <th>  Cond. No.          </th> <td>    322.</td>\n",
       "</tr>\n",
       "</table>"
      ],
      "text/plain": [
       "<class 'statsmodels.iolib.summary.Summary'>\n",
       "\"\"\"\n",
       "                            OLS Regression Results                            \n",
       "==============================================================================\n",
       "Dep. Variable:                    mpg   R-squared:                       0.606\n",
       "Model:                            OLS   Adj. R-squared:                  0.605\n",
       "Method:                 Least Squares   F-statistic:                     599.7\n",
       "Date:                Sat, 23 Apr 2016   Prob (F-statistic):           7.03e-81\n",
       "Time:                        15:22:20   Log-Likelihood:                -1178.7\n",
       "No. Observations:                 392   AIC:                             2361.\n",
       "Df Residuals:                     390   BIC:                             2369.\n",
       "Df Model:                           1                                         \n",
       "==============================================================================\n",
       "                 coef    std err          t      P>|t|      [95.0% Conf. Int.]\n",
       "------------------------------------------------------------------------------\n",
       "Intercept     39.9359      0.717     55.660      0.000        38.525    41.347\n",
       "horsepower    -0.1578      0.006    -24.489      0.000        -0.171    -0.145\n",
       "==============================================================================\n",
       "Omnibus:                       16.432   Durbin-Watson:                   0.920\n",
       "Prob(Omnibus):                  0.000   Jarque-Bera (JB):               17.305\n",
       "Skew:                           0.492   Prob(JB):                     0.000175\n",
       "Kurtosis:                       3.299   Cond. No.                         322.\n",
       "==============================================================================\n",
       "\"\"\""
      ]
     },
     "execution_count": 48,
     "metadata": {},
     "output_type": "execute_result"
    }
   ],
   "source": [
    "from statsmodels.formula.api import ols\n",
    "model = ols(\"mpg ~ horsepower\", auto).fit()\n",
    "model.summary()"
   ]
  },
  {
   "cell_type": "markdown",
   "metadata": {},
   "source": [
    "i. Is there a relationship between the predictor and the response?\n",
    "````\n",
    "Yes\n",
    "````\n",
    "ii. How strong is the relationship between the predictor and\n",
    "the response?\n",
    "````\n",
    "it's negative linear with 15% slope\n",
    "````\n",
    "iii. Is the relationship between the predictor and the response\n",
    "positive or negative?\n",
    "````\n",
    "negative\n",
    "````\n",
    "iv. What is the predicted mpg associated with a horsepower of\n",
    "98? What are the associated 95% confidence and prediction\n",
    "intervals?\n",
    "````\n",
    "Conf: [-0.171, -0.145]\n",
    "Predcit: ?\n",
    "````"
   ]
  },
  {
   "cell_type": "markdown",
   "metadata": {},
   "source": [
    "(b) Plot the response and the predictor. Use the abline() function\n",
    "to display the least squares regression line."
   ]
  },
  {
   "cell_type": "code",
   "execution_count": 77,
   "metadata": {
    "collapsed": false
   },
   "outputs": [
    {
     "data": {
      "text/plain": [
       "[<matplotlib.lines.Line2D at 0x10e6d4f10>]"
      ]
     },
     "execution_count": 77,
     "metadata": {},
     "output_type": "execute_result"
    },
    {
     "data": {
      "image/png": "[encoded data removed]",
      "text/plain": [
       "<matplotlib.figure.Figure at 0x10e6d4f90>"
      ]
     },
     "metadata": {},
     "output_type": "display_data"
    }
   ],
   "source": [
    "b0 = 39.9359\n",
    "b1 = -0.1578\n",
    "min_x = 0\n",
    "max_x = 250\n",
    "plt.plot(auto['horsepower'], auto['mpg'], \"o\",)\n",
    "plt.plot([min_x,max_x],[b0+b1*min_x,b0+b1*max_x],\"-\")"
   ]
  },
  {
   "cell_type": "markdown",
   "metadata": {},
   "source": [
    "(c) Use the plot() function to produce diagnostic plots of the least\n",
    "squares regression fit. Comment on any problems you see with\n",
    "the fit."
   ]
  },
  {
   "cell_type": "code",
   "execution_count": 78,
   "metadata": {
    "collapsed": false
   },
   "outputs": [
    {
     "data": {
      "text/plain": [
       "array([[ 0.00406224, -0.0097067 ],\n",
       "       [-0.01302365,  0.01810949],\n",
       "       [-0.01380177,  0.02133499],\n",
       "       [ 0.00205427, -0.00317552],\n",
       "       [ 0.00451784, -0.00799836]])"
      ]
     },
     "execution_count": 78,
     "metadata": {},
     "output_type": "execute_result"
    }
   ],
   "source": [
    "from statsmodels.stats.outliers_influence import OLSInfluence\n",
    "test_class = OLSInfluence(model)\n",
    "test_class.dfbetas[:5,:]"
   ]
  },
  {
   "cell_type": "code",
   "execution_count": 79,
   "metadata": {
    "collapsed": false
   },
   "outputs": [
    {
     "data": {
      "image/png": "[encoded data removed]",
      "text/plain": [
       "<matplotlib.figure.Figure at 0x10fb31a50>"
      ]
     },
     "metadata": {},
     "output_type": "display_data"
    }
   ],
   "source": [
    "from statsmodels.graphics.regressionplots import plot_leverage_resid2\n",
    "fig, ax = plt.subplots(figsize=(8,6))\n",
    "fig = plot_leverage_resid2(model, ax = ax)"
   ]
  },
  {
   "cell_type": "markdown",
   "metadata": {},
   "source": [
    "![title](img/R_plot.png)"
   ]
  },
  {
   "cell_type": "markdown",
   "metadata": {},
   "source": [
    "# 9. This question involves the use of multiple linear regression on the Auto data set."
   ]
  },
  {
   "cell_type": "code",
   "execution_count": 83,
   "metadata": {
    "collapsed": false
   },
   "outputs": [
    {
     "data": {
      "image/png": "[encoded data removed]",
      "text/plain": [
       "<matplotlib.figure.Figure at 0x115db4ed0>"
      ]
     },
     "metadata": {},
     "output_type": "display_data"
    }
   ],
   "source": [
    "axes = pd.tools.plotting.scatter_matrix(auto, alpha=0.2)\n",
    "fig = plt.gcf()\n",
    "fig.set_size_inches(15, 15)"
   ]
  },
  {
   "cell_type": "code",
   "execution_count": 85,
   "metadata": {
    "collapsed": false
   },
   "outputs": [
    {
     "data": {
      "text/html": [
       "<div>\n",
       "<table border=\"1\" class=\"dataframe\">\n",
       "  <thead>\n",
       "    <tr style=\"text-align: right;\">\n",
       "      <th></th>\n",
       "      <th>mpg</th>\n",
       "      <th>cylinders</th>\n",
       "      <th>displacement</th>\n",
       "      <th>horsepower</th>\n",
       "      <th>weight</th>\n",
       "      <th>acceleration</th>\n",
       "      <th>year</th>\n",
       "      <th>origin</th>\n",
       "    </tr>\n",
       "  </thead>\n",
       "  <tbody>\n",
       "    <tr>\n",
       "      <th>mpg</th>\n",
       "      <td>1.000000</td>\n",
       "      <td>-0.777618</td>\n",
       "      <td>-0.805127</td>\n",
       "      <td>-0.778427</td>\n",
       "      <td>-0.832244</td>\n",
       "      <td>0.423329</td>\n",
       "      <td>0.580541</td>\n",
       "      <td>0.565209</td>\n",
       "    </tr>\n",
       "    <tr>\n",
       "      <th>cylinders</th>\n",
       "      <td>-0.777618</td>\n",
       "      <td>1.000000</td>\n",
       "      <td>0.950823</td>\n",
       "      <td>0.842983</td>\n",
       "      <td>0.897527</td>\n",
       "      <td>-0.504683</td>\n",
       "      <td>-0.345647</td>\n",
       "      <td>-0.568932</td>\n",
       "    </tr>\n",
       "    <tr>\n",
       "      <th>displacement</th>\n",
       "      <td>-0.805127</td>\n",
       "      <td>0.950823</td>\n",
       "      <td>1.000000</td>\n",
       "      <td>0.897257</td>\n",
       "      <td>0.932994</td>\n",
       "      <td>-0.543800</td>\n",
       "      <td>-0.369855</td>\n",
       "      <td>-0.614535</td>\n",
       "    </tr>\n",
       "    <tr>\n",
       "      <th>horsepower</th>\n",
       "      <td>-0.778427</td>\n",
       "      <td>0.842983</td>\n",
       "      <td>0.897257</td>\n",
       "      <td>1.000000</td>\n",
       "      <td>0.864538</td>\n",
       "      <td>-0.689196</td>\n",
       "      <td>-0.416361</td>\n",
       "      <td>-0.455171</td>\n",
       "    </tr>\n",
       "    <tr>\n",
       "      <th>weight</th>\n",
       "      <td>-0.832244</td>\n",
       "      <td>0.897527</td>\n",
       "      <td>0.932994</td>\n",
       "      <td>0.864538</td>\n",
       "      <td>1.000000</td>\n",
       "      <td>-0.416839</td>\n",
       "      <td>-0.309120</td>\n",
       "      <td>-0.585005</td>\n",
       "    </tr>\n",
       "    <tr>\n",
       "      <th>acceleration</th>\n",
       "      <td>0.423329</td>\n",
       "      <td>-0.504683</td>\n",
       "      <td>-0.543800</td>\n",
       "      <td>-0.689196</td>\n",
       "      <td>-0.416839</td>\n",
       "      <td>1.000000</td>\n",
       "      <td>0.290316</td>\n",
       "      <td>0.212746</td>\n",
       "    </tr>\n",
       "    <tr>\n",
       "      <th>year</th>\n",
       "      <td>0.580541</td>\n",
       "      <td>-0.345647</td>\n",
       "      <td>-0.369855</td>\n",
       "      <td>-0.416361</td>\n",
       "      <td>-0.309120</td>\n",
       "      <td>0.290316</td>\n",
       "      <td>1.000000</td>\n",
       "      <td>0.181528</td>\n",
       "    </tr>\n",
       "    <tr>\n",
       "      <th>origin</th>\n",
       "      <td>0.565209</td>\n",
       "      <td>-0.568932</td>\n",
       "      <td>-0.614535</td>\n",
       "      <td>-0.455171</td>\n",
       "      <td>-0.585005</td>\n",
       "      <td>0.212746</td>\n",
       "      <td>0.181528</td>\n",
       "      <td>1.000000</td>\n",
       "    </tr>\n",
       "  </tbody>\n",
       "</table>\n",
       "</div>"
      ],
      "text/plain": [
       "                   mpg  cylinders  displacement  horsepower    weight  \\\n",
       "mpg           1.000000  -0.777618     -0.805127   -0.778427 -0.832244   \n",
       "cylinders    -0.777618   1.000000      0.950823    0.842983  0.897527   \n",
       "displacement -0.805127   0.950823      1.000000    0.897257  0.932994   \n",
       "horsepower   -0.778427   0.842983      0.897257    1.000000  0.864538   \n",
       "weight       -0.832244   0.897527      0.932994    0.864538  1.000000   \n",
       "acceleration  0.423329  -0.504683     -0.543800   -0.689196 -0.416839   \n",
       "year          0.580541  -0.345647     -0.369855   -0.416361 -0.309120   \n",
       "origin        0.565209  -0.568932     -0.614535   -0.455171 -0.585005   \n",
       "\n",
       "              acceleration      year    origin  \n",
       "mpg               0.423329  0.580541  0.565209  \n",
       "cylinders        -0.504683 -0.345647 -0.568932  \n",
       "displacement     -0.543800 -0.369855 -0.614535  \n",
       "horsepower       -0.689196 -0.416361 -0.455171  \n",
       "weight           -0.416839 -0.309120 -0.585005  \n",
       "acceleration      1.000000  0.290316  0.212746  \n",
       "year              0.290316  1.000000  0.181528  \n",
       "origin            0.212746  0.181528  1.000000  "
      ]
     },
     "execution_count": 85,
     "metadata": {},
     "output_type": "execute_result"
    }
   ],
   "source": [
    "auto.corr()"
   ]
  },
  {
   "cell_type": "code",
   "execution_count": 88,
   "metadata": {
    "collapsed": false
   },
   "outputs": [
    {
     "data": {
      "text/html": [
       "<table class=\"simpletable\">\n",
       "<caption>OLS Regression Results</caption>\n",
       "<tr>\n",
       "  <th>Dep. Variable:</th>           <td>mpg</td>       <th>  R-squared:         </th> <td>   0.821</td> \n",
       "</tr>\n",
       "<tr>\n",
       "  <th>Model:</th>                   <td>OLS</td>       <th>  Adj. R-squared:    </th> <td>   0.818</td> \n",
       "</tr>\n",
       "<tr>\n",
       "  <th>Method:</th>             <td>Least Squares</td>  <th>  F-statistic:       </th> <td>   252.4</td> \n",
       "</tr>\n",
       "<tr>\n",
       "  <th>Date:</th>             <td>Sat, 23 Apr 2016</td> <th>  Prob (F-statistic):</th> <td>2.04e-139</td>\n",
       "</tr>\n",
       "<tr>\n",
       "  <th>Time:</th>                 <td>16:08:00</td>     <th>  Log-Likelihood:    </th> <td> -1023.5</td> \n",
       "</tr>\n",
       "<tr>\n",
       "  <th>No. Observations:</th>      <td>   392</td>      <th>  AIC:               </th> <td>   2063.</td> \n",
       "</tr>\n",
       "<tr>\n",
       "  <th>Df Residuals:</th>          <td>   384</td>      <th>  BIC:               </th> <td>   2095.</td> \n",
       "</tr>\n",
       "<tr>\n",
       "  <th>Df Model:</th>              <td>     7</td>      <th>                     </th>     <td> </td>    \n",
       "</tr>\n",
       "</table>\n",
       "<table class=\"simpletable\">\n",
       "<tr>\n",
       "        <td></td>          <th>coef</th>     <th>std err</th>      <th>t</th>      <th>P>|t|</th> <th>[95.0% Conf. Int.]</th> \n",
       "</tr>\n",
       "<tr>\n",
       "  <th>Intercept</th>    <td>  -17.2184</td> <td>    4.644</td> <td>   -3.707</td> <td> 0.000</td> <td>  -26.350    -8.087</td>\n",
       "</tr>\n",
       "<tr>\n",
       "  <th>cylinders</th>    <td>   -0.4934</td> <td>    0.323</td> <td>   -1.526</td> <td> 0.128</td> <td>   -1.129     0.142</td>\n",
       "</tr>\n",
       "<tr>\n",
       "  <th>displacement</th> <td>    0.0199</td> <td>    0.008</td> <td>    2.647</td> <td> 0.008</td> <td>    0.005     0.035</td>\n",
       "</tr>\n",
       "<tr>\n",
       "  <th>horsepower</th>   <td>   -0.0170</td> <td>    0.014</td> <td>   -1.230</td> <td> 0.220</td> <td>   -0.044     0.010</td>\n",
       "</tr>\n",
       "<tr>\n",
       "  <th>weight</th>       <td>   -0.0065</td> <td>    0.001</td> <td>   -9.929</td> <td> 0.000</td> <td>   -0.008    -0.005</td>\n",
       "</tr>\n",
       "<tr>\n",
       "  <th>acceleration</th> <td>    0.0806</td> <td>    0.099</td> <td>    0.815</td> <td> 0.415</td> <td>   -0.114     0.275</td>\n",
       "</tr>\n",
       "<tr>\n",
       "  <th>year</th>         <td>    0.7508</td> <td>    0.051</td> <td>   14.729</td> <td> 0.000</td> <td>    0.651     0.851</td>\n",
       "</tr>\n",
       "<tr>\n",
       "  <th>origin</th>       <td>    1.4261</td> <td>    0.278</td> <td>    5.127</td> <td> 0.000</td> <td>    0.879     1.973</td>\n",
       "</tr>\n",
       "</table>\n",
       "<table class=\"simpletable\">\n",
       "<tr>\n",
       "  <th>Omnibus:</th>       <td>31.906</td> <th>  Durbin-Watson:     </th> <td>   1.309</td>\n",
       "</tr>\n",
       "<tr>\n",
       "  <th>Prob(Omnibus):</th> <td> 0.000</td> <th>  Jarque-Bera (JB):  </th> <td>  53.100</td>\n",
       "</tr>\n",
       "<tr>\n",
       "  <th>Skew:</th>          <td> 0.529</td> <th>  Prob(JB):          </th> <td>2.95e-12</td>\n",
       "</tr>\n",
       "<tr>\n",
       "  <th>Kurtosis:</th>      <td> 4.460</td> <th>  Cond. No.          </th> <td>8.59e+04</td>\n",
       "</tr>\n",
       "</table>"
      ],
      "text/plain": [
       "<class 'statsmodels.iolib.summary.Summary'>\n",
       "\"\"\"\n",
       "                            OLS Regression Results                            \n",
       "==============================================================================\n",
       "Dep. Variable:                    mpg   R-squared:                       0.821\n",
       "Model:                            OLS   Adj. R-squared:                  0.818\n",
       "Method:                 Least Squares   F-statistic:                     252.4\n",
       "Date:                Sat, 23 Apr 2016   Prob (F-statistic):          2.04e-139\n",
       "Time:                        16:08:00   Log-Likelihood:                -1023.5\n",
       "No. Observations:                 392   AIC:                             2063.\n",
       "Df Residuals:                     384   BIC:                             2095.\n",
       "Df Model:                           7                                         \n",
       "================================================================================\n",
       "                   coef    std err          t      P>|t|      [95.0% Conf. Int.]\n",
       "--------------------------------------------------------------------------------\n",
       "Intercept      -17.2184      4.644     -3.707      0.000       -26.350    -8.087\n",
       "cylinders       -0.4934      0.323     -1.526      0.128        -1.129     0.142\n",
       "displacement     0.0199      0.008      2.647      0.008         0.005     0.035\n",
       "horsepower      -0.0170      0.014     -1.230      0.220        -0.044     0.010\n",
       "weight          -0.0065      0.001     -9.929      0.000        -0.008    -0.005\n",
       "acceleration     0.0806      0.099      0.815      0.415        -0.114     0.275\n",
       "year             0.7508      0.051     14.729      0.000         0.651     0.851\n",
       "origin           1.4261      0.278      5.127      0.000         0.879     1.973\n",
       "==============================================================================\n",
       "Omnibus:                       31.906   Durbin-Watson:                   1.309\n",
       "Prob(Omnibus):                  0.000   Jarque-Bera (JB):               53.100\n",
       "Skew:                           0.529   Prob(JB):                     2.95e-12\n",
       "Kurtosis:                       4.460   Cond. No.                     8.59e+04\n",
       "==============================================================================\n",
       "\n",
       "Warnings:\n",
       "[1] The condition number is large, 8.59e+04. This might indicate that there are\n",
       "strong multicollinearity or other numerical problems.\n",
       "\"\"\""
      ]
     },
     "execution_count": 88,
     "metadata": {},
     "output_type": "execute_result"
    }
   ],
   "source": [
    "model = ols(\"mpg ~ cylinders + displacement + horsepower + weight + acceleration + year + origin\", auto).fit()\n",
    "model.summary()"
   ]
  },
  {
   "cell_type": "markdown",
   "metadata": {},
   "source": [
    "i. Is there a relationship between the predictors and the response?\n",
    "````\n",
    "yeah\n",
    "````\n",
    "ii. Which predictors appear to have a statistically significant\n",
    "relationship to the response?\n",
    "````\n",
    "weight, year, oriign and displacement\n",
    "````\n",
    "iii. What does the coefficient for the year variable suggest?\n",
    "````\n",
    "0.75\n",
    "````"
   ]
  },
  {
   "cell_type": "code",
   "execution_count": 89,
   "metadata": {
    "collapsed": false
   },
   "outputs": [
    {
     "data": {
      "image/png": "[encoded data removed]",
      "text/plain": [
       "<matplotlib.figure.Figure at 0x11745fd50>"
      ]
     },
     "metadata": {},
     "output_type": "display_data"
    }
   ],
   "source": [
    "fig, ax = plt.subplots(figsize=(8,6))\n",
    "fig = plot_leverage_resid2(model, ax = ax)"
   ]
  },
  {
   "cell_type": "markdown",
   "metadata": {},
   "source": [
    "(d) Use the plot() function to produce diagnostic plots of the linear\n",
    "regression fit. Comment on any problems you see with the fit.\n",
    "Do the residual plots suggest any unusually large outliers? Does\n",
    "the leverage plot identify any observations with unusually high\n",
    "leverage?\n",
    "````\n",
    "13th is an outlier\n",
    "````"
   ]
  },
  {
   "cell_type": "code",
   "execution_count": 92,
   "metadata": {
    "collapsed": false
   },
   "outputs": [
    {
     "data": {
      "text/html": [
       "<table class=\"simpletable\">\n",
       "<caption>OLS Regression Results</caption>\n",
       "<tr>\n",
       "  <th>Dep. Variable:</th>           <td>mpg</td>       <th>  R-squared:         </th> <td>   0.863</td> \n",
       "</tr>\n",
       "<tr>\n",
       "  <th>Model:</th>                   <td>OLS</td>       <th>  Adj. R-squared:    </th> <td>   0.860</td> \n",
       "</tr>\n",
       "<tr>\n",
       "  <th>Method:</th>             <td>Least Squares</td>  <th>  F-statistic:       </th> <td>   267.4</td> \n",
       "</tr>\n",
       "<tr>\n",
       "  <th>Date:</th>             <td>Sat, 23 Apr 2016</td> <th>  Prob (F-statistic):</th> <td>6.52e-159</td>\n",
       "</tr>\n",
       "<tr>\n",
       "  <th>Time:</th>                 <td>16:12:16</td>     <th>  Log-Likelihood:    </th> <td> -971.56</td> \n",
       "</tr>\n",
       "<tr>\n",
       "  <th>No. Observations:</th>      <td>   392</td>      <th>  AIC:               </th> <td>   1963.</td> \n",
       "</tr>\n",
       "<tr>\n",
       "  <th>Df Residuals:</th>          <td>   382</td>      <th>  BIC:               </th> <td>   2003.</td> \n",
       "</tr>\n",
       "<tr>\n",
       "  <th>Df Model:</th>              <td>     9</td>      <th>                     </th>     <td> </td>    \n",
       "</tr>\n",
       "</table>\n",
       "<table class=\"simpletable\">\n",
       "<tr>\n",
       "             <td></td>               <th>coef</th>     <th>std err</th>      <th>t</th>      <th>P>|t|</th> <th>[95.0% Conf. Int.]</th> \n",
       "</tr>\n",
       "<tr>\n",
       "  <th>Intercept</th>              <td>    4.0528</td> <td>    4.544</td> <td>    0.892</td> <td> 0.373</td> <td>   -4.881    12.986</td>\n",
       "</tr>\n",
       "<tr>\n",
       "  <th>cylinders</th>              <td>   -0.7357</td> <td>    0.483</td> <td>   -1.522</td> <td> 0.129</td> <td>   -1.686     0.215</td>\n",
       "</tr>\n",
       "<tr>\n",
       "  <th>displacement</th>           <td>   -0.0201</td> <td>    0.016</td> <td>   -1.269</td> <td> 0.205</td> <td>   -0.051     0.011</td>\n",
       "</tr>\n",
       "<tr>\n",
       "  <th>cylinders:displacement</th> <td>    0.0039</td> <td>    0.002</td> <td>    1.816</td> <td> 0.070</td> <td>   -0.000     0.008</td>\n",
       "</tr>\n",
       "<tr>\n",
       "  <th>horsepower</th>             <td>   -0.2080</td> <td>    0.027</td> <td>   -7.754</td> <td> 0.000</td> <td>   -0.261    -0.155</td>\n",
       "</tr>\n",
       "<tr>\n",
       "  <th>weight</th>                 <td>   -0.0101</td> <td>    0.001</td> <td>  -10.849</td> <td> 0.000</td> <td>   -0.012    -0.008</td>\n",
       "</tr>\n",
       "<tr>\n",
       "  <th>horsepower:weight</th>      <td> 4.699e-05</td> <td> 6.93e-06</td> <td>    6.781</td> <td> 0.000</td> <td> 3.34e-05  6.06e-05</td>\n",
       "</tr>\n",
       "<tr>\n",
       "  <th>acceleration</th>           <td>   -0.0706</td> <td>    0.089</td> <td>   -0.793</td> <td> 0.428</td> <td>   -0.245     0.104</td>\n",
       "</tr>\n",
       "<tr>\n",
       "  <th>year</th>                   <td>    0.7692</td> <td>    0.045</td> <td>   17.168</td> <td> 0.000</td> <td>    0.681     0.857</td>\n",
       "</tr>\n",
       "<tr>\n",
       "  <th>origin</th>                 <td>    0.7159</td> <td>    0.259</td> <td>    2.765</td> <td> 0.006</td> <td>    0.207     1.225</td>\n",
       "</tr>\n",
       "</table>\n",
       "<table class=\"simpletable\">\n",
       "<tr>\n",
       "  <th>Omnibus:</th>       <td>41.771</td> <th>  Durbin-Watson:     </th> <td>   1.489</td>\n",
       "</tr>\n",
       "<tr>\n",
       "  <th>Prob(Omnibus):</th> <td> 0.000</td> <th>  Jarque-Bera (JB):  </th> <td>  81.626</td>\n",
       "</tr>\n",
       "<tr>\n",
       "  <th>Skew:</th>          <td> 0.609</td> <th>  Prob(JB):          </th> <td>1.88e-18</td>\n",
       "</tr>\n",
       "<tr>\n",
       "  <th>Kurtosis:</th>      <td> 4.875</td> <th>  Cond. No.          </th> <td>1.24e+07</td>\n",
       "</tr>\n",
       "</table>"
      ],
      "text/plain": [
       "<class 'statsmodels.iolib.summary.Summary'>\n",
       "\"\"\"\n",
       "                            OLS Regression Results                            \n",
       "==============================================================================\n",
       "Dep. Variable:                    mpg   R-squared:                       0.863\n",
       "Model:                            OLS   Adj. R-squared:                  0.860\n",
       "Method:                 Least Squares   F-statistic:                     267.4\n",
       "Date:                Sat, 23 Apr 2016   Prob (F-statistic):          6.52e-159\n",
       "Time:                        16:12:16   Log-Likelihood:                -971.56\n",
       "No. Observations:                 392   AIC:                             1963.\n",
       "Df Residuals:                     382   BIC:                             2003.\n",
       "Df Model:                           9                                         \n",
       "==========================================================================================\n",
       "                             coef    std err          t      P>|t|      [95.0% Conf. Int.]\n",
       "------------------------------------------------------------------------------------------\n",
       "Intercept                  4.0528      4.544      0.892      0.373        -4.881    12.986\n",
       "cylinders                 -0.7357      0.483     -1.522      0.129        -1.686     0.215\n",
       "displacement              -0.0201      0.016     -1.269      0.205        -0.051     0.011\n",
       "cylinders:displacement     0.0039      0.002      1.816      0.070        -0.000     0.008\n",
       "horsepower                -0.2080      0.027     -7.754      0.000        -0.261    -0.155\n",
       "weight                    -0.0101      0.001    -10.849      0.000        -0.012    -0.008\n",
       "horsepower:weight       4.699e-05   6.93e-06      6.781      0.000      3.34e-05  6.06e-05\n",
       "acceleration              -0.0706      0.089     -0.793      0.428        -0.245     0.104\n",
       "year                       0.7692      0.045     17.168      0.000         0.681     0.857\n",
       "origin                     0.7159      0.259      2.765      0.006         0.207     1.225\n",
       "==============================================================================\n",
       "Omnibus:                       41.771   Durbin-Watson:                   1.489\n",
       "Prob(Omnibus):                  0.000   Jarque-Bera (JB):               81.626\n",
       "Skew:                           0.609   Prob(JB):                     1.88e-18\n",
       "Kurtosis:                       4.875   Cond. No.                     1.24e+07\n",
       "==============================================================================\n",
       "\n",
       "Warnings:\n",
       "[1] The condition number is large, 1.24e+07. This might indicate that there are\n",
       "strong multicollinearity or other numerical problems.\n",
       "\"\"\""
      ]
     },
     "execution_count": 92,
     "metadata": {},
     "output_type": "execute_result"
    }
   ],
   "source": [
    "model = ols(\"mpg ~ cylinders + displacement + cylinders*displacement + horsepower + weight + horsepower:weight + acceleration + year + origin\", auto).fit()\n",
    "model.summary()"
   ]
  },
  {
   "cell_type": "markdown",
   "metadata": {},
   "source": [
    "Do any interactions appear to be statistically\n",
    "significant?\n",
    "````\n",
    "yes, but their effects are negligible\n",
    "````"
   ]
  },
  {
   "cell_type": "markdown",
   "metadata": {},
   "source": [
    "(f) Try a few different transformations of the variables, such as\n",
    "log(X),\n",
    "√\n",
    "X, X2. Comment on your findings.\n",
    "````\n",
    "P vals change. E.g. when we squared the data, the vals got closer to everything but horsepower\n",
    "````"
   ]
  },
  {
   "cell_type": "code",
   "execution_count": 102,
   "metadata": {
    "collapsed": false
   },
   "outputs": [
    {
     "data": {
      "text/html": [
       "<table class=\"simpletable\">\n",
       "<caption>OLS Regression Results</caption>\n",
       "<tr>\n",
       "  <th>Dep. Variable:</th>           <td>mpg</td>       <th>  R-squared:         </th> <td>   0.798</td> \n",
       "</tr>\n",
       "<tr>\n",
       "  <th>Model:</th>                   <td>OLS</td>       <th>  Adj. R-squared:    </th> <td>   0.794</td> \n",
       "</tr>\n",
       "<tr>\n",
       "  <th>Method:</th>             <td>Least Squares</td>  <th>  F-statistic:       </th> <td>   216.8</td> \n",
       "</tr>\n",
       "<tr>\n",
       "  <th>Date:</th>             <td>Sat, 23 Apr 2016</td> <th>  Prob (F-statistic):</th> <td>3.57e-129</td>\n",
       "</tr>\n",
       "<tr>\n",
       "  <th>Time:</th>                 <td>16:18:51</td>     <th>  Log-Likelihood:    </th> <td> -1047.6</td> \n",
       "</tr>\n",
       "<tr>\n",
       "  <th>No. Observations:</th>      <td>   392</td>      <th>  AIC:               </th> <td>   2111.</td> \n",
       "</tr>\n",
       "<tr>\n",
       "  <th>Df Residuals:</th>          <td>   384</td>      <th>  BIC:               </th> <td>   2143.</td> \n",
       "</tr>\n",
       "<tr>\n",
       "  <th>Df Model:</th>              <td>     7</td>      <th>                     </th>     <td> </td>    \n",
       "</tr>\n",
       "</table>\n",
       "<table class=\"simpletable\">\n",
       "<tr>\n",
       "        <td></td>          <th>coef</th>     <th>std err</th>      <th>t</th>      <th>P>|t|</th> <th>[95.0% Conf. Int.]</th> \n",
       "</tr>\n",
       "<tr>\n",
       "  <th>Intercept</th>    <td>    1.2080</td> <td>    2.356</td> <td>    0.513</td> <td> 0.608</td> <td>   -3.424     5.840</td>\n",
       "</tr>\n",
       "<tr>\n",
       "  <th>cylinders</th>    <td>   -0.0883</td> <td>    0.025</td> <td>   -3.502</td> <td> 0.001</td> <td>   -0.138    -0.039</td>\n",
       "</tr>\n",
       "<tr>\n",
       "  <th>displacement</th> <td>  5.68e-05</td> <td> 1.38e-05</td> <td>    4.109</td> <td> 0.000</td> <td> 2.96e-05   8.4e-05</td>\n",
       "</tr>\n",
       "<tr>\n",
       "  <th>horsepower</th>   <td>-3.621e-05</td> <td> 4.98e-05</td> <td>   -0.728</td> <td> 0.467</td> <td>   -0.000  6.16e-05</td>\n",
       "</tr>\n",
       "<tr>\n",
       "  <th>weight</th>       <td>-9.351e-07</td> <td> 8.98e-08</td> <td>  -10.416</td> <td> 0.000</td> <td>-1.11e-06 -7.59e-07</td>\n",
       "</tr>\n",
       "<tr>\n",
       "  <th>acceleration</th> <td>    0.0063</td> <td>    0.003</td> <td>    2.334</td> <td> 0.020</td> <td>    0.001     0.012</td>\n",
       "</tr>\n",
       "<tr>\n",
       "  <th>year</th>         <td>    0.0050</td> <td>    0.000</td> <td>   14.160</td> <td> 0.000</td> <td>    0.004     0.006</td>\n",
       "</tr>\n",
       "<tr>\n",
       "  <th>origin</th>       <td>    0.4129</td> <td>    0.069</td> <td>    5.971</td> <td> 0.000</td> <td>    0.277     0.549</td>\n",
       "</tr>\n",
       "</table>\n",
       "<table class=\"simpletable\">\n",
       "<tr>\n",
       "  <th>Omnibus:</th>       <td>21.204</td> <th>  Durbin-Watson:     </th> <td>   1.316</td>\n",
       "</tr>\n",
       "<tr>\n",
       "  <th>Prob(Omnibus):</th> <td> 0.000</td> <th>  Jarque-Bera (JB):  </th> <td>  29.337</td>\n",
       "</tr>\n",
       "<tr>\n",
       "  <th>Skew:</th>          <td> 0.431</td> <th>  Prob(JB):          </th> <td>4.26e-07</td>\n",
       "</tr>\n",
       "<tr>\n",
       "  <th>Kurtosis:</th>      <td> 4.027</td> <th>  Cond. No.          </th> <td>1.45e+08</td>\n",
       "</tr>\n",
       "</table>"
      ],
      "text/plain": [
       "<class 'statsmodels.iolib.summary.Summary'>\n",
       "\"\"\"\n",
       "                            OLS Regression Results                            \n",
       "==============================================================================\n",
       "Dep. Variable:                    mpg   R-squared:                       0.798\n",
       "Model:                            OLS   Adj. R-squared:                  0.794\n",
       "Method:                 Least Squares   F-statistic:                     216.8\n",
       "Date:                Sat, 23 Apr 2016   Prob (F-statistic):          3.57e-129\n",
       "Time:                        16:18:51   Log-Likelihood:                -1047.6\n",
       "No. Observations:                 392   AIC:                             2111.\n",
       "Df Residuals:                     384   BIC:                             2143.\n",
       "Df Model:                           7                                         \n",
       "================================================================================\n",
       "                   coef    std err          t      P>|t|      [95.0% Conf. Int.]\n",
       "--------------------------------------------------------------------------------\n",
       "Intercept        1.2080      2.356      0.513      0.608        -3.424     5.840\n",
       "cylinders       -0.0883      0.025     -3.502      0.001        -0.138    -0.039\n",
       "displacement   5.68e-05   1.38e-05      4.109      0.000      2.96e-05   8.4e-05\n",
       "horsepower   -3.621e-05   4.98e-05     -0.728      0.467        -0.000  6.16e-05\n",
       "weight       -9.351e-07   8.98e-08    -10.416      0.000     -1.11e-06 -7.59e-07\n",
       "acceleration     0.0063      0.003      2.334      0.020         0.001     0.012\n",
       "year             0.0050      0.000     14.160      0.000         0.004     0.006\n",
       "origin           0.4129      0.069      5.971      0.000         0.277     0.549\n",
       "==============================================================================\n",
       "Omnibus:                       21.204   Durbin-Watson:                   1.316\n",
       "Prob(Omnibus):                  0.000   Jarque-Bera (JB):               29.337\n",
       "Skew:                           0.431   Prob(JB):                     4.26e-07\n",
       "Kurtosis:                       4.027   Cond. No.                     1.45e+08\n",
       "==============================================================================\n",
       "\n",
       "Warnings:\n",
       "[1] The condition number is large, 1.45e+08. This might indicate that there are\n",
       "strong multicollinearity or other numerical problems.\n",
       "\"\"\""
      ]
     },
     "execution_count": 102,
     "metadata": {},
     "output_type": "execute_result"
    }
   ],
   "source": [
    "auto_3 = auto.dropna()\n",
    "for col in ['cylinders', 'displacement','horsepower','weight','acceleration','year','origin']:\n",
    "    auto_3[col] = auto_3[col]**2\n",
    "model = ols(\"mpg ~ cylinders + displacement + horsepower + weight +acceleration + year + origin\", auto_3).fit()\n",
    "model.summary()"
   ]
  },
  {
   "cell_type": "markdown",
   "metadata": {},
   "source": [
    "# 10. This question should be answered using the Carseats data set"
   ]
  },
  {
   "cell_type": "code",
   "execution_count": 104,
   "metadata": {
    "collapsed": false
   },
   "outputs": [
    {
     "data": {
      "text/html": [
       "<div>\n",
       "<table border=\"1\" class=\"dataframe\">\n",
       "  <thead>\n",
       "    <tr style=\"text-align: right;\">\n",
       "      <th></th>\n",
       "      <th>Sales</th>\n",
       "      <th>CompPrice</th>\n",
       "      <th>Income</th>\n",
       "      <th>Advertising</th>\n",
       "      <th>Population</th>\n",
       "      <th>Price</th>\n",
       "      <th>ShelveLoc</th>\n",
       "      <th>Age</th>\n",
       "      <th>Education</th>\n",
       "      <th>Urban</th>\n",
       "      <th>US</th>\n",
       "    </tr>\n",
       "  </thead>\n",
       "  <tbody>\n",
       "    <tr>\n",
       "      <th>0</th>\n",
       "      <td>9.5</td>\n",
       "      <td>138</td>\n",
       "      <td>73</td>\n",
       "      <td>11</td>\n",
       "      <td>276</td>\n",
       "      <td>120</td>\n",
       "      <td>Bad</td>\n",
       "      <td>42</td>\n",
       "      <td>17</td>\n",
       "      <td>Yes</td>\n",
       "      <td>Yes</td>\n",
       "    </tr>\n",
       "  </tbody>\n",
       "</table>\n",
       "</div>"
      ],
      "text/plain": [
       "   Sales  CompPrice  Income  Advertising  Population  Price ShelveLoc  Age  \\\n",
       "0    9.5        138      73           11         276    120       Bad   42   \n",
       "\n",
       "   Education Urban   US  \n",
       "0         17   Yes  Yes  "
      ]
     },
     "execution_count": 104,
     "metadata": {},
     "output_type": "execute_result"
    }
   ],
   "source": [
    "seats = pd.read_csv(\"carseats.csv\")\n",
    "seats.head(1)"
   ]
  },
  {
   "cell_type": "code",
   "execution_count": 108,
   "metadata": {
    "collapsed": false
   },
   "outputs": [
    {
     "data": {
      "text/html": [
       "<table class=\"simpletable\">\n",
       "<caption>OLS Regression Results</caption>\n",
       "<tr>\n",
       "  <th>Dep. Variable:</th>          <td>Sales</td>      <th>  R-squared:         </th> <td>   0.239</td>\n",
       "</tr>\n",
       "<tr>\n",
       "  <th>Model:</th>                   <td>OLS</td>       <th>  Adj. R-squared:    </th> <td>   0.234</td>\n",
       "</tr>\n",
       "<tr>\n",
       "  <th>Method:</th>             <td>Least Squares</td>  <th>  F-statistic:       </th> <td>   41.52</td>\n",
       "</tr>\n",
       "<tr>\n",
       "  <th>Date:</th>             <td>Sat, 23 Apr 2016</td> <th>  Prob (F-statistic):</th> <td>2.39e-23</td>\n",
       "</tr>\n",
       "<tr>\n",
       "  <th>Time:</th>                 <td>19:06:05</td>     <th>  Log-Likelihood:    </th> <td> -927.66</td>\n",
       "</tr>\n",
       "<tr>\n",
       "  <th>No. Observations:</th>      <td>   400</td>      <th>  AIC:               </th> <td>   1863.</td>\n",
       "</tr>\n",
       "<tr>\n",
       "  <th>Df Residuals:</th>          <td>   396</td>      <th>  BIC:               </th> <td>   1879.</td>\n",
       "</tr>\n",
       "<tr>\n",
       "  <th>Df Model:</th>              <td>     3</td>      <th>                     </th>     <td> </td>   \n",
       "</tr>\n",
       "</table>\n",
       "<table class=\"simpletable\">\n",
       "<tr>\n",
       "        <td></td>          <th>coef</th>     <th>std err</th>      <th>t</th>      <th>P>|t|</th> <th>[95.0% Conf. Int.]</th> \n",
       "</tr>\n",
       "<tr>\n",
       "  <th>Intercept</th>    <td>   13.0435</td> <td>    0.651</td> <td>   20.036</td> <td> 0.000</td> <td>   11.764    14.323</td>\n",
       "</tr>\n",
       "<tr>\n",
       "  <th>Urban[T.Yes]</th> <td>   -0.0219</td> <td>    0.272</td> <td>   -0.081</td> <td> 0.936</td> <td>   -0.556     0.512</td>\n",
       "</tr>\n",
       "<tr>\n",
       "  <th>US[T.Yes]</th>    <td>    1.2006</td> <td>    0.259</td> <td>    4.635</td> <td> 0.000</td> <td>    0.691     1.710</td>\n",
       "</tr>\n",
       "<tr>\n",
       "  <th>Price</th>        <td>   -0.0545</td> <td>    0.005</td> <td>  -10.389</td> <td> 0.000</td> <td>   -0.065    -0.044</td>\n",
       "</tr>\n",
       "</table>\n",
       "<table class=\"simpletable\">\n",
       "<tr>\n",
       "  <th>Omnibus:</th>       <td> 0.676</td> <th>  Durbin-Watson:     </th> <td>   1.912</td>\n",
       "</tr>\n",
       "<tr>\n",
       "  <th>Prob(Omnibus):</th> <td> 0.713</td> <th>  Jarque-Bera (JB):  </th> <td>   0.758</td>\n",
       "</tr>\n",
       "<tr>\n",
       "  <th>Skew:</th>          <td> 0.093</td> <th>  Prob(JB):          </th> <td>   0.684</td>\n",
       "</tr>\n",
       "<tr>\n",
       "  <th>Kurtosis:</th>      <td> 2.897</td> <th>  Cond. No.          </th> <td>    628.</td>\n",
       "</tr>\n",
       "</table>"
      ],
      "text/plain": [
       "<class 'statsmodels.iolib.summary.Summary'>\n",
       "\"\"\"\n",
       "                            OLS Regression Results                            \n",
       "==============================================================================\n",
       "Dep. Variable:                  Sales   R-squared:                       0.239\n",
       "Model:                            OLS   Adj. R-squared:                  0.234\n",
       "Method:                 Least Squares   F-statistic:                     41.52\n",
       "Date:                Sat, 23 Apr 2016   Prob (F-statistic):           2.39e-23\n",
       "Time:                        19:06:05   Log-Likelihood:                -927.66\n",
       "No. Observations:                 400   AIC:                             1863.\n",
       "Df Residuals:                     396   BIC:                             1879.\n",
       "Df Model:                           3                                         \n",
       "================================================================================\n",
       "                   coef    std err          t      P>|t|      [95.0% Conf. Int.]\n",
       "--------------------------------------------------------------------------------\n",
       "Intercept       13.0435      0.651     20.036      0.000        11.764    14.323\n",
       "Urban[T.Yes]    -0.0219      0.272     -0.081      0.936        -0.556     0.512\n",
       "US[T.Yes]        1.2006      0.259      4.635      0.000         0.691     1.710\n",
       "Price           -0.0545      0.005    -10.389      0.000        -0.065    -0.044\n",
       "==============================================================================\n",
       "Omnibus:                        0.676   Durbin-Watson:                   1.912\n",
       "Prob(Omnibus):                  0.713   Jarque-Bera (JB):                0.758\n",
       "Skew:                           0.093   Prob(JB):                        0.684\n",
       "Kurtosis:                       2.897   Cond. No.                         628.\n",
       "==============================================================================\n",
       "\"\"\""
      ]
     },
     "execution_count": 108,
     "metadata": {},
     "output_type": "execute_result"
    }
   ],
   "source": [
    "model = ols(\"Sales ~ Price + Urban + US\", seats).fit()\n",
    "model.summary()"
   ]
  },
  {
   "cell_type": "markdown",
   "metadata": {},
   "source": [
    "(b) Provide an interpretation of each coefficient in the model. Be\n",
    "careful—some of the variables in the model are qualitative!\n",
    "````\n",
    "On average sales are 13.04.\n",
    "Decreasing price by $1 means 5% increase in sales.\n",
    "US products sale 20% better than otherwise\n",
    "There's no significant correlation for Urban\n",
    "````\n",
    "\n",
    "(c) Write out the model in equation form, being careful to handle\n",
    "the qualitative variables properly.\n",
    "````\n",
    "non_us_sales = 13.04 - 0.05 * price\n",
    "us_sales = non_us_sales*1.2\n",
    "````\n",
    "\n",
    "(d) For which of the predictors can you reject the null hypothesis\n",
    "H0 : βj = 0?\n",
    "````\n",
    "US & Price\n",
    "````\n",
    "\n",
    "(e) On the basis of your response to the previous question, fit a\n",
    "smaller model that only uses the predictors for which there is\n",
    "evidence of association with the outcome."
   ]
  },
  {
   "cell_type": "code",
   "execution_count": 109,
   "metadata": {
    "collapsed": false
   },
   "outputs": [
    {
     "data": {
      "text/html": [
       "<table class=\"simpletable\">\n",
       "<caption>OLS Regression Results</caption>\n",
       "<tr>\n",
       "  <th>Dep. Variable:</th>          <td>Sales</td>      <th>  R-squared:         </th> <td>   0.239</td>\n",
       "</tr>\n",
       "<tr>\n",
       "  <th>Model:</th>                   <td>OLS</td>       <th>  Adj. R-squared:    </th> <td>   0.235</td>\n",
       "</tr>\n",
       "<tr>\n",
       "  <th>Method:</th>             <td>Least Squares</td>  <th>  F-statistic:       </th> <td>   62.43</td>\n",
       "</tr>\n",
       "<tr>\n",
       "  <th>Date:</th>             <td>Sat, 23 Apr 2016</td> <th>  Prob (F-statistic):</th> <td>2.66e-24</td>\n",
       "</tr>\n",
       "<tr>\n",
       "  <th>Time:</th>                 <td>19:10:36</td>     <th>  Log-Likelihood:    </th> <td> -927.66</td>\n",
       "</tr>\n",
       "<tr>\n",
       "  <th>No. Observations:</th>      <td>   400</td>      <th>  AIC:               </th> <td>   1861.</td>\n",
       "</tr>\n",
       "<tr>\n",
       "  <th>Df Residuals:</th>          <td>   397</td>      <th>  BIC:               </th> <td>   1873.</td>\n",
       "</tr>\n",
       "<tr>\n",
       "  <th>Df Model:</th>              <td>     2</td>      <th>                     </th>     <td> </td>   \n",
       "</tr>\n",
       "</table>\n",
       "<table class=\"simpletable\">\n",
       "<tr>\n",
       "      <td></td>         <th>coef</th>     <th>std err</th>      <th>t</th>      <th>P>|t|</th> <th>[95.0% Conf. Int.]</th> \n",
       "</tr>\n",
       "<tr>\n",
       "  <th>Intercept</th> <td>   13.0308</td> <td>    0.631</td> <td>   20.652</td> <td> 0.000</td> <td>   11.790    14.271</td>\n",
       "</tr>\n",
       "<tr>\n",
       "  <th>US[T.Yes]</th> <td>    1.1996</td> <td>    0.258</td> <td>    4.641</td> <td> 0.000</td> <td>    0.692     1.708</td>\n",
       "</tr>\n",
       "<tr>\n",
       "  <th>Price</th>     <td>   -0.0545</td> <td>    0.005</td> <td>  -10.416</td> <td> 0.000</td> <td>   -0.065    -0.044</td>\n",
       "</tr>\n",
       "</table>\n",
       "<table class=\"simpletable\">\n",
       "<tr>\n",
       "  <th>Omnibus:</th>       <td> 0.666</td> <th>  Durbin-Watson:     </th> <td>   1.912</td>\n",
       "</tr>\n",
       "<tr>\n",
       "  <th>Prob(Omnibus):</th> <td> 0.717</td> <th>  Jarque-Bera (JB):  </th> <td>   0.749</td>\n",
       "</tr>\n",
       "<tr>\n",
       "  <th>Skew:</th>          <td> 0.092</td> <th>  Prob(JB):          </th> <td>   0.688</td>\n",
       "</tr>\n",
       "<tr>\n",
       "  <th>Kurtosis:</th>      <td> 2.895</td> <th>  Cond. No.          </th> <td>    607.</td>\n",
       "</tr>\n",
       "</table>"
      ],
      "text/plain": [
       "<class 'statsmodels.iolib.summary.Summary'>\n",
       "\"\"\"\n",
       "                            OLS Regression Results                            \n",
       "==============================================================================\n",
       "Dep. Variable:                  Sales   R-squared:                       0.239\n",
       "Model:                            OLS   Adj. R-squared:                  0.235\n",
       "Method:                 Least Squares   F-statistic:                     62.43\n",
       "Date:                Sat, 23 Apr 2016   Prob (F-statistic):           2.66e-24\n",
       "Time:                        19:10:36   Log-Likelihood:                -927.66\n",
       "No. Observations:                 400   AIC:                             1861.\n",
       "Df Residuals:                     397   BIC:                             1873.\n",
       "Df Model:                           2                                         \n",
       "==============================================================================\n",
       "                 coef    std err          t      P>|t|      [95.0% Conf. Int.]\n",
       "------------------------------------------------------------------------------\n",
       "Intercept     13.0308      0.631     20.652      0.000        11.790    14.271\n",
       "US[T.Yes]      1.1996      0.258      4.641      0.000         0.692     1.708\n",
       "Price         -0.0545      0.005    -10.416      0.000        -0.065    -0.044\n",
       "==============================================================================\n",
       "Omnibus:                        0.666   Durbin-Watson:                   1.912\n",
       "Prob(Omnibus):                  0.717   Jarque-Bera (JB):                0.749\n",
       "Skew:                           0.092   Prob(JB):                        0.688\n",
       "Kurtosis:                       2.895   Cond. No.                         607.\n",
       "==============================================================================\n",
       "\"\"\""
      ]
     },
     "execution_count": 109,
     "metadata": {},
     "output_type": "execute_result"
    }
   ],
   "source": [
    "model = ols(\"Sales ~ Price + US\", seats).fit()\n",
    "model.summary()"
   ]
  },
  {
   "cell_type": "markdown",
   "metadata": {},
   "source": [
    "(f) How well do the models in (a) and (e) fit the data?\n",
    "````\n",
    "R^2 is 0.239 in both cases so similarly\n",
    "````\n",
    "(g) Using the model from (e), obtain 95% confidence intervals for\n",
    "the coefficient(s).\n",
    "````\n",
    "b0 = (11.790, 14.271)\n",
    "b1(US) = (0.692, 1.708)\n",
    "b2(Price) = (-0.065, -0.044)\n",
    "````\n",
    "(h) Is there evidence of outliers or high leverage observations in the\n",
    "model from (e)?\n",
    "````\n",
    "yeah, we have a few\n",
    "````"
   ]
  },
  {
   "cell_type": "code",
   "execution_count": 111,
   "metadata": {
    "collapsed": false
   },
   "outputs": [
    {
     "data": {
      "image/png": "[encoded data removed]",
      "text/plain": [
       "<matplotlib.figure.Figure at 0x11313e210>"
      ]
     },
     "metadata": {},
     "output_type": "display_data"
    }
   ],
   "source": [
    "fig, ax = plt.subplots(figsize=(8,6))\n",
    "fig = plot_leverage_resid2(model, ax = ax)"
   ]
  },
  {
   "cell_type": "markdown",
   "metadata": {},
   "source": [
    "# 11. In this problem we will investigate the t-statistic for the null hypothesis\n",
    "H0 : β = 0 in simple linear regression without an intercept. To\n",
    "begin, we generate a predictor x and a response y as follows."
   ]
  },
  {
   "cell_type": "code",
   "execution_count": 112,
   "metadata": {
    "collapsed": true
   },
   "outputs": [],
   "source": [
    "np.random.seed(1)"
   ]
  },
  {
   "cell_type": "code",
   "execution_count": 115,
   "metadata": {
    "collapsed": false
   },
   "outputs": [],
   "source": [
    "x = np.random.normal(size=100)\n",
    "y = 2*x + np.random.normal(size=100)"
   ]
  },
  {
   "cell_type": "markdown",
   "metadata": {},
   "source": [
    "(a) Perform a simple linear regression of y onto x, without an intercept.\n",
    "Report the coefficient estimate ˆβ, the standard error of\n",
    "this coefficient estimate, and the t-statistic and p-value associated\n",
    "with the null hypothesis H0 : β = 0. Comment on these\n",
    "results. (You can perform regression without an intercept using\n",
    "the command lm(y∼x+0).)"
   ]
  },
  {
   "cell_type": "code",
   "execution_count": 131,
   "metadata": {
    "collapsed": false,
    "scrolled": false
   },
   "outputs": [
    {
     "data": {
      "text/html": [
       "<table class=\"simpletable\">\n",
       "<caption>OLS Regression Results</caption>\n",
       "<tr>\n",
       "  <th>Dep. Variable:</th>            <td>y</td>        <th>  R-squared:         </th> <td>   0.809</td>\n",
       "</tr>\n",
       "<tr>\n",
       "  <th>Model:</th>                   <td>OLS</td>       <th>  Adj. R-squared:    </th> <td>   0.807</td>\n",
       "</tr>\n",
       "<tr>\n",
       "  <th>Method:</th>             <td>Least Squares</td>  <th>  F-statistic:       </th> <td>   419.6</td>\n",
       "</tr>\n",
       "<tr>\n",
       "  <th>Date:</th>             <td>Sat, 23 Apr 2016</td> <th>  Prob (F-statistic):</th> <td>2.22e-37</td>\n",
       "</tr>\n",
       "<tr>\n",
       "  <th>Time:</th>                 <td>19:26:00</td>     <th>  Log-Likelihood:    </th> <td> -142.69</td>\n",
       "</tr>\n",
       "<tr>\n",
       "  <th>No. Observations:</th>      <td>   100</td>      <th>  AIC:               </th> <td>   287.4</td>\n",
       "</tr>\n",
       "<tr>\n",
       "  <th>Df Residuals:</th>          <td>    99</td>      <th>  BIC:               </th> <td>   290.0</td>\n",
       "</tr>\n",
       "<tr>\n",
       "  <th>Df Model:</th>              <td>     1</td>      <th>                     </th>     <td> </td>   \n",
       "</tr>\n",
       "</table>\n",
       "<table class=\"simpletable\">\n",
       "<tr>\n",
       "  <td></td>     <th>coef</th>     <th>std err</th>      <th>t</th>      <th>P>|t|</th> <th>[95.0% Conf. Int.]</th> \n",
       "</tr>\n",
       "<tr>\n",
       "  <th>x</th> <td>    2.1979</td> <td>    0.107</td> <td>   20.485</td> <td> 0.000</td> <td>    1.985     2.411</td>\n",
       "</tr>\n",
       "</table>\n",
       "<table class=\"simpletable\">\n",
       "<tr>\n",
       "  <th>Omnibus:</th>       <td> 0.026</td> <th>  Durbin-Watson:     </th> <td>   2.144</td>\n",
       "</tr>\n",
       "<tr>\n",
       "  <th>Prob(Omnibus):</th> <td> 0.987</td> <th>  Jarque-Bera (JB):  </th> <td>   0.030</td>\n",
       "</tr>\n",
       "<tr>\n",
       "  <th>Skew:</th>          <td> 0.017</td> <th>  Prob(JB):          </th> <td>   0.985</td>\n",
       "</tr>\n",
       "<tr>\n",
       "  <th>Kurtosis:</th>      <td> 2.922</td> <th>  Cond. No.          </th> <td>    1.00</td>\n",
       "</tr>\n",
       "</table>"
      ],
      "text/plain": [
       "<class 'statsmodels.iolib.summary.Summary'>\n",
       "\"\"\"\n",
       "                            OLS Regression Results                            \n",
       "==============================================================================\n",
       "Dep. Variable:                      y   R-squared:                       0.809\n",
       "Model:                            OLS   Adj. R-squared:                  0.807\n",
       "Method:                 Least Squares   F-statistic:                     419.6\n",
       "Date:                Sat, 23 Apr 2016   Prob (F-statistic):           2.22e-37\n",
       "Time:                        19:26:00   Log-Likelihood:                -142.69\n",
       "No. Observations:                 100   AIC:                             287.4\n",
       "Df Residuals:                      99   BIC:                             290.0\n",
       "Df Model:                           1                                         \n",
       "==============================================================================\n",
       "                 coef    std err          t      P>|t|      [95.0% Conf. Int.]\n",
       "------------------------------------------------------------------------------\n",
       "x              2.1979      0.107     20.485      0.000         1.985     2.411\n",
       "==============================================================================\n",
       "Omnibus:                        0.026   Durbin-Watson:                   2.144\n",
       "Prob(Omnibus):                  0.987   Jarque-Bera (JB):                0.030\n",
       "Skew:                           0.017   Prob(JB):                        0.985\n",
       "Kurtosis:                       2.922   Cond. No.                         1.00\n",
       "==============================================================================\n",
       "\"\"\""
      ]
     },
     "execution_count": 131,
     "metadata": {},
     "output_type": "execute_result"
    }
   ],
   "source": [
    "model = ols(\"y ~ x + 0\", pd.DataFrame({'y':y, 'x':x})).fit()\n",
    "model.summary()"
   ]
  },
  {
   "cell_type": "markdown",
   "metadata": {},
   "source": [
    "````\n",
    "Coef is close to 2 which is cool and is quite within confidence interval.\n",
    "It can be closer on other realizations of the model - it's random and it will be 2 on average, remember\n",
    "````\n",
    "(b) Now perform a simple linear regression of x onto y without an\n",
    "intercept, and report the coefficient estimate, its standard error,\n",
    "and the corresponding t-statistic and p-values associated with\n",
    "the null hypothesis H0 : β = 0. Comment on these results"
   ]
  },
  {
   "cell_type": "code",
   "execution_count": 132,
   "metadata": {
    "collapsed": false
   },
   "outputs": [
    {
     "data": {
      "text/html": [
       "<table class=\"simpletable\">\n",
       "<caption>OLS Regression Results</caption>\n",
       "<tr>\n",
       "  <th>Dep. Variable:</th>            <td>x</td>        <th>  R-squared:         </th> <td>   0.809</td>\n",
       "</tr>\n",
       "<tr>\n",
       "  <th>Model:</th>                   <td>OLS</td>       <th>  Adj. R-squared:    </th> <td>   0.807</td>\n",
       "</tr>\n",
       "<tr>\n",
       "  <th>Method:</th>             <td>Least Squares</td>  <th>  F-statistic:       </th> <td>   419.6</td>\n",
       "</tr>\n",
       "<tr>\n",
       "  <th>Date:</th>             <td>Sat, 23 Apr 2016</td> <th>  Prob (F-statistic):</th> <td>2.22e-37</td>\n",
       "</tr>\n",
       "<tr>\n",
       "  <th>Time:</th>                 <td>19:27:59</td>     <th>  Log-Likelihood:    </th> <td> -53.351</td>\n",
       "</tr>\n",
       "<tr>\n",
       "  <th>No. Observations:</th>      <td>   100</td>      <th>  AIC:               </th> <td>   108.7</td>\n",
       "</tr>\n",
       "<tr>\n",
       "  <th>Df Residuals:</th>          <td>    99</td>      <th>  BIC:               </th> <td>   111.3</td>\n",
       "</tr>\n",
       "<tr>\n",
       "  <th>Df Model:</th>              <td>     1</td>      <th>                     </th>     <td> </td>   \n",
       "</tr>\n",
       "</table>\n",
       "<table class=\"simpletable\">\n",
       "<tr>\n",
       "  <td></td>     <th>coef</th>     <th>std err</th>      <th>t</th>      <th>P>|t|</th> <th>[95.0% Conf. Int.]</th> \n",
       "</tr>\n",
       "<tr>\n",
       "  <th>y</th> <td>    0.3681</td> <td>    0.018</td> <td>   20.485</td> <td> 0.000</td> <td>    0.332     0.404</td>\n",
       "</tr>\n",
       "</table>\n",
       "<table class=\"simpletable\">\n",
       "<tr>\n",
       "  <th>Omnibus:</th>       <td> 0.940</td> <th>  Durbin-Watson:     </th> <td>   2.169</td>\n",
       "</tr>\n",
       "<tr>\n",
       "  <th>Prob(Omnibus):</th> <td> 0.625</td> <th>  Jarque-Bera (JB):  </th> <td>   0.843</td>\n",
       "</tr>\n",
       "<tr>\n",
       "  <th>Skew:</th>          <td> 0.222</td> <th>  Prob(JB):          </th> <td>   0.656</td>\n",
       "</tr>\n",
       "<tr>\n",
       "  <th>Kurtosis:</th>      <td> 2.930</td> <th>  Cond. No.          </th> <td>    1.00</td>\n",
       "</tr>\n",
       "</table>"
      ],
      "text/plain": [
       "<class 'statsmodels.iolib.summary.Summary'>\n",
       "\"\"\"\n",
       "                            OLS Regression Results                            \n",
       "==============================================================================\n",
       "Dep. Variable:                      x   R-squared:                       0.809\n",
       "Model:                            OLS   Adj. R-squared:                  0.807\n",
       "Method:                 Least Squares   F-statistic:                     419.6\n",
       "Date:                Sat, 23 Apr 2016   Prob (F-statistic):           2.22e-37\n",
       "Time:                        19:27:59   Log-Likelihood:                -53.351\n",
       "No. Observations:                 100   AIC:                             108.7\n",
       "Df Residuals:                      99   BIC:                             111.3\n",
       "Df Model:                           1                                         \n",
       "==============================================================================\n",
       "                 coef    std err          t      P>|t|      [95.0% Conf. Int.]\n",
       "------------------------------------------------------------------------------\n",
       "y              0.3681      0.018     20.485      0.000         0.332     0.404\n",
       "==============================================================================\n",
       "Omnibus:                        0.940   Durbin-Watson:                   2.169\n",
       "Prob(Omnibus):                  0.625   Jarque-Bera (JB):                0.843\n",
       "Skew:                           0.222   Prob(JB):                        0.656\n",
       "Kurtosis:                       2.930   Cond. No.                         1.00\n",
       "==============================================================================\n",
       "\"\"\""
      ]
     },
     "execution_count": 132,
     "metadata": {},
     "output_type": "execute_result"
    }
   ],
   "source": [
    "model = ols(\"x ~ y + 0\", pd.DataFrame({'y':y, 'x':x})).fit()\n",
    "model.summary()"
   ]
  },
  {
   "cell_type": "code",
   "execution_count": 141,
   "metadata": {
    "collapsed": false
   },
   "outputs": [
    {
     "ename": "AttributeError",
     "evalue": "'numpy.ndarray' object has no attribute 'describe'",
     "output_type": "error",
     "traceback": [
      "\u001b[0;31m---------------------------------------------------------------------------\u001b[0m",
      "\u001b[0;31mAttributeError\u001b[0m                            Traceback (most recent call last)",
      "\u001b[0;32m<ipython-input-141-3d6b5050e990>\u001b[0m in \u001b[0;36m<module>\u001b[0;34m()\u001b[0m\n\u001b[1;32m      1\u001b[0m \u001b[0mplt\u001b[0m\u001b[0;34m.\u001b[0m\u001b[0mplot\u001b[0m\u001b[0;34m(\u001b[0m\u001b[0mx\u001b[0m\u001b[0;34m,\u001b[0m\u001b[0my\u001b[0m\u001b[0;34m,\u001b[0m\u001b[0;34m'o'\u001b[0m\u001b[0;34m,\u001b[0m\u001b[0mcolor\u001b[0m\u001b[0;34m=\u001b[0m\u001b[0;34m'red'\u001b[0m\u001b[0;34m)\u001b[0m\u001b[0;34m\u001b[0m\u001b[0m\n\u001b[1;32m      2\u001b[0m \u001b[0mplt\u001b[0m\u001b[0;34m.\u001b[0m\u001b[0mplot\u001b[0m\u001b[0;34m(\u001b[0m\u001b[0my\u001b[0m\u001b[0;34m,\u001b[0m\u001b[0mx\u001b[0m\u001b[0;34m,\u001b[0m\u001b[0;34m'o'\u001b[0m\u001b[0;34m)\u001b[0m\u001b[0;34m\u001b[0m\u001b[0m\n\u001b[0;32m----> 3\u001b[0;31m \u001b[0mx\u001b[0m\u001b[0;34m.\u001b[0m\u001b[0mdescribe\u001b[0m\u001b[0;34m(\u001b[0m\u001b[0;34m)\u001b[0m\u001b[0;34m\u001b[0m\u001b[0m\n\u001b[0m",
      "\u001b[0;31mAttributeError\u001b[0m: 'numpy.ndarray' object has no attribute 'describe'"
     ]
    },
    {
     "data": {
      "image/png": "[encoded data removed]",
      "text/plain": [
       "<matplotlib.figure.Figure at 0x111e15bd0>"
      ]
     },
     "metadata": {},
     "output_type": "display_data"
    }
   ],
   "source": [
    "plt.plot(x,y,'o',color='red')\n",
    "plt.plot(y,x,'o')"
   ]
  },
  {
   "cell_type": "markdown",
   "metadata": {},
   "source": [
    "(b) Now perform a simple linear regression of x onto y without an\n",
    "intercept, and report the coefficient estimate, its standard error,\n",
    "and the corresponding t-statistic and p-values associated with\n",
    "the null hypothesis H0 : β = 0. Comment on these results\n",
    "\n",
    "````\n",
    "Frankly I'd expect coefficient to be reverse of what we had with previous exercise.\n",
    "In hindsight, y is more widely spread out for whatever reasons thus the current realization has much more influence when estimating slope.\n",
    "````"
   ]
  },
  {
   "cell_type": "code",
   "execution_count": 142,
   "metadata": {
    "collapsed": false
   },
   "outputs": [
    {
     "data": {
      "text/html": [
       "<div>\n",
       "<table border=\"1\" class=\"dataframe\">\n",
       "  <thead>\n",
       "    <tr style=\"text-align: right;\">\n",
       "      <th></th>\n",
       "      <th>x</th>\n",
       "      <th>y</th>\n",
       "    </tr>\n",
       "  </thead>\n",
       "  <tbody>\n",
       "    <tr>\n",
       "      <th>count</th>\n",
       "      <td>100.000000</td>\n",
       "      <td>100.000000</td>\n",
       "    </tr>\n",
       "    <tr>\n",
       "      <th>mean</th>\n",
       "      <td>0.153257</td>\n",
       "      <td>0.341003</td>\n",
       "    </tr>\n",
       "    <tr>\n",
       "      <th>std</th>\n",
       "      <td>0.936402</td>\n",
       "      <td>2.293374</td>\n",
       "    </tr>\n",
       "    <tr>\n",
       "      <th>min</th>\n",
       "      <td>-2.434838</td>\n",
       "      <td>-5.100515</td>\n",
       "    </tr>\n",
       "    <tr>\n",
       "      <th>25%</th>\n",
       "      <td>-0.300010</td>\n",
       "      <td>-0.965846</td>\n",
       "    </tr>\n",
       "    <tr>\n",
       "      <th>50%</th>\n",
       "      <td>0.236616</td>\n",
       "      <td>0.511578</td>\n",
       "    </tr>\n",
       "    <tr>\n",
       "      <th>75%</th>\n",
       "      <td>0.743020</td>\n",
       "      <td>1.548005</td>\n",
       "    </tr>\n",
       "    <tr>\n",
       "      <th>max</th>\n",
       "      <td>2.528326</td>\n",
       "      <td>6.311488</td>\n",
       "    </tr>\n",
       "  </tbody>\n",
       "</table>\n",
       "</div>"
      ],
      "text/plain": [
       "                x           y\n",
       "count  100.000000  100.000000\n",
       "mean     0.153257    0.341003\n",
       "std      0.936402    2.293374\n",
       "min     -2.434838   -5.100515\n",
       "25%     -0.300010   -0.965846\n",
       "50%      0.236616    0.511578\n",
       "75%      0.743020    1.548005\n",
       "max      2.528326    6.311488"
      ]
     },
     "execution_count": 142,
     "metadata": {},
     "output_type": "execute_result"
    }
   ],
   "source": [
    "pd.DataFrame({'y':y, 'x':x}).describe()"
   ]
  },
  {
   "cell_type": "markdown",
   "metadata": {},
   "source": [
    "(c) What is the relationship between the results obtained in (a) and\n",
    "(b)?\n",
    "\n",
    "````\n",
    "On average slopes should be inverse, models will explain the same amount of variance.\n",
    "````"
   ]
  },
  {
   "cell_type": "markdown",
   "metadata": {},
   "source": [
    "11(d) TODO For the regression of Y onto X without an intercept, the tstatistic\n",
    "for H0 : β = 0 takes the form ˆβ/SE( ˆ β), where ˆ β is\n",
    "given by (3.38), and where\n",
    "![title](img/124_1.png) (These formulas are slightly different from those given in Sections\n",
    "3.1.1 and 3.1.2, since here we are performing regression\n",
    "without an intercept.) Show algebraically, and confirm numerically\n",
    "in R, that the t-statistic can be written as ![title](img/125_1.png)"
   ]
  },
  {
   "cell_type": "markdown",
   "metadata": {},
   "source": [
    "11.e) TODO Using the results from (d), argue that the t-statistic for the regression\n",
    "of y onto x is the same as the t-statistic for the regression\n",
    "of x onto y.\n",
    "\n",
    "(f) In R, show that when regression is performed with an intercept,\n",
    "the t-statistic for H0 : β1 = 0 is the same for the regression of y\n",
    "onto x as it is for the regression of x onto y."
   ]
  },
  {
   "cell_type": "code",
   "execution_count": 148,
   "metadata": {
    "collapsed": false
   },
   "outputs": [
    {
     "data": {
      "text/plain": [
       "404.19234635927705"
      ]
     },
     "execution_count": 148,
     "metadata": {},
     "output_type": "execute_result"
    }
   ],
   "source": [
    "model = ols(\"x ~ y\", pd.DataFrame({'y':y, 'x':x})).fit()\n",
    "model.fvalue"
   ]
  },
  {
   "cell_type": "code",
   "execution_count": 149,
   "metadata": {
    "collapsed": false
   },
   "outputs": [
    {
     "data": {
      "text/plain": [
       "404.19234635927705"
      ]
     },
     "execution_count": 149,
     "metadata": {},
     "output_type": "execute_result"
    }
   ],
   "source": [
    "model = ols(\"y ~ x\", pd.DataFrame({'y':y, 'x':x})).fit()\n",
    "model.fvalue"
   ]
  },
  {
   "cell_type": "markdown",
   "metadata": {},
   "source": [
    "# 12. This problem involves simple linear regression without an interceptm"
   ]
  },
  {
   "cell_type": "markdown",
   "metadata": {},
   "source": [
    "(a)  Recall that the coefficient estimate ˆ β for the linear regression of\n",
    "Y onto X without an intercept is given by (3.38). Under what\n",
    "circumstance is the coefficient estimate for the regression of X\n",
    "onto Y the same as the coefficient estimate for the regression of\n",
    "Y onto X?\n",
    "\n",
    "![title](img/3_38.png)"
   ]
  },
  {
   "cell_type": "markdown",
   "metadata": {},
   "source": [
    "````\n",
    "beta_y_x = x*y/(x-x0)**2\n",
    "beta_x_y = x*y/(y-y0)**2\n",
    "beta_y_x = beta_x_y --> (y-y0)**2 = (x-y0)**2\n",
    "````"
   ]
  },
  {
   "cell_type": "markdown",
   "metadata": {},
   "source": [
    "(b) Generate an example in R with n = 100 observations in which\n",
    "the coefficient estimate for the regrmession of X onto Y is different\n",
    "from the coefficient estimate for the regression of Y onto X."
   ]
  },
  {
   "cell_type": "code",
   "execution_count": 204,
   "metadata": {
    "collapsed": false
   },
   "outputs": [
    {
     "data": {
      "text/plain": [
       "x    0.059554\n",
       "dtype: float64"
      ]
     },
     "execution_count": 204,
     "metadata": {},
     "output_type": "execute_result"
    }
   ],
   "source": [
    "np.random.seed(0)\n",
    "x = np.random.normal(scale=2, size=100)\n",
    "y = np.random.normal(size=100)\n",
    "model = ols(\"y ~ x + 0\", pd.DataFrame({'y':y, 'x':x})).fit()\n",
    "model.params"
   ]
  },
  {
   "cell_type": "code",
   "execution_count": 205,
   "metadata": {
    "collapsed": false
   },
   "outputs": [
    {
     "data": {
      "text/plain": [
       "y    0.225421\n",
       "dtype: float64"
      ]
     },
     "execution_count": 205,
     "metadata": {},
     "output_type": "execute_result"
    }
   ],
   "source": [
    "model = ols(\"x ~ y + 0\", pd.DataFrame({'y':y, 'x':x})).fit()\n",
    "model.params"
   ]
  },
  {
   "cell_type": "markdown",
   "metadata": {},
   "source": [
    "(c) Generate an example in R with n = 100 observations in which\n",
    "the coefficient estimate for the regression of X onto Y is the\n",
    "same as the coefficient estimate for the regression of Y onto X."
   ]
  },
  {
   "cell_type": "code",
   "execution_count": 208,
   "metadata": {
    "collapsed": false
   },
   "outputs": [
    {
     "data": {
      "text/plain": [
       "x    0.119108\n",
       "dtype: float64"
      ]
     },
     "execution_count": 208,
     "metadata": {},
     "output_type": "execute_result"
    }
   ],
   "source": [
    "np.random.seed(0)\n",
    "x = np.random.normal(size=100)\n",
    "y = np.random.normal(size=100)\n",
    "model = ols(\"y ~ x + 0\", pd.DataFrame({'y':y, 'x':x})).fit()\n",
    "model.params"
   ]
  },
  {
   "cell_type": "code",
   "execution_count": 209,
   "metadata": {
    "collapsed": false
   },
   "outputs": [
    {
     "data": {
      "text/plain": [
       "y    0.112711\n",
       "dtype: float64"
      ]
     },
     "execution_count": 209,
     "metadata": {},
     "output_type": "execute_result"
    }
   ],
   "source": [
    "model = ols(\"x ~ y + 0\", pd.DataFrame({'y':y, 'x':x})).fit()\n",
    "model.params"
   ]
  },
  {
   "cell_type": "markdown",
   "metadata": {},
   "source": [
    "# 13. In this exercise you will create some simulated data and will fit simple\n",
    "linear regression models to it"
   ]
  },
  {
   "cell_type": "markdown",
   "metadata": {},
   "source": [
    "(a) Using the rnorm() function, create a vector, x, containing 100\n",
    "observations drawn from a N(0, 1) distribution. This represents\n",
    "a feature, X."
   ]
  },
  {
   "cell_type": "code",
   "execution_count": 271,
   "metadata": {
    "collapsed": false
   },
   "outputs": [],
   "source": [
    "np.random.seed(1)\n",
    "var_param = 5\n",
    "X = np.random.normal(size=100)"
   ]
  },
  {
   "cell_type": "markdown",
   "metadata": {},
   "source": [
    "(b) Using the rnorm() function, create a vector, eps, containing 100\n",
    "observations drawn from a N(0, 0.25) distribution i.e. a normal\n",
    "distribution with mean zero and variance 0.25."
   ]
  },
  {
   "cell_type": "code",
   "execution_count": 272,
   "metadata": {
    "collapsed": false
   },
   "outputs": [],
   "source": [
    "eps = np.random.normal(size=100, scale=0.25*var_param)"
   ]
  },
  {
   "cell_type": "markdown",
   "metadata": {},
   "source": [
    "(c) Using x and eps, generate a vector y according to the model"
   ]
  },
  {
   "cell_type": "code",
   "execution_count": 273,
   "metadata": {
    "collapsed": true
   },
   "outputs": [],
   "source": [
    "Y = -1 + 0.5*X + eps"
   ]
  },
  {
   "cell_type": "markdown",
   "metadata": {},
   "source": [
    "What is the length of the vector y? What are the values of β0\n",
    "and β1 in this linear model?\n",
    "````\n",
    "100, -1, 0.5\n",
    "````"
   ]
  },
  {
   "cell_type": "markdown",
   "metadata": {},
   "source": [
    "(d) Create a scatterplot displaying the relationship between x and\n",
    "y. Comment on what you observe.\n",
    "````\n",
    "slope is obviously 0.5\n",
    "average y around -1\n",
    "````"
   ]
  },
  {
   "cell_type": "code",
   "execution_count": 274,
   "metadata": {
    "collapsed": false
   },
   "outputs": [
    {
     "data": {
      "text/plain": [
       "[<matplotlib.lines.Line2D at 0x110f35ad0>]"
      ]
     },
     "execution_count": 274,
     "metadata": {},
     "output_type": "execute_result"
    },
    {
     "data": {
      "image/png": "[encoded data removed]",
      "text/plain": [
       "<matplotlib.figure.Figure at 0x1122bc250>"
      ]
     },
     "metadata": {},
     "output_type": "display_data"
    }
   ],
   "source": [
    "plt.plot(X,Y,'o')"
   ]
  },
  {
   "cell_type": "markdown",
   "metadata": {},
   "source": [
    "(e) Fit a least squares linear model to predict y using x. Comment\n",
    "on the model obtained. How do ˆ β0 and ˆ β1 compare to β0 and\n",
    "β1?\n",
    "````\n",
    "True values are within confidence intervals\n",
    "````"
   ]
  },
  {
   "cell_type": "code",
   "execution_count": 277,
   "metadata": {
    "collapsed": false
   },
   "outputs": [
    {
     "data": {
      "text/html": [
       "<table class=\"simpletable\">\n",
       "<caption>OLS Regression Results</caption>\n",
       "<tr>\n",
       "  <th>Dep. Variable:</th>            <td>Y</td>        <th>  R-squared:         </th> <td>   0.182</td>\n",
       "</tr>\n",
       "<tr>\n",
       "  <th>Model:</th>                   <td>OLS</td>       <th>  Adj. R-squared:    </th> <td>   0.174</td>\n",
       "</tr>\n",
       "<tr>\n",
       "  <th>Method:</th>             <td>Least Squares</td>  <th>  F-statistic:       </th> <td>   21.88</td>\n",
       "</tr>\n",
       "<tr>\n",
       "  <th>Date:</th>             <td>Sat, 23 Apr 2016</td> <th>  Prob (F-statistic):</th> <td>9.31e-06</td>\n",
       "</tr>\n",
       "<tr>\n",
       "  <th>Time:</th>                 <td>20:09:27</td>     <th>  Log-Likelihood:    </th> <td> -156.75</td>\n",
       "</tr>\n",
       "<tr>\n",
       "  <th>No. Observations:</th>      <td>   100</td>      <th>  AIC:               </th> <td>   317.5</td>\n",
       "</tr>\n",
       "<tr>\n",
       "  <th>Df Residuals:</th>          <td>    98</td>      <th>  BIC:               </th> <td>   322.7</td>\n",
       "</tr>\n",
       "<tr>\n",
       "  <th>Df Model:</th>              <td>     1</td>      <th>                     </th>     <td> </td>   \n",
       "</tr>\n",
       "</table>\n",
       "<table class=\"simpletable\">\n",
       "<tr>\n",
       "      <td></td>         <th>coef</th>     <th>std err</th>      <th>t</th>      <th>P>|t|</th> <th>[95.0% Conf. Int.]</th> \n",
       "</tr>\n",
       "<tr>\n",
       "  <th>Intercept</th> <td>   -0.8162</td> <td>    0.117</td> <td>   -6.948</td> <td> 0.000</td> <td>   -1.049    -0.583</td>\n",
       "</tr>\n",
       "<tr>\n",
       "  <th>X</th>         <td>    0.6193</td> <td>    0.132</td> <td>    4.677</td> <td> 0.000</td> <td>    0.357     0.882</td>\n",
       "</tr>\n",
       "</table>\n",
       "<table class=\"simpletable\">\n",
       "<tr>\n",
       "  <th>Omnibus:</th>       <td> 0.898</td> <th>  Durbin-Watson:     </th> <td>   2.157</td>\n",
       "</tr>\n",
       "<tr>\n",
       "  <th>Prob(Omnibus):</th> <td> 0.638</td> <th>  Jarque-Bera (JB):  </th> <td>   0.561</td>\n",
       "</tr>\n",
       "<tr>\n",
       "  <th>Skew:</th>          <td>-0.172</td> <th>  Prob(JB):          </th> <td>   0.755</td>\n",
       "</tr>\n",
       "<tr>\n",
       "  <th>Kurtosis:</th>      <td> 3.127</td> <th>  Cond. No.          </th> <td>    1.15</td>\n",
       "</tr>\n",
       "</table>"
      ],
      "text/plain": [
       "<class 'statsmodels.iolib.summary.Summary'>\n",
       "\"\"\"\n",
       "                            OLS Regression Results                            \n",
       "==============================================================================\n",
       "Dep. Variable:                      Y   R-squared:                       0.182\n",
       "Model:                            OLS   Adj. R-squared:                  0.174\n",
       "Method:                 Least Squares   F-statistic:                     21.88\n",
       "Date:                Sat, 23 Apr 2016   Prob (F-statistic):           9.31e-06\n",
       "Time:                        20:09:27   Log-Likelihood:                -156.75\n",
       "No. Observations:                 100   AIC:                             317.5\n",
       "Df Residuals:                      98   BIC:                             322.7\n",
       "Df Model:                           1                                         \n",
       "==============================================================================\n",
       "                 coef    std err          t      P>|t|      [95.0% Conf. Int.]\n",
       "------------------------------------------------------------------------------\n",
       "Intercept     -0.8162      0.117     -6.948      0.000        -1.049    -0.583\n",
       "X              0.6193      0.132      4.677      0.000         0.357     0.882\n",
       "==============================================================================\n",
       "Omnibus:                        0.898   Durbin-Watson:                   2.157\n",
       "Prob(Omnibus):                  0.638   Jarque-Bera (JB):                0.561\n",
       "Skew:                          -0.172   Prob(JB):                        0.755\n",
       "Kurtosis:                       3.127   Cond. No.                         1.15\n",
       "==============================================================================\n",
       "\"\"\""
      ]
     },
     "execution_count": 277,
     "metadata": {},
     "output_type": "execute_result"
    }
   ],
   "source": [
    "model = ols(\"Y ~ X\", pd.DataFrame({'Y':Y, 'X': X})).fit()\n",
    "model.summary()"
   ]
  },
  {
   "cell_type": "markdown",
   "metadata": {},
   "source": [
    "(f) Display the least squares line on the scatterplot obtained in (d).\n",
    "Draw the population regression line on the plot, in a different\n",
    "color. Use the legend() command to create an appropriate legend."
   ]
  },
  {
   "cell_type": "code",
   "execution_count": 247,
   "metadata": {
    "collapsed": false
   },
   "outputs": [
    {
     "data": {
      "text/plain": [
       "<matplotlib.legend.Legend at 0x113c3c450>"
      ]
     },
     "execution_count": 247,
     "metadata": {},
     "output_type": "execute_result"
    },
    {
     "data": {
      "image/png": "[encoded data removed]",
      "text/plain": [
       "<matplotlib.figure.Figure at 0x113194a10>"
      ]
     },
     "metadata": {},
     "output_type": "display_data"
    }
   ],
   "source": [
    "intercept = -0.99\n",
    "slope=0.52\n",
    "true_slope=0.5\n",
    "true_intercept=-1\n",
    "plt.plot(X,Y,'o')\n",
    "x_min=X.min()\n",
    "x_max=X.max()\n",
    "line1, = plt.plot([x_min, x_max],[intercept+slope*x_min, intercept + slope*x_max], 'red')\n",
    "line2, = plt.plot([x_min, x_max],[true_intercept+slope*x_min, true_intercept + slope*x_max], 'green')\n",
    "plt.legend([line1, line2], ['Regression','Population'])"
   ]
  },
  {
   "cell_type": "markdown",
   "metadata": {},
   "source": [
    "(g) Now fit a polynomial regression model that predicts y using x\n",
    "and x2. Is there evidence that the quadratic term improves the\n",
    "model fit? Explain your answer.\n",
    "````\n",
    "No, it does not. R^2 is the same, P value towards X2 says no evidence\n",
    "````"
   ]
  },
  {
   "cell_type": "code",
   "execution_count": 248,
   "metadata": {
    "collapsed": false
   },
   "outputs": [
    {
     "data": {
      "text/html": [
       "<table class=\"simpletable\">\n",
       "<caption>OLS Regression Results</caption>\n",
       "<tr>\n",
       "  <th>Dep. Variable:</th>            <td>Y</td>        <th>  R-squared:         </th> <td>   0.800</td>\n",
       "</tr>\n",
       "<tr>\n",
       "  <th>Model:</th>                   <td>OLS</td>       <th>  Adj. R-squared:    </th> <td>   0.796</td>\n",
       "</tr>\n",
       "<tr>\n",
       "  <th>Method:</th>             <td>Least Squares</td>  <th>  F-statistic:       </th> <td>   193.8</td>\n",
       "</tr>\n",
       "<tr>\n",
       "  <th>Date:</th>             <td>Sat, 23 Apr 2016</td> <th>  Prob (F-statistic):</th> <td>1.32e-34</td>\n",
       "</tr>\n",
       "<tr>\n",
       "  <th>Time:</th>                 <td>20:03:56</td>     <th>  Log-Likelihood:    </th> <td>  165.15</td>\n",
       "</tr>\n",
       "<tr>\n",
       "  <th>No. Observations:</th>      <td>   100</td>      <th>  AIC:               </th> <td>  -324.3</td>\n",
       "</tr>\n",
       "<tr>\n",
       "  <th>Df Residuals:</th>          <td>    97</td>      <th>  BIC:               </th> <td>  -316.5</td>\n",
       "</tr>\n",
       "<tr>\n",
       "  <th>Df Model:</th>              <td>     2</td>      <th>                     </th>     <td> </td>   \n",
       "</tr>\n",
       "</table>\n",
       "<table class=\"simpletable\">\n",
       "<tr>\n",
       "      <td></td>         <th>coef</th>     <th>std err</th>      <th>t</th>      <th>P>|t|</th> <th>[95.0% Conf. Int.]</th> \n",
       "</tr>\n",
       "<tr>\n",
       "  <th>Intercept</th> <td>   -0.9933</td> <td>    0.006</td> <td> -172.106</td> <td> 0.000</td> <td>   -1.005    -0.982</td>\n",
       "</tr>\n",
       "<tr>\n",
       "  <th>X</th>         <td>    0.5234</td> <td>    0.027</td> <td>   19.582</td> <td> 0.000</td> <td>    0.470     0.576</td>\n",
       "</tr>\n",
       "<tr>\n",
       "  <th>X2</th>        <td>    0.0193</td> <td>    0.106</td> <td>    0.181</td> <td> 0.856</td> <td>   -0.192     0.230</td>\n",
       "</tr>\n",
       "</table>\n",
       "<table class=\"simpletable\">\n",
       "<tr>\n",
       "  <th>Omnibus:</th>       <td> 0.893</td> <th>  Durbin-Watson:     </th> <td>   2.152</td>\n",
       "</tr>\n",
       "<tr>\n",
       "  <th>Prob(Omnibus):</th> <td> 0.640</td> <th>  Jarque-Bera (JB):  </th> <td>   0.552</td>\n",
       "</tr>\n",
       "<tr>\n",
       "  <th>Skew:</th>          <td>-0.170</td> <th>  Prob(JB):          </th> <td>   0.759</td>\n",
       "</tr>\n",
       "<tr>\n",
       "  <th>Kurtosis:</th>      <td> 3.132</td> <th>  Cond. No.          </th> <td>    22.6</td>\n",
       "</tr>\n",
       "</table>"
      ],
      "text/plain": [
       "<class 'statsmodels.iolib.summary.Summary'>\n",
       "\"\"\"\n",
       "                            OLS Regression Results                            \n",
       "==============================================================================\n",
       "Dep. Variable:                      Y   R-squared:                       0.800\n",
       "Model:                            OLS   Adj. R-squared:                  0.796\n",
       "Method:                 Least Squares   F-statistic:                     193.8\n",
       "Date:                Sat, 23 Apr 2016   Prob (F-statistic):           1.32e-34\n",
       "Time:                        20:03:56   Log-Likelihood:                 165.15\n",
       "No. Observations:                 100   AIC:                            -324.3\n",
       "Df Residuals:                      97   BIC:                            -316.5\n",
       "Df Model:                           2                                         \n",
       "==============================================================================\n",
       "                 coef    std err          t      P>|t|      [95.0% Conf. Int.]\n",
       "------------------------------------------------------------------------------\n",
       "Intercept     -0.9933      0.006   -172.106      0.000        -1.005    -0.982\n",
       "X              0.5234      0.027     19.582      0.000         0.470     0.576\n",
       "X2             0.0193      0.106      0.181      0.856        -0.192     0.230\n",
       "==============================================================================\n",
       "Omnibus:                        0.893   Durbin-Watson:                   2.152\n",
       "Prob(Omnibus):                  0.640   Jarque-Bera (JB):                0.552\n",
       "Skew:                          -0.170   Prob(JB):                        0.759\n",
       "Kurtosis:                       3.132   Cond. No.                         22.6\n",
       "==============================================================================\n",
       "\"\"\""
      ]
     },
     "execution_count": 248,
     "metadata": {},
     "output_type": "execute_result"
    }
   ],
   "source": [
    "model = ols(\"Y ~ X+X2\", pd.DataFrame({'Y':Y, 'X': X, 'X2':X**2})).fit()\n",
    "model.summary()"
   ]
  },
  {
   "cell_type": "markdown",
   "metadata": {},
   "source": [
    "(i) Repeat (a)–(f) after modifying the data generation process in\n",
    "such a way that there is more noise in the data. The model\n",
    "(3.39) should remain the same. You can do this by increasing\n",
    "the variance of the normal distribution used to generate the\n",
    "error term \u0003 in (b). Describe your results.\n",
    "\n",
    "````\n",
    "Intercept coefficient is much closer to the expected vals (-0.99 vs -0.96)\n",
    "Slope is roughly the same - we actually need more variance to estimate this better\n",
    "````"
   ]
  },
  {
   "cell_type": "markdown",
   "metadata": {},
   "source": [
    "(j) What are the confidence intervals for β0 and β1 based on the\n",
    "original data set, the noisier data set, and the less noisy data\n",
    "set? Comment on your results.\n",
    "````\n",
    "More noize obviously yields wider intervals\n",
    "normal: -1.010 -0.917. 0.471 0.576\n",
    "1/5:    -1.010 -0.917  0.471 0.576\n",
    "5x:     -1.049 -0.583  0.357 0.882\n",
    "````"
   ]
  },
  {
   "cell_type": "markdown",
   "metadata": {},
   "source": [
    "# 14. This problem focuses on the collinearity problem."
   ]
  },
  {
   "cell_type": "code",
   "execution_count": 289,
   "metadata": {
    "collapsed": false
   },
   "outputs": [],
   "source": [
    "np.random.seed(10)\n",
    "x1 = np.random.uniform(size=100)\n",
    "x2 = 0.5 *x1 + np.random.normal(100)/10\n",
    "y= 2+2* x1 +0.3* x2+np.random.normal(100)\n",
    "data = pd.DataFrame({'x1':x1, 'y':y, 'x2':x2})"
   ]
  },
  {
   "cell_type": "code",
   "execution_count": 286,
   "metadata": {
    "collapsed": false
   },
   "outputs": [
    {
     "data": {
      "text/html": [
       "<div>\n",
       "<table border=\"1\" class=\"dataframe\">\n",
       "  <thead>\n",
       "    <tr style=\"text-align: right;\">\n",
       "      <th></th>\n",
       "      <th>x1</th>\n",
       "      <th>x2</th>\n",
       "      <th>y</th>\n",
       "    </tr>\n",
       "  </thead>\n",
       "  <tbody>\n",
       "    <tr>\n",
       "      <th>x1</th>\n",
       "      <td>1.0</td>\n",
       "      <td>1.0</td>\n",
       "      <td>1.0</td>\n",
       "    </tr>\n",
       "    <tr>\n",
       "      <th>x2</th>\n",
       "      <td>1.0</td>\n",
       "      <td>1.0</td>\n",
       "      <td>1.0</td>\n",
       "    </tr>\n",
       "    <tr>\n",
       "      <th>y</th>\n",
       "      <td>1.0</td>\n",
       "      <td>1.0</td>\n",
       "      <td>1.0</td>\n",
       "    </tr>\n",
       "  </tbody>\n",
       "</table>\n",
       "</div>"
      ],
      "text/plain": [
       "     x1   x2    y\n",
       "x1  1.0  1.0  1.0\n",
       "x2  1.0  1.0  1.0\n",
       "y   1.0  1.0  1.0"
      ]
     },
     "execution_count": 286,
     "metadata": {},
     "output_type": "execute_result"
    }
   ],
   "source": [
    "data.corr()"
   ]
  },
  {
   "cell_type": "markdown",
   "metadata": {},
   "source": [
    "(b) What is the correlation between x1 and x2? Create a scatterplot\n",
    "displaying the relationship between the variables."
   ]
  },
  {
   "cell_type": "code",
   "execution_count": 288,
   "metadata": {
    "collapsed": false
   },
   "outputs": [
    {
     "data": {
      "image/png": "[encoded data removed]",
      "text/plain": [
       "<matplotlib.figure.Figure at 0x111c6c290>"
      ]
     },
     "metadata": {},
     "output_type": "display_data"
    }
   ],
   "source": [
    "axes = pd.tools.plotting.scatter_matrix(data, alpha=0.2)\n",
    "fig = plt.gcf()\n",
    "fig.set_size_inches(15, 15)"
   ]
  },
  {
   "cell_type": "code",
   "execution_count": 290,
   "metadata": {
    "collapsed": false
   },
   "outputs": [
    {
     "data": {
      "text/html": [
       "<table class=\"simpletable\">\n",
       "<caption>OLS Regression Results</caption>\n",
       "<tr>\n",
       "  <th>Dep. Variable:</th>            <td>y</td>        <th>  R-squared:         </th> <td>   1.000</td> \n",
       "</tr>\n",
       "<tr>\n",
       "  <th>Model:</th>                   <td>OLS</td>       <th>  Adj. R-squared:    </th> <td>   1.000</td> \n",
       "</tr>\n",
       "<tr>\n",
       "  <th>Method:</th>             <td>Least Squares</td>  <th>  F-statistic:       </th> <td>9.218e+28</td>\n",
       "</tr>\n",
       "<tr>\n",
       "  <th>Date:</th>             <td>Sat, 23 Apr 2016</td> <th>  Prob (F-statistic):</th>  <td>  0.00</td>  \n",
       "</tr>\n",
       "<tr>\n",
       "  <th>Time:</th>                 <td>20:21:13</td>     <th>  Log-Likelihood:    </th> <td>  3016.1</td> \n",
       "</tr>\n",
       "<tr>\n",
       "  <th>No. Observations:</th>      <td>   100</td>      <th>  AIC:               </th> <td>  -6028.</td> \n",
       "</tr>\n",
       "<tr>\n",
       "  <th>Df Residuals:</th>          <td>    98</td>      <th>  BIC:               </th> <td>  -6023.</td> \n",
       "</tr>\n",
       "<tr>\n",
       "  <th>Df Model:</th>              <td>     1</td>      <th>                     </th>     <td> </td>    \n",
       "</tr>\n",
       "</table>\n",
       "<table class=\"simpletable\">\n",
       "<tr>\n",
       "      <td></td>         <th>coef</th>     <th>std err</th>      <th>t</th>      <th>P>|t|</th> <th>[95.0% Conf. Int.]</th> \n",
       "</tr>\n",
       "<tr>\n",
       "  <th>Intercept</th> <td>    1.1667</td> <td> 3.88e-16</td> <td> 3.01e+15</td> <td> 0.000</td> <td>    1.167     1.167</td>\n",
       "</tr>\n",
       "<tr>\n",
       "  <th>x1</th>        <td>   -2.9985</td> <td> 7.23e-15</td> <td>-4.15e+14</td> <td> 0.000</td> <td>   -2.999    -2.999</td>\n",
       "</tr>\n",
       "<tr>\n",
       "  <th>x2</th>        <td>   10.2970</td> <td> 3.57e-16</td> <td> 2.89e+16</td> <td> 0.000</td> <td>   10.297    10.297</td>\n",
       "</tr>\n",
       "</table>\n",
       "<table class=\"simpletable\">\n",
       "<tr>\n",
       "  <th>Omnibus:</th>       <td> 3.681</td> <th>  Durbin-Watson:     </th> <td>   0.560</td>\n",
       "</tr>\n",
       "<tr>\n",
       "  <th>Prob(Omnibus):</th> <td> 0.159</td> <th>  Jarque-Bera (JB):  </th> <td>   2.392</td>\n",
       "</tr>\n",
       "<tr>\n",
       "  <th>Skew:</th>          <td> 0.180</td> <th>  Prob(JB):          </th> <td>   0.302</td>\n",
       "</tr>\n",
       "<tr>\n",
       "  <th>Kurtosis:</th>      <td> 2.333</td> <th>  Cond. No.          </th> <td>6.75e+08</td>\n",
       "</tr>\n",
       "</table>"
      ],
      "text/plain": [
       "<class 'statsmodels.iolib.summary.Summary'>\n",
       "\"\"\"\n",
       "                            OLS Regression Results                            \n",
       "==============================================================================\n",
       "Dep. Variable:                      y   R-squared:                       1.000\n",
       "Model:                            OLS   Adj. R-squared:                  1.000\n",
       "Method:                 Least Squares   F-statistic:                 9.218e+28\n",
       "Date:                Sat, 23 Apr 2016   Prob (F-statistic):               0.00\n",
       "Time:                        20:21:13   Log-Likelihood:                 3016.1\n",
       "No. Observations:                 100   AIC:                            -6028.\n",
       "Df Residuals:                      98   BIC:                            -6023.\n",
       "Df Model:                           1                                         \n",
       "==============================================================================\n",
       "                 coef    std err          t      P>|t|      [95.0% Conf. Int.]\n",
       "------------------------------------------------------------------------------\n",
       "Intercept      1.1667   3.88e-16   3.01e+15      0.000         1.167     1.167\n",
       "x1            -2.9985   7.23e-15  -4.15e+14      0.000        -2.999    -2.999\n",
       "x2            10.2970   3.57e-16   2.89e+16      0.000        10.297    10.297\n",
       "==============================================================================\n",
       "Omnibus:                        3.681   Durbin-Watson:                   0.560\n",
       "Prob(Omnibus):                  0.159   Jarque-Bera (JB):                2.392\n",
       "Skew:                           0.180   Prob(JB):                        0.302\n",
       "Kurtosis:                       2.333   Cond. No.                     6.75e+08\n",
       "==============================================================================\n",
       "\n",
       "Warnings:\n",
       "[1] The smallest eigenvalue is 2.38e-14. This might indicate that there are\n",
       "strong multicollinearity problems or that the design matrix is singular.\n",
       "\"\"\""
      ]
     },
     "execution_count": 290,
     "metadata": {},
     "output_type": "execute_result"
    }
   ],
   "source": [
    "model = ols(\"y ~ x1 + x2\", data).fit()\n",
    "model.summary()"
   ]
  },
  {
   "cell_type": "markdown",
   "metadata": {},
   "source": [
    "(c) Using this data, fit a least squares regression to predict y using\n",
    "x1 and x2. Describe the results obtained. What are ˆ β0, ˆ β1, and\n",
    "ˆ β2? How do these relate to the true β0, β1, and β2? Can you\n",
    "reject the null hypothesis H0 : β1 = 0? How about the null\n",
    "hypothesis H0 : β2 = 0?\n",
    "````\n",
    "P vals kinda say that the coefficients are not 0, but values largely differ from the true ones\n",
    "````"
   ]
  },
  {
   "cell_type": "markdown",
   "metadata": {},
   "source": [
    "(d) Now fit a least squares regression to predict y using only x1.\n",
    "Comment on your results. Can you reject the null hypothesis\n",
    "H0 : β1 = 0?\n",
    "````\n",
    "Yes\n",
    "````"
   ]
  },
  {
   "cell_type": "code",
   "execution_count": 293,
   "metadata": {
    "collapsed": false
   },
   "outputs": [
    {
     "data": {
      "text/html": [
       "<table class=\"simpletable\">\n",
       "<caption>OLS Regression Results</caption>\n",
       "<tr>\n",
       "  <th>Dep. Variable:</th>            <td>y</td>        <th>  R-squared:         </th> <td>   1.000</td> \n",
       "</tr>\n",
       "<tr>\n",
       "  <th>Model:</th>                   <td>OLS</td>       <th>  Adj. R-squared:    </th> <td>   1.000</td> \n",
       "</tr>\n",
       "<tr>\n",
       "  <th>Method:</th>             <td>Least Squares</td>  <th>  F-statistic:       </th> <td>1.214e+28</td>\n",
       "</tr>\n",
       "<tr>\n",
       "  <th>Date:</th>             <td>Sat, 23 Apr 2016</td> <th>  Prob (F-statistic):</th>  <td>  0.00</td>  \n",
       "</tr>\n",
       "<tr>\n",
       "  <th>Time:</th>                 <td>20:23:32</td>     <th>  Log-Likelihood:    </th> <td>  2914.7</td> \n",
       "</tr>\n",
       "<tr>\n",
       "  <th>No. Observations:</th>      <td>   100</td>      <th>  AIC:               </th> <td>  -5825.</td> \n",
       "</tr>\n",
       "<tr>\n",
       "  <th>Df Residuals:</th>          <td>    98</td>      <th>  BIC:               </th> <td>  -5820.</td> \n",
       "</tr>\n",
       "<tr>\n",
       "  <th>Df Model:</th>              <td>     1</td>      <th>                     </th>     <td> </td>    \n",
       "</tr>\n",
       "</table>\n",
       "<table class=\"simpletable\">\n",
       "<tr>\n",
       "      <td></td>         <th>coef</th>     <th>std err</th>      <th>t</th>      <th>P>|t|</th> <th>[95.0% Conf. Int.]</th> \n",
       "</tr>\n",
       "<tr>\n",
       "  <th>Intercept</th> <td>  105.2778</td> <td> 1.09e-14</td> <td> 9.67e+15</td> <td> 0.000</td> <td>  105.278   105.278</td>\n",
       "</tr>\n",
       "<tr>\n",
       "  <th>x1</th>        <td>    2.1500</td> <td> 1.95e-14</td> <td>  1.1e+14</td> <td> 0.000</td> <td>    2.150     2.150</td>\n",
       "</tr>\n",
       "</table>\n",
       "<table class=\"simpletable\">\n",
       "<tr>\n",
       "  <th>Omnibus:</th>       <td>38.422</td> <th>  Durbin-Watson:     </th> <td>   0.027</td>\n",
       "</tr>\n",
       "<tr>\n",
       "  <th>Prob(Omnibus):</th> <td> 0.000</td> <th>  Jarque-Bera (JB):  </th> <td>  19.725</td>\n",
       "</tr>\n",
       "<tr>\n",
       "  <th>Skew:</th>          <td> 0.926</td> <th>  Prob(JB):          </th> <td>5.21e-05</td>\n",
       "</tr>\n",
       "<tr>\n",
       "  <th>Kurtosis:</th>      <td> 1.857</td> <th>  Cond. No.          </th> <td>    4.55</td>\n",
       "</tr>\n",
       "</table>"
      ],
      "text/plain": [
       "<class 'statsmodels.iolib.summary.Summary'>\n",
       "\"\"\"\n",
       "                            OLS Regression Results                            \n",
       "==============================================================================\n",
       "Dep. Variable:                      y   R-squared:                       1.000\n",
       "Model:                            OLS   Adj. R-squared:                  1.000\n",
       "Method:                 Least Squares   F-statistic:                 1.214e+28\n",
       "Date:                Sat, 23 Apr 2016   Prob (F-statistic):               0.00\n",
       "Time:                        20:23:32   Log-Likelihood:                 2914.7\n",
       "No. Observations:                 100   AIC:                            -5825.\n",
       "Df Residuals:                      98   BIC:                            -5820.\n",
       "Df Model:                           1                                         \n",
       "==============================================================================\n",
       "                 coef    std err          t      P>|t|      [95.0% Conf. Int.]\n",
       "------------------------------------------------------------------------------\n",
       "Intercept    105.2778   1.09e-14   9.67e+15      0.000       105.278   105.278\n",
       "x1             2.1500   1.95e-14    1.1e+14      0.000         2.150     2.150\n",
       "==============================================================================\n",
       "Omnibus:                       38.422   Durbin-Watson:                   0.027\n",
       "Prob(Omnibus):                  0.000   Jarque-Bera (JB):               19.725\n",
       "Skew:                           0.926   Prob(JB):                     5.21e-05\n",
       "Kurtosis:                       1.857   Cond. No.                         4.55\n",
       "==============================================================================\n",
       "\"\"\""
      ]
     },
     "execution_count": 293,
     "metadata": {},
     "output_type": "execute_result"
    }
   ],
   "source": [
    "model = ols(\"y ~ x1\", data).fit()\n",
    "model.summary()"
   ]
  },
  {
   "cell_type": "code",
   "execution_count": 294,
   "metadata": {
    "collapsed": false
   },
   "outputs": [
    {
     "data": {
      "text/html": [
       "<table class=\"simpletable\">\n",
       "<caption>OLS Regression Results</caption>\n",
       "<tr>\n",
       "  <th>Dep. Variable:</th>            <td>y</td>        <th>  R-squared:         </th> <td>   1.000</td> \n",
       "</tr>\n",
       "<tr>\n",
       "  <th>Model:</th>                   <td>OLS</td>       <th>  Adj. R-squared:    </th> <td>   1.000</td> \n",
       "</tr>\n",
       "<tr>\n",
       "  <th>Method:</th>             <td>Least Squares</td>  <th>  F-statistic:       </th> <td>8.698e+28</td>\n",
       "</tr>\n",
       "<tr>\n",
       "  <th>Date:</th>             <td>Sat, 23 Apr 2016</td> <th>  Prob (F-statistic):</th>  <td>  0.00</td>  \n",
       "</tr>\n",
       "<tr>\n",
       "  <th>Time:</th>                 <td>20:27:35</td>     <th>  Log-Likelihood:    </th> <td>  3013.2</td> \n",
       "</tr>\n",
       "<tr>\n",
       "  <th>No. Observations:</th>      <td>   100</td>      <th>  AIC:               </th> <td>  -6022.</td> \n",
       "</tr>\n",
       "<tr>\n",
       "  <th>Df Residuals:</th>          <td>    98</td>      <th>  BIC:               </th> <td>  -6017.</td> \n",
       "</tr>\n",
       "<tr>\n",
       "  <th>Df Model:</th>              <td>     1</td>      <th>                     </th>     <td> </td>    \n",
       "</tr>\n",
       "</table>\n",
       "<table class=\"simpletable\">\n",
       "<tr>\n",
       "      <td></td>         <th>coef</th>     <th>std err</th>      <th>t</th>      <th>P>|t|</th> <th>[95.0% Conf. Int.]</th> \n",
       "</tr>\n",
       "<tr>\n",
       "  <th>Intercept</th> <td>   61.8015</td> <td> 1.51e-13</td> <td> 4.09e+14</td> <td> 0.000</td> <td>   61.801    61.801</td>\n",
       "</tr>\n",
       "<tr>\n",
       "  <th>x2</th>        <td>    4.3000</td> <td> 1.46e-14</td> <td> 2.95e+14</td> <td> 0.000</td> <td>    4.300     4.300</td>\n",
       "</tr>\n",
       "</table>\n",
       "<table class=\"simpletable\">\n",
       "<tr>\n",
       "  <th>Omnibus:</th>       <td> 3.442</td> <th>  Durbin-Watson:     </th> <td>   0.415</td>\n",
       "</tr>\n",
       "<tr>\n",
       "  <th>Prob(Omnibus):</th> <td> 0.179</td> <th>  Jarque-Bera (JB):  </th> <td>   2.520</td>\n",
       "</tr>\n",
       "<tr>\n",
       "  <th>Skew:</th>          <td> 0.233</td> <th>  Prob(JB):          </th> <td>   0.284</td>\n",
       "</tr>\n",
       "<tr>\n",
       "  <th>Kurtosis:</th>      <td> 2.378</td> <th>  Cond. No.          </th> <td>    787.</td>\n",
       "</tr>\n",
       "</table>"
      ],
      "text/plain": [
       "<class 'statsmodels.iolib.summary.Summary'>\n",
       "\"\"\"\n",
       "                            OLS Regression Results                            \n",
       "==============================================================================\n",
       "Dep. Variable:                      y   R-squared:                       1.000\n",
       "Model:                            OLS   Adj. R-squared:                  1.000\n",
       "Method:                 Least Squares   F-statistic:                 8.698e+28\n",
       "Date:                Sat, 23 Apr 2016   Prob (F-statistic):               0.00\n",
       "Time:                        20:27:35   Log-Likelihood:                 3013.2\n",
       "No. Observations:                 100   AIC:                            -6022.\n",
       "Df Residuals:                      98   BIC:                            -6017.\n",
       "Df Model:                           1                                         \n",
       "==============================================================================\n",
       "                 coef    std err          t      P>|t|      [95.0% Conf. Int.]\n",
       "------------------------------------------------------------------------------\n",
       "Intercept     61.8015   1.51e-13   4.09e+14      0.000        61.801    61.801\n",
       "x2             4.3000   1.46e-14   2.95e+14      0.000         4.300     4.300\n",
       "==============================================================================\n",
       "Omnibus:                        3.442   Durbin-Watson:                   0.415\n",
       "Prob(Omnibus):                  0.179   Jarque-Bera (JB):                2.520\n",
       "Skew:                           0.233   Prob(JB):                        0.284\n",
       "Kurtosis:                       2.378   Cond. No.                         787.\n",
       "==============================================================================\n",
       "\"\"\""
      ]
     },
     "execution_count": 294,
     "metadata": {},
     "output_type": "execute_result"
    }
   ],
   "source": [
    "model = ols(\"y ~ x2\", data).fit()\n",
    "model.summary()"
   ]
  },
  {
   "cell_type": "markdown",
   "metadata": {},
   "source": [
    "(f) Do the results obtained in (c)–(e) contradict each other? Explain\n",
    "your answer.\n",
    "````\n",
    "That's how x1/x2 regression would look like with another value being ignored. Multiple regression has coefficients somewhat by chance.\n",
    "````"
   ]
  },
  {
   "cell_type": "markdown",
   "metadata": {},
   "source": [
    "(g) Now suppose we obtain one additional observation, which was\n",
    "unfortunately mismeasured."
   ]
  },
  {
   "cell_type": "code",
   "execution_count": 300,
   "metadata": {
    "collapsed": false
   },
   "outputs": [
    {
     "data": {
      "text/html": [
       "<div>\n",
       "<table border=\"1\" class=\"dataframe\">\n",
       "  <thead>\n",
       "    <tr style=\"text-align: right;\">\n",
       "      <th></th>\n",
       "      <th>x1</th>\n",
       "      <th>x2</th>\n",
       "      <th>y</th>\n",
       "    </tr>\n",
       "  </thead>\n",
       "  <tbody>\n",
       "    <tr>\n",
       "      <th>x1</th>\n",
       "      <td>1.000000</td>\n",
       "      <td>0.291876</td>\n",
       "      <td>0.233651</td>\n",
       "    </tr>\n",
       "    <tr>\n",
       "      <th>x2</th>\n",
       "      <td>0.291876</td>\n",
       "      <td>1.000000</td>\n",
       "      <td>0.998179</td>\n",
       "    </tr>\n",
       "    <tr>\n",
       "      <th>y</th>\n",
       "      <td>0.233651</td>\n",
       "      <td>0.998179</td>\n",
       "      <td>1.000000</td>\n",
       "    </tr>\n",
       "  </tbody>\n",
       "</table>\n",
       "</div>"
      ],
      "text/plain": [
       "          x1        x2         y\n",
       "x1  1.000000  0.291876  0.233651\n",
       "x2  0.291876  1.000000  0.998179\n",
       "y   0.233651  0.998179  1.000000"
      ]
     },
     "execution_count": 300,
     "metadata": {},
     "output_type": "execute_result"
    }
   ],
   "source": [
    "x1 = np.append(x1, 0.1)\n",
    "x2 = np.append(x2, 0.8)\n",
    "y = np.append(y, 6)\n",
    "data = pd.DataFrame({'x1':x1, 'y':y, 'x2':x2})\n",
    "data.corr()"
   ]
  },
  {
   "cell_type": "code",
   "execution_count": 301,
   "metadata": {
    "collapsed": false
   },
   "outputs": [
    {
     "data": {
      "text/html": [
       "<table class=\"simpletable\">\n",
       "<caption>OLS Regression Results</caption>\n",
       "<tr>\n",
       "  <th>Dep. Variable:</th>            <td>y</td>        <th>  R-squared:         </th> <td>   1.000</td> \n",
       "</tr>\n",
       "<tr>\n",
       "  <th>Model:</th>                   <td>OLS</td>       <th>  Adj. R-squared:    </th> <td>   1.000</td> \n",
       "</tr>\n",
       "<tr>\n",
       "  <th>Method:</th>             <td>Least Squares</td>  <th>  F-statistic:       </th> <td>3.752e+30</td>\n",
       "</tr>\n",
       "<tr>\n",
       "  <th>Date:</th>             <td>Sat, 23 Apr 2016</td> <th>  Prob (F-statistic):</th>  <td>  0.00</td>  \n",
       "</tr>\n",
       "<tr>\n",
       "  <th>Time:</th>                 <td>20:31:14</td>     <th>  Log-Likelihood:    </th> <td>  2978.0</td> \n",
       "</tr>\n",
       "<tr>\n",
       "  <th>No. Observations:</th>      <td>   102</td>      <th>  AIC:               </th> <td>  -5950.</td> \n",
       "</tr>\n",
       "<tr>\n",
       "  <th>Df Residuals:</th>          <td>    99</td>      <th>  BIC:               </th> <td>  -5942.</td> \n",
       "</tr>\n",
       "<tr>\n",
       "  <th>Df Model:</th>              <td>     2</td>      <th>                     </th>     <td> </td>    \n",
       "</tr>\n",
       "</table>\n",
       "<table class=\"simpletable\">\n",
       "<tr>\n",
       "      <td></td>         <th>coef</th>     <th>std err</th>      <th>t</th>      <th>P>|t|</th> <th>[95.0% Conf. Int.]</th> \n",
       "</tr>\n",
       "<tr>\n",
       "  <th>Intercept</th> <td>   -2.1865</td> <td> 3.92e-14</td> <td>-5.57e+13</td> <td> 0.000</td> <td>   -2.187    -2.187</td>\n",
       "</tr>\n",
       "<tr>\n",
       "  <th>x1</th>        <td>   -3.1643</td> <td> 1.92e-14</td> <td>-1.65e+14</td> <td> 0.000</td> <td>   -3.164    -3.164</td>\n",
       "</tr>\n",
       "<tr>\n",
       "  <th>x2</th>        <td>   10.6287</td> <td> 3.99e-15</td> <td> 2.66e+15</td> <td> 0.000</td> <td>   10.629    10.629</td>\n",
       "</tr>\n",
       "</table>\n",
       "<table class=\"simpletable\">\n",
       "<tr>\n",
       "  <th>Omnibus:</th>       <td>41.955</td> <th>  Durbin-Watson:     </th> <td>   0.109</td>\n",
       "</tr>\n",
       "<tr>\n",
       "  <th>Prob(Omnibus):</th> <td> 0.000</td> <th>  Jarque-Bera (JB):  </th> <td> 124.976</td>\n",
       "</tr>\n",
       "<tr>\n",
       "  <th>Skew:</th>          <td>-1.430</td> <th>  Prob(JB):          </th> <td>7.28e-28</td>\n",
       "</tr>\n",
       "<tr>\n",
       "  <th>Kurtosis:</th>      <td> 7.607</td> <th>  Cond. No.          </th> <td>    80.0</td>\n",
       "</tr>\n",
       "</table>"
      ],
      "text/plain": [
       "<class 'statsmodels.iolib.summary.Summary'>\n",
       "\"\"\"\n",
       "                            OLS Regression Results                            \n",
       "==============================================================================\n",
       "Dep. Variable:                      y   R-squared:                       1.000\n",
       "Model:                            OLS   Adj. R-squared:                  1.000\n",
       "Method:                 Least Squares   F-statistic:                 3.752e+30\n",
       "Date:                Sat, 23 Apr 2016   Prob (F-statistic):               0.00\n",
       "Time:                        20:31:14   Log-Likelihood:                 2978.0\n",
       "No. Observations:                 102   AIC:                            -5950.\n",
       "Df Residuals:                      99   BIC:                            -5942.\n",
       "Df Model:                           2                                         \n",
       "==============================================================================\n",
       "                 coef    std err          t      P>|t|      [95.0% Conf. Int.]\n",
       "------------------------------------------------------------------------------\n",
       "Intercept     -2.1865   3.92e-14  -5.57e+13      0.000        -2.187    -2.187\n",
       "x1            -3.1643   1.92e-14  -1.65e+14      0.000        -3.164    -3.164\n",
       "x2            10.6287   3.99e-15   2.66e+15      0.000        10.629    10.629\n",
       "==============================================================================\n",
       "Omnibus:                       41.955   Durbin-Watson:                   0.109\n",
       "Prob(Omnibus):                  0.000   Jarque-Bera (JB):              124.976\n",
       "Skew:                          -1.430   Prob(JB):                     7.28e-28\n",
       "Kurtosis:                       7.607   Cond. No.                         80.0\n",
       "==============================================================================\n",
       "\"\"\""
      ]
     },
     "execution_count": 301,
     "metadata": {},
     "output_type": "execute_result"
    }
   ],
   "source": [
    "model = ols(\"y ~ x1 + x2\", data).fit()\n",
    "model.summary()"
   ]
  },
  {
   "cell_type": "code",
   "execution_count": 305,
   "metadata": {
    "collapsed": false
   },
   "outputs": [
    {
     "data": {
      "image/png": "[encoded data removed]",
      "text/plain": [
       "<matplotlib.figure.Figure at 0x119213ad0>"
      ]
     },
     "metadata": {},
     "output_type": "display_data"
    }
   ],
   "source": [
    "fig, ax = plt.subplots(figsize=(8,6))\n",
    "fig = plot_leverage_resid2(model, ax = ax)"
   ]
  },
  {
   "cell_type": "code",
   "execution_count": 321,
   "metadata": {
    "collapsed": false
   },
   "outputs": [
    {
     "data": {
      "text/plain": [
       "[<matplotlib.lines.Line2D at 0x118f29f10>]"
      ]
     },
     "execution_count": 321,
     "metadata": {},
     "output_type": "execute_result"
    },
    {
     "data": {
      "image/png": "[encoded data removed]",
      "text/plain": [
       "<matplotlib.figure.Figure at 0x1188d1790>"
      ]
     },
     "metadata": {},
     "output_type": "display_data"
    }
   ],
   "source": [
    "fitted = model.predict()\n",
    "residuals = fitted - y\n",
    "plt.plot(fitted, residuals,'o')"
   ]
  },
  {
   "cell_type": "code",
   "execution_count": 302,
   "metadata": {
    "collapsed": false
   },
   "outputs": [
    {
     "data": {
      "text/html": [
       "<table class=\"simpletable\">\n",
       "<caption>OLS Regression Results</caption>\n",
       "<tr>\n",
       "  <th>Dep. Variable:</th>            <td>y</td>        <th>  R-squared:         </th> <td>   0.055</td>\n",
       "</tr>\n",
       "<tr>\n",
       "  <th>Model:</th>                   <td>OLS</td>       <th>  Adj. R-squared:    </th> <td>   0.045</td>\n",
       "</tr>\n",
       "<tr>\n",
       "  <th>Method:</th>             <td>Least Squares</td>  <th>  F-statistic:       </th> <td>   5.775</td>\n",
       "</tr>\n",
       "<tr>\n",
       "  <th>Date:</th>             <td>Sat, 23 Apr 2016</td> <th>  Prob (F-statistic):</th>  <td>0.0181</td> \n",
       "</tr>\n",
       "<tr>\n",
       "  <th>Time:</th>                 <td>20:31:21</td>     <th>  Log-Likelihood:    </th> <td> -410.48</td>\n",
       "</tr>\n",
       "<tr>\n",
       "  <th>No. Observations:</th>      <td>   102</td>      <th>  AIC:               </th> <td>   825.0</td>\n",
       "</tr>\n",
       "<tr>\n",
       "  <th>Df Residuals:</th>          <td>   100</td>      <th>  BIC:               </th> <td>   830.2</td>\n",
       "</tr>\n",
       "<tr>\n",
       "  <th>Df Model:</th>              <td>     1</td>      <th>                     </th>     <td> </td>   \n",
       "</tr>\n",
       "</table>\n",
       "<table class=\"simpletable\">\n",
       "<tr>\n",
       "      <td></td>         <th>coef</th>     <th>std err</th>      <th>t</th>      <th>P>|t|</th> <th>[95.0% Conf. Int.]</th> \n",
       "</tr>\n",
       "<tr>\n",
       "  <th>Intercept</th> <td>   98.7527</td> <td>    2.696</td> <td>   36.636</td> <td> 0.000</td> <td>   93.405   104.101</td>\n",
       "</tr>\n",
       "<tr>\n",
       "  <th>x1</th>        <td>   11.7236</td> <td>    4.879</td> <td>    2.403</td> <td> 0.018</td> <td>    2.044    21.403</td>\n",
       "</tr>\n",
       "</table>\n",
       "<table class=\"simpletable\">\n",
       "<tr>\n",
       "  <th>Omnibus:</th>       <td>169.002</td> <th>  Durbin-Watson:     </th> <td>   0.569</td>\n",
       "</tr>\n",
       "<tr>\n",
       "  <th>Prob(Omnibus):</th> <td> 0.000</td>  <th>  Jarque-Bera (JB):  </th> <td>8387.239</td>\n",
       "</tr>\n",
       "<tr>\n",
       "  <th>Skew:</th>          <td>-6.533</td>  <th>  Prob(JB):          </th> <td>    0.00</td>\n",
       "</tr>\n",
       "<tr>\n",
       "  <th>Kurtosis:</th>      <td>45.459</td>  <th>  Cond. No.          </th> <td>    4.48</td>\n",
       "</tr>\n",
       "</table>"
      ],
      "text/plain": [
       "<class 'statsmodels.iolib.summary.Summary'>\n",
       "\"\"\"\n",
       "                            OLS Regression Results                            \n",
       "==============================================================================\n",
       "Dep. Variable:                      y   R-squared:                       0.055\n",
       "Model:                            OLS   Adj. R-squared:                  0.045\n",
       "Method:                 Least Squares   F-statistic:                     5.775\n",
       "Date:                Sat, 23 Apr 2016   Prob (F-statistic):             0.0181\n",
       "Time:                        20:31:21   Log-Likelihood:                -410.48\n",
       "No. Observations:                 102   AIC:                             825.0\n",
       "Df Residuals:                     100   BIC:                             830.2\n",
       "Df Model:                           1                                         \n",
       "==============================================================================\n",
       "                 coef    std err          t      P>|t|      [95.0% Conf. Int.]\n",
       "------------------------------------------------------------------------------\n",
       "Intercept     98.7527      2.696     36.636      0.000        93.405   104.101\n",
       "x1            11.7236      4.879      2.403      0.018         2.044    21.403\n",
       "==============================================================================\n",
       "Omnibus:                      169.002   Durbin-Watson:                   0.569\n",
       "Prob(Omnibus):                  0.000   Jarque-Bera (JB):             8387.239\n",
       "Skew:                          -6.533   Prob(JB):                         0.00\n",
       "Kurtosis:                      45.459   Cond. No.                         4.48\n",
       "==============================================================================\n",
       "\"\"\""
      ]
     },
     "execution_count": 302,
     "metadata": {},
     "output_type": "execute_result"
    }
   ],
   "source": [
    "model = ols(\"y ~ x1\", data).fit()\n",
    "model.summary()"
   ]
  },
  {
   "cell_type": "code",
   "execution_count": 306,
   "metadata": {
    "collapsed": false
   },
   "outputs": [
    {
     "data": {
      "image/png": "[encoded data removed]",
      "text/plain": [
       "<matplotlib.figure.Figure at 0x118fbfcd0>"
      ]
     },
     "metadata": {},
     "output_type": "display_data"
    }
   ],
   "source": [
    "fig, ax = plt.subplots(figsize=(8,6))\n",
    "fig = plot_leverage_resid2(model, ax = ax)"
   ]
  },
  {
   "cell_type": "code",
   "execution_count": 320,
   "metadata": {
    "collapsed": false
   },
   "outputs": [
    {
     "data": {
      "text/plain": [
       "[<matplotlib.lines.Line2D at 0x11b499650>]"
      ]
     },
     "execution_count": 320,
     "metadata": {},
     "output_type": "execute_result"
    },
    {
     "data": {
      "image/png": "[encoded data removed]",
      "text/plain": [
       "<matplotlib.figure.Figure at 0x118a05250>"
      ]
     },
     "metadata": {},
     "output_type": "display_data"
    }
   ],
   "source": [
    "fitted = model.predict()\n",
    "residuals = fitted - y\n",
    "plt.plot(fitted, residuals,'o')"
   ]
  },
  {
   "cell_type": "code",
   "execution_count": 310,
   "metadata": {
    "collapsed": false
   },
   "outputs": [
    {
     "data": {
      "text/html": [
       "<table class=\"simpletable\">\n",
       "<caption>OLS Regression Results</caption>\n",
       "<tr>\n",
       "  <th>Dep. Variable:</th>            <td>y</td>        <th>  R-squared:         </th> <td>   0.996</td> \n",
       "</tr>\n",
       "<tr>\n",
       "  <th>Model:</th>                   <td>OLS</td>       <th>  Adj. R-squared:    </th> <td>   0.996</td> \n",
       "</tr>\n",
       "<tr>\n",
       "  <th>Method:</th>             <td>Least Squares</td>  <th>  F-statistic:       </th> <td>2.738e+04</td>\n",
       "</tr>\n",
       "<tr>\n",
       "  <th>Date:</th>             <td>Sat, 23 Apr 2016</td> <th>  Prob (F-statistic):</th> <td>8.86e-124</td>\n",
       "</tr>\n",
       "<tr>\n",
       "  <th>Time:</th>                 <td>20:35:10</td>     <th>  Log-Likelihood:    </th> <td> -126.92</td> \n",
       "</tr>\n",
       "<tr>\n",
       "  <th>No. Observations:</th>      <td>   102</td>      <th>  AIC:               </th> <td>   257.8</td> \n",
       "</tr>\n",
       "<tr>\n",
       "  <th>Df Residuals:</th>          <td>   100</td>      <th>  BIC:               </th> <td>   263.1</td> \n",
       "</tr>\n",
       "<tr>\n",
       "  <th>Df Model:</th>              <td>     1</td>      <th>                     </th>     <td> </td>    \n",
       "</tr>\n",
       "</table>\n",
       "<table class=\"simpletable\">\n",
       "<tr>\n",
       "      <td></td>         <th>coef</th>     <th>std err</th>      <th>t</th>      <th>P>|t|</th> <th>[95.0% Conf. Int.]</th> \n",
       "</tr>\n",
       "<tr>\n",
       "  <th>Intercept</th> <td>   -1.7419</td> <td>    0.647</td> <td>   -2.694</td> <td> 0.008</td> <td>   -3.025    -0.459</td>\n",
       "</tr>\n",
       "<tr>\n",
       "  <th>x2</th>        <td>   10.4362</td> <td>    0.063</td> <td>  165.482</td> <td> 0.000</td> <td>   10.311    10.561</td>\n",
       "</tr>\n",
       "</table>\n",
       "<table class=\"simpletable\">\n",
       "<tr>\n",
       "  <th>Omnibus:</th>       <td>16.538</td> <th>  Durbin-Watson:     </th> <td>   2.174</td>\n",
       "</tr>\n",
       "<tr>\n",
       "  <th>Prob(Omnibus):</th> <td> 0.000</td> <th>  Jarque-Bera (JB):  </th> <td>   4.541</td>\n",
       "</tr>\n",
       "<tr>\n",
       "  <th>Skew:</th>          <td>-0.006</td> <th>  Prob(JB):          </th> <td>   0.103</td>\n",
       "</tr>\n",
       "<tr>\n",
       "  <th>Kurtosis:</th>      <td> 1.966</td> <th>  Cond. No.          </th> <td>    79.7</td>\n",
       "</tr>\n",
       "</table>"
      ],
      "text/plain": [
       "<class 'statsmodels.iolib.summary.Summary'>\n",
       "\"\"\"\n",
       "                            OLS Regression Results                            \n",
       "==============================================================================\n",
       "Dep. Variable:                      y   R-squared:                       0.996\n",
       "Model:                            OLS   Adj. R-squared:                  0.996\n",
       "Method:                 Least Squares   F-statistic:                 2.738e+04\n",
       "Date:                Sat, 23 Apr 2016   Prob (F-statistic):          8.86e-124\n",
       "Time:                        20:35:10   Log-Likelihood:                -126.92\n",
       "No. Observations:                 102   AIC:                             257.8\n",
       "Df Residuals:                     100   BIC:                             263.1\n",
       "Df Model:                           1                                         \n",
       "==============================================================================\n",
       "                 coef    std err          t      P>|t|      [95.0% Conf. Int.]\n",
       "------------------------------------------------------------------------------\n",
       "Intercept     -1.7419      0.647     -2.694      0.008        -3.025    -0.459\n",
       "x2            10.4362      0.063    165.482      0.000        10.311    10.561\n",
       "==============================================================================\n",
       "Omnibus:                       16.538   Durbin-Watson:                   2.174\n",
       "Prob(Omnibus):                  0.000   Jarque-Bera (JB):                4.541\n",
       "Skew:                          -0.006   Prob(JB):                        0.103\n",
       "Kurtosis:                       1.966   Cond. No.                         79.7\n",
       "==============================================================================\n",
       "\"\"\""
      ]
     },
     "execution_count": 310,
     "metadata": {},
     "output_type": "execute_result"
    }
   ],
   "source": [
    "model = ols(\"y ~ x2\", data).fit()\n",
    "model.summary()"
   ]
  },
  {
   "cell_type": "code",
   "execution_count": 311,
   "metadata": {
    "collapsed": false
   },
   "outputs": [
    {
     "data": {
      "image/png": "[encoded data removed]",
      "text/plain": [
       "<matplotlib.figure.Figure at 0x118ce7c10>"
      ]
     },
     "metadata": {},
     "output_type": "display_data"
    }
   ],
   "source": [
    "fig, ax = plt.subplots(figsize=(8,6))\n",
    "fig = plot_leverage_resid2(model, ax = ax)"
   ]
  },
  {
   "cell_type": "markdown",
   "metadata": {},
   "source": [
    "Re-fit the linear models from (c) to (e) using this new data. What\n",
    "effect does this new observation have on the each of the models?\n",
    "In each model, is this observation an outlier? A high-leverage\n",
    "point? Both? Explain your answers.\n",
    "````\n",
    "It's high in terms of leverage.\n",
    "It stands out in plotting /residuals so is an outlier\n",
    "````"
   ]
  },
  {
   "cell_type": "code",
   "execution_count": 327,
   "metadata": {
    "collapsed": false
   },
   "outputs": [
    {
     "data": {
      "text/plain": [
       "[<matplotlib.lines.Line2D at 0x117663410>]"
      ]
     },
     "execution_count": 327,
     "metadata": {},
     "output_type": "execute_result"
    },
    {
     "data": {
      "image/png": "[encoded data removed]",
      "text/plain": [
       "<matplotlib.figure.Figure at 0x117a96710>"
      ]
     },
     "metadata": {},
     "output_type": "display_data"
    }
   ],
   "source": [
    "fitted = model.predict()\n",
    "residuals = fitted - y\n",
    "plt.plot(fitted, residuals,'o')"
   ]
  },
  {
   "cell_type": "code",
   "execution_count": 328,
   "metadata": {
    "collapsed": false
   },
   "outputs": [
    {
     "data": {
      "text/plain": [
       "[<matplotlib.lines.Line2D at 0x119cf01d0>]"
      ]
     },
     "execution_count": 328,
     "metadata": {},
     "output_type": "execute_result"
    },
    {
     "data": {
      "image/png": "[encoded data removed]",
      "text/plain": [
       "<matplotlib.figure.Figure at 0x11759ff10>"
      ]
     },
     "metadata": {},
     "output_type": "display_data"
    }
   ],
   "source": [
    "plt.plot(x1,y,'o')"
   ]
  },
  {
   "cell_type": "markdown",
   "metadata": {},
   "source": [
    "# 15. This problem involves the Boston data set, which we saw in the lab\n",
    "for this chapter."
   ]
  },
  {
   "cell_type": "code",
   "execution_count": 329,
   "metadata": {
    "collapsed": false
   },
   "outputs": [
    {
     "data": {
      "text/html": [
       "<div>\n",
       "<table border=\"1\" class=\"dataframe\">\n",
       "  <thead>\n",
       "    <tr style=\"text-align: right;\">\n",
       "      <th></th>\n",
       "      <th>crim</th>\n",
       "      <th>zn</th>\n",
       "      <th>indus</th>\n",
       "      <th>chas</th>\n",
       "      <th>nox</th>\n",
       "      <th>rm</th>\n",
       "      <th>age</th>\n",
       "      <th>dis</th>\n",
       "      <th>rad</th>\n",
       "      <th>tax</th>\n",
       "      <th>ptratio</th>\n",
       "      <th>b</th>\n",
       "      <th>lstat</th>\n",
       "      <th>medv</th>\n",
       "    </tr>\n",
       "  </thead>\n",
       "  <tbody>\n",
       "    <tr>\n",
       "      <th>0</th>\n",
       "      <td>0.00632</td>\n",
       "      <td>18.0</td>\n",
       "      <td>2.31</td>\n",
       "      <td>0</td>\n",
       "      <td>0.538</td>\n",
       "      <td>6.575</td>\n",
       "      <td>65.2</td>\n",
       "      <td>4.09</td>\n",
       "      <td>1</td>\n",
       "      <td>296</td>\n",
       "      <td>15.3</td>\n",
       "      <td>396.9</td>\n",
       "      <td>4.98</td>\n",
       "      <td>24.0</td>\n",
       "    </tr>\n",
       "  </tbody>\n",
       "</table>\n",
       "</div>"
      ],
      "text/plain": [
       "      crim    zn  indus  chas    nox     rm   age   dis  rad  tax  ptratio  \\\n",
       "0  0.00632  18.0   2.31     0  0.538  6.575  65.2  4.09    1  296     15.3   \n",
       "\n",
       "       b  lstat  medv  \n",
       "0  396.9   4.98  24.0  "
      ]
     },
     "execution_count": 329,
     "metadata": {},
     "output_type": "execute_result"
    }
   ],
   "source": [
    "data = pd.read_csv(\"BostonHousing.csv\")\n",
    "data.head(1)"
   ]
  },
  {
   "cell_type": "code",
   "execution_count": 343,
   "metadata": {
    "collapsed": false
   },
   "outputs": [
    {
     "data": {
      "text/plain": [
       "array(['zn', 'indus', 'chas', 'nox', 'rm', 'age', 'dis', 'rad', 'tax',\n",
       "       'ptratio', 'b', 'lstat', 'medv'], dtype=object)"
      ]
     },
     "execution_count": 343,
     "metadata": {},
     "output_type": "execute_result"
    }
   ],
   "source": [
    "predictors = data.columns.values[1:]\n",
    "predictors"
   ]
  },
  {
   "cell_type": "code",
   "execution_count": 376,
   "metadata": {
    "collapsed": false
   },
   "outputs": [
    {
     "name": "stdout",
     "output_type": "stream",
     "text": [
      "zn: [ignored] R^2=1.46932889528e-05\n",
      "indus: R^2=0.277270212616\n",
      "######\n",
      "                            OLS Regression Results                            \n",
      "==============================================================================\n",
      "Dep. Variable:                   crim   R-squared:                       0.277\n",
      "Model:                            OLS   Adj. R-squared:                  0.276\n",
      "Method:                 Least Squares   F-statistic:                     193.7\n",
      "Date:                Sat, 23 Apr 2016   Prob (F-statistic):           1.65e-37\n",
      "Time:                        21:55:59   Log-Likelihood:                -1765.4\n",
      "No. Observations:                 506   AIC:                             3533.\n",
      "Df Residuals:                     505   BIC:                             3537.\n",
      "Df Model:                           1                                         \n",
      "==============================================================================\n",
      "                 coef    std err          t      P>|t|      [95.0% Conf. Int.]\n",
      "------------------------------------------------------------------------------\n",
      "indus          0.3754      0.027     13.919      0.000         0.322     0.428\n",
      "==============================================================================\n",
      "Omnibus:                      600.848   Durbin-Watson:                   0.960\n",
      "Prob(Omnibus):                  0.000   Jarque-Bera (JB):            44123.258\n",
      "Skew:                           5.701   Prob(JB):                         0.00\n",
      "Kurtosis:                      47.303   Cond. No.                         1.00\n",
      "==============================================================================\n",
      "chas: [ignored] R^2=0.00272920086454\n",
      "nox: R^2=0.210442834839\n",
      "######\n",
      "                            OLS Regression Results                            \n",
      "==============================================================================\n",
      "Dep. Variable:                   crim   R-squared:                       0.210\n",
      "Model:                            OLS   Adj. R-squared:                  0.209\n",
      "Method:                 Least Squares   F-statistic:                     134.6\n",
      "Date:                Sat, 23 Apr 2016   Prob (F-statistic):           9.43e-28\n",
      "Time:                        21:55:59   Log-Likelihood:                -1787.8\n",
      "No. Observations:                 506   AIC:                             3578.\n",
      "Df Residuals:                     505   BIC:                             3582.\n",
      "Df Model:                           1                                         \n",
      "==============================================================================\n",
      "                 coef    std err          t      P>|t|      [95.0% Conf. Int.]\n",
      "------------------------------------------------------------------------------\n",
      "nox            7.5467      0.650     11.602      0.000         6.269     8.825\n",
      "==============================================================================\n",
      "Omnibus:                      589.104   Durbin-Watson:                   0.870\n",
      "Prob(Omnibus):                  0.000   Jarque-Bera (JB):            38022.804\n",
      "Skew:                           5.566   Prob(JB):                         0.00\n",
      "Kurtosis:                      43.982   Cond. No.                         1.00\n",
      "==============================================================================\n",
      "rm: [ignored] R^2=0.131630548921\n",
      "age: R^2=0.232344598368\n",
      "######\n",
      "                            OLS Regression Results                            \n",
      "==============================================================================\n",
      "Dep. Variable:                   crim   R-squared:                       0.232\n",
      "Model:                            OLS   Adj. R-squared:                  0.231\n",
      "Method:                 Least Squares   F-statistic:                     152.8\n",
      "Date:                Sat, 23 Apr 2016   Prob (F-statistic):           7.39e-31\n",
      "Time:                        21:55:59   Log-Likelihood:                -1780.7\n",
      "No. Observations:                 506   AIC:                             3563.\n",
      "Df Residuals:                     505   BIC:                             3568.\n",
      "Df Model:                           1                                         \n",
      "==============================================================================\n",
      "                 coef    std err          t      P>|t|      [95.0% Conf. Int.]\n",
      "------------------------------------------------------------------------------\n",
      "age            0.0606      0.005     12.363      0.000         0.051     0.070\n",
      "==============================================================================\n",
      "Omnibus:                      588.282   Durbin-Watson:                   0.901\n",
      "Prob(Omnibus):                  0.000   Jarque-Bera (JB):            38772.874\n",
      "Skew:                           5.540   Prob(JB):                         0.00\n",
      "Kurtosis:                      44.428   Cond. No.                         1.00\n",
      "==============================================================================\n",
      "dis: [ignored] R^2=0.0286827343763\n",
      "rad: R^2=0.455429718667\n",
      "######\n",
      "                            OLS Regression Results                            \n",
      "==============================================================================\n",
      "Dep. Variable:                   crim   R-squared:                       0.455\n",
      "Model:                            OLS   Adj. R-squared:                  0.454\n",
      "Method:                 Least Squares   F-statistic:                     422.3\n",
      "Date:                Sat, 23 Apr 2016   Prob (F-statistic):           1.18e-68\n",
      "Time:                        21:55:59   Log-Likelihood:                -1693.8\n",
      "No. Observations:                 506   AIC:                             3390.\n",
      "Df Residuals:                     505   BIC:                             3394.\n",
      "Df Model:                           1                                         \n",
      "==============================================================================\n",
      "                 coef    std err          t      P>|t|      [95.0% Conf. Int.]\n",
      "------------------------------------------------------------------------------\n",
      "rad            0.4870      0.024     20.551      0.000         0.440     0.534\n",
      "==============================================================================\n",
      "Omnibus:                      685.991   Durbin-Watson:                   1.266\n",
      "Prob(Omnibus):                  0.000   Jarque-Bera (JB):            86092.313\n",
      "Skew:                           7.005   Prob(JB):                         0.00\n",
      "Kurtosis:                      65.347   Cond. No.                         1.00\n",
      "==============================================================================\n",
      "tax: R^2=0.317169519433\n",
      "######\n",
      "                            OLS Regression Results                            \n",
      "==============================================================================\n",
      "Dep. Variable:                   crim   R-squared:                       0.317\n",
      "Model:                            OLS   Adj. R-squared:                  0.316\n",
      "Method:                 Least Squares   F-statistic:                     234.6\n",
      "Date:                Sat, 23 Apr 2016   Prob (F-statistic):           9.15e-44\n",
      "Time:                        21:55:59   Log-Likelihood:                -1751.0\n",
      "No. Observations:                 506   AIC:                             3504.\n",
      "Df Residuals:                     505   BIC:                             3508.\n",
      "Df Model:                           1                                         \n",
      "==============================================================================\n",
      "                 coef    std err          t      P>|t|      [95.0% Conf. Int.]\n",
      "------------------------------------------------------------------------------\n",
      "tax            0.0119      0.001     15.316      0.000         0.010     0.013\n",
      "==============================================================================\n",
      "Omnibus:                      640.450   Durbin-Watson:                   1.011\n",
      "Prob(Omnibus):                  0.000   Jarque-Bera (JB):            57507.731\n",
      "Skew:                           6.310   Prob(JB):                         0.00\n",
      "Kurtosis:                      53.679   Cond. No.                         1.00\n",
      "==============================================================================\n",
      "ptratio: [ignored] R^2=0.17314944042\n",
      "b: [ignored] R^2=0.0827241925096\n",
      "lstat: R^2=0.295870369053\n",
      "######\n",
      "                            OLS Regression Results                            \n",
      "==============================================================================\n",
      "Dep. Variable:                   crim   R-squared:                       0.296\n",
      "Model:                            OLS   Adj. R-squared:                  0.294\n",
      "Method:                 Least Squares   F-statistic:                     212.2\n",
      "Date:                Sat, 23 Apr 2016   Prob (F-statistic):           2.21e-40\n",
      "Time:                        21:55:59   Log-Likelihood:                -1758.8\n",
      "No. Observations:                 506   AIC:                             3520.\n",
      "Df Residuals:                     505   BIC:                             3524.\n",
      "Df Model:                           1                                         \n",
      "==============================================================================\n",
      "                 coef    std err          t      P>|t|      [95.0% Conf. Int.]\n",
      "------------------------------------------------------------------------------\n",
      "lstat          0.3491      0.024     14.567      0.000         0.302     0.396\n",
      "==============================================================================\n",
      "Omnibus:                      616.057   Durbin-Watson:                   1.044\n",
      "Prob(Omnibus):                  0.000   Jarque-Bera (JB):            50968.492\n",
      "Skew:                           5.907   Prob(JB):                         0.00\n",
      "Kurtosis:                      50.727   Cond. No.                         1.00\n",
      "==============================================================================\n",
      "medv: [ignored] R^2=0.0500830107506\n"
     ]
    }
   ],
   "source": [
    "all_singlereg_coefficients = {}\n",
    "selected_predictors = {}\n",
    "for predictor in predictors:\n",
    "    model = OLS(data['crim'], data[predictor]).fit()\n",
    "    all_singlereg_coefficients[predictor] = model.params[predictor]\n",
    "    if (model.rsquared <= 0.2):\n",
    "        print predictor + \": [ignored] R^2=\" + str(model.rsquared)\n",
    "    else:\n",
    "        selected_predictors[predictor] = model.rsquared\n",
    "        print predictor + \": R^2=\" + str(model.rsquared)\n",
    "        print '######'\n",
    "        s = model.summary()\n",
    "        print s"
   ]
  },
  {
   "cell_type": "code",
   "execution_count": 359,
   "metadata": {
    "collapsed": false
   },
   "outputs": [
    {
     "data": {
      "text/plain": [
       "{'age': 0.23234459836783639,\n",
       " 'indus': 0.2772702126158505,\n",
       " 'lstat': 0.29587036905322095,\n",
       " 'nox': 0.21044283483946369,\n",
       " 'rad': 0.45542971866712056,\n",
       " 'tax': 0.31716951943331151}"
      ]
     },
     "execution_count": 359,
     "metadata": {},
     "output_type": "execute_result"
    }
   ],
   "source": [
    "selected_predictors"
   ]
  },
  {
   "cell_type": "code",
   "execution_count": 362,
   "metadata": {
    "collapsed": false
   },
   "outputs": [
    {
     "data": {
      "text/plain": [
       "[<matplotlib.lines.Line2D at 0x116c9cd50>]"
      ]
     },
     "execution_count": 362,
     "metadata": {},
     "output_type": "execute_result"
    },
    {
     "data": {
      "image/png": "[encoded data removed]",
      "text/plain": [
       "<matplotlib.figure.Figure at 0x11b530d10>"
      ]
     },
     "metadata": {},
     "output_type": "display_data"
    }
   ],
   "source": [
    "plt.plot(data['crim'], data['rad'],'o')"
   ]
  },
  {
   "cell_type": "code",
   "execution_count": 388,
   "metadata": {
    "collapsed": false
   },
   "outputs": [
    {
     "data": {
      "text/html": [
       "<table class=\"simpletable\">\n",
       "<caption>OLS Regression Results</caption>\n",
       "<tr>\n",
       "  <th>Dep. Variable:</th>          <td>crim</td>       <th>  R-squared:         </th> <td>   0.454</td>\n",
       "</tr>\n",
       "<tr>\n",
       "  <th>Model:</th>                   <td>OLS</td>       <th>  Adj. R-squared:    </th> <td>   0.440</td>\n",
       "</tr>\n",
       "<tr>\n",
       "  <th>Method:</th>             <td>Least Squares</td>  <th>  F-statistic:       </th> <td>   31.47</td>\n",
       "</tr>\n",
       "<tr>\n",
       "  <th>Date:</th>             <td>Sat, 23 Apr 2016</td> <th>  Prob (F-statistic):</th> <td>1.57e-56</td>\n",
       "</tr>\n",
       "<tr>\n",
       "  <th>Time:</th>                 <td>21:58:39</td>     <th>  Log-Likelihood:    </th> <td> -1653.3</td>\n",
       "</tr>\n",
       "<tr>\n",
       "  <th>No. Observations:</th>      <td>   506</td>      <th>  AIC:               </th> <td>   3335.</td>\n",
       "</tr>\n",
       "<tr>\n",
       "  <th>Df Residuals:</th>          <td>   492</td>      <th>  BIC:               </th> <td>   3394.</td>\n",
       "</tr>\n",
       "<tr>\n",
       "  <th>Df Model:</th>              <td>    13</td>      <th>                     </th>     <td> </td>   \n",
       "</tr>\n",
       "</table>\n",
       "<table class=\"simpletable\">\n",
       "<tr>\n",
       "      <td></td>         <th>coef</th>     <th>std err</th>      <th>t</th>      <th>P>|t|</th> <th>[95.0% Conf. Int.]</th> \n",
       "</tr>\n",
       "<tr>\n",
       "  <th>Intercept</th> <td>   17.0332</td> <td>    7.235</td> <td>    2.354</td> <td> 0.019</td> <td>    2.818    31.248</td>\n",
       "</tr>\n",
       "<tr>\n",
       "  <th>zn</th>        <td>    0.0449</td> <td>    0.019</td> <td>    2.394</td> <td> 0.017</td> <td>    0.008     0.082</td>\n",
       "</tr>\n",
       "<tr>\n",
       "  <th>indus</th>     <td>   -0.0639</td> <td>    0.083</td> <td>   -0.766</td> <td> 0.444</td> <td>   -0.228     0.100</td>\n",
       "</tr>\n",
       "<tr>\n",
       "  <th>chas</th>      <td>   -0.7491</td> <td>    1.180</td> <td>   -0.635</td> <td> 0.526</td> <td>   -3.068     1.570</td>\n",
       "</tr>\n",
       "<tr>\n",
       "  <th>nox</th>       <td>  -10.3135</td> <td>    5.276</td> <td>   -1.955</td> <td> 0.051</td> <td>  -20.679     0.052</td>\n",
       "</tr>\n",
       "<tr>\n",
       "  <th>rm</th>        <td>    0.4301</td> <td>    0.613</td> <td>    0.702</td> <td> 0.483</td> <td>   -0.774     1.634</td>\n",
       "</tr>\n",
       "<tr>\n",
       "  <th>age</th>       <td>    0.0015</td> <td>    0.018</td> <td>    0.081</td> <td> 0.935</td> <td>   -0.034     0.037</td>\n",
       "</tr>\n",
       "<tr>\n",
       "  <th>dis</th>       <td>   -0.9872</td> <td>    0.282</td> <td>   -3.503</td> <td> 0.001</td> <td>   -1.541    -0.433</td>\n",
       "</tr>\n",
       "<tr>\n",
       "  <th>rad</th>       <td>    0.5882</td> <td>    0.088</td> <td>    6.680</td> <td> 0.000</td> <td>    0.415     0.761</td>\n",
       "</tr>\n",
       "<tr>\n",
       "  <th>tax</th>       <td>   -0.0038</td> <td>    0.005</td> <td>   -0.733</td> <td> 0.464</td> <td>   -0.014     0.006</td>\n",
       "</tr>\n",
       "<tr>\n",
       "  <th>ptratio</th>   <td>   -0.2711</td> <td>    0.186</td> <td>   -1.454</td> <td> 0.147</td> <td>   -0.637     0.095</td>\n",
       "</tr>\n",
       "<tr>\n",
       "  <th>b</th>         <td>   -0.0075</td> <td>    0.004</td> <td>   -2.052</td> <td> 0.041</td> <td>   -0.015    -0.000</td>\n",
       "</tr>\n",
       "<tr>\n",
       "  <th>lstat</th>     <td>    0.1262</td> <td>    0.076</td> <td>    1.667</td> <td> 0.096</td> <td>   -0.023     0.275</td>\n",
       "</tr>\n",
       "<tr>\n",
       "  <th>medv</th>      <td>   -0.1989</td> <td>    0.061</td> <td>   -3.287</td> <td> 0.001</td> <td>   -0.318    -0.080</td>\n",
       "</tr>\n",
       "</table>\n",
       "<table class=\"simpletable\">\n",
       "<tr>\n",
       "  <th>Omnibus:</th>       <td>666.613</td> <th>  Durbin-Watson:     </th> <td>   1.519</td> \n",
       "</tr>\n",
       "<tr>\n",
       "  <th>Prob(Omnibus):</th> <td> 0.000</td>  <th>  Jarque-Bera (JB):  </th> <td>84887.625</td>\n",
       "</tr>\n",
       "<tr>\n",
       "  <th>Skew:</th>          <td> 6.617</td>  <th>  Prob(JB):          </th> <td>    0.00</td> \n",
       "</tr>\n",
       "<tr>\n",
       "  <th>Kurtosis:</th>      <td>65.058</td>  <th>  Cond. No.          </th> <td>1.58e+04</td> \n",
       "</tr>\n",
       "</table>"
      ],
      "text/plain": [
       "<class 'statsmodels.iolib.summary.Summary'>\n",
       "\"\"\"\n",
       "                            OLS Regression Results                            \n",
       "==============================================================================\n",
       "Dep. Variable:                   crim   R-squared:                       0.454\n",
       "Model:                            OLS   Adj. R-squared:                  0.440\n",
       "Method:                 Least Squares   F-statistic:                     31.47\n",
       "Date:                Sat, 23 Apr 2016   Prob (F-statistic):           1.57e-56\n",
       "Time:                        21:58:39   Log-Likelihood:                -1653.3\n",
       "No. Observations:                 506   AIC:                             3335.\n",
       "Df Residuals:                     492   BIC:                             3394.\n",
       "Df Model:                          13                                         \n",
       "==============================================================================\n",
       "                 coef    std err          t      P>|t|      [95.0% Conf. Int.]\n",
       "------------------------------------------------------------------------------\n",
       "Intercept     17.0332      7.235      2.354      0.019         2.818    31.248\n",
       "zn             0.0449      0.019      2.394      0.017         0.008     0.082\n",
       "indus         -0.0639      0.083     -0.766      0.444        -0.228     0.100\n",
       "chas          -0.7491      1.180     -0.635      0.526        -3.068     1.570\n",
       "nox          -10.3135      5.276     -1.955      0.051       -20.679     0.052\n",
       "rm             0.4301      0.613      0.702      0.483        -0.774     1.634\n",
       "age            0.0015      0.018      0.081      0.935        -0.034     0.037\n",
       "dis           -0.9872      0.282     -3.503      0.001        -1.541    -0.433\n",
       "rad            0.5882      0.088      6.680      0.000         0.415     0.761\n",
       "tax           -0.0038      0.005     -0.733      0.464        -0.014     0.006\n",
       "ptratio       -0.2711      0.186     -1.454      0.147        -0.637     0.095\n",
       "b             -0.0075      0.004     -2.052      0.041        -0.015    -0.000\n",
       "lstat          0.1262      0.076      1.667      0.096        -0.023     0.275\n",
       "medv          -0.1989      0.061     -3.287      0.001        -0.318    -0.080\n",
       "==============================================================================\n",
       "Omnibus:                      666.613   Durbin-Watson:                   1.519\n",
       "Prob(Omnibus):                  0.000   Jarque-Bera (JB):            84887.625\n",
       "Skew:                           6.617   Prob(JB):                         0.00\n",
       "Kurtosis:                      65.058   Cond. No.                     1.58e+04\n",
       "==============================================================================\n",
       "\n",
       "Warnings:\n",
       "[1] The condition number is large, 1.58e+04. This might indicate that there are\n",
       "strong multicollinearity or other numerical problems.\n",
       "\"\"\""
      ]
     },
     "execution_count": 388,
     "metadata": {},
     "output_type": "execute_result"
    }
   ],
   "source": [
    "model = ols(\"crim ~ \" + \" + \".join(predictors.tolist()), data).fit()\n",
    "model.summary()"
   ]
  },
  {
   "cell_type": "markdown",
   "metadata": {},
   "source": [
    "(b) Fit a multiple regression model to predict the response using\n",
    "all of the predictors. Describe your results. For which predictors\n",
    "can we reject the null hypothesis H0 : βj = 0?\n",
    "````\n",
    "rad (p=0.000)\n",
    "dis (p=0.001)\n",
    "mdev(p=0.001)\n",
    "````"
   ]
  },
  {
   "cell_type": "code",
   "execution_count": 401,
   "metadata": {
    "collapsed": false
   },
   "outputs": [
    {
     "data": {
      "image/png": "[encoded data removed]",
      "text/plain": [
       "<matplotlib.figure.Figure at 0x115e3d250>"
      ]
     },
     "metadata": {},
     "output_type": "display_data"
    }
   ],
   "source": [
    "x = []\n",
    "y = []\n",
    "for predictor in predictors:\n",
    "    single_val = all_singlereg_coefficients[predictor]\n",
    "    multi_val = model.params[predictor]\n",
    "    x.append(single_val)\n",
    "    y.append(multi_val)\n",
    "fig, ax = plt.subplots()\n",
    "ax.scatter(x, y)\n",
    "\n",
    "for i, txt in enumerate(predictors):\n",
    "   ax.annotate(txt, (x[i],y[i]))"
   ]
  },
  {
   "cell_type": "markdown",
   "metadata": {},
   "source": [
    "Is there evidence of non-linear association between any of the\n",
    "predictors and the response?"
   ]
  },
  {
   "cell_type": "code",
   "execution_count": 404,
   "metadata": {
    "collapsed": false
   },
   "outputs": [
    {
     "name": "stdout",
     "output_type": "stream",
     "text": [
      "zn: [ignored] R^2=0.0582419742226\n",
      "indus: R^2=0.25965785792\n",
      "######\n",
      "                            OLS Regression Results                            \n",
      "==============================================================================\n",
      "Dep. Variable:                      y   R-squared:                       0.260\n",
      "Model:                            OLS   Adj. R-squared:                  0.255\n",
      "Method:                 Least Squares   F-statistic:                     58.69\n",
      "Date:                Sat, 23 Apr 2016   Prob (F-statistic):           1.55e-32\n",
      "Time:                        22:04:27   Log-Likelihood:                -1730.3\n",
      "No. Observations:                 506   AIC:                             3469.\n",
      "Df Residuals:                     502   BIC:                             3486.\n",
      "Df Model:                           3                                         \n",
      "==============================================================================\n",
      "                 coef    std err          t      P>|t|      [95.0% Conf. Int.]\n",
      "------------------------------------------------------------------------------\n",
      "Intercept      3.6626      1.574      2.327      0.020         0.570     6.755\n",
      "x             -1.9652      0.482     -4.077      0.000        -2.912    -1.018\n",
      "x2             0.2519      0.039      6.407      0.000         0.175     0.329\n",
      "x3            -0.0070      0.001     -7.292      0.000        -0.009    -0.005\n",
      "==============================================================================\n",
      "Omnibus:                      611.788   Durbin-Watson:                   1.116\n",
      "Prob(Omnibus):                  0.000   Jarque-Bera (JB):            51742.286\n",
      "Skew:                           5.820   Prob(JB):                         0.00\n",
      "Kurtosis:                      51.153   Cond. No.                     2.47e+04\n",
      "==============================================================================\n",
      "\n",
      "Warnings:\n",
      "[1] The condition number is large, 2.47e+04. This might indicate that there are\n",
      "strong multicollinearity or other numerical problems.\n",
      "chas: [ignored] R^2=0.00312386895242\n",
      "nox: R^2=0.296977895629\n",
      "######\n",
      "                            OLS Regression Results                            \n",
      "==============================================================================\n",
      "Dep. Variable:                      y   R-squared:                       0.297\n",
      "Model:                            OLS   Adj. R-squared:                  0.293\n",
      "Method:                 Least Squares   F-statistic:                     70.69\n",
      "Date:                Sat, 23 Apr 2016   Prob (F-statistic):           3.81e-38\n",
      "Time:                        22:04:28   Log-Likelihood:                -1717.2\n",
      "No. Observations:                 506   AIC:                             3442.\n",
      "Df Residuals:                     502   BIC:                             3459.\n",
      "Df Model:                           3                                         \n",
      "==============================================================================\n",
      "                 coef    std err          t      P>|t|      [95.0% Conf. Int.]\n",
      "------------------------------------------------------------------------------\n",
      "Intercept    233.0866     33.643      6.928      0.000       166.988   299.185\n",
      "x          -1279.3713    170.397     -7.508      0.000     -1614.151  -944.591\n",
      "x2          2248.5441    279.899      8.033      0.000      1698.626  2798.462\n",
      "x3         -1245.7029    149.282     -8.345      0.000     -1538.997  -952.409\n",
      "==============================================================================\n",
      "Omnibus:                      614.412   Durbin-Watson:                   1.159\n",
      "Prob(Omnibus):                  0.000   Jarque-Bera (JB):            53523.997\n",
      "Skew:                           5.851   Prob(JB):                         0.00\n",
      "Kurtosis:                      52.008   Cond. No.                     1.36e+03\n",
      "==============================================================================\n",
      "\n",
      "Warnings:\n",
      "[1] The condition number is large, 1.36e+03. This might indicate that there are\n",
      "strong multicollinearity or other numerical problems.\n",
      "rm: [ignored] R^2=0.0677860611688\n",
      "age: [ignored] R^2=0.174230993587\n",
      "dis: R^2=0.277824773087\n",
      "######\n",
      "                            OLS Regression Results                            \n",
      "==============================================================================\n",
      "Dep. Variable:                      y   R-squared:                       0.278\n",
      "Model:                            OLS   Adj. R-squared:                  0.274\n",
      "Method:                 Least Squares   F-statistic:                     64.37\n",
      "Date:                Sat, 23 Apr 2016   Prob (F-statistic):           3.14e-35\n",
      "Time:                        22:04:28   Log-Likelihood:                -1724.0\n",
      "No. Observations:                 506   AIC:                             3456.\n",
      "Df Residuals:                     502   BIC:                             3473.\n",
      "Df Model:                           3                                         \n",
      "==============================================================================\n",
      "                 coef    std err          t      P>|t|      [95.0% Conf. Int.]\n",
      "------------------------------------------------------------------------------\n",
      "Intercept     30.0476      2.446     12.285      0.000        25.242    34.853\n",
      "x            -15.5544      1.736     -8.960      0.000       -18.965   -12.144\n",
      "x2             2.4521      0.346      7.078      0.000         1.771     3.133\n",
      "x3            -0.1186      0.020     -5.814      0.000        -0.159    -0.079\n",
      "==============================================================================\n",
      "Omnibus:                      577.742   Durbin-Watson:                   1.129\n",
      "Prob(Omnibus):                  0.000   Jarque-Bera (JB):            42444.706\n",
      "Skew:                           5.305   Prob(JB):                         0.00\n",
      "Kurtosis:                      46.596   Cond. No.                     2.10e+03\n",
      "==============================================================================\n",
      "\n",
      "Warnings:\n",
      "[1] The condition number is large, 2.1e+03. This might indicate that there are\n",
      "strong multicollinearity or other numerical problems.\n",
      "rad: R^2=0.400036872024\n",
      "######\n",
      "                            OLS Regression Results                            \n",
      "==============================================================================\n",
      "Dep. Variable:                      y   R-squared:                       0.400\n",
      "Model:                            OLS   Adj. R-squared:                  0.396\n",
      "Method:                 Least Squares   F-statistic:                     111.6\n",
      "Date:                Sat, 23 Apr 2016   Prob (F-statistic):           2.31e-55\n",
      "Time:                        22:04:28   Log-Likelihood:                -1677.1\n",
      "No. Observations:                 506   AIC:                             3362.\n",
      "Df Residuals:                     502   BIC:                             3379.\n",
      "Df Model:                           3                                         \n",
      "==============================================================================\n",
      "                 coef    std err          t      P>|t|      [95.0% Conf. Int.]\n",
      "------------------------------------------------------------------------------\n",
      "Intercept     -0.6055      2.050     -0.295      0.768        -4.633     3.422\n",
      "x              0.5127      1.044      0.491      0.623        -1.538     2.563\n",
      "x2            -0.0752      0.149     -0.506      0.613        -0.367     0.217\n",
      "x3             0.0032      0.005      0.703      0.482        -0.006     0.012\n",
      "==============================================================================\n",
      "Omnibus:                      659.751   Durbin-Watson:                   1.351\n",
      "Prob(Omnibus):                  0.000   Jarque-Bera (JB):            77838.247\n",
      "Skew:                           6.526   Prob(JB):                         0.00\n",
      "Kurtosis:                      62.343   Cond. No.                     5.43e+04\n",
      "==============================================================================\n",
      "\n",
      "Warnings:\n",
      "[1] The condition number is large, 5.43e+04. This might indicate that there are\n",
      "strong multicollinearity or other numerical problems.\n",
      "tax: R^2=0.368882079663\n",
      "######\n",
      "                            OLS Regression Results                            \n",
      "==============================================================================\n",
      "Dep. Variable:                      y   R-squared:                       0.369\n",
      "Model:                            OLS   Adj. R-squared:                  0.365\n",
      "Method:                 Least Squares   F-statistic:                     97.80\n",
      "Date:                Sat, 23 Apr 2016   Prob (F-statistic):           7.34e-50\n",
      "Time:                        22:04:28   Log-Likelihood:                -1689.9\n",
      "No. Observations:                 506   AIC:                             3388.\n",
      "Df Residuals:                     502   BIC:                             3405.\n",
      "Df Model:                           3                                         \n",
      "==============================================================================\n",
      "                 coef    std err          t      P>|t|      [95.0% Conf. Int.]\n",
      "------------------------------------------------------------------------------\n",
      "Intercept     19.1836     11.796      1.626      0.105        -3.991    42.358\n",
      "x             -0.1533      0.096     -1.602      0.110        -0.341     0.035\n",
      "x2             0.0004      0.000      1.488      0.137        -0.000     0.001\n",
      "x3         -2.204e-07   1.89e-07     -1.167      0.244     -5.91e-07  1.51e-07\n",
      "==============================================================================\n",
      "Omnibus:                      644.161   Durbin-Watson:                   1.293\n",
      "Prob(Omnibus):                  0.000   Jarque-Bera (JB):            69773.212\n",
      "Skew:                           6.278   Prob(JB):                         0.00\n",
      "Kurtosis:                      59.141   Cond. No.                     6.22e+09\n",
      "==============================================================================\n",
      "\n",
      "Warnings:\n",
      "[1] The condition number is large, 6.22e+09. This might indicate that there are\n",
      "strong multicollinearity or other numerical problems.\n",
      "ptratio: [ignored] R^2=0.113781577447\n",
      "b: [ignored] R^2=0.149839828802\n",
      "lstat: R^2=0.217932432422\n",
      "######\n",
      "                            OLS Regression Results                            \n",
      "==============================================================================\n",
      "Dep. Variable:                      y   R-squared:                       0.218\n",
      "Model:                            OLS   Adj. R-squared:                  0.213\n",
      "Method:                 Least Squares   F-statistic:                     46.63\n",
      "Date:                Sat, 23 Apr 2016   Prob (F-statistic):           1.35e-26\n",
      "Time:                        22:04:28   Log-Likelihood:                -1744.2\n",
      "No. Observations:                 506   AIC:                             3496.\n",
      "Df Residuals:                     502   BIC:                             3513.\n",
      "Df Model:                           3                                         \n",
      "==============================================================================\n",
      "                 coef    std err          t      P>|t|      [95.0% Conf. Int.]\n",
      "------------------------------------------------------------------------------\n",
      "Intercept      1.2010      2.029      0.592      0.554        -2.785     5.187\n",
      "x             -0.4491      0.465     -0.966      0.335        -1.362     0.464\n",
      "x2             0.0558      0.030      1.852      0.065        -0.003     0.115\n",
      "x3            -0.0009      0.001     -1.517      0.130        -0.002     0.000\n",
      "==============================================================================\n",
      "Omnibus:                      607.734   Durbin-Watson:                   1.239\n",
      "Prob(Omnibus):                  0.000   Jarque-Bera (JB):            53621.219\n",
      "Skew:                           5.726   Prob(JB):                         0.00\n",
      "Kurtosis:                      52.114   Cond. No.                     5.20e+04\n",
      "==============================================================================\n",
      "\n",
      "Warnings:\n",
      "[1] The condition number is large, 5.2e+04. This might indicate that there are\n",
      "strong multicollinearity or other numerical problems.\n",
      "medv: R^2=0.420200256563\n",
      "######\n",
      "                            OLS Regression Results                            \n",
      "==============================================================================\n",
      "Dep. Variable:                      y   R-squared:                       0.420\n",
      "Model:                            OLS   Adj. R-squared:                  0.417\n",
      "Method:                 Least Squares   F-statistic:                     121.3\n",
      "Date:                Sat, 23 Apr 2016   Prob (F-statistic):           4.45e-59\n",
      "Time:                        22:04:28   Log-Likelihood:                -1668.5\n",
      "No. Observations:                 506   AIC:                             3345.\n",
      "Df Residuals:                     502   BIC:                             3362.\n",
      "Df Model:                           3                                         \n",
      "==============================================================================\n",
      "                 coef    std err          t      P>|t|      [95.0% Conf. Int.]\n",
      "------------------------------------------------------------------------------\n",
      "Intercept     53.1655      3.356     15.840      0.000        46.571    59.760\n",
      "x             -5.0948      0.434    -11.744      0.000        -5.947    -4.242\n",
      "x2             0.1555      0.017      9.046      0.000         0.122     0.189\n",
      "x3            -0.0015      0.000     -7.312      0.000        -0.002    -0.001\n",
      "==============================================================================\n",
      "Omnibus:                      569.730   Durbin-Watson:                   1.359\n",
      "Prob(Omnibus):                  0.000   Jarque-Bera (JB):            47929.717\n",
      "Skew:                           5.106   Prob(JB):                         0.00\n",
      "Kurtosis:                      49.573   Cond. No.                     3.67e+05\n",
      "==============================================================================\n",
      "\n",
      "Warnings:\n",
      "[1] The condition number is large, 3.67e+05. This might indicate that there are\n",
      "strong multicollinearity or other numerical problems.\n"
     ]
    }
   ],
   "source": [
    "selected_predictors = {}\n",
    "for predictor in predictors:\n",
    "    x = data[predictor]\n",
    "    df = pd.DataFrame({'x':x, 'y': data['crim'], 'x2':x**2, 'x3': x**3})\n",
    "    model = ols(\"y ~ x + x2 + x3\", df).fit()\n",
    "    if (model.rsquared <= 0.2):\n",
    "        print predictor + \": [ignored] R^2=\" + str(model.rsquared)\n",
    "    else:\n",
    "        selected_predictors[predictor] = model.rsquared\n",
    "        print predictor + \": R^2=\" + str(model.rsquared)\n",
    "        print '######'\n",
    "        s = model.summary()\n",
    "        print s"
   ]
  },
  {
   "cell_type": "code",
   "execution_count": 405,
   "metadata": {
    "collapsed": false
   },
   "outputs": [
    {
     "data": {
      "text/plain": [
       "{'dis': 0.27782477308673659,\n",
       " 'indus': 0.25965785791956641,\n",
       " 'lstat': 0.21793243242225613,\n",
       " 'medv': 0.42020025656341531,\n",
       " 'nox': 0.29697789562873889,\n",
       " 'rad': 0.40003687202422344,\n",
       " 'tax': 0.36888207966295983}"
      ]
     },
     "execution_count": 405,
     "metadata": {},
     "output_type": "execute_result"
    }
   ],
   "source": [
    "selected_predictors"
   ]
  },
  {
   "cell_type": "markdown",
   "metadata": {},
   "source": [
    "Compare the difference with linears for yourself:\n",
    "````\n",
    "{'age': 0.23234459836783639,\n",
    " 'indus': 0.2772702126158505,\n",
    " 'lstat': 0.29587036905322095,\n",
    " 'nox': 0.21044283483946369,\n",
    " 'rad': 0.45542971866712056,\n",
    " 'tax': 0.31716951943331151}\n",
    "````"
   ]
  },
  {
   "cell_type": "code",
   "execution_count": null,
   "metadata": {
    "collapsed": true
   },
   "outputs": [],
   "source": []
  }
 ],
 "metadata": {
  "kernelspec": {
   "display_name": "Python 2",
   "language": "python",
   "name": "python2"
  },
  "language_info": {
   "codemirror_mode": {
    "name": "ipython",
    "version": 2
   },
   "file_extension": ".py",
   "mimetype": "text/x-python",
   "name": "python",
   "nbconvert_exporter": "python",
   "pygments_lexer": "ipython2",
   "version": "2.7.8"
  }
 },
 "nbformat": 4,
 "nbformat_minor": 0
}
